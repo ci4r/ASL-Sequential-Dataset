{
 "cells": [
  {
   "cell_type": "code",
   "execution_count": 1,
   "metadata": {},
   "outputs": [
    {
     "name": "stdout",
     "output_type": "stream",
     "text": [
      "File to be created: Datasets/final_imit_RD-RA2_128.pkl\n"
     ]
    }
   ],
   "source": [
    "from random import shuffle\n",
    "import glob,h5py, cv2, scipy, pickle, itertools, re, gc\n",
    "import numpy as np\n",
    "from IPython.display import clear_output\n",
    "from pandas import read_csv\n",
    "from tensorflow.keras.utils import to_categorical\n",
    "from sklearn.model_selection import train_test_split\n",
    "from collections import Counter\n",
    "from tqdm import tqdm\n",
    "\n",
    "filename = 'Datasets/'+'final_imit_RD-RA2_128.pkl'\n",
    "print('File to be created: ' + filename)"
   ]
  },
  {
   "cell_type": "code",
   "execution_count": 2,
   "metadata": {},
   "outputs": [
    {
     "name": "stdout",
     "output_type": "stream",
     "text": [
      "Num. of label files: 1320\n",
      "1. /mnt/HDD01/rspl-admin/DATASETS/Fall Sequential/Outputs/10 dec emre mahbub/rangeDoppler/11050014_1607634027_2.avi\n",
      "2. /mnt/HDD01/rspl-admin/DATASETS/Fall Sequential/Outputs/10 dec emre mahbub/rangeDoppler/11010014_1607632426_2.avi\n",
      "3. /mnt/HDD01/rspl-admin/DATASETS/Fall Sequential/Outputs/10 dec emre mahbub/rangeDoppler/11050014_1607635095_2.avi\n",
      "4. /mnt/HDD01/rspl-admin/DATASETS/Fall Sequential/Outputs/10 dec emre mahbub/rangeDoppler/11040014_1607633760_5.avi\n",
      "5. /mnt/HDD01/rspl-admin/DATASETS/Fall Sequential/Outputs/10 dec emre mahbub/rangeDoppler/11030014_1607634656_1.avi\n"
     ]
    }
   ],
   "source": [
    "# load videos\n",
    "subjects = ['10 dec emre mahbub', '11 jan mahbub emre ladi', '12 jan ozgur mahbub ladi emre', \n",
    "            '13 jan ridvan ademola sean akthar emre', '14 jan ashwanth zeki', '15 apr ozgur',\n",
    "           '15 jan emin', '19 apr sean', '19 apr sevgi', '21 apr emin', '22 apr ladi', '22 apr sean',\n",
    "           '23 apr alperen', '23 apr mahbub', '5 apr sevgi']\n",
    "# subjects = ['6 apr blake', '15 apr darrin', '16 apr devon asl2', '20 apr caroline', '21 apr blake']\n",
    "mainpath = '/mnt/HDD01/rspl-admin/DATASETS/Fall Sequential/Outputs/'\n",
    "RD_files = []\n",
    "for i in range(len(subjects)):\n",
    "    addr = glob.glob(mainpath+subjects[i]+'/rangeDoppler/'+'*.avi')\n",
    "    RD_files.append(addr)\n",
    "RD_files = sum(RD_files, [])\n",
    "print('Num. of label files: '+str(len(RD_files)))\n",
    "for i in range(0,5):    \n",
    "    print(str(i+1)+'. '+RD_files[i])"
   ]
  },
  {
   "cell_type": "code",
   "execution_count": 3,
   "metadata": {},
   "outputs": [],
   "source": [
    "# load a single file as a numpy array\n",
    "def load_file(filepath):\n",
    "    dataframe = read_csv(filepath, header=None, delim_whitespace=True)\n",
    "    return np.array(dataframe.values)"
   ]
  },
  {
   "cell_type": "code",
   "execution_count": 4,
   "metadata": {},
   "outputs": [
    {
     "name": "stderr",
     "output_type": "stream",
     "text": [
      "100%|██████████| 1320/1320 [00:57<00:00, 23.01it/s]"
     ]
    },
    {
     "name": "stdout",
     "output_type": "stream",
     "text": [
      "(1320, 605)\n",
      "Counter({9: 212, 1: 212, 7: 212, 3: 212, 5: 208, 6: 53, 2: 53, 8: 53, 0: 53, 4: 52})\n"
     ]
    },
    {
     "name": "stderr",
     "output_type": "stream",
     "text": [
      "\n"
     ]
    }
   ],
   "source": [
    "labels = []\n",
    "common = '/mnt/HDD01/rspl-admin/DATASETS/Fall Sequential/Outputs/common labels/rangeDoppler/'\n",
    "cnt = []\n",
    "for i in tqdm(range(len(RD_files))):\n",
    "    seq = RD_files[i][-22]\n",
    "    it = RD_files[i][-5]\n",
    "    \n",
    "    if seq == '1' and it == '1':\n",
    "        labels.append(np.squeeze(load_file(common+'1_1.txt')))\n",
    "        cnt.append(0)\n",
    "    elif seq == '1' and it != '1':\n",
    "        labels.append(np.squeeze(load_file(common+'1_2to5.txt')))\n",
    "        cnt.append(1)\n",
    "    elif seq == '2' and it == '1':\n",
    "        labels.append(np.squeeze(load_file(common+'2_1.txt')))\n",
    "        cnt.append(2)\n",
    "    elif seq == '2' and it != '1':\n",
    "        labels.append(np.squeeze(load_file(common+'2_2to5.txt')))\n",
    "        cnt.append(3)\n",
    "    elif seq == '3' and it == '1':\n",
    "        labels.append(np.squeeze(load_file(common+'3_1.txt')))\n",
    "        cnt.append(4)\n",
    "    elif seq == '3' and it != '1':\n",
    "        labels.append(np.squeeze(load_file(common+'3_2to5.txt')))\n",
    "        cnt.append(5)\n",
    "    elif seq == '4' and it == '1':\n",
    "        labels.append(np.squeeze(load_file(common+'4_1.txt')))\n",
    "        cnt.append(6)\n",
    "    elif seq == '4' and it != '1':\n",
    "        labels.append(np.squeeze(load_file(common+'4_2to5.txt')))\n",
    "        cnt.append(7)\n",
    "    elif seq == '5' and it == '1':\n",
    "        labels.append(np.squeeze(load_file(common+'5_1.txt')))\n",
    "        cnt.append(8)\n",
    "    elif seq == '5' and it != '1':\n",
    "        labels.append(np.squeeze(load_file(common+'5_2to5.txt')))\n",
    "        cnt.append(9)\n",
    "labels = np.array(labels)\n",
    "print(labels.shape)\n",
    "print(Counter(cnt))"
   ]
  },
  {
   "cell_type": "code",
   "execution_count": 5,
   "metadata": {},
   "outputs": [
    {
     "name": "stdout",
     "output_type": "stream",
     "text": [
      "Num. of label files: 1320\n",
      "1. /mnt/HDD01/rspl-admin/DATASETS/Fall Sequential/Outputs/10 dec emre mahbub/rangeDOA/11050014_1607634027_2.avi\n",
      "2. /mnt/HDD01/rspl-admin/DATASETS/Fall Sequential/Outputs/10 dec emre mahbub/rangeDOA/11010014_1607632426_2.avi\n",
      "3. /mnt/HDD01/rspl-admin/DATASETS/Fall Sequential/Outputs/10 dec emre mahbub/rangeDOA/11050014_1607635095_2.avi\n",
      "4. /mnt/HDD01/rspl-admin/DATASETS/Fall Sequential/Outputs/10 dec emre mahbub/rangeDOA/11040014_1607633760_5.avi\n",
      "5. /mnt/HDD01/rspl-admin/DATASETS/Fall Sequential/Outputs/10 dec emre mahbub/rangeDOA/11030014_1607634656_1.avi\n"
     ]
    }
   ],
   "source": [
    "RA_files = []\n",
    "for i in range(len(RD_files)):\n",
    "    fname = RD_files[i].replace('rangeDoppler','rangeDOA')\n",
    "    RA_files.append(fname)\n",
    "    \n",
    "print('Num. of label files: '+str(len(RA_files)))\n",
    "for i in range(0,5):    \n",
    "    print(str(i+1)+'. '+RA_files[i])"
   ]
  },
  {
   "cell_type": "code",
   "execution_count": 6,
   "metadata": {},
   "outputs": [],
   "source": [
    "train_RD, test_RD, y_train, y_test, train_RA, test_RA = train_test_split(RD_files, labels, RA_files, test_size=0.2, random_state=1)"
   ]
  },
  {
   "cell_type": "code",
   "execution_count": 7,
   "metadata": {},
   "outputs": [],
   "source": [
    "def FrameCapture(path): \n",
    "      \n",
    "    # Path to video file \n",
    "    vidObj = cv2.VideoCapture(path) \n",
    "    video_length = int(vidObj.get(cv2.CAP_PROP_FRAME_COUNT))\n",
    "#     print (\"Number of frames: \", video_length)\n",
    "    # Used as counter variable \n",
    "    count = 0\n",
    "    success, frame = vidObj.read() \n",
    "    # checks whether frames were extracted \n",
    "#     success = 1\n",
    "    frames = []\n",
    "    while success: \n",
    "  \n",
    "        resized = cv2.resize(frame, (width,height), interpolation = cv2.INTER_LINEAR)\n",
    "        success, frame = vidObj.read() \n",
    "#         print('Read a new frame: ', success)\n",
    "        frames.append(resized) # .resized(width,height)\n",
    "        count += 1\n",
    "        if (count > (video_length-1)):\n",
    "            break\n",
    "    result = np.array([frames[i] for i in range(len(frames))])\n",
    "    return result"
   ]
  },
  {
   "cell_type": "code",
   "execution_count": 8,
   "metadata": {},
   "outputs": [],
   "source": [
    "def pad_video(video):\n",
    "    if video.shape[0] < num_frames:\n",
    "        cnt = 1\n",
    "        numpad = num_frames-video.shape[0]\n",
    "        video_padded = np.concatenate((video, np.zeros((numpad,video.shape[1],video.shape[2],video.shape[3]))), axis = 0)\n",
    "#         while video_padded.shape[0] < num_frames:\n",
    "#             video_padded = np.concatenate((video, video[-(num_frames-len(video)):]), axis = 0)\n",
    "#             print('Padding '+str(cnt)+'/'+str(num_frames-video.shape[0]))\n",
    "#             cnt += 1\n",
    "    else:\n",
    "        video_padded = video[:num_frames]\n",
    "#     video_padded = video[:-1]\n",
    "    return video_padded"
   ]
  },
  {
   "cell_type": "code",
   "execution_count": 9,
   "metadata": {},
   "outputs": [],
   "source": [
    "width, height, channels = 128, 128, 3 \n",
    "num_frames = 605"
   ]
  },
  {
   "cell_type": "code",
   "execution_count": 10,
   "metadata": {},
   "outputs": [
    {
     "data": {
      "text/plain": [
       "120"
      ]
     },
     "execution_count": 10,
     "metadata": {},
     "output_type": "execute_result"
    }
   ],
   "source": [
    "data = []\n",
    "data.append(y_train)\n",
    "data.append(y_test)\n",
    "del labels, RA_files, RD_files, y_train, y_test\n",
    "gc.collect()"
   ]
  },
  {
   "cell_type": "code",
   "execution_count": 11,
   "metadata": {},
   "outputs": [
    {
     "name": "stdout",
     "output_type": "stream",
     "text": [
      "__name__ 57\n",
      "__doc__ 113\n",
      "__package__ 16\n",
      "__loader__ 16\n",
      "__spec__ 16\n",
      "__builtin__ 80\n",
      "__builtins__ 80\n",
      "_ih 192\n",
      "_oh 240\n",
      "_dh 72\n",
      "In 192\n",
      "Out 240\n",
      "get_ipython 64\n",
      "exit 56\n",
      "quit 56\n",
      "_ 28\n",
      "__ 49\n",
      "___ 49\n",
      "_i 160\n",
      "_ii 104\n",
      "_iii 643\n",
      "_i1 469\n",
      "shuffle 64\n",
      "glob 80\n",
      "h5py 80\n",
      "cv2 80\n",
      "scipy 80\n",
      "pickle 80\n",
      "itertools 80\n",
      "re 80\n",
      "gc 80\n",
      "np 80\n",
      "clear_output 136\n",
      "read_csv 136\n",
      "to_categorical 136\n",
      "train_test_split 136\n",
      "Counter 1056\n",
      "tqdm 2000\n",
      "filename 83\n",
      "_i2 865\n",
      "subjects 184\n",
      "mainpath 104\n",
      "i 28\n",
      "addr 296\n",
      "_i3 220\n",
      "load_file 136\n",
      "_i4 1536\n",
      "common 131\n",
      "cnt 11520\n",
      "seq 58\n",
      "it 58\n",
      "_i5 296\n",
      "fname 150\n",
      "_i6 180\n",
      "train_RD 9024\n",
      "test_RD 2216\n",
      "train_RA 9024\n",
      "test_RA 2216\n",
      "_i7 822\n",
      "FrameCapture 136\n",
      "_i8 643\n",
      "pad_video 136\n",
      "_i9 104\n",
      "width 28\n",
      "height 28\n",
      "channels 28\n",
      "num_frames 28\n",
      "_i10 160\n",
      "data 96\n",
      "_10 28\n",
      "_i11 212\n",
      "print_function 56\n",
      "sys 80\n"
     ]
    }
   ],
   "source": [
    "from __future__ import print_function  # for Python2\n",
    "import sys\n",
    "\n",
    "local_vars = list(locals().items())\n",
    "for var, obj in local_vars:\n",
    "    print(var, sys.getsizeof(obj))"
   ]
  },
  {
   "cell_type": "code",
   "execution_count": 12,
   "metadata": {},
   "outputs": [
    {
     "name": "stdout",
     "output_type": "stream",
     "text": [
      "num steps: 120\n",
      "desired width: 15360\n"
     ]
    }
   ],
   "source": [
    "dur = 24 # sec\n",
    "win = 0.2 # win len\n",
    "n_step = int(dur/win)\n",
    "des_w = width*n_step\n",
    "des_h = height\n",
    "print('num steps: '+str(n_step))\n",
    "print('desired width: '+str(des_w))"
   ]
  },
  {
   "cell_type": "code",
   "execution_count": 13,
   "metadata": {
    "scrolled": true
   },
   "outputs": [
    {
     "name": "stdout",
     "output_type": "stream",
     "text": [
      "Loading train video 1056/1056 /mnt/HDD01/rspl-admin/DATASETS/Fall Sequential/Outputs/22 apr sean/rangeDOA/11010002_1619121381_5.avi\n"
     ]
    },
    {
     "ename": "MemoryError",
     "evalue": "Unable to allocate 234. GiB for an array with shape (1056, 605, 128, 128, 3) and data type float64",
     "output_type": "error",
     "traceback": [
      "\u001b[0;31m---------------------------------------------------------------------------\u001b[0m",
      "\u001b[0;31mMemoryError\u001b[0m                               Traceback (most recent call last)",
      "\u001b[0;32m<ipython-input-13-65a57e52af4a>\u001b[0m in \u001b[0;36m<module>\u001b[0;34m\u001b[0m\n\u001b[1;32m     26\u001b[0m \u001b[0;32mdel\u001b[0m \u001b[0mtrain_RA\u001b[0m\u001b[0;34m\u001b[0m\u001b[0;34m\u001b[0m\u001b[0m\n\u001b[1;32m     27\u001b[0m \u001b[0mgc\u001b[0m\u001b[0;34m.\u001b[0m\u001b[0mcollect\u001b[0m\u001b[0;34m(\u001b[0m\u001b[0;34m)\u001b[0m\u001b[0;34m\u001b[0m\u001b[0;34m\u001b[0m\u001b[0m\n\u001b[0;32m---> 28\u001b[0;31m \u001b[0mdata\u001b[0m\u001b[0;34m.\u001b[0m\u001b[0mappend\u001b[0m\u001b[0;34m(\u001b[0m\u001b[0mnp\u001b[0m\u001b[0;34m.\u001b[0m\u001b[0marray\u001b[0m\u001b[0;34m(\u001b[0m\u001b[0mvideos\u001b[0m\u001b[0;34m)\u001b[0m\u001b[0;34m/\u001b[0m\u001b[0;36m255.\u001b[0m\u001b[0;34m)\u001b[0m\u001b[0;34m\u001b[0m\u001b[0;34m\u001b[0m\u001b[0m\n\u001b[0m\u001b[1;32m     29\u001b[0m \u001b[0;34m\u001b[0m\u001b[0m\n\u001b[1;32m     30\u001b[0m \u001b[0;31m# test\u001b[0m\u001b[0;34m\u001b[0m\u001b[0;34m\u001b[0m\u001b[0;34m\u001b[0m\u001b[0m\n",
      "\u001b[0;31mMemoryError\u001b[0m: Unable to allocate 234. GiB for an array with shape (1056, 605, 128, 128, 3) and data type float64"
     ]
    }
   ],
   "source": [
    "# train\n",
    "videos = []\n",
    "cnt = 1\n",
    "for video in train_RD:\n",
    "    clear_output(wait=True)\n",
    "    print('Loading train video '+str(cnt)+'/'+str(len(train_RD))+ ' '+video)#,end=\"\\r\")\n",
    "    vid = pad_video(FrameCapture(video))\n",
    "#     vid = pad_video(FrameCapture(video))[0:600:5]\n",
    "    videos.append(vid)\n",
    "    cnt += 1\n",
    "del train_RD\n",
    "gc.collect()\n",
    "data.append(np.array(videos)/255.)\n",
    "\n",
    "videos = []\n",
    "cnt = 1\n",
    "for video in train_RA:\n",
    "    clear_output(wait=True)\n",
    "    print('Loading train video '+str(cnt)+'/'+str(len(train_RA))+ ' '+video)#,end=\"\\r\")\n",
    "#     video_di = pad_video(FrameCapture(video))\n",
    "#     vid = np.reshape(pad_video(FrameCapture(video))[0:600],(n_step, 5, des_h, width, 3))\n",
    "    vid = pad_video(FrameCapture(video))\n",
    "#     vid = pad_video(FrameCapture(video))[0:600:5]\n",
    "    videos.append(vid)\n",
    "    cnt += 1\n",
    "del train_RA\n",
    "gc.collect()\n",
    "data.append(np.array(videos)/255.)\n",
    "\n",
    "# test\n",
    "videos = []\n",
    "cnt = 1\n",
    "for video in test_RD:\n",
    "    clear_output(wait=True)\n",
    "    print('Loading test video '+str(cnt)+'/'+str(len(test_RD))+ ' '+video)#,end=\"\\r\")\n",
    "#     video_di = pad_video(FrameCapture(video))\n",
    "#     vid = np.reshape(pad_video(FrameCapture(video))[0:600],(n_step, 5, des_h, width, 3))\n",
    "#     vid = pad_video(FrameCapture(video))[0:600:5]\n",
    "    vid = pad_video(FrameCapture(video))\n",
    "    videos.append(vid)\n",
    "    cnt += 1\n",
    "del test_RD\n",
    "gc.collect()\n",
    "data.append(np.array(videos)/255.)\n",
    "\n",
    "videos = []\n",
    "cnt = 1\n",
    "for video in test_RA:\n",
    "    clear_output(wait=True)\n",
    "    print('Loading test video '+str(cnt)+'/'+str(len(test_RA))+ ' '+video)#,end=\"\\r\")\n",
    "#     video_di = pad_video(FrameCapture(video))\n",
    "#     vid = np.reshape(pad_video(FrameCapture(video))[0:600],(n_step, 5, des_h, width, 3))\n",
    "#     vid = pad_video(FrameCapture(video))[0:600:5]\n",
    "    vid = pad_video(FrameCapture(video))\n",
    "    videos.append(vid)\n",
    "    cnt += 1\n",
    "del test_RA\n",
    "gc.collect()\n",
    "data.append(np.array(videos)/255.)\n",
    "del videos\n",
    "gc.collect()"
   ]
  },
  {
   "cell_type": "code",
   "execution_count": null,
   "metadata": {},
   "outputs": [],
   "source": [
    "print(data[0].shape)\n",
    "print(data[1].shape)\n",
    "print(data[2].shape)\n",
    "print(data[3].shape)\n",
    "print(data[4].shape)\n",
    "print(data[5].shape)"
   ]
  },
  {
   "cell_type": "code",
   "execution_count": null,
   "metadata": {
    "scrolled": true
   },
   "outputs": [],
   "source": [
    "# data = [train_RD_videos, test_RD_videos, y_train, y_test, train_RA_videos, test_RA_videos]\n",
    "with open(filename, 'wb') as output:  # Overwrites any existing file.\n",
    "        pickle.dump(data, output, pickle.HIGHEST_PROTOCOL)\n",
    "print(filename+' created.')"
   ]
  },
  {
   "cell_type": "code",
   "execution_count": null,
   "metadata": {},
   "outputs": [],
   "source": [
    "# with open(filename, 'rb') as input:\n",
    "#     x = pickle.load(input)"
   ]
  },
  {
   "cell_type": "code",
   "execution_count": null,
   "metadata": {},
   "outputs": [],
   "source": [
    "# x[2][0].shape"
   ]
  },
  {
   "cell_type": "code",
   "execution_count": null,
   "metadata": {},
   "outputs": [],
   "source": [
    "from __future__ import print_function  # for Python2\n",
    "import sys\n",
    "\n",
    "local_vars = list(locals().items())\n",
    "for var, obj in local_vars:\n",
    "    print(var, sys.getsizeof(obj))"
   ]
  },
  {
   "cell_type": "code",
   "execution_count": null,
   "metadata": {},
   "outputs": [],
   "source": []
  }
 ],
 "metadata": {
  "kernelspec": {
   "display_name": "Python 3",
   "language": "python",
   "name": "python3"
  },
  "language_info": {
   "codemirror_mode": {
    "name": "ipython",
    "version": 3
   },
   "file_extension": ".py",
   "mimetype": "text/x-python",
   "name": "python",
   "nbconvert_exporter": "python",
   "pygments_lexer": "ipython3",
   "version": "3.7.2"
  }
 },
 "nbformat": 4,
 "nbformat_minor": 2
}
