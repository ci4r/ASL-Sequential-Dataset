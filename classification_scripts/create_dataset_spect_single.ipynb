{
 "cells": [
  {
   "cell_type": "code",
   "execution_count": 1,
   "metadata": {
    "scrolled": true
   },
   "outputs": [
    {
     "name": "stdout",
     "output_type": "stream",
     "text": [
      "File to be created: Datasets/All_subjects_spect_single.hdf5\n"
     ]
    }
   ],
   "source": [
    "from random import shuffle\n",
    "import glob,h5py, cv2\n",
    "import numpy as np\n",
    "from numpy import dstack\n",
    "from IPython.display import clear_output\n",
    "from pandas import read_csv\n",
    "from tensorflow.keras.utils import to_categorical\n",
    "from sklearn.model_selection import train_test_split\n",
    "from collections import Counter\n",
    "from scipy.signal import resample\n",
    "width = 128\n",
    "height = 128\n",
    "channels = 3\n",
    "duration = 24.2\n",
    "fps = 25\n",
    "sub = 'All_subjects'\n",
    "num_frames = duration*fps # axis = 1 dimension, also the # of frames are going to be padded to this value.\n",
    "filename = 'Datasets/'+sub+'_spect_single.hdf5'\n",
    "print('File to be created: ' + filename)"
   ]
  },
  {
   "cell_type": "code",
   "execution_count": 5,
   "metadata": {
    "scrolled": true
   },
   "outputs": [
    {
     "name": "stdout",
     "output_type": "stream",
     "text": [
      "Num. of label files: 659\n",
      "1. /mnt/HDD01/rspl-admin/DATASETS/Fall Sequential/Outputs/10 dec emre mahbub/labels/microDoppler/11010014_1607632426_1.txt\n",
      "2. /mnt/HDD01/rspl-admin/DATASETS/Fall Sequential/Outputs/10 dec emre mahbub/labels/microDoppler/11010014_1607632426_2.txt\n",
      "3. /mnt/HDD01/rspl-admin/DATASETS/Fall Sequential/Outputs/10 dec emre mahbub/labels/microDoppler/11010014_1607632426_3.txt\n",
      "4. /mnt/HDD01/rspl-admin/DATASETS/Fall Sequential/Outputs/10 dec emre mahbub/labels/microDoppler/11010014_1607632426_4.txt\n",
      "5. /mnt/HDD01/rspl-admin/DATASETS/Fall Sequential/Outputs/10 dec emre mahbub/labels/microDoppler/11010014_1607632426_5.txt\n"
     ]
    }
   ],
   "source": [
    "# load labels\n",
    "trainy = '/mnt/HDD01/rspl-admin/DATASETS/Fall Sequential/Outputs/*/labels/microDoppler/*.txt'\n",
    "trainy_files = sorted(glob.glob(trainy))\n",
    "print('Num. of label files: '+str(len(trainy_files)))\n",
    "for i in range(0,5):\n",
    "    print(str(i+1)+'. ' +trainy_files[i])"
   ]
  },
  {
   "cell_type": "code",
   "execution_count": 7,
   "metadata": {},
   "outputs": [
    {
     "name": "stdout",
     "output_type": "stream",
     "text": [
      "Num. of label files: 659\n",
      "1. /mnt/HDD01/rspl-admin/DATASETS/Fall Sequential/Outputs/10 dec emre mahbub/microDoppler/11010014_1607632426_1.png\n",
      "2. /mnt/HDD01/rspl-admin/DATASETS/Fall Sequential/Outputs/10 dec emre mahbub/microDoppler/11010014_1607632426_2.png\n",
      "3. /mnt/HDD01/rspl-admin/DATASETS/Fall Sequential/Outputs/10 dec emre mahbub/microDoppler/11010014_1607632426_3.png\n",
      "4. /mnt/HDD01/rspl-admin/DATASETS/Fall Sequential/Outputs/10 dec emre mahbub/microDoppler/11010014_1607632426_4.png\n",
      "5. /mnt/HDD01/rspl-admin/DATASETS/Fall Sequential/Outputs/10 dec emre mahbub/microDoppler/11010014_1607632426_5.png\n"
     ]
    }
   ],
   "source": [
    "# load images\n",
    "trainpath = '/mnt/HDD01/rspl-admin/DATASETS/Fall Sequential/Outputs/*/microDoppler/*.png'\n",
    "train_files2 = sorted(glob.glob(trainpath))\n",
    "len(train_files2)\n",
    "train_files2[0]\n",
    "train_files = []\n",
    "for i in range(0,len(trainy_files)):\n",
    "#     fname = trainy_files[i][-23:].replace(\"txt\",\"\") + \"png\"\n",
    "    fname = trainy_files[i][-30:].replace(\"txt\",\"png\") # -23 for nonbinary labels\n",
    "    fname = fname.replace('_binary','')\n",
    "    idx = [j for j, s in enumerate(train_files2) if fname in s] #train_files2.index(fname) \n",
    "    if len(idx) == 1:\n",
    "        train_files.append(train_files2[idx[0]])\n",
    "    else:\n",
    "        print('2 identical filenames at i=',str(i))\n",
    "print('Num. of label files: '+str(len(train_files)))\n",
    "for i in range(0,5):    \n",
    "    print(str(i+1)+'. '+train_files[i])"
   ]
  },
  {
   "cell_type": "markdown",
   "metadata": {},
   "source": [
    "## Load images"
   ]
  },
  {
   "cell_type": "code",
   "execution_count": 9,
   "metadata": {},
   "outputs": [
    {
     "name": "stdout",
     "output_type": "stream",
     "text": [
      "Loading image 659/659 /mnt/HDD01/rspl-admin/DATASETS/Fall Sequential/Outputs/15 jan emin/microDoppler/11050008_1610731475_1.png\n"
     ]
    },
    {
     "data": {
      "text/plain": [
       "(659, 128, 128, 3)"
      ]
     },
     "execution_count": 9,
     "metadata": {},
     "output_type": "execute_result"
    }
   ],
   "source": [
    "cnt = 1\n",
    "images = []\n",
    "winsize = 0.2 # sec\n",
    "totalwin = int(24.2/winsize)\n",
    "for image in train_files:\n",
    "    img = cv2.imread(image)\n",
    "    img = cv2.resize(img, (width, height), interpolation=cv2.INTER_CUBIC)# resize to (128,128)\n",
    "    img = cv2.cvtColor(img, cv2.COLOR_BGR2RGB) # cv2 load images as BGR, convert it to RGB\n",
    "    clear_output(wait=True)\n",
    "    print('Loading image '+str(cnt)+'/'+str(len(train_files))+ ' '+image)\n",
    "    images.append(img)  \n",
    "    cnt += 1\n",
    "    \n",
    "images = np.array(images)/255.\n",
    "images.shape"
   ]
  },
  {
   "cell_type": "code",
   "execution_count": 10,
   "metadata": {},
   "outputs": [],
   "source": [
    "x_train, x_test = train_test_split(images, test_size=0.2, random_state=1)"
   ]
  },
  {
   "cell_type": "code",
   "execution_count": 12,
   "metadata": {},
   "outputs": [
    {
     "name": "stdout",
     "output_type": "stream",
     "text": [
      "Datasets/All_subjects_spect_single.hdf5 created.\n"
     ]
    }
   ],
   "source": [
    "f = h5py.File(filename, mode='w')\n",
    "f.create_dataset(\"train_img\", x_train.shape, np.uint8)\n",
    "f.create_dataset(\"test_img\", x_test.shape, np.uint8)  \n",
    "\n",
    "f[\"train_img\"][...] = x_train\n",
    "f[\"test_img\"][...] = x_test\n",
    "f.close()\n",
    "print(filename+' created.')"
   ]
  },
  {
   "cell_type": "code",
   "execution_count": null,
   "metadata": {},
   "outputs": [],
   "source": []
  }
 ],
 "metadata": {
  "kernelspec": {
   "display_name": "Python 3",
   "language": "python",
   "name": "python3"
  },
  "language_info": {
   "codemirror_mode": {
    "name": "ipython",
    "version": 3
   },
   "file_extension": ".py",
   "mimetype": "text/x-python",
   "name": "python",
   "nbconvert_exporter": "python",
   "pygments_lexer": "ipython3",
   "version": "3.7.2"
  }
 },
 "nbformat": 4,
 "nbformat_minor": 2
}
