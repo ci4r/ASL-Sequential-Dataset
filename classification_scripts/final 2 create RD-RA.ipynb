{
 "cells": [
  {
   "cell_type": "code",
   "execution_count": 20,
   "metadata": {},
   "outputs": [
    {
     "name": "stdout",
     "output_type": "stream",
     "text": [
      "File to be created: Datasets/final_imit_RD-RA2_128.pkl\n"
     ]
    }
   ],
   "source": [
    "from random import shuffle\n",
    "import glob,h5py, cv2, scipy, pickle, itertools, re, gc\n",
    "import numpy as np\n",
    "from IPython.display import clear_output\n",
    "from pandas import read_csv\n",
    "from tensorflow.keras.utils import to_categorical\n",
    "from sklearn.model_selection import train_test_split\n",
    "from collections import Counter\n",
    "from tqdm import tqdm\n",
    "\n",
    "filename = 'Datasets/'+'final_imit_RD-RA2_128.pkl'\n",
    "print('File to be created: ' + filename)"
   ]
  },
  {
   "cell_type": "code",
   "execution_count": 21,
   "metadata": {},
   "outputs": [
    {
     "name": "stdout",
     "output_type": "stream",
     "text": [
      "Num. of label files: 1320\n",
      "1. /mnt/HDD01/rspl-admin/DATASETS/Fall Sequential/Outputs/10 dec emre mahbub/rangeDoppler/11050014_1607634027_2.avi\n",
      "2. /mnt/HDD01/rspl-admin/DATASETS/Fall Sequential/Outputs/10 dec emre mahbub/rangeDoppler/11010014_1607632426_2.avi\n",
      "3. /mnt/HDD01/rspl-admin/DATASETS/Fall Sequential/Outputs/10 dec emre mahbub/rangeDoppler/11050014_1607635095_2.avi\n",
      "4. /mnt/HDD01/rspl-admin/DATASETS/Fall Sequential/Outputs/10 dec emre mahbub/rangeDoppler/11040014_1607633760_5.avi\n",
      "5. /mnt/HDD01/rspl-admin/DATASETS/Fall Sequential/Outputs/10 dec emre mahbub/rangeDoppler/11030014_1607634656_1.avi\n"
     ]
    }
   ],
   "source": [
    "# load videos\n",
    "subjects = ['10 dec emre mahbub', '11 jan mahbub emre ladi', '12 jan ozgur mahbub ladi emre', \n",
    "            '13 jan ridvan ademola sean akthar emre', '14 jan ashwanth zeki', '15 apr ozgur',\n",
    "           '15 jan emin', '19 apr sean', '19 apr sevgi', '21 apr emin', '22 apr ladi', '22 apr sean',\n",
    "           '23 apr alperen', '23 apr mahbub', '5 apr sevgi']\n",
    "# subjects = ['6 apr blake', '15 apr darrin', '16 apr devon asl2', '20 apr caroline', '21 apr blake']\n",
    "mainpath = '/mnt/HDD01/rspl-admin/DATASETS/Fall Sequential/Outputs/'\n",
    "RD_files = []\n",
    "for i in range(len(subjects)):\n",
    "    addr = glob.glob(mainpath+subjects[i]+'/rangeDoppler/'+'*.avi')\n",
    "    RD_files.append(addr)\n",
    "RD_files = sum(RD_files, [])\n",
    "print('Num. of label files: '+str(len(RD_files)))\n",
    "for i in range(0,5):    \n",
    "    print(str(i+1)+'. '+RD_files[i])"
   ]
  },
  {
   "cell_type": "code",
   "execution_count": 22,
   "metadata": {},
   "outputs": [],
   "source": [
    "# load a single file as a numpy array\n",
    "def load_file(filepath):\n",
    "    dataframe = read_csv(filepath, header=None, delim_whitespace=True)\n",
    "    return np.array(dataframe.values)"
   ]
  },
  {
   "cell_type": "code",
   "execution_count": 23,
   "metadata": {},
   "outputs": [],
   "source": [
    "# labels = []\n",
    "# common = '/mnt/HDD01/rspl-admin/DATASETS/Fall Sequential/Outputs/common labels/rangeDoppler/'\n",
    "# cnt = []\n",
    "# for i in tqdm(range(len(RD_files))):\n",
    "#     seq = RD_files[i][-22]\n",
    "#     it = RD_files[i][-5]\n",
    "    \n",
    "#     if seq == '1' and it == '1':\n",
    "#         labels.append(np.squeeze(load_file(common+'1_1.txt')))\n",
    "#         cnt.append(0)\n",
    "#     elif seq == '1' and it != '1':\n",
    "#         labels.append(np.squeeze(load_file(common+'1_2to5.txt')))\n",
    "#         cnt.append(1)\n",
    "#     elif seq == '2' and it == '1':\n",
    "#         labels.append(np.squeeze(load_file(common+'2_1.txt')))\n",
    "#         cnt.append(2)\n",
    "#     elif seq == '2' and it != '1':\n",
    "#         labels.append(np.squeeze(load_file(common+'2_2to5.txt')))\n",
    "#         cnt.append(3)\n",
    "#     elif seq == '3' and it == '1':\n",
    "#         labels.append(np.squeeze(load_file(common+'3_1.txt')))\n",
    "#         cnt.append(4)\n",
    "#     elif seq == '3' and it != '1':\n",
    "#         labels.append(np.squeeze(load_file(common+'3_2to5.txt')))\n",
    "#         cnt.append(5)\n",
    "#     elif seq == '4' and it == '1':\n",
    "#         labels.append(np.squeeze(load_file(common+'4_1.txt')))\n",
    "#         cnt.append(6)\n",
    "#     elif seq == '4' and it != '1':\n",
    "#         labels.append(np.squeeze(load_file(common+'4_2to5.txt')))\n",
    "#         cnt.append(7)\n",
    "#     elif seq == '5' and it == '1':\n",
    "#         labels.append(np.squeeze(load_file(common+'5_1.txt')))\n",
    "#         cnt.append(8)\n",
    "#     elif seq == '5' and it != '1':\n",
    "#         labels.append(np.squeeze(load_file(common+'5_2to5.txt')))\n",
    "#         cnt.append(9)\n",
    "# labels = np.array(labels)\n",
    "# print(labels.shape)\n",
    "# print(Counter(cnt))"
   ]
  },
  {
   "cell_type": "code",
   "execution_count": 24,
   "metadata": {},
   "outputs": [
    {
     "name": "stdout",
     "output_type": "stream",
     "text": [
      "Num. of label files: 1320\n",
      "1. /mnt/HDD01/rspl-admin/DATASETS/Fall Sequential/Outputs/10 dec emre mahbub/rangeDOA/11050014_1607634027_2.avi\n",
      "2. /mnt/HDD01/rspl-admin/DATASETS/Fall Sequential/Outputs/10 dec emre mahbub/rangeDOA/11010014_1607632426_2.avi\n",
      "3. /mnt/HDD01/rspl-admin/DATASETS/Fall Sequential/Outputs/10 dec emre mahbub/rangeDOA/11050014_1607635095_2.avi\n",
      "4. /mnt/HDD01/rspl-admin/DATASETS/Fall Sequential/Outputs/10 dec emre mahbub/rangeDOA/11040014_1607633760_5.avi\n",
      "5. /mnt/HDD01/rspl-admin/DATASETS/Fall Sequential/Outputs/10 dec emre mahbub/rangeDOA/11030014_1607634656_1.avi\n"
     ]
    }
   ],
   "source": [
    "RA_files = []\n",
    "for i in range(len(RD_files)):\n",
    "    fname = RD_files[i].replace('rangeDoppler','rangeDOA')\n",
    "    RA_files.append(fname)\n",
    "    \n",
    "print('Num. of label files: '+str(len(RA_files)))\n",
    "for i in range(0,5):    \n",
    "    print(str(i+1)+'. '+RA_files[i])"
   ]
  },
  {
   "cell_type": "code",
   "execution_count": 25,
   "metadata": {},
   "outputs": [],
   "source": [
    "train_RD, test_RD, train_RA, test_RA = train_test_split(RD_files, RA_files, test_size=0.2, random_state=1)\n",
    "\n",
    "train_RD = train_RD[0:800]\n",
    "train_RA = train_RA[0:800]\n",
    "test_RD = test_RD[0:200]\n",
    "test_RA = test_RA[0:200]"
   ]
  },
  {
   "cell_type": "code",
   "execution_count": 26,
   "metadata": {},
   "outputs": [],
   "source": [
    "def FrameCapture(path): \n",
    "      \n",
    "    # Path to video file \n",
    "    vidObj = cv2.VideoCapture(path) \n",
    "    video_length = int(vidObj.get(cv2.CAP_PROP_FRAME_COUNT))\n",
    "#     print (\"Number of frames: \", video_length)\n",
    "    # Used as counter variable \n",
    "    count = 0\n",
    "    success, frame = vidObj.read() \n",
    "    # checks whether frames were extracted \n",
    "#     success = 1\n",
    "    frames = []\n",
    "    while success: \n",
    "  \n",
    "        resized = cv2.resize(frame, (width,height), interpolation = cv2.INTER_LINEAR)\n",
    "        success, frame = vidObj.read() \n",
    "#         print('Read a new frame: ', success)\n",
    "        frames.append(resized) # .resized(width,height)\n",
    "        count += 1\n",
    "        if (count > (video_length-1)):\n",
    "            break\n",
    "    result = np.array([frames[i] for i in range(len(frames))])\n",
    "    return result"
   ]
  },
  {
   "cell_type": "code",
   "execution_count": 27,
   "metadata": {},
   "outputs": [],
   "source": [
    "def pad_video(video):\n",
    "    if video.shape[0] < num_frames:\n",
    "        cnt = 1\n",
    "        numpad = num_frames-video.shape[0]\n",
    "        video_padded = np.concatenate((video, np.zeros((numpad,video.shape[1],video.shape[2],video.shape[3]))), axis = 0)\n",
    "#         while video_padded.shape[0] < num_frames:\n",
    "#             video_padded = np.concatenate((video, video[-(num_frames-len(video)):]), axis = 0)\n",
    "#             print('Padding '+str(cnt)+'/'+str(num_frames-video.shape[0]))\n",
    "#             cnt += 1\n",
    "    else:\n",
    "        video_padded = video[:num_frames]\n",
    "#     video_padded = video[:-1]\n",
    "    return video_padded"
   ]
  },
  {
   "cell_type": "code",
   "execution_count": 28,
   "metadata": {},
   "outputs": [],
   "source": [
    "width, height, channels = 128, 128, 3 \n",
    "num_frames = 605"
   ]
  },
  {
   "cell_type": "code",
   "execution_count": 29,
   "metadata": {},
   "outputs": [
    {
     "data": {
      "text/plain": [
       "208"
      ]
     },
     "execution_count": 29,
     "metadata": {},
     "output_type": "execute_result"
    }
   ],
   "source": [
    "data = []\n",
    "# data.append(y_train)\n",
    "# data.append(y_test)\n",
    "del RA_files, RD_files\n",
    "gc.collect()"
   ]
  },
  {
   "cell_type": "code",
   "execution_count": 30,
   "metadata": {},
   "outputs": [],
   "source": [
    "# from __future__ import print_function  # for Python2\n",
    "# import sys\n",
    "\n",
    "# local_vars = list(locals().items())\n",
    "# for var, obj in local_vars:\n",
    "#     print(var, sys.getsizeof(obj))"
   ]
  },
  {
   "cell_type": "code",
   "execution_count": 31,
   "metadata": {},
   "outputs": [
    {
     "name": "stdout",
     "output_type": "stream",
     "text": [
      "num steps: 120\n",
      "desired width: 15360\n"
     ]
    }
   ],
   "source": [
    "dur = 24 # sec\n",
    "win = 0.2 # win len\n",
    "n_step = int(dur/win)\n",
    "des_w = width*n_step\n",
    "des_h = height\n",
    "print('num steps: '+str(n_step))\n",
    "print('desired width: '+str(des_w))"
   ]
  },
  {
   "cell_type": "code",
   "execution_count": 32,
   "metadata": {
    "scrolled": true
   },
   "outputs": [
    {
     "name": "stdout",
     "output_type": "stream",
     "text": [
      "Loading test video 200/200 /mnt/HDD01/rspl-admin/DATASETS/Fall Sequential/Outputs/19 apr sevgi/rangeDOA/11030001_1618860280_3.avi\n"
     ]
    },
    {
     "data": {
      "text/plain": [
       "0"
      ]
     },
     "execution_count": 32,
     "metadata": {},
     "output_type": "execute_result"
    }
   ],
   "source": [
    "# train\n",
    "videos = []\n",
    "cnt = 1\n",
    "for video in train_RD:\n",
    "    clear_output(wait=True)\n",
    "    print('Loading train video '+str(cnt)+'/'+str(len(train_RD))+ ' '+video)#,end=\"\\r\")\n",
    "    vid = pad_video(FrameCapture(video))\n",
    "#     vid = pad_video(FrameCapture(video))[0:600:5]\n",
    "    videos.append(vid)\n",
    "    cnt += 1\n",
    "del train_RD\n",
    "gc.collect()\n",
    "data.append(np.array(videos)/255.)\n",
    "del videos\n",
    "gc.collect()\n",
    "\n",
    "videos = []\n",
    "cnt = 1\n",
    "for video in train_RA:\n",
    "    clear_output(wait=True)\n",
    "    print('Loading train video '+str(cnt)+'/'+str(len(train_RA))+ ' '+video)#,end=\"\\r\")\n",
    "#     video_di = pad_video(FrameCapture(video))\n",
    "#     vid = np.reshape(pad_video(FrameCapture(video))[0:600],(n_step, 5, des_h, width, 3))\n",
    "    vid = pad_video(FrameCapture(video))\n",
    "#     vid = pad_video(FrameCapture(video))[0:600:5]\n",
    "    videos.append(vid)\n",
    "    cnt += 1\n",
    "del train_RA\n",
    "gc.collect()\n",
    "data.append(np.array(videos)/255.)\n",
    "del videos\n",
    "gc.collect()\n",
    "\n",
    "# test\n",
    "videos = []\n",
    "cnt = 1\n",
    "for video in test_RD:\n",
    "    clear_output(wait=True)\n",
    "    print('Loading test video '+str(cnt)+'/'+str(len(test_RD))+ ' '+video)#,end=\"\\r\")\n",
    "#     video_di = pad_video(FrameCapture(video))\n",
    "#     vid = np.reshape(pad_video(FrameCapture(video))[0:600],(n_step, 5, des_h, width, 3))\n",
    "#     vid = pad_video(FrameCapture(video))[0:600:5]\n",
    "    vid = pad_video(FrameCapture(video))\n",
    "    videos.append(vid)\n",
    "    cnt += 1\n",
    "del test_RD\n",
    "gc.collect()\n",
    "data.append(np.array(videos)/255.)\n",
    "del videos\n",
    "gc.collect()\n",
    "\n",
    "videos = []\n",
    "cnt = 1\n",
    "for video in test_RA:\n",
    "    clear_output(wait=True)\n",
    "    print('Loading test video '+str(cnt)+'/'+str(len(test_RA))+ ' '+video)#,end=\"\\r\")\n",
    "#     video_di = pad_video(FrameCapture(video))\n",
    "#     vid = np.reshape(pad_video(FrameCapture(video))[0:600],(n_step, 5, des_h, width, 3))\n",
    "#     vid = pad_video(FrameCapture(video))[0:600:5]\n",
    "    vid = pad_video(FrameCapture(video))\n",
    "    videos.append(vid)\n",
    "    cnt += 1\n",
    "del test_RA\n",
    "gc.collect()\n",
    "data.append(np.array(videos)/255.)\n",
    "del videos\n",
    "gc.collect()"
   ]
  },
  {
   "cell_type": "code",
   "execution_count": 33,
   "metadata": {},
   "outputs": [],
   "source": [
    "# # test\n",
    "# videos = []\n",
    "# cnt = 1\n",
    "# test_RD = test_RD[0:150]\n",
    "# for video in test_RD:\n",
    "#     clear_output(wait=True)\n",
    "#     print('Loading test video '+str(cnt)+'/'+str(len(test_RD))+ ' '+video)#,end=\"\\r\")\n",
    "# #     video_di = pad_video(FrameCapture(video))\n",
    "# #     vid = np.reshape(pad_video(FrameCapture(video))[0:600],(n_step, 5, des_h, width, 3))\n",
    "# #     vid = pad_video(FrameCapture(video))[0:600:5]\n",
    "#     vid = pad_video(FrameCapture(video))\n",
    "#     videos.append(vid)\n",
    "#     cnt += 1\n",
    "# del test_RD\n",
    "# gc.collect()\n",
    "# data.append(np.array(videos)/255.)\n",
    "# del videos\n",
    "# gc.collect()\n",
    "\n",
    "# videos = []\n",
    "# cnt = 1\n",
    "# test_RA = test_RA[0:150]\n",
    "# for video in test_RA:\n",
    "#     clear_output(wait=True)\n",
    "#     print('Loading test video '+str(cnt)+'/'+str(len(test_RA))+ ' '+video)#,end=\"\\r\")\n",
    "# #     video_di = pad_video(FrameCapture(video))\n",
    "# #     vid = np.reshape(pad_video(FrameCapture(video))[0:600],(n_step, 5, des_h, width, 3))\n",
    "# #     vid = pad_video(FrameCapture(video))[0:600:5]\n",
    "#     vid = pad_video(FrameCapture(video))\n",
    "#     videos.append(vid)\n",
    "#     cnt += 1\n",
    "# del test_RA\n",
    "# gc.collect()\n",
    "# data.append(np.array(videos)/255.)\n",
    "# del videos\n",
    "# gc.collect()"
   ]
  },
  {
   "cell_type": "code",
   "execution_count": 34,
   "metadata": {},
   "outputs": [
    {
     "name": "stdout",
     "output_type": "stream",
     "text": [
      "(800, 605, 128, 128, 3)\n",
      "(800, 605, 128, 128, 3)\n",
      "(200, 605, 128, 128, 3)\n",
      "(200, 605, 128, 128, 3)\n"
     ]
    }
   ],
   "source": [
    "print(data[0].shape)\n",
    "print(data[1].shape)\n",
    "print(data[2].shape)\n",
    "print(data[3].shape)\n",
    "# print(data[4].shape)\n",
    "# print(data[5].shape)"
   ]
  },
  {
   "cell_type": "code",
   "execution_count": 35,
   "metadata": {
    "scrolled": true
   },
   "outputs": [],
   "source": [
    "# # data = [train_RD_videos, test_RD_videos, y_train, y_test, train_RA_videos, test_RA_videos]\n",
    "# with open(filename, 'wb') as output:  # Overwrites any existing file.\n",
    "#         pickle.dump(data, output, pickle.HIGHEST_PROTOCOL)\n",
    "# print(filename+' created.')"
   ]
  },
  {
   "cell_type": "code",
   "execution_count": 36,
   "metadata": {},
   "outputs": [
    {
     "name": "stdout",
     "output_type": "stream",
     "text": [
      "Datasets/final_imit_RD-RA2_128.pkl created.\n"
     ]
    }
   ],
   "source": [
    "f = h5py.File(filename[0:-3]+'hdf5', mode='w')\n",
    "f.create_dataset(\"train_RD\", data[0].shape, np.uint8)\n",
    "f.create_dataset(\"test_RD\", data[2].shape, np.uint8)  \n",
    "f.create_dataset(\"train_RA\", data[1].shape, np.uint8)\n",
    "f.create_dataset(\"test_RA\", data[3].shape, np.uint8)\n",
    "\n",
    "f[\"train_RD\"][...] = data[0]\n",
    "f[\"test_RD\"][...] = data[2]\n",
    "f[\"train_RA\"][...] = data[1]\n",
    "f[\"test_RA\"][...] = data[3]\n",
    "f.close()\n",
    "print(filename+' created.')"
   ]
  },
  {
   "cell_type": "code",
   "execution_count": 37,
   "metadata": {},
   "outputs": [],
   "source": [
    "# with open(filename, 'rb') as input:\n",
    "#     x = pickle.load(input)"
   ]
  },
  {
   "cell_type": "code",
   "execution_count": 38,
   "metadata": {},
   "outputs": [],
   "source": [
    "# x[2][0].shape"
   ]
  },
  {
   "cell_type": "code",
   "execution_count": 39,
   "metadata": {},
   "outputs": [
    {
     "name": "stdout",
     "output_type": "stream",
     "text": [
      "__name__ 57\n",
      "__doc__ 113\n",
      "__package__ 16\n",
      "__loader__ 16\n",
      "__spec__ 16\n",
      "__builtin__ 80\n",
      "__builtins__ 80\n",
      "_ih 432\n",
      "_oh 240\n",
      "_dh 72\n",
      "In 432\n",
      "Out 240\n",
      "get_ipython 64\n",
      "exit 56\n",
      "quit 56\n",
      "_ 24\n",
      "__ 28\n",
      "___ 24\n",
      "_i 64\n",
      "_ii 115\n",
      "_iii 464\n",
      "_i1 469\n",
      "shuffle 64\n",
      "glob 80\n",
      "h5py 80\n",
      "cv2 80\n",
      "scipy 80\n",
      "pickle 80\n",
      "itertools 80\n",
      "re 80\n",
      "gc 80\n",
      "np 80\n",
      "clear_output 136\n",
      "read_csv 136\n",
      "to_categorical 136\n",
      "train_test_split 136\n",
      "Counter 1056\n",
      "tqdm 1056\n",
      "filename 83\n",
      "_i2 865\n",
      "subjects 184\n",
      "mainpath 104\n",
      "i 28\n",
      "addr 296\n",
      "_i3 220\n",
      "load_file 136\n",
      "_i4 1614\n",
      "_i5 296\n",
      "fname 150\n",
      "_i6 155\n",
      "_i7 822\n",
      "FrameCapture 136\n",
      "_i8 643\n",
      "pad_video 136\n",
      "_i9 104\n",
      "width 28\n",
      "height 28\n",
      "channels 28\n",
      "num_frames 28\n",
      "_i10 139\n",
      "data 96\n",
      "_10 28\n",
      "_i11 222\n",
      "_i12 210\n",
      "dur 28\n",
      "win 24\n",
      "n_step 28\n",
      "des_w 28\n",
      "des_h 28\n",
      "_i13 2071\n",
      "cnt 28\n",
      "video 151\n",
      "vid 144\n",
      "_13 24\n",
      "_i14 1192\n",
      "_i15 178\n",
      "_i16 298\n",
      "output 176\n",
      "_i17 464\n",
      "f 56\n",
      "_i18 306\n",
      "_i19 260\n",
      "_i20 469\n",
      "_i21 865\n",
      "_i22 220\n",
      "_i23 1614\n",
      "_i24 296\n",
      "_i25 260\n",
      "_i26 822\n",
      "_i27 643\n",
      "_i28 104\n",
      "_i29 139\n",
      "_29 28\n",
      "_i30 222\n",
      "_i31 210\n",
      "_i32 1967\n",
      "_32 24\n",
      "_i33 1192\n",
      "_i34 178\n",
      "_i35 306\n",
      "_i36 464\n",
      "_i37 115\n",
      "_i38 64\n",
      "_i39 212\n",
      "print_function 56\n",
      "sys 80\n"
     ]
    }
   ],
   "source": [
    "from __future__ import print_function  # for Python2\n",
    "import sys\n",
    "\n",
    "local_vars = list(locals().items())\n",
    "for var, obj in local_vars:\n",
    "    print(var, sys.getsizeof(obj))"
   ]
  },
  {
   "cell_type": "code",
   "execution_count": null,
   "metadata": {},
   "outputs": [],
   "source": []
  }
 ],
 "metadata": {
  "kernelspec": {
   "display_name": "Python 3",
   "language": "python",
   "name": "python3"
  },
  "language_info": {
   "codemirror_mode": {
    "name": "ipython",
    "version": 3
   },
   "file_extension": ".py",
   "mimetype": "text/x-python",
   "name": "python",
   "nbconvert_exporter": "python",
   "pygments_lexer": "ipython3",
   "version": "3.7.2"
  }
 },
 "nbformat": 4,
 "nbformat_minor": 2
}
