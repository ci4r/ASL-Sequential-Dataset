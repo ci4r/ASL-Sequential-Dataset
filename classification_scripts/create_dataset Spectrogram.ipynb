{
 "cells": [
  {
   "cell_type": "code",
   "execution_count": 10,
   "metadata": {},
   "outputs": [
    {
     "name": "stdout",
     "output_type": "stream",
     "text": [
      "File to be created: Datasets/Blake2_spectrogram.hdf5\n"
     ]
    }
   ],
   "source": [
    "from random import shuffle\n",
    "import glob,h5py, cv2\n",
    "import numpy as np\n",
    "from IPython.display import clear_output\n",
    "from pandas import read_csv\n",
    "from tensorflow.keras.utils import to_categorical\n",
    "from sklearn.model_selection import train_test_split\n",
    "from collections import Counter\n",
    "width = 128\n",
    "height = 128\n",
    "channels = 3\n",
    "sub = 'Blake2'\n",
    "filename = 'Datasets/'+sub+'_spectrogram.hdf5'\n",
    "print('File to be created: ' + filename)"
   ]
  },
  {
   "cell_type": "code",
   "execution_count": 11,
   "metadata": {},
   "outputs": [
    {
     "name": "stdout",
     "output_type": "stream",
     "text": [
      "Num. of label files: 23\n",
      "1. /mnt/HDD01/rspl-admin/DATASETS/Fall Sequential/Outputs/6 apr blake/labels/microDoppler/11010003_1617741768_1.txt\n",
      "2. /mnt/HDD01/rspl-admin/DATASETS/Fall Sequential/Outputs/6 apr blake/labels/microDoppler/11010003_1617741768_2.txt\n",
      "3. /mnt/HDD01/rspl-admin/DATASETS/Fall Sequential/Outputs/6 apr blake/labels/microDoppler/11010003_1617741768_3.txt\n",
      "4. /mnt/HDD01/rspl-admin/DATASETS/Fall Sequential/Outputs/6 apr blake/labels/microDoppler/11010003_1617741768_4.txt\n",
      "5. /mnt/HDD01/rspl-admin/DATASETS/Fall Sequential/Outputs/6 apr blake/labels/microDoppler/11010003_1617741768_5.txt\n"
     ]
    }
   ],
   "source": [
    "# load labels\n",
    "trainy = '/mnt/HDD01/rspl-admin/DATASETS/Fall Sequential/Outputs/6 apr blake/labels/microDoppler/*.txt'\n",
    "trainy_files = sorted(glob.glob(trainy))\n",
    "print('Num. of label files: '+str(len(trainy_files)))\n",
    "for i in range(0,5):\n",
    "    print(str(i+1)+'. ' +trainy_files[i])"
   ]
  },
  {
   "cell_type": "code",
   "execution_count": 12,
   "metadata": {},
   "outputs": [
    {
     "name": "stdout",
     "output_type": "stream",
     "text": [
      "Num. of label files: 23\n",
      "1. /mnt/HDD01/rspl-admin/DATASETS/Fall Sequential/Outputs/6 apr blake/microDoppler/11010003_1617741768_1.png\n",
      "2. /mnt/HDD01/rspl-admin/DATASETS/Fall Sequential/Outputs/6 apr blake/microDoppler/11010003_1617741768_2.png\n",
      "3. /mnt/HDD01/rspl-admin/DATASETS/Fall Sequential/Outputs/6 apr blake/microDoppler/11010003_1617741768_3.png\n",
      "4. /mnt/HDD01/rspl-admin/DATASETS/Fall Sequential/Outputs/6 apr blake/microDoppler/11010003_1617741768_4.png\n",
      "5. /mnt/HDD01/rspl-admin/DATASETS/Fall Sequential/Outputs/6 apr blake/microDoppler/11010003_1617741768_5.png\n"
     ]
    }
   ],
   "source": [
    "# load images\n",
    "trainpath = '/mnt/HDD01/rspl-admin/DATASETS/Fall Sequential/Outputs/*/microDoppler/*.png'\n",
    "train_files2 = sorted(glob.glob(trainpath))\n",
    "len(train_files2)\n",
    "train_files2[0]\n",
    "train_files = []\n",
    "fname_ls = []\n",
    "for i in range(0,len(trainy_files)):\n",
    "#     fname = trainy_files[i][-23:].replace(\"txt\",\"\") + \"png\"\n",
    "#     fname = trainy_files[i][-30:].replace(\"txt\",\"png\") # -23 for nonbinary labels\n",
    "#     fname = fname.replace('_binary','')\n",
    "    slash_idx = trainy_files[i].rfind('/')\n",
    "    fname = trainy_files[i][slash_idx:].replace(\"txt\",\"png\")\n",
    "    fname_ls.append(fname)\n",
    "    idx = [j for j, s in enumerate(train_files2) if fname in s] #train_files2.index(fname) \n",
    "    if len(idx) == 1:\n",
    "        train_files.append(train_files2[idx[0]])\n",
    "    else:\n",
    "        print('2 identical filenames at i=',str(i))\n",
    "print('Num. of label files: '+str(len(train_files)))\n",
    "for i in range(0,5):    \n",
    "    print(str(i+1)+'. '+train_files[i])"
   ]
  },
  {
   "cell_type": "code",
   "execution_count": 13,
   "metadata": {},
   "outputs": [],
   "source": [
    "# load a single file as a numpy array\n",
    "def load_file(filepath):\n",
    "    dataframe = read_csv(filepath, header=None, delim_whitespace=True)\n",
    "    return np.array(dataframe.values)"
   ]
  },
  {
   "cell_type": "code",
   "execution_count": 14,
   "metadata": {},
   "outputs": [
    {
     "name": "stdout",
     "output_type": "stream",
     "text": [
      "Loading image 23/23 /mnt/HDD01/rspl-admin/DATASETS/Fall Sequential/Outputs/6 apr blake/microDoppler/11050003_1617742722_4.png\n"
     ]
    },
    {
     "data": {
      "text/plain": [
       "(23, 120, 128, 128, 3)"
      ]
     },
     "execution_count": 14,
     "metadata": {},
     "output_type": "execute_result"
    }
   ],
   "source": [
    "cnt = 1\n",
    "images = []\n",
    "winsize = 0.2 # sec\n",
    "duration = 24.2\n",
    "totalwin = int(duration/winsize)\n",
    "for image in train_files:\n",
    "    img = cv2.imread(image)\n",
    "    img = cv2.resize(img, (totalwin*width, height), interpolation=cv2.INTER_CUBIC)# resize to (128,128)\n",
    "    img = cv2.cvtColor(img, cv2.COLOR_BGR2RGB) # cv2 load images as BGR, convert it to RGB\n",
    "    clear_output(wait=True)\n",
    "    print('Loading image '+str(cnt)+'/'+str(len(train_files))+ ' '+image)\n",
    "    images.append(img)  \n",
    "    cnt += 1\n",
    "    \n",
    "images = np.swapaxes(np.array(images), 1, 2).reshape(len(trainy_files),totalwin, width, height,channels)/255.\n",
    "images.shape"
   ]
  },
  {
   "cell_type": "code",
   "execution_count": 15,
   "metadata": {},
   "outputs": [],
   "source": [
    "def pad_labels(yx):\n",
    "    numpad = duration*fps - yx.shape[1]\n",
    "    pads = np.repeat(yx[0,-1],numpad)\n",
    "    padded = np.expand_dims(np.append(yx,pads),0)\n",
    "    return padded"
   ]
  },
  {
   "cell_type": "code",
   "execution_count": 16,
   "metadata": {},
   "outputs": [
    {
     "name": "stdout",
     "output_type": "stream",
     "text": [
      "Loading training labels #23\n",
      "(23, 120, 128, 128, 3)\n",
      "(23, 120, 19)\n"
     ]
    }
   ],
   "source": [
    "labels = []\n",
    "\n",
    "cnt = 1\n",
    "for file in trainy_files:\n",
    "    clear_output(wait=True)\n",
    "    print('Loading training labels #'+str(cnt))\n",
    "    yx = load_file(file)\n",
    "    idx = np.linspace(0,yx.shape[1]-1,totalwin).astype(int)\n",
    "    labels.append(yx[0,idx])\n",
    "    cnt += 1\n",
    "labels = np.array(labels)   \n",
    "labels = to_categorical(labels)\n",
    "\n",
    "print(images.shape)\n",
    "print(labels.shape)"
   ]
  },
  {
   "cell_type": "code",
   "execution_count": 17,
   "metadata": {},
   "outputs": [
    {
     "name": "stdout",
     "output_type": "stream",
     "text": [
      "(18, 120, 128, 128, 3)\n",
      "(18, 120, 19)\n",
      "(5, 120, 128, 128, 3)\n",
      "(5, 120, 19)\n",
      "# of frames in a class:\n"
     ]
    },
    {
     "data": {
      "text/plain": [
       "Counter({0: 620,\n",
       "         1: 478,\n",
       "         2: 214,\n",
       "         13: 45,\n",
       "         14: 55,\n",
       "         15: 52,\n",
       "         3: 187,\n",
       "         10: 34,\n",
       "         11: 39,\n",
       "         12: 35,\n",
       "         4: 47,\n",
       "         5: 51,\n",
       "         6: 52,\n",
       "         7: 58,\n",
       "         8: 59,\n",
       "         9: 62,\n",
       "         16: 24,\n",
       "         17: 25,\n",
       "         18: 23})"
      ]
     },
     "execution_count": 17,
     "metadata": {},
     "output_type": "execute_result"
    }
   ],
   "source": [
    "x_train, x_test, y_train, y_test = train_test_split(images, labels, test_size=0.2, random_state=1)\n",
    "\n",
    "print(x_train.shape)\n",
    "print(y_train.shape)\n",
    "print(x_test.shape)\n",
    "print(y_test.shape)\n",
    "print('# of frames in a class:')\n",
    "Counter(np.concatenate(np.argmax(y_train, axis=2),axis=0))"
   ]
  },
  {
   "cell_type": "code",
   "execution_count": 18,
   "metadata": {},
   "outputs": [
    {
     "name": "stdout",
     "output_type": "stream",
     "text": [
      "Datasets/Blake2_spectrogram.hdf5 created.\n"
     ]
    }
   ],
   "source": [
    "f = h5py.File(filename, mode='w')\n",
    "f.create_dataset(\"train_img\", x_train.shape, np.uint8)\n",
    "f.create_dataset(\"test_img\", x_test.shape, np.uint8)  \n",
    "f.create_dataset(\"train_labels\", y_train.shape, np.uint8)\n",
    "f.create_dataset(\"test_labels\", y_test.shape, np.uint8)\n",
    "\n",
    "f[\"train_img\"][...] = x_train\n",
    "f[\"test_img\"][...] = x_test\n",
    "f[\"train_labels\"][...] = y_train\n",
    "f[\"test_labels\"][...] = y_test\n",
    "f.close()\n",
    "print(filename+' created.')"
   ]
  },
  {
   "cell_type": "code",
   "execution_count": null,
   "metadata": {},
   "outputs": [],
   "source": []
  },
  {
   "cell_type": "code",
   "execution_count": null,
   "metadata": {},
   "outputs": [],
   "source": []
  }
 ],
 "metadata": {
  "kernelspec": {
   "display_name": "Python 3",
   "language": "python",
   "name": "python3"
  },
  "language_info": {
   "codemirror_mode": {
    "name": "ipython",
    "version": 3
   },
   "file_extension": ".py",
   "mimetype": "text/x-python",
   "name": "python",
   "nbconvert_exporter": "python",
   "pygments_lexer": "ipython3",
   "version": "3.7.2"
  }
 },
 "nbformat": 4,
 "nbformat_minor": 2
}
