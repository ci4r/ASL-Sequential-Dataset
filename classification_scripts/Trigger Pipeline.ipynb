{
 "cells": [
  {
   "cell_type": "code",
   "execution_count": 1,
   "metadata": {},
   "outputs": [
    {
     "name": "stderr",
     "output_type": "stream",
     "text": [
      "Using TensorFlow backend.\n"
     ]
    },
    {
     "name": "stdout",
     "output_type": "stream",
     "text": [
      "Num GPUs Available:  1\n"
     ]
    }
   ],
   "source": [
    "# %matplotlib inline\n",
    "import matplotlib.pyplot as plt\n",
    "import matplotlib.image as mpimg\n",
    "import tensorflow as tf\n",
    "import os\n",
    "# Create a MirroredStrateg, If Multi-GPU available\n",
    "os.environ['TF_FORCE_GPU_ALLOW_GROWTH'] = 'true' \n",
    "tf.config.set_soft_device_placement(True)\n",
    "# strategy = tf.distribute.MirroredStrategy(devices=['/gpu:1','/gpu:2']) \n",
    "# print('Number of GPUs being used: {}'.format(strategy.num_replicas_in_sync))\n",
    "from tensorflow.keras.preprocessing.image import ImageDataGenerator\n",
    "from tensorflow.keras.models import Sequential, Model, model_from_json\n",
    "from tensorflow.keras.optimizers import *\n",
    "from tensorflow.keras.layers import *\n",
    "from tensorflow.keras.callbacks import CSVLogger\n",
    "from tensorflow.keras.wrappers.scikit_learn import KerasClassifier\n",
    "from tensorflow.keras.applications import VGG16, ResNet50\n",
    "from tensorflow.keras.utils import to_categorical\n",
    "from sklearn.model_selection import train_test_split\n",
    "from livelossplot.keras import PlotLossesCallback\n",
    "from livelossplot import PlotLossesKerasTF\n",
    "import efficientnet.keras as efn\n",
    "import h5py, glob, re, cv2, math, matplotlib\n",
    "import tensorflow.keras as keras\n",
    "import pandas as pd\n",
    "from pandas import read_csv\n",
    "import numpy as np\n",
    "from scipy import stats\n",
    "import itertools, random\n",
    "\n",
    "# from cnn_utils import *\n",
    "# from tensorflow.compat.v1 import ConfigProto\n",
    "# from tensorflow.compat.v1 import InteractiveSession\n",
    "from sklearn.metrics import classification_report, confusion_matrix\n",
    "from sklearn.utils import class_weight\n",
    "from PIL import Image  \n",
    "import pdb\n",
    "from statistics import mode \n",
    "from IPython.display import clear_output\n",
    "\n",
    "# config = ConfigProto()\n",
    "# config.gpu_options.allow_growth = True\n",
    "# session = InteractiveSession(config=config)\n",
    "\n",
    "np.random.seed(1)\n",
    "# Setting the seed for python random numbers\n",
    "random.seed(1254)\n",
    "# Setting the graph-level random seed.\n",
    "tf.random.set_seed(89)\n",
    "\n",
    "os.environ[\"CUDA_DEVICE_ORDER\"] = \"PCI_BUS_ID\"\n",
    "os.environ[\"CUDA_VISIBLE_DEVICES\"] = \"2\"\n",
    "!CUDA_VISIBLE_DEVICES=2\n",
    "\n",
    "# strategy = tf.distribute.MirroredStrategy(devices=['/gpu:1','/gpu:2'])\n",
    "# print('Number of GPUs being used: {}'.format(strategy.num_replicas_in_sync))\n",
    "# print('Number of GPUs being used: {}'.format(strategy.num_replicas_in_sync))\n",
    "# def setup_multi_node_training(): # IMPORTANT: SET UP TF_CONFIG FOR MULTINODE TRAINING HERE os.environ[“TF_FORCE_GPU_ALLOW_GROWTH”] = “true” tf.config.set_soft_device_placement(True) mirrored_strategy = tf.distribute.experimental.MultiWorkerMirroredStrategy(tf.distribute.experimental.CollectiveCommunication.NCCL) # Constructs the configuration run_config = tf.estimator.RunConfig( train_distribute=mirrored_strategy, ) return run_config\n",
    "print(\"Num GPUs Available: \", len(tf.config.experimental.list_physical_devices('GPU')))"
   ]
  },
  {
   "cell_type": "markdown",
   "metadata": {},
   "source": [
    "## Load Data"
   ]
  },
  {
   "cell_type": "code",
   "execution_count": 2,
   "metadata": {},
   "outputs": [
    {
     "name": "stdout",
     "output_type": "stream",
     "text": [
      "Selected File: Datasets/All_subjects_RDmap.hdf5\n",
      "(527, 605, 128, 128, 3)\n",
      "(527, 605, 19)\n",
      "(132, 605, 128, 128, 3)\n",
      "(132, 605, 19)\n"
     ]
    }
   ],
   "source": [
    "filename = 'Datasets/All_subjects_RDmap.hdf5'\n",
    "data = h5py.File(filename, \"r\")\n",
    "print('Selected File: '+str(filename))\n",
    "x_train1 = np.array(data[\"train_img\"])\n",
    "y_train1 = np.array(data[\"train_labels\"])\n",
    "x_test1 = np.array(data[\"test_img\"])\n",
    "y_test1 = np.array(data[\"test_labels\"])\n",
    "data.close()\n",
    "print(x_train1.shape)\n",
    "print(y_train1.shape)\n",
    "print(x_test1.shape)\n",
    "print(y_test1.shape)"
   ]
  },
  {
   "cell_type": "code",
   "execution_count": 3,
   "metadata": {},
   "outputs": [
    {
     "name": "stdout",
     "output_type": "stream",
     "text": [
      "Selected File: Datasets/All_subjects_RAmap.hdf5\n",
      "(527, 605, 128, 128, 3)\n",
      "(527, 605, 19)\n",
      "(132, 605, 128, 128, 3)\n",
      "(132, 605, 19)\n"
     ]
    }
   ],
   "source": [
    "filename = 'Datasets/All_subjects_RAmap.hdf5'\n",
    "data = h5py.File(filename, \"r\")\n",
    "print('Selected File: '+str(filename))\n",
    "x_train2 = np.array(data[\"train_img\"])\n",
    "y_train2 = np.array(data[\"train_labels\"])\n",
    "x_test2 = np.array(data[\"test_img\"])\n",
    "y_test2 = np.array(data[\"test_labels\"])\n",
    "data.close()\n",
    "print(x_train2.shape)\n",
    "print(y_train2.shape)\n",
    "print(x_test2.shape)\n",
    "print(y_test2.shape)"
   ]
  },
  {
   "cell_type": "code",
   "execution_count": 4,
   "metadata": {},
   "outputs": [
    {
     "name": "stdout",
     "output_type": "stream",
     "text": [
      "(527, 120, 5, 128, 128, 3)\n",
      "(527, 120, 19)\n",
      "(132, 120, 5, 128, 128, 3)\n",
      "(132, 120, 19)\n",
      "(527, 120, 5, 128, 128, 3)\n",
      "(527, 120, 19)\n",
      "(132, 120, 5, 128, 128, 3)\n",
      "(132, 120, 19)\n"
     ]
    }
   ],
   "source": [
    "# windowed RD\n",
    "interval = range(0,600)\n",
    "x_train11 = np.reshape(x_train1[:,interval,:,:,:], (x_train1.shape[0],120,5,x_train1.shape[2],x_train1.shape[3],x_train1.shape[4]))\n",
    "x_test11 = np.reshape(x_test1[:,interval,:,:,:], (x_test1.shape[0],120,5,x_test1.shape[2],x_test1.shape[3],x_test1.shape[4]))\n",
    "y_train11 = np.reshape(np.argmax(y_train1[:,interval,:],-1), (y_train1.shape[0],120,5))\n",
    "y_test11 = np.reshape(np.argmax(y_test1[:,interval,:],-1), (y_test1.shape[0],120,5))\n",
    "y_train11 = to_categorical(np.squeeze(stats.mode(y_train11,2)[0]))\n",
    "y_test11 = to_categorical(np.squeeze(stats.mode(y_test11,2)[0]))\n",
    "print(x_train11.shape)\n",
    "print(y_train11.shape)\n",
    "print(x_test11.shape)\n",
    "print(y_test11.shape)  \n",
    "\n",
    "# windowed RA\n",
    "x_train12 = np.reshape(x_train2[:,interval,:,:,:], (x_train2.shape[0],120,5,x_train2.shape[2],x_train2.shape[3],x_train2.shape[4]))\n",
    "x_test12 = np.reshape(x_test2[:,interval,:,:,:], (x_test2.shape[0],120,5,x_test2.shape[2],x_test2.shape[3],x_test2.shape[4]))\n",
    "y_train12 = np.reshape(np.argmax(y_train2[:,interval,:],-1), (y_train2.shape[0],120,5))\n",
    "y_test12 = np.reshape(np.argmax(y_test2[:,interval,:],-1), (y_test2.shape[0],120,5))\n",
    "y_train12 = to_categorical(np.squeeze(stats.mode(y_train12,2)[0]))\n",
    "y_test12 = to_categorical(np.squeeze(stats.mode(y_test12,2)[0]))\n",
    "print(x_train12.shape)\n",
    "print(y_train12.shape)\n",
    "print(x_test12.shape)\n",
    "print(y_test12.shape) "
   ]
  },
  {
   "cell_type": "code",
   "execution_count": 5,
   "metadata": {},
   "outputs": [
    {
     "name": "stdout",
     "output_type": "stream",
     "text": [
      "Selected File: Datasets/All_subjects_spectrogram.hdf5\n",
      "(527, 120, 128, 128, 3)\n",
      "(527, 120, 19)\n",
      "(132, 120, 128, 128, 3)\n",
      "(132, 120, 19)\n"
     ]
    }
   ],
   "source": [
    "filename = 'Datasets/All_subjects_spectrogram.hdf5'\n",
    "data = h5py.File(filename, \"r\")\n",
    "print('Selected File: '+str(filename))\n",
    "x_train3 = np.array(data[\"train_img\"])\n",
    "y_train3 = np.array(data[\"train_labels\"])\n",
    "x_test3 = np.array(data[\"test_img\"])\n",
    "y_test3 = np.array(data[\"test_labels\"])\n",
    "data.close()\n",
    "print(x_train3.shape)\n",
    "print(y_train3.shape)\n",
    "print(x_test3.shape)\n",
    "print(y_test3.shape)"
   ]
  },
  {
   "cell_type": "code",
   "execution_count": 6,
   "metadata": {},
   "outputs": [
    {
     "name": "stdout",
     "output_type": "stream",
     "text": [
      "Selected File: Datasets/All_subjects_margins_and_ctc_label_no_nucleus.hdf5\n",
      "(527, 1482)\n",
      "(527,)\n",
      "(132, 1482)\n",
      "(132,)\n"
     ]
    }
   ],
   "source": [
    "filename = 'Datasets/All_subjects_margins_and_ctc_label_no_nucleus.hdf5'\n",
    "data = h5py.File(filename, \"r\")\n",
    "print('Selected File: '+str(filename))\n",
    "margin_tr = np.array(data[\"train_img\"])\n",
    "ctc_tr = np.squeeze(np.array(data[\"train_labels\"])).astype('U12')\n",
    "margin_ts = np.array(data[\"test_img\"])\n",
    "ctc_ts = np.squeeze(np.array(data[\"test_labels\"])).astype('U12')\n",
    "data.close()\n",
    "print(margin_tr.shape)\n",
    "print(ctc_tr.shape)\n",
    "print(margin_ts.shape)\n",
    "print(ctc_ts.shape)"
   ]
  },
  {
   "cell_type": "code",
   "execution_count": 7,
   "metadata": {},
   "outputs": [
    {
     "name": "stdout",
     "output_type": "stream",
     "text": [
      "Selected File: Datasets/All_subjects_spect_single.hdf5\n",
      "(527, 128, 128, 3)\n",
      "(132, 128, 128, 3)\n"
     ]
    }
   ],
   "source": [
    "filename = 'Datasets/All_subjects_spect_single.hdf5'\n",
    "data = h5py.File(filename, \"r\")\n",
    "print('Selected File: '+str(filename))\n",
    "x_train4 = np.array(data[\"train_img\"])\n",
    "x_test4 = np.array(data[\"test_img\"])\n",
    "data.close()\n",
    "print(x_train4.shape)\n",
    "print(x_test4.shape)"
   ]
  },
  {
   "cell_type": "markdown",
   "metadata": {},
   "source": [
    "##### STA LTA"
   ]
  },
  {
   "cell_type": "code",
   "execution_count": 8,
   "metadata": {},
   "outputs": [],
   "source": [
    "def sta_lta2(vec,nlta,nsta,init_th,stop_th,stepsz):\n",
    "    vec2 = np.zeros(vec.shape)\n",
    "    mask = np.zeros(vec.shape)\n",
    "    state = 0 # '0' nothing, '1' signing\n",
    "    \n",
    "    for i in range(0,len(vec),stepsz):\n",
    "        \n",
    "        if i+nlta+nsta+1 > len(vec):\n",
    "            if state == 1:\n",
    "                stoppt = len(vec)-2\n",
    "                vec2[startpt:stoppt] = vec[startpt:stoppt]\n",
    "                mask[startpt:stoppt] = 1\n",
    "            break\n",
    "            \n",
    "            \n",
    "        longwin = vec[i:i+nlta]\n",
    "        shortwin = vec[i+nlta:i+nlta+nsta]\n",
    "        \n",
    "        if i < nlta and np.mean(longwin) > 150:\n",
    "            vec2[0:i+nsta] = vec[0:i+nsta]\n",
    "            mask[0:i+nsta] = 1\n",
    "        if init_th < sum(shortwin)/sum(longwin):\n",
    "            if state == 0:\n",
    "                startpt = i+nlta\n",
    "                state = 1\n",
    "            if state == 1:\n",
    "                continue\n",
    "        \n",
    "        else:\n",
    "            if state == 0:\n",
    "                continue\n",
    "            if state == 1:\n",
    "                if sum(shortwin)/sum(longwin) > stop_th:\n",
    "                    continue\n",
    "                else:\n",
    "                    stoppt = i+nlta+int(nsta/2)\n",
    "                    state = 0\n",
    "                    vec2[startpt:stoppt] = vec[startpt:stoppt]\n",
    "                    mask[startpt:stoppt] = 1\n",
    "                    \n",
    "    return vec2, mask"
   ]
  },
  {
   "cell_type": "code",
   "execution_count": 9,
   "metadata": {},
   "outputs": [],
   "source": [
    "duration = 24.2\n",
    "nsta_sec = 0.7\n",
    "ratio = margin_tr.shape[-1]/duration\n",
    "nsta = int(nsta_sec*ratio)\n",
    "nlta = int(2*nsta)\n",
    "stepsz = int(0.2*ratio) # 0.2\n",
    "timevec = np.linspace(0,24.2,margin_ts.shape[1])\n",
    "idx = 27\n",
    "init_th = 0.6\n",
    "stop_th = 0.3\n",
    "vecs_train = [] #np.zeros(np.argmax(margin_tr,-1).shape)\n",
    "mask_train = [] #np.zeros(np.argmax(margin_tr,-1).shape)\n",
    "vecs_test = [] #np.zeros(np.argmax(margin_ts,-1).shape)\n",
    "mask_test = [] #np.zeros(np.argmax(margin_ts,-1).shape)\n",
    "for i in range(len(margin_tr)):\n",
    "    vecs_train.append(sta_lta2(margin_tr[i],nlta,nsta,init_th,stop_th,stepsz)[0])\n",
    "    mask_train.append(sta_lta2(margin_tr[i],nlta,nsta,init_th,stop_th,stepsz)[1])\n",
    "# mask_train_win = mask_train[:,::5]\n",
    "for i in range(len(margin_ts)):\n",
    "    vecs_test.append(sta_lta2(margin_ts[i],nlta,nsta,init_th,stop_th,stepsz)[0])\n",
    "    mask_test.append(sta_lta2(margin_ts[i],nlta,nsta,init_th,stop_th,stepsz)[1])\n",
    "# mask_test_win = mask_test[:,::5]\n",
    "mask_train = np.array(mask_train)\n",
    "mask_test = np.array(mask_test)"
   ]
  },
  {
   "cell_type": "code",
   "execution_count": 10,
   "metadata": {},
   "outputs": [
    {
     "name": "stdout",
     "output_type": "stream",
     "text": [
      "Mask shapes:\n",
      "(527, 605)\n",
      "(132, 605)\n",
      "(527, 120)\n",
      "(132, 120)\n"
     ]
    }
   ],
   "source": [
    "# downsample the mask to vid\n",
    "mask_vid_tr = np.zeros(np.argmax(y_train1,-1).shape)\n",
    "ratio1 = mask_train.shape[-1]/mask_vid_tr.shape[-1]\n",
    "for i in range(len(mask_train)):\n",
    "    for j in range(mask_train.shape[-1]):\n",
    "        if mask_train[i,j] == 0:\n",
    "            continue\n",
    "        else:\n",
    "            mask_vid_tr[i,int(j/ratio1)] = 1\n",
    "mask_vid_ts = np.zeros(np.argmax(y_test1,-1).shape)\n",
    "for i in range(len(mask_test)):\n",
    "    for j in range(mask_test.shape[-1]):\n",
    "        if mask_test[i,j] == 0:\n",
    "            continue\n",
    "        else:\n",
    "            mask_vid_ts[i,int(j/ratio1)] = 1\n",
    "\n",
    "# downsample the mask to spect\n",
    "mask_spect_tr = np.zeros(np.argmax(y_train3,-1).shape)\n",
    "ratio2 = mask_train.shape[-1]/mask_spect_tr.shape[-1]\n",
    "for i in range(len(mask_train)):\n",
    "    for j in range(mask_train.shape[-1]):\n",
    "        if mask_train[i,j] == 0:\n",
    "            continue\n",
    "        else:\n",
    "            mask_spect_tr[i,int(j/ratio2)] = 1\n",
    "mask_spect_ts = np.zeros(np.argmax(y_test3,-1).shape)\n",
    "for i in range(len(mask_test)):\n",
    "    for j in range(mask_test.shape[-1]):\n",
    "        if mask_test[i,j] == 0:\n",
    "            continue\n",
    "        else:\n",
    "            mask_spect_ts[i,int(j/ratio2)] = 1\n",
    "print('Mask shapes:')\n",
    "print(mask_vid_tr.shape)\n",
    "print(mask_vid_ts.shape)\n",
    "print(mask_spect_tr.shape)\n",
    "print(mask_spect_ts.shape)"
   ]
  },
  {
   "cell_type": "code",
   "execution_count": 11,
   "metadata": {},
   "outputs": [],
   "source": [
    "def gesture_counter(mask):\n",
    "    cnt = 0\n",
    "    flag = 0\n",
    "    for i in range(len(mask)):\n",
    "        if flag == 0 and mask[i] == 0:\n",
    "            continue\n",
    "        if flag == 1 and mask[i] == 1:\n",
    "            continue\n",
    "        if flag == 0 and mask[i] == 1:\n",
    "            flag = 1\n",
    "            cnt += 1\n",
    "        if flag == 1 and mask[i] == 0:\n",
    "            flag = 0\n",
    "    return cnt"
   ]
  },
  {
   "cell_type": "code",
   "execution_count": 12,
   "metadata": {
    "scrolled": true
   },
   "outputs": [
    {
     "data": {
      "text/plain": [
       "813"
      ]
     },
     "execution_count": 12,
     "metadata": {},
     "output_type": "execute_result"
    }
   ],
   "source": [
    "numgest = [gesture_counter(m) for m in mask_spect_ts]\n",
    "sum(numgest)"
   ]
  },
  {
   "cell_type": "code",
   "execution_count": 13,
   "metadata": {},
   "outputs": [
    {
     "data": {
      "text/plain": [
       "19"
      ]
     },
     "execution_count": 13,
     "metadata": {},
     "output_type": "execute_result"
    }
   ],
   "source": [
    "num_class = y_test3.shape[2]\n",
    "num_class"
   ]
  },
  {
   "cell_type": "code",
   "execution_count": 14,
   "metadata": {},
   "outputs": [],
   "source": [
    "def masker(x, y, mask):\n",
    "    x2 = []\n",
    "    y2 = []\n",
    "    flag = 0\n",
    "    for i in range(len(mask)):\n",
    "        for j in range(mask.shape[1]):\n",
    "            if flag == 0 and mask[i,j] == 0:\n",
    "                continue\n",
    "            if flag == 1 and mask[i,j] == 1:\n",
    "                if j == mask.shape[1]-1 and j+1 - startpt > 2:\n",
    "                    stoppt = j+1\n",
    "                    x2.append(x[i,startpt:stoppt])\n",
    "                    y2.append(np.squeeze(np.argmax(y[i,startpt:stoppt],-1)))\n",
    "                else:\n",
    "                    continue\n",
    "            if flag == 0 and mask[i,j] == 1:\n",
    "                flag = 1\n",
    "                startpt = j\n",
    "            if flag == 1 and mask[i,j] == 0:\n",
    "                flag = 0\n",
    "                stoppt = j+1\n",
    "                if stoppt-startpt > 2:\n",
    "                    x2.append(x[i,startpt:stoppt])\n",
    "                    y2.append(np.squeeze(np.argmax(y[i,startpt:stoppt],-1)))\n",
    "    \n",
    "    x2 = np.asarray(x2)\n",
    "    y2 = np.array([to_categorical(y,num_classes=num_class) for y in np.array(y2)])\n",
    "    return x2, y2"
   ]
  },
  {
   "cell_type": "code",
   "execution_count": 15,
   "metadata": {},
   "outputs": [
    {
     "name": "stderr",
     "output_type": "stream",
     "text": [
      "/home/m/.local/lib/python3.7/site-packages/numpy/core/_asarray.py:83: VisibleDeprecationWarning: Creating an ndarray from ragged nested sequences (which is a list-or-tuple of lists-or-tuples-or ndarrays with different lengths or shapes) is deprecated. If you meant to do this, you must specify 'dtype=object' when creating the ndarray\n",
      "  return array(a, dtype, copy=False, order=order)\n",
      "/usr/local/lib/python3.7/site-packages/ipykernel_launcher.py:27: VisibleDeprecationWarning: Creating an ndarray from ragged nested sequences (which is a list-or-tuple of lists-or-tuples-or ndarrays with different lengths or shapes) is deprecated. If you meant to do this, you must specify 'dtype=object' when creating the ndarray\n"
     ]
    },
    {
     "name": "stdout",
     "output_type": "stream",
     "text": [
      "(3042,)\n",
      "(3042,)\n",
      "(740,)\n",
      "(740,)\n",
      "(3042,)\n",
      "(3042,)\n",
      "(740,)\n",
      "(740,)\n",
      "(3042,)\n",
      "(3042,)\n",
      "(740,)\n",
      "(740,)\n"
     ]
    }
   ],
   "source": [
    "x1train, y1train = masker(x_train11, y_train3, mask_spect_tr)\n",
    "x1test, y1test = masker(x_test11, y_test3, mask_spect_ts)\n",
    "x2train, y2train = masker(x_train12, y_train3, mask_spect_tr)\n",
    "x2test, y2test = masker(x_test12, y_test3, mask_spect_ts)\n",
    "x3train, y3train = masker(x_train3, y_train3, mask_spect_tr)\n",
    "x3test, y3test = masker(x_test3, y_test3, mask_spect_ts)\n",
    "print(x1train.shape)\n",
    "print(y1train.shape)\n",
    "print(x1test.shape)\n",
    "print(y1test.shape)\n",
    "print(x2train.shape)\n",
    "print(y2train.shape)\n",
    "print(x2test.shape)\n",
    "print(y2test.shape)\n",
    "print(x3train.shape)\n",
    "print(y3train.shape)\n",
    "print(x3test.shape)\n",
    "print(y3test.shape)"
   ]
  },
  {
   "cell_type": "code",
   "execution_count": 16,
   "metadata": {},
   "outputs": [
    {
     "name": "stdout",
     "output_type": "stream",
     "text": [
      "(3042,)\n"
     ]
    },
    {
     "name": "stderr",
     "output_type": "stream",
     "text": [
      "/usr/local/lib/python3.7/site-packages/ipykernel_launcher.py:1: VisibleDeprecationWarning: Creating an ndarray from ragged nested sequences (which is a list-or-tuple of lists-or-tuples-or ndarrays with different lengths or shapes) is deprecated. If you meant to do this, you must specify 'dtype=object' when creating the ndarray\n",
      "  \"\"\"Entry point for launching an IPython kernel.\n",
      "/usr/local/lib/python3.7/site-packages/ipykernel_launcher.py:2: VisibleDeprecationWarning: Creating an ndarray from ragged nested sequences (which is a list-or-tuple of lists-or-tuples-or ndarrays with different lengths or shapes) is deprecated. If you meant to do this, you must specify 'dtype=object' when creating the ndarray\n",
      "  \n"
     ]
    }
   ],
   "source": [
    "y_int_train = np.array([np.argmax(y,-1) for y in y3train])\n",
    "y_int_test = np.array([np.argmax(y,-1) for y in y3test])\n",
    "print(y_int_train.shape)"
   ]
  },
  {
   "cell_type": "markdown",
   "metadata": {},
   "source": [
    "### Multi-task labels"
   ]
  },
  {
   "cell_type": "code",
   "execution_count": 17,
   "metadata": {},
   "outputs": [],
   "source": [
    "y_asldaily_tr = [] # 0: daily, 1: asl\n",
    "y_twohanded_tr = [] # 0: daily, 1: 1 hand, 2: 2 hand\n",
    "y_loc_tr = [] # major location: 0: daily, 1: body, 2: neutral, 3: head, 4: hand\n",
    "y_mov_tr = [] # movement: 0: daily, 1: curved, 2: straight, 3: backandforth, 4: circular, 5: other\n",
    "y_str_tr = [] # # of strokes: 0: daily, 1: 3, 2: 4, 3: +5\n",
    "\n",
    "y_asldaily_ts = [] # 0: daily, 1: asl\n",
    "y_twohanded_ts = [] # 0: daily, 1: 1 hand, 2: 2 hand\n",
    "y_loc_ts = [] # major location: 0: daily, 1: body, 2: neutral, 3: head, 4: hand\n",
    "y_mov_ts = [] # movement: 0: daily, 1: curved, 2: straight, 3: backandforth, 4: circular, 5: other\n",
    "y_str_ts = [] # # of strokes: 0: daily, 1: 3, 2: 4, 3: +5\n",
    "\n",
    "## asl daily\n",
    "for i in range(len(y_int_train)):\n",
    "    yx = np.zeros(shape=y_int_train[i].shape)\n",
    "    for j in range(len(y_int_train[i])):\n",
    "        if y_int_train[i][j] in (0,1,2,3):\n",
    "            continue\n",
    "        else:\n",
    "            yx[j] = 1\n",
    "    y_asldaily_tr.append(to_categorical(yx,2))\n",
    "for i in range(len(y_int_test)):\n",
    "    yx = np.zeros(shape=y_int_test[i].shape)\n",
    "    for j in range(len(y_int_test[i])):\n",
    "        if y_int_test[i][j] in (0,1,2,3):\n",
    "            continue\n",
    "        else:\n",
    "            yx[j] = 1\n",
    "    y_asldaily_ts.append(to_categorical(yx,2))\n",
    "    \n",
    "## two hand\n",
    "for i in range(len(y_int_train)):\n",
    "    yx = np.zeros(shape=y_int_train[i].shape)\n",
    "    for j in range(len(y_int_train[i])):\n",
    "        if y_int_train[i][j] in (0,1,2,3):\n",
    "            continue\n",
    "        elif y_int_train[i][j] in (9,16):\n",
    "            yx[j] = 1\n",
    "        else:\n",
    "            yx[j] = 2\n",
    "    y_twohanded_tr.append(to_categorical(yx,3))\n",
    "for i in range(len(y_int_test)):\n",
    "    yx = np.zeros(shape=y_int_test[i].shape)\n",
    "    for j in range(len(y_int_test[i])):\n",
    "        if y_int_test[i][j] in (0,1,2,3):\n",
    "            continue\n",
    "        elif y_int_test[i][j] in (9,16):\n",
    "            yx[j] = 1\n",
    "        else:\n",
    "            yx[j] = 2\n",
    "    y_twohanded_ts.append(to_categorical(yx,3))\n",
    "\n",
    "## hand loc\n",
    "for i in range(len(y_int_train)):\n",
    "    yx = np.zeros(shape=y_int_train[i].shape)\n",
    "    for j in range(len(y_int_train[i])):\n",
    "        if y_int_train[i][j] in (0,1,2,3):\n",
    "            continue\n",
    "        elif y_int_train[i][j] == 4:\n",
    "            yx[j] = 1\n",
    "        elif y_int_train[i][j] in (5,8,14,16):\n",
    "            yx[j] = 2\n",
    "        elif y_int_train[i][j] in (6,9,17,18):\n",
    "            yx[j] = 3\n",
    "        else:\n",
    "            yx[j] = 4\n",
    "    y_loc_tr.append(to_categorical(yx,5))\n",
    "for i in range(len(y_int_test)):\n",
    "    yx = np.zeros(shape=y_int_test[i].shape)\n",
    "    for j in range(len(y_int_test[i])):\n",
    "        if y_int_test[i][j] in (0,1,2,3):\n",
    "            continue\n",
    "        elif y_int_test[i][j] == 4:\n",
    "            yx[j] = 1\n",
    "        elif y_int_test[i][j] in (5,8,14,16):\n",
    "            yx[j] = 2\n",
    "        elif y_int_test[i][j] in (6,9,17,18):\n",
    "            yx[j] = 3\n",
    "        else:\n",
    "            yx[j] = 4\n",
    "    y_loc_ts.append(to_categorical(yx,5))\n",
    "\n",
    "## movement type\n",
    "for i in range(len(y_int_train)):\n",
    "    yx = np.zeros(shape=y_int_train[i].shape)\n",
    "    for j in range(len(y_int_train[i])):\n",
    "        if y_int_train[i][j] in (0,1,2,3):\n",
    "            continue\n",
    "        elif y_int_train[i][j] in (4,5,9,12):\n",
    "            yx[j] = 1\n",
    "        elif y_int_train[i][j] in (6,7,8,10,14,15,17,18):\n",
    "            yx[j] = 2\n",
    "        elif y_int_train[i][j] == 13:\n",
    "            yx[j] = 3\n",
    "        elif y_int_train[i][j] == 16:\n",
    "            yx[j] = 4\n",
    "        else:\n",
    "            yx[j] = 5\n",
    "    y_mov_tr.append(to_categorical(yx,6))\n",
    "for i in range(len(y_int_test)):\n",
    "    yx = np.zeros(shape=y_int_test[i].shape)\n",
    "    for j in range(len(y_int_test[i])):\n",
    "        if y_int_test[i][j] in (0,1,2,3):\n",
    "            continue\n",
    "        elif y_int_test[i][j] in (4,5,9,12):\n",
    "            yx[j] = 1\n",
    "        elif y_int_test[i][j] in (6,7,8,10,14,15,17,18):\n",
    "            yx[j] = 2\n",
    "        elif y_int_test[i][j] == 13:\n",
    "            yx[j] = 3\n",
    "        elif y_int_test[i][j] == 16:\n",
    "            yx[j] = 4\n",
    "        else:\n",
    "            yx[j] = 5\n",
    "    y_mov_ts.append(to_categorical(yx,6))\n",
    "    \n",
    "## # of strokes\n",
    "for i in range(len(y_int_train)):\n",
    "    yx = np.zeros(shape=y_int_train[i].shape)\n",
    "    for j in range(len(y_int_train[i])):\n",
    "        if y_int_train[i][j] in (0,1,2,3):\n",
    "            continue\n",
    "        elif y_int_train[i][j] in (4,5,9,10,13,15,18):\n",
    "            yx[j] = 1\n",
    "        elif y_int_train[i][j] in (6,8,12,16,17):\n",
    "            yx[j] = 2\n",
    "        else:\n",
    "            yx[j] = 3\n",
    "    y_str_tr.append(to_categorical(yx,4))\n",
    "for i in range(len(y_int_test)):\n",
    "    yx = np.zeros(shape=y_int_test[i].shape)\n",
    "    for j in range(len(y_int_test[i])):\n",
    "        if y_int_test[i][j] in (0,1,2,3):\n",
    "            continue\n",
    "        elif y_int_test[i][j] in (4,5,9,10,13,15,18):\n",
    "            yx[j] = 1\n",
    "        elif y_int_test[i][j] in (6,8,12,16,17):\n",
    "            yx[j] = 2\n",
    "        else:\n",
    "            yx[j] = 3\n",
    "    y_str_ts.append(to_categorical(yx,4))"
   ]
  },
  {
   "cell_type": "markdown",
   "metadata": {},
   "source": [
    "### CTC labels"
   ]
  },
  {
   "cell_type": "code",
   "execution_count": 18,
   "metadata": {},
   "outputs": [],
   "source": [
    "def num_to_ch(num):\n",
    "    label = ''\n",
    "    for ch in num:\n",
    "        label += chr(ord('@') + np.argmax(ch,-1)+1)\n",
    "    return label"
   ]
  },
  {
   "cell_type": "code",
   "execution_count": 1,
   "metadata": {},
   "outputs": [
    {
     "ename": "NameError",
     "evalue": "name 'y6train' is not defined",
     "output_type": "error",
     "traceback": [
      "\u001b[0;31m---------------------------------------------------------------------------\u001b[0m",
      "\u001b[0;31mNameError\u001b[0m                                 Traceback (most recent call last)",
      "\u001b[0;32m<ipython-input-1-4f0a31dd7503>\u001b[0m in \u001b[0;36m<module>\u001b[0;34m\u001b[0m\n\u001b[1;32m      1\u001b[0m \u001b[0;31m# convert detected labels\u001b[0m\u001b[0;34m\u001b[0m\u001b[0;34m\u001b[0m\u001b[0;34m\u001b[0m\u001b[0m\n\u001b[0;32m----> 2\u001b[0;31m \u001b[0mctc_tr3\u001b[0m \u001b[0;34m=\u001b[0m \u001b[0;34m[\u001b[0m\u001b[0mnum_to_ch\u001b[0m\u001b[0;34m(\u001b[0m\u001b[0my\u001b[0m\u001b[0;34m)\u001b[0m \u001b[0;32mfor\u001b[0m \u001b[0my\u001b[0m \u001b[0;32min\u001b[0m \u001b[0my6train\u001b[0m\u001b[0;34m]\u001b[0m\u001b[0;34m\u001b[0m\u001b[0;34m\u001b[0m\u001b[0m\n\u001b[0m\u001b[1;32m      3\u001b[0m \u001b[0mctc_ts3\u001b[0m \u001b[0;34m=\u001b[0m \u001b[0;34m[\u001b[0m\u001b[0mnum_to_ch\u001b[0m\u001b[0;34m(\u001b[0m\u001b[0my\u001b[0m\u001b[0;34m)\u001b[0m \u001b[0;32mfor\u001b[0m \u001b[0my\u001b[0m \u001b[0;32min\u001b[0m \u001b[0my6test\u001b[0m\u001b[0;34m]\u001b[0m\u001b[0;34m\u001b[0m\u001b[0;34m\u001b[0m\u001b[0m\n",
      "\u001b[0;31mNameError\u001b[0m: name 'y6train' is not defined"
     ]
    }
   ],
   "source": [
    "# convert detected labels\n",
    "ctc_tr3 = [num_to_ch(y) for y in y6train]\n",
    "ctc_ts3 = [num_to_ch(y) for y in y6test]"
   ]
  },
  {
   "cell_type": "code",
   "execution_count": 20,
   "metadata": {},
   "outputs": [],
   "source": [
    "class CTCLayer(Layer):\n",
    "    def __init__(self, name=None, **kwargs):\n",
    "        super().__init__(name=name)\n",
    "        self.loss_fn = keras.backend.ctc_batch_cost\n",
    "\n",
    "    def call(self, y_true, y_pred):\n",
    "        # Compute the training-time loss value and add it\n",
    "        # to the layer using `self.add_loss()`.\n",
    "        batch_len = tf.cast(tf.shape(y_true)[0], dtype=\"int64\")\n",
    "        input_length = tf.cast(tf.shape(y_pred)[1], dtype=\"int64\")\n",
    "        label_length = tf.cast(tf.shape(y_true)[1], dtype=\"int64\")\n",
    "\n",
    "        input_length = input_length * tf.ones(shape=(batch_len, 1), dtype=\"int64\")\n",
    "        label_length = label_length * tf.ones(shape=(batch_len, 1), dtype=\"int64\")\n",
    "\n",
    "        loss = self.loss_fn(y_true, y_pred, input_length, label_length)\n",
    "        self.add_loss(loss)\n",
    "\n",
    "        # At test time, just return the computed predictions\n",
    "        return y_pred"
   ]
  },
  {
   "cell_type": "code",
   "execution_count": 21,
   "metadata": {},
   "outputs": [],
   "source": [
    "def data_generator_multi_nolabel_rd(data, batch_size=1):              \n",
    "    \"\"\"\n",
    "    Yields the next training batch.\n",
    "    data is an array  [[[frame1_filename,frame2_filename,…frame16_filename],label1], [[frame1_filename,frame2_filename,…frame16_filename],label2],……….].\n",
    "    \"\"\"\n",
    "    num_samples = data[0].shape[0]\n",
    "    \n",
    "    while True:   \n",
    "        for offset in range(0, num_samples, batch_size):\n",
    "    #             print ('starting index: ', offset) \n",
    "            # Get the samples you'll use in this batch\n",
    "            batch_samples1 = data[0][offset:offset+batch_size]\n",
    "            batch_samples2 = data[1][offset:offset+batch_size]\n",
    "            batch_samples3 = data[2][offset:offset+batch_size]\n",
    "            \n",
    "            # Initialise X_train and y_train arrays for this batch\n",
    "            X_train1 = []\n",
    "            X_train2 = []\n",
    "            X_train3 = []\n",
    "            # For each example\n",
    "            for i in range(0,batch_samples1.shape[0]):\n",
    "                X_train1.append(batch_samples1[i])\n",
    "                X_train2.append(batch_samples2[i])\n",
    "                X_train3.append(batch_samples3[i])\n",
    "                \n",
    "            # Make sure they're numpy arrays (as opposed to lists)\n",
    "            X_train1 = np.array(X_train1)\n",
    "            X_train2 = np.array(X_train2)\n",
    "            X_train3 = np.array(X_train3)\n",
    "            \n",
    "            # yield the next training batch            \n",
    "            yield [X_train1, X_train2, X_train3]"
   ]
  },
  {
   "cell_type": "code",
   "execution_count": 22,
   "metadata": {},
   "outputs": [],
   "source": [
    "predict_generator = data_generator_multi_nolabel_rd([x1test, x2test, x3test])\n",
    "predict_generator_seq = data_generator_multi_nolabel_rd([x_test11, x_test12, x_test3])"
   ]
  },
  {
   "cell_type": "code",
   "execution_count": 23,
   "metadata": {},
   "outputs": [],
   "source": [
    "fname = 'ctc aux multiinput multitask 92-03'\n",
    "MODEL_FILE = 'Models/' + fname + '.json' # save path\n",
    "WEIGHT_FILE = 'Models/' + fname + '.h5' # save path\n",
    "json_file = open(MODEL_FILE, 'r')\n",
    "loaded_model_json = json_file.read()\n",
    "json_file.close()\n",
    "model_load = model_from_json(loaded_model_json, {'CTCLayer': CTCLayer})\n",
    "model_load.load_weights(WEIGHT_FILE)"
   ]
  },
  {
   "cell_type": "code",
   "execution_count": 24,
   "metadata": {},
   "outputs": [],
   "source": [
    "prediction_model = keras.models.Model(\n",
    "    [model_load.get_layer(name=\"rd\").input, model_load.get_layer(name=\"ra\").input, model_load.get_layer(name=\"image\").input], model_load.get_layer(name=\"dense2\").output\n",
    ")"
   ]
  },
  {
   "cell_type": "code",
   "execution_count": 25,
   "metadata": {},
   "outputs": [],
   "source": [
    "probs = np.array([np.squeeze(prediction_model.predict(next(predict_generator))) for i in range(len(x3test))],dtype=object)\n",
    "pred = np.array([np.argmax(probs[i],-1) for i in range(len(x3test))], dtype = object)"
   ]
  },
  {
   "cell_type": "code",
   "execution_count": 26,
   "metadata": {},
   "outputs": [
    {
     "name": "stdout",
     "output_type": "stream",
     "text": [
      "[14, 14, 14, 14, 14, 14, 14, 14, 14, 14, 14, 1, 1, 1]\n"
     ]
    }
   ],
   "source": [
    "pred_labels = []\n",
    "\n",
    "for p in pred:\n",
    "    label = []\n",
    "    for num in p:\n",
    "        if num == 20:# or chr(ord('@')+num) == 'A':\n",
    "            continue\n",
    "        label.append(num)\n",
    "    pred_labels.append(label)\n",
    "pred_labels = np.array(pred_labels,dtype=object)  \n",
    "print(pred_labels[3])"
   ]
  },
  {
   "cell_type": "code",
   "execution_count": 27,
   "metadata": {},
   "outputs": [],
   "source": [
    "prb_ls = []\n",
    "\n",
    "for i in range(len(pred)):\n",
    "    prb = []\n",
    "    for j in range(len(pred[i])):\n",
    "        if pred[i][j] == 20:# or chr(ord('@')+num) == 'A':\n",
    "            continue\n",
    "        prb.append(probs[i][j,:])\n",
    "    prb_ls.append(prb)\n",
    "prb_ls = np.array(prb_ls,dtype=object)  "
   ]
  },
  {
   "cell_type": "code",
   "execution_count": 28,
   "metadata": {},
   "outputs": [],
   "source": [
    "from collections import Counter\n",
    "mode_orig = [max(Counter(np.argmax(y,-1)+1)) for y in y3test]\n",
    "mode_pred = [max(Counter(y)) if len(y) != 0 else 1 for y in pred_labels]"
   ]
  },
  {
   "cell_type": "code",
   "execution_count": 29,
   "metadata": {},
   "outputs": [
    {
     "data": {
      "text/plain": [
       "92.02702702702703"
      ]
     },
     "execution_count": 29,
     "metadata": {},
     "output_type": "execute_result"
    }
   ],
   "source": [
    "cmp = [mode_pred[i] == mode_orig[i] for i in range(len(y3test))]\n",
    "trues = np.sum(cmp)\n",
    "acc = trues/len(cmp)*100\n",
    "acc"
   ]
  },
  {
   "cell_type": "code",
   "execution_count": 30,
   "metadata": {},
   "outputs": [
    {
     "data": {
      "text/plain": [
       "Counter({2: 89,\n",
       "         3: 128,\n",
       "         14: 33,\n",
       "         15: 33,\n",
       "         16: 41,\n",
       "         4: 121,\n",
       "         11: 28,\n",
       "         12: 25,\n",
       "         13: 27,\n",
       "         8: 21,\n",
       "         9: 26,\n",
       "         10: 29,\n",
       "         5: 20,\n",
       "         7: 23,\n",
       "         6: 17,\n",
       "         17: 27,\n",
       "         18: 25,\n",
       "         19: 27})"
      ]
     },
     "execution_count": 30,
     "metadata": {},
     "output_type": "execute_result"
    }
   ],
   "source": [
    "Counter(mode_orig)"
   ]
  },
  {
   "cell_type": "markdown",
   "metadata": {},
   "source": [
    "### long sequences"
   ]
  },
  {
   "cell_type": "code",
   "execution_count": 31,
   "metadata": {},
   "outputs": [],
   "source": [
    "# probs_seq = np.array([np.squeeze(prediction_model.predict(next(predict_generator_seq))) for i in range(len(x3test))],dtype=object)\n",
    "# pred_seq = np.array([np.argmax(probs_seq[i],-1) for i in range(len(x3test))], dtype = object)"
   ]
  },
  {
   "cell_type": "code",
   "execution_count": 32,
   "metadata": {},
   "outputs": [],
   "source": [
    "# pred_labels_seq = []\n",
    "\n",
    "# cnt = 1\n",
    "# for p in pred_seq:\n",
    "#     label = []\n",
    "#     for num in p:\n",
    "#         if num == 20:# or chr(ord('@')+num) == 'A':\n",
    "#             continue\n",
    "#         label.append(num)\n",
    "#     pred_labels_seq.append(label)\n",
    "# pred_labels_seq = np.array(pred_labels_seq,dtype=object)  \n",
    "# print(pred_labels_seq[2])"
   ]
  },
  {
   "cell_type": "code",
   "execution_count": 33,
   "metadata": {},
   "outputs": [],
   "source": [
    "# from collections import Counter\n",
    "# mode_orig_seq = [max(Counter(np.argmax(y,-1)+1)) for y in y_test3]\n",
    "# mode_pred_seq = [max(Counter(y)) if len(y) != 0 else 1 for y in pred_labels_seq]"
   ]
  },
  {
   "cell_type": "code",
   "execution_count": 34,
   "metadata": {},
   "outputs": [],
   "source": [
    "# for i in range(10):\n",
    "#     print(str(i+1) + '. '+ str(np.argmax(y_test3[i],-1)) + ' | ' + str(pred_labels_seq[i]))"
   ]
  },
  {
   "cell_type": "markdown",
   "metadata": {},
   "source": [
    "## Trigger Detect"
   ]
  },
  {
   "cell_type": "code",
   "execution_count": 35,
   "metadata": {},
   "outputs": [],
   "source": [
    "from IPython.display import clear_output"
   ]
  },
  {
   "cell_type": "code",
   "execution_count": 36,
   "metadata": {},
   "outputs": [],
   "source": [
    "asl_dict = {5:'Tired',6:'Book',7:'Sleep',8:'Evening',9:'Ready',10:'Hot',11:'Month',12:'Cook',13:'Again',\n",
    "           14:'Summon',15:'Maybe',16:'Night',17:'Something',18:'Teacher',19:'Teach'}"
   ]
  },
  {
   "cell_type": "code",
   "execution_count": 37,
   "metadata": {},
   "outputs": [],
   "source": [
    "# params\n",
    "sign = range(5,20,1)\n",
    "low_cf = 0.8 # confidence\n",
    "high_cf = 0.8 # confidence\n",
    "samp_th = np.linspace(0.1,0.99,90)"
   ]
  },
  {
   "cell_type": "code",
   "execution_count": 38,
   "metadata": {},
   "outputs": [],
   "source": [
    "def high_trig(sign,high_cf,samp_th):\n",
    "    high_th = [round(len(y)*samp_th*high_cf) for y in y3test]\n",
    "    scores = np.array([np.array(p)[:,sign] for p in prb_ls],dtype=object)\n",
    "    acc_scores = np.array([sum(s) for s in scores],dtype=object)\n",
    "    num_sign = sum(np.array(mode_orig)==sign)\n",
    "    falses = 0\n",
    "    rejects = 0\n",
    "    for i in range(len(mode_orig)):\n",
    "        if acc_scores[i] > high_th[i] and mode_orig[i] != sign:\n",
    "            falses += 1\n",
    "        if acc_scores[i] < high_th[i] and mode_orig[i] == sign:\n",
    "            rejects += 1\n",
    "    far = falses/num_sign\n",
    "    frr = rejects/num_sign\n",
    "    return far, frr, rejects, falses"
   ]
  },
  {
   "cell_type": "code",
   "execution_count": 39,
   "metadata": {},
   "outputs": [
    {
     "name": "stdout",
     "output_type": "stream",
     "text": [
      "Processing: 1349/1350\n"
     ]
    }
   ],
   "source": [
    "far_ls = np.zeros([len(sign),len(samp_th)])\n",
    "frr_ls = np.zeros([len(sign),len(samp_th)])\n",
    "rejects = np.zeros([len(sign),len(samp_th)])\n",
    "falses = np.zeros([len(sign),len(samp_th)])\n",
    "for i in range(len(sign)):\n",
    "    for j in range(len(samp_th)):\n",
    "        far_ls[i,j], frr_ls[i,j], rejects[i,j], falses[i,j] = high_trig(sign[i],high_cf,samp_th[j])\n",
    "        clear_output(wait=True)\n",
    "        print('Processing: '+str(i*len(samp_th)+j)+'/'+str(len(sign)*len(samp_th)))"
   ]
  },
  {
   "cell_type": "code",
   "execution_count": 40,
   "metadata": {},
   "outputs": [
    {
     "data": {
      "image/png": "[encoded data removed]",
      "text/plain": [
       "<Figure size 720x432 with 1 Axes>"
      ]
     },
     "metadata": {
      "needs_background": "light"
     },
     "output_type": "display_data"
    }
   ],
   "source": [
    "# p1, = plt.plot(frr_ls[14],far_ls[14])\n",
    "# p2, = plt.plot(frr_ls[11],far_ls[11],'-xr')\n",
    "p1, = plt.plot(frr_ls[8],far_ls[8])\n",
    "p2, = plt.plot(frr_ls[11],far_ls[11],'-xr')\n",
    "matplotlib.rc('xtick',labelsize=15)\n",
    "matplotlib.rc('ytick',labelsize=15)\n",
    "plt.xlabel('False Rejection Rate (FRR)',fontsize=20, weight='normal')\n",
    "plt.ylabel('False Alarm Rate (FAR)',fontsize=20, weight='normal')\n",
    "plt.legend([p1,p2], ('Teacher', 'Maybe'), fontsize=20,\n",
    "           prop={'weight':'normal','size':18},loc='upper right')\n",
    "# plt.ylim([-0.2,0.2])\n",
    "# plt.xlim([0,0.007])\n",
    "fig = plt.gcf()\n",
    "fig.set_size_inches(10,6)"
   ]
  },
  {
   "cell_type": "code",
   "execution_count": 41,
   "metadata": {},
   "outputs": [
    {
     "name": "stdout",
     "output_type": "stream",
     "text": [
      "Max det rate: 0.88, class: Teacher\n"
     ]
    }
   ],
   "source": [
    "det_rates = 1 - sum(far_ls,frr_ls)\n",
    "print('Max det rate: ' + str(np.max(det_rates)) + ', class: '+asl_dict[sign[np.argmax(np.amax(det_rates,-1),-1)]])"
   ]
  },
  {
   "cell_type": "code",
   "execution_count": 42,
   "metadata": {},
   "outputs": [
    {
     "data": {
      "text/plain": [
       "array([0.75      , 0.58276473, 0.47913681, 0.53296703, 0.76007326,\n",
       "       0.70702286, 0.52106227, 0.55391941, 0.35836386, 0.55028305,\n",
       "       0.58058608, 0.52367551, 0.72873423, 0.88      , 0.69169719])"
      ]
     },
     "execution_count": 42,
     "metadata": {},
     "output_type": "execute_result"
    }
   ],
   "source": [
    "maxes = np.amax(det_rates,-1)\n",
    "maxes"
   ]
  },
  {
   "cell_type": "code",
   "execution_count": 43,
   "metadata": {},
   "outputs": [
    {
     "data": {
      "text/plain": [
       "Text(0, 0.5, 'Detection Rate')"
      ]
     },
     "execution_count": 43,
     "metadata": {},
     "output_type": "execute_result"
    },
    {
     "data": {
      "image/png": "[encoded data removed]",
      "text/plain": [
       "<Figure size 432x288 with 1 Axes>"
      ]
     },
     "metadata": {
      "needs_background": "light"
     },
     "output_type": "display_data"
    }
   ],
   "source": [
    "plt.bar(asl_dict.values(),maxes)\n",
    "plt.xticks(rotation = 90)\n",
    "plt.ylabel('Detection Rate',fontsize=15, weight='normal')\n",
    "# plt.savefig('results/high detect.png', bbox_inches='tight')"
   ]
  },
  {
   "cell_type": "markdown",
   "metadata": {},
   "source": [
    "### Low th method"
   ]
  },
  {
   "cell_type": "code",
   "execution_count": 44,
   "metadata": {},
   "outputs": [],
   "source": [
    "def low_trig(sign,high_cf,low_cf,samp_th):\n",
    "    high_th = [round(len(y)*samp_th*high_cf) for y in y3test]\n",
    "    scores = np.array([np.array(p)[:,sign] for p in prb_ls],dtype=object)\n",
    "    acc_scores = np.array([sum(s) for s in scores],dtype=object)\n",
    "    num_sign = sum(np.array(mode_orig)==sign)\n",
    "    falses = 0\n",
    "    rejects = 0\n",
    "    for i in range(len(mode_orig)):\n",
    "        if acc_scores[i] > high_th[i] and mode_orig[i] != sign:\n",
    "            falses += 1\n",
    "        if acc_scores[i] < high_th[i] and mode_orig[i] == sign:\n",
    "            cmp = np.nonzero(scores[i] > low_cf)[0]\n",
    "            \n",
    "            if cmp.size !=0:\n",
    "                nnzlen = cmp[-1] - cmp[0]\n",
    "#                 print(str(i)+ '. '+str(nnzlen))\n",
    "                if nnzlen > len(y3test[i])/2: # /2\n",
    "                    continue\n",
    "            rejects += 1\n",
    "    far = falses/num_sign\n",
    "    frr = rejects/num_sign\n",
    "    return far, frr, rejects, falses"
   ]
  },
  {
   "cell_type": "code",
   "execution_count": 45,
   "metadata": {},
   "outputs": [
    {
     "name": "stdout",
     "output_type": "stream",
     "text": [
      "Processing: 1349/1350\n"
     ]
    }
   ],
   "source": [
    "far_ls_low = np.zeros([len(sign),len(samp_th)])\n",
    "frr_ls_low = np.zeros([len(sign),len(samp_th)])\n",
    "rejects_low = np.zeros([len(sign),len(samp_th)])\n",
    "falses_low = np.zeros([len(sign),len(samp_th)])\n",
    "for i in range(len(sign)):\n",
    "    for j in range(len(samp_th)):\n",
    "        far_ls_low[i,j], frr_ls_low[i,j], rejects_low[i,j], falses_low[i,j] = low_trig(sign[i],high_cf,low_cf,samp_th[j])\n",
    "        clear_output(wait=True)\n",
    "        print('Processing: '+str(i*len(samp_th)+j)+'/'+str(len(sign)*len(samp_th)))"
   ]
  },
  {
   "cell_type": "code",
   "execution_count": 46,
   "metadata": {},
   "outputs": [
    {
     "name": "stdout",
     "output_type": "stream",
     "text": [
      "Max det rate: 0.96, class: Teacher\n"
     ]
    }
   ],
   "source": [
    "det_rates_low = 1 - sum(far_ls_low,frr_ls_low)\n",
    "print('Max det rate: ' + str(np.max(det_rates_low)) + ', class: '+asl_dict[sign[np.argmax(np.amax(det_rates_low,-1),-1)]])"
   ]
  },
  {
   "cell_type": "code",
   "execution_count": 47,
   "metadata": {},
   "outputs": [
    {
     "data": {
      "text/plain": [
       "array([0.8       , 0.70588235, 0.60869565, 0.61904762, 0.92307692,\n",
       "       0.79310345, 0.59249084, 0.64      , 0.55555556, 0.72727273,\n",
       "       0.66666667, 0.65853659, 0.77777778, 0.96      , 0.77777778])"
      ]
     },
     "execution_count": 47,
     "metadata": {},
     "output_type": "execute_result"
    }
   ],
   "source": [
    "maxes_low = np.amax(det_rates_low,-1)\n",
    "maxes_low"
   ]
  },
  {
   "cell_type": "code",
   "execution_count": 48,
   "metadata": {},
   "outputs": [],
   "source": [
    "# plt.bar(asl_dict.values(),maxes)\n",
    "# plt.xticks(rotation = 90)\n",
    "# plt.ylabel('Detection Rate',fontsize=15, weight='normal')\n",
    "# plt.savefig('results/low detect.png', bbox_inches='tight')"
   ]
  },
  {
   "cell_type": "code",
   "execution_count": 49,
   "metadata": {},
   "outputs": [],
   "source": [
    "def bar_plot(ax, data, colors=None, total_width=0.8, single_width=1, legend=True):\n",
    "    \"\"\"Draws a bar plot with multiple bars per data point.\n",
    "\n",
    "    Parameters\n",
    "    ----------\n",
    "    ax : matplotlib.pyplot.axis\n",
    "        The axis we want to draw our plot on.\n",
    "\n",
    "    data: dictionary\n",
    "        A dictionary containing the data we want to plot. Keys are the names of the\n",
    "        data, the items is a list of the values.\n",
    "\n",
    "        Example:\n",
    "        data = {\n",
    "            \"x\":[1,2,3],\n",
    "            \"y\":[1,2,3],\n",
    "            \"z\":[1,2,3],\n",
    "        }\n",
    "\n",
    "    colors : array-like, optional\n",
    "        A list of colors which are used for the bars. If None, the colors\n",
    "        will be the standard matplotlib color cyle. (default: None)\n",
    "\n",
    "    total_width : float, optional, default: 0.8\n",
    "        The width of a bar group. 0.8 means that 80% of the x-axis is covered\n",
    "        by bars and 20% will be spaces between the bars.\n",
    "\n",
    "    single_width: float, optional, default: 1\n",
    "        The relative width of a single bar within a group. 1 means the bars\n",
    "        will touch eachother within a group, values less than 1 will make\n",
    "        these bars thinner.\n",
    "\n",
    "    legend: bool, optional, default: True\n",
    "        If this is set to true, a legend will be added to the axis.\n",
    "    \"\"\"\n",
    "\n",
    "    # Check if colors where provided, otherwhise use the default color cycle\n",
    "    if colors is None:\n",
    "        colors = plt.rcParams['axes.prop_cycle'].by_key()['color']\n",
    "    hatches = ['/', '']\n",
    "    # Number of bars per group\n",
    "    n_bars = len(data)\n",
    "\n",
    "    # The width of a single bar\n",
    "    bar_width = total_width / n_bars\n",
    "\n",
    "    # List containing handles for the drawn bars, used for the legend\n",
    "    bars = []\n",
    "\n",
    "    # Iterate over all data\n",
    "    for i, (name, values) in enumerate(data.items()):\n",
    "        # The offset in x direction of that bar\n",
    "        x_offset = (i - n_bars / 2) * bar_width + bar_width / 2\n",
    "\n",
    "        # Draw a bar for every value of that type\n",
    "        for x, y in enumerate(values):\n",
    "            bar = ax.bar(x + x_offset, y, width=bar_width * single_width, color=colors[i % len(colors)],\n",
    "                        hatch = hatches[i])\n",
    "\n",
    "        # Add a handle to the last drawn bar, which we'll need for the legend\n",
    "        bars.append(bar[0])\n",
    "\n",
    "    # Draw legend if we need\n",
    "    if legend:\n",
    "        ax.legend(bars, data.keys(),loc='best')"
   ]
  },
  {
   "cell_type": "code",
   "execution_count": 50,
   "metadata": {},
   "outputs": [
    {
     "data": {
      "text/plain": [
       "<Closed HDF5 file>"
      ]
     },
     "execution_count": 50,
     "metadata": {},
     "output_type": "execute_result"
    }
   ],
   "source": [
    "data"
   ]
  },
  {
   "cell_type": "code",
   "execution_count": 51,
   "metadata": {},
   "outputs": [],
   "source": [
    "data = {}\n",
    "lsx = [maxes, maxes_low]\n",
    "ls_th = ['Single Threshold', 'Double Threshold']\n",
    "for key in ls_th:\n",
    "    for val in lsx:\n",
    "        data[key] = val\n",
    "        lsx.remove(val)\n",
    "        break"
   ]
  },
  {
   "cell_type": "code",
   "execution_count": 52,
   "metadata": {},
   "outputs": [],
   "source": [
    "csfont = {'fontname': 'Comic Sans MS'}"
   ]
  },
  {
   "cell_type": "code",
   "execution_count": 53,
   "metadata": {},
   "outputs": [
    {
     "data": {
      "text/plain": [
       "Text(0, 0.5, 'Detection Rate')"
      ]
     },
     "execution_count": 53,
     "metadata": {},
     "output_type": "execute_result"
    },
    {
     "name": "stderr",
     "output_type": "stream",
     "text": [
      "/home/m/.local/lib/python3.7/site-packages/matplotlib/font_manager.py:1241: UserWarning: findfont: Font family ['Comic Sans MS'] not found. Falling back to DejaVu Sans.\n",
      "  (prop.get_family(), self.defaultFamily[fontext]))\n"
     ]
    },
    {
     "data": {
      "image/png": "[encoded data removed]",
      "text/plain": [
       "<Figure size 432x288 with 1 Axes>"
      ]
     },
     "metadata": {
      "needs_background": "light"
     },
     "output_type": "display_data"
    }
   ],
   "source": [
    "fig, ax = plt.subplots()\n",
    "bar_plot(ax, data, total_width=.8, single_width=.9)\n",
    "plt.rcParams['font.family'] = 'Comic Sans MS'\n",
    "plt.xticks(range(15), asl_dict.values())\n",
    "plt.xticks(rotation = 90)\n",
    "plt.ylabel('Detection Rate',fontsize=15, weight='normal', **csfont)\n",
    "# plt.savefig('results/comp th.png', bbox_inches='tight', dpi=500)"
   ]
  },
  {
   "cell_type": "code",
   "execution_count": 54,
   "metadata": {},
   "outputs": [
    {
     "data": {
      "image/png": "[encoded data removed]",
      "text/plain": [
       "<Figure size 720x432 with 1 Axes>"
      ]
     },
     "metadata": {
      "needs_background": "light"
     },
     "output_type": "display_data"
    }
   ],
   "source": [
    "# p1, = plt.plot(frr_ls[14],far_ls[14])\n",
    "# p2, = plt.plot(frr_ls[11],far_ls[11],'-xr')\n",
    "idx = 10 #8\n",
    "for idx in range(8,9): # plotted with low thesold diving factor of 20, not 2\n",
    "    plt.figure()\n",
    "    p1, = plt.plot(frr_ls[idx],far_ls[idx],'k',linewidth=5)\n",
    "    p2, = plt.plot(frr_ls_low[idx],far_ls_low[idx],'-.xr',linewidth=5,markersize=15)\n",
    "    matplotlib.rc('xtick',labelsize=15)\n",
    "    matplotlib.rc('ytick',labelsize=15)\n",
    "    plt.xlabel('False Rejection Rate (FRR)',fontsize=20, weight='normal')\n",
    "    plt.ylabel('False Alarm Rate (FAR)',fontsize=20, weight='normal')\n",
    "    plt.legend([p1,p2], ('Single Threshold', 'Double Threshold'), fontsize=20,\n",
    "               prop={'weight':'normal','size':18},loc='best')\n",
    "    plt.title(asl_dict[idx+5])\n",
    "    plt.grid(color='k')\n",
    "    # plt.ylim([-0.2,0.2])\n",
    "    # plt.xlim([0,0.007])\n",
    "    fig = plt.gcf()\n",
    "    fig.set_size_inches(10,6)\n",
    "#     plt.savefig('results/again double th.png', bbox_inches='tight', dpi = 500)"
   ]
  },
  {
   "cell_type": "code",
   "execution_count": 55,
   "metadata": {},
   "outputs": [
    {
     "data": {
      "image/png": "[encoded data removed]",
      "text/plain": [
       "<Figure size 720x432 with 1 Axes>"
      ]
     },
     "metadata": {
      "needs_background": "light"
     },
     "output_type": "display_data"
    }
   ],
   "source": [
    "# p1, = plt.plot(frr_ls[14],far_ls[14])\n",
    "# p2, = plt.plot(frr_ls[11],far_ls[11],'-xr')\n",
    "idx = 10 # maybe = 10\n",
    "idx2 = 13 # teacher = 13\n",
    "plt.figure()\n",
    "p1, = plt.plot(frr_ls[idx],far_ls[idx],'k',linewidth=5)\n",
    "p2, = plt.plot(frr_ls_low[idx2],far_ls_low[idx2],'-.xr',linewidth=5,markersize=15)\n",
    "matplotlib.rc('xtick',labelsize=15)\n",
    "matplotlib.rc('ytick',labelsize=15)\n",
    "plt.xlabel('False Rejection Rate (FRR)',fontsize=20, weight='normal')\n",
    "plt.ylabel('False Alarm Rate (FAR)',fontsize=20, weight='normal')\n",
    "plt.legend([p1,p2], ('Maybe', 'Teacher'), fontsize=20,\n",
    "           prop={'weight':'normal','size':18},loc='best')\n",
    "plt.title(asl_dict[idx+5])\n",
    "plt.grid(color='k')\n",
    "# plt.ylim([-0.2,0.2])\n",
    "# plt.xlim([0,0.007])\n",
    "fig = plt.gcf()\n",
    "fig.set_size_inches(10,6)\n",
    "plt.savefig('results/maybe vs teacher.png', bbox_inches='tight', dpi = 500)"
   ]
  },
  {
   "cell_type": "code",
   "execution_count": null,
   "metadata": {},
   "outputs": [],
   "source": []
  },
  {
   "cell_type": "code",
   "execution_count": null,
   "metadata": {},
   "outputs": [],
   "source": []
  },
  {
   "cell_type": "code",
   "execution_count": null,
   "metadata": {},
   "outputs": [],
   "source": []
  },
  {
   "cell_type": "markdown",
   "metadata": {},
   "source": [
    "### Aux plots"
   ]
  },
  {
   "cell_type": "code",
   "execution_count": 85,
   "metadata": {},
   "outputs": [
    {
     "data": {
      "text/plain": [
       "2"
      ]
     },
     "execution_count": 85,
     "metadata": {},
     "output_type": "execute_result"
    }
   ],
   "source": [
    "len(ls_th)"
   ]
  },
  {
   "cell_type": "code",
   "execution_count": 100,
   "metadata": {},
   "outputs": [
    {
     "data": {
      "text/plain": [
       "0.8372859025032938"
      ]
     },
     "execution_count": 100,
     "metadata": {},
     "output_type": "execute_result"
    }
   ],
   "source": [
    "g2"
   ]
  },
  {
   "cell_type": "code",
   "execution_count": 106,
   "metadata": {},
   "outputs": [
    {
     "data": {
      "image/png": "[encoded data removed]",
      "text/plain": [
       "<Figure size 288x432 with 1 Axes>"
      ]
     },
     "metadata": {
      "needs_background": "light"
     },
     "output_type": "display_data"
    }
   ],
   "source": [
    "# Two handed\n",
    "idx = np.array([10, 17]) - 5\n",
    "g1 = np.mean(maxes_low[tuple([idx])])\n",
    "g2 = np.mean(maxes_low[tuple([~idx])])\n",
    "\n",
    "lsx = [g1, g2]\n",
    "ls_th = ['One Handed', 'Two Handed']\n",
    "\n",
    "fig, ax = plt.subplots()\n",
    "plt.bar(ls_th, lsx,  color='black', align='center')\n",
    "plt.xticks(range(len(ls_th)), ls_th)\n",
    "plt.xticks(rotation = 45)\n",
    "plt.ylabel('Detection Rate',fontsize=15, weight='normal')\n",
    "plt.title(str(lsx))\n",
    "# plt.ylim([0.8, 1])\n",
    "fig.set_size_inches(4,6)\n",
    "plt.ylim([0, 1.1])\n",
    "plt.savefig('results/aux two hand.png', bbox_inches='tight', dpi = 500)"
   ]
  },
  {
   "cell_type": "code",
   "execution_count": 107,
   "metadata": {},
   "outputs": [
    {
     "data": {
      "image/png": "[encoded data removed]",
      "text/plain": [
       "<Figure size 288x432 with 1 Axes>"
      ]
     },
     "metadata": {
      "needs_background": "light"
     },
     "output_type": "display_data"
    }
   ],
   "source": [
    "# major\n",
    "body = np.array([5]) - 5\n",
    "neural = np.array([6,9,15,17]) - 5\n",
    "head = np.array([7,10,18,19]) - 5\n",
    "hand = np.array([8,11,12,13,14,16]) - 5\n",
    "g1 = np.mean(maxes_low[tuple([body])])\n",
    "g2 = np.mean(maxes_low[tuple([neural])])\n",
    "g3 = np.mean(maxes_low[tuple([head])])\n",
    "g4 = np.mean(maxes_low[tuple([hand])])\n",
    "\n",
    "lsx = [g1, g2, g3, g4]\n",
    "ls_th = ['Body', 'Neutral', 'Head', 'Hand']\n",
    "\n",
    "fig, ax = plt.subplots()\n",
    "plt.bar(ls_th, lsx,  color='black', align='center')\n",
    "plt.xticks(range(len(ls_th)), ls_th)\n",
    "plt.xticks(rotation = 45)\n",
    "plt.ylabel('Detection Rate',fontsize=15, weight='normal')\n",
    "plt.title(str(lsx))\n",
    "# plt.ylim([0.8, 1])\n",
    "fig.set_size_inches(4,6)\n",
    "plt.ylim([0, 1.1])\n",
    "plt.savefig('results/aux major.png', bbox_inches='tight', dpi = 500)"
   ]
  },
  {
   "cell_type": "code",
   "execution_count": 109,
   "metadata": {},
   "outputs": [
    {
     "data": {
      "image/png": "[encoded data removed]",
      "text/plain": [
       "<Figure size 288x432 with 1 Axes>"
      ]
     },
     "metadata": {
      "needs_background": "light"
     },
     "output_type": "display_data"
    }
   ],
   "source": [
    "# Movement\n",
    "curved = np.array([5,6,10,13]) - 5\n",
    "straight = np.array([7,8,9,11,15,16,18,19]) - 5\n",
    "other = np.array([12]) - 5\n",
    "backforth = np.array([14]) - 5\n",
    "circular = np.array([17]) - 5\n",
    "g1 = np.mean(maxes_low[tuple([curved])])\n",
    "g2 = np.mean(maxes_low[tuple([straight])])\n",
    "g3 = np.mean(maxes_low[tuple([other])])\n",
    "g4 = np.mean(maxes_low[tuple([backforth])])\n",
    "g5 = np.mean(maxes_low[tuple([circular])])\n",
    "\n",
    "lsx = [g1, g2, g3, g4, g5]\n",
    "ls_th = ['curved', 'straight', 'other', 'backforth', 'circular']\n",
    "\n",
    "fig, ax = plt.subplots()\n",
    "plt.bar(ls_th, lsx,  color='black', align='center')\n",
    "plt.xticks(range(len(ls_th)), ls_th)\n",
    "plt.xticks(rotation = 45)\n",
    "plt.ylabel('Detection Rate',fontsize=15, weight='normal')\n",
    "plt.title(str(lsx))\n",
    "# plt.ylim([0.8, 1])\n",
    "fig.set_size_inches(4,6)\n",
    "plt.ylim([0, 1.1])\n",
    "plt.savefig('results/aux movement.png', bbox_inches='tight', dpi = 500)"
   ]
  },
  {
   "cell_type": "code",
   "execution_count": 110,
   "metadata": {},
   "outputs": [
    {
     "data": {
      "image/png": "[encoded data removed]",
      "text/plain": [
       "<Figure size 288x432 with 1 Axes>"
      ]
     },
     "metadata": {
      "needs_background": "light"
     },
     "output_type": "display_data"
    }
   ],
   "source": [
    "# stroke\n",
    "three = np.array([5,6,10,11,14,16,19]) - 5\n",
    "four = np.array([7,9,13,17,18]) - 5\n",
    "five = np.array([8,12,15]) - 5\n",
    "g1 = np.mean(maxes_low[tuple([three])])\n",
    "g2 = np.mean(maxes_low[tuple([four])])\n",
    "g3 = np.mean(maxes_low[tuple([five])])\n",
    "\n",
    "lsx = [g1, g2, g3]\n",
    "ls_th = ['three', 'four', 'five']\n",
    "\n",
    "fig, ax = plt.subplots()\n",
    "plt.bar(ls_th, lsx,  color='black', align='center')\n",
    "plt.xticks(range(len(ls_th)), ls_th)\n",
    "plt.xticks(rotation = 45)\n",
    "plt.ylabel('Detection Rate',fontsize=15, weight='normal')\n",
    "plt.title(str(lsx))\n",
    "# plt.ylim([0.8, 1])\n",
    "fig.set_size_inches(4,6)\n",
    "plt.ylim([0, 1.1])\n",
    "plt.savefig('results/aux stroke.png', bbox_inches='tight', dpi = 500)"
   ]
  },
  {
   "cell_type": "code",
   "execution_count": null,
   "metadata": {},
   "outputs": [],
   "source": [
    "lsx = frr_ls_low\n",
    "lsx2 = \n",
    "ls_th = asl_dict.values()\n"
   ]
  }
 ],
 "metadata": {
  "kernelspec": {
   "display_name": "Python 3",
   "language": "python",
   "name": "python3"
  },
  "language_info": {
   "codemirror_mode": {
    "name": "ipython",
    "version": 3
   },
   "file_extension": ".py",
   "mimetype": "text/x-python",
   "name": "python",
   "nbconvert_exporter": "python",
   "pygments_lexer": "ipython3",
   "version": "3.7.2"
  }
 },
 "nbformat": 4,
 "nbformat_minor": 2
}
