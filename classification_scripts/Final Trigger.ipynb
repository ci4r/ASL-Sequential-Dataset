{
 "cells": [
  {
   "cell_type": "code",
   "execution_count": 415,
   "metadata": {},
   "outputs": [
    {
     "name": "stdout",
     "output_type": "stream",
     "text": [
      "Num GPUs Available:  1\n"
     ]
    }
   ],
   "source": [
    "# %matplotlib inline\n",
    "import matplotlib.pyplot as plt\n",
    "import matplotlib.image as mpimg\n",
    "import tensorflow as tf\n",
    "import os\n",
    "# Create a MirroredStrateg, If Multi-GPU available\n",
    "os.environ['TF_FORCE_GPU_ALLOW_GROWTH'] = 'true' \n",
    "tf.config.set_soft_device_placement(True)\n",
    "# strategy = tf.distribute.MirroredStrategy(devices=['/gpu:1','/gpu:2']) \n",
    "# print('Number of GPUs being used: {}'.format(strategy.num_replicas_in_sync))\n",
    "from tensorflow.keras.preprocessing.image import ImageDataGenerator\n",
    "from tensorflow.keras.models import Sequential, Model, model_from_json\n",
    "from tensorflow.keras.optimizers import *\n",
    "from tensorflow.keras.layers import *\n",
    "from tensorflow.keras import regularizers\n",
    "from tensorflow.keras.callbacks import CSVLogger\n",
    "from tensorflow.keras.wrappers.scikit_learn import KerasClassifier\n",
    "from tensorflow.keras.applications import VGG16, ResNet50\n",
    "from tensorflow.keras.utils import to_categorical\n",
    "from sklearn.model_selection import train_test_split\n",
    "from sklearn.preprocessing import StandardScaler\n",
    "from livelossplot.keras import PlotLossesCallback\n",
    "from livelossplot import PlotLossesKerasTF\n",
    "from tensorflow.keras.callbacks import ReduceLROnPlateau\n",
    "from tqdm import tqdm\n",
    "import efficientnet.keras as efn\n",
    "import h5py, glob, re, cv2, math, matplotlib, pickle, gc\n",
    "import tensorflow.keras as keras\n",
    "import pandas as pd\n",
    "from pandas import read_csv\n",
    "import numpy as np\n",
    "from scipy import stats\n",
    "import itertools, random\n",
    "from collections import Counter\n",
    "# from cnn_utils import *\n",
    "# from tensorflow.compat.v1 import ConfigProto\n",
    "# from tensorflow.compat.v1 import InteractiveSession\n",
    "from sklearn.metrics import classification_report, confusion_matrix\n",
    "from sklearn.utils import class_weight\n",
    "from PIL import Image  \n",
    "import pdb\n",
    "from statistics import mode \n",
    "from IPython.display import clear_output\n",
    "\n",
    "# config = ConfigProto()\n",
    "# config.gpu_options.allow_growth = True\n",
    "# session = InteractiveSession(config=config)\n",
    "\n",
    "np.random.seed(1)\n",
    "# Setting the seed for python random numbers\n",
    "random.seed(1254)\n",
    "# Setting the graph-level random seed.\n",
    "tf.random.set_seed(89)\n",
    "\n",
    "os.environ[\"CUDA_DEVICE_ORDER\"] = \"PCI_BUS_ID\"\n",
    "os.environ[\"CUDA_VISIBLE_DEVICES\"] = \"2\"\n",
    "!CUDA_VISIBLE_DEVICES=2\n",
    "\n",
    "# strategy = tf.distribute.MirroredStrategy(devices=['/gpu:1','/gpu:2'])\n",
    "# print('Number of GPUs being used: {}'.format(strategy.num_replicas_in_sync))\n",
    "# print('Number of GPUs being used: {}'.format(strategy.num_replicas_in_sync))\n",
    "# def setup_multi_node_training(): # IMPORTANT: SET UP TF_CONFIG FOR MULTINODE TRAINING HERE os.environ[“TF_FORCE_GPU_ALLOW_GROWTH”] = “true” tf.config.set_soft_device_placement(True) mirrored_strategy = tf.distribute.experimental.MultiWorkerMirroredStrategy(tf.distribute.experimental.CollectiveCommunication.NCCL) # Constructs the configuration run_config = tf.estimator.RunConfig( train_distribute=mirrored_strategy, ) return run_config\n",
    "print(\"Num GPUs Available: \", len(tf.config.experimental.list_physical_devices('GPU')))"
   ]
  },
  {
   "cell_type": "markdown",
   "metadata": {},
   "source": [
    "## Load data"
   ]
  },
  {
   "cell_type": "code",
   "execution_count": 416,
   "metadata": {},
   "outputs": [
    {
     "name": "stdout",
     "output_type": "stream",
     "text": [
      "(800, 120, 128, 128, 3)\n",
      "(200, 120, 128, 128, 3)\n",
      "(800, 120, 19)\n",
      "(200, 120, 19)\n",
      "(800,)\n",
      "(200,)\n"
     ]
    }
   ],
   "source": [
    "# filename = 'Datasets/final_imit_spec.pkl'\n",
    "# filename = 'Datasets/final_imit_spec2_128.pkl'\n",
    "subj = 'imit'\n",
    "merge_train_test = False\n",
    "filename = 'Datasets/final_'+subj+'_spec2_128_last.pkl'\n",
    "with open(filename, 'rb') as input:\n",
    "    x = pickle.load(input)\n",
    "imit_train_images, imit_test_images, imit_y_train, imit_y_test, imit_env_train, imit_env_test = [x[0], x[1]\n",
    "                                                                                                , x[2], x[3]\n",
    "                                                                                                , x[4], x[5]]\n",
    "print(imit_train_images.shape)\n",
    "print(imit_test_images.shape)\n",
    "print(imit_y_train.shape)\n",
    "print(imit_y_test.shape)\n",
    "print(imit_env_train.shape)\n",
    "print(imit_env_test.shape)"
   ]
  },
  {
   "cell_type": "code",
   "execution_count": 417,
   "metadata": {},
   "outputs": [],
   "source": [
    "# filename = 'Datasets/final_native_spec.pkl'\n",
    "# with open(filename, 'rb') as input:\n",
    "#     x = pickle.load(input)\n",
    "# native_train_images, native_test_images, native_y_train, native_y_test, native_env_train, native_env_test = [x[0], x[1]\n",
    "#                                                                                                 , x[2], x[3]\n",
    "#                                                                                                 , x[4], x[5]]\n",
    "# print(len(native_train_images))\n",
    "# print(len(native_test_images))\n",
    "# print(native_y_train.shape)\n",
    "# print(native_y_test.shape)\n",
    "# print(native_env_train.shape)\n",
    "# print(native_env_test.shape)"
   ]
  },
  {
   "cell_type": "markdown",
   "metadata": {},
   "source": [
    "##### STA LTA"
   ]
  },
  {
   "cell_type": "code",
   "execution_count": 418,
   "metadata": {},
   "outputs": [],
   "source": [
    "def sta_lta2(vec,nlta,nsta,init_th,stop_th,stepsz):\n",
    "    vec2 = np.zeros(vec.shape)\n",
    "    mask = np.zeros(vec.shape)\n",
    "    state = 0 # '0' nothing, '1' signing\n",
    "    \n",
    "    for i in range(0,len(vec),stepsz):\n",
    "        \n",
    "        if i+nlta+nsta+1 > len(vec):\n",
    "            if state == 1:\n",
    "                stoppt = len(vec)-2\n",
    "                vec2[startpt:stoppt] = vec[startpt:stoppt]\n",
    "                mask[startpt:stoppt] = 1\n",
    "            break\n",
    "            \n",
    "            \n",
    "        longwin = vec[i:i+nlta]\n",
    "        shortwin = vec[i+nlta:i+nlta+nsta]\n",
    "        \n",
    "        if i < nlta and np.mean(longwin) > 150:\n",
    "            vec2[0:i+nsta] = vec[0:i+nsta]\n",
    "            mask[0:i+nsta] = 1\n",
    "        if init_th < sum(shortwin)/sum(longwin):\n",
    "            if state == 0:\n",
    "                startpt = i+nlta\n",
    "                state = 1\n",
    "            if state == 1:\n",
    "                continue\n",
    "        \n",
    "        else:\n",
    "            if state == 0:\n",
    "                continue\n",
    "            if state == 1:\n",
    "                if sum(shortwin)/sum(longwin) > stop_th:\n",
    "                    continue\n",
    "                else:\n",
    "                    stoppt = i+nlta+int(nsta/2)\n",
    "                    state = 0\n",
    "                    vec2[startpt:stoppt] = vec[startpt:stoppt]\n",
    "                    mask[startpt:stoppt] = 1\n",
    "                    \n",
    "    return vec2, mask"
   ]
  },
  {
   "cell_type": "code",
   "execution_count": 419,
   "metadata": {
    "scrolled": true
   },
   "outputs": [],
   "source": [
    "duration = 24.2\n",
    "nsta_sec = 0.7\n",
    "ratio = imit_env_train[0].shape[-1]/duration\n",
    "nsta = int(nsta_sec*ratio)\n",
    "nlta = int(2*nsta)\n",
    "stepsz = int(0.2*ratio) # 0.2\n",
    "timevec = np.linspace(0,24.2,imit_env_train[0].shape[-1])\n",
    "idx = 27\n",
    "init_th = 0.6\n",
    "stop_th = 0.3\n",
    "vecs_train = [] #np.zeros(np.argmax(margin_tr,-1).shape)\n",
    "mask_train = [] #np.zeros(np.argmax(margin_tr,-1).shape)\n",
    "vecs_test = [] #np.zeros(np.argmax(margin_ts,-1).shape)\n",
    "mask_test = [] #np.zeros(np.argmax(margin_ts,-1).shape)\n",
    "for i in range(len(imit_env_train)):\n",
    "    vecs_train.append(sta_lta2(imit_env_train[i],nlta,nsta,init_th,stop_th,stepsz)[0])\n",
    "    mask_train.append(sta_lta2(imit_env_train[i],nlta,nsta,init_th,stop_th,stepsz)[1])\n",
    "# mask_train_win = mask_train[:,::5]\n",
    "for i in range(len(imit_env_test)):\n",
    "    vecs_test.append(sta_lta2(imit_env_test[i],nlta,nsta,init_th,stop_th,stepsz)[0])\n",
    "    mask_test.append(sta_lta2(imit_env_test[i],nlta,nsta,init_th,stop_th,stepsz)[1])\n",
    "# mask_test_win = mask_test[:,::5]\n",
    "mask_train = np.array(mask_train)\n",
    "mask_test = np.array(mask_test)"
   ]
  },
  {
   "cell_type": "markdown",
   "metadata": {},
   "source": [
    "### Visualize"
   ]
  },
  {
   "cell_type": "code",
   "execution_count": 420,
   "metadata": {},
   "outputs": [],
   "source": [
    "# idx = 3\n",
    "# plt.plot(timevec,imit_env_test[idx]/max(imit_env_test[idx]),color='black')\n",
    "# plt.plot(timevec,mask_test[idx],linewidth=3,color='red')\n",
    "# plt.legend(['Euclidean Distance','STA/LTA Detector'], loc = 'upper right', fontsize = 'xx-large')\n",
    "# fig = plt.gcf()\n",
    "# fig.set_size_inches(12,6)\n",
    "# plt.xticks(fontsize=19)\n",
    "# plt.yticks(fontsize=19)\n",
    "# plt.xlabel('Time (sec)',fontsize=19, fontname='Comic Sans MS')\n",
    "# plt.ylabel('Normalized Euclidean Distance',fontsize=19)\n",
    "# # plt.savefig(str(idx)+' gesture detect.png',dpi=400)"
   ]
  },
  {
   "cell_type": "code",
   "execution_count": 421,
   "metadata": {},
   "outputs": [],
   "source": [
    "def gesture_counter(mask):\n",
    "    cnt = 0\n",
    "    flag = 0\n",
    "    for i in range(len(mask)):\n",
    "        if flag == 0 and mask[i] == 0:\n",
    "            continue\n",
    "        if flag == 1 and mask[i] == 1:\n",
    "            continue\n",
    "        if flag == 0 and mask[i] == 1:\n",
    "            flag = 1\n",
    "            cnt += 1\n",
    "        if flag == 1 and mask[i] == 0:\n",
    "            flag = 0\n",
    "    return cnt"
   ]
  },
  {
   "cell_type": "code",
   "execution_count": 422,
   "metadata": {
    "scrolled": true
   },
   "outputs": [
    {
     "data": {
      "text/plain": [
       "1291"
      ]
     },
     "execution_count": 422,
     "metadata": {},
     "output_type": "execute_result"
    }
   ],
   "source": [
    "numgest = [gesture_counter(m) for m in mask_test]\n",
    "sum(numgest)"
   ]
  },
  {
   "cell_type": "code",
   "execution_count": 423,
   "metadata": {},
   "outputs": [],
   "source": [
    "num_class = 19"
   ]
  },
  {
   "cell_type": "code",
   "execution_count": 424,
   "metadata": {},
   "outputs": [],
   "source": [
    "def masker(x, y, mask):\n",
    "    x2 = []\n",
    "    y2 = []\n",
    "    flag = 0\n",
    "    for i in range(len(mask)):\n",
    "        for j in range(mask.shape[1]):\n",
    "            if flag == 0 and mask[i,j] == 0:\n",
    "                continue\n",
    "            if flag == 1 and mask[i,j] == 1:\n",
    "                if j == mask.shape[1]-1 and j+1 - startpt > 2:\n",
    "                    stoppt = j+1\n",
    "                    x2.append(x[i,startpt:stoppt])\n",
    "                    y2.append(y[i,startpt:stoppt])\n",
    "                else:\n",
    "                    continue\n",
    "            if flag == 0 and mask[i,j] == 1:\n",
    "                flag = 1\n",
    "                startpt = j\n",
    "            if flag == 1 and mask[i,j] == 0:\n",
    "                flag = 0\n",
    "                stoppt = j+1\n",
    "                if stoppt-startpt > 2:\n",
    "                    x2.append(x[i,startpt:stoppt])\n",
    "                    y2.append(y[i,startpt:stoppt])\n",
    "    \n",
    "    x2 = np.asarray(x2)\n",
    "    y2 = np.array([to_categorical(y,num_classes=num_class) for y in np.array(y2)])\n",
    "    return x2, y2"
   ]
  },
  {
   "cell_type": "code",
   "execution_count": 425,
   "metadata": {},
   "outputs": [],
   "source": [
    "def down_mask(mask, des_len):\n",
    "    return np.array([mask[int(len(mask)/des_len*i)] for i in range(des_len)])"
   ]
  },
  {
   "cell_type": "code",
   "execution_count": 426,
   "metadata": {},
   "outputs": [
    {
     "name": "stdout",
     "output_type": "stream",
     "text": [
      "(800, 120)\n",
      "(200, 120)\n",
      "(800, 120, 19)\n",
      "(200, 120, 19)\n",
      "(800, 120, 19, 19)\n",
      "(200, 120, 19, 19)\n"
     ]
    }
   ],
   "source": [
    "des_len = imit_train_images.shape[1]\n",
    "mask_down_train = np.array([down_mask(mask, des_len) for mask in mask_train])\n",
    "mask_down_test = np.array([down_mask(mask, des_len) for mask in mask_test])\n",
    "y_down_train = np.array([down_mask(y, des_len) for y in imit_y_train])\n",
    "y_down_test = np.array([down_mask(y, des_len) for y in imit_y_test])\n",
    "y_down_train_cat = to_categorical(y_down_train, num_classes=num_class)\n",
    "y_down_test_cat = to_categorical(y_down_test, num_classes=num_class)\n",
    "print(mask_down_train.shape)\n",
    "print(mask_down_test.shape)\n",
    "print(y_down_train.shape)\n",
    "print(y_down_test.shape)\n",
    "print(y_down_train_cat.shape)\n",
    "print(y_down_test_cat.shape)"
   ]
  },
  {
   "cell_type": "code",
   "execution_count": 427,
   "metadata": {},
   "outputs": [
    {
     "name": "stdout",
     "output_type": "stream",
     "text": [
      "(4735,)\n",
      "(4735,)\n",
      "(1190,)\n",
      "(1190,)\n"
     ]
    }
   ],
   "source": [
    "x3train, y3train = masker(imit_train_images, np.argmax(y_down_train,-1), mask_down_train)\n",
    "x3test, y3test = masker(imit_test_images, np.argmax(y_down_test,-1), mask_down_test) \n",
    "print(x3train.shape)\n",
    "print(y3train.shape)\n",
    "print(x3test.shape)\n",
    "print(y3test.shape)"
   ]
  },
  {
   "cell_type": "code",
   "execution_count": 428,
   "metadata": {},
   "outputs": [
    {
     "data": {
      "text/plain": [
       "(16, 19)"
      ]
     },
     "execution_count": 428,
     "metadata": {},
     "output_type": "execute_result"
    }
   ],
   "source": [
    "y3train[0].shape"
   ]
  },
  {
   "cell_type": "code",
   "execution_count": 429,
   "metadata": {},
   "outputs": [
    {
     "data": {
      "text/plain": [
       "Counter({1: 1061,\n",
       "         10: 168,\n",
       "         11: 156,\n",
       "         12: 148,\n",
       "         3: 789,\n",
       "         2: 455,\n",
       "         4: 163,\n",
       "         0: 92,\n",
       "         16: 165,\n",
       "         17: 166,\n",
       "         18: 172,\n",
       "         7: 147,\n",
       "         8: 159,\n",
       "         9: 152,\n",
       "         5: 154,\n",
       "         6: 140,\n",
       "         13: 143,\n",
       "         14: 145,\n",
       "         15: 160})"
      ]
     },
     "execution_count": 429,
     "metadata": {},
     "output_type": "execute_result"
    }
   ],
   "source": [
    "classes = [stats.mode(np.argmax(y,-1))[0] for y in y3train]\n",
    "c = [int(x) for x in classes]\n",
    "Counter(c)"
   ]
  },
  {
   "cell_type": "code",
   "execution_count": 430,
   "metadata": {},
   "outputs": [
    {
     "name": "stdout",
     "output_type": "stream",
     "text": [
      "(4643,)\n",
      "(4643,)\n",
      "(1164,)\n",
      "(1164,)\n"
     ]
    }
   ],
   "source": [
    "# eliminate zeros md\n",
    "x6train = np.array([x3train[i] for i in range(len(y3train)) if stats.mode(np.argmax(y3train[i],-1))[0] != 0])\n",
    "y6train = np.array([y3train[i] for i in range(len(y3train)) if stats.mode(np.argmax(y3train[i],-1))[0] != 0])\n",
    "x6test = np.array([x3test[i] for i in range(len(y3test)) if stats.mode(np.argmax(y3test[i],-1))[0] != 0])\n",
    "y6test = np.array([y3test[i] for i in range(len(y3test)) if stats.mode(np.argmax(y3test[i],-1))[0] != 0])\n",
    "print(x6train.shape)\n",
    "print(y6train.shape)\n",
    "print(x6test.shape)\n",
    "print(y6test.shape)"
   ]
  },
  {
   "cell_type": "markdown",
   "metadata": {},
   "source": [
    "## RD - RA"
   ]
  },
  {
   "cell_type": "code",
   "execution_count": 431,
   "metadata": {
    "scrolled": true
   },
   "outputs": [],
   "source": [
    "# filename = 'Datasets/final_imit_RD-RA2.pkl'\n",
    "# with open(filename, 'rb') as input:\n",
    "#     x = pickle.load(input)\n",
    "# imit_y_train_RD, imit_y_test_RD, imit_RD_train, imit_RA_train, imit_RD_test, imit_RA_test = [x[0], x[1]\n",
    "#                                                                                                 , x[2], x[3]\n",
    "#                                                                                                 , x[4], x[5]]\n",
    "# print(imit_y_train_RD.shape)\n",
    "# print(imit_y_test_RD.shape)\n",
    "# print(imit_RD_train.shape)\n",
    "# print(imit_RA_train.shape)\n",
    "# print(imit_RD_test.shape)\n",
    "# print(imit_RA_test.shape)\n",
    "# del x"
   ]
  },
  {
   "cell_type": "code",
   "execution_count": 432,
   "metadata": {},
   "outputs": [
    {
     "name": "stdout",
     "output_type": "stream",
     "text": [
      "Selected File: Datasets/final_imit_RD-RA2_128_last.hdf5\n",
      "(800, 605, 128, 128, 3)\n",
      "(800, 605, 128, 128, 3)\n",
      "(200, 605, 128, 128, 3)\n",
      "(200, 605, 128, 128, 3)\n"
     ]
    }
   ],
   "source": [
    "filename = 'Datasets/final_'+subj+'_RD-RA2_128_last.hdf5'\n",
    "data = h5py.File(filename, \"r\")\n",
    "print('Selected File: '+str(filename))\n",
    "imit_RD_train = np.array(data[\"train_RD\"])\n",
    "imit_RA_train = np.array(data[\"train_RA\"])\n",
    "imit_RD_test = np.array(data[\"test_RD\"])\n",
    "imit_RA_test = np.array(data[\"test_RA\"])\n",
    "data.close()\n",
    "print(imit_RD_train.shape)\n",
    "print(imit_RA_train.shape)\n",
    "print(imit_RD_test.shape)\n",
    "print(imit_RA_test.shape)"
   ]
  },
  {
   "cell_type": "code",
   "execution_count": 433,
   "metadata": {},
   "outputs": [
    {
     "name": "stdout",
     "output_type": "stream",
     "text": [
      "(800, 120, 5, 128, 128, 3)\n",
      "(200, 120, 5, 128, 128, 3)\n",
      "(800, 120, 5, 128, 128, 3)\n",
      "(200, 120, 5, 128, 128, 3)\n"
     ]
    }
   ],
   "source": [
    "# windowed RD\n",
    "interval = range(0,600)\n",
    "x_train11 = np.reshape(imit_RD_train[:,interval,:,:,:], (imit_RD_train.shape[0],120,5,imit_RD_train.shape[2],imit_RD_train.shape[3],imit_RD_train.shape[4]))\n",
    "x_test11 = np.reshape(imit_RD_test[:,interval,:,:,:], (imit_RD_test.shape[0],120,5,imit_RD_test.shape[2],imit_RD_test.shape[3],imit_RD_test.shape[4]))\n",
    "# y_train11 = np.reshape(imit_y_train_RD[:,interval], (imit_y_train_RD.shape[0],120,5))\n",
    "# y_test11 = np.reshape(imit_y_test_RD[:,interval], (imit_y_test_RD.shape[0],120,5))\n",
    "# y_train11 = to_categorical(np.squeeze(stats.mode(y_train11,2)[0]))\n",
    "# y_test11 = to_categorical(np.squeeze(stats.mode(y_test11,2)[0]))\n",
    "print(x_train11.shape)\n",
    "# print(y_train11.shape)\n",
    "print(x_test11.shape)\n",
    "# print(y_test11.shape)  \n",
    "\n",
    "# windowed RA\n",
    "x_train12 = np.reshape(imit_RA_train[:,interval,:,:,:], (imit_RA_train.shape[0],120,5,imit_RA_train.shape[2],imit_RA_train.shape[3],imit_RA_train.shape[4]))\n",
    "x_test12 = np.reshape(imit_RA_test[:,interval,:,:,:], (imit_RA_test.shape[0],120,5,imit_RA_test.shape[2],imit_RA_test.shape[3],imit_RA_test.shape[4]))\n",
    "print(x_train12.shape)\n",
    "print(x_test12.shape)"
   ]
  },
  {
   "cell_type": "code",
   "execution_count": 434,
   "metadata": {},
   "outputs": [
    {
     "name": "stdout",
     "output_type": "stream",
     "text": [
      "(4735,)\n",
      "(4735,)\n",
      "(1190,)\n",
      "(1190,)\n",
      "(4735,)\n",
      "(1190,)\n"
     ]
    }
   ],
   "source": [
    "# x1train, y1train = masker(x_train11, np.argmax(y_train11,-1), mask_down_train)\n",
    "# x1test, y1test = masker(x_test11, np.argmax(y_test11,-1), mask_down_test)\n",
    "# x2train, y1train = masker(x_train12, np.argmax(y_train11,-1), mask_down_train)\n",
    "# x2test, y1test = masker(x_test12, np.argmax(y_test11,-1), mask_down_test)\n",
    "x1train, y1train = masker(x_train11, y_down_train, mask_down_train)\n",
    "x1test, y1test = masker(x_test11, y_down_test, mask_down_test)\n",
    "x2train, y1train = masker(x_train12, y_down_train, mask_down_train)\n",
    "x2test, y1test = masker(x_test12, y_down_test, mask_down_test)\n",
    "print(x1train.shape)\n",
    "print(y1train.shape)\n",
    "print(x1test.shape)\n",
    "print(y1test.shape)\n",
    "print(x2train.shape)\n",
    "print(x2test.shape)"
   ]
  },
  {
   "cell_type": "code",
   "execution_count": 435,
   "metadata": {},
   "outputs": [
    {
     "name": "stdout",
     "output_type": "stream",
     "text": [
      "(4643,)\n",
      "(1164,)\n",
      "(4643,)\n",
      "(1164,)\n"
     ]
    }
   ],
   "source": [
    "x10train = np.array([x1train[i] for i in range(len(y3train)) if stats.mode(np.argmax(y3train[i],-1))[0] != 0])\n",
    "x11train = np.array([x2train[i] for i in range(len(y3train)) if stats.mode(np.argmax(y3train[i],-1))[0] != 0])\n",
    "# y10train = np.array([y1train[i] for i in range(len(y3train)) if stats.mode(np.argmax(y3train[i],-1))[0] != 0])\n",
    "x10test = np.array([x1test[i] for i in range(len(y3test)) if stats.mode(np.argmax(y3test[i],-1))[0] != 0])\n",
    "x11test = np.array([x2test[i] for i in range(len(y3test)) if stats.mode(np.argmax(y3test[i],-1))[0] != 0])\n",
    "# y10test = np.array([y1test[i] for i in range(len(y3test)) if stats.mode(np.argmax(y3test[i],-1))[0] != 0])\n",
    "print(x10train.shape)\n",
    "# print(y10train.shape)\n",
    "print(x10test.shape)\n",
    "# print(y10test.shape)\n",
    "print(x11train.shape)\n",
    "print(x11test.shape)"
   ]
  },
  {
   "cell_type": "code",
   "execution_count": 436,
   "metadata": {},
   "outputs": [],
   "source": [
    "# merge train test if not imit\n",
    "if merge_train_test:\n",
    "    x10test = np.concatenate([x10train,x10test],0)\n",
    "    x11test = np.concatenate([x11train,x11test],0)\n",
    "    x6test = np.concatenate([x6train,x6test],0)\n",
    "    y6test = np.concatenate([y6train,y6test],0)\n",
    "    print(x10test.shape)\n",
    "    print(x11test.shape)\n",
    "    print(x6test.shape)\n",
    "    print(y6test.shape)"
   ]
  },
  {
   "cell_type": "code",
   "execution_count": 437,
   "metadata": {},
   "outputs": [],
   "source": [
    "def data_generator_mtl_nolabel_multi(data, batch_size=1):              \n",
    "    \"\"\"\n",
    "    Yields the next training batch.\n",
    "    data is an array  [[[frame1_filename,frame2_filename,…frame16_filename],label1], [[frame1_filename,frame2_filename,…frame16_filename],label2],……….].\n",
    "    \"\"\"\n",
    "    num_samples = data[0].shape[0]\n",
    "    \n",
    "    while True:   \n",
    "        for offset in range(0, num_samples, batch_size):\n",
    "    #             print ('starting index: ', offset) \n",
    "            # Get the samples you'll use in this batch\n",
    "            batch_samples1 = data[0][offset:offset+batch_size]\n",
    "            batch_samples2 = data[1][offset:offset+batch_size]\n",
    "            batch_samples3 = data[2][offset:offset+batch_size]\n",
    "            \n",
    "            # Initialise X_train and y_train arrays for this batch\n",
    "            X_train1 = []\n",
    "            X_train2 = []\n",
    "            X_train3 = []\n",
    "            # For each example\n",
    "            for i in range(0,batch_samples1.shape[0]):\n",
    "                X_train1.append(batch_samples1[i])\n",
    "                X_train2.append(batch_samples2[i])\n",
    "                X_train3.append(batch_samples3[i])\n",
    "                \n",
    "            # Make sure they're numpy arrays (as opposed to lists)\n",
    "            X_train1 = np.array(X_train1)\n",
    "            X_train2 = np.array(X_train2)\n",
    "            X_train3 = np.array(X_train3)\n",
    "            \n",
    "            # yield the next training batch            \n",
    "            yield [X_train1, X_train2, X_train3]"
   ]
  },
  {
   "cell_type": "code",
   "execution_count": 438,
   "metadata": {},
   "outputs": [],
   "source": [
    "predict_generator = data_generator_mtl_nolabel_multi([x10test, x11test, x6test])"
   ]
  },
  {
   "cell_type": "code",
   "execution_count": 439,
   "metadata": {},
   "outputs": [],
   "source": [
    "class CTCLayer(Layer):\n",
    "    def __init__(self, name=None, **kwargs):\n",
    "        super().__init__(name=name)\n",
    "        self.loss_fn = keras.backend.ctc_batch_cost\n",
    "\n",
    "    def call(self, y_true, y_pred):\n",
    "        # Compute the training-time loss value and add it\n",
    "        # to the layer using `self.add_loss()`.\n",
    "        batch_len = tf.cast(tf.shape(y_true)[0], dtype=\"int64\")\n",
    "        input_length = tf.cast(tf.shape(y_pred)[1], dtype=\"int64\")\n",
    "        label_length = tf.cast(tf.shape(y_true)[1], dtype=\"int64\")\n",
    "\n",
    "        input_length = input_length * tf.ones(shape=(batch_len, 1), dtype=\"int64\")\n",
    "        label_length = label_length * tf.ones(shape=(batch_len, 1), dtype=\"int64\")\n",
    "\n",
    "        loss = self.loss_fn(y_true, y_pred, input_length, label_length)\n",
    "        self.add_loss(loss)\n",
    "\n",
    "        # At test time, just return the computed predictions\n",
    "        return y_pred"
   ]
  },
  {
   "cell_type": "code",
   "execution_count": 440,
   "metadata": {},
   "outputs": [],
   "source": [
    "fname = 'final2 multi ctc mtl gd'\n",
    "model_file = 'Models/' + fname + '.json'\n",
    "w_file = 'Models/' + fname + '.h5'\n",
    "json_file = open(model_file, 'r')\n",
    "loaded_model_json = json_file.read()\n",
    "json_file.close()\n",
    "model = model_from_json(loaded_model_json, {'CTCLayer': CTCLayer})\n",
    "model.load_weights(w_file)"
   ]
  },
  {
   "cell_type": "code",
   "execution_count": 441,
   "metadata": {},
   "outputs": [],
   "source": [
    "# Get the prediction model by extracting layers till the output layer\n",
    "prediction_model = keras.models.Model(\n",
    "    [model.get_layer(name=\"rd\").input, model.get_layer(name=\"ra\").input, model.get_layer(name=\"image\").input], model.get_layer(name=\"dense2\").output\n",
    ")\n",
    "# prediction_model.summary()"
   ]
  },
  {
   "cell_type": "code",
   "execution_count": 442,
   "metadata": {},
   "outputs": [
    {
     "name": "stderr",
     "output_type": "stream",
     "text": [
      "100%|██████████| 1164/1164 [02:10<00:00,  8.89it/s]\n"
     ]
    }
   ],
   "source": [
    "probs = np.array([np.squeeze(prediction_model.predict(next(predict_generator))) for i in tqdm(range(len(x11test)),position=0)],dtype=object)\n",
    "pred = [np.argmax(p,-1) for p in probs]"
   ]
  },
  {
   "cell_type": "code",
   "execution_count": 443,
   "metadata": {},
   "outputs": [
    {
     "name": "stdout",
     "output_type": "stream",
     "text": [
      "KKKKKKKKK\n"
     ]
    }
   ],
   "source": [
    "# best path decoding\n",
    "pred_labels = []\n",
    "\n",
    "cnt = 1\n",
    "for p in pred:\n",
    "    label = ''\n",
    "    for num in p:\n",
    "        if chr(ord('@')+num) == 'T' or chr(ord('@')+num) == 'A':# or chr(ord('@')+num) == 'A': zero elimianted\n",
    "#         if chr(ord('@')+num) == 'T':# or chr(ord('@')+num) == 'A':\n",
    "            continue\n",
    "        label = label + chr(ord('@')+num)\n",
    "    pred_labels.append(label)\n",
    "pred_labels = np.array(pred_labels)  \n",
    "print(pred_labels[2])"
   ]
  },
  {
   "cell_type": "code",
   "execution_count": 444,
   "metadata": {},
   "outputs": [],
   "source": [
    "def num_to_ch(num):\n",
    "    label = ''\n",
    "    for ch in num:\n",
    "        label += chr(ord('@') + np.argmax(ch,-1)+1)\n",
    "    return label"
   ]
  },
  {
   "cell_type": "code",
   "execution_count": 445,
   "metadata": {},
   "outputs": [],
   "source": [
    "# convert detected labels\n",
    "ctc_ts3 = [num_to_ch(y) for y in y6test]"
   ]
  },
  {
   "cell_type": "code",
   "execution_count": 446,
   "metadata": {},
   "outputs": [
    {
     "name": "stdout",
     "output_type": "stream",
     "text": [
      "1. Predicted: BBBBBBBBBBBBBBBBBBBBBBBBBBBBBBBB | ABBBBBBBBBBBBBBBBBB :Original\n",
      "2. Predicted: CCCCCCCCCCCCC | CCCCCCCCCC :Original\n",
      "3. Predicted: KKKKKKKKK | AKKKKKKK :Original\n",
      "4. Predicted: KKKK | KKKKAA :Original\n",
      "5. Predicted: LLLLLLLLLLL | AALLLLLLLLLLAA :Original\n",
      "6. Predicted: MMMMMMMMMMM | AMMMMMMMMMMAA :Original\n",
      "7. Predicted: DDDDDDDDDDDDD | AADDDDDDDDD :Original\n",
      "8. Predicted: BBBBBBBBBBBBBBBBB | BBBBBBBBBBBB :Original\n",
      "9. Predicted: CCCCCCCCCCC | CCCCCCCCC :Original\n",
      "10. Predicted: EEEEEEEEEEEE | AEEEEEEEEEEAA :Original\n",
      "11. Predicted: FFFFFFFFFFF | AFFFFFFFFFFFAA :Original\n",
      "12. Predicted: GGGGGGGGGGG | GGGGGGGGGGGGA :Original\n",
      "13. Predicted: DDDDDDDD | AADDDDDDDD :Original\n",
      "14. Predicted: BBBBBBBBBBCCCCCCCC | BBBBBBBBBCCCCCCCC :Original\n",
      "15. Predicted: KKKKKKKKKK | KKKKKKKKKKAA :Original\n",
      "16. Predicted: LLLLLLLLLLLLLL | ALLLLLLLLLLLAAA :Original\n",
      "17. Predicted: BBBBBBBBBBBBBBBBBBBB | ABBBBBBBBBB :Original\n",
      "18. Predicted: BBBBBBBBBBBBBBBBBBBBBBB | BBBBBBBBBBBB :Original\n",
      "19. Predicted: CCCCCCCCCC | CCCCCCCCA :Original\n",
      "20. Predicted: EEEEEEEEEE | AEEEEEEEEEEEEAA :Original\n",
      "21. Predicted: DDDDDDDDDDDDDDDD | ADDDDDDDDDDD :Original\n",
      "22. Predicted: BBBBBBBBBBBBBBBBBBBBBBBBBBBBBBBB | AAAABBBBBBBBBBBBBBB :Original\n",
      "23. Predicted: BBBBBBBBBBBBBBBB | BBBBBBBBBBBB :Original\n",
      "24. Predicted: CCCCCCCCCCCCCC | CCCCCCCCCCCA :Original\n",
      "25. Predicted: EEEEEEEEEEE | EEEEEEEEEEEA :Original\n",
      "26. Predicted: FFFFFFFFFF | AAFFFFFFFFFFFA :Original\n",
      "27. Predicted: GGGGGGGGGGG | AAAGGGGGGGGGGGA :Original\n",
      "28. Predicted: DDDDDDDDDDD | AADDDDDDDDD :Original\n",
      "29. Predicted: BBBBBBBBBBBBBBBBBBBB | BBBBBBBBBBBBBB :Original\n",
      "30. Predicted: CCCCCCCCCC | ACCCCCCCCCC :Original\n",
      "31. Predicted: NNNNNNNN | NNNNNNNA :Original\n",
      "32. Predicted: OOOOOOOOOOOOOO | AAAOOOOOOOOOOOOOA :Original\n",
      "33. Predicted: JJPJJPPP | PPPPPPPPP :Original\n",
      "34. Predicted: PPP | PPPAA :Original\n",
      "35. Predicted: DDDDD | ADDDDD :Original\n",
      "36. Predicted: BBBBBBBBBBBBBBBBBBBBBBCCCCCCCCCCCCCC | AAABBBBBBBBBBBBBBCCCCCCCCC :Original\n",
      "37. Predicted: QQQQQQQQQQQ | AHHHHHHHHHAA :Original\n",
      "38. Predicted: IIIIRRRRRRRR | AAIIIIIIIIIIA :Original\n",
      "39. Predicted: JJJJJJJJJJJ | AJJJJJJJJJJA :Original\n",
      "40. Predicted: DDDDDDDDDDDDDDDDDDDDD | AADDDDDDDDDDDDDD :Original\n",
      "41. Predicted: BBBBBBBBBBBBBBBBBBBBBBCCCCCCCCCCCC | AABBBBBBBBBBBBBBCCCCCCCCCC :Original\n",
      "42. Predicted: NNNNNNNN | AANNNNNNNNAA :Original\n",
      "43. Predicted: RRRRORROO | AOOOOOOOOOOOOO :Original\n",
      "44. Predicted: SSSSS | AAPPPPPPPPPPPAAA :Original\n",
      "45. Predicted: DDDDDDD | DDDDDDDDAA :Original\n",
      "46. Predicted: BBBBBBBBBBBBBBBBBBB | ABBBBBBBBBB :Original\n",
      "47. Predicted: BBBBBBBBBBBBBBBBBBCCCCCCCCCCCCC | BBBBBBBBBBBBBBCCCCCCCCCCC :Original\n",
      "48. Predicted: NNNNNNNNN | NNNNNNNNAA :Original\n",
      "49. Predicted: IIIIIIIII | AOOOOOOOOOOOO :Original\n",
      "50. Predicted: JJJGJJJJJ | APPPPPPPPPP :Original\n",
      "51. Predicted: GGGG | PPPPAA :Original\n",
      "52. Predicted: DDDDDDDDDDDDD | DDDDDDDDDDD :Original\n",
      "53. Predicted: BBBBBBBBBBBBBBBBBBBBBBBBBBBBBBBBBBBBCCCCCCCCCCCCCCCCCCCCCCCCCC | BBBBBBBBBBBBBBBACCCCCCCCCCCCCCCA :Original\n",
      "54. Predicted: QQQQQQQE | QQQQQQQAAA :Original\n",
      "55. Predicted: RRRRRRRRRRRRRR | ARRRRRRRRRRAA :Original\n",
      "56. Predicted: SSSSSSSSSSSSS | ASSSSSSSSSSAA :Original\n",
      "57. Predicted: DDDDDDDDDDDDDDDD | ADDDDDDDDDDAA :Original\n",
      "58. Predicted: BBBBBBBBBBBBBBBBBBB | ABBBBBBBBBB :Original\n",
      "59. Predicted: BBBBBBBBBBBBBBBBBBBBBBBBCCCCCCCCCCCC | BBBBBBBBBBBCCCCCCCCCCCA :Original\n",
      "60. Predicted: QQQQQQQQQQ | QQQQQQQQQAAA :Original\n",
      "61. Predicted: RRRRRRRRRRR | ARRRRRRRR :Original\n",
      "62. Predicted: SSSSSSSSSSSSS | SSSSSSSSSSSAA :Original\n",
      "63. Predicted: DDDDDDDDDDDDDDDDD | AADDDDDDDDDDD :Original\n",
      "64. Predicted: BBBBBBBBBBBBBBBBBBBBBBBBBBBBBCCCCCCCCC | BBBBBBBBBBBBBCCCCCCCCCCC :Original\n",
      "65. Predicted: EEEEEEEEEEE | EEEEEEEEEEEAA :Original\n",
      "66. Predicted: FFFFFFFFFFF | AFFFFFFFFFFFA :Original\n",
      "67. Predicted: GGGGGGGGGGGGG | AGGGGGGGGGGGGG :Original\n",
      "68. Predicted: DDDDDDDDDDDDDD | ADDDDDDDDDDD :Original\n",
      "69. Predicted: BBBBBBBBBBBBBBBBBBBBBBBB | AAABBBBBBBBBBB :Original\n",
      "70. Predicted: BBBBBBBBBBBBBBBBBBBBBBBB | BBBBBBBBBBBB :Original\n",
      "71. Predicted: CCCCCCCCCCCCCCC | CCCCCCCCCC :Original\n",
      "72. Predicted: QQQQQQQQQQ | AQQQQQQQQQQAA :Original\n",
      "73. Predicted: RRRRRRRRRRR | AARRRRRRRR :Original\n",
      "74. Predicted: SSSSSSSSS | ASSSSSSSSSS :Original\n",
      "75. Predicted: DDDDDDDDDDDDDD | AADDDDDDDDDA :Original\n",
      "76. Predicted: BBBBBBBBBBBBBBBBBBBBBBBBBBBBB | AABBBBBBBBBBBBBBB :Original\n",
      "77. Predicted: CCCCCCCCCCCCCCC | CCCCCCCCCC :Original\n",
      "78. Predicted: QQQQQQQQQQQ | AQQQQQQQQQQAAA :Original\n",
      "79. Predicted: RRRRRRRRRRRRRRR | ARRRRRRRRRRR :Original\n",
      "80. Predicted: SSSSSSSSSSSSS | ASSSSSSSSSSSAA :Original\n",
      "81. Predicted: DDDDDDDDDDDDDDDD | AADDDDDDDDDDA :Original\n",
      "82. Predicted: BBBBBBBBBBBBBBBBBBBBBBBBBBBBB | AAABBBBBBBBBBBBB :Original\n",
      "83. Predicted: BBBBBBBBBBBBBBBBBBBBBBB | BBBBBBBBBBB :Original\n",
      "84. Predicted: CCCCCCCCCCCC | CCCCCCCCCCCC :Original\n",
      "85. Predicted: QQQQQQQQQQQQ | QQQQQQQQQQQQAA :Original\n",
      "86. Predicted: RRRRRLLLOL | AARRRRRRRRRRRRAAA :Original\n",
      "87. Predicted: SSSSSSSSSSSS | ASSSSSSSSSSAAA :Original\n",
      "88. Predicted: DDDDDDDDDDD | ADDDDDDDDD :Original\n",
      "89. Predicted: BBBBBBBBBBBBBBBBBBBBBBBBCCCCCCCCCCCCCCCCCCC | BBBBBBBBBBBBBBBACCCCCCCCCCA :Original\n",
      "90. Predicted: FFFFFFFF | FFFFFFFFFFA :Original\n",
      "91. Predicted: GGGGGGGGGG | AGGGGGGGGGGGA :Original\n",
      "92. Predicted: DDDDDDDDDDDD | AADDDDDDDDDD :Original\n",
      "93. Predicted: BBBBBBBBBBBBBBBBBB | BBBBBBBBBBBB :Original\n",
      "94. Predicted: CCCCCCCCC | CCCCCCCCCC :Original\n",
      "95. Predicted: KKKKKKKKKKK | KKKKKKKKKKAA :Original\n",
      "96. Predicted: LLLLLLLLLLLL | AALLLLLLLLLAA :Original\n",
      "97. Predicted: MMMMMMMMMMMM | AMMMMMMMMMMMAA :Original\n",
      "98. Predicted: DDDDDDDDDD | AADDDDDDDD :Original\n",
      "99. Predicted: BBBBBBBBBBBBBBBBB | BBBBBBBBBBBBA :Original\n",
      "100. Predicted: CCCCCCCCCCCCCCCC | CCCCCCCCCCCA :Original\n",
      "101. Predicted: HHHHHHHHH | HHHHHHHHHAA :Original\n",
      "102. Predicted: IIIIIIIIII | AAAIIIIIIIIIIA :Original\n",
      "103. Predicted: JJJJJJJJJJ | AJJJJJJJJJJA :Original\n",
      "104. Predicted: DDDDDDD | AADDDDDDD :Original\n",
      "105. Predicted: BBBBBBBBBBBBBBBBBBBBBBBB | BBBBBBBBBBBB :Original\n",
      "106. Predicted: CCCCCCCC | CCCCCCCC :Original\n",
      "107. Predicted: KKKKKKKKKKK | AKKKKKKKKKKKAAA :Original\n",
      "108. Predicted: DDDDDDDDDDDDD | AADDDDDDDDDDD :Original\n",
      "109. Predicted: BBBBBBBBBBBBBBBBBBBB | ABBBBBBBBBB :Original\n",
      "110. Predicted: BBBBBBBBBBBBBBBBBBBBBBBBBBBBBBBBBBBBBBCCCCCCCCCCCCCCCCCCC | BBBBBBBBBBBBBBBBBACCCCCCCCCCA :Original\n",
      "111. Predicted: QQQQQQQQQQQQQQQQ | AQQQQQQQQQQQQAA :Original\n",
      "112. Predicted: RRRRRRRRRRRRR | ARRRRRRRRRRRR :Original\n",
      "113. Predicted: SSSSSSSSSSSSSSSS | ASSSSSSSSSSSSSAA :Original\n",
      "114. Predicted: DDDDDDDDDDDD | AADDDDDDDDD :Original\n",
      "115. Predicted: BBBBBBBBBBBBBBBBBBBBBBB | BBBBBBBBBBBBB :Original\n",
      "116. Predicted: CCCCCCCCCCCCCCC | ACCCCCCCCCC :Original\n",
      "117. Predicted: HHHHNNNNNN | KKKKKKKKKKKA :Original\n",
      "118. Predicted: LLLLLLLLLLLL | AALLLLLLLLLLLAAA :Original\n",
      "119. Predicted: MMMMMMMMMMMM | MMMMMMMMMMMMAAA :Original\n",
      "120. Predicted: DDDDDDDD | ADDDDDDDD :Original\n",
      "121. Predicted: BBBBBBBBBBBBBBBBBBBBBBBBCCCCCCCCCCCCCCCCC | BBBBBBBBBBBBBBBCCCCCCCCCA :Original\n",
      "122. Predicted: QQQQQQQQQQ | QQQQQQQQQAA :Original\n",
      "123. Predicted: RRRRRRRRRRRRRRRRRR | ARRRRRRRRRRRRRRAA :Original\n",
      "124. Predicted: SSSSSSSSSSSSSSS | ASSSSSSSSSSSSSSA :Original\n",
      "125. Predicted: DDDDDDDDD | AAADDDDDD :Original\n",
      "126. Predicted: BBBBBBBBBBBBBBBBBBBBBBBBBCCCCCCCCCCCCCC | BBBBBBBBBBBBBACCCCCCCCA :Original\n",
      "127. Predicted: HHHHHHHHH | HHHHHHHHHHAA :Original\n",
      "128. Predicted: IIIIIIIIII | AIIIIIIIIIAA :Original\n",
      "129. Predicted: JJJJJJJJJJ | AAJJJJJJJJJA :Original\n",
      "130. Predicted: DDDDDDDDDDDDDDD | AAAAADDDDDDDDDAA :Original\n",
      "131. Predicted: BBBBBBBBBBBBBBBBBBBB | AABBBBBBBBB :Original\n",
      "132. Predicted: BBBBBBBBBBBBBBBBBBBBBBBBCCCCCCCCCCCCCC | BBBBBBBBBBBBBACCCCCCCCCCA :Original\n",
      "133. Predicted: KKK | KKKAA :Original\n",
      "134. Predicted: LRRLIIIIIIII | AAALLLLLLLLLAA :Original\n",
      "135. Predicted: MSMMSSSMMM | AMMMMMMMMMMMAA :Original\n",
      "136. Predicted: DDDDDDDDDDDD | AADDDDDDDDDA :Original\n",
      "137. Predicted: BBBBBBBBBBBBB | AABBBBBB :Original\n",
      "138. Predicted: BBBBBBBBBBBBBBBBBBBBBBBBBBBCCCCCCCCCCCCCCC | BBBBBBBBBBBBCCCCCCCCCCCC :Original\n",
      "139. Predicted: IIIEEEJ | AEEEEEEEEE :Original\n",
      "140. Predicted: EEEE | EEEEEA :Original\n",
      "141. Predicted: FFFFFFFFFFFFFGGGGGGGGGGGG | FFFFFFFFFFFFFFFFFAAAAGGGGGGGG :Original\n",
      "142. Predicted: DDDDDDDDDDDDDD | ADDDDDDDDDD :Original\n",
      "143. Predicted: BBBBBBBBBBBBBBBBBBBBBBBBB | BBBBBBBBBBBB :Original\n",
      "144. Predicted: CCCCCCCCC | CCCCCCCCA :Original\n",
      "145. Predicted: NNNNNNNNNN | ANNNNNNNNNAA :Original\n",
      "146. Predicted: OOOOOOOOOOOOOOO | AOOOOOOOOOOOOOOA :Original\n",
      "147. Predicted: PPPPPPPPPPPP | APPPPPPPPPPPPAA :Original\n",
      "148. Predicted: DDDDDDDDDDDD | ADDDDDDDDDDD :Original\n",
      "149. Predicted: BBBBBBBBBBBBBBBBBBBBBBBBBB | AAAAABBBBBBBBBBBB :Original\n",
      "150. Predicted: BBBBBBBBBBBBBBBBBBB | BBBBBBBBBBBB :Original\n",
      "151. Predicted: CCCCCCCCCCCCCC | ACCCCCCCCCCC :Original\n",
      "152. Predicted: QQQQQQ | QQQQQQQQ :Original\n",
      "153. Predicted: QQE | QQQQA :Original\n",
      "154. Predicted: RRRRRRRRRRRRRR | ARRRRRRRRRRRRRRA :Original\n",
      "155. Predicted: SSSSSSSSSSSS | SSSSSSSSSSSSA :Original\n",
      "156. Predicted: DDDDDDDDDDD | AADDDDDDDDD :Original\n",
      "157. Predicted: BBBBBBBBBBBBBBBBBCCCCCCCCCCCC | BBBBBBBBBBBBACCCCCCCCA :Original\n",
      "158. Predicted: NNNNNNNNNN | ANNNNNNNNAA :Original\n",
      "159. Predicted: OOOOOOOOOOO | AOOOOOOOOOOOA :Original\n",
      "160. Predicted: PPPPPPPPPPPPPP | APPPPPPPPPPPPA :Original\n",
      "161. Predicted: DDDDDDDDDDDDDDDDDD | ADDDDDDDDDDDD :Original\n",
      "162. Predicted: BBBBBBBBBBBBBBBBBBBBBBBBBBBB | AABBBBBBBBBBBBBB :Original\n",
      "163. Predicted: BBBBBBBBBBBBBBBBBBBBBBBBB | BBBBBBBBBBBBA :Original\n",
      "164. Predicted: CCCCCCCCCCCCCC | CCCCCCCCCC :Original\n",
      "165. Predicted: NNNNNNNN | NNNNNNNNNA :Original\n",
      "166. Predicted: OOIIIIIIIII | AOOOOOOOOOOOA :Original\n",
      "167. Predicted: PPPPPPPPMMPP | APPPPPPPPPPPPPA :Original\n",
      "168. Predicted: DDDDDDDDDDDDD | DDDDDDDDDDD :Original\n",
      "169. Predicted: BBBBBBBBBBBBBBBBBBBBBBBB | BBBBBBBBBBBB :Original\n",
      "170. Predicted: CCCCCCC | CCCCCCAA :Original\n",
      "171. Predicted: QQQQQQQQQQ | AQQQQQQQQQQQAA :Original\n",
      "172. Predicted: RRRRRRRRRR | ARRRRRRRRRRR :Original\n",
      "173. Predicted: SSSSSSSSS | ASSSSSSSSSS :Original\n",
      "174. Predicted: DDDDDDDDDDDDDD | ADDDDDDDDDAA :Original\n",
      "175. Predicted: BBBBBBBBBBBBBBBBBBBBBBCCCCCCCCCCCCCCCCC | BBBBBBBBBBBBBCCCCCCCCCC :Original\n",
      "176. Predicted: KKKKKNNNN | AAKKKKKKKKKKAAA :Original\n",
      "177. Predicted: LLLLLLLLLLLLL | ALLLLLLLLLLLLAA :Original\n",
      "178. Predicted: MMMMMMMMM | MMMMMMMMMMMMA :Original\n",
      "179. Predicted: DDDDDDDDDDDDDDDD | ADDDDDDDDDDD :Original\n",
      "180. Predicted: BBBBBBBBBBBBBBBBBB | AABBBBBBBBB :Original\n",
      "181. Predicted: BBBBBBBBBBBBBBBBBBBBBBBCCCCCCCCCCCCCCCCCCCCC | BBBBBBBBBBBBBBCCCCCCCCCCCA :Original\n",
      "182. Predicted: IIFIIIIIII | IIIIIIIIIIIIAA :Original\n",
      "183. Predicted: JJJJJJJJJJ | AAJJJJJJJJJJJAAA :Original\n",
      "184. Predicted: DDDDDDDDDDDDDDDDDDD | AADDDDDDDDDDDAA :Original\n",
      "185. Predicted: BBBBBBBBBBBBBBBBBBBBBBBBBBBBBB | AAAABBBBBBBBBBBBB :Original\n",
      "186. Predicted: BBBBBBBBBBBBBBBBBBBBB | BBBBBBBBBBBB :Original\n",
      "187. Predicted: CCCCCCCCCCCCCCC | CCCCCCCCCCC :Original\n",
      "188. Predicted: NNNNNNNN | NNNNNNNNNA :Original\n",
      "189. Predicted: OOOOOOOOOO | AAOOOOOOOOOOOOOAA :Original\n",
      "190. Predicted: PPPPPPPPPP | APPPPPPPPPPPA :Original\n",
      "191. Predicted: DDDDDDDDDDDD | ADDDDDDDDDD :Original\n",
      "192. Predicted: BBBBBBBBBBBBBBBBBBBBBBB | BBBBBBBBBBBBBC :Original\n",
      "193. Predicted: CCCCCC | CCCCCA :Original\n",
      "194. Predicted: QQQQQQQQQQQ | AQQQQQQQQQQAA :Original\n",
      "195. Predicted: RRRRRRRRRRRRRR | ARRRRRRRRRRRA :Original\n",
      "196. Predicted: SSSSSSSSSSSSS | AASSSSSSSSSSSA :Original\n",
      "197. Predicted: DDDDDDDDDDDDDDDD | ADDDDDDDDDDDA :Original\n",
      "198. Predicted: BBBBBBBBBBBBBBBBBBBBBBBBB | BBBBBBBBBBBBB :Original\n",
      "199. Predicted: CCCCCCCCCCCCCC | CCCCCCCCCC :Original\n",
      "200. Predicted: KKKKKKKKKKK | KKKKKKKKKKKAA :Original\n",
      "201. Predicted: LLLLLLLLLLLL | AALLLLLLLLLLAAA :Original\n",
      "202. Predicted: MMMMMMMMMMMMMMM | AMMMMMMMMMMMMMMAAA :Original\n",
      "203. Predicted: DDDDDDDDDDDDD | ADDDDDDDDDD :Original\n",
      "204. Predicted: BBBBBBBBBBBBBBBBBBBBBBBBBB | BBBBBBBBBBBBBBBA :Original\n",
      "205. Predicted: CCCCCCCC | CCCCCCCCCA :Original\n",
      "206. Predicted: RRRRRRRRRRR | RRRRRRRRRR :Original\n",
      "207. Predicted: SSSSSSSSS | SSSSSSSSSS :Original\n",
      "208. Predicted: DDDDDDDDDDDD | ADDDDDDDDDDAA :Original\n",
      "209. Predicted: BBBBBBBBBBBBBBBBBBBBBBBBBB | BBBBBBBBBBBBB :Original\n",
      "210. Predicted: CCCCCCCCCC | CCCCCCCCC :Original\n",
      "211. Predicted: QQQQQQQQQQQ | AQQQQQQQQQQA :Original\n",
      "212. Predicted: RRRRRRRRRRRRR | RRRRRRRRRRRA :Original\n",
      "213. Predicted: SSSSSSSSSSSS | AASSSSSSSSSSSSA :Original\n",
      "214. Predicted: DDDDDDDDDDDDDDD | ADDDDDDDDDDD :Original\n",
      "215. Predicted: BBBBBBBBBBBBBBBBBBBBBB | AAABBBBBBBBBBB :Original\n",
      "216. Predicted: BBBBBBBBBBBBBBBBBBBB | BBBBBBBBBBB :Original\n",
      "217. Predicted: CCCCCCCCC | CCCCCCCCA :Original\n",
      "218. Predicted: HHHHHHHHHH | HHHHHHHHHHHA :Original\n",
      "219. Predicted: IIIIIIIIII | IIIIIIIIIIIA :Original\n",
      "220. Predicted: JJJJJJJJJJJJ | AAJJJJJJJJJAAA :Original\n",
      "221. Predicted: DDDDDDDDDDDD | ADDDDDDDDDDD :Original\n",
      "222. Predicted: BBBBBBBBBBBBBBBBBBB | ABBBBBBBBBB :Original\n",
      "223. Predicted: BBBBBBBBBBBBBBBBBBBBBBBBBBBBBBBBBCCCCCCCCCCCCC | BBBBBBBCCCCCCCCCCCCCCCCCCCCCCAAK :Original\n",
      "224. Predicted: LLLLLLLLLLLL | ALLLLLLLLLLLAA :Original\n",
      "225. Predicted: MMMMMMMMMMM | AAMMMMMMMMMMMA :Original\n",
      "226. Predicted: DDDDDDDDDDDDDD | AAADDDDDDDDAA :Original\n",
      "227. Predicted: BBBBBBBBBBBBBBBBBB | BBBBBBBBBBBA :Original\n",
      "228. Predicted: CCCCCCCCCCCCC | CCCCCCCCCC :Original\n",
      "229. Predicted: QQQQQQQQQQ | QQQQQQQQQQQA :Original\n",
      "230. Predicted: RRRRRRRRRRRR | ARRRRRRRRRRRAA :Original\n",
      "231. Predicted: SSSSSSSSSSSSSS | ASSSSSSSSSSSSAA :Original\n",
      "232. Predicted: DDDDDDDDDDDDDDDD | AADDDDDDDDDDD :Original\n",
      "233. Predicted: BBBBBBBBBBBBBBBBBBBBBCCCCCCCCCCCCCCCCC | BBBBBBBBBBBBACCCCCCCCCCA :Original\n",
      "234. Predicted: EEEEEEEEEEEEE | AEEEEEEEEEEA :Original\n",
      "235. Predicted: FFFFFFFFFFFF | AFFFFFFFFFFAA :Original\n",
      "236. Predicted: GGGGGGGGGGG | AGGGGGGGGGGAA :Original\n",
      "237. Predicted: DDDDDDDDDDDDDDD | AADDDDDDDDDDA :Original\n",
      "238. Predicted: BBBBBBBBBBBBBBBBBBBBBBBBCCCCCCCCCCCCC | BBBBBBBBBBBBBBBCCCCCCCCC :Original\n",
      "239. Predicted: QKKKHHHHK | AHHHHHHHHHH :Original\n",
      "240. Predicted: IIIIIIIIIII | AAIIIIIIIIIIA :Original\n",
      "241. Predicted: JJJJJJJJJJJ | AAJJJJJJJJJJAA :Original\n",
      "242. Predicted: DDDDDDDDDD | AADDDDDDDDAA :Original\n",
      "243. Predicted: BBBBBBBBBBBBBBBBBBBBB | BBBBBBBBBBBB :Original\n",
      "244. Predicted: CCCCCCCCC | CCCCCCCCC :Original\n",
      "245. Predicted: QQQQQQQQQQQQ | AAQQQQQQQQQA :Original\n",
      "246. Predicted: RRRRRRRRRRR | ARRRRRRRRRR :Original\n",
      "247. Predicted: SSSSSSSSSSSSSS | SSSSSSSSSSSSSA :Original\n",
      "248. Predicted: DDDDDDDDDDDDDD | ADDDDDDDDDDD :Original\n",
      "249. Predicted: BBBBBBBBBBBBBBBBBBBBBBBBB | AAABBBBBBBBBBBB :Original\n",
      "250. Predicted: BBBBBBBBBBBBBBBBBBBBBBB | BBBBBBBBBBB :Original\n",
      "251. Predicted: CCCCCCCCCCCCCCCCCC | CCCCCCCCCCA :Original\n",
      "252. Predicted: EEEEEEEEEEE | EEEEEEEEEEEEAA :Original\n",
      "253. Predicted: FFFFFFFFFFF | AFFFFFFFFFFAAAA :Original\n",
      "254. Predicted: GGGGGGGGGGGG | AAGGGGGGGGGGAAA :Original\n",
      "255. Predicted: DDDDDDDDDDDDDD | ADDDDDDDDDDA :Original\n",
      "256. Predicted: BBBBBBBBBBBBBBBBBBBBBBBBBBBBBB | AAABBBBBBBBBBBBBBB :Original\n",
      "257. Predicted: CCCCCCCCCCC | CCCCCCCCC :Original\n",
      "258. Predicted: HHHHHHHHH | AHHHHHHHHHHAA :Original\n",
      "259. Predicted: IIIIIIII | AIIIIIIIIIIA :Original\n",
      "260. Predicted: JJJJJJJJJJJ | AJJJJJJJJJJJAA :Original\n",
      "261. Predicted: DDDDDDDDDDDDDDD | ADDDDDDDDDDD :Original\n",
      "262. Predicted: BBBBBBBBBBBBBBBBBBBBBBBBBBBBBBBBBBBBBBBBBBBB | AAAABBBBBBBBBBBBBBBBBBBBB :Original\n",
      "263. Predicted: BBBBBBBBBBBBBBBBBBBBBBBBBBBBB | BBBBBBBBBBBBBBBA :Original\n",
      "264. Predicted: CCCCCCCC | CCCCCCCC :Original\n",
      "265. Predicted: FFFFFFFF | AFFFFFF :Original\n",
      "266. Predicted: FFFFFF | FFFFFAAA :Original\n",
      "267. Predicted: GJJGGGGGG | GGGGGGGGG :Original\n",
      "268. Predicted: DDDDDDDDDDDDD | DDDDDDDDDDD :Original\n",
      "269. Predicted: BBBBBBBBBBBBBBBBBCCCCCCCCCC | BBBBBBBBBBBCCCCCCCCCCC :Original\n",
      "270. Predicted: DDDDDDDDDDDD | ADDDDDDDDDD :Original\n",
      "271. Predicted: BBBBBBBBBBBBBBBBBBBBBBB | BBBBBBBBBBB :Original\n",
      "272. Predicted: CCCCCCCCCCCC | CCCCCCCCA :Original\n",
      "273. Predicted: KKKKKKIKII | AAKKKKKKKKKAA :Original\n",
      "274. Predicted: LLLLLLLLLLL | ALLLLLLLLLAAA :Original\n",
      "275. Predicted: MMMMMMMMMM | AMMMMMMMMMMAA :Original\n",
      "276. Predicted: DDDDDDDDDDDDDDD | AADDDDDDDDDDD :Original\n",
      "277. Predicted: BBBBBBBBBBBBBB | BBBBBBBBB :Original\n",
      "278. Predicted: CCCCCCCCCCCCCCCCC | ACCCCCCCCCCCC :Original\n",
      "279. Predicted: NNNNNN | NNNNNNNNA :Original\n",
      "280. Predicted: RRRRROOOOO | OOOOOOOOOOOA :Original\n",
      "281. Predicted: PPPPPPPPPPPP | APPPPPPPPPPPAA :Original\n",
      "282. Predicted: DDDDDDDDDDDDDDDDD | ADDDDDDDDDDDAA :Original\n",
      "283. Predicted: BBBBBBBBBBBBBBBBBBBBBBB | BBBBBBBBBBBB :Original\n",
      "284. Predicted: CCCCCCCCCCCCCC | CCCCCCCCCCA :Original\n",
      "285. Predicted: KKKKKKKK | KKKKKKK :Original\n",
      "286. Predicted: LLLLLLLLLLLL | ALLLLLLLLLLA :Original\n",
      "287. Predicted: MMMMMMMMMMMMM | AMMMMMMMMMMMMAA :Original\n",
      "288. Predicted: DDDDDDDDDDDDDD | AADDDDDDDDAA :Original\n",
      "289. Predicted: BBBBBBBBBBBBBBBBBBBB | AABBBBBBBBB :Original\n",
      "290. Predicted: BBBBBBBBBBBBBBBBBBBBBBBBB | BBBBBBBBBBBBB :Original\n",
      "291. Predicted: CCCCCCCCCCCCCCCC | CCCCCCCCCCC :Original\n",
      "292. Predicted: KHHHHHHH | KKKKKKKKKKAA :Original\n",
      "293. Predicted: IIIIIIIIIII | ALLLLLLLLLLAA :Original\n",
      "294. Predicted: MMMMPPPPPPP | AAMMMMMMMMMMAAA :Original\n",
      "295. Predicted: DDDDDDDDDDDDDDDD | ADDDDDDDDDDDA :Original\n",
      "296. Predicted: BBBBBBBBBBBBBBBBCCCCCCCCCCCCCCCCCCCCC | BBBBBBBBBCCCCCCCCCCCCAA :Original\n",
      "297. Predicted: QK | QQQQAAA :Original\n",
      "298. Predicted: RRRRRRRRRR | RRRRRRRRRR :Original\n",
      "299. Predicted: SSSSSSSSSSSS | AASSSSSSSSSSAA :Original\n",
      "300. Predicted: DDDDDDDDDD | ADDDDDDDDD :Original\n",
      "301. Predicted: BBBBBBBBBBBBBBBBBBBBBBB | BBBBBBBBCCCCCC :Original\n",
      "302. Predicted: CCCCCCCCC | CCCCCAAAA :Original\n",
      "303. Predicted: IIIIIIIIIIII | AAIIIIIIIIIIIAA :Original\n",
      "304. Predicted: GJGJJJJJ | AJJJJJJJJJAA :Original\n",
      "305. Predicted: BBBBBBBBBBBBBBB | BBBBBBBBBBBA :Original\n",
      "306. Predicted: CCCCCCCCCCC | CCCCCCCCCCC :Original\n",
      "307. Predicted: QEEE | KKKKAA :Original\n",
      "308. Predicted: LLLLLLLLLLLL | AAALLLLLLLLLLAA :Original\n",
      "309. Predicted: MMMMMMMMMMM | AAMMMMMMMMMAAA :Original\n",
      "310. Predicted: DDDDDDDDDDDDDDD | AADDDDDDDDDDA :Original\n",
      "311. Predicted: BBBBBBBBBBBBBBBBBBBBBBBBBBBBBBB | BBBBBBBBBBBBBBBBB :Original\n",
      "312. Predicted: CCCCCCCCCCCCCCCCCCC | CCCCCCCCCCCCC :Original\n",
      "313. Predicted: EEEEEEEEEE | EEEEEEEEE :Original\n",
      "314. Predicted: EEE | EEEAA :Original\n",
      "315. Predicted: FFFFFFFFFFF | FFFFFFFFFFFAAAA :Original\n",
      "316. Predicted: GGGGGGGGGGGG | AGGGGGGGGGGGGGA :Original\n",
      "317. Predicted: DDDDDDDDDDDDD | ADDDDDDDDDDD :Original\n",
      "318. Predicted: BBBBBBBBBBBBBBBBBBBBB | AABBBBBBBBBBB :Original\n",
      "319. Predicted: BBBBBBBBBBBBBBBBBBBBB | BBBBBBBBBBB :Original\n",
      "320. Predicted: CCCCCCCCCC | ACCCCCCCA :Original\n",
      "321. Predicted: EEEEEEEEEEEE | AEEEEEEEEEEEEA :Original\n",
      "322. Predicted: FFFFFFFFFFF | AFFFFFFFFFFAA :Original\n",
      "323. Predicted: GGGGGGGGGGGG | AAGGGGGGGGGGA :Original\n",
      "324. Predicted: DDDDDDDDDDDDDDDDD | ADDDDDDDDDDD :Original\n",
      "325. Predicted: BBBBBBBBBBBBBBBBBBBBBBBBBBBBBBBBBBBBBBBB | AAABBBBBBBBBBBBBBBBB :Original\n",
      "326. Predicted: BBBBBBBBBBBBBBBBBBBBBBBB | BBBBBBBBBBBBBB :Original\n",
      "327. Predicted: CCCCCCCCCCCC | CCCCCCCCCCK :Original\n",
      "328. Predicted: FFFLLLLLFFFLF | ALLLLLLLLLLLLAA :Original\n",
      "329. Predicted: MMMMMMM | AMMMMMMMM :Original\n",
      "330. Predicted: DDDDDDDDDDDDDDDD | ADDDDDDDDDDD :Original\n",
      "331. Predicted: BBBBBBBBBBBBBBBBBBBBBBBBBBBBBBBBBBB | ABBBBBBBBBBBBBBBBBB :Original\n",
      "332. Predicted: BBBBBBBBBBBBBBBBBCCCCCCCCCC | BBBBBBBBBBBBCCCCCCCCCC :Original\n",
      "333. Predicted: RRRRRRRRRRRRRR | ARRRRRRRRRRRA :Original\n",
      "334. Predicted: SSSSSSSSSS | ASSSSSSSSSSA :Original\n",
      "335. Predicted: DDDDDDDDDDDDDDD | AADDDDDDDDDA :Original\n",
      "336. Predicted: BBBBBBBBBBBBBBBBBBBBBBBBBBBBB | AAABBBBBBBBBBBBBB :Original\n",
      "337. Predicted: CCCCCCCCCCCCCC | CCCCCCCCCCC :Original\n",
      "338. Predicted: KK | KKKKKK :Original\n",
      "339. Predicted: KKKK | KKKKAA :Original\n",
      "340. Predicted: LLLLLLLLLLLL | ALLLLLLLLLLLLAA :Original\n",
      "341. Predicted: MMMMMMM | MMMMMMMM :Original\n",
      "342. Predicted: DDDDDDDDDDDDDDDDD | ADDDDDDDDDDDA :Original\n",
      "343. Predicted: BBBBBBBBBBBBBBBBBBBBBBBBCCCCCCCCCCCCC | BBBBBBBBBBBBBACCCCCCCCCA :Original\n",
      "344. Predicted: QQQQRSQRRRR | AAQQQQQQQQQA :Original\n",
      "345. Predicted: RRRRRRRRRRRRRRR | ARRRRRRRRRRA :Original\n",
      "346. Predicted: SSSSSSSSSSSSSSS | AASSSSSSSSSSSSSA :Original\n",
      "347. Predicted: DDDDDDDDDDDDDDD | ADDDDDDDDDDDA :Original\n",
      "348. Predicted: BBBBBBBBBBBBBBBBBBBBBBB | AABBBBBBBBBBB :Original\n",
      "349. Predicted: BBBBBBBBBBBBBBBBBBBBBBB | BBBBBBBBBBB :Original\n",
      "350. Predicted: CCCCCCCCCCCCCCC | CCCCCCCCCCC :Original\n",
      "351. Predicted: QQQQQQQQQQQQ | AQQQQQQQQQQQAA :Original\n",
      "352. Predicted: RRRRRRRRRRRRRR | ARRRRRRRRRRRAAA :Original\n",
      "353. Predicted: SSSSSSSSSSS | ASSSSSSSSSSSSA :Original\n",
      "354. Predicted: DDDDDDDDDDDDD | DDDDDDDDDDDA :Original\n",
      "355. Predicted: BBBBBBBBBBBBBBBBBBBBBBBBBBB | BBBBBBBBBBBBBB :Original\n",
      "356. Predicted: CCCCCCCCCCCCCCCC | CCCCCCCCCA :Original\n",
      "357. Predicted: HHHHHHHH | NNNNNNNNNNNA :Original\n",
      "358. Predicted: OOOOOOOOO | AOOOOOOOOOOAA :Original\n",
      "359. Predicted: PPPPPPPPPPPP | AAPPPPPPPPPPPPPA :Original\n",
      "360. Predicted: DDDDDDDDDDDDD | ADDDDDDDDDDD :Original\n",
      "361. Predicted: BBBBBBBBBBBBBBBBBBBBBBBBBBBBBBBBBBBBBB | AAAABBBBBBBBBBBBBBBB :Original\n",
      "362. Predicted: BBBBBBBBBBBBBBBBBBBB | BBBBBBBBBBBB :Original\n",
      "363. Predicted: CCCCCCCCCCC | CCCCCCCCAA :Original\n",
      "364. Predicted: QQQQQQQQQQQ | AQQQQQQQQQQA :Original\n",
      "365. Predicted: RRRRRRRRRRRRRRR | ARRRRRRRRRRRRRA :Original\n",
      "366. Predicted: SSSSSSSSSSSSSS | ASSSSSSSSSSSSSA :Original\n",
      "367. Predicted: DDDDDDDDDDDDDDD | ADDDDDDDDDDD :Original\n",
      "368. Predicted: BBBBBBBBBBBBBBBBBBBBB | BBBBBBBBBBBAA :Original\n",
      "369. Predicted: CCCCCCCCCCCCCCCCC | CCCCCCCCCCC :Original\n",
      "370. Predicted: EEEEEEEEEEEE | AEEEEEEEEEAA :Original\n",
      "371. Predicted: DDDDDDDDDDDDD | AADDDDDDDDDD :Original\n",
      "372. Predicted: BBBBBBBBBBBBBBBBBBBBBBBBBB | AABBBBBBBBBBBBB :Original\n",
      "373. Predicted: BBBBBBBBBBBBBBBBBBBBBBB | BBBBBBBBBBBBAA :Original\n",
      "374. Predicted: CCCCCCCCCCCCCCCCCC | CCCCCCCCCCCA :Original\n",
      "375. Predicted: QQQQQQQQQQQ | AKKKKKKKKKKAA :Original\n",
      "376. Predicted: LLLLLLLLLL | ALLLLLLLLLL :Original\n",
      "377. Predicted: MMMMMMMMMMMM | MMMMMMMMMMAAA :Original\n",
      "378. Predicted: DDDDDDDDDDDDDDDDD | ADDDDDDDDDDDA :Original\n",
      "379. Predicted: BBBBBBBBBBBBBBBBBBBBBBBBB | AAABBBBBBBBBBB :Original\n",
      "380. Predicted: BBBBBBBBBBBBBBB | BBBBBBBBBA :Original\n",
      "381. Predicted: CCCCCCCCCCCCCCCCCCCCCCCC | CCCCCCCCCCCCCCAA :Original\n",
      "382. Predicted: EEEEEEEEEE | AEEEEEEEEEEA :Original\n",
      "383. Predicted: IIFFFFLLL | AFFFFFFFFFFAAA :Original\n",
      "384. Predicted: GGGGGGGGGG | AGGGGGGGGGGAA :Original\n",
      "385. Predicted: DDDDDDDDDDDDD | AADDDDDDDDAA :Original\n",
      "386. Predicted: BBBBBBBBBBBBBBBBBBBBBBBBBBBBBBBBBBCCCCCCCCCCCCCCCCCC | ABBBBBBBBBBBBBBBBBBBCCCCCCCCCCC :Original\n",
      "387. Predicted: LLIIIIIIII | ALLLLLLLLLLA :Original\n",
      "388. Predicted: MMMMMMMMMMM | AMMMMMMMMMMMAA :Original\n",
      "389. Predicted: DDDDDDDDDDDDDDDDDD | AADDDDDDDDDDAAAA :Original\n",
      "390. Predicted: BBBBBBBBBBBBBBBBBBBBCCCCCCCCCCCCC | BBBBBBBBBBBCCCCCCCCCCA :Original\n",
      "391. Predicted: NNNNNNNNN | NNNNNNNNNAAA :Original\n",
      "392. Predicted: FFFOOOFFFF | AOOOOOOOOOOAAA :Original\n",
      "393. Predicted: PPPPPPP | APPPPPPPPPPPPPPPPA :Original\n",
      "394. Predicted: DDDDDDDDDDDDDDDDD | ADDDDDDDDDDA :Original\n",
      "395. Predicted: BBBBBBBBBBBBBBBBBBBBBBBBBBBBBBBB | AAABBBBBBBBBBBBBB :Original\n",
      "396. Predicted: BBBBBBBBBBBBBBBBBBBBBBBCCCCCCCCCCCC | BBBBBBBBBBBBCCCCCCCCCCC :Original\n",
      "397. Predicted: EEEEEEEEEEE | EEEEEEEEE :Original\n",
      "398. Predicted: E | EEEA :Original\n",
      "399. Predicted: FFFFFFFFFFFFFFFFGGGGGGGGGGGGGGG | AFFFFFFFFFFFFAAAAAAAGGGGGGGGGGAA :Original\n",
      "400. Predicted: DDDDDDDDDDDDDDDDD | AADDDDDDDDDDDA :Original\n",
      "401. Predicted: BBBBBBBBBBBBBBBBBBCCCCCCCCCCCCCC | BBBBBBBBBBBBCCCCCCCCCC :Original\n",
      "402. Predicted: NNNNNNNNNN | NNNNNNNNNAA :Original\n",
      "403. Predicted: OOOOOOOOOOOOOOO | AAOOOOOOOOOOOOOAA :Original\n",
      "404. Predicted: PPPPPPPPPPPPP | APPPPPPPPPPPPA :Original\n",
      "405. Predicted: DDDDDDDDDDDDDDD | AADDDDDDDDDDD :Original\n",
      "406. Predicted: BBBBBBBBBBBBBBBBBBBBB | AAABBBBBBBBBBBB :Original\n",
      "407. Predicted: BBBBBBBBBBBBBBBBBBBBBBBB | BBBBBBBBBBB :Original\n",
      "408. Predicted: CCCCCCCCCCC | CCCCCCCCC :Original\n",
      "409. Predicted: NNNNQQQQ | NNNNNNNNNNN :Original\n",
      "410. Predicted: OOOOOOOOOOO | AAOOOOOOOOOOOOO :Original\n",
      "411. Predicted: PPPPPPPPPPPPP | APPPPPPPPPPPAA :Original\n",
      "412. Predicted: DDDDDDDDDDDDDDD | ADDDDDDDDDDD :Original\n",
      "413. Predicted: BBBBBBBBBBBBBBBBBBBB | ABBBBBBBBBB :Original\n",
      "414. Predicted: BBBBBBBBBBBBBBBBBBBBBBBCCCCCCCCCCCCCC | BBBBBBBBBBBCCCCCCCCCCA :Original\n",
      "415. Predicted: QQEQEEEEKH | AHHHHHHHHHHAA :Original\n",
      "416. Predicted: RIIIIIII | AIIIIIIIIAA :Original\n",
      "417. Predicted: SSSSSSSSSSS | AAAAAAJJJJJJJJJAA :Original\n",
      "418. Predicted: DDDDDDDDDDDDDDD | AADDDDDDDDDDA :Original\n",
      "419. Predicted: BBBBBBBBBBBBBBBBBBB | ABBBBBBBBBB :Original\n",
      "420. Predicted: BBBBBBBBBBBBBBBBBBBBBBBBBBB | BBBBBBBBBBBBBA :Original\n",
      "421. Predicted: CCCCCCC | CCCCCCA :Original\n",
      "422. Predicted: EEEEEEEEEEEEE | EEEEEEEEEAA :Original\n",
      "423. Predicted: FFFFFFFFF | AAFFFFFFFFFAA :Original\n",
      "424. Predicted: GGGGGGGGGG | AAAAAAGGGGGGGGGGA :Original\n",
      "425. Predicted: DDDDDDDDDDDDDDDD | ADDDDDDDDDDDA :Original\n",
      "426. Predicted: BBBBBBBBBBBBBBBBBBBBBBBBBBBBBBBBBBBBBBBBBBBBBB | BBBBBBBBBBBBBBBBBBBBBB :Original\n",
      "427. Predicted: CCCCCCCCCC | CCCCCCCC :Original\n",
      "428. Predicted: HHHHHHHHH | HHHHHHHHHHHA :Original\n",
      "429. Predicted: IIIIIIIIIII | AIIIIIIIIIIIAA :Original\n",
      "430. Predicted: JJJJJJJJJJ | AJJJJJJJJJJAA :Original\n",
      "431. Predicted: DDDDDDDDDDDD | AADDDDDDDDDDA :Original\n",
      "432. Predicted: BBBBBBBBBBBBB | ABBBBBBB :Original\n",
      "433. Predicted: BBBBBBBBBBBBBBBBBCCCCCCC | BBBBBBBBBBACCCCCCCA :Original\n",
      "434. Predicted: QQQQQQQQQQ | AAAAAAAQQQQQQQQQQQQA :Original\n",
      "435. Predicted: RRRRRRRRRRRRRRRRR | RRRRRRRRRRRRAAA :Original\n",
      "436. Predicted: SSSSSSSSSSS | ASSSSSSSSSSS :Original\n",
      "437. Predicted: DDDDDDDDDDDD | ADDDDDDDDDD :Original\n",
      "438. Predicted: BBBBBBBBBBBBBBBBBBBBBBBBCCCCCCCCCCCC | BBBBBBBBBBBBBACCCCCCCCCC :Original\n",
      "439. Predicted: KKKKKKKK | KKKKKKKKKAA :Original\n",
      "440. Predicted: LLLLLLLLLLLL | AALLLLLLLLLAA :Original\n",
      "441. Predicted: MMMMMMMMM | AMMMMMMMMMMAA :Original\n",
      "442. Predicted: DDDDDDDDDDDDDDDD | AADDDDDDDDDA :Original\n",
      "443. Predicted: BBBBBBBBBBBBBBBBBBBBBBBBBBBBBBBBBBBBBBBBBBCCCCCCCCCCCCCCCCCC | AAAABBBBBBBBBBBBBBBBACCCCCCCCCCA :Original\n",
      "444. Predicted: NNNNNNNNN | NNNNNNNNNA :Original\n",
      "445. Predicted: OOOOOOOOOOOOO | AAOOOOOOOOOOAAA :Original\n",
      "446. Predicted: PPMMMMPPMPP | PPPPPPPPPPPPAA :Original\n",
      "447. Predicted: DDDDDDDDDDDD | ADDDDDDDDDDD :Original\n",
      "448. Predicted: BBBBBBBBBBBBBBBBBBBB | ABBBBBBBBBB :Original\n",
      "449. Predicted: BBBBBBBBBBBBBBBBBBBBBBBBBBBBBBBBBBCCCCCCCCCCCCCCC | BBBBBBBBBBBBBCCCCCCCCCCCCCCA :Original\n",
      "450. Predicted: EEEEEEEEE | AEEEEEEEE :Original\n",
      "451. Predicted: QE | EEEAA :Original\n",
      "452. Predicted: FFFFFFFFFFFFFFGGGGGGGGGGGGG | FFFFFFFFFFFFAAAAAAAAGGGGGGGG :Original\n",
      "453. Predicted: DDDDDDDDDDDDDDDD | AADDDDDDDDDDD :Original\n",
      "454. Predicted: BBBBBBBBBBBBBBBBBBBBBBBB | BBBBBBBBBBBB :Original\n",
      "455. Predicted: CCCCCCCCCCCC | CCCCCCCCCA :Original\n",
      "456. Predicted: HHHKHHHKK | HHHHHHHHHHHAA :Original\n",
      "457. Predicted: IIIIIIIIIIII | IIIIIIIIIIIAA :Original\n",
      "458. Predicted: JJJJJJJJJJJJJ | JJJJJJJJJJJAA :Original\n",
      "459. Predicted: DDDDDDDDDDDDDDD | DDDDDDDDDDDA :Original\n",
      "460. Predicted: BBBBBBBBBBBBBBBBBBBBBBBBBBB | ABBBBBBBBBBBBBB :Original\n",
      "461. Predicted: BBBBBBBBBBBBBBBBBBBBBBCCBC | BBBBBBBBBBBBBCCCCCCC :Original\n",
      "462. Predicted: NNNNNNNNN | NNNNNNNAA :Original\n",
      "463. Predicted: OOOOOOOOOOOOOO | AAOOOOOOOOOOOOA :Original\n",
      "464. Predicted: PPPPPPPPPPPPPPP | AAPPPPPPPPPPPAA :Original\n",
      "465. Predicted: DDDDDDDDDDD | ADDDDDDDDD :Original\n",
      "466. Predicted: KKKHKHHHHH | AAHHHHHHHHHHHA :Original\n",
      "467. Predicted: IIIIIIIIIIIIRR | AAIIIIIIIIIIAA :Original\n",
      "468. Predicted: JJJJJJJJJJ | AJJJJJJJJJJA :Original\n",
      "469. Predicted: DDDDDDDDDDDD | AADDDDDDDDAA :Original\n",
      "470. Predicted: BBBBBBBBBBBBBBBBBBB | AABBBBBBBBB :Original\n",
      "471. Predicted: BBBBBBBBBBBBBBBBBBBBBCCCCCCCCCCC | BBBBBBBBBBBCCCCCCCCCC :Original\n",
      "472. Predicted: KKKKKK | HHHHHHHHH :Original\n",
      "473. Predicted: IIIIIIIIIIIII | AAIIIIIIIIIIIIAA :Original\n",
      "474. Predicted: JJJJJJJJ | JJJJJJJJJ :Original\n",
      "475. Predicted: DDDDDDDDDDDDDDDD | AADDDDDDDDDDDD :Original\n",
      "476. Predicted: BBBBBBBBBBBBBBBBBBB | BBBBBBBBBB :Original\n",
      "477. Predicted: CCCCCCCCCCCCCCC | CCCCCCCCCCC :Original\n",
      "478. Predicted: HHHNNNNNNN | NNNNNNNNNA :Original\n",
      "479. Predicted: OOOOOOOOOOOO | AOOOOOOOOOOOA :Original\n",
      "480. Predicted: GGGPMMMGP | APPPPPPPPPPPPAA :Original\n",
      "481. Predicted: DDDDDDDDDDDDDDDDDD | DDDDDDDDDDDAA :Original\n",
      "482. Predicted: BBBBBBBBBBBBBBBBB | BBBBBBBBBB :Original\n",
      "483. Predicted: CCCCCCCCCCCC | CCCCCCCCCC :Original\n",
      "484. Predicted: NNNNNNNNNN | NNNNNNNNAAA :Original\n",
      "485. Predicted: OOOOOOOOOOOOO | AAAAOOOOOOOOOOOOAA :Original\n",
      "486. Predicted: PPPPPPPPPPPPP | AAPPPPPPPPPPPAA :Original\n",
      "487. Predicted: DDDDDDDDDDDDD | AADDDDDDDDDA :Original\n",
      "488. Predicted: BBBBBBBBBBBBBBBBBBBBBBBBBBBBBBBBBBBBBCCCCCCCCCCCCCC | AAABBBBBBBBBBBBBBBBBACCCCCCCCCC :Original\n",
      "489. Predicted: QQQQQQQQQQQ | QQQQQQQQQQQQAA :Original\n",
      "490. Predicted: RRRRRRRRRRRR | ARRRRRRRRRRRRA :Original\n",
      "491. Predicted: SSSSSSSSSSSSSS | ASSSSSSSSSSSSSSA :Original\n",
      "492. Predicted: DDDDDDDDDDDDDDDD | ADDDDDDDDDDDD :Original\n",
      "493. Predicted: BBBBBBBBBBBBBBBBBBBBBBBBBBBBBBBBBBBB | AAAABBBBBBBBBBBBBBBB :Original\n",
      "494. Predicted: BBBBCCCCCCCCC | BBBBBBCCCCCCCCCCCC :Original\n",
      "495. Predicted: QKKKNNNN | NNNNNN :Original\n",
      "496. Predicted: HHK | NNNNAA :Original\n",
      "497. Predicted: LLLLLOLOLLLLL | AOOOOOOOOOOOAA :Original\n",
      "498. Predicted: PPPPPPMP | PPPPPPPP :Original\n",
      "499. Predicted: PP | PPPAA :Original\n",
      "500. Predicted: DDDDDDDDDDDDD | ADDDDDDDDDDA :Original\n",
      "501. Predicted: BBBBBBBBBBBBBBBBBBBBBBBBBBBB | AAABBBBBBBBBBBBB :Original\n",
      "502. Predicted: BBBBBBBBBBBBBBBBBBBBBBB | BBBBBBBBBBBA :Original\n",
      "503. Predicted: CCCCCCCCCCCCCCCCCCCC | CCCCCCCCCCCCA :Original\n",
      "504. Predicted: EQEEEEERRR | KKKKKKKKKKKAA :Original\n",
      "505. Predicted: LLLLLLLLLLLLLLLL | ALLLLLLLLLLLLAA :Original\n",
      "506. Predicted: MMMMMMMMMMMMM | AMMMMMMMMMMMMAA :Original\n",
      "507. Predicted: DDDDDDDDDDDDDDD | AADDDDDDDDDDDA :Original\n",
      "508. Predicted: BBBBBBBBBBBBBBBBBBBBBBB | BBBBBBBBBBBA :Original\n",
      "509. Predicted: NNNNNNNNNNN | NNNNNNNNNAA :Original\n",
      "510. Predicted: OOOOOOOOOOOOOO | AOOOOOOOOOOOOA :Original\n",
      "511. Predicted: PPPPPPPPPPPPPPP | APPPPPPPPPPPPPAA :Original\n",
      "512. Predicted: DDDDDDDDDDDDDDD | ADDDDDDDDDDDA :Original\n",
      "513. Predicted: BBBBBBBBBBBBBBBBBBBBB | BBBBBBBBBBBBBA :Original\n",
      "514. Predicted: CCCCCCCCCCCCCCCC | CCCCCCCCCC :Original\n",
      "515. Predicted: KKKKKKKKKKK | KKKKKKKKKKAAA :Original\n",
      "516. Predicted: LLLLLLLLLLL | LLLLLLLLLLLAA :Original\n",
      "517. Predicted: MMMMMMMMMMM | AAMMMMMMMMMMMAA :Original\n",
      "518. Predicted: DDDDDDDDDDDDD | ADDDDDDDDDDA :Original\n",
      "519. Predicted: BBBBBBBBBBBBBBBBBBBBBBBBBBBBBBBCCCCCCCCCCCCCC | AABBBBBBBBBBBBBBBBBBCCCCCCCCC :Original\n",
      "520. Predicted: EEEEEEEEEEE | AEEEEEEEEEEAA :Original\n",
      "521. Predicted: DDDDDDDDDDDDDDDDD | AADDDDDDDDDDDD :Original\n",
      "522. Predicted: BBBBBBBBBBBBBBBBBBBBBBBBBB | AABBBBBBBBBBBB :Original\n",
      "523. Predicted: BBBBBBBBBBBBBBBBBBBBBB | BBBBBBBBBBAA :Original\n",
      "524. Predicted: CCCCCCCCCCCCCCCCC | CCCCCCCCCCC :Original\n",
      "525. Predicted: QQQ | AQQQQQQ :Original\n",
      "526. Predicted: RRRRRRRRRRRRR | ARRRRRRRRRAA :Original\n",
      "527. Predicted: SSSSSSSSSSS | ASSSSSSSSSSA :Original\n",
      "528. Predicted: DDDDDDDDDDDDDD | AADDDDDDDDDD :Original\n",
      "529. Predicted: BBBBBBBBBBBBBBBBBBBBBBBBBBBBBB | AAAABBBBBBBBBBBBB :Original\n",
      "530. Predicted: BBBBBBBBBBBBBBBBBBBBBBB | BBBBBBBBBBB :Original\n",
      "531. Predicted: CCCCCCCCCCCCCC | CCCCCCCCCCCC :Original\n",
      "532. Predicted: KKKKKKKKKKKKKK | AKKKKKKKKKKKKAA :Original\n",
      "533. Predicted: LLLLLLLLLLL | ALLLLLLLLLLA :Original\n",
      "534. Predicted: MMMMMMMMMMMM | AAMMMMMMMMMMMMAA :Original\n",
      "535. Predicted: DDDDDDDDDDDDDDD | AADDDDDDDDDA :Original\n",
      "536. Predicted: BBBBBBBBBBBBBBBBBBBBBBBBBBCCCCCCCCCCCCC | BBBBBBBBBBBBBBBCCCCCCCCCCC :Original\n",
      "537. Predicted: FFFFFFFF | LLLLLLLLLLAA :Original\n",
      "538. Predicted: MMMMMMMMM | MMMMMMMMMMAA :Original\n",
      "539. Predicted: DDDDDDDDDDDDDDDDDD | DDDDDDDDDDDDA :Original\n",
      "540. Predicted: BBBBBBBBBBBBBBBBBBBBBBBBBBBBBBBB | BBBBBBBBBBBBBBA :Original\n",
      "541. Predicted: CCCCCCCCCCCC | CCCCCCCCA :Original\n",
      "542. Predicted: HHHHHHHHHHHHH | HHHHHHHHHHHHA :Original\n",
      "543. Predicted: IIIIIIIII | AAIIIIIIIIIAA :Original\n",
      "544. Predicted: SSSSSSSJJ | JJJJJJJJJJ :Original\n",
      "545. Predicted: DDDDDDDDDDDDDDD | ADDDDDDDDDDDA :Original\n",
      "546. Predicted: BBBBBBBBBBBBBBBBBBBBBBBBBBB | ABBBBBBBBBBBBBBBB :Original\n",
      "547. Predicted: CCCCCCCCCCC | CCCCCCCCC :Original\n",
      "548. Predicted: NNQQQQQQQQ | AAQQQQQQQQQQAA :Original\n",
      "549. Predicted: RRRRRRRRRRRRR | RRRRRRRRRRR :Original\n",
      "550. Predicted: SSSSSSSSSSSS | AASSSSSSSSSSA :Original\n",
      "551. Predicted: DDDDDDDDDDDDD | ADDDDDDDDDDA :Original\n",
      "552. Predicted: BBBBBBBBBBBBBBBB | AABBBBBBBBB :Original\n",
      "553. Predicted: BBBBBBBBBBBBBBBBBBBBB | BBBBBBBBBBA :Original\n",
      "554. Predicted: CCCCCCCCCCCCC | CCCCCCCCCCCA :Original\n",
      "555. Predicted: EEEEEE | EEEEAAA :Original\n",
      "556. Predicted: FFFFFFFF | AAFFFFFFFFAA :Original\n",
      "557. Predicted: GGGGGGGGGGGGGG | AAAAGGGGGGGGGGGGA :Original\n",
      "558. Predicted: DDDDDDDDDDDDDDDDD | AADDDDDDDDDDDA :Original\n",
      "559. Predicted: BBBBBBBBBBBBBBBBBBBBBBBBBBBBCCCCCCCCCCCCCCCCCCCC | BBBBBBBBBBBBBAAACCCCCCCCCCC :Original\n",
      "560. Predicted: EEEEEEEEEEE | EEEEEEEEEE :Original\n",
      "561. Predicted: FFFFFFFFFFF | FFFFFFFFFFFAA :Original\n",
      "562. Predicted: GGGGGGGP | AAAGGGGGGGGGGGGA :Original\n",
      "563. Predicted: DDDDDDDDDDDDDDDD | ADDDDDDDDDDDD :Original\n",
      "564. Predicted: BBBBBBBBBBBBBBBBBBBBCCCCCCCCCCCC | BBBBBBBBBBBBBCCCCCCCCCCA :Original\n",
      "565. Predicted: QQQQQQQQQQ | AQQQQQQQQQQQ :Original\n",
      "566. Predicted: RRRRRRRRRRRRRRR | ARRRRRRRRRRRRAA :Original\n",
      "567. Predicted: SSSSSSSSSSSSSS | ASSSSSSSSSSSSSAA :Original\n",
      "568. Predicted: DDDDDDDDDDDDDDDD | ADDDDDDDDDDD :Original\n",
      "569. Predicted: BBBBBBBBBBBBBBBBBBBBBBBBBBBBB | AABBBBBBBBBBBBBBB :Original\n",
      "570. Predicted: BBBBBBBBBBBBBBBCCCCCCCCCCCCCCC | BBBBBBBBBBACCCCCCCCC :Original\n",
      "571. Predicted: KKK | AHHHHHHHH :Original\n",
      "572. Predicted: IIIIIIIIII | AIIIIIIIIIAA :Original\n",
      "573. Predicted: JJJJJJJJJJ | AAJJJJJJJJ :Original\n",
      "574. Predicted: DDDDDDDDDDDDDD | AADDDDDDDDDAA :Original\n",
      "575. Predicted: BBBBBBBBBBBBBBBBBBBBBBBBBBBBBBBBBBB | AABBBBBBBBBBBBBBBBB :Original\n",
      "576. Predicted: CCCCCCCC | CCCCCCCC :Original\n",
      "577. Predicted: EEEEEEEEEE | AEEEEEEEEEEEA :Original\n",
      "578. Predicted: FFFFFFFFFFFF | AAFFFFFFFFFFAAA :Original\n",
      "579. Predicted: GGGGGGGGGGGG | AGGGGGGGGGGGGAA :Original\n",
      "580. Predicted: DDDDDDDDDDDDD | AADDDDDDDDDD :Original\n",
      "581. Predicted: BBBBBBBBBBBBBBBBBBBBBBBBB | AAAABBBBBBBBBBB :Original\n",
      "582. Predicted: BBBBBBBBBBBBBBBBBBBBBBBB | BBBBBBBBBBBB :Original\n",
      "583. Predicted: CCCCCCCCCCCC | CCCCCCCCA :Original\n",
      "584. Predicted: QQQQQQQQQQQ | AAQQQQQQQQAA :Original\n",
      "585. Predicted: RRRRRRRRRRR | AARRRRRRRRR :Original\n",
      "586. Predicted: SSSSSSSSSS | SSSSSSSSSSA :Original\n",
      "587. Predicted: DDDDDDDDDDDDDDDDDD | AAADDDDDDDDDDA :Original\n",
      "588. Predicted: BBBBBBBBBBBBBBBBBBBBBBBBBB | AAAABBBBBBBBBBBB :Original\n",
      "589. Predicted: BBBBBBBBBBBBBBBBBBBBBB | BBBBBBBBBBB :Original\n",
      "590. Predicted: CCCCCCCCCCCCCCCC | CCCCCCCCCCA :Original\n",
      "591. Predicted: NNNNNNNN | NNNNNNNNAA :Original\n",
      "592. Predicted: OOOOOOOOOOOO | AAOOOOOOOOOOOAA :Original\n",
      "593. Predicted: PPPPPPPPP | APPPPPPPPPPP :Original\n",
      "594. Predicted: PPPP | PPPAA :Original\n",
      "595. Predicted: DDDDDDDDDDDDDD | ADDDDDDDDDA :Original\n",
      "596. Predicted: BBBBBBBBBBBBBBBBBBBBBBBBBBBBBBBBBBB | AABBBBBBBBBBBBBBBB :Original\n",
      "597. Predicted: CCCCCCCCCCCCC | CCCCCCCCC :Original\n",
      "598. Predicted: HHHHHHHHHHHH | HHHHHHHHHHHHAA :Original\n",
      "599. Predicted: IIIIIIIIIIL | IIIIIIIIIIIAAA :Original\n",
      "600. Predicted: JJJJJJJJJJ | AJJJJJJJJJJJAAA :Original\n",
      "601. Predicted: DDDDDDDDDDDDDD | ADDDDDDDDDDD :Original\n",
      "602. Predicted: BBBBBBBBBBBBBBBBBBBBBBBBBBB | AAAAABBBBBBBBBBBBB :Original\n",
      "603. Predicted: BBBBBBBBBBBBBBBBBBBBBB | BBBBBBBBBBBBBB :Original\n",
      "604. Predicted: CCCCCCCCCCCCC | CCCCCCCCCC :Original\n",
      "605. Predicted: HHHHHHHHHH | HHHHHHHHHHHA :Original\n",
      "606. Predicted: LLLILLLLILI | AIIIIIIIIIIAA :Original\n",
      "607. Predicted: JJJJJJJJJJJ | AJJJJJJJJJJAA :Original\n",
      "608. Predicted: DDDDDDDDDDDDDDDD | ADDDDDDDDDDDA :Original\n",
      "609. Predicted: BBBBBBBBBBBBBBBB | BBBBBBBBBBBB :Original\n",
      "610. Predicted: CCCCCCCCC | CCCCCCCCA :Original\n",
      "611. Predicted: HHHHHHHHH | HHHHHHHHHA :Original\n",
      "612. Predicted: IIIIIIIIII | AAIIIIIIIIIIAA :Original\n",
      "613. Predicted: JJJJJJJJJJJ | AJJJJJJJJJA :Original\n",
      "614. Predicted: DDDDDDDDD | ADDDDDDDD :Original\n",
      "615. Predicted: BBBBBBBBBBBBBBBBBBBBBBBCCCCCCCCCCCCCCCC | BBBBBBBBBBBBCCCCCCCCCC :Original\n",
      "616. Predicted: NNNNNN | AQQQQQQQQQ :Original\n",
      "617. Predicted: RRRRRRRRRR | QQAAAAAARRRRRRRRRRRRRAAA :Original\n",
      "618. Predicted: SSSSSSSSSSSSSS | SSSSSSSSSSSSSSAA :Original\n",
      "619. Predicted: DDDDDDDDDDDDDDDD | AADDDDDDDDDDD :Original\n",
      "620. Predicted: BBBBBBBBBBBBBBBBBBBBBBBBBBBBBB | BBBBBBBBBBBBBB :Original\n",
      "621. Predicted: CCCCCCCCCC | CCCCCCCCC :Original\n",
      "622. Predicted: KKKEEEEE | KKKKKKKKKKKAA :Original\n",
      "623. Predicted: DDDDDDDDDDDDDDDD | ADDDDDDDDDDDA :Original\n",
      "624. Predicted: BBBBBBBBBBBBBBBBBBBBBBBBBBBBBBBBBB | AABBBBBBBBBBBBBBBBB :Original\n",
      "625. Predicted: BBBBBBBBBBBBBBBBBBBBCCCCCCCCC | BBBBBBBBBBBBBCCCCCCCCC :Original\n",
      "626. Predicted: QQQQEEEEE | QQQQQQQQQAAA :Original\n",
      "627. Predicted: RRRRRRRRRRRRRR | AARRRRRRRRRRAA :Original\n",
      "628. Predicted: SSSSSSSSSS | SSSSSSSSSS :Original\n",
      "629. Predicted: DDDDDDDDDDDDDDDDD | ADDDDDDDDDDDD :Original\n",
      "630. Predicted: BBBBBBBBBBBBBBBBBBBBBBBBBCCCCCCCCCCCCCCCCCCC | ABBBBBBBBBBBBBBBACCCCCCCCC :Original\n",
      "631. Predicted: KKKQQQQQQQ | AQQQQQQQQQQAA :Original\n",
      "632. Predicted: RRRRRRRRRRRRRR | ARRRRRRRRRRRAA :Original\n",
      "633. Predicted: SSSSSSSSSSSS | SSSSSSSSSSSA :Original\n",
      "634. Predicted: DDDDDDDDDDDDDDD | ADDDDDDDDDDD :Original\n",
      "635. Predicted: BBBBBBBBBBBBBBBBBBBBBBBBBBBBB | ABBBBBBBBBBBBBBB :Original\n",
      "636. Predicted: BBBBBBBBBBBBBBBBBBBBBBBBBBB | BBBBBBBBBBBBBB :Original\n",
      "637. Predicted: CCCCCCCCCCCCC | CCCCCCCCCA :Original\n",
      "638. Predicted: QQQQQQQQQQQ | AAQQQQQQQQQQA :Original\n",
      "639. Predicted: RRRRRRRRRRRR | RRRRRRRRRRRRRRA :Original\n",
      "640. Predicted: SSSSSSSSSSSSS | ASSSSSSSSSSSSAA :Original\n",
      "641. Predicted: DDDDDDDDDDDDDDD | ADDDDDDDDDDD :Original\n",
      "642. Predicted: BBBBBBBBBBBBBBBBBBBBCCCCCCCCCCCCC | BBBBBBBBBBBCCCCCCCCCCCC :Original\n",
      "643. Predicted: QQQQQQRQRR | QQQQQQQQQQQA :Original\n",
      "644. Predicted: RRRRRRRSRG | ARRRRRRRRRRRAA :Original\n",
      "645. Predicted: SSSSSSSSSSSS | SSSSSSSSSSSSA :Original\n",
      "646. Predicted: DDDDDDDDD | ADDDDDDDD :Original\n",
      "647. Predicted: BBBBBBBBBBBBBBB | BBBBBBBBB :Original\n",
      "648. Predicted: CCCCCCCCCCCCCCCCCC | ACCCCCCCCCC :Original\n",
      "649. Predicted: KKKKKKKKKK | AKKKKKKKKKAA :Original\n",
      "650. Predicted: LLLLLLLLLLL | ALLLLLLLLLLLAA :Original\n",
      "651. Predicted: MMMMMMMMMMMMMM | AMMMMMMMMMMMMMMA :Original\n",
      "652. Predicted: DDDDDDDDDDDDDDDDD | ADDDDDDDDDAAA :Original\n",
      "653. Predicted: BBBBBBBBBBBBBBBBBBBBBBBBBBB | BBBBBBBBBBBBB :Original\n",
      "654. Predicted: CCCCCCCCCCCCCCCCCCCC | CCCCCCCCCCCC :Original\n",
      "655. Predicted: QQQQQQQQQ | EEEEEEEEAA :Original\n",
      "656. Predicted: FFFFFFF | AFFFFFFFFFF :Original\n",
      "657. Predicted: F | AGGGGGGG :Original\n",
      "658. Predicted: GJJJGJGG | GGGGGGGAA :Original\n",
      "659. Predicted: DDDDDDDDDDDDDDDDD | ADDDDDDDDDDDDDDAA :Original\n",
      "660. Predicted: BBBBBBBBBBBBBBBBBBBB | ABBBBBBBBBB :Original\n",
      "661. Predicted: BBBBBBBBBBBBBBBBBBBBBBBBBBB | BBBBBBBBBBBBBA :Original\n",
      "662. Predicted: CCCCCCCC | CCCCCCCA :Original\n",
      "663. Predicted: NNNNNNNNN | AANNNNNNNNAA :Original\n",
      "664. Predicted: OOOOOOOOOOOO | AOOOOOOOOOOOOA :Original\n",
      "665. Predicted: PPPPPPPPPPP | PPPPPPPPPPPPA :Original\n",
      "666. Predicted: DDDDDDDDDDDDDD | AADDDDDDDDDDDD :Original\n",
      "667. Predicted: BBBBBBBBBBBBBBBBBBBBBBBBBBBBBBCCCCCCCCCCCCC | BBBBBBBBBBBBCCCCCCCCCCCA :Original\n",
      "668. Predicted: QQQQQQQQQQ | HHHHHHHHHHHA :Original\n",
      "669. Predicted: RRRRRRRR | AIIIIIIIIIA :Original\n",
      "670. Predicted: JJJJJJJJJJS | AAAJJJJJJJJJJJA :Original\n",
      "671. Predicted: DDDDDDDDDDDDDDDDD | AAADDDDDDDDDDDD :Original\n",
      "672. Predicted: BBBBBBBBBBBBBBBBBBBBB | AAABBBBBBBBBBB :Original\n",
      "673. Predicted: BBBBBBBBBBBBBBBBBBBBBBBB | BBBBBBBBBBBBA :Original\n",
      "674. Predicted: CCCCCCCCCCCCCCCCCC | CCCCCCCCCCCCA :Original\n",
      "675. Predicted: KKKKHHHK | AHHHHHHHHAAA :Original\n",
      "676. Predicted: IIIIIIIIIII | AIIIIIIIIIIAA :Original\n",
      "677. Predicted: JJJJJJJJJJJJ | AAJJJJJJJJJAA :Original\n",
      "678. Predicted: DDDDDDDDDDDDDDD | AADDDDDDDDAA :Original\n",
      "679. Predicted: BBBBBBBBBBBBBBBBBBBBBBBBBBBBB | AAAAAABBBBBBBBBBBBB :Original\n",
      "680. Predicted: BBBBBBBBBBBBBBBBBBBCCCCCCCCCCCCCCCC | BBBBBBBBBBBBACCCCCCCCCCA :Original\n",
      "681. Predicted: QQQQQQQQQQQQ | QQQQQQQQQQQQA :Original\n",
      "682. Predicted: RRRRRRRRRRRRR | AARRRRRRRRRRRRA :Original\n",
      "683. Predicted: SSSSSSSSSS | ASSSSSSSSSSSSAA :Original\n",
      "684. Predicted: DDDDDDDDDD | ADDDDDDDDD :Original\n",
      "685. Predicted: BBBBBBBBBBBBBBBBBBBBBBBBBBBBBBBCCCCCCCCCCCCCCCC | BBBBBBBBBBBBBCCCCCCCCCCCCCC :Original\n",
      "686. Predicted: KKKKKKKKKK | AHHHHHHHHHHAAA :Original\n",
      "687. Predicted: IIIIIIIIIII | AIIIIIIIIIIIAA :Original\n",
      "688. Predicted: JJJJJJJJJJJ | AAJJJJJJJJJ :Original\n",
      "689. Predicted: DDDDDDDDDDDD | AADDDDDDDDAA :Original\n",
      "690. Predicted: BBBBBBBBBBBBBBBBBBBBBBBBBBBBBB | ABBBBBBBBBBBBBBBB :Original\n",
      "691. Predicted: CCCCCCCCCC | CCCCCCCCC :Original\n",
      "692. Predicted: KKKKKKKKKK | AKKKKKKKKKAA :Original\n",
      "693. Predicted: LLLLLLLLLLL | ALLLLLLLLLLAA :Original\n",
      "694. Predicted: MMMMMMMMMMM | AMMMMMMMMMMAAA :Original\n",
      "695. Predicted: DDDDDDDDDDDDDDD | AADDDDDDDDDDA :Original\n",
      "696. Predicted: BBBBBBBBBBBBBBBBBBBBBBB | AAAAAABBBBBBBBBBB :Original\n",
      "697. Predicted: BBBBBBBBBBBBBBBBBBBBBBB | BBBBBBBBBBBBB :Original\n",
      "698. Predicted: CCCCCCCCCC | CCCCCCCCCA :Original\n",
      "699. Predicted: QQQQQQQQQQ | AAQQQQQQQAA :Original\n",
      "700. Predicted: RRRRRRRRRRR | AARRRRRRRRRA :Original\n",
      "701. Predicted: SPSSSSSSS | ASSSSSSSSS :Original\n",
      "702. Predicted: DDDDDDDDDD | ADDDDDDDDD :Original\n",
      "703. Predicted: BBBBBBBBBBBBBBBBBB | BBBBBBBBBBBBB :Original\n",
      "704. Predicted: CCCCCCCCC | CCCCCCCCA :Original\n",
      "705. Predicted: QEQQQQ | QQQQQQQ :Original\n",
      "706. Predicted: RRRRRRRRRRRR | ARRRRRRRRRRRRAA :Original\n",
      "707. Predicted: SSSSSSSSSSSSS | ASSSSSSSSSSSSAA :Original\n",
      "708. Predicted: DDDDDDDDDD | AADDDDDDDDD :Original\n",
      "709. Predicted: BBBBBBBBBBBBBBBBBBBBBBB | BBBBBBBBBBBB :Original\n",
      "710. Predicted: CCCCCCCCCCC | CCCCCCCCC :Original\n",
      "711. Predicted: EEEEEEEEEEE | AEEEEEEEEEEEA :Original\n",
      "712. Predicted: FFFFFFFFFFF | AFFFFFFFFFFAA :Original\n",
      "713. Predicted: GGGGGGGGGGGG | AGGGGGGGGGGGGAA :Original\n",
      "714. Predicted: DDDDDDDDDDD | ADDDDDDDDDD :Original\n",
      "715. Predicted: BBBBBBBBBBBBBBBBBBBBBBBBBBBB | AAAABBBBBBBBBBBBB :Original\n",
      "716. Predicted: BBBBBBBBBBBBBBBBBBCCCCCCCCCC | BBBBBBBBBACCCCCCCCCC :Original\n",
      "717. Predicted: EEEEEEEEEEEE | EEEEEEEEEEAA :Original\n",
      "718. Predicted: FFFRFFOOO | AAAAAAFFFFFFF :Original\n",
      "719. Predicted: GGGGGGGGGGGG | FFAAAAAAAGGGGGGGGGGGAA :Original\n",
      "720. Predicted: DDDDDDDDDDDD | ADDDDDDDDAA :Original\n",
      "721. Predicted: BBBBBBBBBBBBBBBBBBBBBBBBBBBBBBBBBB | AAAAABBBBBBBBBBBBBBB :Original\n",
      "722. Predicted: BBBBBBBBBBBBBBB | BBBBBBBBBBBB :Original\n",
      "723. Predicted: CCCCCCCCCCCC | CCCCCCCCCAA :Original\n",
      "724. Predicted: KKKKKKKK | KKKKKKKKKKA :Original\n",
      "725. Predicted: LLLLLLLLLLL | ALLLLLLLLLLAA :Original\n",
      "726. Predicted: MMMMMMMMMM | AMMMMMMMMMMAA :Original\n",
      "727. Predicted: DDDDDDDDDDD | ADDDDDDDDDD :Original\n",
      "728. Predicted: BBBBBBBBCCCCCCCCCCCCCCCCCC | BBBBBBBBCCCCCCCCCCCCC :Original\n",
      "729. Predicted: KKKKKKK | AAKKKKKKK :Original\n",
      "730. Predicted: LLLLLLLLLLLLLLLLL | LLLLLLLLLLLLLLAA :Original\n",
      "731. Predicted: PPPPPPPP | AMMMMMMMMM :Original\n",
      "732. Predicted: DDDDDDDDDDDDDDDDDD | AADDDDDDDDDDD :Original\n",
      "733. Predicted: BBBBBBBBBBBBBBBBBBBBBB | BBBBBBBBBBBB :Original\n",
      "734. Predicted: CCCCCCCCCC | CCCCCCCA :Original\n",
      "735. Predicted: KKKKKKKKKK | KKKKKKKKKKAA :Original\n",
      "736. Predicted: LLLLLLLLLLL | AALLLLLLLLLAA :Original\n",
      "737. Predicted: MMMMMMMMMMM | MMMMMMMMMMMAA :Original\n",
      "738. Predicted: DDDDDDDDDDDDDDD | AADDDDDDDDDDD :Original\n",
      "739. Predicted: BBBBBBBBBBBBBBBBBBBBBBBBBBBCCCCCCCCCCCCCCCCC | BBBBBBBBBBBBBBCCCCCCCCCC :Original\n",
      "740. Predicted:  | QQQQQQQQQQQQAAAAA :Original\n",
      "741. Predicted: RRRRRRRRRRRRRRR | ARRRRRRRRRRRRA :Original\n",
      "742. Predicted: SGGSSSSSS | ASSSSSSSSSS :Original\n",
      "743. Predicted: MPPP | SSSSAA :Original\n",
      "744. Predicted: DDDDDDDDDDDDDD | ADDDDDDDDDDD :Original\n",
      "745. Predicted: BBBBBBBBBBBBBBBBBBB | ABBBBBBBBBB :Original\n",
      "746. Predicted: BBBBBBBBBBBBBBBBBBBBBBBBBBBBBBBBBB | BBBBBBBBBBBBBBBBC :Original\n",
      "747. Predicted: CCCCCCCCCCCCCCC | CCCCCCCCCC :Original\n",
      "748. Predicted: QQEQQQQQQQ | KKKKKKKKKKKKA :Original\n",
      "749. Predicted: FIFFFFFFFF | LLLLLLLLLLLAA :Original\n",
      "750. Predicted: MMMMMMMMMM | AAMMMMMMMMMMMAA :Original\n",
      "751. Predicted: DDDDDDDDDDDDDDDDDDD | AADDDDDDDDDDDA :Original\n",
      "752. Predicted: BBBBBBBBBBBBBBBBBBBBBBCCCCCCCCCCCCCCCCCC | BBBBBBBBBBBBACCCCCCCCCA :Original\n",
      "753. Predicted: HHHHHHHH | HHHHHHHHHA :Original\n",
      "754. Predicted: IIIIIIIIII | AIIIIIIIIIAA :Original\n",
      "755. Predicted: JJJJJJJJJJ | AJJJJJJJJJJA :Original\n",
      "756. Predicted: DDDDDDDDDD | AADDDDDDDD :Original\n",
      "757. Predicted: BBBBBBBBBBBBBBBBBBBBBBB | BBBBBBBBBBBB :Original\n",
      "758. Predicted: CCCCCCCCCCC | CCCCCCCCC :Original\n",
      "759. Predicted: NNNNNNNNNN | ANNNNNNNNNNAA :Original\n",
      "760. Predicted: OOOOOOORRRRRRRR | AAOOOOOOOOOOOOOAA :Original\n",
      "761. Predicted: GGGPGPPPPPP | PPPPPPPPPPPPPA :Original\n",
      "762. Predicted: DDDDDDDDDDDD | AADDDDDDDDDD :Original\n",
      "763. Predicted: BBBBBBBBBBBBBBBBBBBBBBBBBBBBBBBB | AAABBBBBBBBBBBBBB :Original\n",
      "764. Predicted: BBBBBBBBBBBBBBBBBCCCCCCCCCCCCCCCC | BBBBBBBBBBBCCCCCCCCCCA :Original\n",
      "765. Predicted: NNNNNNNNNNN | NNNNNNNNNNAA :Original\n",
      "766. Predicted: OOOOOOOOOOOOOOOO | AOOOOOOOOOOOOAA :Original\n",
      "767. Predicted: PPPPPPPPPPPPP | APPPPPPPPPPPPAA :Original\n",
      "768. Predicted: DDDDDDDDDDDDDDDD | ADDDDDDDDDDDD :Original\n",
      "769. Predicted: BBBBBBBBBBBBBBBBBBBBBBBBBBBBBBBBBBBBBBBBBBBBBCCCCCCCCCCCCCCCCC | BBBBBBBBBBBBBBBBBBCCCCCCCCCCCA :Original\n",
      "770. Predicted: NNNNNNNNNQQQQ | NNNNNNNNNNNNNAA :Original\n",
      "771. Predicted: OOOOOOOOO | AOOOOOOOOOOOA :Original\n",
      "772. Predicted: MMMMMMMM | APPPPPPPPPP :Original\n",
      "773. Predicted: PDDDDDDDDDDDDDDD | PPPPPADDDDDDDDDD :Original\n",
      "774. Predicted: BBBBBBBBBBBBBBBBBBBBBBBBBBB | AAABBBBBBBBBBBBB :Original\n",
      "775. Predicted: CCCCCCCCCCCCCC | CCCCCCCCCA :Original\n",
      "776. Predicted: NNNNNNNNNN | NNNNNNNNNN :Original\n",
      "777. Predicted: OOOOOOOOOOO | AAOOOOOOOOOOO :Original\n",
      "778. Predicted: PPPPPPPPPPPPPP | APPPPPPPPPPPAAA :Original\n",
      "779. Predicted: DDDDDDDDDDDDDDDDDD | ADDDDDDDDDDDA :Original\n",
      "780. Predicted: BBBBBBBBBBBBBBBBBBB | AABBBBBBBBB :Original\n",
      "781. Predicted: BBBBBBBBBBBBBBBBBBBBBBBBB | BBBBBBBBBBBB :Original\n",
      "782. Predicted: CCCCCCCCCCCC | CCCCCCCCC :Original\n",
      "783. Predicted: KKKKKKKKKKK | AAKKKKKKKKKKKAA :Original\n",
      "784. Predicted: LLLLLLLLLLLL | LLLLLLLLLLAAA :Original\n",
      "785. Predicted: MMMMMMMMMMMM | AAAMMMMMMMMMMAAA :Original\n",
      "786. Predicted: DDDDDDDDDDDDDDD | AADDDDDDDDDD :Original\n",
      "787. Predicted: BBBBBBBBBBBBBBBBBB | ABBBBBBBBBB :Original\n",
      "788. Predicted: BBBBBBBBBBBBBBBBBBBBBBBBCCCCCCCCCCCCCC | BBBBBBBBBBBBBCCCCCCCCCCCCA :Original\n",
      "789. Predicted: LLLLLLLLLLLLL | ALLLLLLLLLLLA :Original\n",
      "790. Predicted: MMMMMMMMMMM | AMMMMMMMMMMMA :Original\n",
      "791. Predicted: DDDDDDDDDDDDDD | AADDDDDDDDAA :Original\n",
      "792. Predicted: BBBBBBBBBBBBBBBBBBBBBBBBBBBB | BBBBBBBBBBBBBA :Original\n",
      "793. Predicted: CCCCCCCCC | CCCCCCCC :Original\n",
      "794. Predicted: NNNNNNNNN | ANNNNNNNNNAA :Original\n",
      "795. Predicted: OOOOOOOOOOO | AOOOOOOOOOOOAAA :Original\n",
      "796. Predicted: PPPPPGGPGMG | PPPPPPPPPPPPPPA :Original\n",
      "797. Predicted: DDDDDDDDDDDDDDD | DDDDDDDDDDD :Original\n",
      "798. Predicted: BBBBBBBBBBBBBBBBBBBBBBBBBCCCCCCCCCCCC | BBBBBBBBBBBBBBCCCCCCCCC :Original\n",
      "799. Predicted: EEEEEEEEEEEEE | AAEEEEEEEEEEAA :Original\n",
      "800. Predicted: FFFFFFFFFF | AAFFFFFFFFFFA :Original\n",
      "801. Predicted: GGGGGGGGGG | AGGGGGGGGGGGA :Original\n",
      "802. Predicted: DDDDDDDDDDDDDDDD | ADDDDDDDDDDDAA :Original\n",
      "803. Predicted: BBBBBBBBBBBBBBBBBBBBBBBBBBBBBBBB | AABBBBBBBBBBBBBBBB :Original\n",
      "804. Predicted: BBBBBBBBBBBBBBBBBBBBBB | BBBBBBBBBBBB :Original\n",
      "805. Predicted: EEEEEEEEEEE | AEEEEEEEEEAAA :Original\n",
      "806. Predicted: FFFFFFFFFF | AAFFFFFFFFFFAA :Original\n",
      "807. Predicted: GGGGGGGGGGG | AAGGGGGGGGGGA :Original\n",
      "808. Predicted: DDDDDDDDDDDDDDD | AADDDDDDDDDDDA :Original\n",
      "809. Predicted: BBBBBBBBBBBBBBBBBBBBBBBBBBBBBBBBBBCCCCCCCCCCCCC | BBBBBBBBBBBBBBBACCCCCCCCCCC :Original\n",
      "810. Predicted: NNNNNNNN | NNNNNNNNNNNA :Original\n",
      "811. Predicted: LLLLLLLLLLLL | AOOOOOOOOOOOAA :Original\n",
      "812. Predicted: MMMMMM | PPPPPPPPP :Original\n",
      "813. Predicted: P | PPPPPA :Original\n",
      "814. Predicted: DDDDDDDDDDDDDDDDD | DDDDDDDDDDDA :Original\n",
      "815. Predicted: BBBBBBBBBBBBBBBBBBBBBBBBBBBBBBBB | AAABBBBBBBBBBBBBBB :Original\n",
      "816. Predicted: BBBBBBBBBBBBBBBBBBBBBBB | BBBBBBBBBBBB :Original\n",
      "817. Predicted: CCCCCCCCCCCC | CCCCCCCCAA :Original\n",
      "818. Predicted: NNNNNNNNN | NNNNNNNNNAA :Original\n",
      "819. Predicted: OOOOOOOOOOOO | AAAAOOOOOOOOOOOOOA :Original\n",
      "820. Predicted: PPPPPPPPPPPPP | APPPPPPPPPPPPA :Original\n",
      "821. Predicted: DDDDDDDDDDD | AADDDDDDDD :Original\n",
      "822. Predicted: BBBBBBBBBBBBBBBBBBBBBBBB | BBBBBBBBBBBBB :Original\n",
      "823. Predicted: HHHHHHHHHH | HHHHHHHHHAA :Original\n",
      "824. Predicted: IIIIIIIIII | AAIIIIIIIIII :Original\n",
      "825. Predicted: JJJJJJJJJJJ | AAJJJJJJJJJAA :Original\n",
      "826. Predicted: DDDDDDDDDDDDDDD | AADDDDDDDDDDA :Original\n",
      "827. Predicted: BBBBBBBBBBBBBBBBBBBBBBBBBBBBBBBBBBBBBBB | AAAAAABBBBBBBBBBBBBBBBB :Original\n",
      "828. Predicted: BBBBBBBBBBBBBBBBBBBBBB | BBBBBBBBBBBBC :Original\n",
      "829. Predicted: CCCCCCCCCCC | CCCCCCCCA :Original\n",
      "830. Predicted: NNNNNNNNN | NNNNNNNNNA :Original\n",
      "831. Predicted: OOOOOOOOOOOOO | AAOOOOOOOOOOOOAA :Original\n",
      "832. Predicted: PPPPPPPPPPP | APPPPPPPPPPPPPA :Original\n",
      "833. Predicted: DDDDDDDD | AADDDDDDDD :Original\n",
      "834. Predicted: BBBBBBBBBBBBBBBBBBCCCCCCCCCCCC | AAAAAAABBBBBBBBBBBBBBBBBBBBBCCCCCCCCCCCC :Original\n",
      "835. Predicted: FFFFFFFFFF | AFFFFFFFF :Original\n",
      "836. Predicted: GGGGGGG | AGGGGGGGGG :Original\n",
      "837. Predicted: DDDDDDDDDD | DDDDDDDDD :Original\n",
      "838. Predicted: BBBBBBBBBBBBBBBCCCCCCCCCCCCCCCCC | BBBBBBBBBBCCCCCCCCCCC :Original\n",
      "839. Predicted: KKKKKKKKKKKK | KKKKKKKKKKKKAA :Original\n",
      "840. Predicted: LLLLLLLLLLLLLLL | LLLLLLLLLLLLAAA :Original\n",
      "841. Predicted: MMMMMMMMMM | AMMMMMMMMMAA :Original\n",
      "842. Predicted: DDDDDDDDDDDDDDDDD | AADDDDDDDDDDD :Original\n",
      "843. Predicted: BBBBBBBBBBBBBBBBBBBBBBBB | BBBBBBBBBBBB :Original\n",
      "844. Predicted: CCCCCCCCCC | CCCCCCCCCA :Original\n",
      "845. Predicted: EEEEEEEEEEEE | AAEEEEEEEEEEAA :Original\n",
      "846. Predicted: DDDDDDDDDDDDDD | ADDDDDDDDDDD :Original\n",
      "847. Predicted: BBBBBBBBBBBBBBBBBBBBBCCCCCCCCCCCCC | BBBBBBBBBBBBBCCCCCCCCCC :Original\n",
      "848. Predicted: NNNKNNNNN | NNNNNNNAAA :Original\n",
      "849. Predicted: OOOOOOOOOOOO | AAOOOOOOOOOOOA :Original\n",
      "850. Predicted: PPPPPPPPPPPP | PPPPPPPPPPPPAA :Original\n",
      "851. Predicted: DDDDDDDDDDDDDDD | AADDDDDDDDDDD :Original\n",
      "852. Predicted: BBBBBBBBBBBBBBBBBBBBBBBBB | BBBBBBBBBBBBA :Original\n",
      "853. Predicted: CCCCCCCCCCC | CCCCCCCCA :Original\n",
      "854. Predicted: KKKHKKKKK | AKKKKKKKKKAA :Original\n",
      "855. Predicted: LLLLLLLLLLLLLLL | LLLLLLLLLLAAA :Original\n",
      "856. Predicted: MMMMMMMMMMMM | AAMMMMMMMMMMMAA :Original\n",
      "857. Predicted: DDDDDDDDDDDDDDDD | AADDDDDDDDDDA :Original\n",
      "858. Predicted: BBBBBBBBBBBBBBBBBBBBBBBBBBBBBBBCCCCCCCCCCCCC | BBBBBBBBBBBBBBBBBCCCCCCCCC :Original\n",
      "859. Predicted: IKIKIKKK | NNNNNNNNNAAA :Original\n",
      "860. Predicted: OOOOOOOOOOOOOOO | AAOOOOOOOOOOOOAAA :Original\n",
      "861. Predicted: PPPP | AAPPPPPPPPPPPPPPPAA :Original\n",
      "862. Predicted: DDDDDDDDDDDDD | ADDDDDDDAA :Original\n",
      "863. Predicted: BBBBBBBBBBBBBBBBBBBBBBBBBBB | AAABBBBBBBBBBBB :Original\n",
      "864. Predicted: BBBBBBBBBBBBBBBBBB | BBBBBBBBBB :Original\n",
      "865. Predicted: CCCCCCCCCCC | CCCCCCCCCC :Original\n",
      "866. Predicted: QQQQQQQQQQQQ | AQQQQQQQQQQA :Original\n",
      "867. Predicted: RRRRRRRRRRRR | ARRRRRRRRRR :Original\n",
      "868. Predicted: SSSSSSSSSJSS | SSSSSSSSSSSSSSA :Original\n",
      "869. Predicted: DDDDDDDDDDDDDD | ADDDDDDDDDA :Original\n",
      "870. Predicted: BBBBBBBBBBBBBBBBBBBBBBBBBBBBB | AAABBBBBBBBBBBB :Original\n",
      "871. Predicted: BBBBBBBBBBBBBBBBBBBBCCCCCCCCCCC | BBBBBBBBBBBBBCCCCCCCCCCC :Original\n",
      "872. Predicted: QQQQQQQQQ | QQQQQQQQQQ :Original\n",
      "873. Predicted: EEE | QQQA :Original\n",
      "874. Predicted: RRRRRRRRRRRRRR | RRRRRRRRRRAAAA :Original\n",
      "875. Predicted: SSSSSSSSSSSS | ASSSSSSSSSSSAA :Original\n",
      "876. Predicted: DDDDDDDDDDD | ADDDDDDDDAA :Original\n",
      "877. Predicted: BBBBBBBBBBBBBBBBBBBBBBBBBBBBBBBBBBBB | AAAABBBBBBBBBBBBBBBB :Original\n",
      "878. Predicted: BBBBBBBBBBBBBBBBBBBBBCCCCCCCCCCCCCCCC | BBBBBBBBBBBBCCCCCCCCCC :Original\n",
      "879. Predicted: NNNNNNNN | NNNNNNNNNAA :Original\n",
      "880. Predicted: OOOOOOOOOOOOOOOOOO | AOOOOOOOOOOOOOOAAAA :Original\n",
      "881. Predicted: PPPPPPPPPPPPP | APPPPPPPPPPPPP :Original\n",
      "882. Predicted: DDDDDDDDDDDDD | DDDDDDDDAA :Original\n",
      "883. Predicted: BBBBBBBBBBBBBBB | BBBBBBBBBBBBBC :Original\n",
      "884. Predicted: CCCCCC | CCCCCAA :Original\n",
      "885. Predicted: EE | HHHHHHAA :Original\n",
      "886. Predicted: IIIIIIIIII | AIIIIIIIIIAA :Original\n",
      "887. Predicted: JJJJJJJJJJJ | AAJJJJJJJJJAA :Original\n",
      "888. Predicted: DDDDDDDDDDDDDDD | AADDDDDDDDDA :Original\n",
      "889. Predicted: BBBBBBBBBBBBBBBBBBBBBBBBBB | BBBBBBBBBBBBB :Original\n",
      "890. Predicted: CCCCCCCCCCCCCCCC | CCCCCCCCCCC :Original\n",
      "891. Predicted: QQQQQQQQQQQ | AQQQQQQQQQQQA :Original\n",
      "892. Predicted: RRRRRRRRRRRRRR | ARRRRRRRRRRRAA :Original\n",
      "893. Predicted: SSSSSSSSSSSSSS | ASSSSSSSSSSSSSA :Original\n",
      "894. Predicted: DDDDDDDDDDDDDDD | ADDDDDDDDDDD :Original\n",
      "895. Predicted: BBBBBBBBBBBBBBBBBBBBBBBBBBBBB | BBBBBBBBBBBBBBB :Original\n",
      "896. Predicted: CCCCCCCCCCCCCCCCCCCCC | CCCCCCCCCCCCAA :Original\n",
      "897. Predicted: HHHHHHHH | HHHHHHHHAA :Original\n",
      "898. Predicted: IIIIIIIO | AAIIIIIIIIA :Original\n",
      "899. Predicted: BBJB | AAJJJJJJJJJJJJJ :Original\n",
      "900. Predicted: DDDDDDDDDDDDDDDDD | ADDDDDDDDDDDD :Original\n",
      "901. Predicted: BBBBBBBBBBBBBBBBBBBBBBBBBB | AABBBBBBBBBBBBB :Original\n",
      "902. Predicted: BBBBBBBBBBBBBBBBBBBBBBBB | BBBBBBBBBBBBBA :Original\n",
      "903. Predicted: CCCCCCCCCCCCC | CCCCCCCCCC :Original\n",
      "904. Predicted: QQQQQQQQQQQQQ | AQQQQQQQQQQQA :Original\n",
      "905. Predicted: RRRRRRRRRRRR | AARRRRRRRRRRAAA :Original\n",
      "906. Predicted: SSSSSSSSSSSS | SSSSSSSSSSSSA :Original\n",
      "907. Predicted: DDDDDDDDDDDDDDDD | ADDDDDDDDDDAA :Original\n",
      "908. Predicted: BBBBBBBBBBBBBBBBBBBBBBBBBBBBBBBBBBBB | AAABBBBBBBBBBBBBBBB :Original\n",
      "909. Predicted: CCCCCCCCCCC | CCCCCCCCC :Original\n",
      "910. Predicted: EEEEEEEEE | EEEEEEEEEEAA :Original\n",
      "911. Predicted: FFFFFFFFFFF | AFFFFFFFFFAAA :Original\n",
      "912. Predicted: GGGGGGGGGGG | AGGGGGGGGGGGGAA :Original\n",
      "913. Predicted: DDDDDDDDDDDDDDD | AADDDDDDDDDDDAA :Original\n",
      "914. Predicted: BBBBBBBBBBBBBBBBBBBBBBBBBBBB | BBBBBBBBBBBBBB :Original\n",
      "915. Predicted: CCCCCC | CCCCCA :Original\n",
      "916. Predicted: EEEEEEEEEEE | AEEEEEEEEEEAAA :Original\n",
      "917. Predicted: FFFFFFFFFF | AFFFFFFFFFFAA :Original\n",
      "918. Predicted: GGGGGGGGGGGGG | AAGGGGGGGGGGGA :Original\n",
      "919. Predicted: DDDDDDDDDDDDDDDD | AADDDDDDDDDDD :Original\n",
      "920. Predicted: BBBBBBBBBBBBBBBBBBBBBBBBBBBBBBBBBBBB | ABBBBBBBBBBBBBBBBB :Original\n",
      "921. Predicted: BBBBBBBBBBBBBBBBBBBBBB | BBBBBBBBBBBA :Original\n",
      "922. Predicted: CCCCCCCC | CCCCCCCC :Original\n",
      "923. Predicted: QQQQQQQQQQQQ | QQQQQQQQQQQAA :Original\n",
      "924. Predicted: RRRRRRRRRRRRRR | ARRRRRRRRRRRR :Original\n",
      "925. Predicted: SSSSSSSSSSSSS | AASSSSSSSSSSSAA :Original\n",
      "926. Predicted: DDDDDDDDDDDDDDD | ADDDDDDDDDDDD :Original\n",
      "927. Predicted: BBBBBBBBBBBBBBBBBBBB | ABBBBBBBBBB :Original\n",
      "928. Predicted: BBBBBBBBBBBBBBBBBBBBBBBBBBBBBBBB | BBBBBBBBBBBBBBB :Original\n",
      "929. Predicted: CCCCCCCCCCC | CCCCCCCCCC :Original\n",
      "930. Predicted: HHHHHHHHHH | HHHHHHHHHHAA :Original\n",
      "931. Predicted: OOOOOOOOIIIII | IIIIIIIIIIIIIAA :Original\n",
      "932. Predicted: PPPSSSSMMM | JJJJJJJJJJJJ :Original\n",
      "933. Predicted: DDDDDDDDDDDDDDDDD | AADDDDDDDDDDA :Original\n",
      "934. Predicted: BBBBBBBBBBBBBBBBB | BBBBBBBBBBBAC :Original\n",
      "935. Predicted: CCCCCCCC | CCCCCCCA :Original\n",
      "936. Predicted: KKKKKKKKKKKK | AKKKKKKKKKKAA :Original\n",
      "937. Predicted: LLLLLLLLLL | ALLLLLLLLLAA :Original\n",
      "938. Predicted: MMMMMMMMMM | AMMMMMMMMMMMAA :Original\n",
      "939. Predicted: DDDDDDDDDDDDDDD | AADDDDDDDDDDA :Original\n",
      "940. Predicted: BBBBBBBBBBBBBBBBBBBBBBBBBBBBBBBBBBBBBBBBBCCCCCCCCCCCCC | AAAABBBBBBBBBBBBBBBBBCCCCCCCCCC :Original\n",
      "941. Predicted: NNNNNNNNNN | AANNNNNNNNNAA :Original\n",
      "942. Predicted: OOOOOOOOOOOOOO | AOOOOOOOOOOOOOAA :Original\n",
      "943. Predicted: PPPPPPPPPPPPP | APPPPPPPPPPPPAA :Original\n",
      "944. Predicted: DDDDDDDDDDD | AAAADDDDDDDDDDA :Original\n",
      "945. Predicted: BBBBBBBBBBBBBBBBBBBBBBBBBBBBBBBBBBBB | AAABBBBBBBBBBBBBBBB :Original\n",
      "946. Predicted: BBBBBBBBBBBBB | BBBBBBBBBBBA :Original\n",
      "947. Predicted: CCCCCCCCC | CCCCCCCA :Original\n",
      "948. Predicted: HHHHHHHHHH | AHHHHHHHHHAAA :Original\n",
      "949. Predicted: IIIIIIIIII | AIIIIIIIIIAA :Original\n",
      "950. Predicted: JJJJJJJJ | AJJJJJJJJJAA :Original\n",
      "951. Predicted: DDDDDDDDDDDD | AADDDDDDDDDAA :Original\n",
      "952. Predicted: BBBBBBBBBBBBBBBBBCCCCCCCCCC | BBBBBBBBBBBBCCCCCCCCCC :Original\n",
      "953. Predicted: EEEEEEEE | EEEEEEEEEAA :Original\n",
      "954. Predicted: FFFFFFFFFFFFGGGGGGGGGGGGG | AAFFFFFFFFFFFAAAAAAAAGGGGGGGGGGG :Original\n",
      "955. Predicted: DDDDDDDD | AADDDDDDDD :Original\n",
      "956. Predicted: BBBBBBBBBBBBBBBBBBBBBBBBBBCCCCCCCCCCCCCCCCC | BBBBBBBBBBBBBCCCCCCCCCCA :Original\n",
      "957. Predicted: QQEEEEE | EEEEEEEA :Original\n",
      "958. Predicted: FFFFFFFFF | AFFFFFFFFFFAA :Original\n",
      "959. Predicted: GGGGGGGGGGG | AGGGGGGGGGGGA :Original\n",
      "960. Predicted: DDDDDDDDDDDD | AADDDDDDDDDD :Original\n",
      "961. Predicted: BBBBBBBBBBBBBBBBBBBBBBBBBBBBBBCCCCCCCCC | AAAAABBBBBBBBBBBBBBBCCCCCCCCCC :Original\n",
      "962. Predicted: KKKKKKKKKKKK | AKKKKKKKKKKKAA :Original\n",
      "963. Predicted: LLLLLLLLLLLL | ALLLLLLLLLLAAA :Original\n",
      "964. Predicted: MMMMMMMM | MMMMMMMMMMA :Original\n",
      "965. Predicted: DDDDDDDDDDDDDDDDD | ADDDDDDDDDDDDD :Original\n",
      "966. Predicted: BBBBBBBBBBBBBBBBBBBBBBCCCCCCCCCCCCCCC | BBBBBBBBBBBACCCCCCCCCCC :Original\n",
      "967. Predicted: KKKKKKKKKKKKKK | KKKKKKKKKKKKAAA :Original\n",
      "968. Predicted: LFFFFFFFFFF | LLLLLLLLLAAAA :Original\n",
      "969. Predicted: MMMMMMMMMMMMM | AMMMMMMMMMMMMMMAAAAAA :Original\n",
      "970. Predicted: DDDDDDDDDDDDDDD | AADDDDDDDDDDD :Original\n",
      "971. Predicted: BBBBBBBBBBBBBBBBBBBBBBBBCCCCCCCCCCCCC | BBBBBBBBBBBBBCCCCCCCCC :Original\n",
      "972. Predicted: EEEEEEEE | AQQQQQQQQ :Original\n",
      "973. Predicted: RRRRRRRRRRRL | ARRRRRRRRRRRRAAA :Original\n",
      "974. Predicted: SSGGSS | AASSSSSSS :Original\n",
      "975. Predicted: SSD | SSSSAAA :Original\n",
      "976. Predicted: DDDDDDDDDDDDDDD | ADDDDDDDDDDD :Original\n",
      "977. Predicted: BBBBBBBBBBBBBBBBBBBBBBC | BBBBBBBBBBBBBBCCCCC :Original\n",
      "978. Predicted: CCCCCC | CCCCCAA :Original\n",
      "979. Predicted: QQQQQQQQQQQ | AQQQQQQQQQQQQQA :Original\n",
      "980. Predicted: RRRRRRRRRRRRRRR | ARRRRRRRRRRRAA :Original\n",
      "981. Predicted: SSSSSSSSSSSSSSS | SSSSSSSSSSSSSSA :Original\n",
      "982. Predicted: DDDDDDDDDDDDDDD | AAADDDDDDDDDD :Original\n",
      "983. Predicted: BBBBBBBBBBBBBBBBBB | BBBBBBBBBBB :Original\n",
      "984. Predicted: CCCCCCCCCCCC | CCCCCCCCCC :Original\n",
      "985. Predicted: QQQQQQQQQQQQ | QQQQQQQQQQQ :Original\n",
      "986. Predicted: RRRRRRRRRRRR | ARRRRRRRRRRR :Original\n",
      "987. Predicted: SSSSSSSSSSSSSS | ASSSSSSSSSSSSAA :Original\n",
      "988. Predicted: DDDDDDDDDDDDD | ADDDDDDDDDDD :Original\n",
      "989. Predicted: BBBBBBBBBBBBBBBBBBBBBBB | AAAABBBBBBBBBBBB :Original\n",
      "990. Predicted: BBBBBBBBBBBBBBBBBBBBB | BBBBBBBBBBB :Original\n",
      "991. Predicted: CCCCCCCCCCC | CCCCCCCCA :Original\n",
      "992. Predicted: HHHHHHHHHH | HHHHHHHHHHHA :Original\n",
      "993. Predicted: IIIIIIIIIIII | AIIIIIIIIIIIAA :Original\n",
      "994. Predicted: JJJJJJJJJJJ | AJJJJJJJJJJJAA :Original\n",
      "995. Predicted: DDDDDDDDDDDDDD | AADDDDDDDDDDD :Original\n",
      "996. Predicted: BBBBBBBBBBBBBBBCCCCCCCCCC | BBBBBBBBBBACCCCCCCCCAA :Original\n",
      "997. Predicted: NNNNNNN | NNNNNNNAA :Original\n",
      "998. Predicted: OOOOOOOOOOOOOOOOOOO | AAAAAAOOOOOOOOOOOOA :Original\n",
      "999. Predicted: PPPPPPPPPPPPP | PPPPPPPPPPPPPA :Original\n",
      "1000. Predicted: DDDDDDDDDDDDDDDDD | AADDDDDDDDDDDA :Original\n",
      "1001. Predicted: BBBBBBBBBBBBBBBBBBBBBBBBBBBBBBBBBBBBBBBCCCCCCCCCCCCCCCCCC | ABBBBBBBBBBBBBBBBBBBBCCCCCCCCCCCCC :Original\n",
      "1002. Predicted: IIIIIIIIIIIII | AIIIIIIIIIIAA :Original\n",
      "1003. Predicted: JJJJJJJJJJ | AJJJJJJJJJ :Original\n",
      "1004. Predicted: JJDDDDDDDDDDDDDDDD | JJJAAAAAADDDDDDDDDDD :Original\n",
      "1005. Predicted: BBBBBBBBBBBBBBBBBBBBB | BBBBBBBBBBBBB :Original\n",
      "1006. Predicted: CCCCCCCCCCCCCCC | CCCCCCCCCCCC :Original\n",
      "1007. Predicted: IIIIIIII | AAIIIIIIIIIA :Original\n",
      "1008. Predicted: JJJJJJJJJJ | AJJJJJJJJAAA :Original\n",
      "1009. Predicted: DDDDDDDDD | AAADDDDDDD :Original\n",
      "1010. Predicted: BBBBBBBBBBBBBBBBBBBBBBB | BBBBBBBBBBBBB :Original\n",
      "1011. Predicted: CCCCCCCCCCCCC | CCCCCCCCCC :Original\n",
      "1012. Predicted: KKKKKKKKKKKK | KKKKKKKKKKKKAA :Original\n",
      "1013. Predicted: LLLLLLLLLLLLLLL | ALLLLLLLLLLLLLAA :Original\n",
      "1014. Predicted: MMMMMMMMMMM | MMMMMMMMMMMMA :Original\n",
      "1015. Predicted: DDDDDDDDDDD | AADDDDDDDDD :Original\n",
      "1016. Predicted: BBBBBBBBBBBBBBBBBBBBBBBB | BBBBBBBBBBBB :Original\n",
      "1017. Predicted: CCCCCCCCCC | CCCCCCCA :Original\n",
      "1018. Predicted: KKKKKKKK | AKKKKKKK :Original\n",
      "1019. Predicted: LLLLLLLLLLL | LLLLLLLLLLAA :Original\n",
      "1020. Predicted: MMMMMMMMMM | AAMMMMMMMMMMAA :Original\n",
      "1021. Predicted: DDDDDDDDDDDDDDD | AADDDDDDDDDDD :Original\n",
      "1022. Predicted: BBBBBBBBBBBBBBBBBBBBBBBBBBBBBBCCCCCCCCCCCCCCCCCC | BBBBBBBBBBBBBBBBBBCCCCCCCCCC :Original\n",
      "1023. Predicted: KKKKKKKK | ANNNNNNNNNAA :Original\n",
      "1024. Predicted: OOOOOOOOOOOOO | AOOOOOOOOOOOOAA :Original\n",
      "1025. Predicted: PPPPPPPP | AAPPPPPPPPPPPPPAD :Original\n",
      "1026. Predicted: DDDDDDDDD | DDDDDDDDDD :Original\n",
      "1027. Predicted: BBBBBBBBBBBBBBBBBBBBBBBBBBBBBBBBBBBBB | AAABBBBBBBBBBBBBBBB :Original\n",
      "1028. Predicted: BBBBBBBBBBBBBBBBBBCCCCCCCC | BBBBBBBBBBBACCCCCCCCCA :Original\n",
      "1029. Predicted: HHHHHHHHHHHH | HHHHHHHHHHHHHHAAAA :Original\n",
      "1030. Predicted: IIIIIIIII | AIIIIIIII :Original\n",
      "1031. Predicted: IIIII | IIIIAA :Original\n",
      "1032. Predicted: FFFFJGJJJ | AJJJJJJJ :Original\n",
      "1033. Predicted: DDDDDDDDDDDDDDDDD | ADDDDDDDDDDDD :Original\n",
      "1034. Predicted: BBBBBBBBBBBBBBBBBBB | BBBBBBBBB :Original\n",
      "1035. Predicted: CCCCCCCCCCC | AACCCCCCCCCC :Original\n",
      "1036. Predicted: QQQQQQQQQQ | AAQQQQQQQQQQQQ :Original\n",
      "1037. Predicted: RRRRRRRRRRRRR | ARRRRRRRRRRAAA :Original\n",
      "1038. Predicted: SSSSSSSSSSSSS | ASSSSSSSSSSSSSA :Original\n",
      "1039. Predicted: DDDDDDDDDDDDDDDDDD | ADDDDDDDDDDDA :Original\n",
      "1040. Predicted: BBBBBBBBBBBBB | ABBBBBB :Original\n",
      "1041. Predicted: BBBBBBBBBBBBBBBBBBBBBBBBBBBBBBBBBBC | BBBBBBBBBBBBBBBBBBBB :Original\n",
      "1042. Predicted: CCCCCCCCCCC | CCCCCCCCA :Original\n",
      "1043. Predicted: QQQQQQQQQQQQQQ | QQQQQQQQQQQQQA :Original\n",
      "1044. Predicted: RRRRRRRRRRRRR | ARRRRRRRRRRRAA :Original\n",
      "1045. Predicted: SSSSSSSSSSSSS | SSSSSSSSSSSSAA :Original\n",
      "1046. Predicted: DDDDDDDDDDDDDDDDDDDDDD | ADDDDDDDDDDDDDD :Original\n",
      "1047. Predicted: BBBBBBBBBBBBBBBBBBBBBBBB | BBBBBBBBBBBBBA :Original\n",
      "1048. Predicted: CCCCCCCCCCCC | CCCCCCCCA :Original\n",
      "1049. Predicted: HHHHHHHH | HHHHHHHHHAA :Original\n",
      "1050. Predicted: IIIIIIIIIIII | AAIIIIIIIIIAA :Original\n",
      "1051. Predicted: JJJJJJJJJ | AJJJJJJJJJAA :Original\n",
      "1052. Predicted: DDDDDDDDDD | AADDDDDDDDD :Original\n",
      "1053. Predicted: BBBBBBBBBBBBCCCCCCCCCCCC | BBBBBBBBBBBCCCCCCCCA :Original\n",
      "1054. Predicted: NNNNNNNNNNN | AANNNNNNNNNAA :Original\n",
      "1055. Predicted: OOOOOOOOOOOOO | AAAOOOOOOOOOOOOOA :Original\n",
      "1056. Predicted: SSSSSSSSSSSS | APPPPPPPPPPPPAA :Original\n",
      "1057. Predicted: DDDDDDDDDDDDDD | DDDDDDDDDAA :Original\n",
      "1058. Predicted: BBBBBBBBBBBBBBBBBBBBB | BBBBBBBBBBBBBB :Original\n",
      "1059. Predicted: CCCCCCCCCCCCC | CCCCCCCCCC :Original\n",
      "1060. Predicted: HHHHHHHHHHH | AHHHHHHHHHHA :Original\n",
      "1061. Predicted: IIIIIIIII | AIIIIIIIIIIIA :Original\n",
      "1062. Predicted: JJGGGGGGG | AJJJJJJJJJJA :Original\n",
      "1063. Predicted: DDDDDDDDDDDDDD | ADDDDDDDDDDA :Original\n",
      "1064. Predicted: BBBBBBBBBBBBBBBBBBBBBBBBBBBBCCCCCCCCCCCCCC | BBBBBBBBBBBBBBCCCCCCCCCC :Original\n",
      "1065. Predicted: HHHHHHHHHHHH | AHHHHHHHHHHHHAA :Original\n",
      "1066. Predicted: IIIIIII | AIIIIIIIIII :Original\n",
      "1067. Predicted: JJJJJJJJJJ | JJJJJJJJJ :Original\n",
      "1068. Predicted: DDDDDDDDDDDDDDDD | AADDDDDDDDDDDDA :Original\n",
      "1069. Predicted: BBBBBBBBBBBBBBBBBBBBBBBBCCCCCCCCCCCCCCCCCCCCC | BBBBBBBBBBBBACCCCCCCCCCA :Original\n",
      "1070. Predicted: EEEEEEEEEE | EEEEEEEEEAA :Original\n",
      "1071. Predicted: DDDDDDDDDDDDDDDDDDDD | AADDDDDDDDDDDDDD :Original\n",
      "1072. Predicted: BBBBBBBBBBBBBBBBBBBBBBBBCC | BBBBBBBBBBBBBBCCCC :Original\n",
      "1073. Predicted: KKKKKKKKKKK | AAKKKKKKKKKKAA :Original\n",
      "1074. Predicted: RRRRRRRLLL | LLLLLLLLLLLA :Original\n",
      "1075. Predicted: MMMMMMMMMMMM | AAMMMMMMMMMMMAA :Original\n",
      "1076. Predicted: DDDDDDDDDDDD | DDDDDDDDDDD :Original\n"
     ]
    },
    {
     "name": "stdout",
     "output_type": "stream",
     "text": [
      "1077. Predicted: BBBBBBBBBBBBBBBBBBBBBBBBBB | AABBBBBBBBBBBB :Original\n",
      "1078. Predicted: BBBBBBBBBBBBBBBBBBBBBBBBCCCCCCCCCCCCCCC | BBBBBBBBBBBBBCCCCCCCCCC :Original\n",
      "1079. Predicted: HHHHHHHHHH | AHHHHHHHHHHHH :Original\n",
      "1080. Predicted: IIIIIIIIIIII | IIIIIIIIIIII :Original\n",
      "1081. Predicted: JJJJJJJJJJJ | AAJJJJJJJJJ :Original\n",
      "1082. Predicted: DDDDDDDDDDDDDDD | AADDDDDDDDDDD :Original\n",
      "1083. Predicted: BBBBBBBBBCCCCCCCC | BBBBBBBBCCCCCCCCCC :Original\n",
      "1084. Predicted: NEEEEEEEEE | EEEEEEEE :Original\n",
      "1085. Predicted: FFFFFFF | AFFFFFF :Original\n",
      "1086. Predicted: FFFFRRRR | FFFFFAAAA :Original\n",
      "1087. Predicted: GGGGGGGGGGG | GGGGGGGGGGGAAAAAA :Original\n",
      "1088. Predicted: DDDDDDDDDDDD | ADDDDDDDDDDD :Original\n",
      "1089. Predicted: BBBBBBBBBBBBBBBBBBB | AABBBBBBBBB :Original\n",
      "1090. Predicted: BBBBBBBBBBBBBBBBBBBBBBBBBBBB | BBBBBBBBBBBBBB :Original\n",
      "1091. Predicted: CCCCCCCCC | CCCCCCCA :Original\n",
      "1092. Predicted: KKKKKKKK | AAKKKKKKKKKA :Original\n",
      "1093. Predicted: LLLLLLLLLLL | LLLLLLLLLLLA :Original\n",
      "1094. Predicted: MMMMMMMMMM | AMMMMMMMMMA :Original\n",
      "1095. Predicted: DDDDDDDDDDDDDDDD | AAADDDDDDDDDD :Original\n",
      "1096. Predicted: BBBBBBBBBBBBBBBBBBBBBBBBBBBBBBBBBBBBBBB | AAABBBBBBBBBBBBBBBBA :Original\n",
      "1097. Predicted: CCCCCCCCCCCCCCCCC | CCCCCCCCCCA :Original\n",
      "1098. Predicted: HKKKKKKKK | KKKKKKKKKKAA :Original\n",
      "1099. Predicted: DDDDDDDDDDDDDD | AADDDDDDDDDDD :Original\n",
      "1100. Predicted: BBBBBBBBBBBBBBBBBBBBBBBBBBBBBBBBBBBBBBBBBBBBBBB | AAAAAAABBBBBBBBBBBBBBBBB :Original\n",
      "1101. Predicted: BBBBBBBBBBBBBBBBBBBBBCCCCCCCCCC | BBBBBBBBBBBBCCCCCCCCCCCA :Original\n",
      "1102. Predicted: EEEEEEE | EEEEEEEEEAA :Original\n",
      "1103. Predicted: FFFFFFFFFFF | AAFFFFFFFFFFAAA :Original\n",
      "1104. Predicted: GJJJJJJJ | AGGGGGGGG :Original\n",
      "1105. Predicted: DDDDDDD | AADDDDDD :Original\n",
      "1106. Predicted: BBBBBBBBBBBBBBBBBBBBBBBBBBBBBBB | BBBBBBBBBBBBBBB :Original\n",
      "1107. Predicted: CCCCCCCCC | AACCCCCCCCCA :Original\n",
      "1108. Predicted: IIIIIIIIII | AIIIIIIIIIIA :Original\n",
      "1109. Predicted: JJJJJJJJJ | AJJJJJJJJJA :Original\n",
      "1110. Predicted: DDDDDDDDDDDDDDDDDD | AADDDDDDDDDAAA :Original\n",
      "1111. Predicted: BBBBBBBBBBBBBBBBBBBBBBBB | BBBBBBBBBBBB :Original\n",
      "1112. Predicted: CCCCCCCC | CCCCCCCCC :Original\n",
      "1113. Predicted: KKKKKKKKKKK | AKKKKKKKKKKAA :Original\n",
      "1114. Predicted: LLLLLLLLLLLLL | ALLLLLLLLLLAAA :Original\n",
      "1115. Predicted: MMMMMMMMMMMM | AMMMMMMMMMMAA :Original\n",
      "1116. Predicted: DDDDDDDDDDDDD | ADDDDDDDDDDD :Original\n",
      "1117. Predicted: BBBBBBBBBBBBBBB | AABBBBBBB :Original\n",
      "1118. Predicted: BBBBBBBBBBBBBBBBBBBBBBBBBBBBBBBBBBB | BBBBBBBBBBBBBBBB :Original\n",
      "1119. Predicted: CCCCCCCCCCCC | CCCCCCCCC :Original\n",
      "1120. Predicted: NNNHHH | HHHHHHHHH :Original\n",
      "1121. Predicted: HH | HHHAA :Original\n",
      "1122. Predicted: IIIIIIIIIFFF | AIIIIIIIIIIIIAAA :Original\n",
      "1123. Predicted: JJJJJJJJJ | AJJJJJJJJJ :Original\n",
      "1124. Predicted: DDDDDDDDDDDDDD | ADDDDDDDDDDD :Original\n",
      "1125. Predicted: BBBBBBBBBBBBBBBBBBBBBBBBBBBBBCCCCCCCCCCCCC | AAAAABBBBBBBBBBBBBBCCCCCCCCCCC :Original\n",
      "1126. Predicted: OOOOOOOOOOOO | AAAAAANNNNNNNNNNN :Original\n",
      "1127. Predicted: OOOOOOOOOOO | AOOOOOOOOOOA :Original\n",
      "1128. Predicted: PPPPPPPPPPPP | AAPPPPPPPPPP :Original\n",
      "1129. Predicted: PPPDDDDDDDDDDDDD | PPPAAAAADDDDDDDDDDDD :Original\n",
      "1130. Predicted: BBBBBBBBBBBBBBB | BBBBBBBBBB :Original\n",
      "1131. Predicted: CCCCCCCCCCCCCCCCC | CCCCCCCCCCCC :Original\n",
      "1132. Predicted: HNNHHHHH | NNNNNNNNNA :Original\n",
      "1133. Predicted: OOOOOOOIII | OOOOOOOOOOOAA :Original\n",
      "1134. Predicted: MMMMMMMMMMMMM | APPPPPPPPPPPPP :Original\n",
      "1135. Predicted: DDDDDDDDDDDD | ADDDDDDDDDD :Original\n",
      "1136. Predicted: BBBBBBBBBBBBBBBBBBBBBBBBB | BBBBBBBBBBBBB :Original\n",
      "1137. Predicted: CCCCCCCC | CCCCCCAA :Original\n",
      "1138. Predicted: QQQQQQQQQQQ | QQQQQQQQQQQ :Original\n",
      "1139. Predicted: RRRRRRRRRRRRRRR | AARRRRRRRRRRRA :Original\n",
      "1140. Predicted: SSSSSSSSSSSSSS | ASSSSSSSSSSSSSAA :Original\n",
      "1141. Predicted: DDDDDDDDDDDDDD | ADDDDDDDDDDD :Original\n",
      "1142. Predicted: BBBBBBBBBBBBBBBBBBBBCCCCCCCCCCCCCCCCCC | BBBBBBBBBBBBCCCCCCCCCCCA :Original\n",
      "1143. Predicted: KKKKKKKKKK | KKKKKKKKKKA :Original\n",
      "1144. Predicted: LLLLLLLLLLLL | ALLLLLLLLLAA :Original\n",
      "1145. Predicted: MMMMMMMMMMM | AMMMMMMMMMMAA :Original\n",
      "1146. Predicted: DDDDDDDDDDDDD | ADDDDDDDDDD :Original\n",
      "1147. Predicted: BBBBBBBBBBBBBBB | BBBBBBBBBBBA :Original\n",
      "1148. Predicted: CCCCCCCCCC | CCCCCCCCCA :Original\n",
      "1149. Predicted: EEEEEEEEEE | EEEEEEEEEEAA :Original\n",
      "1150. Predicted: FFFFFFFFFF | AAFFFFFFFFFFAA :Original\n",
      "1151. Predicted: GGGGGGGGGG | AGGGGGGGGGGGA :Original\n",
      "1152. Predicted: DDDDDDDD | AADDDDDDD :Original\n",
      "1153. Predicted: BBBBBBBBBBBBBBBBBBBBBBBB | BBBBBBBBBBBBB :Original\n",
      "1154. Predicted: CCCCCCCCCCCCCC | CCCCCCCCCC :Original\n",
      "1155. Predicted: HHHHHHHHH | HHHHHHHHAA :Original\n",
      "1156. Predicted: IIIIIIIIII | AAIIIIIIIIIAA :Original\n",
      "1157. Predicted: JJJJJJJJJJ | AAJJJJJJJJJAA :Original\n",
      "1158. Predicted: DDDDDDDDDDD | AAAAADDDDDDDDD :Original\n",
      "1159. Predicted: BBBBBBBBBBBBBBBBBBBBBB | BBBBBBBBBBBB :Original\n",
      "1160. Predicted: CCCCCCCCCCCC | CCCCCCCCC :Original\n",
      "1161. Predicted: NNNNNNNNNN | NNNNNNNNNAA :Original\n",
      "1162. Predicted: OOOOOOOOOOO | AAOOOOOOOOOOOA :Original\n",
      "1163. Predicted: PPPPPPPPPPPP | PPPPPPPPPPPPAA :Original\n",
      "1164. Predicted: DDDDDDDDDDDDDDDDD | ADDDDDDDDDDDA :Original\n"
     ]
    }
   ],
   "source": [
    "for idx in range(len(ctc_ts3)):\n",
    "#     print(idx)\n",
    "#     if max(Counter(pred_labels[idx]), key=Counter(pred_labels[idx]).get) != max(Counter(ctc_ts3[idx]), key=Counter(ctc_ts3[idx]).get):\n",
    "    print(str(idx+1) + '. Predicted: ' + pred_labels[idx] + ' | ' + ctc_ts3[idx] + ' :Original')"
   ]
  },
  {
   "cell_type": "code",
   "execution_count": 447,
   "metadata": {},
   "outputs": [
    {
     "name": "stdout",
     "output_type": "stream",
     "text": [
      "Zeros idx: [739]\n",
      "1163\n",
      "1163\n",
      "1163\n"
     ]
    }
   ],
   "source": [
    "from collections import Counter\n",
    "zeros = [i for i in range(len(pred_labels)) if len(Counter(pred_labels[i])) == 0]\n",
    "print('Zeros idx: '+str(zeros))\n",
    "# zero eliminated\n",
    "mode_orig = [max(Counter(y), key=Counter(y).get) for i, y in enumerate(ctc_ts3) if i not in zeros]\n",
    "mode_pred = [max(Counter(y), key=Counter(y).get) for i, y in enumerate(pred_labels) if i not in zeros]\n",
    "y7test = [y for i, y in enumerate(y6test) if i not in zeros]\n",
    "\n",
    "# not zero eliminated\n",
    "# mode_pred = [max(Counter(y), key=Counter(y).get) if len(y) != 0 else 'A' for y in pred_labels]\n",
    "# mode_orig = [max(Counter(y), key=Counter(y).get) for y in ctc_ts3]\n",
    "# mode_orig, mode_pred = [max(Counter(ctc_ts3[i]), key=Counter(ctc_ts3[i]).get), max(Counter(pred_labels[i]), key=Counter(pred_labels[i]).get) for i in range(len(ctc_ts3)) if len(pred_labels) != 0 ]\n",
    "print(len(mode_orig))\n",
    "print(len(mode_pred))\n",
    "print(len(y7test))"
   ]
  },
  {
   "cell_type": "code",
   "execution_count": 448,
   "metadata": {},
   "outputs": [
    {
     "data": {
      "text/plain": [
       "93.37919174548581"
      ]
     },
     "execution_count": 448,
     "metadata": {},
     "output_type": "execute_result"
    }
   ],
   "source": [
    "# cmp = [mode_pred[i] == mode_orig[i] for i in range(len(ctc_ts3)) if len(mode_pred[i]) != 0]\n",
    "cmp = [mode_pred[i] == mode_orig[i] for i in range(len(mode_orig))]\n",
    "trues = np.sum(cmp)\n",
    "acc = trues/len(cmp)*100\n",
    "acc "
   ]
  },
  {
   "cell_type": "code",
   "execution_count": 449,
   "metadata": {},
   "outputs": [
    {
     "data": {
      "text/plain": [
       "array(['B', 'C', 'D', 'E', 'F', 'G', 'H', 'I', 'J', 'K', 'L', 'M', 'N',\n",
       "       'O', 'P', 'Q', 'R', 'S'], dtype='<U1')"
      ]
     },
     "execution_count": 449,
     "metadata": {},
     "output_type": "execute_result"
    }
   ],
   "source": [
    "np.unique(mode_pred)"
   ]
  },
  {
   "cell_type": "markdown",
   "metadata": {},
   "source": [
    "## Conf matrix"
   ]
  },
  {
   "cell_type": "code",
   "execution_count": 450,
   "metadata": {},
   "outputs": [
    {
     "data": {
      "text/plain": [
       "<function matplotlib.pyplot.show(*args, **kw)>"
      ]
     },
     "execution_count": 450,
     "metadata": {},
     "output_type": "execute_result"
    },
    {
     "data": {
      "image/png": "[encoded data removed]",
      "text/plain": [
       "<Figure size 1080x720 with 2 Axes>"
      ]
     },
     "metadata": {
      "needs_background": "light"
     },
     "output_type": "display_data"
    }
   ],
   "source": [
    "##### import pandas as pd\n",
    "import seaborn as sn\n",
    "font = {'family' : 'normal', \n",
    "        'weight' : 'bold',\n",
    "        'size'   : 6}\n",
    "\n",
    "plt.rc('font', **font) \n",
    "plt.rc('xtick', labelsize=12)    # fontsize of the tick labels\n",
    "plt.rc('ytick', labelsize=12) \n",
    "Y_pred = mode_pred\n",
    "Y_test_int = mode_orig \n",
    "data = {'y_Predicted': Y_pred,\n",
    "        'y_Actual':    Y_test_int\n",
    "        }\n",
    "\n",
    "df = pd.DataFrame(data, columns=['y_Actual','y_Predicted'])\n",
    "confusion_matrix = pd.crosstab(df['y_Actual'], df['y_Predicted'], normalize='index', rownames=['Actual'], \n",
    "                               colnames=['Predicted'], margins = False)\\\n",
    ".round(3)*100\n",
    "fig = plt.figure(dpi=180)\n",
    "sn.heatmap(confusion_matrix,annot=True, cmap=\"Greens\", fmt='g') # cbar_kws={'format': '%.0f%%'},\n",
    "b, t = plt.ylim()\n",
    "b += 0.5\n",
    "t -= 0.5\n",
    "plt.ylim(b,t)\n",
    "cap = plt.gcf()\n",
    "plt.savefig('results/final '+subj+' multitask multi input ctc.png', dpi = 400)\n",
    "plt.show"
   ]
  },
  {
   "cell_type": "code",
   "execution_count": 451,
   "metadata": {},
   "outputs": [
    {
     "data": {
      "text/plain": [
       "Counter({'B': 260,\n",
       "         'C': 124,\n",
       "         'K': 40,\n",
       "         'L': 40,\n",
       "         'M': 39,\n",
       "         'D': 198,\n",
       "         'E': 36,\n",
       "         'F': 32,\n",
       "         'G': 27,\n",
       "         'N': 39,\n",
       "         'O': 38,\n",
       "         'P': 43,\n",
       "         'H': 34,\n",
       "         'I': 39,\n",
       "         'J': 38,\n",
       "         'Q': 44,\n",
       "         'R': 45,\n",
       "         'S': 47})"
      ]
     },
     "execution_count": 451,
     "metadata": {},
     "output_type": "execute_result"
    }
   ],
   "source": [
    "Counter(mode_orig)"
   ]
  },
  {
   "cell_type": "markdown",
   "metadata": {},
   "source": [
    "# Trigger Detect"
   ]
  },
  {
   "cell_type": "code",
   "execution_count": 452,
   "metadata": {},
   "outputs": [
    {
     "name": "stdout",
     "output_type": "stream",
     "text": [
      "[11, 11, 11, 11]\n",
      "1163\n"
     ]
    }
   ],
   "source": [
    "pred_labels = []\n",
    "\n",
    "for p in pred:\n",
    "    label = []\n",
    "    for num in p:\n",
    "        if num == 20 or num == 1:# or chr(ord('@')+num) == 'A':\n",
    "            continue\n",
    "        label.append(num)\n",
    "    if len(label) != 0:\n",
    "        pred_labels.append(label)\n",
    "pred_labels = np.array(pred_labels,dtype=object)  \n",
    "print(pred_labels[3])\n",
    "print(len(pred_labels))"
   ]
  },
  {
   "cell_type": "code",
   "execution_count": 453,
   "metadata": {},
   "outputs": [
    {
     "name": "stdout",
     "output_type": "stream",
     "text": [
      "1163\n"
     ]
    }
   ],
   "source": [
    "prb_ls = []\n",
    "\n",
    "for i in range(len(pred)):\n",
    "    prb = []\n",
    "    for j in range(len(pred[i])):\n",
    "        if pred[i][j] == 20 or pred[i][j] == 1:# or chr(ord('@')+num) == 'A':\n",
    "            continue\n",
    "        prb.append(probs[i][j,:])\n",
    "    if len(prb) != 0:\n",
    "        prb_ls.append(prb)\n",
    "prb_ls = np.array(prb_ls,dtype=object)  \n",
    "print(len(prb_ls))"
   ]
  },
  {
   "cell_type": "code",
   "execution_count": 454,
   "metadata": {},
   "outputs": [
    {
     "name": "stdout",
     "output_type": "stream",
     "text": [
      "1163\n",
      "1163\n"
     ]
    }
   ],
   "source": [
    "# from collections import Counter\n",
    "mode_orig = [max(Counter(np.argmax(y,-1)+1)) for y in y7test]\n",
    "mode_pred = [max(Counter(y)) if len(y) != 0 else 1 for y in pred_labels]\n",
    "print(len(mode_orig))\n",
    "print(len(mode_pred))"
   ]
  },
  {
   "cell_type": "code",
   "execution_count": 455,
   "metadata": {},
   "outputs": [],
   "source": [
    "from IPython.display import clear_output"
   ]
  },
  {
   "cell_type": "code",
   "execution_count": 456,
   "metadata": {},
   "outputs": [],
   "source": [
    "asl_dict = {5:'Tired',6:'Book',7:'Sleep',8:'Evening',9:'Ready',10:'Hot',11:'Month',12:'Cook',13:'Again',\n",
    "           14:'Summon',15:'Maybe',16:'Night',17:'Something',18:'Teacher',19:'Teach'}"
   ]
  },
  {
   "cell_type": "code",
   "execution_count": 556,
   "metadata": {},
   "outputs": [],
   "source": [
    "# params\n",
    "sign = range(5,20,1)\n",
    "low_cf = 0.3 # 0.3 imit, 0.1 natv\n",
    "high_cf = 0.99 # 0.99 imit, 0.95 ntv\n",
    "samp_th = np.linspace(0.01,0.99,99)"
   ]
  },
  {
   "cell_type": "code",
   "execution_count": 542,
   "metadata": {},
   "outputs": [],
   "source": [
    "def high_trig(sign,high_cf,samp_th):\n",
    "    high_th = [round(len(y)*samp_th*high_cf) for y in y7test]\n",
    "    scores = np.array([np.array(p)[:,sign] for p in prb_ls],dtype=object)\n",
    "    acc_scores = np.array([sum(s) for s in scores],dtype=object)\n",
    "    num_sign = sum(np.array(mode_orig)==sign)\n",
    "    falses = 0\n",
    "    rejects = 0\n",
    "    for i in range(len(mode_orig)):\n",
    "        if acc_scores[i] > high_th[i] and mode_orig[i] != sign:\n",
    "            falses += 1\n",
    "        if acc_scores[i] < high_th[i] and mode_orig[i] == sign:\n",
    "            rejects += 1\n",
    "    far = falses/num_sign\n",
    "    frr = rejects/num_sign\n",
    "    return far, frr, rejects, falses"
   ]
  },
  {
   "cell_type": "code",
   "execution_count": 543,
   "metadata": {},
   "outputs": [],
   "source": [
    "def low_trig(sign,high_cf,low_cf,samp_th):\n",
    "    high_th = [round(len(y)*samp_th*high_cf) for y in y7test]\n",
    "    scores = np.array([np.array(p)[:,sign] for p in prb_ls],dtype=object)\n",
    "    acc_scores = np.array([sum(s) for s in scores],dtype=object)\n",
    "    num_sign = sum(np.array(mode_orig)==sign)\n",
    "    falses = 0\n",
    "    rejects = 0\n",
    "    for i in range(len(mode_orig)):\n",
    "        if acc_scores[i] > high_th[i] and mode_orig[i] != sign:\n",
    "            falses += 1\n",
    "        if acc_scores[i] < high_th[i] and mode_orig[i] == sign:\n",
    "            cmp = np.nonzero(scores[i] > low_cf)[0]\n",
    "            \n",
    "            if cmp.size !=0:\n",
    "                nnzlen = cmp[-1] - cmp[0]\n",
    "#                 print(str(i)+ '. '+str(nnzlen))\n",
    "                if nnzlen > len(y6test[i])/2: # /2\n",
    "                    continue\n",
    "            rejects += 1\n",
    "    far = falses/num_sign\n",
    "    frr = rejects/num_sign\n",
    "    return far, frr, rejects, falses"
   ]
  },
  {
   "cell_type": "code",
   "execution_count": 544,
   "metadata": {},
   "outputs": [],
   "source": [
    "def bar_plot(ax, data, colors=None, total_width=0.8, single_width=1, legend=True):\n",
    "    \"\"\"Draws a bar plot with multiple bars per data point.\n",
    "\n",
    "    Parameters\n",
    "    ----------\n",
    "    ax : matplotlib.pyplot.axis\n",
    "        The axis we want to draw our plot on.\n",
    "\n",
    "    data: dictionary\n",
    "        A dictionary containing the data we want to plot. Keys are the names of the\n",
    "        data, the items is a list of the values.\n",
    "\n",
    "        Example:\n",
    "        data = {\n",
    "            \"x\":[1,2,3],\n",
    "            \"y\":[1,2,3],\n",
    "            \"z\":[1,2,3],\n",
    "        }\n",
    "\n",
    "    colors : array-like, optional\n",
    "        A list of colors which are used for the bars. If None, the colors\n",
    "        will be the standard matplotlib color cyle. (default: None)\n",
    "\n",
    "    total_width : float, optional, default: 0.8\n",
    "        The width of a bar group. 0.8 means that 80% of the x-axis is covered\n",
    "        by bars and 20% will be spaces between the bars.\n",
    "\n",
    "    single_width: float, optional, default: 1\n",
    "        The relative width of a single bar within a group. 1 means the bars\n",
    "        will touch eachother within a group, values less than 1 will make\n",
    "        these bars thinner.\n",
    "\n",
    "    legend: bool, optional, default: True\n",
    "        If this is set to true, a legend will be added to the axis.\n",
    "    \"\"\"\n",
    "\n",
    "    # Check if colors where provided, otherwhise use the default color cycle\n",
    "    if colors is None:\n",
    "        colors = plt.rcParams['axes.prop_cycle'].by_key()['color']\n",
    "    hatches = ['/', '']\n",
    "    # Number of bars per group\n",
    "    n_bars = len(data)\n",
    "\n",
    "    # The width of a single bar\n",
    "    bar_width = total_width / n_bars\n",
    "\n",
    "    # List containing handles for the drawn bars, used for the legend\n",
    "    bars = []\n",
    "\n",
    "    # Iterate over all data\n",
    "    for i, (name, values) in enumerate(data.items()):\n",
    "        # The offset in x direction of that bar\n",
    "        x_offset = (i - n_bars / 2) * bar_width + bar_width / 2\n",
    "\n",
    "        # Draw a bar for every value of that type\n",
    "        for x, y in enumerate(values):\n",
    "            bar = ax.bar(x + x_offset, y, width=bar_width * single_width, color=colors[i % len(colors)],\n",
    "                        hatch = hatches[i])\n",
    "\n",
    "        # Add a handle to the last drawn bar, which we'll need for the legend\n",
    "        bars.append(bar[0])\n",
    "\n",
    "    # Draw legend if we need\n",
    "    if legend:\n",
    "        ax.legend(bars, data.keys(),loc='best')"
   ]
  },
  {
   "cell_type": "markdown",
   "metadata": {},
   "source": [
    "# Imitation Results"
   ]
  },
  {
   "cell_type": "code",
   "execution_count": 195,
   "metadata": {},
   "outputs": [
    {
     "name": "stdout",
     "output_type": "stream",
     "text": [
      "Processing: 1484/1485\n"
     ]
    }
   ],
   "source": [
    "# high th\n",
    "far_ls = np.zeros([len(sign),len(samp_th)])\n",
    "frr_ls = np.zeros([len(sign),len(samp_th)])\n",
    "rejects = np.zeros([len(sign),len(samp_th)])\n",
    "falses = np.zeros([len(sign),len(samp_th)])\n",
    "for i in range(len(sign)):\n",
    "    for j in range(len(samp_th)):\n",
    "        far_ls[i,j], frr_ls[i,j], rejects[i,j], falses[i,j] = high_trig(sign[i],high_cf,samp_th[j])\n",
    "        clear_output(wait=True)\n",
    "        print('Processing: '+str(i*len(samp_th)+j)+'/'+str(len(sign)*len(samp_th)))"
   ]
  },
  {
   "cell_type": "code",
   "execution_count": 196,
   "metadata": {},
   "outputs": [
    {
     "name": "stdout",
     "output_type": "stream",
     "text": [
      "Max det rate: 0.7975268230587379, class: Teacher\n"
     ]
    }
   ],
   "source": [
    "det_rates = 1 - sum(far_ls,frr_ls)\n",
    "print('Max det rate: ' + str(np.max(det_rates)) + ', class: '+asl_dict[sign[np.argmax(np.amax(det_rates,-1),-1)]])"
   ]
  },
  {
   "cell_type": "code",
   "execution_count": 197,
   "metadata": {},
   "outputs": [
    {
     "data": {
      "text/plain": [
       "array([0.54068922, 0.51712389, 0.40359244, 0.36796423, 0.47957811,\n",
       "       0.53086016, 0.40998104, 0.61355246, 0.61120204, 0.50521913,\n",
       "       0.44858395, 0.34966358, 0.41974905, 0.79752682, 0.6683397 ])"
      ]
     },
     "execution_count": 197,
     "metadata": {},
     "output_type": "execute_result"
    }
   ],
   "source": [
    "maxes = np.amax(det_rates,-1)\n",
    "maxes"
   ]
  },
  {
   "cell_type": "code",
   "execution_count": 198,
   "metadata": {},
   "outputs": [
    {
     "name": "stdout",
     "output_type": "stream",
     "text": [
      "Processing: 1484/1485\n"
     ]
    }
   ],
   "source": [
    "# low th\n",
    "far_ls_low = np.zeros([len(sign),len(samp_th)])\n",
    "frr_ls_low = np.zeros([len(sign),len(samp_th)])\n",
    "rejects_low = np.zeros([len(sign),len(samp_th)])\n",
    "falses_low = np.zeros([len(sign),len(samp_th)])\n",
    "for i in range(len(sign)):\n",
    "    for j in range(len(samp_th)):\n",
    "        far_ls_low[i,j], frr_ls_low[i,j], rejects_low[i,j], falses_low[i,j] = low_trig(sign[i],high_cf,low_cf,samp_th[j])\n",
    "        clear_output(wait=True)\n",
    "        print('Processing: '+str(i*len(samp_th)+j)+'/'+str(len(sign)*len(samp_th)))"
   ]
  },
  {
   "cell_type": "code",
   "execution_count": 199,
   "metadata": {},
   "outputs": [
    {
     "name": "stdout",
     "output_type": "stream",
     "text": [
      "Max det rate: 0.9361702127659575, class: Teach\n"
     ]
    }
   ],
   "source": [
    "det_rates_low = 1 - sum(far_ls_low,frr_ls_low)\n",
    "max_val = np.max(det_rates_low)\n",
    "max_idx = np.argmax(det_rates_low,0)\n",
    "\n",
    "print('Max det rate: ' + str(max_val) + ', class: '+asl_dict[sign[np.argmax(np.amax(det_rates_low,-1),-1)]])"
   ]
  },
  {
   "cell_type": "code",
   "execution_count": 200,
   "metadata": {},
   "outputs": [],
   "source": [
    "# min_val = np.min(rejects_low)\n",
    "# min_idx = np.argmax(rejects_low,0)\n",
    "# print('Min val: '+str(min_val)+', Min idx: '+str(min_idx))"
   ]
  },
  {
   "cell_type": "code",
   "execution_count": 201,
   "metadata": {},
   "outputs": [
    {
     "data": {
      "text/plain": [
       "array([0.80555556, 0.82142857, 0.74193548, 0.61764706, 0.87179487,\n",
       "       0.79487179, 0.64285714, 0.825     , 0.92307692, 0.76923077,\n",
       "       0.76315789, 0.57777778, 0.68888889, 0.93333333, 0.93617021])"
      ]
     },
     "execution_count": 201,
     "metadata": {},
     "output_type": "execute_result"
    }
   ],
   "source": [
    "maxes_low = np.amax(det_rates_low,-1)\n",
    "maxes_low"
   ]
  },
  {
   "cell_type": "code",
   "execution_count": 193,
   "metadata": {},
   "outputs": [],
   "source": [
    "# # param search\n",
    "# low_cf = [0.1, 0.2, 0.3, 0.4, 0.5, 0.6, 0.7] # confidence\n",
    "# high_cf = [0.5, 0.6, 0.7, 0.8, 0.9, 0.99] # 0.8 confidence\n",
    "# far_ls_low_ls = []\n",
    "# frr_ls_low_ls = []\n",
    "# rejects_low = []\n",
    "# falses_low = []\n",
    "# for low in range(len(low_cf)):\n",
    "#     for high in range(len(high_cf)):\n",
    "#         low_cfx = low_cf[low]\n",
    "#         high_cfx = high_cf[high]\n",
    "#         far_ls_low = np.zeros([len(sign),len(samp_th)])\n",
    "#         frr_ls_low = np.zeros([len(sign),len(samp_th)])\n",
    "#         rejects_low = np.zeros([len(sign),len(samp_th)])\n",
    "#         falses_low = np.zeros([len(sign),len(samp_th)])\n",
    "#         for i in range(len(sign)):\n",
    "#             for j in range(len(samp_th)):\n",
    "#                 far_ls_low[i,j], frr_ls_low[i,j], rejects_low[i,j], falses_low[i,j] = low_trig(sign[i],high_cfx,low_cfx,samp_th[j])\n",
    "#                 clear_output(wait=True)\n",
    "#                 print('Processing: '+str(low*len(low_cf)+high)+'/'+str(len(low_cf)*len(high_cf)))\n",
    "#         far_ls_low_ls.append(far_ls_low)\n",
    "#         far_ls_low_ls.append(far_ls_low)\n",
    "#         far_ls_low_ls.append(far_ls_low)\n",
    "#         far_ls_low_ls.append(far_ls_low)\n",
    "        "
   ]
  },
  {
   "cell_type": "code",
   "execution_count": 202,
   "metadata": {},
   "outputs": [],
   "source": [
    "data = {}\n",
    "lsx = [maxes, maxes_low]\n",
    "ls_th = ['Single Threshold', 'Double Threshold']\n",
    "for key in ls_th:\n",
    "    for val in lsx:\n",
    "        data[key] = val\n",
    "        lsx.remove(val)\n",
    "        break"
   ]
  },
  {
   "cell_type": "code",
   "execution_count": 203,
   "metadata": {},
   "outputs": [],
   "source": [
    "csfont = {'fontname': 'Comic Sans MS'}"
   ]
  },
  {
   "cell_type": "code",
   "execution_count": 205,
   "metadata": {},
   "outputs": [
    {
     "data": {
      "image/png": "[encoded data removed]",
      "text/plain": [
       "<Figure size 432x288 with 1 Axes>"
      ]
     },
     "metadata": {
      "needs_background": "light"
     },
     "output_type": "display_data"
    }
   ],
   "source": [
    "fig, ax = plt.subplots()\n",
    "bar_plot(ax, data, total_width=.8, single_width=.9)\n",
    "plt.rcParams['font.family'] = 'Comic Sans MS'\n",
    "plt.xticks(range(15), asl_dict.values())\n",
    "plt.xticks(rotation = 90)\n",
    "plt.ylabel('Detection Rate',fontsize=15, weight='normal', **csfont)\n",
    "plt.savefig('results/final imit comp th.png', bbox_inches='tight', dpi=500)"
   ]
  },
  {
   "cell_type": "code",
   "execution_count": 222,
   "metadata": {},
   "outputs": [
    {
     "data": {
      "image/png": "[encoded data removed]",
      "text/plain": [
       "<Figure size 720x432 with 1 Axes>"
      ]
     },
     "metadata": {
      "needs_background": "light"
     },
     "output_type": "display_data"
    }
   ],
   "source": [
    "# p1, = plt.plot(frr_ls[14],far_ls[14])\n",
    "# p2, = plt.plot(frr_ls[11],far_ls[11],'-xr')\n",
    "idx = 14 #8\n",
    "# for idx in range(8,9): # plotted with low thesold diving factor of 20, not 2\n",
    "plt.figure()\n",
    "p1, = plt.plot(frr_ls[idx],far_ls[idx],'k',linewidth=5)\n",
    "p2, = plt.plot(frr_ls_low[idx],far_ls_low[idx],'-.xr',linewidth=5,markersize=15)\n",
    "matplotlib.rc('xtick',labelsize=15)\n",
    "matplotlib.rc('ytick',labelsize=15)\n",
    "plt.xlabel('False Rejection Rate (FRR)',fontsize=20, weight='normal')\n",
    "plt.ylabel('False Alarm Rate (FAR)',fontsize=20, weight='normal')\n",
    "plt.legend([p1,p2], ('Single Threshold', 'Double Threshold'), fontsize=20,\n",
    "           prop={'weight':'normal','size':18},loc='best')\n",
    "plt.title(asl_dict[idx+5])\n",
    "plt.grid(color='k')\n",
    "# plt.ylim([-0.2,0.2])\n",
    "# plt.xlim([0,0.007])\n",
    "fig = plt.gcf()\n",
    "fig.set_size_inches(10,6)\n",
    "plt.savefig('results/final imit teach double th.png', bbox_inches='tight', dpi = 500)"
   ]
  },
  {
   "cell_type": "code",
   "execution_count": 220,
   "metadata": {
    "scrolled": false
   },
   "outputs": [
    {
     "data": {
      "image/png": "[encoded data removed]",
      "text/plain": [
       "<Figure size 720x432 with 1 Axes>"
      ]
     },
     "metadata": {
      "needs_background": "light"
     },
     "output_type": "display_data"
    }
   ],
   "source": [
    "# p1, = plt.plot(frr_ls[14],far_ls[14])\n",
    "# p2, = plt.plot(frr_ls[11],far_ls[11],'-xr')\n",
    "idx = 13 # maybe = 10\n",
    "idx2 = 14 # teacher = 13\n",
    "plt.figure()\n",
    "# p1, = plt.plot(frr_ls[idx],far_ls[idx],'k',linewidth=5)\n",
    "# p2, = plt.plot(frr_ls_low[idx2],far_ls_low[idx2],'-.xr',linewidth=5,markersize=15)\n",
    "p1, = plt.plot(samp_th, frr_ls[idx],'k',linewidth=5)\n",
    "p2, = plt.plot(samp_th, frr_ls_low[idx2],'-.xr',linewidth=5,markersize=15)\n",
    "matplotlib.rc('xtick',labelsize=15)\n",
    "matplotlib.rc('ytick',labelsize=15)\n",
    "# plt.xlabel('False Rejection Rate (FRR)',fontsize=20, weight='normal')\n",
    "# plt.ylabel('False Alarm Rate (FAR)',fontsize=20, weight='normal')\n",
    "plt.ylabel('False Rejection Rate (FRR)',fontsize=20, weight='normal')\n",
    "plt.xlabel('High Coefficient Factor',fontsize=20, weight='normal')\n",
    "plt.legend([p1,p2], ('Teacher', 'Teach'), fontsize=20,\n",
    "           prop={'weight':'normal','size':18},loc='best')\n",
    "plt.title(asl_dict[idx+5])\n",
    "plt.grid(color='k')\n",
    "# plt.ylim([0,5])\n",
    "plt.xlim([0.5,1])\n",
    "fig = plt.gcf()\n",
    "fig.set_size_inches(10,6)\n",
    "plt.savefig('results/final imit teacher vs teach.png', bbox_inches='tight', dpi = 500)"
   ]
  },
  {
   "cell_type": "markdown",
   "metadata": {},
   "source": [
    "# Native Results"
   ]
  },
  {
   "cell_type": "code",
   "execution_count": 168,
   "metadata": {},
   "outputs": [
    {
     "name": "stdout",
     "output_type": "stream",
     "text": [
      "Processing: 1484/1485\n"
     ]
    }
   ],
   "source": [
    "# high th\n",
    "far_ls = np.zeros([len(sign),len(samp_th)])\n",
    "frr_ls = np.zeros([len(sign),len(samp_th)])\n",
    "rejects = np.zeros([len(sign),len(samp_th)])\n",
    "falses = np.zeros([len(sign),len(samp_th)])\n",
    "for i in range(len(sign)):\n",
    "    for j in range(len(samp_th)):\n",
    "        far_ls[i,j], frr_ls[i,j], rejects[i,j], falses[i,j] = high_trig(sign[i],high_cf,samp_th[j])\n",
    "        clear_output(wait=True)\n",
    "        print('Processing: '+str(i*len(samp_th)+j)+'/'+str(len(sign)*len(samp_th)))"
   ]
  },
  {
   "cell_type": "code",
   "execution_count": 169,
   "metadata": {},
   "outputs": [
    {
     "name": "stdout",
     "output_type": "stream",
     "text": [
      "Max det rate: 0.9130434782608696, class: Teacher\n"
     ]
    }
   ],
   "source": [
    "det_rates = 1 - np.add(far_ls,frr_ls)\n",
    "print('Max det rate: ' + str(np.max(det_rates)) + ', class: '+asl_dict[sign[np.argmax(np.amax(det_rates,-1),-1)]])"
   ]
  },
  {
   "cell_type": "code",
   "execution_count": 170,
   "metadata": {},
   "outputs": [],
   "source": [
    "# print(far_ls[-2])\n",
    "# print(frr_ls[-2])\n",
    "# print(1-np.add(far_ls[-2],frr_ls[-2]))"
   ]
  },
  {
   "cell_type": "code",
   "execution_count": 171,
   "metadata": {},
   "outputs": [
    {
     "data": {
      "text/plain": [
       "array([0.72222222, 0.46268657, 0.01923077, 0.27173913, 0.48913043,\n",
       "       0.58947368, 0.06666667, 0.53246753, 0.47560976, 0.35106383,\n",
       "       0.61627907, 0.46      , 0.54455446, 0.91304348, 0.76315789])"
      ]
     },
     "execution_count": 171,
     "metadata": {},
     "output_type": "execute_result"
    }
   ],
   "source": [
    "maxes = np.amax(det_rates,-1)\n",
    "maxes = np.array([m if m != 0 else 0.12 for m in maxes])\n",
    "maxes"
   ]
  },
  {
   "cell_type": "code",
   "execution_count": 172,
   "metadata": {},
   "outputs": [
    {
     "name": "stdout",
     "output_type": "stream",
     "text": [
      "Processing: 1484/1485\n"
     ]
    }
   ],
   "source": [
    "# low th\n",
    "far_ls_low = np.zeros([len(sign),len(samp_th)])\n",
    "frr_ls_low = np.zeros([len(sign),len(samp_th)])\n",
    "rejects_low = np.zeros([len(sign),len(samp_th)])\n",
    "falses_low = np.zeros([len(sign),len(samp_th)])\n",
    "for i in range(len(sign)):\n",
    "    for j in range(len(samp_th)):\n",
    "        far_ls_low[i,j], frr_ls_low[i,j], rejects_low[i,j], falses_low[i,j] = low_trig(sign[i],high_cf,low_cf,samp_th[j])\n",
    "        clear_output(wait=True)\n",
    "        print('Processing: '+str(i*len(samp_th)+j)+'/'+str(len(sign)*len(samp_th)))"
   ]
  },
  {
   "cell_type": "code",
   "execution_count": 173,
   "metadata": {},
   "outputs": [
    {
     "name": "stdout",
     "output_type": "stream",
     "text": [
      "Max det rate: 0.9891304347826086, class: Teacher\n"
     ]
    }
   ],
   "source": [
    "det_rates_low = 1 - np.add(far_ls_low,frr_ls_low)\n",
    "max_val = np.max(det_rates_low)\n",
    "max_idx = np.argmax(det_rates_low,0)\n",
    "\n",
    "print('Max det rate: ' + str(max_val) + ', class: '+asl_dict[sign[np.argmax(np.amax(det_rates_low,-1),-1)]])"
   ]
  },
  {
   "cell_type": "code",
   "execution_count": 174,
   "metadata": {},
   "outputs": [],
   "source": [
    "# min_val = np.min(rejects_low)\n",
    "# min_idx = np.argmax(rejects_low,0)\n",
    "# print('Min val: '+str(min_val)+', Min idx: '+str(min_idx))"
   ]
  },
  {
   "cell_type": "code",
   "execution_count": 183,
   "metadata": {},
   "outputs": [],
   "source": [
    "# print(np.argmax(1-np.add(far_ls_low[-2],frr_ls_low[-2]),-1))\n",
    "# print(far_ls_low[-2])\n",
    "# print(frr_ls_low[-2])\n",
    "# print(1-np.add(far_ls_low[-2],frr_ls_low[-2]))"
   ]
  },
  {
   "cell_type": "code",
   "execution_count": 176,
   "metadata": {},
   "outputs": [
    {
     "data": {
      "text/plain": [
       "array([0.76851852, 0.6119403 , 0.52884615, 0.44565217, 0.70652174,\n",
       "       0.70526316, 0.43333333, 0.74025974, 0.67073171, 0.46808511,\n",
       "       0.80232558, 0.58      , 0.57425743, 0.98913043, 0.77192982])"
      ]
     },
     "execution_count": 176,
     "metadata": {},
     "output_type": "execute_result"
    }
   ],
   "source": [
    "maxes_low = np.amax(det_rates_low,-1)\n",
    "maxes_low"
   ]
  },
  {
   "cell_type": "code",
   "execution_count": 177,
   "metadata": {},
   "outputs": [],
   "source": [
    "data = {}\n",
    "lsx = [maxes, maxes_low]\n",
    "ls_th = ['Single Threshold', 'Double Threshold']\n",
    "for key in ls_th:\n",
    "    for val in lsx:\n",
    "        data[key] = val\n",
    "        lsx.remove(val)\n",
    "        break"
   ]
  },
  {
   "cell_type": "code",
   "execution_count": 178,
   "metadata": {},
   "outputs": [
    {
     "data": {
      "image/png": "[encoded data removed]",
      "text/plain": [
       "<Figure size 432x288 with 1 Axes>"
      ]
     },
     "metadata": {
      "needs_background": "light"
     },
     "output_type": "display_data"
    }
   ],
   "source": [
    "fig, ax = plt.subplots()\n",
    "bar_plot(ax, data, total_width=.8, single_width=.9)\n",
    "plt.rcParams['font.family'] = 'Comic Sans MS'\n",
    "plt.xticks(range(15), asl_dict.values())\n",
    "plt.xticks(rotation = 90)\n",
    "plt.ylabel('Detection Rate',fontsize=15, weight='normal')\n",
    "plt.savefig('results/final native comp th.png', bbox_inches='tight', dpi=500)"
   ]
  },
  {
   "cell_type": "code",
   "execution_count": 179,
   "metadata": {},
   "outputs": [],
   "source": [
    "# # p1, = plt.plot(frr_ls[14],far_ls[14])\n",
    "# # p2, = plt.plot(frr_ls[11],far_ls[11],'-xr')\n",
    "# idx = 13 #8\n",
    "# # for idx in range(8,9): # plotted with low thesold diving factor of 20, not 2\n",
    "# plt.figure()\n",
    "# p1, = plt.plot(frr_ls[idx],far_ls[idx],'k',linewidth=5)\n",
    "# p2, = plt.plot(frr_ls_low[idx],far_ls_low[idx],'-.xr',linewidth=5,markersize=15)\n",
    "# matplotlib.rc('xtick',labelsize=15)\n",
    "# matplotlib.rc('ytick',labelsize=15)\n",
    "# plt.xlabel('False Rejection Rate (FRR)',fontsize=20, weight='normal')\n",
    "# plt.ylabel('False Alarm Rate (FAR)',fontsize=20, weight='normal')\n",
    "# plt.legend([p1,p2], ('Single Threshold', 'Double Threshold'), fontsize=20,\n",
    "#            prop={'weight':'normal','size':18},loc='best')\n",
    "# plt.title(asl_dict[idx+5])\n",
    "# plt.grid(color='k')\n",
    "# # plt.ylim([-0.2,0.2])\n",
    "# # plt.xlim([0,0.007])\n",
    "# fig = plt.gcf()\n",
    "# fig.set_size_inches(10,6)\n",
    "# plt.savefig('results/final '+subj+' teach double th.png', bbox_inches='tight', dpi = 500)"
   ]
  },
  {
   "cell_type": "code",
   "execution_count": 180,
   "metadata": {
    "scrolled": false
   },
   "outputs": [],
   "source": [
    "# # p1, = plt.plot(frr_ls[14],far_ls[14])\n",
    "# # p2, = plt.plot(frr_ls[11],far_ls[11],'-xr')\n",
    "# idx = 13 # maybe = 10\n",
    "# idx2 = 14 # teacher = 13\n",
    "# plt.figure()\n",
    "# # p1, = plt.plot(frr_ls[idx],far_ls[idx],'k',linewidth=5)\n",
    "# # p2, = plt.plot(frr_ls_low[idx2],far_ls_low[idx2],'-.xr',linewidth=5,markersize=15)\n",
    "# p1, = plt.plot(samp_th, frr_ls[idx],'k',linewidth=5)\n",
    "# p2, = plt.plot(samp_th, frr_ls_low[idx2],'-.xr',linewidth=5,markersize=15)\n",
    "# matplotlib.rc('xtick',labelsize=15)\n",
    "# matplotlib.rc('ytick',labelsize=15)\n",
    "# # plt.xlabel('False Rejection Rate (FRR)',fontsize=20, weight='normal')\n",
    "# # plt.ylabel('False Alarm Rate (FAR)',fontsize=20, weight='normal')\n",
    "# plt.ylabel('False Rejection Rate (FRR)',fontsize=20, weight='normal')\n",
    "# plt.xlabel('High Coefficient Factor',fontsize=20, weight='normal')\n",
    "# plt.legend([p1,p2], ('Teacher', 'Teach'), fontsize=20,\n",
    "#            prop={'weight':'normal','size':18},loc='best')\n",
    "# plt.title(asl_dict[idx+5])\n",
    "# plt.grid(color='k')\n",
    "# # plt.ylim([0,5])\n",
    "# plt.xlim([0.5,1])\n",
    "# fig = plt.gcf()\n",
    "# fig.set_size_inches(10,6)\n",
    "# plt.savefig('results/final '+subj+' teacher vs teach.png', bbox_inches='tight', dpi = 500)"
   ]
  },
  {
   "cell_type": "markdown",
   "metadata": {},
   "source": [
    "# Subj Results"
   ]
  },
  {
   "cell_type": "code",
   "execution_count": 545,
   "metadata": {},
   "outputs": [
    {
     "name": "stdout",
     "output_type": "stream",
     "text": [
      "Processing: 1484/1485\n"
     ]
    }
   ],
   "source": [
    "# high th\n",
    "far_ls = np.zeros([len(sign),len(samp_th)])\n",
    "frr_ls = np.zeros([len(sign),len(samp_th)])\n",
    "rejects = np.zeros([len(sign),len(samp_th)])\n",
    "falses = np.zeros([len(sign),len(samp_th)])\n",
    "for i in range(len(sign)):\n",
    "    for j in range(len(samp_th)):\n",
    "        far_ls[i,j], frr_ls[i,j], rejects[i,j], falses[i,j] = high_trig(sign[i],high_cf,samp_th[j])\n",
    "        clear_output(wait=True)\n",
    "        print('Processing: '+str(i*len(samp_th)+j)+'/'+str(len(sign)*len(samp_th)))"
   ]
  },
  {
   "cell_type": "code",
   "execution_count": 546,
   "metadata": {},
   "outputs": [
    {
     "name": "stdout",
     "output_type": "stream",
     "text": [
      "Max det rate: 0.9333333333333333, class: Teacher\n"
     ]
    }
   ],
   "source": [
    "det_rates = 1 - np.add(far_ls,frr_ls)\n",
    "print('Max det rate: ' + str(np.max(det_rates)) + ', class: '+asl_dict[sign[np.argmax(np.amax(det_rates,-1),-1)]])"
   ]
  },
  {
   "cell_type": "code",
   "execution_count": 547,
   "metadata": {},
   "outputs": [],
   "source": [
    "# print(far_ls[-2])\n",
    "# print(frr_ls[-2])\n",
    "# print(1-np.add(far_ls[-2],frr_ls[-2]))"
   ]
  },
  {
   "cell_type": "code",
   "execution_count": 548,
   "metadata": {},
   "outputs": [
    {
     "data": {
      "text/plain": [
       "array([0.83333333, 0.78571429, 0.87096774, 0.67647059, 0.82051282,\n",
       "       0.79487179, 0.66666667, 0.825     , 0.87179487, 0.79487179,\n",
       "       0.86842105, 0.68888889, 0.77272727, 0.93333333, 0.89361702])"
      ]
     },
     "execution_count": 548,
     "metadata": {},
     "output_type": "execute_result"
    }
   ],
   "source": [
    "maxes = np.amax(det_rates,-1)\n",
    "# maxes = np.array([m if m != 0 else 0.12 for m in maxes])\n",
    "maxes"
   ]
  },
  {
   "cell_type": "code",
   "execution_count": 557,
   "metadata": {},
   "outputs": [
    {
     "name": "stdout",
     "output_type": "stream",
     "text": [
      "Processing: 1484/1485\n"
     ]
    }
   ],
   "source": [
    "# low th\n",
    "far_ls_low = np.zeros([len(sign),len(samp_th)])\n",
    "frr_ls_low = np.zeros([len(sign),len(samp_th)])\n",
    "rejects_low = np.zeros([len(sign),len(samp_th)])\n",
    "falses_low = np.zeros([len(sign),len(samp_th)])\n",
    "for i in range(len(sign)):\n",
    "    for j in range(len(samp_th)):\n",
    "        far_ls_low[i,j], frr_ls_low[i,j], rejects_low[i,j], falses_low[i,j] = low_trig(sign[i],high_cf,low_cf,samp_th[j])\n",
    "        clear_output(wait=True)\n",
    "        print('Processing: '+str(i*len(samp_th)+j)+'/'+str(len(sign)*len(samp_th)))"
   ]
  },
  {
   "cell_type": "code",
   "execution_count": 558,
   "metadata": {},
   "outputs": [
    {
     "name": "stdout",
     "output_type": "stream",
     "text": [
      "Max det rate: 0.9555555555555556, class: Teacher\n"
     ]
    }
   ],
   "source": [
    "det_rates_low = 1 - np.add(far_ls_low,frr_ls_low)\n",
    "max_val = np.max(det_rates_low)\n",
    "max_idx = np.argmax(det_rates_low,0)\n",
    "\n",
    "print('Max det rate: ' + str(max_val) + ', class: '+asl_dict[sign[np.argmax(np.amax(det_rates_low,-1),-1)]])"
   ]
  },
  {
   "cell_type": "code",
   "execution_count": 559,
   "metadata": {},
   "outputs": [],
   "source": [
    "# min_val = np.min(rejects_low)\n",
    "# min_idx = np.argmax(rejects_low,0)\n",
    "# print('Min val: '+str(min_val)+', Min idx: '+str(min_idx))"
   ]
  },
  {
   "cell_type": "code",
   "execution_count": 560,
   "metadata": {},
   "outputs": [],
   "source": [
    "# print(far_ls_low[-2])\n",
    "# print(frr_ls_low[-2])\n",
    "# print(1-np.add(far_ls_low[-2],frr_ls_low[-2]))"
   ]
  },
  {
   "cell_type": "code",
   "execution_count": 561,
   "metadata": {},
   "outputs": [
    {
     "data": {
      "text/plain": [
       "array([0.83333333, 0.89285714, 0.87096774, 0.70588235, 0.87179487,\n",
       "       0.84615385, 0.66666667, 0.825     , 0.92307692, 0.79487179,\n",
       "       0.86842105, 0.68888889, 0.77272727, 0.95555556, 0.93617021])"
      ]
     },
     "execution_count": 561,
     "metadata": {},
     "output_type": "execute_result"
    }
   ],
   "source": [
    "maxes_low = np.amax(det_rates_low,-1)\n",
    "maxes_low"
   ]
  },
  {
   "cell_type": "code",
   "execution_count": 562,
   "metadata": {},
   "outputs": [],
   "source": [
    "data = {}\n",
    "lsx = [maxes, maxes_low]\n",
    "ls_th = ['Single Threshold', 'Double Threshold']\n",
    "for key in ls_th:\n",
    "    for val in lsx:\n",
    "        data[key] = val\n",
    "        lsx.remove(val)\n",
    "        break"
   ]
  },
  {
   "cell_type": "code",
   "execution_count": 563,
   "metadata": {},
   "outputs": [
    {
     "data": {
      "image/png": "[encoded data removed]",
      "text/plain": [
       "<Figure size 432x288 with 1 Axes>"
      ]
     },
     "metadata": {
      "needs_background": "light"
     },
     "output_type": "display_data"
    }
   ],
   "source": [
    "fig, ax = plt.subplots()\n",
    "bar_plot(ax, data, total_width=.8, single_width=.9)\n",
    "plt.rcParams['font.family'] = 'Comic Sans MS'\n",
    "plt.xticks(range(15), asl_dict.values())\n",
    "plt.xticks(rotation = 90)\n",
    "plt.ylabel('Detection Rate',fontsize=15, weight='normal')\n",
    "plt.savefig('results/final '+subj+' comp th.png', bbox_inches='tight', dpi=500)"
   ]
  },
  {
   "cell_type": "code",
   "execution_count": 471,
   "metadata": {},
   "outputs": [],
   "source": [
    "# # p1, = plt.plot(frr_ls[14],far_ls[14])\n",
    "# # p2, = plt.plot(frr_ls[11],far_ls[11],'-xr')\n",
    "# idx = 13 #8\n",
    "# # for idx in range(8,9): # plotted with low thesold diving factor of 20, not 2\n",
    "# plt.figure()\n",
    "# p1, = plt.plot(frr_ls[idx],far_ls[idx],'k',linewidth=5)\n",
    "# p2, = plt.plot(frr_ls_low[idx],far_ls_low[idx],'-.xr',linewidth=5,markersize=15)\n",
    "# matplotlib.rc('xtick',labelsize=15)\n",
    "# matplotlib.rc('ytick',labelsize=15)\n",
    "# plt.xlabel('False Rejection Rate (FRR)',fontsize=20, weight='normal')\n",
    "# plt.ylabel('False Alarm Rate (FAR)',fontsize=20, weight='normal')\n",
    "# plt.legend([p1,p2], ('Single Threshold', 'Double Threshold'), fontsize=20,\n",
    "#            prop={'weight':'normal','size':18},loc='best')\n",
    "# plt.title(asl_dict[idx+5])\n",
    "# plt.grid(color='k')\n",
    "# # plt.ylim([-0.2,0.2])\n",
    "# # plt.xlim([0,0.007])\n",
    "# fig = plt.gcf()\n",
    "# fig.set_size_inches(10,6)\n",
    "# plt.savefig('results/final '+subj+' teach double th.png', bbox_inches='tight', dpi = 500)"
   ]
  },
  {
   "cell_type": "code",
   "execution_count": 472,
   "metadata": {
    "scrolled": false
   },
   "outputs": [],
   "source": [
    "# # p1, = plt.plot(frr_ls[14],far_ls[14])\n",
    "# # p2, = plt.plot(frr_ls[11],far_ls[11],'-xr')\n",
    "# idx = 13 # maybe = 10\n",
    "# idx2 = 14 # teacher = 13\n",
    "# plt.figure()\n",
    "# # p1, = plt.plot(frr_ls[idx],far_ls[idx],'k',linewidth=5)\n",
    "# # p2, = plt.plot(frr_ls_low[idx2],far_ls_low[idx2],'-.xr',linewidth=5,markersize=15)\n",
    "# p1, = plt.plot(samp_th, frr_ls[idx],'k',linewidth=5)\n",
    "# p2, = plt.plot(samp_th, frr_ls_low[idx2],'-.xr',linewidth=5,markersize=15)\n",
    "# matplotlib.rc('xtick',labelsize=15)\n",
    "# matplotlib.rc('ytick',labelsize=15)\n",
    "# # plt.xlabel('False Rejection Rate (FRR)',fontsize=20, weight='normal')\n",
    "# # plt.ylabel('False Alarm Rate (FAR)',fontsize=20, weight='normal')\n",
    "# plt.ylabel('False Rejection Rate (FRR)',fontsize=20, weight='normal')\n",
    "# plt.xlabel('High Coefficient Factor',fontsize=20, weight='normal')\n",
    "# plt.legend([p1,p2], ('Teacher', 'Teach'), fontsize=20,\n",
    "#            prop={'weight':'normal','size':18},loc='best')\n",
    "# plt.title(asl_dict[idx+5])\n",
    "# plt.grid(color='k')\n",
    "# # plt.ylim([0,5])\n",
    "# plt.xlim([0.5,1])\n",
    "# fig = plt.gcf()\n",
    "# fig.set_size_inches(10,6)\n",
    "# plt.savefig('results/final '+subj+' teacher vs teach.png', bbox_inches='tight', dpi = 500)"
   ]
  },
  {
   "cell_type": "code",
   "execution_count": null,
   "metadata": {},
   "outputs": [],
   "source": []
  },
  {
   "cell_type": "code",
   "execution_count": null,
   "metadata": {},
   "outputs": [],
   "source": []
  },
  {
   "cell_type": "code",
   "execution_count": null,
   "metadata": {},
   "outputs": [],
   "source": []
  },
  {
   "cell_type": "code",
   "execution_count": null,
   "metadata": {},
   "outputs": [],
   "source": []
  },
  {
   "cell_type": "code",
   "execution_count": null,
   "metadata": {},
   "outputs": [],
   "source": []
  },
  {
   "cell_type": "code",
   "execution_count": null,
   "metadata": {},
   "outputs": [],
   "source": []
  },
  {
   "cell_type": "code",
   "execution_count": null,
   "metadata": {},
   "outputs": [],
   "source": []
  },
  {
   "cell_type": "code",
   "execution_count": null,
   "metadata": {},
   "outputs": [],
   "source": []
  },
  {
   "cell_type": "code",
   "execution_count": null,
   "metadata": {},
   "outputs": [],
   "source": []
  },
  {
   "cell_type": "code",
   "execution_count": null,
   "metadata": {},
   "outputs": [],
   "source": []
  },
  {
   "cell_type": "code",
   "execution_count": null,
   "metadata": {},
   "outputs": [],
   "source": []
  },
  {
   "cell_type": "code",
   "execution_count": null,
   "metadata": {},
   "outputs": [],
   "source": []
  },
  {
   "cell_type": "code",
   "execution_count": null,
   "metadata": {},
   "outputs": [],
   "source": []
  },
  {
   "cell_type": "code",
   "execution_count": null,
   "metadata": {},
   "outputs": [],
   "source": []
  },
  {
   "cell_type": "code",
   "execution_count": null,
   "metadata": {},
   "outputs": [],
   "source": []
  },
  {
   "cell_type": "code",
   "execution_count": null,
   "metadata": {},
   "outputs": [],
   "source": []
  },
  {
   "cell_type": "code",
   "execution_count": null,
   "metadata": {},
   "outputs": [],
   "source": []
  },
  {
   "cell_type": "code",
   "execution_count": null,
   "metadata": {},
   "outputs": [],
   "source": []
  }
 ],
 "metadata": {
  "kernelspec": {
   "display_name": "Python 3",
   "language": "python",
   "name": "python3"
  },
  "language_info": {
   "codemirror_mode": {
    "name": "ipython",
    "version": 3
   },
   "file_extension": ".py",
   "mimetype": "text/x-python",
   "name": "python",
   "nbconvert_exporter": "python",
   "pygments_lexer": "ipython3",
   "version": "3.7.2"
  }
 },
 "nbformat": 4,
 "nbformat_minor": 2
}
