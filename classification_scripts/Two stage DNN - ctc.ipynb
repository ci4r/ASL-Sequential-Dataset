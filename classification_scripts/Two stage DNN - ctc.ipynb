{
 "cells": [
  {
   "cell_type": "code",
   "execution_count": 1,
   "metadata": {},
   "outputs": [
    {
     "name": "stderr",
     "output_type": "stream",
     "text": [
      "Using TensorFlow backend.\n"
     ]
    },
    {
     "name": "stdout",
     "output_type": "stream",
     "text": [
      "Num GPUs Available:  1\n"
     ]
    }
   ],
   "source": [
    "# %matplotlib inline\n",
    "import matplotlib.pyplot as plt\n",
    "import matplotlib.image as mpimg\n",
    "import tensorflow as tf\n",
    "import os\n",
    "# Create a MirroredStrateg, If Multi-GPU available\n",
    "os.environ['TF_FORCE_GPU_ALLOW_GROWTH'] = 'true' \n",
    "tf.config.set_soft_device_placement(True)\n",
    "# strategy = tf.distribute.MirroredStrategy(devices=['/gpu:1','/gpu:2']) \n",
    "# print('Number of GPUs being used: {}'.format(strategy.num_replicas_in_sync))\n",
    "from tensorflow.keras.preprocessing.image import ImageDataGenerator\n",
    "from tensorflow.keras.models import Sequential, Model, model_from_json\n",
    "from tensorflow.keras.optimizers import *\n",
    "from tensorflow.keras.layers import *\n",
    "from tensorflow.keras.callbacks import CSVLogger\n",
    "from tensorflow.keras.wrappers.scikit_learn import KerasClassifier\n",
    "from tensorflow.keras.applications import VGG16, ResNet50\n",
    "from tensorflow.keras.utils import to_categorical\n",
    "from sklearn.model_selection import train_test_split\n",
    "from livelossplot.keras import PlotLossesCallback\n",
    "from livelossplot import PlotLossesKerasTF\n",
    "import efficientnet.keras as efn\n",
    "import h5py, glob, re, cv2, math, matplotlib\n",
    "import tensorflow.keras as keras\n",
    "import pandas as pd\n",
    "from pandas import read_csv\n",
    "import numpy as np\n",
    "from scipy import stats\n",
    "import itertools, random\n",
    "\n",
    "# from cnn_utils import *\n",
    "# from tensorflow.compat.v1 import ConfigProto\n",
    "# from tensorflow.compat.v1 import InteractiveSession\n",
    "from sklearn.metrics import classification_report, confusion_matrix\n",
    "from sklearn.utils import class_weight\n",
    "from PIL import Image  \n",
    "import pdb\n",
    "from statistics import mode \n",
    "from IPython.display import clear_output\n",
    "\n",
    "# config = ConfigProto()\n",
    "# config.gpu_options.allow_growth = True\n",
    "# session = InteractiveSession(config=config)\n",
    "\n",
    "np.random.seed(1)\n",
    "# Setting the seed for python random numbers\n",
    "random.seed(1254)\n",
    "# Setting the graph-level random seed.\n",
    "tf.random.set_seed(89)\n",
    "\n",
    "os.environ[\"CUDA_DEVICE_ORDER\"] = \"PCI_BUS_ID\"\n",
    "os.environ[\"CUDA_VISIBLE_DEVICES\"] = \"2\"\n",
    "!CUDA_VISIBLE_DEVICES=2\n",
    "\n",
    "# strategy = tf.distribute.MirroredStrategy(devices=['/gpu:1','/gpu:2'])\n",
    "# print('Number of GPUs being used: {}'.format(strategy.num_replicas_in_sync))\n",
    "# print('Number of GPUs being used: {}'.format(strategy.num_replicas_in_sync))\n",
    "# def setup_multi_node_training(): # IMPORTANT: SET UP TF_CONFIG FOR MULTINODE TRAINING HERE os.environ[“TF_FORCE_GPU_ALLOW_GROWTH”] = “true” tf.config.set_soft_device_placement(True) mirrored_strategy = tf.distribute.experimental.MultiWorkerMirroredStrategy(tf.distribute.experimental.CollectiveCommunication.NCCL) # Constructs the configuration run_config = tf.estimator.RunConfig( train_distribute=mirrored_strategy, ) return run_config\n",
    "print(\"Num GPUs Available: \", len(tf.config.experimental.list_physical_devices('GPU')))"
   ]
  },
  {
   "cell_type": "markdown",
   "metadata": {},
   "source": [
    "## Load Data"
   ]
  },
  {
   "cell_type": "code",
   "execution_count": 2,
   "metadata": {},
   "outputs": [
    {
     "name": "stdout",
     "output_type": "stream",
     "text": [
      "Selected File: Datasets/All_subjects_RDmap.hdf5\n",
      "(527, 605, 128, 128, 3)\n",
      "(527, 605, 19)\n",
      "(132, 605, 128, 128, 3)\n",
      "(132, 605, 19)\n"
     ]
    }
   ],
   "source": [
    "filename = 'Datasets/All_subjects_RDmap.hdf5'\n",
    "data = h5py.File(filename, \"r\")\n",
    "print('Selected File: '+str(filename))\n",
    "x_train1 = np.array(data[\"train_img\"])\n",
    "y_train1 = np.array(data[\"train_labels\"])\n",
    "x_test1 = np.array(data[\"test_img\"])\n",
    "y_test1 = np.array(data[\"test_labels\"])\n",
    "data.close()\n",
    "print(x_train1.shape)\n",
    "print(y_train1.shape)\n",
    "print(x_test1.shape)\n",
    "print(y_test1.shape)"
   ]
  },
  {
   "cell_type": "code",
   "execution_count": 3,
   "metadata": {},
   "outputs": [
    {
     "name": "stdout",
     "output_type": "stream",
     "text": [
      "Selected File: Datasets/All_subjects_RAmap.hdf5\n",
      "(527, 605, 128, 128, 3)\n",
      "(527, 605, 19)\n",
      "(132, 605, 128, 128, 3)\n",
      "(132, 605, 19)\n"
     ]
    }
   ],
   "source": [
    "filename = 'Datasets/All_subjects_RAmap.hdf5'\n",
    "data = h5py.File(filename, \"r\")\n",
    "print('Selected File: '+str(filename))\n",
    "x_train2 = np.array(data[\"train_img\"])\n",
    "y_train2 = np.array(data[\"train_labels\"])\n",
    "x_test2 = np.array(data[\"test_img\"])\n",
    "y_test2 = np.array(data[\"test_labels\"])\n",
    "data.close()\n",
    "print(x_train2.shape)\n",
    "print(y_train2.shape)\n",
    "print(x_test2.shape)\n",
    "print(y_test2.shape)"
   ]
  },
  {
   "cell_type": "code",
   "execution_count": 4,
   "metadata": {},
   "outputs": [
    {
     "name": "stdout",
     "output_type": "stream",
     "text": [
      "(527, 120, 5, 128, 128, 3)\n",
      "(527, 120, 19)\n",
      "(132, 120, 5, 128, 128, 3)\n",
      "(132, 120, 19)\n",
      "(527, 120, 5, 128, 128, 3)\n",
      "(527, 120, 19)\n",
      "(132, 120, 5, 128, 128, 3)\n",
      "(132, 120, 19)\n"
     ]
    }
   ],
   "source": [
    "# windowed RD\n",
    "interval = range(0,600)\n",
    "x_train11 = np.reshape(x_train1[:,interval,:,:,:], (x_train1.shape[0],120,5,x_train1.shape[2],x_train1.shape[3],x_train1.shape[4]))\n",
    "x_test11 = np.reshape(x_test1[:,interval,:,:,:], (x_test1.shape[0],120,5,x_test1.shape[2],x_test1.shape[3],x_test1.shape[4]))\n",
    "y_train11 = np.reshape(np.argmax(y_train1[:,interval,:],-1), (y_train1.shape[0],120,5))\n",
    "y_test11 = np.reshape(np.argmax(y_test1[:,interval,:],-1), (y_test1.shape[0],120,5))\n",
    "y_train11 = to_categorical(np.squeeze(stats.mode(y_train11,2)[0]))\n",
    "y_test11 = to_categorical(np.squeeze(stats.mode(y_test11,2)[0]))\n",
    "print(x_train11.shape)\n",
    "print(y_train11.shape)\n",
    "print(x_test11.shape)\n",
    "print(y_test11.shape)  \n",
    "\n",
    "# windowed RA\n",
    "x_train12 = np.reshape(x_train2[:,interval,:,:,:], (x_train2.shape[0],120,5,x_train2.shape[2],x_train2.shape[3],x_train2.shape[4]))\n",
    "x_test12 = np.reshape(x_test2[:,interval,:,:,:], (x_test2.shape[0],120,5,x_test2.shape[2],x_test2.shape[3],x_test2.shape[4]))\n",
    "y_train12 = np.reshape(np.argmax(y_train2[:,interval,:],-1), (y_train2.shape[0],120,5))\n",
    "y_test12 = np.reshape(np.argmax(y_test2[:,interval,:],-1), (y_test2.shape[0],120,5))\n",
    "y_train12 = to_categorical(np.squeeze(stats.mode(y_train12,2)[0]))\n",
    "y_test12 = to_categorical(np.squeeze(stats.mode(y_test12,2)[0]))\n",
    "print(x_train12.shape)\n",
    "print(y_train12.shape)\n",
    "print(x_test12.shape)\n",
    "print(y_test12.shape) "
   ]
  },
  {
   "cell_type": "code",
   "execution_count": 5,
   "metadata": {},
   "outputs": [
    {
     "name": "stdout",
     "output_type": "stream",
     "text": [
      "Selected File: Datasets/All_subjects_spectrogram.hdf5\n",
      "(527, 120, 128, 128, 3)\n",
      "(527, 120, 19)\n",
      "(132, 120, 128, 128, 3)\n",
      "(132, 120, 19)\n"
     ]
    }
   ],
   "source": [
    "filename = 'Datasets/All_subjects_spectrogram.hdf5'\n",
    "data = h5py.File(filename, \"r\")\n",
    "print('Selected File: '+str(filename))\n",
    "x_train3 = np.array(data[\"train_img\"])\n",
    "y_train3 = np.array(data[\"train_labels\"])\n",
    "x_test3 = np.array(data[\"test_img\"])\n",
    "y_test3 = np.array(data[\"test_labels\"])\n",
    "data.close()\n",
    "print(x_train3.shape)\n",
    "print(y_train3.shape)\n",
    "print(x_test3.shape)\n",
    "print(y_test3.shape)"
   ]
  },
  {
   "cell_type": "code",
   "execution_count": 6,
   "metadata": {},
   "outputs": [
    {
     "name": "stdout",
     "output_type": "stream",
     "text": [
      "Selected File: Datasets/All_subjects_margins_and_ctc_label_no_nucleus.hdf5\n",
      "(527, 1482)\n",
      "(527,)\n",
      "(132, 1482)\n",
      "(132,)\n"
     ]
    }
   ],
   "source": [
    "filename = 'Datasets/All_subjects_margins_and_ctc_label_no_nucleus.hdf5'\n",
    "data = h5py.File(filename, \"r\")\n",
    "print('Selected File: '+str(filename))\n",
    "margin_tr = np.array(data[\"train_img\"])\n",
    "ctc_tr = np.squeeze(np.array(data[\"train_labels\"])).astype('U12')\n",
    "margin_ts = np.array(data[\"test_img\"])\n",
    "ctc_ts = np.squeeze(np.array(data[\"test_labels\"])).astype('U12')\n",
    "data.close()\n",
    "print(margin_tr.shape)\n",
    "print(ctc_tr.shape)\n",
    "print(margin_ts.shape)\n",
    "print(ctc_ts.shape)"
   ]
  },
  {
   "cell_type": "code",
   "execution_count": 7,
   "metadata": {},
   "outputs": [
    {
     "name": "stdout",
     "output_type": "stream",
     "text": [
      "Selected File: Datasets/All_subjects_spect_single.hdf5\n",
      "(527, 128, 128, 3)\n",
      "(132, 128, 128, 3)\n"
     ]
    }
   ],
   "source": [
    "filename = 'Datasets/All_subjects_spect_single.hdf5'\n",
    "data = h5py.File(filename, \"r\")\n",
    "print('Selected File: '+str(filename))\n",
    "x_train4 = np.array(data[\"train_img\"])\n",
    "x_test4 = np.array(data[\"test_img\"])\n",
    "data.close()\n",
    "print(x_train4.shape)\n",
    "print(x_test4.shape)"
   ]
  },
  {
   "cell_type": "markdown",
   "metadata": {},
   "source": [
    "##### STA LTA"
   ]
  },
  {
   "cell_type": "code",
   "execution_count": 8,
   "metadata": {},
   "outputs": [],
   "source": [
    "def sta_lta2(vec,nlta,nsta,init_th,stop_th,stepsz):\n",
    "    vec2 = np.zeros(vec.shape)\n",
    "    mask = np.zeros(vec.shape)\n",
    "    state = 0 # '0' nothing, '1' signing\n",
    "    \n",
    "    for i in range(0,len(vec),stepsz):\n",
    "        \n",
    "        if i+nlta+nsta+1 > len(vec):\n",
    "            if state == 1:\n",
    "                stoppt = len(vec)-2\n",
    "                vec2[startpt:stoppt] = vec[startpt:stoppt]\n",
    "                mask[startpt:stoppt] = 1\n",
    "            break\n",
    "            \n",
    "            \n",
    "        longwin = vec[i:i+nlta]\n",
    "        shortwin = vec[i+nlta:i+nlta+nsta]\n",
    "        \n",
    "        if i < nlta and np.mean(longwin) > 150:\n",
    "            vec2[0:i+nsta] = vec[0:i+nsta]\n",
    "            mask[0:i+nsta] = 1\n",
    "        if init_th < sum(shortwin)/sum(longwin):\n",
    "            if state == 0:\n",
    "                startpt = i+nlta\n",
    "                state = 1\n",
    "            if state == 1:\n",
    "                continue\n",
    "        \n",
    "        else:\n",
    "            if state == 0:\n",
    "                continue\n",
    "            if state == 1:\n",
    "                if sum(shortwin)/sum(longwin) > stop_th:\n",
    "                    continue\n",
    "                else:\n",
    "                    stoppt = i+nlta+int(nsta/2)\n",
    "                    state = 0\n",
    "                    vec2[startpt:stoppt] = vec[startpt:stoppt]\n",
    "                    mask[startpt:stoppt] = 1\n",
    "                    \n",
    "    return vec2, mask"
   ]
  },
  {
   "cell_type": "code",
   "execution_count": 9,
   "metadata": {},
   "outputs": [],
   "source": [
    "duration = 24.2\n",
    "nsta_sec = 0.7\n",
    "ratio = margin_tr.shape[-1]/duration\n",
    "nsta = int(nsta_sec*ratio)\n",
    "nlta = int(2*nsta)\n",
    "stepsz = int(0.2*ratio) # 0.2\n",
    "timevec = np.linspace(0,24.2,margin_ts.shape[1])\n",
    "idx = 27\n",
    "init_th = 0.6\n",
    "stop_th = 0.3\n",
    "vecs_train = [] #np.zeros(np.argmax(margin_tr,-1).shape)\n",
    "mask_train = [] #np.zeros(np.argmax(margin_tr,-1).shape)\n",
    "vecs_test = [] #np.zeros(np.argmax(margin_ts,-1).shape)\n",
    "mask_test = [] #np.zeros(np.argmax(margin_ts,-1).shape)\n",
    "for i in range(len(margin_tr)):\n",
    "    vecs_train.append(sta_lta2(margin_tr[i],nlta,nsta,init_th,stop_th,stepsz)[0])\n",
    "    mask_train.append(sta_lta2(margin_tr[i],nlta,nsta,init_th,stop_th,stepsz)[1])\n",
    "# mask_train_win = mask_train[:,::5]\n",
    "for i in range(len(margin_ts)):\n",
    "    vecs_test.append(sta_lta2(margin_ts[i],nlta,nsta,init_th,stop_th,stepsz)[0])\n",
    "    mask_test.append(sta_lta2(margin_ts[i],nlta,nsta,init_th,stop_th,stepsz)[1])\n",
    "# mask_test_win = mask_test[:,::5]\n",
    "mask_train = np.array(mask_train)\n",
    "mask_test = np.array(mask_test)"
   ]
  },
  {
   "cell_type": "code",
   "execution_count": 10,
   "metadata": {},
   "outputs": [
    {
     "name": "stdout",
     "output_type": "stream",
     "text": [
      "Mask shapes:\n",
      "(527, 605)\n",
      "(132, 605)\n",
      "(527, 120)\n",
      "(132, 120)\n"
     ]
    }
   ],
   "source": [
    "# downsample the mask to vid\n",
    "mask_vid_tr = np.zeros(np.argmax(y_train1,-1).shape)\n",
    "ratio1 = mask_train.shape[-1]/mask_vid_tr.shape[-1]\n",
    "for i in range(len(mask_train)):\n",
    "    for j in range(mask_train.shape[-1]):\n",
    "        if mask_train[i,j] == 0:\n",
    "            continue\n",
    "        else:\n",
    "            mask_vid_tr[i,int(j/ratio1)] = 1\n",
    "mask_vid_ts = np.zeros(np.argmax(y_test1,-1).shape)\n",
    "for i in range(len(mask_test)):\n",
    "    for j in range(mask_test.shape[-1]):\n",
    "        if mask_test[i,j] == 0:\n",
    "            continue\n",
    "        else:\n",
    "            mask_vid_ts[i,int(j/ratio1)] = 1\n",
    "\n",
    "# downsample the mask to spect\n",
    "mask_spect_tr = np.zeros(np.argmax(y_train3,-1).shape)\n",
    "ratio2 = mask_train.shape[-1]/mask_spect_tr.shape[-1]\n",
    "for i in range(len(mask_train)):\n",
    "    for j in range(mask_train.shape[-1]):\n",
    "        if mask_train[i,j] == 0:\n",
    "            continue\n",
    "        else:\n",
    "            mask_spect_tr[i,int(j/ratio2)] = 1\n",
    "mask_spect_ts = np.zeros(np.argmax(y_test3,-1).shape)\n",
    "for i in range(len(mask_test)):\n",
    "    for j in range(mask_test.shape[-1]):\n",
    "        if mask_test[i,j] == 0:\n",
    "            continue\n",
    "        else:\n",
    "            mask_spect_ts[i,int(j/ratio2)] = 1\n",
    "print('Mask shapes:')\n",
    "print(mask_vid_tr.shape)\n",
    "print(mask_vid_ts.shape)\n",
    "print(mask_spect_tr.shape)\n",
    "print(mask_spect_ts.shape)"
   ]
  },
  {
   "cell_type": "code",
   "execution_count": 11,
   "metadata": {},
   "outputs": [
    {
     "data": {
      "text/plain": [
       "19"
      ]
     },
     "execution_count": 11,
     "metadata": {},
     "output_type": "execute_result"
    }
   ],
   "source": [
    "num_class = y_test3.shape[2]\n",
    "num_class"
   ]
  },
  {
   "cell_type": "code",
   "execution_count": 12,
   "metadata": {},
   "outputs": [
    {
     "name": "stdout",
     "output_type": "stream",
     "text": [
      "(1154,)\n",
      "(1154,)\n",
      "(272,)\n",
      "(272,)\n"
     ]
    }
   ],
   "source": [
    "# Mask reshaped RD\n",
    "x1train = []\n",
    "y1train = []\n",
    "flag = 0\n",
    "for i in range(len(mask_spect_tr)):\n",
    "    for j in range(mask_spect_tr.shape[1]):\n",
    "        if mask_spect_tr[i,j] == 0:\n",
    "            if flag == 0:\n",
    "                continue\n",
    "            else:\n",
    "                stoppt = j\n",
    "                if stoppt-startpt>2:\n",
    "                    x1train.append(x_train11[i,startpt:stoppt])\n",
    "                    y1train.append(np.squeeze(np.argmax(y_train3[i,startpt:stoppt],-1)))\n",
    "                    flag = 0\n",
    "        else:\n",
    "            if flag == 0:\n",
    "                startpt = j\n",
    "                flag = 1\n",
    "            else:\n",
    "                continue\n",
    "x1train = np.asarray(x1train)\n",
    "y1train = np.array([to_categorical(y,num_classes=num_class) for y in np.array(y1train)])\n",
    "x1test = []\n",
    "y1test = []\n",
    "flag = 0\n",
    "for i in range(len(mask_spect_ts)):\n",
    "    for j in range(mask_spect_ts.shape[1]):\n",
    "        if mask_spect_ts[i,j] == 0:\n",
    "            if flag == 0:\n",
    "                continue\n",
    "            else:\n",
    "                stoppt = j\n",
    "                if stoppt-startpt>2:\n",
    "                    x1test.append(x_test11[i,startpt:stoppt])\n",
    "                    y1test.append(np.squeeze(np.argmax(y_test3[i,startpt:stoppt],-1)))\n",
    "                    flag = 0\n",
    "        else:\n",
    "            if flag == 0:\n",
    "                startpt = j\n",
    "                flag = 1\n",
    "            else:\n",
    "                continue\n",
    "x1test = np.asarray(x1test)\n",
    "y1test = np.array([to_categorical(y,num_classes=num_class) for y in np.array(y1test)])\n",
    "print(x1train.shape)\n",
    "print(y1train.shape)\n",
    "print(x1test.shape)\n",
    "print(y1test.shape)"
   ]
  },
  {
   "cell_type": "code",
   "execution_count": 13,
   "metadata": {},
   "outputs": [
    {
     "name": "stdout",
     "output_type": "stream",
     "text": [
      "(1154,)\n",
      "(1154,)\n",
      "(272,)\n",
      "(272,)\n"
     ]
    }
   ],
   "source": [
    "# Mask reshaped RA\n",
    "x2train = []\n",
    "y2train = []\n",
    "flag = 0\n",
    "for i in range(len(mask_spect_tr)):\n",
    "    for j in range(mask_spect_tr.shape[1]):\n",
    "        if mask_spect_tr[i,j] == 0:\n",
    "            if flag == 0:\n",
    "                continue\n",
    "            else:\n",
    "                stoppt = j\n",
    "                if stoppt-startpt>2:\n",
    "                    x2train.append(x_train12[i,startpt:stoppt])\n",
    "                    y2train.append(np.squeeze(np.argmax(y_train3[i,startpt:stoppt],-1)))\n",
    "                    flag = 0\n",
    "        else:\n",
    "            if flag == 0:\n",
    "                startpt = j\n",
    "                flag = 1\n",
    "            else:\n",
    "                continue\n",
    "x2train = np.asarray(x2train)\n",
    "y2train = np.array([to_categorical(y,num_classes=num_class) for y in np.array(y2train)])\n",
    "x2test = []\n",
    "y2test = []\n",
    "flag = 0\n",
    "for i in range(len(mask_spect_ts)):\n",
    "    for j in range(mask_spect_ts.shape[1]):\n",
    "        if mask_spect_ts[i,j] == 0:\n",
    "            if flag == 0:\n",
    "                continue\n",
    "            else:\n",
    "                stoppt = j\n",
    "                if stoppt-startpt>2:\n",
    "                    x2test.append(x_test12[i,startpt:stoppt])\n",
    "                    y2test.append(np.squeeze(np.argmax(y_test3[i,startpt:stoppt],-1)))\n",
    "                    flag = 0\n",
    "        else:\n",
    "            if flag == 0:\n",
    "                startpt = j\n",
    "                flag = 1\n",
    "            else:\n",
    "                continue\n",
    "x2test = np.asarray(x2test)\n",
    "y2test = np.array([to_categorical(y,num_classes=num_class) for y in np.array(y2test)])\n",
    "print(x2train.shape)\n",
    "print(y2train.shape)\n",
    "print(x2test.shape)\n",
    "print(y2test.shape)"
   ]
  },
  {
   "cell_type": "code",
   "execution_count": 14,
   "metadata": {},
   "outputs": [
    {
     "name": "stdout",
     "output_type": "stream",
     "text": [
      "(1154,)\n",
      "(1154,)\n",
      "(272,)\n",
      "(272,)\n"
     ]
    }
   ],
   "source": [
    "# Mask reshaped mD\n",
    "x3train = []\n",
    "y3train = []\n",
    "flag = 0\n",
    "for i in range(len(mask_spect_tr)):\n",
    "    for j in range(mask_spect_tr.shape[1]):\n",
    "        if mask_spect_tr[i,j] == 0:\n",
    "            if flag == 0:\n",
    "                continue\n",
    "            else:\n",
    "                stoppt = j\n",
    "                if stoppt-startpt>2:\n",
    "                    x3train.append(x_train3[i,startpt:stoppt])\n",
    "                    y3train.append(np.squeeze(np.argmax(y_train3[i,startpt:stoppt],-1)))\n",
    "                    flag = 0\n",
    "        else:\n",
    "            if flag == 0:\n",
    "                startpt = j\n",
    "                flag = 1\n",
    "            else:\n",
    "                continue\n",
    "x3train = np.asarray(x3train)\n",
    "y_int_train = np.array(y3train)\n",
    "y3train = np.array([to_categorical(y,num_classes=num_class) for y in y_int_train])\n",
    "x3test = []\n",
    "y3test = []\n",
    "flag = 0\n",
    "for i in range(len(mask_spect_ts)):\n",
    "    for j in range(mask_spect_ts.shape[1]):\n",
    "        if mask_spect_ts[i,j] == 0:\n",
    "            if flag == 0:\n",
    "                continue\n",
    "            else:\n",
    "                stoppt = j\n",
    "                if stoppt-startpt>2:\n",
    "                    x3test.append(x_test3[i,startpt:stoppt])\n",
    "                    y3test.append(np.squeeze(np.argmax(y_test3[i,startpt:stoppt],-1)))\n",
    "                    flag = 0\n",
    "        else:\n",
    "            if flag == 0:\n",
    "                startpt = j\n",
    "                flag = 1\n",
    "            else:\n",
    "                continue\n",
    "x3test = np.asarray(x3test)\n",
    "y_int_test = np.array(y3test)\n",
    "y3test = np.array([to_categorical(y,num_classes=num_class) for y in y_int_test])\n",
    "print(x3train.shape)\n",
    "print(y3train.shape)\n",
    "print(x3test.shape)\n",
    "print(y3test.shape)"
   ]
  },
  {
   "cell_type": "markdown",
   "metadata": {},
   "source": [
    "### Multi-task labels"
   ]
  },
  {
   "cell_type": "code",
   "execution_count": 15,
   "metadata": {},
   "outputs": [],
   "source": [
    "y_asldaily_tr = [] # 0: daily, 1: asl\n",
    "y_twohanded_tr = [] # 0: daily, 1: 1 hand, 2: 2 hand\n",
    "y_loc_tr = [] # major location: 0: daily, 1: body, 2: neutral, 3: head, 4: hand\n",
    "y_mov_tr = [] # movement: 0: daily, 1: curved, 2: straight, 3: backandforth, 4: circular, 5: other\n",
    "y_str_tr = [] # # of strokes: 0: daily, 1: 3, 2: 4, 3: +5\n",
    "\n",
    "y_asldaily_ts = [] # 0: daily, 1: asl\n",
    "y_twohanded_ts = [] # 0: daily, 1: 1 hand, 2: 2 hand\n",
    "y_loc_ts = [] # major location: 0: daily, 1: body, 2: neutral, 3: head, 4: hand\n",
    "y_mov_ts = [] # movement: 0: daily, 1: curved, 2: straight, 3: backandforth, 4: circular, 5: other\n",
    "y_str_ts = [] # # of strokes: 0: daily, 1: 3, 2: 4, 3: +5\n",
    "\n",
    "## asl daily\n",
    "for i in range(len(y_int_train)):\n",
    "    yx = np.zeros(shape=y_int_train[i].shape)\n",
    "    for j in range(len(y_int_train[i])):\n",
    "        if y_int_train[i][j] in (0,1,2,3):\n",
    "            continue\n",
    "        else:\n",
    "            yx[j] = 1\n",
    "    y_asldaily_tr.append(to_categorical(yx,2))\n",
    "for i in range(len(y_int_test)):\n",
    "    yx = np.zeros(shape=y_int_test[i].shape)\n",
    "    for j in range(len(y_int_test[i])):\n",
    "        if y_int_test[i][j] in (0,1,2,3):\n",
    "            continue\n",
    "        else:\n",
    "            yx[j] = 1\n",
    "    y_asldaily_ts.append(to_categorical(yx,2))\n",
    "    \n",
    "## two hand\n",
    "for i in range(len(y_int_train)):\n",
    "    yx = np.zeros(shape=y_int_train[i].shape)\n",
    "    for j in range(len(y_int_train[i])):\n",
    "        if y_int_train[i][j] in (0,1,2,3):\n",
    "            continue\n",
    "        elif y_int_train[i][j] in (9,16):\n",
    "            yx[j] = 1\n",
    "        else:\n",
    "            yx[j] = 2\n",
    "    y_twohanded_tr.append(to_categorical(yx,3))\n",
    "for i in range(len(y_int_test)):\n",
    "    yx = np.zeros(shape=y_int_test[i].shape)\n",
    "    for j in range(len(y_int_test[i])):\n",
    "        if y_int_test[i][j] in (0,1,2,3):\n",
    "            continue\n",
    "        elif y_int_test[i][j] in (9,16):\n",
    "            yx[j] = 1\n",
    "        else:\n",
    "            yx[j] = 2\n",
    "    y_twohanded_ts.append(to_categorical(yx,3))\n",
    "\n",
    "## hand loc\n",
    "for i in range(len(y_int_train)):\n",
    "    yx = np.zeros(shape=y_int_train[i].shape)\n",
    "    for j in range(len(y_int_train[i])):\n",
    "        if y_int_train[i][j] in (0,1,2,3):\n",
    "            continue\n",
    "        elif y_int_train[i][j] == 4:\n",
    "            yx[j] = 1\n",
    "        elif y_int_train[i][j] in (5,8,14,16):\n",
    "            yx[j] = 2\n",
    "        elif y_int_train[i][j] in (6,9,17,18):\n",
    "            yx[j] = 3\n",
    "        else:\n",
    "            yx[j] = 4\n",
    "    y_loc_tr.append(to_categorical(yx,5))\n",
    "for i in range(len(y_int_test)):\n",
    "    yx = np.zeros(shape=y_int_test[i].shape)\n",
    "    for j in range(len(y_int_test[i])):\n",
    "        if y_int_test[i][j] in (0,1,2,3):\n",
    "            continue\n",
    "        elif y_int_test[i][j] == 4:\n",
    "            yx[j] = 1\n",
    "        elif y_int_test[i][j] in (5,8,14,16):\n",
    "            yx[j] = 2\n",
    "        elif y_int_test[i][j] in (6,9,17,18):\n",
    "            yx[j] = 3\n",
    "        else:\n",
    "            yx[j] = 4\n",
    "    y_loc_ts.append(to_categorical(yx,5))\n",
    "\n",
    "## movement type\n",
    "for i in range(len(y_int_train)):\n",
    "    yx = np.zeros(shape=y_int_train[i].shape)\n",
    "    for j in range(len(y_int_train[i])):\n",
    "        if y_int_train[i][j] in (0,1,2,3):\n",
    "            continue\n",
    "        elif y_int_train[i][j] in (4,5,9,12):\n",
    "            yx[j] = 1\n",
    "        elif y_int_train[i][j] in (6,7,8,10,14,15,17,18):\n",
    "            yx[j] = 2\n",
    "        elif y_int_train[i][j] == 13:\n",
    "            yx[j] = 3\n",
    "        elif y_int_train[i][j] == 16:\n",
    "            yx[j] = 4\n",
    "        else:\n",
    "            yx[j] = 5\n",
    "    y_mov_tr.append(to_categorical(yx,6))\n",
    "for i in range(len(y_int_test)):\n",
    "    yx = np.zeros(shape=y_int_test[i].shape)\n",
    "    for j in range(len(y_int_test[i])):\n",
    "        if y_int_test[i][j] in (0,1,2,3):\n",
    "            continue\n",
    "        elif y_int_test[i][j] in (4,5,9,12):\n",
    "            yx[j] = 1\n",
    "        elif y_int_test[i][j] in (6,7,8,10,14,15,17,18):\n",
    "            yx[j] = 2\n",
    "        elif y_int_test[i][j] == 13:\n",
    "            yx[j] = 3\n",
    "        elif y_int_test[i][j] == 16:\n",
    "            yx[j] = 4\n",
    "        else:\n",
    "            yx[j] = 5\n",
    "    y_mov_ts.append(to_categorical(yx,6))\n",
    "    \n",
    "## # of strokes\n",
    "for i in range(len(y_int_train)):\n",
    "    yx = np.zeros(shape=y_int_train[i].shape)\n",
    "    for j in range(len(y_int_train[i])):\n",
    "        if y_int_train[i][j] in (0,1,2,3):\n",
    "            continue\n",
    "        elif y_int_train[i][j] in (4,5,9,10,13,15,18):\n",
    "            yx[j] = 1\n",
    "        elif y_int_train[i][j] in (6,8,12,16,17):\n",
    "            yx[j] = 2\n",
    "        else:\n",
    "            yx[j] = 3\n",
    "    y_str_tr.append(to_categorical(yx,4))\n",
    "for i in range(len(y_int_test)):\n",
    "    yx = np.zeros(shape=y_int_test[i].shape)\n",
    "    for j in range(len(y_int_test[i])):\n",
    "        if y_int_test[i][j] in (0,1,2,3):\n",
    "            continue\n",
    "        elif y_int_test[i][j] in (4,5,9,10,13,15,18):\n",
    "            yx[j] = 1\n",
    "        elif y_int_test[i][j] in (6,8,12,16,17):\n",
    "            yx[j] = 2\n",
    "        else:\n",
    "            yx[j] = 3\n",
    "    y_str_ts.append(to_categorical(yx,4))"
   ]
  },
  {
   "cell_type": "markdown",
   "metadata": {},
   "source": [
    "### Helpers"
   ]
  },
  {
   "cell_type": "code",
   "execution_count": 16,
   "metadata": {},
   "outputs": [],
   "source": [
    "def num_to_ch(num):\n",
    "    label = ''\n",
    "    for ch in num:\n",
    "        label += chr(ord('@') + np.argmax(ch,-1)+1)\n",
    "    return label"
   ]
  },
  {
   "cell_type": "code",
   "execution_count": 28,
   "metadata": {},
   "outputs": [],
   "source": [
    "def data_generator_ctc(data, labels, batch_size=1):              \n",
    "    \"\"\"\n",
    "    Yields the next training batch.\n",
    "    data is an array  [[[frame1_filename,frame2_filename,…frame16_filename],label1], [[frame1_filename,frame2_filename,…frame16_filename],label2],……….].\n",
    "    \"\"\"\n",
    "    num_samples = data.shape[0]\n",
    "    \n",
    "    while True:   \n",
    "        for offset in range(0, num_samples, batch_size):\n",
    "    #             print ('starting index: ', offset) \n",
    "            # Get the samples you'll use in this batch\n",
    "            batch_samples = data[offset:offset+batch_size]\n",
    "            label = labels[offset:offset+batch_size]\n",
    "            # Initialise X_train and y_train arrays for this batch\n",
    "            X_train = []\n",
    "            y_train = []\n",
    "            # For each example\n",
    "            for i in range(0,batch_samples.shape[0]):\n",
    "                X_train.append(batch_samples[i])\n",
    "                y_train.append(np.array([ord(y)%32 for y in label[i]]))\n",
    "\n",
    "            # Make sure they're numpy arrays (as opposed to lists)\n",
    "            X_train = np.array(X_train)\n",
    "            #X_train = np.rollaxis(X_train,1,4)\n",
    "            y_train = np.array(y_train)\n",
    "\n",
    "            # yield the next training batch            \n",
    "            yield [X_train, y_train], y_train"
   ]
  },
  {
   "cell_type": "code",
   "execution_count": 18,
   "metadata": {},
   "outputs": [],
   "source": [
    "def data_generator_ctc_nolabel(data, labels, batch_size=1):              \n",
    "    \"\"\"\n",
    "    Yields the next training batch.\n",
    "    data is an array  [[[frame1_filename,frame2_filename,…frame16_filename],label1], [[frame1_filename,frame2_filename,…frame16_filename],label2],……….].\n",
    "    \"\"\"\n",
    "    num_samples = data.shape[0]\n",
    "    \n",
    "    while True:   \n",
    "        for offset in range(0, num_samples, batch_size):\n",
    "    #             print ('starting index: ', offset) \n",
    "            # Get the samples you'll use in this batch\n",
    "            batch_samples = data[offset:offset+batch_size]\n",
    "            label = labels[offset:offset+batch_size]\n",
    "            # Initialise X_train and y_train arrays for this batch\n",
    "            X_train = []\n",
    "            y_train = []\n",
    "            # For each example\n",
    "            for i in range(0,batch_samples.shape[0]):\n",
    "                X_train.append(batch_samples[i])\n",
    "                y_train.append(np.array([ord(y)%32 for y in label[i]]))\n",
    "\n",
    "            # Make sure they're numpy arrays (as opposed to lists)\n",
    "            X_train = np.array(X_train)\n",
    "            #X_train = np.rollaxis(X_train,1,4)\n",
    "            y_train = np.array(y_train)\n",
    "\n",
    "            # yield the next training batch            \n",
    "            yield X_train"
   ]
  },
  {
   "cell_type": "markdown",
   "metadata": {},
   "source": [
    "# ASL vs. Daily Model"
   ]
  },
  {
   "cell_type": "code",
   "execution_count": 183,
   "metadata": {},
   "outputs": [],
   "source": [
    "# convert detected labels\n",
    "ctc_tr3 = [num_to_ch(y) for y in y_asldaily_tr]\n",
    "ctc_ts3 = [num_to_ch(y) for y in y_asldaily_ts]"
   ]
  },
  {
   "cell_type": "code",
   "execution_count": 184,
   "metadata": {
    "scrolled": true
   },
   "outputs": [
    {
     "name": "stdout",
     "output_type": "stream",
     "text": [
      "Number of unique characters:  2\n",
      "Characters present:  ['A', 'B']\n"
     ]
    }
   ],
   "source": [
    "characters = set(char for label in ctc_tr3 for char in label)\n",
    "print(\"Number of unique characters: \", len(characters))\n",
    "print(\"Characters present: \", sorted(characters))\n",
    "# print('Labels: ' + str(np.unique(ctc_tr3)))\n",
    "batch_size = 1"
   ]
  },
  {
   "cell_type": "code",
   "execution_count": 185,
   "metadata": {},
   "outputs": [],
   "source": [
    "train_dataset = data_generator_ctc(x3train, ctc_tr3)\n",
    "validation_dataset = data_generator_ctc(x3test, ctc_ts3)\n",
    "predict_generator = data_generator_ctc_nolabel(x3test, ctc_ts3)"
   ]
  },
  {
   "cell_type": "code",
   "execution_count": 186,
   "metadata": {
    "scrolled": true
   },
   "outputs": [
    {
     "data": {
      "text/plain": [
       "(None, 128, 128, 3)"
      ]
     },
     "execution_count": 186,
     "metadata": {},
     "output_type": "execute_result"
    }
   ],
   "source": [
    "input_shape = (None,x3train[0].shape[1],x3train[0].shape[2],x3train[0].shape[3])\n",
    "input_shape"
   ]
  },
  {
   "cell_type": "code",
   "execution_count": 187,
   "metadata": {},
   "outputs": [],
   "source": [
    "class CTCLayer(Layer):\n",
    "    def __init__(self, name=None, **kwargs):\n",
    "        super().__init__(name=name)\n",
    "        self.loss_fn = keras.backend.ctc_batch_cost\n",
    "\n",
    "    def call(self, y_true, y_pred):\n",
    "        # Compute the training-time loss value and add it\n",
    "        # to the layer using `self.add_loss()`.\n",
    "        batch_len = tf.cast(tf.shape(y_true)[0], dtype=\"int64\")\n",
    "        input_length = tf.cast(tf.shape(y_pred)[1], dtype=\"int64\")\n",
    "        label_length = tf.cast(tf.shape(y_true)[1], dtype=\"int64\")\n",
    "\n",
    "        input_length = input_length * tf.ones(shape=(batch_len, 1), dtype=\"int64\")\n",
    "        label_length = label_length * tf.ones(shape=(batch_len, 1), dtype=\"int64\")\n",
    "\n",
    "        loss = self.loss_fn(y_true, y_pred, input_length, label_length)\n",
    "        self.add_loss(loss)\n",
    "\n",
    "        # At test time, just return the computed predictions\n",
    "        return y_pred"
   ]
  },
  {
   "cell_type": "code",
   "execution_count": 188,
   "metadata": {},
   "outputs": [],
   "source": [
    "def ctc_md():\n",
    "    with tf.device('/gpu:2'):\n",
    "        \n",
    "        inputlayer = Input(shape = input_shape, name=\"image\")\n",
    "        labels = Input(name=\"label\", shape=(None,))#, dtype=\"float32\")\n",
    "        \n",
    "        x = TimeDistributed(Conv2D(8, kernel_size=(3, 3), padding='same', activation='relu'))(inputlayer)\n",
    "        x = TimeDistributed(MaxPooling2D(pool_size=(2,2)))(x)\n",
    "        x = TimeDistributed(Conv2D(8, kernel_size=(3, 3), padding='same', activation='relu'))(x)\n",
    "        x = TimeDistributed(MaxPooling2D(pool_size=(2,2)))(x)\n",
    "        x = TimeDistributed(Conv2D(8, kernel_size=(3, 3), padding='same', activation='relu'))(x)\n",
    "        x = TimeDistributed(MaxPooling2D(pool_size=(2,2)))(x)\n",
    "        x = TimeDistributed(MaxPooling2D(pool_size=(8,1)))(x)\n",
    "#         x = TimeDistributed(Flatten())(x)\n",
    "        new_shape = (-1, (128//2**3) *8)\n",
    "        x = Reshape(target_shape=new_shape, name=\"reshape\")(x)\n",
    "#         x = Dense(64, activation=\"relu\", name=\"dense1\")(x)\n",
    "#         x = Dropout(0.2)(x)\n",
    "#         x = Bidirectional(LSTM(128, dropout=0.25, return_sequences=True))(x)\n",
    "        x = Bidirectional(LSTM(64, dropout=0.25, return_sequences=True))(x)\n",
    "        \n",
    "        x = Dense(len(characters) + 2, activation='softmax', name=\"dense2\")(x)\n",
    "        # Add CTC layer for calculating CTC loss at each step\n",
    "        output = CTCLayer(name=\"ctc_loss\")(labels, x)\n",
    "    \n",
    "        model = keras.Model(inputs = [inputlayer, labels], outputs = [output], name=\"ctc_model_v1\")\n",
    "        opt = Adam(lr=1e-4, decay=1e-3 / 200)\n",
    "        \n",
    "        model.compile(optimizer=opt)\n",
    "        return model"
   ]
  },
  {
   "cell_type": "code",
   "execution_count": 189,
   "metadata": {},
   "outputs": [
    {
     "name": "stdout",
     "output_type": "stream",
     "text": [
      "Model: \"ctc_model_v1\"\n",
      "_____________________________________________________________________________________________________________________________\n",
      "Layer (type)                             Output Shape               Param #        Connected to                              \n",
      "=============================================================================================================================\n",
      "image (InputLayer)                       [(None, None, 128, 128, 3) 0                                                        \n",
      "_____________________________________________________________________________________________________________________________\n",
      "time_distributed_63 (TimeDistributed)    (None, None, 128, 128, 8)  224            image[0][0]                               \n",
      "_____________________________________________________________________________________________________________________________\n",
      "time_distributed_64 (TimeDistributed)    (None, None, 64, 64, 8)    0              time_distributed_63[0][0]                 \n",
      "_____________________________________________________________________________________________________________________________\n",
      "time_distributed_65 (TimeDistributed)    (None, None, 64, 64, 8)    584            time_distributed_64[0][0]                 \n",
      "_____________________________________________________________________________________________________________________________\n",
      "time_distributed_66 (TimeDistributed)    (None, None, 32, 32, 8)    0              time_distributed_65[0][0]                 \n",
      "_____________________________________________________________________________________________________________________________\n",
      "time_distributed_67 (TimeDistributed)    (None, None, 32, 32, 8)    584            time_distributed_66[0][0]                 \n",
      "_____________________________________________________________________________________________________________________________\n",
      "time_distributed_68 (TimeDistributed)    (None, None, 16, 16, 8)    0              time_distributed_67[0][0]                 \n",
      "_____________________________________________________________________________________________________________________________\n",
      "time_distributed_69 (TimeDistributed)    (None, None, 2, 16, 8)     0              time_distributed_68[0][0]                 \n",
      "_____________________________________________________________________________________________________________________________\n",
      "reshape (Reshape)                        (None, None, 128)          0              time_distributed_69[0][0]                 \n",
      "_____________________________________________________________________________________________________________________________\n",
      "bidirectional_9 (Bidirectional)          (None, None, 128)          98816          reshape[0][0]                             \n",
      "_____________________________________________________________________________________________________________________________\n",
      "label (InputLayer)                       [(None, None)]             0                                                        \n",
      "_____________________________________________________________________________________________________________________________\n",
      "dense2 (Dense)                           (None, None, 4)            516            bidirectional_9[0][0]                     \n",
      "_____________________________________________________________________________________________________________________________\n",
      "ctc_loss (CTCLayer)                      (None, None, 4)            0              label[0][0]                               \n",
      "                                                                                   dense2[0][0]                              \n",
      "=============================================================================================================================\n",
      "Total params: 100,724\n",
      "Trainable params: 100,724\n",
      "Non-trainable params: 0\n",
      "_____________________________________________________________________________________________________________________________\n"
     ]
    }
   ],
   "source": [
    "model = ctc_md()\n",
    "model.summary(line_length=125)"
   ]
  },
  {
   "cell_type": "code",
   "execution_count": 190,
   "metadata": {},
   "outputs": [],
   "source": [
    "epochs = 100\n",
    "early_stopping_patience = 10\n",
    "# Add early stopping\n",
    "early_stopping = keras.callbacks.EarlyStopping(\n",
    "    monitor=\"val_loss\", patience=early_stopping_patience, restore_best_weights=True\n",
    ")"
   ]
  },
  {
   "cell_type": "code",
   "execution_count": 191,
   "metadata": {},
   "outputs": [
    {
     "data": {
      "image/png": "[encoded data removed]",
      "text/plain": [
       "<Figure size 864x576 with 1 Axes>"
      ]
     },
     "metadata": {
      "needs_background": "light"
     },
     "output_type": "display_data"
    },
    {
     "name": "stdout",
     "output_type": "stream",
     "text": [
      "Loss\n",
      "\ttraining         \t (min:    0.501, max:   51.167, cur:    0.674)\n",
      "\tvalidation       \t (min:    0.727, max:   45.240, cur:    0.860)\n",
      "\b\b\b\b\b\b\b\b\b\b\b\b\b\b\b\b\b\b\b\b\b\b\b\b\b\b\b\b\b\b\b\b\b\b\b\b\b\b\b\b\b\b\b\b\b\b\b\b\b\b\b\b\b\b\b\b\b\b\b\b\b\b\b\b\b\b\b\r",
      "1154/1154 [==============================] - 20s 17ms/step - loss: 0.6742 - val_loss: 0.8605\n"
     ]
    }
   ],
   "source": [
    "history = model.fit(\n",
    "    train_dataset,\n",
    "    validation_data=validation_dataset,\n",
    "    batch_size = 1,\n",
    "    epochs=epochs,\n",
    "    steps_per_epoch = len(x3train), validation_steps = len(x3test),\n",
    "    callbacks=[early_stopping, PlotLossesKerasTF()],\n",
    "    verbose = 1\n",
    ")"
   ]
  },
  {
   "cell_type": "code",
   "execution_count": 192,
   "metadata": {},
   "outputs": [],
   "source": [
    "# save model\n",
    "MODEL_FILE = \"Models/ctc asl daily md.json\" # save path\n",
    "WEIGHT_FILE =\"Models/ctc asl daily md.h5\" # save path\n",
    "\n",
    "model_json = model.to_json()\n",
    "with open(MODEL_FILE, \"w\") as json_file:\n",
    "    json_file.write(model_json)\n",
    "model.save_weights(WEIGHT_FILE)"
   ]
  },
  {
   "cell_type": "code",
   "execution_count": 193,
   "metadata": {},
   "outputs": [],
   "source": [
    "# Get the prediction model by extracting layers till the output layer\n",
    "prediction_model = keras.models.Model(\n",
    "    model.get_layer(name=\"image\").input, model.get_layer(name=\"dense2\").output\n",
    ")\n",
    "# prediction_model.summary()"
   ]
  },
  {
   "cell_type": "code",
   "execution_count": 194,
   "metadata": {},
   "outputs": [],
   "source": [
    "pred = [np.argmax(np.squeeze(prediction_model.predict(next(predict_generator))),-1) for i in range(len(x3test))]"
   ]
  },
  {
   "cell_type": "code",
   "execution_count": 195,
   "metadata": {},
   "outputs": [
    {
     "name": "stdout",
     "output_type": "stream",
     "text": [
      "AAAAAAAAAA\n"
     ]
    }
   ],
   "source": [
    "# best path decoding\n",
    "pred_labels = []\n",
    "\n",
    "cnt = 1\n",
    "for p in pred:\n",
    "    label = ''\n",
    "    for num in p:\n",
    "        if chr(ord('@')+num) == 'C':# or chr(ord('@')+num) == 'A':\n",
    "            continue\n",
    "        label = label + chr(ord('@')+num)\n",
    "    pred_labels.append(label)\n",
    "pred_labels = np.array(pred_labels)  \n",
    "print(pred_labels[2])"
   ]
  },
  {
   "cell_type": "code",
   "execution_count": 56,
   "metadata": {
    "collapsed": true
   },
   "outputs": [
    {
     "name": "stdout",
     "output_type": "stream",
     "text": [
      "1. Predicted: AAAAAAAAAAAAAAAAAAA | AAAAAAAAAAAAAAAAAAA :Original\n",
      "2. Predicted: AAAAAAAAAAAA | AAAAAAAAAAAA :Original\n",
      "3. Predicted: AAAAAAAAAA | AAAAAAAAAA :Original\n",
      "4. Predicted: BBBBBBBBB | BBBBBBBBB :Original\n",
      "5. Predicted: AAAAABBBBBBBBBBBBBA | AAAAABBBBBBBBBBBBBA :Original\n",
      "6. Predicted: AABBBBBBBBBBBBB | AABBBBBBBBBBBBB :Original\n",
      "7. Predicted: AAAAAAAAAAA | AAAAAAAAAAA :Original\n",
      "8. Predicted: AAAAAAAAAAAAAAAAA | AAAAAAAAAAAAAAAAA :Original\n",
      "9. Predicted: AAAAAAAAAAAAAA | AAAAAAAAAAAAAA :Original\n",
      "10. Predicted: AAAAAAAAAA | AAAAAAAAAA :Original\n",
      "11. Predicted: ABBBBBBBBBA | ABBBBBBBBBA :Original\n",
      "12. Predicted: AABBBBBBBBBA | AAABBBBBBBBB :Original\n",
      "13. Predicted: AABBBBBBBBBBBA | AABBBBBBBBBBBA :Original\n",
      "14. Predicted: AAAAAAAAAAAA | BBBAAAAAAAAA :Original\n",
      "15. Predicted: AAAAAAAAAAAAAA | AAAAAAAAAAAAAA :Original\n",
      "16. Predicted: AAAAAAAAAAAAA | AAAAAAAAAAAAA :Original\n",
      "17. Predicted: AAAAAAAAAAA | AAAAAAAAAAA :Original\n",
      "18. Predicted: BBBBBBBBBBB | BBBBBBBBBBB :Original\n",
      "19. Predicted: AABBBBBBBBBBA | AABBBBBBBBBBA :Original\n",
      "20. Predicted: AABBBBBBBBBBA | AABBBBBBBBBBA :Original\n",
      "21. Predicted: AAAAAAAAAABAA | AAAAAAAAAAAAA :Original\n",
      "22. Predicted: AAAAAAAAAA | AAAAAAAAAA :Original\n",
      "23. Predicted: AAAAAAAAAAAAAAAAAAAAAAAAAAAAA | AAAAAAAAAAAAAAAAAAAAAAAAAAAAA :Original\n",
      "24. Predicted: BBBBBB | BBBBBA :Original\n",
      "25. Predicted: ABBBBBBBBBBBBBBBBAAAABBBBBBBB | ABBBBBBBBBBBBBBBBAAAABBBBBBBB :Original\n",
      "26. Predicted: BBA | BBA :Original\n",
      "27. Predicted: AAA | AAA :Original\n",
      "28. Predicted: AAAAAAA | AAAAAAA :Original\n",
      "29. Predicted: AAAAAAAAAAAAAAAAAA | AAAAAAAAAAAAAAAAAA :Original\n",
      "30. Predicted: AAAAAAAAAAAAAAAAAAAAAA | AAAAAAAAAAAAAAAAAAAAAA :Original\n",
      "31. Predicted: AABBBBBBBBBBA | AABBBBBBBBBBA :Original\n",
      "32. Predicted: AABBBBBBBBBBA | AABBBBBBBBBBA :Original\n",
      "33. Predicted: AAABBBBBBBBBBA | AAABBBBBBBBBBA :Original\n",
      "34. Predicted: AAAAAAAA | AAAAAAAA :Original\n",
      "35. Predicted: AAAAAAAAAA | AAAAAAAAAA :Original\n",
      "36. Predicted: AAAAAAAAAAAAAAAAAAAAAAAAAAAA | AAAAAAAAAAAAAAAAAAAAAAAAAAAA :Original\n",
      "37. Predicted: BBBBBBBBBBB | ABBBBBBBBBA :Original\n",
      "38. Predicted: AABBBBBBBBBBA | AAABBBBBBBBBA :Original\n",
      "39. Predicted: AAAABBBBBBBBBB | AAAABBBBBBBBBB :Original\n",
      "40. Predicted: AAAAAAAAAAAAA | AAAAAAAAAAAAA :Original\n",
      "41. Predicted: AAAAAAAAAAAAAAA | AAAAAAAAAAAAAAA :Original\n",
      "42. Predicted: AAAAAAAAAAAAAAAAAAAAAA | AAAAAAAAAAAAAAAAAAAAAA :Original\n",
      "43. Predicted: BBBBB | BBBBA :Original\n",
      "44. Predicted: AABBBBBBBBBBBBAA | AABBBBBBBBBBBBAA :Original\n",
      "45. Predicted: AAABBBBBBBBBBBBBBA | AAABBBBBBBBBBBBBAA :Original\n",
      "46. Predicted: AAAAAAAAAAAAA | AAAAAAAAAAAAA :Original\n",
      "47. Predicted: AAAAAAAAAAAAAAAAAA | AAAAAAAAAAAAAAAAAA :Original\n",
      "48. Predicted: AAAAAAAAAAAAAAAAAAAAAAAAA | AAAAAAAAAAAAAAAAAAAAAAAAA :Original\n",
      "49. Predicted: BBBBBBBBBBBB | BBBBBBBBBBBB :Original\n",
      "50. Predicted: AABBBBBBBBBA | AABBBBBBBBBA :Original\n",
      "51. Predicted: AAABBBBBBBBBBB | AAABBBBBBBBBBA :Original\n",
      "52. Predicted: AAAAAAA | AAAAAAA :Original\n",
      "53. Predicted: AAAAAAAAAAAAAAA | AAAAAAAAAAAAAAA :Original\n",
      "54. Predicted: AAAAAAAAAAAAAAAAAAAAAAAAA | AAAAAAAAAAAAAAAAAAAAAAAAA :Original\n",
      "55. Predicted: ABBBBBBBBBAA | ABBBBBBBBBAA :Original\n",
      "56. Predicted: AABBBBBBBBBA | AABBBBBBBBBA :Original\n",
      "57. Predicted: AABBBBBBBBBBBA | AABBBBBBBBBBBB :Original\n",
      "58. Predicted: AAA | AAA :Original\n",
      "59. Predicted: AAAAAA | AAAAAA :Original\n",
      "60. Predicted: AAAAAAAAAA | AAAAAAAAAA :Original\n",
      "61. Predicted: AAAAAAAAAAAAAAAAAAAAA | AAAAAAAAAAAAAAAAAAAAA :Original\n",
      "62. Predicted: AABBBBBBBBBBBBBBBBA | AABBBBBBBBBBBBBBBBA :Original\n",
      "63. Predicted: BBBBBBBBBBBBB | BBBBBBBBBBBBB :Original\n",
      "64. Predicted: ABBBBBBBBBBBBA | ABBBBBBBBBBBBA :Original\n",
      "65. Predicted: AAA | AAA :Original\n",
      "66. Predicted: AAAAAAAAAA | AAAAAAAAAA :Original\n",
      "67. Predicted: AAAAAAAAAAAAAAAAAAAAAAA | AAAAAAAAAAAAAAAAAAAAAAA :Original\n",
      "68. Predicted: AAAAAAAAAAAAAAAAAAAA | AAAAAAAAAAAAAAAAAAAA :Original\n",
      "69. Predicted: ABBBBBBBBB | ABBBBBBBBA :Original\n",
      "70. Predicted: AAABBBBBBBBBBBBBA | AAABBBBBBBBBBBBBA :Original\n",
      "71. Predicted: AABBBBBBBBBBBB | AABBBBBBBBBBBB :Original\n",
      "72. Predicted: AAAAAAAAAAA | AAAAAAAAAAA :Original\n",
      "73. Predicted: AAAAAAAAAAAAAA | AAAAAAAAAAAAAA :Original\n",
      "74. Predicted: AAAAAAAAAAAAAAAAAAAAAAAA | AAAAAAAAAAAAAAAAAAAAAAAA :Original\n",
      "75. Predicted: BBBBBBBBBBBBBBA | BBBBBBBBBBBBBAA :Original\n",
      "76. Predicted: BBBBBBBBBBAAA | BBBBBBBBBBAAA :Original\n",
      "77. Predicted: AAAAABBBBBBBB | AAAAABBBBBBBB :Original\n",
      "78. Predicted: BBBAA | BBBAA :Original\n",
      "79. Predicted: AAA | AAA :Original\n",
      "80. Predicted: AAAAAA | AAAAAA :Original\n",
      "81. Predicted: AAAAAAAAAAAAA | AAAAAAAAAAAAA :Original\n",
      "82. Predicted: AAAAAAAAAAAAAAAAAAAAAAAA | AAAAAAAAAAAAAAAAAAAAAAAA :Original\n",
      "83. Predicted: AABBBBBBBBBA | AAABBBBBBBBA :Original\n",
      "84. Predicted: ABBBBBBBBBA | AABBBBBBBBA :Original\n",
      "85. Predicted: AABBBBBBBBBBBA | AABBBBBBBBBBBB :Original\n",
      "86. Predicted: AAAAAAAAAA | AAAAAAAAAA :Original\n",
      "87. Predicted: AAAAAAAAAAAAAAAA | AAAAAAAAAAAAAAAA :Original\n",
      "88. Predicted: AAAAAAAAAAAA | AAAAAAAAAAAA :Original\n",
      "89. Predicted: AAAAAAAAAAAAA | AAAAAAAAAAAAA :Original\n",
      "90. Predicted: ABBBBBBBBBBA | ABBBBBBBBBBA :Original\n",
      "91. Predicted: AABBBBBBBBBA | AABBBBBBBBBA :Original\n",
      "92. Predicted: AABBBBBBBBBA | AABBBBBBBBBA :Original\n",
      "93. Predicted: AAAAAAAAAA | AAAAAAAAAA :Original\n",
      "94. Predicted: AAAAAAAAAAAAAAAAAAAA | AAAAAAAAAAAAAAAAAAAA :Original\n",
      "95. Predicted: AAAAAAAAAAAAAAAAAAAAAAAA | AAAAAAAAAAAAAAAAAAAAAAAA :Original\n",
      "96. Predicted: AABBBBBBBBBB | ABBBBBBBBBBB :Original\n",
      "97. Predicted: AABBBBBBBBBBBB | AABBBBBBBBBBBA :Original\n",
      "98. Predicted: AABBBBBBBBBBB | ABBBBBBBBBBBB :Original\n",
      "99. Predicted: AAAAAAAA | AAAAAAAA :Original\n",
      "100. Predicted: AAAAAAAAAAAAAAAA | AAAAAAAAAAAAAAAA :Original\n",
      "101. Predicted: AAAAAAAAAAAAAAAAAAA | AAAAAAAAAAAAAAAAAAA :Original\n",
      "102. Predicted: AAABBBBBBBBBA | AAABBBBBBBBBB :Original\n",
      "103. Predicted: AAABBBBBBBBBBA | AAABBBBBBBBBAA :Original\n",
      "104. Predicted: AABBBBBBBBBBA | AABBBBBBBBBAA :Original\n",
      "105. Predicted: AAAAAAAAA | AAAAAAAAA :Original\n",
      "106. Predicted: AAAAAAAAAAA | AAAAAAAAAAA :Original\n",
      "107. Predicted: AAAAAAAAAAA | AAAAAAAAAAA :Original\n",
      "108. Predicted: AAAAAAAAAAAA | AAAAAAAAAAAA :Original\n",
      "109. Predicted: BBBBBBBBBAA | BBBBBBBBBAA :Original\n",
      "110. Predicted: AAABBBBBBBBBBBBA | AAABBBBBBBBBBBBA :Original\n",
      "111. Predicted: AABBBBBBBBBBBB | AABBBBBBBBBBBB :Original\n",
      "112. Predicted: AAAAAAAAAAAAA | AAAAAAAAAAAAA :Original\n",
      "113. Predicted: AAAAAAAAAAAAAAAAAAA | AAAAAAAAAAAAAAAAAAA :Original\n",
      "114. Predicted: AAAAAAAAAAAAAAAAAAAAAAAAA | AAAAAAAAAAAAAAAAAAAAAAAAA :Original\n",
      "115. Predicted: BBBBBBBBBBA | BBBBBBBBBBA :Original\n",
      "116. Predicted: AAABBBBBBBBBBBA | AAABBBBBBBBBBBB :Original\n",
      "117. Predicted: AABBBBBBBBBBBBBA | AABBBBBBBBBBBBBA :Original\n",
      "118. Predicted: AAAAAAAAAAA | AAAAAAAAAAA :Original\n",
      "119. Predicted: AAAAAAAAAAAAAAAAAA | AAAAAAAAAAAAAAAAAA :Original\n",
      "120. Predicted: AAAAAAAAAAAAAAAAAAAAAA | AAAAAAAAAAAAAAAAAAAAAA :Original\n",
      "121. Predicted: ABBBBBBBBBBBA | ABBBBBBBBBBBA :Original\n",
      "122. Predicted: AABBBBBBBBBBBA | AAABBBBBBBBBBA :Original\n",
      "123. Predicted: AAABBBBBBBBBB | AAABBBBBBBBBA :Original\n",
      "124. Predicted: AAAAAAAAAAAA | AAAAAAAAAAAA :Original\n",
      "125. Predicted: AAAAAAAAAAAA | AAAAAAAAAAAA :Original\n",
      "126. Predicted: AAAAAAAAAAAA | AAAAAAAAAAAA :Original\n",
      "127. Predicted: AAAAAAAAAAA | AAAAAAAAAAA :Original\n",
      "128. Predicted: ABBBBBBBBBAA | AABBBBBBBBAA :Original\n",
      "129. Predicted: AABBBBBBBBBA | AABBBBBBBBBA :Original\n",
      "130. Predicted: AABBBBBBBBB | AABBBBBBBBB :Original\n",
      "131. Predicted: AAAAAAAAAAAA | AAAAAAAAAAAA :Original\n",
      "132. Predicted: AAAAAAAAAAAAAAA | AAAAAAAAAAAAAAA :Original\n",
      "133. Predicted: AAAAAAAAAAAAAAAAAAA | AAAAAAAAAAAAAAAAAAA :Original\n",
      "134. Predicted: AABBBBBBBBBBA | AABBBBBBBBBBB :Original\n",
      "135. Predicted: AABBBBBBBBBBBBBBAAA | AABBBBBBBBBBBBBBBAA :Original\n",
      "136. Predicted: ABBBBBBBBBBB | ABBBBBBBBBBB :Original\n",
      "137. Predicted: BBBBB | BBBBB :Original\n",
      "138. Predicted: AAAAAAAAA | AAAAAAAAA :Original\n",
      "139. Predicted: AAAAAAAAAA | AAAAAAAAAA :Original\n",
      "140. Predicted: AAAAAAAAAAAAAAAAAAAAAAAAAAA | AAAAAAAAAAAAAAAAAAAAAAAAAAA :Original\n",
      "141. Predicted: AABBBBBBBBB | AABBBBBBBBB :Original\n",
      "142. Predicted: AAABBBBBBBBBBBA | AAABBBBBBBBBBBB :Original\n",
      "143. Predicted: AABBBBBBBB | AABBBBBBBB :Original\n",
      "144. Predicted: AAAAAAAAAA | AAAAAAAAAA :Original\n",
      "145. Predicted: AAAAAAAAAAAAAAAAAAAA | AAAAAAAAAAAAAAAAAAAA :Original\n",
      "146. Predicted: AAAAAAAAAAAA | AAAAAAAAAAAA :Original\n",
      "147. Predicted: BBBBBBBBBA | BBBBBBBBBA :Original\n",
      "148. Predicted: AAABBBBBBBBBBA | AAABBBBBBBBBAA :Original\n",
      "149. Predicted: AAAAABBBBBBBBB | AAAAABBBBBBBBB :Original\n",
      "150. Predicted: AAAAAAAA | AAAAAAAA :Original\n",
      "151. Predicted: AAAAAAAAAAAAAAAAA | AAAAAAAAAAAAAAAAA :Original\n",
      "152. Predicted: AAAAAAAAAAAAAAAAAAAAAAA | AAAAAAAAAAAAAAAAAAAAAAA :Original\n",
      "153. Predicted: AABBBBBBBBBBB | AABBBBBBBBBBB :Original\n",
      "154. Predicted: AABBBBBBBBBBA | AABBBBBBBBBBA :Original\n",
      "155. Predicted: AAABBBBBBBBBBBB | AAABBBBBBBBBBBA :Original\n",
      "156. Predicted: AAAAAAAAA | AAAAAAAAA :Original\n",
      "157. Predicted: AAAAAAAAAAAAAAAAAA | AAAAAAAAAAAAAAAAAA :Original\n",
      "158. Predicted: AAAAAAAAAAAA | AAAAAAAAAAAA :Original\n",
      "159. Predicted: AAAAAAAAAAA | AAAAAAAAAAA :Original\n",
      "160. Predicted: ABBBBBBBBB | BBBBBBBBBB :Original\n",
      "161. Predicted: AABBBBBBBBB | AABBBBBBBBB :Original\n",
      "162. Predicted: AAABBBBBBBBB | AAABBBBBBBBB :Original\n",
      "163. Predicted: AAAAAAAAAA | AAAAAAAAAA :Original\n",
      "164. Predicted: AAAAAAAAAAAAAAAAAAAAA | AAAAAAAAAAAAAAAAAAAAA :Original\n",
      "165. Predicted: AAAAAAAAAAAAAAAAAAAAAAAA | AAAAAAAAAAAAAAAAAAAAAAAA :Original\n",
      "166. Predicted: BBBBBBBBBB | ABBBBBBBBB :Original\n",
      "167. Predicted: AAABBBBBBBBBB | AABBBBBBBBBBA :Original\n",
      "168. Predicted: AAABBBBBBBBBBA | AAABBBBBBBBBBA :Original\n",
      "169. Predicted: AAAAAAAAA | AAAAAAAAA :Original\n",
      "170. Predicted: AAAAAAAAAAAAAAAAAA | AAAAAAAAAAAAAAAAAA :Original\n",
      "171. Predicted: AAAAAAAAAAAAAA | AAAAAAAAAAAAAA :Original\n",
      "172. Predicted: BBBBBBBBB | ABBBBBBBB :Original\n",
      "173. Predicted: AAABBBBBBBBBBA | AAABBBBBBBBBAA :Original\n",
      "174. Predicted: AAABBBBBBBBBA | AAABBBBBBBBBA :Original\n",
      "175. Predicted: AAAAAAAAA | AAAAAAAAA :Original\n",
      "176. Predicted: AAAAAAAAAAAAAA | AAAAAAAAAAAAAA :Original\n",
      "177. Predicted: AAAAAAAAAA | AAAAAAAAAA :Original\n",
      "178. Predicted: AAABAAAAAAA | AAAAAAAAAAA :Original\n",
      "179. Predicted: BBBBBBBBBBA | BBBBBBBBBBA :Original\n",
      "180. Predicted: AABBBBBBBBBBBBBAA | AAABBBBBBBBBBBBAA :Original\n",
      "181. Predicted: AABBBBBBBBBBBBA | AABBBBBBBBBBBBA :Original\n",
      "182. Predicted: AAAAAAAAAAAA | AAAAAAAAAAAA :Original\n",
      "183. Predicted: AAAAAAAAAAAAAAAAAAAA | AAAAAAAAAAAAAAAAAAAA :Original\n",
      "184. Predicted: AAAAAAAAAAAAAAAAAAAAAAAA | AAAAAAAAAAAAAAAAAAAAAAAA :Original\n",
      "185. Predicted: BBBBBB | BBBBBA :Original\n",
      "186. Predicted: AAABBBBBBBBBA | AAAABBBBBBBBB :Original\n",
      "187. Predicted: AABBBBBBBBBB | AABBBBBBBBBB :Original\n",
      "188. Predicted: AAAAAA | AAAAAA :Original\n",
      "189. Predicted: AAAAAAAAA | AAAAAAAAA :Original\n",
      "190. Predicted: AAAAAAAAAAAAAAAAAAAAAAAAA | AAAAAAAAAAAAAAAAAAAAAAAAA :Original\n",
      "191. Predicted: AABBBBBBBBBBBB | AABBBBBBBBBBBB :Original\n",
      "192. Predicted: AAABBBBBBBBBBBBA | AAABBBBBBBBBBBBA :Original\n",
      "193. Predicted: AABBBBBBBBBB | ABBBBBBBBBBB :Original\n",
      "194. Predicted: BBBBBA | BBBBBA :Original\n",
      "195. Predicted: AAAAAAAAA | AAAAAAAAA :Original\n",
      "196. Predicted: AAAAAAAAAAAAAAAAA | AAAAAAAAAAAAAAAAA :Original\n",
      "197. Predicted: AAAAAAAAAA | AAAAAAAAAA :Original\n",
      "198. Predicted: AABBBBBBBBBBBA | AAABBBBBBBBBBA :Original\n",
      "199. Predicted: AABBBBBBBBBA | AABBBBBBBBBA :Original\n",
      "200. Predicted: AAABBBBBBBBBBA | AAABBBBBBBBBAA :Original\n",
      "201. Predicted: AAAAAAAAAAAA | AAAAAAAAAAAA :Original\n",
      "202. Predicted: AAAAAAAAAAAAAAAAAAA | AAAAAAAAAAAAAAAAAAA :Original\n",
      "203. Predicted: AAAAAAA | AAAAAAA :Original\n",
      "204. Predicted: AABBBBBBBBBBBBBA | AABBBBBBBBBBBBBA :Original\n",
      "205. Predicted: AABBBBBBBBBBBA | AABBBBBBBBBBBA :Original\n",
      "206. Predicted: AABBBBBBBBBBBBB | ABBBBBBBBBBBBBB :Original\n",
      "207. Predicted: AAAAAAAAAAAA | AAAAAAAAAAAA :Original\n",
      "208. Predicted: AAAAAAAAAAAAAAA | AAAAAAAAAAAAAAA :Original\n",
      "209. Predicted: AAAAAAAAAAAAAAAAAAAAAA | AAAAAAAAAAAAAAAAAAAAAA :Original\n",
      "210. Predicted: BBBBBBBBBBA | BBBBBBBBBAA :Original\n",
      "211. Predicted: AABBBBBBBBBB | AAABBBBBBBBB :Original\n",
      "212. Predicted: AAABBBBBBBBB | AAABBBBBBBBB :Original\n",
      "213. Predicted: AAAAAAAAAAAAAA | AAAAAAAAAAAAAA :Original\n",
      "214. Predicted: AAAAAAAAAAAAAAAA | AAAAAAAAAAAAAAAA :Original\n",
      "215. Predicted: AAAAAAAAAAAAAAAAAAAAAAAA | AAAAAAAAAAAAAAAAAAAAAAAA :Original\n",
      "216. Predicted: ABBBBBBB | ABBBBBBB :Original\n",
      "217. Predicted: AABBBBBBBBBBBBA | AABBBBBBBBBBBBA :Original\n",
      "218. Predicted: AAABBBBBBBBBBBB | AAABBBBBBBBBBBB :Original\n",
      "219. Predicted: BBA | BAA :Original\n",
      "220. Predicted: AAAAAAA | AAAAAAA :Original\n",
      "221. Predicted: AAAAAAAAAAAAAAAAA | AAAAAAAAAAAAAAAAA :Original\n",
      "222. Predicted: AAAAAAAAAAAAAAAAAAAAAA | AAAAAAAAAAAAAAAAAAAAAA :Original\n",
      "223. Predicted: ABBBBBBBBBB | AABBBBBBBBB :Original\n",
      "224. Predicted: AABBBBBBBBBA | AABBBBBBBBBA :Original\n",
      "225. Predicted: AAABBBBBBBBBB | AABBBBBBBBBBB :Original\n",
      "226. Predicted: AAAAAAAAAAAA | AAAAAAAAAAAA :Original\n",
      "227. Predicted: AAAAAAAAAA | AAAAAAAAAA :Original\n",
      "228. Predicted: AAAAAAAAAAAA | AAAAAAAAAAAA :Original\n",
      "229. Predicted: AAAAAAAAAA | AAAAAAAAAA :Original\n",
      "230. Predicted: BBBBBBBBBBA | AABBBBBBBAA :Original\n",
      "231. Predicted: AAABBBBBBBBBBBA | AAABBBBBBBBBBBA :Original\n",
      "232. Predicted: AAABBBBBBBBBBBA | AAABBBBBBBBBBAA :Original\n",
      "233. Predicted: AAAAAAAAAAA | AAAAAAAAAAA :Original\n",
      "234. Predicted: AAAAAAAAAAAAAAAAA | AAAAAAAAAAAAAAAAA :Original\n",
      "235. Predicted: AAAAAAAAAAAAA | AAAAAAAAAAAAA :Original\n",
      "236. Predicted: ABBBBBBBBBBA | ABBBBBBBBBBA :Original\n",
      "237. Predicted: AABBBBBBBBBBB | ABBBBBBBBBBBB :Original\n",
      "238. Predicted: AABBBBBBBBBBBB | AABBBBBBBBBBBB :Original\n",
      "239. Predicted: AAAAAAAAAAAA | AAAAAAAAAAAA :Original\n",
      "240. Predicted: AAAAAAAAAAAAAAAAAA | AAAAAAAAAAAAAAAAAA :Original\n",
      "241. Predicted: AAAAAAAAAAAAAAAAAAAAAAA | AAAAAAAAAAAAAAAAAAAAAAA :Original\n",
      "242. Predicted: BBBBBBBBB | BBBBBBBBB :Original\n",
      "243. Predicted: AABBBBBBBBBA | AABBBBBBBBBA :Original\n",
      "244. Predicted: AABBBBBBBBBB | AABBBBBBBBBB :Original\n",
      "245. Predicted: AAAAAAAAA | AAAAAAAAA :Original\n",
      "246. Predicted: AAAAAAAAAA | AAAAAAAAAA :Original\n",
      "247. Predicted: AAAAAAAAAAAAAAAAAAAAAAAAAA | AAAAAAAAAAAAAAAAAAAAAAAAAA :Original\n",
      "248. Predicted: AABBBBBBBB | AABBBBBBBB :Original\n",
      "249. Predicted: BBBBBBA | BBBBAAA :Original\n",
      "250. Predicted: AAABBBBBBBBBBBBA | AAABBBBBBBBBBBAA :Original\n",
      "251. Predicted: BAABBBBBBBBBBBA | AAABBBBBBBBBBBA :Original\n",
      "252. Predicted: AAAAAA | AAAAAA :Original\n",
      "253. Predicted: AAAAAAAAAAAAAAAAAAAA | AAAAAAAAAAAAAAAAAAAA :Original\n",
      "254. Predicted: AAAAAAAAAAAA | AAAAAAAAAAAA :Original\n",
      "255. Predicted: BBBBBBBBBBA | ABBBBBBBBBA :Original\n",
      "256. Predicted: AABBBBBBBBBBAA | AABBBBBBBBBBAA :Original\n",
      "257. Predicted: AABBBBBBBBBBA | AABBBBBBBBBBA :Original\n",
      "258. Predicted: AAAAAAAAA | AAAAAAAAA :Original\n",
      "259. Predicted: AAAAAAAAAAAAAAAA | AAAAAAAAAAAAAAAA :Original\n",
      "260. Predicted: AAAAAAAAAAAAAAAAAAAAAAA | AAAAAAAAAAAAAAAAAAAAAAA :Original\n",
      "261. Predicted: ABBBBBBBBBBA | ABBBBBBBBBBA :Original\n",
      "262. Predicted: AABBBBBBBBBBA | AABBBBBBBBBBA :Original\n",
      "263. Predicted: AAABBBBBBBBBBA | AAABBBBBBBBBBA :Original\n",
      "264. Predicted: AAAAAAAAAAAA | AAAAAAAAAAAA :Original\n",
      "265. Predicted: AAAAAAAAAAAAAAAAA | AAAAAAAAAAAAAAAAA :Original\n",
      "266. Predicted: AAAAAAAAAAAA | AAAAAAAAAAAA :Original\n",
      "267. Predicted: AAAAAAAAA | AAAAAAAAA :Original\n",
      "268. Predicted: AABBBBBBBBBBA | AABBBBBBBBBBA :Original\n",
      "269. Predicted: AABBBBBBBBBB | AABBBBBBBBBB :Original\n",
      "270. Predicted: AABBBBBBBBBBA | AABBBBBBBBBBA :Original\n",
      "271. Predicted: AAA | AAA :Original\n",
      "272. Predicted: AAAAAAAA | AAAAAAAA :Original\n"
     ]
    }
   ],
   "source": [
    "for idx in range(len(ctc_ts3)):\n",
    "    print(str(idx+1) + '. Predicted: ' + pred_labels[idx] + ' | ' + ctc_ts3[idx] + ' :Original')"
   ]
  },
  {
   "cell_type": "code",
   "execution_count": 196,
   "metadata": {
    "scrolled": true
   },
   "outputs": [],
   "source": [
    "from collections import Counter\n",
    "mode_orig = [max(Counter(y)) for y in ctc_ts3]\n",
    "mode_pred = [max(Counter(y)) if len(y) != 0 else 'A' for y in pred_labels]"
   ]
  },
  {
   "cell_type": "code",
   "execution_count": 197,
   "metadata": {},
   "outputs": [
    {
     "data": {
      "text/plain": [
       "99.26470588235294"
      ]
     },
     "execution_count": 197,
     "metadata": {},
     "output_type": "execute_result"
    }
   ],
   "source": [
    "cmp = [mode_pred[i] == mode_orig[i] for i in range(len(ctc_ts3)) if len(mode_pred[i]) != 0]\n",
    "trues = np.sum(cmp)\n",
    "acc = trues/len(cmp)*100\n",
    "acc"
   ]
  },
  {
   "cell_type": "markdown",
   "metadata": {},
   "source": [
    "#### ASL model"
   ]
  },
  {
   "cell_type": "code",
   "execution_count": 85,
   "metadata": {},
   "outputs": [
    {
     "name": "stdout",
     "output_type": "stream",
     "text": [
      "(546,)\n",
      "(132,)\n"
     ]
    }
   ],
   "source": [
    "# convert detected labels\n",
    "ctc_tr_asl = [num_to_ch(y) for y in y3train if max(Counter(np.argmax(y,-1))) in range(4,19)]\n",
    "x_train_asl = np.array([x3train[i] for i in range(len(y3train)) if max(Counter(np.argmax(y3train[i],-1))) in range(4,19)])\n",
    "ctc_ts_asl = [num_to_ch(y) for y in y3test if max(Counter(np.argmax(y,-1))) in range(4,19)]\n",
    "x_test_asl = np.array([x3test[i] for i in range(len(y3test)) if max(Counter(np.argmax(y3test[i],-1))) in range(4,19)])\n",
    "print(x_train_asl.shape)\n",
    "print(x_test_asl.shape)"
   ]
  },
  {
   "cell_type": "code",
   "execution_count": 86,
   "metadata": {
    "scrolled": true
   },
   "outputs": [
    {
     "name": "stdout",
     "output_type": "stream",
     "text": [
      "Number of unique characters:  19\n",
      "Characters present:  ['A', 'B', 'C', 'D', 'E', 'F', 'G', 'H', 'I', 'J', 'K', 'L', 'M', 'N', 'O', 'P', 'Q', 'R', 'S']\n"
     ]
    }
   ],
   "source": [
    "characters = set(char for label in ctc_tr_asl for char in label)\n",
    "print(\"Number of unique characters: \", len(characters))\n",
    "print(\"Characters present: \", sorted(characters))\n",
    "# print('Labels: ' + str(np.unique(ctc_tr3)))\n",
    "batch_size = 1"
   ]
  },
  {
   "cell_type": "code",
   "execution_count": 87,
   "metadata": {},
   "outputs": [],
   "source": [
    "train_dataset = data_generator_ctc(x_train_asl, ctc_tr_asl)\n",
    "validation_dataset = data_generator_ctc(x_test_asl, ctc_ts_asl)\n",
    "predict_generator = data_generator_ctc_nolabel(x_test_asl, ctc_ts_asl)"
   ]
  },
  {
   "cell_type": "code",
   "execution_count": 105,
   "metadata": {},
   "outputs": [],
   "source": [
    "model = ctc_md()\n",
    "# model.summary(line_length=125)"
   ]
  },
  {
   "cell_type": "code",
   "execution_count": 106,
   "metadata": {},
   "outputs": [],
   "source": [
    "epochs = 100\n",
    "early_stopping_patience = 10\n",
    "# Add early stopping\n",
    "early_stopping = keras.callbacks.EarlyStopping(\n",
    "    monitor=\"val_loss\", patience=early_stopping_patience, restore_best_weights=True\n",
    ")"
   ]
  },
  {
   "cell_type": "code",
   "execution_count": 107,
   "metadata": {},
   "outputs": [
    {
     "data": {
      "image/png": "[encoded data removed]",
      "text/plain": [
       "<Figure size 864x576 with 1 Axes>"
      ]
     },
     "metadata": {
      "needs_background": "light"
     },
     "output_type": "display_data"
    },
    {
     "name": "stdout",
     "output_type": "stream",
     "text": [
      "Loss\n",
      "\ttraining         \t (min:    0.501, max:   51.167, cur:    6.884)\n",
      "\tvalidation       \t (min:    0.727, max:   45.240, cur:   12.979)\n",
      "\b\b\b\b\b\b\b\b\b\b\b\b\b\b\b\b\b\b\b\b\b\b\b\b\b\b\b\b\b\b\b\b\b\b\b\b\b\b\b\b\b\b\b\b\b\b\b\b\b\b\b\b\b\b\b\b\b\b\b\b\b\b\b\b\b\r",
      "546/546 [==============================] - 8s 15ms/step - loss: 6.8836 - val_loss: 12.9787\n"
     ]
    }
   ],
   "source": [
    "history = model.fit(\n",
    "    train_dataset,\n",
    "    validation_data=validation_dataset,\n",
    "    batch_size = 1,\n",
    "    epochs=epochs,\n",
    "    steps_per_epoch = len(x_train_asl), validation_steps = len(x_test_asl),\n",
    "    callbacks=[early_stopping, PlotLossesKerasTF()],\n",
    "    verbose = 1\n",
    ")"
   ]
  },
  {
   "cell_type": "code",
   "execution_count": 108,
   "metadata": {},
   "outputs": [],
   "source": [
    "# save model\n",
    "MODEL_FILE = \"Models/ctc asl md.json\" # save path\n",
    "WEIGHT_FILE =\"Models/ctc asl md.h5\" # save path\n",
    "\n",
    "model_json = model.to_json()\n",
    "with open(MODEL_FILE, \"w\") as json_file:\n",
    "    json_file.write(model_json)\n",
    "model.save_weights(WEIGHT_FILE)"
   ]
  },
  {
   "cell_type": "code",
   "execution_count": 109,
   "metadata": {},
   "outputs": [],
   "source": [
    "# Get the prediction model by extracting layers till the output layer\n",
    "prediction_model = keras.models.Model(\n",
    "    model.get_layer(name=\"image\").input, model.get_layer(name=\"dense2\").output\n",
    ")\n",
    "# prediction_model.summary()"
   ]
  },
  {
   "cell_type": "code",
   "execution_count": 110,
   "metadata": {},
   "outputs": [],
   "source": [
    "pred = [np.argmax(np.squeeze(prediction_model.predict(next(predict_generator))),-1) for i in range(len(x_test_asl))]"
   ]
  },
  {
   "cell_type": "code",
   "execution_count": 111,
   "metadata": {},
   "outputs": [
    {
     "name": "stdout",
     "output_type": "stream",
     "text": [
      "AAAPPPPPPPPPPPP\n"
     ]
    }
   ],
   "source": [
    "# best path decoding\n",
    "pred_labels = []\n",
    "\n",
    "cnt = 1\n",
    "for p in pred:\n",
    "    label = ''\n",
    "    for num in p:\n",
    "        if chr(ord('@')+num) == 'T':# or chr(ord('@')+num) == 'A':\n",
    "            continue\n",
    "        label = label + chr(ord('@')+num)\n",
    "    pred_labels.append(label)\n",
    "pred_labels = np.array(pred_labels)  \n",
    "print(pred_labels[2])"
   ]
  },
  {
   "cell_type": "code",
   "execution_count": 112,
   "metadata": {},
   "outputs": [
    {
     "name": "stdout",
     "output_type": "stream",
     "text": [
      "1. Predicted: ANNNNNNNN | NNNNNNNNN :Original\n",
      "2. Predicted: AAAAAOOOOOOOOOOOOAA | AAAAAOOOOOOOOOOOOOA :Original\n",
      "3. Predicted: AAAPPPPPPPPPPPP | AAPPPPPPPPPPPPP :Original\n",
      "4. Predicted: AKKKKKKKHHH | AKKKKKKKKKA :Original\n",
      "5. Predicted: AAAMMLLMMLMA | AAALLLLLLLLL :Original\n",
      "6. Predicted: AAAMMMLLLLLLLA | AAMMMMMMMMMMMA :Original\n",
      "7. Predicted: DDDDDDDDDPPA | PPPDDDDDDDDD :Original\n",
      "8. Predicted: KKKKKKKKKKA | KKKKKKKKKKK :Original\n",
      "9. Predicted: AALLLLLLLLMAA | AALLLLLLLLLLA :Original\n",
      "10. Predicted: AAAMMMMMMMMMA | AAMMMMMMMMMMA :Original\n",
      "11. Predicted: KKKKKA | EEEEEA :Original\n",
      "12. Predicted: AFFFFFFFFFFFFFFFAAAAAGGGGGGGG | AFFFFFFFFFFFFFFFFAAAAGGGGGGGG :Original\n",
      "13. Predicted: EAA | MMA :Original\n",
      "14. Predicted: AAKKKKKKKKKKA | AAKKKKKKKKKKA :Original\n",
      "15. Predicted: AAALLLLLLLLAA | AALLLLLLLLLLA :Original\n",
      "16. Predicted: AAALLLLLLMMMMA | AAAMMMMMMMMMMA :Original\n",
      "17. Predicted: AQQQQQQQQQQ | AQQQQQQQQQA :Original\n",
      "18. Predicted: AAAPIRRRRRRRA | AAARRRRRRRRRA :Original\n",
      "19. Predicted: AAAAASSSSSSPPP | AAAASSSSSSSSSS :Original\n",
      "20. Predicted: JHKQA | KKKKA :Original\n",
      "21. Predicted: AAFFFFFFFFFFFFAA | AALLLLLLLLLLLLAA :Original\n",
      "22. Predicted: AAAFFFFFFFAFMMMMAA | AAAMMMMMMMMMMMMMAA :Original\n",
      "23. Predicted: AAKKKKIIIIIA | KKKKKKKKKKKK :Original\n",
      "24. Predicted: AALLIKKKKKIA | AALLLLLLLLLA :Original\n",
      "25. Predicted: AAAMMMMMMMOOOA | AAAMMMMMMMMMMA :Original\n",
      "26. Predicted: AEEEEEEEEEAA | AEEEEEEEEEAA :Original\n",
      "27. Predicted: AALLLLLMMMAA | AAFFFFFFFFFA :Original\n",
      "28. Predicted: AAAJJJJJJJJJJJ | AAGGGGGGGGGGGG :Original\n",
      "29. Predicted: AAFFFFFFFKAAAKKKKAA | AANNNNNNNNNNNNNNNNA :Original\n",
      "30. Predicted: OOOOOOOOOOOOO | OOOOOOOOOOOOO :Original\n",
      "31. Predicted: AALLLRLLPPPPPA | APPPPPPPPPPPPA :Original\n",
      "32. Predicted: AAPSNNNNNN | ANNNNNNNNA :Original\n",
      "33. Predicted: AAAAJJJRRRPPJRRAA | AAAOOOOOOOOOOOOOA :Original\n",
      "34. Predicted: AAAPPPPPPPPPPP | AAPPPPPPPPPPPP :Original\n",
      "35. Predicted: FFKKKKKKAKKKKAA | KKKKKKKKKKKKKAA :Original\n",
      "36. Predicted: AFFFAHHHHHAAA | LLLLLLLLLLAAA :Original\n",
      "37. Predicted: AAAAAJJJJJJJA | AAAAAJJJJJJJJ :Original\n",
      "38. Predicted: QHHAA | JJJAA :Original\n",
      "39. Predicted: AAAJEJJJJJJA | AAAEEEEEEEEA :Original\n",
      "40. Predicted: AALLLLLMMMM | AAFFFFFFFFA :Original\n",
      "41. Predicted: AAAJJJJGGGGGGG | AAGGGGGGGGGGGG :Original\n",
      "42. Predicted: AHHHHHHHHHHA | AHHHHHHHHHHA :Original\n",
      "43. Predicted: AAIIIIIIIIIA | AAIIIIIIIIIA :Original\n",
      "44. Predicted: AAAJJJJJJJJA | AAJJJJJJJJJA :Original\n",
      "45. Predicted: AAJMJKKKQKKA | AQQQQQQQQQQQ :Original\n",
      "46. Predicted: AARRRRRRRRRRRA | AARRRRRRRRRRRA :Original\n",
      "47. Predicted: AASRRRRRSSSSS | ASSSSSSSSSSSS :Original\n",
      "48. Predicted: AAAKKKKKKKKKA | AAAKKKKKKKKKK :Original\n",
      "49. Predicted: AAALLLLLLLLOAA | AAALLLLLLLLLAA :Original\n",
      "50. Predicted: AAMMMMMMMMMMA | AAMMMMMMMMMAA :Original\n",
      "51. Predicted: HHNNNNNNNAA | NNNNNNNNNAA :Original\n",
      "52. Predicted: AAARLLLLLLOOLLAA | AAAOOOOOOOOOOOOA :Original\n",
      "53. Predicted: AAAPPPPPPPPPPA | AAPPPPPPPPPPPP :Original\n",
      "54. Predicted: AEEEEEQQQQA | QQQQQQQQQQA :Original\n",
      "55. Predicted: AAARRRRRRRRRRAA | AAARRRRRRRRRRRR :Original\n",
      "56. Predicted: AAAASOSSSSOOOOOO | AASSSSSSSSSSSSSA :Original\n",
      "57. Predicted: AEEEEEEEEEEEA | AEEEEEEEEEEEA :Original\n",
      "58. Predicted: AAAFFFFFFFFFAA | AAAFFFFFFFFFFA :Original\n",
      "59. Predicted: AAGGGGGGGGGGG | AAAGGGGGGGGGA :Original\n",
      "60. Predicted: AALLLLLLPPAA | AAHHHHHHHHAA :Original\n",
      "61. Predicted: AAQJQQQQJJJA | AAIIIIIIIIIA :Original\n",
      "62. Predicted: AAAJJJJJJJJ | AAJJJJJJJJJ :Original\n",
      "63. Predicted: AAAKGKLKIIIIA | AANNNNNNNNNNN :Original\n",
      "64. Predicted: AAFFFAAALFFFFFFFAAA | AAOOOOOOOOOOOOOOOAA :Original\n",
      "65. Predicted: AAPIIIIIOOOA | APPPPPPPPPPP :Original\n",
      "66. Predicted: SNNHN | PPPPP :Original\n",
      "67. Predicted: AAIHHHHHHHI | AAHHHHHHHHH :Original\n",
      "68. Predicted: AAAIIIIIIIIIIIA | AAAIIIIIIIIIIII :Original\n",
      "69. Predicted: AAJJJJJJJJ | AAJJJJJJJJ :Original\n",
      "70. Predicted: AHHHHHHHHH | HHHHHHHHHA :Original\n",
      "71. Predicted: AAAIIIIIIIIIAA | AAAIIIIIIIIIAA :Original\n",
      "72. Predicted: AAAAJJJJJJJJJJ | AAAAAJJJJJJJJJ :Original\n",
      "73. Predicted: AAAQQQQQQQQQQ | AAQQQQQQQQQQQ :Original\n",
      "74. Predicted: AARRRRRRRRRAA | AARRRRRRRRRRA :Original\n",
      "75. Predicted: AASSSSSSSSSSSAA | AAASSSSSSSSSSSA :Original\n",
      "76. Predicted: AHHHHHHHHH | HHHHHHHHHH :Original\n",
      "77. Predicted: AAIRRRRIIOA | AAIIIIIIIII :Original\n",
      "78. Predicted: AAAJJJJJJJJJ | AAAJJJJJJJJJ :Original\n",
      "79. Predicted: AQQQQQQQQQ | AQQQQQQQQQ :Original\n",
      "80. Predicted: AARRRRRRRRRRA | AARRRRRRRRRRA :Original\n",
      "81. Predicted: AAASSSSSSJJJGA | AAASSSSSSSSSSA :Original\n",
      "82. Predicted: EEEEEEEEH | AEEEEEEEE :Original\n",
      "83. Predicted: AAAFFFFFFFFFAA | AAAFFFFFFFFFAA :Original\n",
      "84. Predicted: AAAGGGGGGGGGG | AAAGGGGGGGGGA :Original\n",
      "85. Predicted: AHNNNNNNNNA | NNNNNNNNNNA :Original\n",
      "86. Predicted: AAAFLLLLLLLLMMAAA | AAAOOOOOOOOOOOOAA :Original\n",
      "87. Predicted: AAPPPPPPPPPPJRA | AAPPPPPPPPPPPPA :Original\n",
      "88. Predicted: HHHNNA | HHHHHA :Original\n",
      "89. Predicted: AAAIIIIIIIIIA | AAAAIIIIIIIII :Original\n",
      "90. Predicted: AAJJJJJJJJJA | AAJJJJJJJJJJ :Original\n",
      "91. Predicted: AAIIIIRIIIIIAA | AANNNNNNNNNNNN :Original\n",
      "92. Predicted: AAAOOOOOOOOOOOAA | AAAOOOOOOOOOOOOA :Original\n",
      "93. Predicted: AASSSSSPPPPP | APPPPPPPPPPP :Original\n",
      "94. Predicted: EKNHAA | PPPPPA :Original\n",
      "95. Predicted: AAAIIIIMMMOOOA | AAAHHHHHHHHHHA :Original\n",
      "96. Predicted: AAIIIIIIIIIA | AAIIIIIIIIIA :Original\n",
      "97. Predicted: AAAJJJJJJJJJGA | AAAJJJJJJJJJAA :Original\n",
      "98. Predicted: AAARRRRJJJJJJRAA | AAQQQQQQQQQQQQQA :Original\n",
      "99. Predicted: AARRRRRRRRRRAA | AARRRRRRRRRRRA :Original\n",
      "100. Predicted: AASSSSSSSSSSSSA | ASSSSSSSSSSSSSS :Original\n",
      "101. Predicted: HHHHHHHHHHA | HHHHHHHHHAA :Original\n",
      "102. Predicted: AAIIIIIIIIII | AAAIIIIIIIII :Original\n",
      "103. Predicted: AAAJJJJJJJJJ | AAAJJJJJJJJJ :Original\n",
      "104. Predicted: AJJJEEEE | AQQQQQQQ :Original\n",
      "105. Predicted: AASSSSSSSSSSRRA | AARRRRRRRRRRRRA :Original\n",
      "106. Predicted: AAAPPSSSPPPPPPA | AAASSSSSSSSSSSS :Original\n",
      "107. Predicted: HAA | MAA :Original\n",
      "108. Predicted: AAKKKKKKKKK | AAKKKKKKKKK :Original\n",
      "109. Predicted: AALLLLLLLLLA | AALLLLLLLLLA :Original\n",
      "110. Predicted: AAAMMMMMMMMMM | AAMMMMMMMMMMM :Original\n",
      "111. Predicted: INNNNNNNNNA | AANNNNNNNAA :Original\n",
      "112. Predicted: AAAOOIIIOOOOOOA | AAAOOOOOOOOOOOA :Original\n",
      "113. Predicted: AAAPPPPPPPPPPPA | AAAPPPPPPPPPPAA :Original\n",
      "114. Predicted: AANNNNNNNNNN | ANNNNNNNNNNA :Original\n",
      "115. Predicted: AAOOOOOOOOOPA | AOOOOOOOOOOOO :Original\n",
      "116. Predicted: AAPPPPPPPPPPPP | AAPPPPPPPPPPPP :Original\n",
      "117. Predicted: KKKKKKKKK | KKKKKKKKK :Original\n",
      "118. Predicted: AAALLMMMMMMA | AALLLLLLLLLA :Original\n",
      "119. Predicted: AAMMMMMMMMMM | AAMMMMMMMMMM :Original\n",
      "120. Predicted: AAIRKKKKKA | AAKKKKKKKK :Original\n",
      "121. Predicted: KQKFFAA | KKKKAAA :Original\n",
      "122. Predicted: AAAAOIIIIIIIIIIA | AAALLLLLLLLLLLAA :Original\n",
      "123. Predicted: AAAHHHHHHHHHHHA | AAAMMMMMMMMMMMA :Original\n",
      "124. Predicted: EEEEEEEEEEA | AEEEEEEEEEA :Original\n",
      "125. Predicted: AAFFFFFFFFFFAA | AAFFFFFFFFFFAA :Original\n",
      "126. Predicted: AAGGGGGGGGGGG | AAGGGGGGGGGGA :Original\n",
      "127. Predicted: AKKKKKKKKKKA | AKKKKKKKKKKA :Original\n",
      "128. Predicted: AAALLFLLLLLAA | AALLLLLLLLLLA :Original\n",
      "129. Predicted: AAAFMMMMMMMMMA | AAAMMMMMMMMMMA :Original\n",
      "130. Predicted: AAFKKKKKKKKKA | AAKKKKKKKKKKA :Original\n",
      "131. Predicted: AALLLLLLLLLA | AALLLLLLLLLL :Original\n",
      "132. Predicted: AAMMMMMMMMLLL | AAMMMMMMMMMMA :Original\n"
     ]
    }
   ],
   "source": [
    "for idx in range(len(ctc_ts3)):\n",
    "    print(str(idx+1) + '. Predicted: ' + pred_labels[idx] + ' | ' + ctc_ts3[idx] + ' :Original')"
   ]
  },
  {
   "cell_type": "code",
   "execution_count": 113,
   "metadata": {
    "scrolled": true
   },
   "outputs": [],
   "source": [
    "from collections import Counter\n",
    "mode_orig = [max(Counter(y)) for y in ctc_ts_asl]\n",
    "mode_pred = [max(Counter(y)) if len(y) != 0 else 'A' for y in pred_labels]"
   ]
  },
  {
   "cell_type": "code",
   "execution_count": 115,
   "metadata": {},
   "outputs": [
    {
     "data": {
      "text/plain": [
       "65.9090909090909"
      ]
     },
     "execution_count": 115,
     "metadata": {},
     "output_type": "execute_result"
    }
   ],
   "source": [
    "cmp = [mode_pred[i] == mode_orig[i] for i in range(len(ctc_ts_asl)) if len(mode_pred[i]) != 0]\n",
    "trues = np.sum(cmp)\n",
    "acc = trues/len(cmp)*100\n",
    "acc"
   ]
  },
  {
   "cell_type": "markdown",
   "metadata": {},
   "source": [
    "#### Daily model"
   ]
  },
  {
   "cell_type": "code",
   "execution_count": 122,
   "metadata": {},
   "outputs": [
    {
     "name": "stdout",
     "output_type": "stream",
     "text": [
      "(608,)\n",
      "(140,)\n"
     ]
    }
   ],
   "source": [
    "# convert detected labels\n",
    "ctc_tr_daily = [num_to_ch(y) for y in y3train if max(Counter(np.argmax(y,-1))) in range(0,4)]\n",
    "x_train_daily = np.array([x3train[i] for i in range(len(y3train)) if max(Counter(np.argmax(y3train[i],-1))) in range(0,4)])\n",
    "ctc_ts_daily = [num_to_ch(y) for y in y3test if max(Counter(np.argmax(y,-1))) in range(0,4)]\n",
    "x_test_daily = np.array([x3test[i] for i in range(len(y3test)) if max(Counter(np.argmax(y3test[i],-1))) in range(0,4)])\n",
    "print(x_train_daily.shape)\n",
    "print(x_test_daily.shape)"
   ]
  },
  {
   "cell_type": "code",
   "execution_count": 123,
   "metadata": {
    "scrolled": true
   },
   "outputs": [
    {
     "name": "stdout",
     "output_type": "stream",
     "text": [
      "Number of unique characters:  4\n",
      "Characters present:  ['A', 'B', 'C', 'D']\n"
     ]
    }
   ],
   "source": [
    "characters = set(char for label in ctc_tr_daily for char in label)\n",
    "print(\"Number of unique characters: \", len(characters))\n",
    "print(\"Characters present: \", sorted(characters))\n",
    "# print('Labels: ' + str(np.unique(ctc_tr3)))\n",
    "batch_size = 1"
   ]
  },
  {
   "cell_type": "code",
   "execution_count": 124,
   "metadata": {},
   "outputs": [],
   "source": [
    "train_dataset = data_generator_ctc(x_train_daily, ctc_tr_daily)\n",
    "validation_dataset = data_generator_ctc(x_test_daily, ctc_ts_daily)\n",
    "predict_generator = data_generator_ctc_nolabel(x_test_daily, ctc_ts_daily)"
   ]
  },
  {
   "cell_type": "code",
   "execution_count": 125,
   "metadata": {},
   "outputs": [],
   "source": [
    "model = ctc_md()\n",
    "# model.summary(line_length=125)"
   ]
  },
  {
   "cell_type": "code",
   "execution_count": 126,
   "metadata": {},
   "outputs": [],
   "source": [
    "epochs = 100\n",
    "early_stopping_patience = 10\n",
    "# Add early stopping\n",
    "early_stopping = keras.callbacks.EarlyStopping(\n",
    "    monitor=\"val_loss\", patience=early_stopping_patience, restore_best_weights=True\n",
    ")"
   ]
  },
  {
   "cell_type": "code",
   "execution_count": 127,
   "metadata": {},
   "outputs": [
    {
     "data": {
      "image/png": "[encoded data removed]",
      "text/plain": [
       "<Figure size 864x576 with 1 Axes>"
      ]
     },
     "metadata": {
      "needs_background": "light"
     },
     "output_type": "display_data"
    },
    {
     "name": "stdout",
     "output_type": "stream",
     "text": [
      "Loss\n",
      "\ttraining         \t (min:    0.501, max:   51.167, cur:    0.875)\n",
      "\tvalidation       \t (min:    0.727, max:   45.240, cur:    1.533)\n",
      "\b\b\b\b\b\b\b\b\b\b\b\b\b\b\b\b\b\b\b\b\b\b\b\b\b\b\b\b\b\b\b\b\b\b\b\b\b\b\b\b\b\b\b\b\b\b\b\b\b\b\b\b\b\b\b\b\b\b\b\b\b\b\b\b\b\r",
      "608/608 [==============================] - 9s 15ms/step - loss: 0.8752 - val_loss: 1.5326\n"
     ]
    }
   ],
   "source": [
    "history = model.fit(\n",
    "    train_dataset,\n",
    "    validation_data=validation_dataset,\n",
    "    batch_size = 1,\n",
    "    epochs=epochs,\n",
    "    steps_per_epoch = len(x_train_daily), validation_steps = len(x_test_daily),\n",
    "    callbacks=[early_stopping, PlotLossesKerasTF()],\n",
    "    verbose = 1\n",
    ")"
   ]
  },
  {
   "cell_type": "code",
   "execution_count": 128,
   "metadata": {},
   "outputs": [],
   "source": [
    "# save model\n",
    "MODEL_FILE = \"Models/ctc daily md.json\" # save path\n",
    "WEIGHT_FILE =\"Models/ctc daily md.h5\" # save path\n",
    "\n",
    "model_json = model.to_json()\n",
    "with open(MODEL_FILE, \"w\") as json_file:\n",
    "    json_file.write(model_json)\n",
    "model.save_weights(WEIGHT_FILE)"
   ]
  },
  {
   "cell_type": "code",
   "execution_count": 129,
   "metadata": {},
   "outputs": [],
   "source": [
    "# Get the prediction model by extracting layers till the output layer\n",
    "prediction_model = keras.models.Model(\n",
    "    model.get_layer(name=\"image\").input, model.get_layer(name=\"dense2\").output\n",
    ")\n",
    "# prediction_model.summary()"
   ]
  },
  {
   "cell_type": "code",
   "execution_count": 130,
   "metadata": {},
   "outputs": [],
   "source": [
    "pred = [np.argmax(np.squeeze(prediction_model.predict(next(predict_generator))),-1) for i in range(len(x_test_daily))]"
   ]
  },
  {
   "cell_type": "code",
   "execution_count": 131,
   "metadata": {},
   "outputs": [
    {
     "name": "stdout",
     "output_type": "stream",
     "text": [
      "ACCCCCCCCC\n"
     ]
    }
   ],
   "source": [
    "# best path decoding\n",
    "pred_labels = []\n",
    "\n",
    "cnt = 1\n",
    "for p in pred:\n",
    "    label = ''\n",
    "    for num in p:\n",
    "        if chr(ord('@')+num) == 'E':# or chr(ord('@')+num) == 'A':\n",
    "            continue\n",
    "        label = label + chr(ord('@')+num)\n",
    "    pred_labels.append(label)\n",
    "pred_labels = np.array(pred_labels)  \n",
    "print(pred_labels[2])"
   ]
  },
  {
   "cell_type": "code",
   "execution_count": 136,
   "metadata": {
    "scrolled": true
   },
   "outputs": [
    {
     "name": "stdout",
     "output_type": "stream",
     "text": [
      "1. Predicted: AAABBBBBBBBBBBBBBBB | AAABBBBBBBBBBBBBBBB :Original\n",
      "2. Predicted: BBBBBBBBBBBB | BBBBBBBBBBBB :Original\n",
      "3. Predicted: ACCCCCCCCC | ACCCCCCCCA :Original\n",
      "4. Predicted: AADDDDDDDDD | AADDDDDDDDA :Original\n",
      "5. Predicted: AABBBBBBBBBBBBBBB | AABBBBBBBBBBBBBBB :Original\n",
      "6. Predicted: BBBBBBBBBBBBBB | BBBBBBBBBBBBBB :Original\n",
      "7. Predicted: ACCCCCCCCC | ACCCCCCCCA :Original\n",
      "8. Predicted: AABBBBBBBBBBBB | ABBBBBBBBBBBBB :Original\n",
      "9. Predicted: BBBBBBBBBBBBB | BBBBBBBBBBBBB :Original\n",
      "10. Predicted: CCCCCCCCCCC | CCCCCCCCCCC :Original\n",
      "11. Predicted: AADDDDDDDDDDD | AAADDDDDDDDDD :Original\n",
      "12. Predicted: ABBBBBBBBB | ABBBBBBBBB :Original\n",
      "13. Predicted: BBBBBBBBBBBBBCCCCCCCCCCCCCCCC | BBBBBBBBBBBBBACCCCCCCCCCCCCCC :Original\n",
      "14. Predicted: AAA | AAA :Original\n",
      "15. Predicted: DDDDDDD | DDDDDDA :Original\n",
      "16. Predicted: AAABBBBBBBBBBBBBBB | AAABBBBBBBBBBBBBBB :Original\n",
      "17. Predicted: BBBBBBBBBBBBBCCCCCCCCC | BBBBBBBBBBBBBCCCCCCCCC :Original\n",
      "18. Predicted: DDDDDDDD | DDDDDDDD :Original\n",
      "19. Predicted: ABBBBBBBBB | ABBBBBBBBB :Original\n",
      "20. Predicted: BBBBBBBBBBBBBBBBBCCCCCCCCCCC | BBBBBBBBBBBBBBBACCCCCCCCCCCC :Original\n",
      "21. Predicted: AAADDDDDDDDDD | AADDDDDDDDDDD :Original\n",
      "22. Predicted: AABBBBBBBBBBBBB | AABBBBBBBBBBBBB :Original\n",
      "23. Predicted: BBBBBBBBBBBBCCCCCCCCCC | BBBBBBBBBBBBCCCCCCCCCC :Original\n",
      "24. Predicted: AADDDDDDDDDDD | AADDDDDDDDDDD :Original\n",
      "25. Predicted: ABABBBBBBBBBBBBBBB | AAAABBBBBBBBBBBBBB :Original\n",
      "26. Predicted: BBBBBBBBBBBBBBCCCCCCCCCCC | BBBBBBBBBBBBBBCCCCCCCCCCC :Original\n",
      "27. Predicted: DDDDDDD | DDDDDDD :Original\n",
      "28. Predicted: AABBBBBBBBBBBBB | AABBBBBBBBBBBBB :Original\n",
      "29. Predicted: BBBBBBBBBBBBBBACCCCCCCCCC | BBBBBBBBBBBBBBACCCCCCCCCA :Original\n",
      "30. Predicted: AAA | AAA :Original\n",
      "31. Predicted: DDDDDD | DDDDDD :Original\n",
      "32. Predicted: ABBBBBBBBB | ABBBBBBBBB :Original\n",
      "33. Predicted: BBBBBBBBBCCCCCCCCCCCC | BBBBBBBBBCCCCCCCCCCCC :Original\n",
      "34. Predicted: AAA | AAA :Original\n",
      "35. Predicted: DDDDDDDDDD | DDDDDDDDDA :Original\n",
      "36. Predicted: AAAAAAABBBBBBBBBBBBBBBB | AAAAAABBBBBBBBBBBBBBBBB :Original\n",
      "37. Predicted: BBBBBBBBBBBCCCCCCCCC | BBBBBBBBBBBCCCCCCCCC :Original\n",
      "38. Predicted: ADDDDDDDDDD | ADDDDDDDDAA :Original\n",
      "39. Predicted: AAABBBBBBBBBBB | AAABBBBBBBBBBB :Original\n",
      "40. Predicted: BBBBBBBBBBBBBCCCCCCCCCCC | BBBBBBBBBBBBACCCCCCCCCCC :Original\n",
      "41. Predicted: AAA | AAA :Original\n",
      "42. Predicted: DDDDDD | DDDDDD :Original\n",
      "43. Predicted: AABBBBBBBBBBB | AABBBBBBBBBBB :Original\n",
      "44. Predicted: BBBBBBBBBBBBBBCCCCCCCCCC | BBBBBBBBBBBBBBBCCCCCCCCC :Original\n",
      "45. Predicted: ADDDDDDDDD | ADDDDDDDDA :Original\n",
      "46. Predicted: AAABBBBBBBBBBBBB | AABBBBBBBBBBBBBB :Original\n",
      "47. Predicted: BBBBBBBBBBBB | BBBBBBBBBBBB :Original\n",
      "48. Predicted: CCCCCCCCCCCCC | CCCCCCCCCCAAA :Original\n",
      "49. Predicted: ADDDDDDDDD | ADDDDDDDDD :Original\n",
      "50. Predicted: AAAAABBBBBBBBBBBBBBB | AAAAABBBBBBBBBBBBBBB :Original\n",
      "51. Predicted: BBBBBBBBBBBBBCCCCCCCCCCC | BBBBBBBBBBBBCCCCCCCCCCCC :Original\n",
      "52. Predicted: DDDDDDDD | DDDDDDDA :Original\n",
      "53. Predicted: AAABBBBBBBBBBBBB | AAABBBBBBBBBBBBB :Original\n",
      "54. Predicted: BBBBBBBBBBBCCCCCCCC | BBBBBBBBBBBACCCCCCC :Original\n",
      "55. Predicted: DDDDDDDDD | DDDDDDDDA :Original\n",
      "56. Predicted: ABBBBBBBBBB | AABBBBBBBBB :Original\n",
      "57. Predicted: BBBBBBBBBBB | BBBBBBBBBBB :Original\n",
      "58. Predicted: ACCCCCCCCCCC | ACCCCCCCCCCC :Original\n",
      "59. Predicted: AAADDDDDDDDDD | AAADDDDDDDDDD :Original\n",
      "60. Predicted: AAAABBBBBBBBBBBBBBB | AAAABBBBBBBBBBBBBBB :Original\n",
      "61. Predicted: BBBBBBBBBBBBBBCCCCCCCCCCC | BBBBBBBBBBBBBACCCCCCCCCCC :Original\n",
      "62. Predicted: ADDDDDDDDDD | ADDDDDDDDDD :Original\n",
      "63. Predicted: AAABBBBBBBBBBBBBBB | AABBBBBBBBBBBBBBBB :Original\n",
      "64. Predicted: BBBBBBBBBBBBCCCCCCCCCC | BBBBBBBBBBBBCCCCCCCCCC :Original\n",
      "65. Predicted: AADDDDDDDDDD | AADDDDDDDDDD :Original\n",
      "66. Predicted: AABBBBBBBBBB | AABBBBBBBBBB :Original\n",
      "67. Predicted: BBBBBBBBBBBB | BBBBBBBBBBBB :Original\n",
      "68. Predicted: ACCCCCCCCCC | BBCCCCCCCCC :Original\n",
      "69. Predicted: AAADDDDDDDDD | AAADDDDDDDDD :Original\n",
      "70. Predicted: AAABBBBBBBBBBBB | AAABBBBBBBBBBBB :Original\n",
      "71. Predicted: BBBBBBBBBCCCCCCCCCC | BBBBBBCCCCCCCCCCCCC :Original\n",
      "72. Predicted: DDDDDDDDD | DDDDDDDAA :Original\n",
      "73. Predicted: ABBBBBBBBB | ABBBBBBBBB :Original\n",
      "74. Predicted: BBBBBBBBBBBBBBBBCCCCCCCCCCC | BBBBBBBBBBBBBBBBCCCCCCCCCCC :Original\n",
      "75. Predicted: DDDDDDDDDD | DDDDDDDDDD :Original\n",
      "76. Predicted: AAAABBBBBBBBBBBBBBBB | AAAABBBBBBBBBBBBBBBB :Original\n",
      "77. Predicted: BBBBBBBBBBBB | BBBBBBBBBBBB :Original\n",
      "78. Predicted: DDDDDDDD | DDDDDDDA :Original\n",
      "79. Predicted: ABBBBBBBBBBBBBBBB | AABBBBBBBBBBBBBBB :Original\n",
      "80. Predicted: BBBBBBBBBBBBBACCCCCCCCC | BBBBBBBBBBBBBACCCCCCCCC :Original\n",
      "81. Predicted: DDDDDDDDA | ADDDDDDDA :Original\n",
      "82. Predicted: AAABBBBBBBBBBBBBBB | AAAABBBBBBBBBBBBBB :Original\n",
      "83. Predicted: BBBBBBBBBBBB | BBBBBBBBBBBB :Original\n",
      "84. Predicted: CCCCCCCCCCC | CCCCCCCCCCC :Original\n",
      "85. Predicted: DDDDDDDDDD | DDDDDDDDDD :Original\n",
      "86. Predicted: AAAAAABBBBBBBBBBBBBBB | AAAAAABBBBBBBBBBBBBBB :Original\n",
      "87. Predicted: BBBBBBBBBBBBBBCCCCCCCCCC | BBBBBBBBBBBBBACCCCCCCCCC :Original\n",
      "88. Predicted: DDDDDDDDA | DDDDDDDDA :Original\n",
      "89. Predicted: BBBBBBBBBBBBBBBBBB | AAAAAAABBBBBBBBBBB :Original\n",
      "90. Predicted: ACCCCCCCCCCCCC | BCCCCCCCCCCCCC :Original\n",
      "91. Predicted: DDDDDDDDD | DDDDDDDDD :Original\n",
      "92. Predicted: AABBBBBBBBBBBB | AABBBBBBBBBBBB :Original\n",
      "93. Predicted: BBBBBBBBBB | BBBBBBBBBB :Original\n",
      "94. Predicted: ACCCCCCCCCC | ACCCCCCCCCC :Original\n",
      "95. Predicted: AADDDDDDDDDD | AAADDDDDDDDD :Original\n",
      "96. Predicted: AAAAABBBBBBBBBBBBBBB | AAAAABBBBBBBBBBBBBBB :Original\n",
      "97. Predicted: BBBBBBBBBBBBBACCCCCCCCCC | BBBBBBBBBBBBBACCCCCCCCCC :Original\n",
      "98. Predicted: DDDDDD | DDDDDD :Original\n",
      "99. Predicted: BBBBBBBBB | ABBBBBBBB :Original\n",
      "100. Predicted: BBBBBBBBBBBBBBCCCCCCCCCCC | BBBBBBBBBBBBBCCCCCCCCCCCC :Original\n",
      "101. Predicted: DDDDDDDDD | DDDDDDDDD :Original\n",
      "102. Predicted: ABBBBBBBBBBBBBBBB | AABBBBBBBBBBBBBBB :Original\n",
      "103. Predicted: CCCCCCCCCC | CCCCCCCCCC :Original\n",
      "104. Predicted: AAADDDDDDDDD | AAADDDDDDDDD :Original\n",
      "105. Predicted: BBBBBBBBBBBBBBBBCCC | BBBBBBBBBBBBBBBCCCC :Original\n",
      "106. Predicted: CCCCCCC | CCCCCCA :Original\n",
      "107. Predicted: ADDDDDDDDDDD | AADDDDDDDDDA :Original\n",
      "108. Predicted: AABBBBBBBBBBBBB | AABBBBBBBBBBBBB :Original\n",
      "109. Predicted: BBBBBBBBBBBBBCCCCCCCCC | BBBBBBBBBBBBBCCCCCCCCC :Original\n",
      "110. Predicted: AAADDDDDDDDDDD | AAAADDDDDDDDDA :Original\n",
      "111. Predicted: AABBBBBBBBBBBBBB | ABBBBBBBBBBBBBBB :Original\n",
      "112. Predicted: BBBBBBBBBBBBBBBBCCCCCCCC | BBBBBBBBBBBBBBBBCCCCCCCC :Original\n",
      "113. Predicted: DDDDDDD | DDDDDDD :Original\n",
      "114. Predicted: AABBBBBBBBBBBBBBB | AABBBBBBBBBBBBBBB :Original\n",
      "115. Predicted: BBBBBBBBBBBBACCCCCCCCC | BBBBBBBBBBBBACCCCCCCCC :Original\n",
      "116. Predicted: AADDDDDDDDDD | AADDDDDDDDDD :Original\n",
      "117. Predicted: ABBBBBBBBB | AABBBBBBBB :Original\n",
      "118. Predicted: BBBBBBBBBBBB | BBBBBBBBBBBB :Original\n",
      "119. Predicted: CCCCCCCCCC | CCCCCCCCCC :Original\n",
      "120. Predicted: AADDDDDDDDD | AADDDDDDDDD :Original\n",
      "121. Predicted: AABBBBBBBBBBBBBBB | AABBBBBBBBBBBBBBB :Original\n",
      "122. Predicted: BBBBBBBBBBBBB | BBBBBBBBBBBBB :Original\n",
      "123. Predicted: AADDDDDDDDDD | AADDDDDDDDDD :Original\n",
      "124. Predicted: AABBBBBBBBBBBBBBBB | AABBBBBBBBBBBBBBBB :Original\n",
      "125. Predicted: BBBBBBBBBBBBBACCCCCCCCC | BBBBBBBBBBBBBCCCCCCCCCC :Original\n",
      "126. Predicted: DDDDDDDDD | DDDDDDDDD :Original\n",
      "127. Predicted: ABBBBBBBBB | ABBBBBBBBB :Original\n",
      "128. Predicted: BBBBBBBBBBBBBBBBBCCCCCCCCC | BBBBBBBBBBBBBBBBBACCCCCCCC :Original\n",
      "129. Predicted: DDDDDD | DDDDDD :Original\n",
      "130. Predicted: AABBBBBBBBBBBBBBBBBB | ABBBBBBBBBBBBBBBBBBB :Original\n",
      "131. Predicted: CCCCCCCCCCCC | CCCCCCCCCCCA :Original\n",
      "132. Predicted: DDDDDDDDD | DDDDDDDDD :Original\n",
      "133. Predicted: ABBBBBBBBBBBBBBB | ABBBBBBBBBBBBBBB :Original\n",
      "134. Predicted: BBBBBBBBBBBBBCCCCCCCCCC | BBBBBBBBBBBBBCCCCCCCCCC :Original\n",
      "135. Predicted: AADDDDDDDDDD | AAADDDDDDDDD :Original\n",
      "136. Predicted: AABBBBBBBBBBBBBBB | AABBBBBBBBBBBBBBB :Original\n",
      "137. Predicted: BBBBBBBBBBBB | BBBBBBBBBBBB :Original\n",
      "138. Predicted: ACCCCCCCC | ACCCCCCCC :Original\n",
      "139. Predicted: AAA | AAA :Original\n",
      "140. Predicted: DDDDDDDD | DDDDDDDA :Original\n"
     ]
    }
   ],
   "source": [
    "for idx in range(len(ctc_ts_daily)):\n",
    "    print(str(idx+1) + '. Predicted: ' + pred_labels[idx] + ' | ' + ctc_ts_daily[idx] + ' :Original')"
   ]
  },
  {
   "cell_type": "code",
   "execution_count": 133,
   "metadata": {
    "scrolled": true
   },
   "outputs": [],
   "source": [
    "from collections import Counter\n",
    "mode_orig = [max(Counter(y)) for y in ctc_ts_daily]\n",
    "mode_pred = [max(Counter(y)) if len(y) != 0 else 'A' for y in pred_labels]"
   ]
  },
  {
   "cell_type": "code",
   "execution_count": 135,
   "metadata": {},
   "outputs": [
    {
     "data": {
      "text/plain": [
       "100.0"
      ]
     },
     "execution_count": 135,
     "metadata": {},
     "output_type": "execute_result"
    }
   ],
   "source": [
    "cmp = [mode_pred[i] == mode_orig[i] for i in range(len(ctc_ts_daily)) if len(mode_pred[i]) != 0]\n",
    "trues = np.sum(cmp)\n",
    "acc = trues/len(cmp)*100\n",
    "acc"
   ]
  },
  {
   "cell_type": "markdown",
   "metadata": {},
   "source": [
    "### Overall testing"
   ]
  },
  {
   "cell_type": "code",
   "execution_count": 198,
   "metadata": {},
   "outputs": [],
   "source": [
    "model_addr = 'Models/ctc asl daily md.json'\n",
    "weight_addr = 'Models/ctc asl daily md.h5'\n",
    "json_file = open(model_addr, 'r')\n",
    "loaded_model_json = json_file.read()\n",
    "json_file.close()\n",
    "model_asldaily = model_from_json(loaded_model_json, custom_objects={'CTCLayer': CTCLayer})\n",
    "model_asldaily.load_weights(weight_addr)\n",
    "model_asldaily = keras.models.Model(\n",
    "    model_asldaily.get_layer(name=\"image\").input, model_asldaily.get_layer(name=\"dense2\").output\n",
    ")"
   ]
  },
  {
   "cell_type": "code",
   "execution_count": 141,
   "metadata": {},
   "outputs": [],
   "source": [
    "model_addr = 'Models/ctc daily md.json'\n",
    "weight_addr = 'Models/ctc daily md.h5'\n",
    "json_file = open(model_addr, 'r')\n",
    "loaded_model_json = json_file.read()\n",
    "json_file.close()\n",
    "model_daily = model_from_json(loaded_model_json, custom_objects={'CTCLayer': CTCLayer})\n",
    "model_daily.load_weights(weight_addr)\n",
    "model_daily = keras.models.Model(\n",
    "    model_daily.get_layer(name=\"image\").input, model_daily.get_layer(name=\"dense2\").output\n",
    ")"
   ]
  },
  {
   "cell_type": "code",
   "execution_count": 142,
   "metadata": {},
   "outputs": [],
   "source": [
    "model_addr = 'Models/ctc asl md.json'\n",
    "weight_addr = 'Models/ctc asl md.h5'\n",
    "json_file = open(model_addr, 'r')\n",
    "loaded_model_json = json_file.read()\n",
    "json_file.close()\n",
    "model_asl = model_from_json(loaded_model_json, custom_objects={'CTCLayer': CTCLayer})\n",
    "model_asl.load_weights(weight_addr)\n",
    "model_asl = keras.models.Model(\n",
    "    model_asl.get_layer(name=\"image\").input, model_asl.get_layer(name=\"dense2\").output\n",
    ")"
   ]
  },
  {
   "cell_type": "code",
   "execution_count": 210,
   "metadata": {},
   "outputs": [],
   "source": [
    "pred_labels = []\n",
    "modes = []\n",
    "cnt = 0\n",
    "# predict_generator_asldaily = data_generator_ctc_nolabel(x3test, ctc_ts3)\n",
    "# predict_generator_daily = data_generator_ctc_nolabel(x3test, ctc_ts_daily)\n",
    "# predict_generator_asl = data_generator_ctc_nolabel(x3test, ctc_ts_asl)\n",
    "for i in range(len(x3test)): # len(x3test)\n",
    "#     ylabel = np.expand_dims(np.array([ord(y)%32 for y in ctc_ts3[0]]),0)\n",
    "    sample = np.expand_dims(x3test[i],0)\n",
    "    pred_asldaily = np.argmax(np.squeeze(model_asldaily.predict(sample)),-1)\n",
    "    # remove blank\n",
    "    mask = pred_asldaily == 3\n",
    "    pred_noblank = pred_asldaily[~np.array(mask)]\n",
    "    mode = stats.mode(pred_noblank)[0][0]\n",
    "    modes.append(mode)\n",
    "    label = ''\n",
    "    if mode == 1: # if daily\n",
    "        pred_daily = np.argmax(np.squeeze(model_daily.predict(sample)),-1)\n",
    "        for num in pred_daily:\n",
    "            if chr(ord('@')+num) == 'E':# or chr(ord('@')+num) == 'A':\n",
    "                continue\n",
    "            label = label + chr(ord('@')+num)\n",
    "        pred_labels.append(label)\n",
    "        cnt += 1\n",
    "    else: # if asl\n",
    "        pred_asl = np.argmax(np.squeeze(model_asl.predict(sample)),-1)\n",
    "        for num in pred_asl:\n",
    "            if chr(ord('@')+num) == 'T':# or chr(ord('@')+num) == 'A':\n",
    "                continue\n",
    "            label = label + chr(ord('@')+num)\n",
    "        pred_labels.append(label)"
   ]
  },
  {
   "cell_type": "code",
   "execution_count": 213,
   "metadata": {
    "scrolled": true
   },
   "outputs": [
    {
     "name": "stdout",
     "output_type": "stream",
     "text": [
      "1. Predicted: AAABBBBBBBBBBBBBBBB | AAABBBBBBBBBBBBBBBB :Original\n",
      "2. Predicted: BBBBBBBBBBBB | BBBBBBBBBBBB :Original\n",
      "3. Predicted: ACCCCCCCCC | ACCCCCCCCA :Original\n",
      "4. Predicted: ANNNNNNNN | NNNNNNNNN :Original\n",
      "5. Predicted: AAAAAOOOOOOOOOOOOAA | AAAAAOOOOOOOOOOOOOA :Original\n",
      "6. Predicted: AAAPPPPPPPPPPPP | AAPPPPPPPPPPPPP :Original\n",
      "7. Predicted: AADDDDDDDDD | AADDDDDDDDA :Original\n",
      "8. Predicted: AABBBBBBBBBBBBBBB | AABBBBBBBBBBBBBBB :Original\n",
      "9. Predicted: BBBBBBBBBBBBBB | BBBBBBBBBBBBBB :Original\n",
      "10. Predicted: ACCCCCCCCC | ACCCCCCCCA :Original\n",
      "11. Predicted: AKKKKKKKHHH | AKKKKKKKKKA :Original\n",
      "12. Predicted: AAAMMLLMMLMA | AAALLLLLLLLL :Original\n",
      "13. Predicted: AAAMMMLLLLLLLA | AAMMMMMMMMMMMA :Original\n",
      "14. Predicted: DDDDDDDDDDDD | PPPDDDDDDDDD :Original\n",
      "15. Predicted: AABBBBBBBBBBBB | ABBBBBBBBBBBBB :Original\n",
      "16. Predicted: BBBBBBBBBBBBB | BBBBBBBBBBBBB :Original\n",
      "17. Predicted: CCCCCCCCCCC | CCCCCCCCCCC :Original\n",
      "18. Predicted: KKKKKKKKKKA | KKKKKKKKKKK :Original\n",
      "19. Predicted: AALLLLLLLLMAA | AALLLLLLLLLLA :Original\n",
      "20. Predicted: AAAMMMMMMMMMA | AAMMMMMMMMMMA :Original\n",
      "21. Predicted: AADDDDDDDDDDD | AAADDDDDDDDDD :Original\n",
      "22. Predicted: ABBBBBBBBB | ABBBBBBBBB :Original\n",
      "23. Predicted: BBBBBBBBBBBBBCCCCCCCCCCCCCCCC | BBBBBBBBBBBBBACCCCCCCCCCCCCCC :Original\n",
      "24. Predicted: KKKKKA | EEEEEA :Original\n",
      "25. Predicted: AFFFFFFFFFFFFFFFAAAAAGGGGGGGG | AFFFFFFFFFFFFFFFFAAAAGGGGGGGG :Original\n",
      "26. Predicted: AAA | MMA :Original\n",
      "27. Predicted: AAA | AAA :Original\n",
      "28. Predicted: DDDDDDD | DDDDDDA :Original\n",
      "29. Predicted: AAABBBBBBBBBBBBBBB | AAABBBBBBBBBBBBBBB :Original\n",
      "30. Predicted: BBBBBBBBBBBBBCCCCCCCCC | BBBBBBBBBBBBBCCCCCCCCC :Original\n",
      "31. Predicted: AAKKKKKKKKKKA | AAKKKKKKKKKKA :Original\n",
      "32. Predicted: AAALLLLLLLLAA | AALLLLLLLLLLA :Original\n",
      "33. Predicted: AAALLLLLLMMMMA | AAAMMMMMMMMMMA :Original\n",
      "34. Predicted: DDDDDDDD | DDDDDDDD :Original\n",
      "35. Predicted: ABBBBBBBBB | ABBBBBBBBB :Original\n",
      "36. Predicted: BBBBBBBBBBBBBBBBBCCCCCCCCCCC | BBBBBBBBBBBBBBBACCCCCCCCCCCC :Original\n",
      "37. Predicted: AQQQQQQQQQQ | AQQQQQQQQQA :Original\n",
      "38. Predicted: AAAPIRRRRRRRA | AAARRRRRRRRRA :Original\n",
      "39. Predicted: AAAAASSSSSSPPP | AAAASSSSSSSSSS :Original\n",
      "40. Predicted: AAADDDDDDDDDD | AADDDDDDDDDDD :Original\n",
      "41. Predicted: AABBBBBBBBBBBBB | AABBBBBBBBBBBBB :Original\n",
      "42. Predicted: BBBBBBBBBBBBCCCCCCCCCC | BBBBBBBBBBBBCCCCCCCCCC :Original\n",
      "43. Predicted: JHKQA | KKKKA :Original\n",
      "44. Predicted: AAFFFFFFFFFFFFAA | AALLLLLLLLLLLLAA :Original\n",
      "45. Predicted: AAAFFFFFFFAFMMMMAA | AAAMMMMMMMMMMMMMAA :Original\n",
      "46. Predicted: AADDDDDDDDDDD | AADDDDDDDDDDD :Original\n",
      "47. Predicted: ABABBBBBBBBBBBBBBB | AAAABBBBBBBBBBBBBB :Original\n",
      "48. Predicted: BBBBBBBBBBBBBBCCCCCCCCCCC | BBBBBBBBBBBBBBCCCCCCCCCCC :Original\n",
      "49. Predicted: AAKKKKIIIIIA | KKKKKKKKKKKK :Original\n",
      "50. Predicted: AALLIKKKKKIA | AALLLLLLLLLA :Original\n",
      "51. Predicted: AAAMMMMMMMOOOA | AAAMMMMMMMMMMA :Original\n",
      "52. Predicted: DDDDDDD | DDDDDDD :Original\n",
      "53. Predicted: AABBBBBBBBBBBBB | AABBBBBBBBBBBBB :Original\n",
      "54. Predicted: BBBBBBBBBBBBBBACCCCCCCCCC | BBBBBBBBBBBBBBACCCCCCCCCA :Original\n",
      "55. Predicted: AEEEEEEEEEAA | AEEEEEEEEEAA :Original\n",
      "56. Predicted: AALLLLLMMMAA | AAFFFFFFFFFA :Original\n",
      "57. Predicted: AAAJJJJJJJJJJJ | AAGGGGGGGGGGGG :Original\n",
      "58. Predicted: AAA | AAA :Original\n",
      "59. Predicted: DDDDDD | DDDDDD :Original\n",
      "60. Predicted: ABBBBBBBBB | ABBBBBBBBB :Original\n",
      "61. Predicted: BBBBBBBBBCCCCCCCCCCCC | BBBBBBBBBCCCCCCCCCCCC :Original\n",
      "62. Predicted: AAFFFFFFFKAAAKKKKAA | AANNNNNNNNNNNNNNNNA :Original\n",
      "63. Predicted: OOOOOOOOOOOOO | OOOOOOOOOOOOO :Original\n",
      "64. Predicted: AALLLRLLPPPPPA | APPPPPPPPPPPPA :Original\n",
      "65. Predicted: AAA | AAA :Original\n",
      "66. Predicted: DDDDDDDDDD | DDDDDDDDDA :Original\n",
      "67. Predicted: AAAAAAABBBBBBBBBBBBBBBB | AAAAAABBBBBBBBBBBBBBBBB :Original\n",
      "68. Predicted: BBBBBBBBBBBCCCCCCCCC | BBBBBBBBBBBCCCCCCCCC :Original\n",
      "69. Predicted: AAPSNNNNNN | ANNNNNNNNA :Original\n",
      "70. Predicted: AAAAJJJRRRPPJRRAA | AAAOOOOOOOOOOOOOA :Original\n",
      "71. Predicted: AAAPPPPPPPPPPP | AAPPPPPPPPPPPP :Original\n",
      "72. Predicted: ADDDDDDDDDD | ADDDDDDDDAA :Original\n",
      "73. Predicted: AAABBBBBBBBBBB | AAABBBBBBBBBBB :Original\n",
      "74. Predicted: BBBBBBBBBBBBBCCCCCCCCCCC | BBBBBBBBBBBBACCCCCCCCCCC :Original\n",
      "75. Predicted: FFKKKKKKAKKKKAA | KKKKKKKKKKKKKAA :Original\n",
      "76. Predicted: AFFFAHHHHHAAA | LLLLLLLLLLAAA :Original\n",
      "77. Predicted: AAAAAJJJJJJJA | AAAAAJJJJJJJJ :Original\n",
      "78. Predicted: QHHAA | JJJAA :Original\n",
      "79. Predicted: AAA | AAA :Original\n",
      "80. Predicted: DDDDDD | DDDDDD :Original\n",
      "81. Predicted: AABBBBBBBBBBB | AABBBBBBBBBBB :Original\n",
      "82. Predicted: BBBBBBBBBBBBBBCCCCCCCCCC | BBBBBBBBBBBBBBBCCCCCCCCC :Original\n",
      "83. Predicted: AAAJEJJJJJJA | AAAEEEEEEEEA :Original\n",
      "84. Predicted: AALLLLLMMMM | AAFFFFFFFFA :Original\n",
      "85. Predicted: AAAJJJJGGGGGGG | AAGGGGGGGGGGGG :Original\n",
      "86. Predicted: ADDDDDDDDD | ADDDDDDDDA :Original\n",
      "87. Predicted: AAABBBBBBBBBBBBB | AABBBBBBBBBBBBBB :Original\n",
      "88. Predicted: BBBBBBBBBBBB | BBBBBBBBBBBB :Original\n",
      "89. Predicted: CCCCCCCCCCCCC | CCCCCCCCCCAAA :Original\n",
      "90. Predicted: AHHHHHHHHHHA | AHHHHHHHHHHA :Original\n",
      "91. Predicted: AAIIIIIIIIIA | AAIIIIIIIIIA :Original\n",
      "92. Predicted: AAAJJJJJJJJA | AAJJJJJJJJJA :Original\n",
      "93. Predicted: ADDDDDDDDD | ADDDDDDDDD :Original\n",
      "94. Predicted: AAAAABBBBBBBBBBBBBBB | AAAAABBBBBBBBBBBBBBB :Original\n",
      "95. Predicted: BBBBBBBBBBBBBCCCCCCCCCCC | BBBBBBBBBBBBCCCCCCCCCCCC :Original\n",
      "96. Predicted: AAJMJKKKQKKA | AQQQQQQQQQQQ :Original\n",
      "97. Predicted: AARRRRRRRRRRRA | AARRRRRRRRRRRA :Original\n",
      "98. Predicted: AASRRRRRSSSSS | ASSSSSSSSSSSS :Original\n",
      "99. Predicted: DDDDDDDD | DDDDDDDA :Original\n",
      "100. Predicted: AAABBBBBBBBBBBBB | AAABBBBBBBBBBBBB :Original\n",
      "101. Predicted: BBBBBBBBBBBCCCCCCCC | BBBBBBBBBBBACCCCCCC :Original\n",
      "102. Predicted: AAAKKKKKKKKKA | AAAKKKKKKKKKK :Original\n",
      "103. Predicted: AAALLLLLLLLOAA | AAALLLLLLLLLAA :Original\n",
      "104. Predicted: AAMMMMMMMMMMA | AAMMMMMMMMMAA :Original\n",
      "105. Predicted: DDDDDDDDD | DDDDDDDDA :Original\n",
      "106. Predicted: ABBBBBBBBBB | AABBBBBBBBB :Original\n",
      "107. Predicted: BBBBBBBBBBB | BBBBBBBBBBB :Original\n",
      "108. Predicted: ACCCCCCCCCCC | ACCCCCCCCCCC :Original\n",
      "109. Predicted: HHNNNNNNNAA | NNNNNNNNNAA :Original\n",
      "110. Predicted: AAARLLLLLLOOLLAA | AAAOOOOOOOOOOOOA :Original\n",
      "111. Predicted: AAAPPPPPPPPPPA | AAPPPPPPPPPPPP :Original\n",
      "112. Predicted: AAADDDDDDDDDD | AAADDDDDDDDDD :Original\n",
      "113. Predicted: AAAABBBBBBBBBBBBBBB | AAAABBBBBBBBBBBBBBB :Original\n",
      "114. Predicted: BBBBBBBBBBBBBBCCCCCCCCCCC | BBBBBBBBBBBBBACCCCCCCCCCC :Original\n",
      "115. Predicted: AEEEEEQQQQA | QQQQQQQQQQA :Original\n",
      "116. Predicted: AAARRRRRRRRRRAA | AAARRRRRRRRRRRR :Original\n",
      "117. Predicted: AAAASOSSSSOOOOOO | AASSSSSSSSSSSSSA :Original\n",
      "118. Predicted: ADDDDDDDDDD | ADDDDDDDDDD :Original\n",
      "119. Predicted: AAABBBBBBBBBBBBBBB | AABBBBBBBBBBBBBBBB :Original\n",
      "120. Predicted: BBBBBBBBBBBBCCCCCCCCCC | BBBBBBBBBBBBCCCCCCCCCC :Original\n",
      "121. Predicted: AEEEEEEEEEEEA | AEEEEEEEEEEEA :Original\n",
      "122. Predicted: AAAFFFFFFFFFAA | AAAFFFFFFFFFFA :Original\n",
      "123. Predicted: AAGGGGGGGGGGG | AAAGGGGGGGGGA :Original\n",
      "124. Predicted: AADDDDDDDDDD | AADDDDDDDDDD :Original\n",
      "125. Predicted: AABBBBBBBBBB | AABBBBBBBBBB :Original\n",
      "126. Predicted: BBBBBBBBBBBB | BBBBBBBBBBBB :Original\n",
      "127. Predicted: ACCCCCCCCCC | BBCCCCCCCCC :Original\n",
      "128. Predicted: AALLLLLLPPAA | AAHHHHHHHHAA :Original\n",
      "129. Predicted: AAQJQQQQJJJA | AAIIIIIIIIIA :Original\n",
      "130. Predicted: AAAJJJJJJJJ | AAJJJJJJJJJ :Original\n",
      "131. Predicted: AAADDDDDDDDD | AAADDDDDDDDD :Original\n",
      "132. Predicted: AAABBBBBBBBBBBB | AAABBBBBBBBBBBB :Original\n",
      "133. Predicted: BBBBBBBBBCCCCCCCCCC | BBBBBBCCCCCCCCCCCCC :Original\n",
      "134. Predicted: AAAKGKLKIIIIA | AANNNNNNNNNNN :Original\n",
      "135. Predicted: AAFFFAAALFFFFFFFAAA | AAOOOOOOOOOOOOOOOAA :Original\n",
      "136. Predicted: AAPIIIIIOOOA | APPPPPPPPPPP :Original\n",
      "137. Predicted: SNNHN | PPPPP :Original\n",
      "138. Predicted: DDDDDDDDD | DDDDDDDAA :Original\n",
      "139. Predicted: ABBBBBBBBB | ABBBBBBBBB :Original\n",
      "140. Predicted: BBBBBBBBBBBBBBBBCCCCCCCCCCC | BBBBBBBBBBBBBBBBCCCCCCCCCCC :Original\n",
      "141. Predicted: AAIHHHHHHHI | AAHHHHHHHHH :Original\n",
      "142. Predicted: AAAIIIIIIIIIIIA | AAAIIIIIIIIIIII :Original\n",
      "143. Predicted: AAJJJJJJJJ | AAJJJJJJJJ :Original\n",
      "144. Predicted: DDDDDDDDDD | DDDDDDDDDD :Original\n",
      "145. Predicted: AAAABBBBBBBBBBBBBBBB | AAAABBBBBBBBBBBBBBBB :Original\n",
      "146. Predicted: BBBBBBBBBBBB | BBBBBBBBBBBB :Original\n",
      "147. Predicted: AHHHHHHHHH | HHHHHHHHHA :Original\n",
      "148. Predicted: AAAIIIIIIIIIAA | AAAIIIIIIIIIAA :Original\n",
      "149. Predicted: AAAAJJJJJJJJJJ | AAAAAJJJJJJJJJ :Original\n",
      "150. Predicted: DDDDDDDD | DDDDDDDA :Original\n",
      "151. Predicted: ABBBBBBBBBBBBBBBB | AABBBBBBBBBBBBBBB :Original\n",
      "152. Predicted: BBBBBBBBBBBBBACCCCCCCCC | BBBBBBBBBBBBBACCCCCCCCC :Original\n",
      "153. Predicted: AAAQQQQQQQQQQ | AAQQQQQQQQQQQ :Original\n",
      "154. Predicted: AARRRRRRRRRAA | AARRRRRRRRRRA :Original\n",
      "155. Predicted: AASSSSSSSSSSSAA | AAASSSSSSSSSSSA :Original\n",
      "156. Predicted: DDDDDDDDA | ADDDDDDDA :Original\n",
      "157. Predicted: AAABBBBBBBBBBBBBBB | AAAABBBBBBBBBBBBBB :Original\n",
      "158. Predicted: BBBBBBBBBBBB | BBBBBBBBBBBB :Original\n",
      "159. Predicted: CCCCCCCCCCC | CCCCCCCCCCC :Original\n",
      "160. Predicted: AHHHHHHHHH | HHHHHHHHHH :Original\n",
      "161. Predicted: AAIRRRRIIOA | AAIIIIIIIII :Original\n",
      "162. Predicted: AAAJJJJJJJJJ | AAAJJJJJJJJJ :Original\n",
      "163. Predicted: DDDDDDDDDD | DDDDDDDDDD :Original\n",
      "164. Predicted: AAAAAABBBBBBBBBBBBBBB | AAAAAABBBBBBBBBBBBBBB :Original\n",
      "165. Predicted: BBBBBBBBBBBBBBCCCCCCCCCC | BBBBBBBBBBBBBACCCCCCCCCC :Original\n",
      "166. Predicted: AQQQQQQQQQ | AQQQQQQQQQ :Original\n",
      "167. Predicted: AARRRRRRRRRRA | AARRRRRRRRRRA :Original\n",
      "168. Predicted: AAASSSSSSJJJGA | AAASSSSSSSSSSA :Original\n",
      "169. Predicted: DDDDDDDDA | DDDDDDDDA :Original\n",
      "170. Predicted: BBBBBBBBBBBBBBBBBB | AAAAAAABBBBBBBBBBB :Original\n",
      "171. Predicted: ACCCCCCCCCCCCC | BCCCCCCCCCCCCC :Original\n",
      "172. Predicted: EEEEEEEEH | AEEEEEEEE :Original\n",
      "173. Predicted: AAAFFFFFFFFFAA | AAAFFFFFFFFFAA :Original\n",
      "174. Predicted: AAAGGGGGGGGGG | AAAGGGGGGGGGA :Original\n",
      "175. Predicted: DDDDDDDDD | DDDDDDDDD :Original\n",
      "176. Predicted: AABBBBBBBBBBBB | AABBBBBBBBBBBB :Original\n",
      "177. Predicted: BBBBBBBBBB | BBBBBBBBBB :Original\n",
      "178. Predicted: ACCCCCCCCCC | ACCCCCCCCCC :Original\n",
      "179. Predicted: AHNNNNNNNNA | NNNNNNNNNNA :Original\n",
      "180. Predicted: AAAFLLLLLLLLMMAAA | AAAOOOOOOOOOOOOAA :Original\n",
      "181. Predicted: AAPPPPPPPPPPJRA | AAPPPPPPPPPPPPA :Original\n",
      "182. Predicted: AADDDDDDDDDD | AAADDDDDDDDD :Original\n",
      "183. Predicted: AAAAABBBBBBBBBBBBBBB | AAAAABBBBBBBBBBBBBBB :Original\n",
      "184. Predicted: BBBBBBBBBBBBBACCCCCCCCCC | BBBBBBBBBBBBBACCCCCCCCCC :Original\n",
      "185. Predicted: HHHNNA | HHHHHA :Original\n",
      "186. Predicted: AAAIIIIIIIIIA | AAAAIIIIIIIII :Original\n",
      "187. Predicted: AAJJJJJJJJJA | AAJJJJJJJJJJ :Original\n",
      "188. Predicted: DDDDDD | DDDDDD :Original\n",
      "189. Predicted: BBBBBBBBB | ABBBBBBBB :Original\n",
      "190. Predicted: BBBBBBBBBBBBBBCCCCCCCCCCC | BBBBBBBBBBBBBCCCCCCCCCCCC :Original\n",
      "191. Predicted: AAIIIIRIIIIIAA | AANNNNNNNNNNNN :Original\n",
      "192. Predicted: AAAOOOOOOOOOOOAA | AAAOOOOOOOOOOOOA :Original\n",
      "193. Predicted: AASSSSSPPPPP | APPPPPPPPPPP :Original\n",
      "194. Predicted: EKNHAA | PPPPPA :Original\n",
      "195. Predicted: DDDDDDDDD | DDDDDDDDD :Original\n",
      "196. Predicted: ABBBBBBBBBBBBBBBB | AABBBBBBBBBBBBBBB :Original\n",
      "197. Predicted: CCCCCCCCCC | CCCCCCCCCC :Original\n",
      "198. Predicted: AAAIIIIMMMOOOA | AAAHHHHHHHHHHA :Original\n",
      "199. Predicted: AAIIIIIIIIIA | AAIIIIIIIIIA :Original\n",
      "200. Predicted: AAAJJJJJJJJJGA | AAAJJJJJJJJJAA :Original\n",
      "201. Predicted: AAADDDDDDDDD | AAADDDDDDDDD :Original\n",
      "202. Predicted: BBBBBBBBBBBBBBBBCCC | BBBBBBBBBBBBBBBCCCC :Original\n",
      "203. Predicted: CCCCCCC | CCCCCCA :Original\n",
      "204. Predicted: AAARRRRJJJJJJRAA | AAQQQQQQQQQQQQQA :Original\n",
      "205. Predicted: AARRRRRRRRRRAA | AARRRRRRRRRRRA :Original\n",
      "206. Predicted: AASSSSSSSSSSSSA | ASSSSSSSSSSSSSS :Original\n",
      "207. Predicted: ADDDDDDDDDDD | AADDDDDDDDDA :Original\n",
      "208. Predicted: AABBBBBBBBBBBBB | AABBBBBBBBBBBBB :Original\n",
      "209. Predicted: BBBBBBBBBBBBBCCCCCCCCC | BBBBBBBBBBBBBCCCCCCCCC :Original\n",
      "210. Predicted: HHHHHHHHHHA | HHHHHHHHHAA :Original\n",
      "211. Predicted: AAIIIIIIIIII | AAAIIIIIIIII :Original\n",
      "212. Predicted: AAAJJJJJJJJJ | AAAJJJJJJJJJ :Original\n",
      "213. Predicted: AAADDDDDDDDDDD | AAAADDDDDDDDDA :Original\n",
      "214. Predicted: AABBBBBBBBBBBBBB | ABBBBBBBBBBBBBBB :Original\n",
      "215. Predicted: BBBBBBBBBBBBBBBBCCCCCCCC | BBBBBBBBBBBBBBBBCCCCCCCC :Original\n",
      "216. Predicted: AJJJEEEE | AQQQQQQQ :Original\n",
      "217. Predicted: AASSSSSSSSSSRRA | AARRRRRRRRRRRRA :Original\n",
      "218. Predicted: AAAPPSSSPPPPPPA | AAASSSSSSSSSSSS :Original\n",
      "219. Predicted: AAA | MAA :Original\n",
      "220. Predicted: DDDDDDD | DDDDDDD :Original\n",
      "221. Predicted: AABBBBBBBBBBBBBBB | AABBBBBBBBBBBBBBB :Original\n",
      "222. Predicted: BBBBBBBBBBBBACCCCCCCCC | BBBBBBBBBBBBACCCCCCCCC :Original\n",
      "223. Predicted: AAKKKKKKKKK | AAKKKKKKKKK :Original\n",
      "224. Predicted: AALLLLLLLLLA | AALLLLLLLLLA :Original\n",
      "225. Predicted: AAAMMMMMMMMMM | AAMMMMMMMMMMM :Original\n",
      "226. Predicted: AADDDDDDDDDD | AADDDDDDDDDD :Original\n",
      "227. Predicted: ABBBBBBBBB | AABBBBBBBB :Original\n",
      "228. Predicted: BBBBBBBBBBBB | BBBBBBBBBBBB :Original\n",
      "229. Predicted: CCCCCCCCCC | CCCCCCCCCC :Original\n",
      "230. Predicted: INNNNNNNNNA | AANNNNNNNAA :Original\n",
      "231. Predicted: AAAOOIIIOOOOOOA | AAAOOOOOOOOOOOA :Original\n",
      "232. Predicted: AAAPPPPPPPPPPPA | AAAPPPPPPPPPPAA :Original\n",
      "233. Predicted: AADDDDDDDDD | AADDDDDDDDD :Original\n",
      "234. Predicted: AABBBBBBBBBBBBBBB | AABBBBBBBBBBBBBBB :Original\n",
      "235. Predicted: BBBBBBBBBBBBB | BBBBBBBBBBBBB :Original\n",
      "236. Predicted: AANNNNNNNNNN | ANNNNNNNNNNA :Original\n",
      "237. Predicted: AAOOOOOOOOOPA | AOOOOOOOOOOOO :Original\n",
      "238. Predicted: AAPPPPPPPPPPPP | AAPPPPPPPPPPPP :Original\n",
      "239. Predicted: AADDDDDDDDDD | AADDDDDDDDDD :Original\n",
      "240. Predicted: AABBBBBBBBBBBBBBBB | AABBBBBBBBBBBBBBBB :Original\n",
      "241. Predicted: BBBBBBBBBBBBBACCCCCCCCC | BBBBBBBBBBBBBCCCCCCCCCC :Original\n",
      "242. Predicted: KKKKKKKKK | KKKKKKKKK :Original\n",
      "243. Predicted: AAALLMMMMMMA | AALLLLLLLLLA :Original\n",
      "244. Predicted: AAMMMMMMMMMM | AAMMMMMMMMMM :Original\n",
      "245. Predicted: DDDDDDDDD | DDDDDDDDD :Original\n",
      "246. Predicted: ABBBBBBBBB | ABBBBBBBBB :Original\n",
      "247. Predicted: BBBBBBBBBBBBBBBBBCCCCCCCCC | BBBBBBBBBBBBBBBBBACCCCCCCC :Original\n",
      "248. Predicted: AAIRKKKKKA | AAKKKKKKKK :Original\n",
      "249. Predicted: KQKFFAA | KKKKAAA :Original\n",
      "250. Predicted: AAAAOIIIIIIIIIIA | AAALLLLLLLLLLLAA :Original\n",
      "251. Predicted: AAAHHHHHHHHHHHA | AAAMMMMMMMMMMMA :Original\n",
      "252. Predicted: DDDDDD | DDDDDD :Original\n",
      "253. Predicted: AABBBBBBBBBBBBBBBBBB | ABBBBBBBBBBBBBBBBBBB :Original\n",
      "254. Predicted: CCCCCCCCCCCC | CCCCCCCCCCCA :Original\n",
      "255. Predicted: EEEEEEEEEEA | AEEEEEEEEEA :Original\n",
      "256. Predicted: AAFFFFFFFFFFAA | AAFFFFFFFFFFAA :Original\n",
      "257. Predicted: AAGGGGGGGGGGG | AAGGGGGGGGGGA :Original\n",
      "258. Predicted: DDDDDDDDD | DDDDDDDDD :Original\n",
      "259. Predicted: ABBBBBBBBBBBBBBB | ABBBBBBBBBBBBBBB :Original\n",
      "260. Predicted: BBBBBBBBBBBBBCCCCCCCCCC | BBBBBBBBBBBBBCCCCCCCCCC :Original\n",
      "261. Predicted: AKKKKKKKKKKA | AKKKKKKKKKKA :Original\n",
      "262. Predicted: AAALLFLLLLLAA | AALLLLLLLLLLA :Original\n",
      "263. Predicted: AAAFMMMMMMMMMA | AAAMMMMMMMMMMA :Original\n",
      "264. Predicted: AADDDDDDDDDD | AAADDDDDDDDD :Original\n",
      "265. Predicted: AABBBBBBBBBBBBBBB | AABBBBBBBBBBBBBBB :Original\n",
      "266. Predicted: BBBBBBBBBBBB | BBBBBBBBBBBB :Original\n",
      "267. Predicted: ACCCCCCCC | ACCCCCCCC :Original\n",
      "268. Predicted: AAFKKKKKKKKKA | AAKKKKKKKKKKA :Original\n",
      "269. Predicted: AALLLLLLLLLA | AALLLLLLLLLL :Original\n",
      "270. Predicted: AAMMMMMMMMLLL | AAMMMMMMMMMMA :Original\n",
      "271. Predicted: AAA | AAA :Original\n",
      "272. Predicted: DDDDDDDD | DDDDDDDA :Original\n"
     ]
    }
   ],
   "source": [
    "ctc_tr3 = [num_to_ch(y) for y in y3train]\n",
    "ctc_ts3 = [num_to_ch(y) for y in y3test]\n",
    "for idx in range(len(ctc_ts3)):\n",
    "    print(str(idx+1) + '. Predicted: ' + pred_labels[idx] + ' | ' + ctc_ts3[idx] + ' :Original')"
   ]
  },
  {
   "cell_type": "code",
   "execution_count": 214,
   "metadata": {
    "scrolled": true
   },
   "outputs": [],
   "source": [
    "from collections import Counter\n",
    "mode_orig = [max(Counter(y)) for y in ctc_ts3]\n",
    "mode_pred = [max(Counter(y)) if len(y) != 0 else 'A' for y in pred_labels]"
   ]
  },
  {
   "cell_type": "code",
   "execution_count": 215,
   "metadata": {},
   "outputs": [
    {
     "data": {
      "text/plain": [
       "83.08823529411765"
      ]
     },
     "execution_count": 215,
     "metadata": {},
     "output_type": "execute_result"
    }
   ],
   "source": [
    "cmp = [mode_pred[i] == mode_orig[i] for i in range(len(ctc_ts3)) if len(mode_pred[i]) != 0]\n",
    "trues = np.sum(cmp)\n",
    "acc = trues/len(cmp)*100\n",
    "acc"
   ]
  },
  {
   "cell_type": "code",
   "execution_count": null,
   "metadata": {},
   "outputs": [],
   "source": []
  }
 ],
 "metadata": {
  "kernelspec": {
   "display_name": "Python 3",
   "language": "python",
   "name": "python3"
  },
  "language_info": {
   "codemirror_mode": {
    "name": "ipython",
    "version": 3
   },
   "file_extension": ".py",
   "mimetype": "text/x-python",
   "name": "python",
   "nbconvert_exporter": "python",
   "pygments_lexer": "ipython3",
   "version": "3.7.2"
  }
 },
 "nbformat": 4,
 "nbformat_minor": 2
}
