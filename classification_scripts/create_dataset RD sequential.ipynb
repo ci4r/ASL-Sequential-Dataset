{
 "cells": [
  {
   "cell_type": "code",
   "execution_count": 69,
   "metadata": {
    "scrolled": true
   },
   "outputs": [
    {
     "name": "stdout",
     "output_type": "stream",
     "text": [
      "File to be created: Datasets/Blake2_RAmap.hdf5\n"
     ]
    }
   ],
   "source": [
    "from random import shuffle\n",
    "import glob,h5py, cv2\n",
    "import numpy as np\n",
    "from IPython.display import clear_output\n",
    "from pandas import read_csv\n",
    "from tensorflow.keras.utils import to_categorical\n",
    "from sklearn.model_selection import train_test_split\n",
    "from collections import Counter\n",
    "width = 128\n",
    "height = 128\n",
    "channels = 3\n",
    "duration = 24.2\n",
    "fps = 25\n",
    "subject = 'Blake2'\n",
    "num_frames = int(duration*fps) # axis = 1 dimension, also the # of frames are going to be padded to this value.\n",
    "filename = 'Datasets/'+subject+'_RAmap.hdf5'\n",
    "print('File to be created: ' + filename)"
   ]
  },
  {
   "cell_type": "code",
   "execution_count": 70,
   "metadata": {},
   "outputs": [
    {
     "name": "stdout",
     "output_type": "stream",
     "text": [
      "Num. of label files: 23\n",
      "1. /mnt/HDD01/rspl-admin/DATASETS/Fall Sequential/Outputs/6 apr blake/labels/rangeDoppler/11010003_1617741768_1.txt\n",
      "2. /mnt/HDD01/rspl-admin/DATASETS/Fall Sequential/Outputs/6 apr blake/labels/rangeDoppler/11010003_1617741768_2.txt\n",
      "3. /mnt/HDD01/rspl-admin/DATASETS/Fall Sequential/Outputs/6 apr blake/labels/rangeDoppler/11010003_1617741768_3.txt\n",
      "4. /mnt/HDD01/rspl-admin/DATASETS/Fall Sequential/Outputs/6 apr blake/labels/rangeDoppler/11010003_1617741768_4.txt\n",
      "5. /mnt/HDD01/rspl-admin/DATASETS/Fall Sequential/Outputs/6 apr blake/labels/rangeDoppler/11010003_1617741768_5.txt\n"
     ]
    }
   ],
   "source": [
    "# load labels\n",
    "trainy = '/mnt/HDD01/rspl-admin/DATASETS/Fall Sequential/Outputs/6 apr blake/labels/rangeDoppler/*.txt'\n",
    "trainy_files = sorted(glob.glob(trainy))\n",
    "print('Num. of label files: '+str(len(trainy_files)))\n",
    "for i in range(0,5):\n",
    "    print(str(i+1)+'. ' +trainy_files[i])"
   ]
  },
  {
   "cell_type": "code",
   "execution_count": 71,
   "metadata": {},
   "outputs": [
    {
     "name": "stdout",
     "output_type": "stream",
     "text": [
      "Num. of label files: 23\n",
      "1. /mnt/HDD01/rspl-admin/DATASETS/Fall Sequential/Outputs/6 apr blake/rangeDOA/11010003_1617741768_1.avi\n",
      "2. /mnt/HDD01/rspl-admin/DATASETS/Fall Sequential/Outputs/6 apr blake/rangeDOA/11010003_1617741768_2.avi\n",
      "3. /mnt/HDD01/rspl-admin/DATASETS/Fall Sequential/Outputs/6 apr blake/rangeDOA/11010003_1617741768_3.avi\n",
      "4. /mnt/HDD01/rspl-admin/DATASETS/Fall Sequential/Outputs/6 apr blake/rangeDOA/11010003_1617741768_4.avi\n",
      "5. /mnt/HDD01/rspl-admin/DATASETS/Fall Sequential/Outputs/6 apr blake/rangeDOA/11010003_1617741768_5.avi\n"
     ]
    }
   ],
   "source": [
    "# load videos\n",
    "trainpath = '/mnt/HDD01/rspl-admin/DATASETS/Fall Sequential/Outputs/*/rangeDOA/*.avi'\n",
    "train_files2 = sorted(glob.glob(trainpath))\n",
    "len(train_files2)\n",
    "train_files2[0]\n",
    "fname_ls = []\n",
    "train_files = []\n",
    "for i in range(0,len(trainy_files)):\n",
    "#     fname = trainy_files[i][-23:].replace(\"txt\",\"avi\") # -23 for nonbinary labels\n",
    "#     fname = trainy_files[i][-30:].replace(\"txt\",\"avi\") # -23 for nonbinary labels\n",
    "#     fname = fname.replace('_binary','')\n",
    "#     fname = trainy_files[i][-9:].replace(\"txt\",\"avi\") # blake\n",
    "    slash_idx = trainy_files[i].rfind('/')\n",
    "    fname = trainy_files[i][slash_idx:].replace(\"txt\",\"avi\")\n",
    "    fname_ls.append(fname)\n",
    "    idx = [j for j, s in enumerate(train_files2) if fname in s] #train_files2.index(fname) \n",
    "    if len(idx) == 1:\n",
    "        train_files.append(train_files2[idx[0]])\n",
    "    else:\n",
    "        print('2 identical filenames at i=',str(i))\n",
    "print('Num. of label files: '+str(len(train_files)))\n",
    "for i in range(0,5):    \n",
    "    print(str(i+1)+'. '+train_files[i])"
   ]
  },
  {
   "cell_type": "code",
   "execution_count": 72,
   "metadata": {},
   "outputs": [],
   "source": [
    "def FrameCapture_backup(path): \n",
    "      \n",
    "    # Path to video file \n",
    "    vidObj = cv2.VideoCapture(path) \n",
    "    video_length = int(vidObj.get(cv2.CAP_PROP_FRAME_COUNT))\n",
    "#     print (\"Number of frames: \", video_length)\n",
    "    # Used as counter variable \n",
    "    count = 0\n",
    "  \n",
    "    # checks whether frames were extracted \n",
    "    success = 1\n",
    "    frames = []\n",
    "    while vidObj.isOpened: \n",
    "  \n",
    "        # vidObj object calls read \n",
    "        # function extract frames \n",
    "        success, frame = vidObj.read() \n",
    "        resize = cv2.resize(frame, (width,height), interpolation = cv2.INTER_LINEAR)\n",
    "        frames.append(resize) # .resize(width,height)\n",
    "        count += 1\n",
    "        if (count > (video_length-1)):\n",
    "            break\n",
    "    result = np.array([frames[i] for i in range(len(frames))])\n",
    "    return result"
   ]
  },
  {
   "cell_type": "code",
   "execution_count": 73,
   "metadata": {},
   "outputs": [],
   "source": [
    "def FrameCapture(path): \n",
    "      \n",
    "    # Path to video file \n",
    "    vidObj = cv2.VideoCapture(path) \n",
    "    video_length = int(vidObj.get(cv2.CAP_PROP_FRAME_COUNT))\n",
    "#     print (\"Number of frames: \", video_length)\n",
    "    # Used as counter variable \n",
    "    count = 0\n",
    "    success, frame = vidObj.read() \n",
    "    # checks whether frames were extracted \n",
    "#     success = 1\n",
    "    frames = []\n",
    "    while success: \n",
    "  \n",
    "        resized = cv2.resize(frame, (width,height), interpolation = cv2.INTER_LINEAR)\n",
    "        success, frame = vidObj.read() \n",
    "#         print('Read a new frame: ', success)\n",
    "        frames.append(resized) # .resized(width,height)\n",
    "        count += 1\n",
    "        if (count > (video_length-1)):\n",
    "            break\n",
    "    result = np.array([frames[i] for i in range(len(frames))])\n",
    "    return result"
   ]
  },
  {
   "cell_type": "code",
   "execution_count": 74,
   "metadata": {},
   "outputs": [],
   "source": [
    "def pad_video(video):\n",
    "    if video.shape[0] < num_frames:\n",
    "        while video.shape[0] < num_frames:\n",
    "            video_padded = np.concatenate((video, video[-(num_frames-len(video)):]), axis = 0)\n",
    "            if video_padded.shape[0] == num_frames:\n",
    "                break\n",
    "    else:\n",
    "        video_padded = video[:num_frames]\n",
    "#     video_padded = video[:-1]\n",
    "    return video_padded"
   ]
  },
  {
   "cell_type": "code",
   "execution_count": 75,
   "metadata": {},
   "outputs": [],
   "source": [
    "# load a single file as a numpy array\n",
    "def load_file(filepath):\n",
    "    dataframe = read_csv(filepath, header=None, delim_whitespace=True)\n",
    "    return dataframe.values"
   ]
  },
  {
   "cell_type": "code",
   "execution_count": 76,
   "metadata": {
    "scrolled": true
   },
   "outputs": [
    {
     "name": "stdout",
     "output_type": "stream",
     "text": [
      "Loading video 23/23 /mnt/HDD01/rspl-admin/DATASETS/Fall Sequential/Outputs/6 apr blake/rangeDOA/11050003_1617742722_4.avi\n",
      "(23, 605, 128, 128, 3)\n"
     ]
    }
   ],
   "source": [
    "videos = []\n",
    "video_di = []\n",
    "cnt = 1\n",
    "for video in train_files:\n",
    "    \n",
    "    clear_output(wait=True)\n",
    "    print('Loading video '+str(cnt)+'/'+str(len(train_files))+ ' '+video)#,end=\"\\r\")\n",
    "    video_di = pad_video(FrameCapture(video))\n",
    "#     video_di = FrameCapture(video)\n",
    "    videos.append(video_di)\n",
    "        \n",
    "    \n",
    "    cnt += 1\n",
    "videos = np.array(videos)   \n",
    "# x_train = np.array(np.concatenate(x_train))\n",
    "\n",
    "videos = videos/255. # normalize\n",
    "print(videos.shape)"
   ]
  },
  {
   "cell_type": "code",
   "execution_count": 77,
   "metadata": {},
   "outputs": [],
   "source": [
    "def pad_labels(yx):\n",
    "    numpad = duration*fps - yx.shape[1]\n",
    "    pads = np.repeat(yx[0,-1],numpad)\n",
    "    padded = np.expand_dims(np.append(yx,pads),0)\n",
    "    return padded"
   ]
  },
  {
   "cell_type": "code",
   "execution_count": 78,
   "metadata": {},
   "outputs": [
    {
     "name": "stdout",
     "output_type": "stream",
     "text": [
      "Loading training labels #23\n",
      "(23, 605, 19)\n"
     ]
    }
   ],
   "source": [
    "labels = []\n",
    "\n",
    "cnt = 1\n",
    "for file in trainy_files:\n",
    "    \n",
    "    clear_output(wait=True)\n",
    "    print('Loading training labels #'+str(cnt))\n",
    "    yx = load_file(file)\n",
    "    if yx.shape[1] < duration*fps:\n",
    "        yx = pad_labels(yx)\n",
    "    idx = np.linspace(0,yx.shape[1]-1,num_frames).astype(int)\n",
    "    labels.append(yx[0,idx])\n",
    "#     labels.append(yx)\n",
    "    \n",
    "    cnt += 1\n",
    "labels = np.array(labels)    \n",
    "# labels = to_categorical(np.swapaxes(labels,1,2))\n",
    "labels = to_categorical(labels)\n",
    "idx = np.linspace(0,labels.shape[1]-1,num_frames).astype(int)\n",
    "labels = labels[:,idx,:]\n",
    "print(labels.shape)"
   ]
  },
  {
   "cell_type": "markdown",
   "metadata": {},
   "source": [
    "#### Train-Test Split"
   ]
  },
  {
   "cell_type": "code",
   "execution_count": 79,
   "metadata": {},
   "outputs": [
    {
     "name": "stdout",
     "output_type": "stream",
     "text": [
      "(18, 605, 128, 128, 3)\n",
      "(18, 605, 19)\n",
      "(5, 605, 128, 128, 3)\n",
      "(5, 605, 19)\n",
      "# of frames in a class:\n"
     ]
    },
    {
     "data": {
      "text/plain": [
       "Counter({0: 2994,\n",
       "         1: 2449,\n",
       "         2: 1107,\n",
       "         13: 236,\n",
       "         14: 276,\n",
       "         15: 266,\n",
       "         3: 957,\n",
       "         10: 176,\n",
       "         11: 198,\n",
       "         12: 187,\n",
       "         4: 237,\n",
       "         5: 257,\n",
       "         6: 271,\n",
       "         7: 304,\n",
       "         8: 300,\n",
       "         9: 313,\n",
       "         16: 122,\n",
       "         17: 123,\n",
       "         18: 117})"
      ]
     },
     "execution_count": 79,
     "metadata": {},
     "output_type": "execute_result"
    }
   ],
   "source": [
    "x_train, x_test, y_train, y_test = train_test_split(videos, labels, test_size=0.2, random_state=1)\n",
    "\n",
    "# if Reshape == 1:\n",
    "#     x_train = x_train.reshape(-1,fps,x_train.shape[2],x_train.shape[3],x_train.shape[4])\n",
    "#     x_test = x_test.reshape(-1,fps,x_test.shape[2],x_test.shape[3],x_test.shape[4])\n",
    "#     y_train = y_train.reshape(-1,fps,y_train.shape[2])\n",
    "#     y_test = y_test.reshape(-1,fps,y_test.shape[2])\n",
    "    \n",
    "print(x_train.shape)\n",
    "print(y_train.shape)\n",
    "print(x_test.shape)\n",
    "print(y_test.shape)\n",
    "print('# of frames in a class:')\n",
    "Counter(np.concatenate(np.argmax(y_train, axis=2),axis=0))"
   ]
  },
  {
   "cell_type": "code",
   "execution_count": 80,
   "metadata": {},
   "outputs": [
    {
     "name": "stdout",
     "output_type": "stream",
     "text": [
      "Datasets/Blake2_RAmap.hdf5 created.\n"
     ]
    }
   ],
   "source": [
    "f = h5py.File(filename, mode='w')\n",
    "f.create_dataset(\"train_img\", x_train.shape, np.uint8)\n",
    "f.create_dataset(\"test_img\", x_test.shape, np.uint8)  \n",
    "f.create_dataset(\"train_labels\", y_train.shape, np.uint8)\n",
    "f.create_dataset(\"test_labels\", y_test.shape, np.uint8)\n",
    "\n",
    "f[\"train_img\"][...] = x_train\n",
    "f[\"test_img\"][...] = x_test\n",
    "f[\"train_labels\"][...] = y_train\n",
    "f[\"test_labels\"][...] = y_test\n",
    "f.close()\n",
    "print(filename+' created.')"
   ]
  },
  {
   "cell_type": "code",
   "execution_count": null,
   "metadata": {},
   "outputs": [],
   "source": []
  },
  {
   "cell_type": "code",
   "execution_count": null,
   "metadata": {},
   "outputs": [],
   "source": []
  }
 ],
 "metadata": {
  "kernelspec": {
   "display_name": "Python 3",
   "language": "python",
   "name": "python3"
  },
  "language_info": {
   "codemirror_mode": {
    "name": "ipython",
    "version": 3
   },
   "file_extension": ".py",
   "mimetype": "text/x-python",
   "name": "python",
   "nbconvert_exporter": "python",
   "pygments_lexer": "ipython3",
   "version": "3.7.2"
  },
  "widgets": {
   "state": {
    "198b1c2482a344d69143819abc57d8ab": {
     "views": [
      {
       "cell_index": 12
      }
     ]
    },
    "925b2dc0719b43b49612d1453eb0a2c3": {
     "views": [
      {
       "cell_index": 12
      }
     ]
    }
   },
   "version": "1.2.0"
  }
 },
 "nbformat": 4,
 "nbformat_minor": 2
}
