{
 "cells": [
  {
   "cell_type": "code",
   "execution_count": 1,
   "metadata": {},
   "outputs": [
    {
     "name": "stdout",
     "output_type": "stream",
     "text": [
      "File to be created: Datasets/final_imit_spec2_128.pkl\n"
     ]
    }
   ],
   "source": [
    "from random import shuffle\n",
    "import glob,h5py, cv2, scipy, pickle, itertools, re\n",
    "import numpy as np\n",
    "from IPython.display import clear_output\n",
    "from pandas import read_csv\n",
    "from tensorflow.keras.utils import to_categorical\n",
    "from sklearn.model_selection import train_test_split\n",
    "from collections import Counter\n",
    "from tqdm import tqdm\n",
    "\n",
    "filename = 'Datasets/'+'final_imit_spec2_128.pkl' # no resize\n",
    "print('File to be created: ' + filename)"
   ]
  },
  {
   "cell_type": "code",
   "execution_count": 2,
   "metadata": {},
   "outputs": [
    {
     "name": "stdout",
     "output_type": "stream",
     "text": [
      "Num. of label files: 1320\n",
      "1. /mnt/HDD01/rspl-admin/DATASETS/Fall Sequential/Outputs/10 dec emre mahbub/microDoppler/11020014_1607634489_4.png\n",
      "2. /mnt/HDD01/rspl-admin/DATASETS/Fall Sequential/Outputs/10 dec emre mahbub/microDoppler/11020014_1607634489_5.png\n",
      "3. /mnt/HDD01/rspl-admin/DATASETS/Fall Sequential/Outputs/10 dec emre mahbub/microDoppler/11050014_1607635095_2.png\n",
      "4. /mnt/HDD01/rspl-admin/DATASETS/Fall Sequential/Outputs/10 dec emre mahbub/microDoppler/11020014_1607634489_1.png\n",
      "5. /mnt/HDD01/rspl-admin/DATASETS/Fall Sequential/Outputs/10 dec emre mahbub/microDoppler/11050014_1607635095_5.png\n"
     ]
    }
   ],
   "source": [
    "# load images\n",
    "subjects = ['10 dec emre mahbub', '11 jan mahbub emre ladi', '12 jan ozgur mahbub ladi emre', \n",
    "            '13 jan ridvan ademola sean akthar emre', '14 jan ashwanth zeki', '15 apr ozgur',\n",
    "           '15 jan emin', '19 apr sean', '19 apr sevgi', '21 apr emin', '22 apr ladi', '22 apr sean',\n",
    "           '23 apr alperen', '23 apr mahbub', '5 apr sevgi']\n",
    "# subjects = ['6 apr blake', '15 apr darrin', '16 apr devon asl2', '20 apr caroline', '21 apr blake']\n",
    "mainpath = '/mnt/HDD01/rspl-admin/DATASETS/Fall Sequential/Outputs/'\n",
    "im_files = []\n",
    "for i in range(len(subjects)):\n",
    "    addr = glob.glob(mainpath+subjects[i]+'/microDoppler/'+'*.png')\n",
    "    im_files.append(addr)\n",
    "im_files = sum(im_files, [])\n",
    "print('Num. of label files: '+str(len(im_files)))\n",
    "for i in range(0,5):    \n",
    "    print(str(i+1)+'. '+im_files[i])"
   ]
  },
  {
   "cell_type": "code",
   "execution_count": 3,
   "metadata": {},
   "outputs": [],
   "source": [
    "# load a single file as a numpy array\n",
    "def load_file(filepath):\n",
    "    dataframe = read_csv(filepath, header=None, delim_whitespace=True)\n",
    "    return np.array(dataframe.values)"
   ]
  },
  {
   "cell_type": "code",
   "execution_count": 4,
   "metadata": {},
   "outputs": [
    {
     "name": "stderr",
     "output_type": "stream",
     "text": [
      "100%|██████████| 1320/1320 [02:22<00:00,  9.25it/s]"
     ]
    },
    {
     "name": "stdout",
     "output_type": "stream",
     "text": [
      "(1320, 1482)\n",
      "Counter({3: 212, 9: 212, 7: 212, 1: 212, 5: 208, 2: 53, 6: 53, 8: 53, 0: 53, 4: 52})\n"
     ]
    },
    {
     "name": "stderr",
     "output_type": "stream",
     "text": [
      "\n"
     ]
    }
   ],
   "source": [
    "labels = []\n",
    "common = '/mnt/HDD01/rspl-admin/DATASETS/Fall Sequential/Outputs/common labels/microDoppler/'\n",
    "cnt = []\n",
    "for i in tqdm(range(len(im_files))):\n",
    "    seq = im_files[i][-22]\n",
    "    it = im_files[i][-5]\n",
    "    \n",
    "    if seq == '1' and it == '1':\n",
    "        labels.append(np.squeeze(load_file(common+'1_1.txt')))\n",
    "        cnt.append(0)\n",
    "    elif seq == '1' and it != '1':\n",
    "        labels.append(np.squeeze(load_file(common+'1_2to5.txt')))\n",
    "        cnt.append(1)\n",
    "    elif seq == '2' and it == '1':\n",
    "        labels.append(np.squeeze(load_file(common+'2_1.txt')))\n",
    "        cnt.append(2)\n",
    "    elif seq == '2' and it != '1':\n",
    "        labels.append(np.squeeze(load_file(common+'2_2to5.txt')))\n",
    "        cnt.append(3)\n",
    "    elif seq == '3' and it == '1':\n",
    "        labels.append(np.squeeze(load_file(common+'3_1.txt')))\n",
    "        cnt.append(4)\n",
    "    elif seq == '3' and it != '1':\n",
    "        labels.append(np.squeeze(load_file(common+'3_2to5.txt')))\n",
    "        cnt.append(5)\n",
    "    elif seq == '4' and it == '1':\n",
    "        labels.append(np.squeeze(load_file(common+'4_1.txt')))\n",
    "        cnt.append(6)\n",
    "    elif seq == '4' and it != '1':\n",
    "        labels.append(np.squeeze(load_file(common+'4_2to5.txt')))\n",
    "        cnt.append(7)\n",
    "    elif seq == '5' and it == '1':\n",
    "        labels.append(np.squeeze(load_file(common+'5_1.txt')))\n",
    "        cnt.append(8)\n",
    "    elif seq == '5' and it != '1':\n",
    "        labels.append(np.squeeze(load_file(common+'5_2to5.txt')))\n",
    "        cnt.append(9)\n",
    "labels = np.array(labels)\n",
    "print(labels.shape)\n",
    "print(Counter(cnt))"
   ]
  },
  {
   "cell_type": "code",
   "execution_count": 5,
   "metadata": {},
   "outputs": [
    {
     "name": "stderr",
     "output_type": "stream",
     "text": [
      "  0%|          | 1/1320 [00:00<02:50,  7.71it/s]"
     ]
    },
    {
     "name": "stdout",
     "output_type": "stream",
     "text": [
      "1970\n"
     ]
    },
    {
     "name": "stderr",
     "output_type": "stream",
     "text": [
      "100%|██████████| 1320/1320 [02:18<00:00,  9.52it/s]\n"
     ]
    }
   ],
   "source": [
    "envelopes = []\n",
    "envs = glob.glob('/mnt/HDD01/rspl-admin/DATASETS/Fall Sequential/Outputs/*/envelopes/*.txt')\n",
    "print(len(envs))\n",
    "for i in tqdm(range(len(im_files)), position = 0, leave = True):\n",
    "#     clear_output(wait=True)\n",
    "    fname = im_files[i][-25:].replace('png','txt')\n",
    "    idx = [x for x in range(len(envs)) if re.search(fname, envs[x])]\n",
    "    assert len(idx) == 1\n",
    "    envelopes.append(np.squeeze(load_file(envs[idx[0]])))\n",
    "envelopes = np.array(envelopes) "
   ]
  },
  {
   "cell_type": "code",
   "execution_count": 6,
   "metadata": {},
   "outputs": [],
   "source": [
    "train_spec, test_spec, y_train, y_test, env_train, env_test = train_test_split(im_files, labels, envelopes, test_size=0.2, random_state=1)"
   ]
  },
  {
   "cell_type": "code",
   "execution_count": 7,
   "metadata": {},
   "outputs": [
    {
     "name": "stdout",
     "output_type": "stream",
     "text": [
      "num steps: 120\n",
      "desired width: 15360\n"
     ]
    }
   ],
   "source": [
    "dur = 24 # sec\n",
    "win = 0.2 # win len\n",
    "n_step = int(dur/win)\n",
    "des_w = 128*n_step\n",
    "des_h = 128\n",
    "print('num steps: '+str(n_step))\n",
    "print('desired width: '+str(des_w))"
   ]
  },
  {
   "cell_type": "code",
   "execution_count": 8,
   "metadata": {},
   "outputs": [],
   "source": [
    "def resizer(im, des_w, des_h, n_step):\n",
    "    resized = np.reshape(cv2.resize(im, (des_w, des_h), interpolation = cv2.INTER_AREA),(n_step, des_h, 128, 3))    \n",
    "    return resized"
   ]
  },
  {
   "cell_type": "code",
   "execution_count": 9,
   "metadata": {},
   "outputs": [
    {
     "name": "stdout",
     "output_type": "stream",
     "text": [
      "Loading test image 264/264 /mnt/HDD01/rspl-admin/DATASETS/Fall Sequential/Outputs/13 jan ridvan ademola sean akthar emre/microDoppler/11020003_1610581049_4.png\n",
      "orig shape: (120, 128, 128, 3)\n",
      "(1056, 120, 128, 128, 3)\n",
      "(264, 120, 128, 128, 3)\n"
     ]
    }
   ],
   "source": [
    "cnt = 1\n",
    "train_images = []\n",
    "\n",
    "for image in train_spec:\n",
    "    img = cv2.imread(image)\n",
    "    img = cv2.cvtColor(img, cv2.COLOR_BGR2RGB) # cv2 load images as BGR, convert it to RGB\n",
    "    img = resizer(img, des_w, des_h, n_step)\n",
    "    clear_output(wait=True)\n",
    "    print('Loading training image '+str(cnt)+'/'+str(len(train_spec))+ ' '+image)\n",
    "    print('orig shape: '+str(img.shape))\n",
    "    train_images.append(img/255.)  \n",
    "    cnt += 1\n",
    "train_images = np.array(train_images)\n",
    "cnt = 1\n",
    "test_images = []\n",
    "\n",
    "for image in test_spec:\n",
    "    img = cv2.imread(image)\n",
    "    img = cv2.cvtColor(img, cv2.COLOR_BGR2RGB) # cv2 load images as BGR, convert it to RGB\n",
    "    img = resizer(img, des_w, des_h, n_step)\n",
    "    clear_output(wait=True)\n",
    "    print('Loading test image '+str(cnt)+'/'+str(len(test_spec))+ ' '+image)\n",
    "    print('orig shape: '+str(img.shape))\n",
    "    test_images.append(img/255.)  \n",
    "    cnt += 1\n",
    "test_images = np.array(test_images)\n",
    "\n",
    "print(train_images.shape)\n",
    "print(test_images.shape)"
   ]
  },
  {
   "cell_type": "code",
   "execution_count": 10,
   "metadata": {},
   "outputs": [
    {
     "name": "stdout",
     "output_type": "stream",
     "text": [
      "Datasets/final_imit_spec2_128.pkl created.\n"
     ]
    }
   ],
   "source": [
    "data = [train_images[0:800], test_images[0:200], y_train[0:800], y_test[0:200], env_train[0:800], env_test[0:200]]\n",
    "with open(filename, 'wb') as output:  # Overwrites any existing file.\n",
    "        pickle.dump(data, output, pickle.HIGHEST_PROTOCOL)\n",
    "print(filename+' created.')"
   ]
  },
  {
   "cell_type": "code",
   "execution_count": 11,
   "metadata": {},
   "outputs": [],
   "source": [
    "with open(filename, 'rb') as input:\n",
    "    x = pickle.load(input)"
   ]
  },
  {
   "cell_type": "code",
   "execution_count": 12,
   "metadata": {},
   "outputs": [
    {
     "data": {
      "text/plain": [
       "(120, 128, 128, 3)"
      ]
     },
     "execution_count": 12,
     "metadata": {},
     "output_type": "execute_result"
    }
   ],
   "source": [
    "x[0][0].shape"
   ]
  },
  {
   "cell_type": "code",
   "execution_count": null,
   "metadata": {},
   "outputs": [],
   "source": []
  },
  {
   "cell_type": "code",
   "execution_count": null,
   "metadata": {},
   "outputs": [],
   "source": []
  },
  {
   "cell_type": "code",
   "execution_count": null,
   "metadata": {},
   "outputs": [],
   "source": []
  }
 ],
 "metadata": {
  "kernelspec": {
   "display_name": "Python 3",
   "language": "python",
   "name": "python3"
  },
  "language_info": {
   "codemirror_mode": {
    "name": "ipython",
    "version": 3
   },
   "file_extension": ".py",
   "mimetype": "text/x-python",
   "name": "python",
   "nbconvert_exporter": "python",
   "pygments_lexer": "ipython3",
   "version": "3.7.2"
  }
 },
 "nbformat": 4,
 "nbformat_minor": 2
}
