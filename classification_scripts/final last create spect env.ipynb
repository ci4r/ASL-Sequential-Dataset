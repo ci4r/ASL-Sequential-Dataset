{
 "cells": [
  {
   "cell_type": "code",
   "execution_count": 43,
   "metadata": {},
   "outputs": [
    {
     "name": "stdout",
     "output_type": "stream",
     "text": [
      "File to be created: Datasets/final_caroline_spec2_128_last.pkl\n"
     ]
    }
   ],
   "source": [
    "from random import shuffle\n",
    "import glob,h5py, cv2, scipy, pickle, itertools, re\n",
    "import numpy as np\n",
    "from IPython.display import clear_output\n",
    "from pandas import read_csv\n",
    "from tensorflow.keras.utils import to_categorical\n",
    "from sklearn.model_selection import train_test_split\n",
    "from collections import Counter\n",
    "from tqdm import tqdm\n",
    "subj = 'caroline'\n",
    "filename = 'Datasets/'+'final_'+subj+'_spec2_128_last.pkl' # no resize\n",
    "print('File to be created: ' + filename)"
   ]
  },
  {
   "cell_type": "code",
   "execution_count": 44,
   "metadata": {},
   "outputs": [
    {
     "name": "stdout",
     "output_type": "stream",
     "text": [
      "Num. of label files: 125\n",
      "1. /mnt/HDD01/rspl-admin/DATASETS/Fall Sequential/Outputs/20 apr caroline/labels/microDoppler/11010001_1618952365_2.txt\n",
      "2. /mnt/HDD01/rspl-admin/DATASETS/Fall Sequential/Outputs/20 apr caroline/labels/microDoppler/11010001_1618951328_3.txt\n",
      "3. /mnt/HDD01/rspl-admin/DATASETS/Fall Sequential/Outputs/20 apr caroline/labels/microDoppler/11020001_1618950528_1.txt\n",
      "4. /mnt/HDD01/rspl-admin/DATASETS/Fall Sequential/Outputs/20 apr caroline/labels/microDoppler/11050001_1618953792_1.txt\n",
      "5. /mnt/HDD01/rspl-admin/DATASETS/Fall Sequential/Outputs/20 apr caroline/labels/microDoppler/11040001_1618952922_4.txt\n"
     ]
    }
   ],
   "source": [
    "# load labels\n",
    "# subjects = ['10 dec emre mahbub', '12 jan emre', '11 jan mahbub emre ladi', '12 jan ozgur mahbub ladi emre', \n",
    "#             '13 jan ridvan ademola sean akthar emre', '14 jan ashwanth zeki', '15 apr ozgur',\n",
    "#            '15 jan emin', '19 apr sean', '19 apr sevgi', '21 apr emin', '22 apr ladi', '22 apr sean',\n",
    "#            '23 apr alperen', '23 apr mahbub', '5 apr sevgi']\n",
    "# subjects = ['6 apr blake', '15 apr darrin', '16 apr devon asl2', '20 apr caroline', '21 apr blake']\n",
    "subjects = ['20 apr caroline']\n",
    "\n",
    "mainpath = '/mnt/HDD01/rspl-admin/DATASETS/Fall Sequential/Outputs/'\n",
    "label_files = []\n",
    "for i in range(len(subjects)):\n",
    "    addr = glob.glob(mainpath+subjects[i]+'/labels/microDoppler/'+'*.txt')\n",
    "    label_files.append(addr)\n",
    "label_files = sum(label_files, [])\n",
    "print('Num. of label files: '+str(len(label_files)))\n",
    "for i in range(0,5):    \n",
    "    print(str(i+1)+'. '+label_files[i])"
   ]
  },
  {
   "cell_type": "code",
   "execution_count": 45,
   "metadata": {},
   "outputs": [
    {
     "name": "stdout",
     "output_type": "stream",
     "text": [
      "Num. of label files: 125\n",
      "1. /mnt/HDD01/rspl-admin/DATASETS/Fall Sequential/Outputs/20 apr caroline/microDoppler/11010001_1618952365_2.png\n",
      "2. /mnt/HDD01/rspl-admin/DATASETS/Fall Sequential/Outputs/20 apr caroline/microDoppler/11010001_1618951328_3.png\n",
      "3. /mnt/HDD01/rspl-admin/DATASETS/Fall Sequential/Outputs/20 apr caroline/microDoppler/11020001_1618950528_1.png\n",
      "4. /mnt/HDD01/rspl-admin/DATASETS/Fall Sequential/Outputs/20 apr caroline/microDoppler/11050001_1618953792_1.png\n",
      "5. /mnt/HDD01/rspl-admin/DATASETS/Fall Sequential/Outputs/20 apr caroline/microDoppler/11040001_1618952922_4.png\n"
     ]
    }
   ],
   "source": [
    "# load videos\n",
    "im_files = []\n",
    "for i in range(len(label_files)):\n",
    "    addr = label_files[i].replace('labels/','').replace('txt','png')\n",
    "    im_files.append(addr)\n",
    "# RD_files = sum(RD_files, [])\n",
    "print('Num. of label files: '+str(len(im_files)))\n",
    "for i in range(0,5):    \n",
    "    print(str(i+1)+'. '+im_files[i])"
   ]
  },
  {
   "cell_type": "code",
   "execution_count": 46,
   "metadata": {},
   "outputs": [],
   "source": [
    "# load a single file as a numpy array\n",
    "def load_file(filepath):\n",
    "    dataframe = read_csv(filepath, header=None, delim_whitespace=True)\n",
    "    return np.array(dataframe.values)"
   ]
  },
  {
   "cell_type": "code",
   "execution_count": 47,
   "metadata": {},
   "outputs": [
    {
     "name": "stderr",
     "output_type": "stream",
     "text": [
      "  1%|          | 1/125 [00:00<00:14,  8.52it/s]"
     ]
    },
    {
     "name": "stdout",
     "output_type": "stream",
     "text": [
      "1970\n"
     ]
    },
    {
     "name": "stderr",
     "output_type": "stream",
     "text": [
      "100%|██████████| 125/125 [00:11<00:00, 10.83it/s]\n"
     ]
    }
   ],
   "source": [
    "envelopes = []\n",
    "envs = glob.glob('/mnt/HDD01/rspl-admin/DATASETS/Fall Sequential/Outputs/*/envelopes/*.txt')\n",
    "print(len(envs))\n",
    "for i in tqdm(range(len(im_files)), position = 0, leave = True):\n",
    "    fname = im_files[i].replace('png','txt').replace('microDoppler','envelopes')\n",
    "#     idx = [x for x in range(len(envs)) if re.search(fname, envs[x])]\n",
    "#     assert len(idx) == 1\n",
    "    envelopes.append(np.squeeze(load_file(fname)))\n",
    "envelopes = np.array(envelopes) "
   ]
  },
  {
   "cell_type": "code",
   "execution_count": 48,
   "metadata": {},
   "outputs": [],
   "source": [
    "def pad_labels(yx):\n",
    "    numpad = duration*fps - yx.shape[1]\n",
    "    pads = np.repeat(yx[0,-1],numpad)\n",
    "    padded = np.expand_dims(np.append(yx,pads),0)\n",
    "    return padded"
   ]
  },
  {
   "cell_type": "code",
   "execution_count": 49,
   "metadata": {},
   "outputs": [
    {
     "name": "stdout",
     "output_type": "stream",
     "text": [
      "num steps: 120\n",
      "desired width: 15360\n"
     ]
    }
   ],
   "source": [
    "dur = 24 # sec\n",
    "win = 0.2 # win len\n",
    "n_step = int(dur/win)\n",
    "des_w = 128*n_step\n",
    "des_h = 128\n",
    "fps = 25\n",
    "print('num steps: '+str(n_step))\n",
    "print('desired width: '+str(des_w))"
   ]
  },
  {
   "cell_type": "code",
   "execution_count": 50,
   "metadata": {},
   "outputs": [
    {
     "name": "stdout",
     "output_type": "stream",
     "text": [
      "Loading training labels #125\n",
      "(125, 120, 19)\n"
     ]
    }
   ],
   "source": [
    "labels = []\n",
    "\n",
    "cnt = 1\n",
    "for file in label_files:\n",
    "    clear_output(wait=True)\n",
    "    print('Loading training labels #'+str(cnt))\n",
    "    yx = load_file(file)\n",
    "#     if yx.shape[1] < dur*fps:\n",
    "#         yx = pad_labels(yx)\n",
    "    idx = np.linspace(0,yx.shape[1]-1,n_step).astype(int)\n",
    "    labels.append(yx[0,idx])\n",
    "#     labels.append(yx)\n",
    "    cnt += 1\n",
    "    \n",
    "labels = np.array(labels)    \n",
    "# labels = to_categorical(np.swapaxes(labels,1,2))\n",
    "labels = to_categorical(labels)\n",
    "idx = np.linspace(0,labels.shape[1]-1,n_step).astype(int)\n",
    "labels = labels[:,idx,:]\n",
    "print(labels.shape)"
   ]
  },
  {
   "cell_type": "code",
   "execution_count": 51,
   "metadata": {},
   "outputs": [
    {
     "name": "stdout",
     "output_type": "stream",
     "text": [
      "(125, 120, 19)\n"
     ]
    }
   ],
   "source": [
    "idx = np.linspace(0,labels.shape[1]-1,n_step).astype(int)\n",
    "labels = labels[:,idx,:]\n",
    "print(labels.shape)"
   ]
  },
  {
   "cell_type": "code",
   "execution_count": 52,
   "metadata": {},
   "outputs": [],
   "source": [
    "train_spec, test_spec, y_train, y_test, env_train, env_test = train_test_split(im_files, labels, envelopes, test_size=0.2, random_state=1)"
   ]
  },
  {
   "cell_type": "code",
   "execution_count": 53,
   "metadata": {},
   "outputs": [],
   "source": [
    "def resizer(im, des_w, des_h, n_step):\n",
    "    resized = np.reshape(cv2.resize(im, (des_w, des_h), interpolation = cv2.INTER_AREA),(n_step, des_h, 128, 3))    \n",
    "    return resized"
   ]
  },
  {
   "cell_type": "code",
   "execution_count": 54,
   "metadata": {},
   "outputs": [
    {
     "name": "stdout",
     "output_type": "stream",
     "text": [
      "Loading test image 25/25 /mnt/HDD01/rspl-admin/DATASETS/Fall Sequential/Outputs/20 apr caroline/microDoppler/11020001_1618951472_1.png\n",
      "orig shape: (120, 128, 128, 3)\n",
      "(100, 120, 128, 128, 3)\n",
      "(25, 120, 128, 128, 3)\n"
     ]
    }
   ],
   "source": [
    "cnt = 1\n",
    "train_images = []\n",
    "\n",
    "for image in train_spec:\n",
    "    img = cv2.imread(image)\n",
    "    img = cv2.cvtColor(img, cv2.COLOR_BGR2RGB) # cv2 load images as BGR, convert it to RGB\n",
    "    img = resizer(img, des_w, des_h, n_step)\n",
    "    clear_output(wait=True)\n",
    "    print('Loading training image '+str(cnt)+'/'+str(len(train_spec))+ ' '+image)\n",
    "    print('orig shape: '+str(img.shape))\n",
    "    train_images.append(img/255.)  \n",
    "    cnt += 1\n",
    "train_images = np.array(train_images)\n",
    "cnt = 1\n",
    "test_images = []\n",
    "\n",
    "for image in test_spec:\n",
    "    img = cv2.imread(image)\n",
    "    img = cv2.cvtColor(img, cv2.COLOR_BGR2RGB) # cv2 load images as BGR, convert it to RGB\n",
    "    img = resizer(img, des_w, des_h, n_step)\n",
    "    clear_output(wait=True)\n",
    "    print('Loading test image '+str(cnt)+'/'+str(len(test_spec))+ ' '+image)\n",
    "    print('orig shape: '+str(img.shape))\n",
    "    test_images.append(img/255.)  \n",
    "    cnt += 1\n",
    "test_images = np.array(test_images)\n",
    "\n",
    "print(train_images.shape)\n",
    "print(test_images.shape)"
   ]
  },
  {
   "cell_type": "code",
   "execution_count": 55,
   "metadata": {},
   "outputs": [
    {
     "name": "stdout",
     "output_type": "stream",
     "text": [
      "Datasets/final_caroline_spec2_128_last.pkl created.\n"
     ]
    }
   ],
   "source": [
    "data = [train_images[0:800], test_images[0:200], y_train[0:800], y_test[0:200], env_train[0:800], env_test[0:200]]\n",
    "with open(filename, 'wb') as output:  # Overwrites any existing file.\n",
    "        pickle.dump(data, output, pickle.HIGHEST_PROTOCOL)\n",
    "print(filename+' created.')"
   ]
  },
  {
   "cell_type": "code",
   "execution_count": 56,
   "metadata": {},
   "outputs": [],
   "source": [
    "# import gc\n",
    "# gc.collect()"
   ]
  },
  {
   "cell_type": "code",
   "execution_count": null,
   "metadata": {},
   "outputs": [],
   "source": []
  },
  {
   "cell_type": "code",
   "execution_count": null,
   "metadata": {},
   "outputs": [],
   "source": []
  },
  {
   "cell_type": "code",
   "execution_count": null,
   "metadata": {},
   "outputs": [],
   "source": []
  }
 ],
 "metadata": {
  "kernelspec": {
   "display_name": "Python 3",
   "language": "python",
   "name": "python3"
  },
  "language_info": {
   "codemirror_mode": {
    "name": "ipython",
    "version": 3
   },
   "file_extension": ".py",
   "mimetype": "text/x-python",
   "name": "python",
   "nbconvert_exporter": "python",
   "pygments_lexer": "ipython3",
   "version": "3.7.2"
  }
 },
 "nbformat": 4,
 "nbformat_minor": 2
}
