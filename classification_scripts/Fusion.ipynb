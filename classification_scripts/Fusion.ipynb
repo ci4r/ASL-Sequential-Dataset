{
 "cells": [
  {
   "cell_type": "code",
   "execution_count": 1,
   "metadata": {},
   "outputs": [
    {
     "name": "stderr",
     "output_type": "stream",
     "text": [
      "Using TensorFlow backend.\n"
     ]
    },
    {
     "name": "stdout",
     "output_type": "stream",
     "text": [
      "Num GPUs Available:  1\n"
     ]
    }
   ],
   "source": [
    "# %matplotlib inline\n",
    "import matplotlib.pyplot as plt\n",
    "import matplotlib.image as mpimg\n",
    "import tensorflow as tf\n",
    "import os\n",
    "# Create a MirroredStrateg, If Multi-GPU available\n",
    "os.environ['TF_FORCE_GPU_ALLOW_GROWTH'] = 'true' \n",
    "tf.config.set_soft_device_placement(True)\n",
    "# strategy = tf.distribute.MirroredStrategy(devices=['/gpu:1','/gpu:2']) \n",
    "# print('Number of GPUs being used: {}'.format(strategy.num_replicas_in_sync))\n",
    "from tensorflow.keras.preprocessing.image import ImageDataGenerator\n",
    "from tensorflow.keras.models import Sequential, Model, model_from_json\n",
    "from tensorflow.keras.optimizers import *\n",
    "from tensorflow.keras.layers import *\n",
    "from tensorflow.keras.callbacks import CSVLogger\n",
    "from tensorflow.keras.wrappers.scikit_learn import KerasClassifier\n",
    "from tensorflow.keras.applications import VGG16, ResNet50\n",
    "from tensorflow.keras.utils import to_categorical\n",
    "from sklearn.model_selection import train_test_split\n",
    "from livelossplot.keras import PlotLossesCallback\n",
    "from livelossplot import PlotLossesKerasTF\n",
    "import efficientnet.keras as efn\n",
    "import h5py, glob, re, cv2, math, matplotlib\n",
    "import tensorflow.keras as keras\n",
    "import pandas as pd\n",
    "from pandas import read_csv\n",
    "import numpy as np\n",
    "from scipy import stats\n",
    "import itertools, random\n",
    "\n",
    "# from cnn_utils import *\n",
    "# from tensorflow.compat.v1 import ConfigProto\n",
    "# from tensorflow.compat.v1 import InteractiveSession\n",
    "from sklearn.metrics import classification_report, confusion_matrix\n",
    "from sklearn.utils import class_weight\n",
    "from PIL import Image  \n",
    "import pdb\n",
    "from statistics import mode \n",
    "from IPython.display import clear_output\n",
    "\n",
    "# config = ConfigProto()\n",
    "# config.gpu_options.allow_growth = True\n",
    "# session = InteractiveSession(config=config)\n",
    "\n",
    "np.random.seed(1)\n",
    "# Setting the seed for python random numbers\n",
    "random.seed(1254)\n",
    "# Setting the graph-level random seed.\n",
    "tf.random.set_seed(89)\n",
    "\n",
    "os.environ[\"CUDA_DEVICE_ORDER\"] = \"PCI_BUS_ID\"\n",
    "os.environ[\"CUDA_VISIBLE_DEVICES\"] = \"2\"\n",
    "!CUDA_VISIBLE_DEVICES=2\n",
    "\n",
    "# strategy = tf.distribute.MirroredStrategy(devices=['/gpu:1','/gpu:2'])\n",
    "# print('Number of GPUs being used: {}'.format(strategy.num_replicas_in_sync))\n",
    "# print('Number of GPUs being used: {}'.format(strategy.num_replicas_in_sync))\n",
    "# def setup_multi_node_training(): # IMPORTANT: SET UP TF_CONFIG FOR MULTINODE TRAINING HERE os.environ[“TF_FORCE_GPU_ALLOW_GROWTH”] = “true” tf.config.set_soft_device_placement(True) mirrored_strategy = tf.distribute.experimental.MultiWorkerMirroredStrategy(tf.distribute.experimental.CollectiveCommunication.NCCL) # Constructs the configuration run_config = tf.estimator.RunConfig( train_distribute=mirrored_strategy, ) return run_config\n",
    "print(\"Num GPUs Available: \", len(tf.config.experimental.list_physical_devices('GPU')))"
   ]
  },
  {
   "cell_type": "markdown",
   "metadata": {},
   "source": [
    "## Load Data"
   ]
  },
  {
   "cell_type": "code",
   "execution_count": 2,
   "metadata": {},
   "outputs": [
    {
     "name": "stdout",
     "output_type": "stream",
     "text": [
      "Selected File: Datasets/All_subjects_RDmap.hdf5\n",
      "(527, 605, 128, 128, 3)\n",
      "(527, 605, 19)\n",
      "(132, 605, 128, 128, 3)\n",
      "(132, 605, 19)\n"
     ]
    }
   ],
   "source": [
    "filename = 'Datasets/All_subjects_RDmap.hdf5'\n",
    "data = h5py.File(filename, \"r\")\n",
    "print('Selected File: '+str(filename))\n",
    "x_train1 = np.array(data[\"train_img\"])\n",
    "y_train1 = np.array(data[\"train_labels\"])\n",
    "x_test1 = np.array(data[\"test_img\"])\n",
    "y_test1 = np.array(data[\"test_labels\"])\n",
    "data.close()\n",
    "print(x_train1.shape)\n",
    "print(y_train1.shape)\n",
    "print(x_test1.shape)\n",
    "print(y_test1.shape)"
   ]
  },
  {
   "cell_type": "code",
   "execution_count": 3,
   "metadata": {},
   "outputs": [
    {
     "name": "stdout",
     "output_type": "stream",
     "text": [
      "Selected File: Datasets/All_subjects_RAmap.hdf5\n",
      "(527, 605, 128, 128, 3)\n",
      "(527, 605, 19)\n",
      "(132, 605, 128, 128, 3)\n",
      "(132, 605, 19)\n"
     ]
    }
   ],
   "source": [
    "filename = 'Datasets/All_subjects_RAmap.hdf5'\n",
    "data = h5py.File(filename, \"r\")\n",
    "print('Selected File: '+str(filename))\n",
    "x_train2 = np.array(data[\"train_img\"])\n",
    "y_train2 = np.array(data[\"train_labels\"])\n",
    "x_test2 = np.array(data[\"test_img\"])\n",
    "y_test2 = np.array(data[\"test_labels\"])\n",
    "data.close()\n",
    "print(x_train2.shape)\n",
    "print(y_train2.shape)\n",
    "print(x_test2.shape)\n",
    "print(y_test2.shape)"
   ]
  },
  {
   "cell_type": "code",
   "execution_count": 4,
   "metadata": {},
   "outputs": [
    {
     "name": "stdout",
     "output_type": "stream",
     "text": [
      "(527, 120, 5, 128, 128, 3)\n",
      "(527, 120, 19)\n",
      "(132, 120, 5, 128, 128, 3)\n",
      "(132, 120, 19)\n",
      "(527, 120, 5, 128, 128, 3)\n",
      "(527, 120, 19)\n",
      "(132, 120, 5, 128, 128, 3)\n",
      "(132, 120, 19)\n"
     ]
    }
   ],
   "source": [
    "# windowed RD\n",
    "interval = range(0,600)\n",
    "x_train11 = np.reshape(x_train1[:,interval,:,:,:], (x_train1.shape[0],120,5,x_train1.shape[2],x_train1.shape[3],x_train1.shape[4]))\n",
    "x_test11 = np.reshape(x_test1[:,interval,:,:,:], (x_test1.shape[0],120,5,x_test1.shape[2],x_test1.shape[3],x_test1.shape[4]))\n",
    "y_train11 = np.reshape(np.argmax(y_train1[:,interval,:],-1), (y_train1.shape[0],120,5))\n",
    "y_test11 = np.reshape(np.argmax(y_test1[:,interval,:],-1), (y_test1.shape[0],120,5))\n",
    "y_train11 = to_categorical(np.squeeze(stats.mode(y_train11,2)[0]))\n",
    "y_test11 = to_categorical(np.squeeze(stats.mode(y_test11,2)[0]))\n",
    "print(x_train11.shape)\n",
    "print(y_train11.shape)\n",
    "print(x_test11.shape)\n",
    "print(y_test11.shape)  \n",
    "\n",
    "# windowed RA\n",
    "x_train12 = np.reshape(x_train2[:,interval,:,:,:], (x_train2.shape[0],120,5,x_train2.shape[2],x_train2.shape[3],x_train2.shape[4]))\n",
    "x_test12 = np.reshape(x_test2[:,interval,:,:,:], (x_test2.shape[0],120,5,x_test2.shape[2],x_test2.shape[3],x_test2.shape[4]))\n",
    "y_train12 = np.reshape(np.argmax(y_train2[:,interval,:],-1), (y_train2.shape[0],120,5))\n",
    "y_test12 = np.reshape(np.argmax(y_test2[:,interval,:],-1), (y_test2.shape[0],120,5))\n",
    "y_train12 = to_categorical(np.squeeze(stats.mode(y_train12,2)[0]))\n",
    "y_test12 = to_categorical(np.squeeze(stats.mode(y_test12,2)[0]))\n",
    "print(x_train12.shape)\n",
    "print(y_train12.shape)\n",
    "print(x_test12.shape)\n",
    "print(y_test12.shape) "
   ]
  },
  {
   "cell_type": "code",
   "execution_count": 5,
   "metadata": {},
   "outputs": [
    {
     "name": "stdout",
     "output_type": "stream",
     "text": [
      "Selected File: Datasets/All_subjects_spectrogram.hdf5\n",
      "(527, 120, 128, 128, 3)\n",
      "(527, 120, 19)\n",
      "(132, 120, 128, 128, 3)\n",
      "(132, 120, 19)\n"
     ]
    }
   ],
   "source": [
    "filename = 'Datasets/All_subjects_spectrogram.hdf5'\n",
    "data = h5py.File(filename, \"r\")\n",
    "print('Selected File: '+str(filename))\n",
    "x_train3 = np.array(data[\"train_img\"])\n",
    "y_train3 = np.array(data[\"train_labels\"])\n",
    "x_test3 = np.array(data[\"test_img\"])\n",
    "y_test3 = np.array(data[\"test_labels\"])\n",
    "data.close()\n",
    "print(x_train3.shape)\n",
    "print(y_train3.shape)\n",
    "print(x_test3.shape)\n",
    "print(y_test3.shape)"
   ]
  },
  {
   "cell_type": "code",
   "execution_count": 6,
   "metadata": {},
   "outputs": [
    {
     "name": "stdout",
     "output_type": "stream",
     "text": [
      "Selected File: Datasets/All_subjects_margins_and_ctc_label.hdf5\n",
      "(527, 1482)\n",
      "(527,)\n",
      "(132, 1482)\n",
      "(132,)\n"
     ]
    }
   ],
   "source": [
    "filename = 'Datasets/All_subjects_margins_and_ctc_label.hdf5'\n",
    "data = h5py.File(filename, \"r\")\n",
    "print('Selected File: '+str(filename))\n",
    "margin_tr = np.array(data[\"train_img\"])\n",
    "ctc_tr = np.squeeze(np.array(data[\"train_labels\"])).astype('U12')\n",
    "margin_ts = np.array(data[\"test_img\"])\n",
    "ctc_ts = np.squeeze(np.array(data[\"test_labels\"])).astype('U12')\n",
    "data.close()\n",
    "print(margin_tr.shape)\n",
    "print(ctc_tr.shape)\n",
    "print(margin_ts.shape)\n",
    "print(ctc_ts.shape)"
   ]
  },
  {
   "cell_type": "markdown",
   "metadata": {},
   "source": [
    "##### STA LTA"
   ]
  },
  {
   "cell_type": "code",
   "execution_count": 7,
   "metadata": {},
   "outputs": [],
   "source": [
    "def sta_lta2(vec,nlta,nsta,init_th,stop_th,stepsz):\n",
    "    vec2 = np.zeros(vec.shape)\n",
    "    mask = np.zeros(vec.shape)\n",
    "    state = 0 # '0' nothing, '1' signing\n",
    "    \n",
    "    for i in range(0,len(vec),stepsz):\n",
    "        \n",
    "        if i+nlta+nsta+1 > len(vec):\n",
    "            if state == 1:\n",
    "                stoppt = len(vec)-2\n",
    "                vec2[startpt:stoppt] = vec[startpt:stoppt]\n",
    "                mask[startpt:stoppt] = 1\n",
    "            break\n",
    "            \n",
    "            \n",
    "        longwin = vec[i:i+nlta]\n",
    "        shortwin = vec[i+nlta:i+nlta+nsta]\n",
    "        \n",
    "        if i < nlta and np.mean(longwin) > 150:\n",
    "            vec2[0:i+nsta] = vec[0:i+nsta]\n",
    "            mask[0:i+nsta] = 1\n",
    "        if init_th < sum(shortwin)/sum(longwin):\n",
    "            if state == 0:\n",
    "                startpt = i+nlta\n",
    "                state = 1\n",
    "            if state == 1:\n",
    "                continue\n",
    "        \n",
    "        else:\n",
    "            if state == 0:\n",
    "                continue\n",
    "            if state == 1:\n",
    "                if sum(shortwin)/sum(longwin) > stop_th:\n",
    "                    continue\n",
    "                else:\n",
    "                    stoppt = i+nlta+int(nsta/2)\n",
    "                    state = 0\n",
    "                    vec2[startpt:stoppt] = vec[startpt:stoppt]\n",
    "                    mask[startpt:stoppt] = 1\n",
    "                    \n",
    "    return vec2, mask"
   ]
  },
  {
   "cell_type": "code",
   "execution_count": 8,
   "metadata": {},
   "outputs": [],
   "source": [
    "duration = 24.2\n",
    "nsta_sec = 0.7\n",
    "ratio = margin_tr.shape[-1]/duration\n",
    "nsta = int(nsta_sec*ratio)\n",
    "nlta = int(2*nsta)\n",
    "stepsz = int(0.2*ratio) # 0.2\n",
    "timevec = np.linspace(0,24.2,margin_ts.shape[1])\n",
    "idx = 27\n",
    "init_th = 0.6\n",
    "stop_th = 0.3\n",
    "vecs_train = [] #np.zeros(np.argmax(margin_tr,-1).shape)\n",
    "mask_train = [] #np.zeros(np.argmax(margin_tr,-1).shape)\n",
    "vecs_test = [] #np.zeros(np.argmax(margin_ts,-1).shape)\n",
    "mask_test = [] #np.zeros(np.argmax(margin_ts,-1).shape)\n",
    "for i in range(len(margin_tr)):\n",
    "    vecs_train.append(sta_lta2(margin_tr[i],nlta,nsta,init_th,stop_th,stepsz)[0])\n",
    "    mask_train.append(sta_lta2(margin_tr[i],nlta,nsta,init_th,stop_th,stepsz)[1])\n",
    "# mask_train_win = mask_train[:,::5]\n",
    "for i in range(len(margin_ts)):\n",
    "    vecs_test.append(sta_lta2(margin_ts[i],nlta,nsta,init_th,stop_th,stepsz)[0])\n",
    "    mask_test.append(sta_lta2(margin_ts[i],nlta,nsta,init_th,stop_th,stepsz)[1])\n",
    "# mask_test_win = mask_test[:,::5]\n",
    "mask_train = np.array(mask_train)\n",
    "mask_test = np.array(mask_test)"
   ]
  },
  {
   "cell_type": "code",
   "execution_count": 9,
   "metadata": {},
   "outputs": [
    {
     "name": "stdout",
     "output_type": "stream",
     "text": [
      "Mask shapes:\n",
      "(527, 605)\n",
      "(132, 605)\n",
      "(527, 120)\n",
      "(132, 120)\n"
     ]
    }
   ],
   "source": [
    "# downsample the mask to vid\n",
    "mask_vid_tr = np.zeros(np.argmax(y_train1,-1).shape)\n",
    "ratio1 = mask_train.shape[-1]/mask_vid_tr.shape[-1]\n",
    "for i in range(len(mask_train)):\n",
    "    for j in range(mask_train.shape[-1]):\n",
    "        if mask_train[i,j] == 0:\n",
    "            continue\n",
    "        else:\n",
    "            mask_vid_tr[i,int(j/ratio1)] = 1\n",
    "mask_vid_ts = np.zeros(np.argmax(y_test1,-1).shape)\n",
    "for i in range(len(mask_test)):\n",
    "    for j in range(mask_test.shape[-1]):\n",
    "        if mask_test[i,j] == 0:\n",
    "            continue\n",
    "        else:\n",
    "            mask_vid_ts[i,int(j/ratio1)] = 1\n",
    "\n",
    "# downsample the mask to spect\n",
    "mask_spect_tr = np.zeros(np.argmax(y_train3,-1).shape)\n",
    "ratio2 = mask_train.shape[-1]/mask_spect_tr.shape[-1]\n",
    "for i in range(len(mask_train)):\n",
    "    for j in range(mask_train.shape[-1]):\n",
    "        if mask_train[i,j] == 0:\n",
    "            continue\n",
    "        else:\n",
    "            mask_spect_tr[i,int(j/ratio2)] = 1\n",
    "mask_spect_ts = np.zeros(np.argmax(y_test3,-1).shape)\n",
    "for i in range(len(mask_test)):\n",
    "    for j in range(mask_test.shape[-1]):\n",
    "        if mask_test[i,j] == 0:\n",
    "            continue\n",
    "        else:\n",
    "            mask_spect_ts[i,int(j/ratio2)] = 1\n",
    "print('Mask shapes:')\n",
    "print(mask_vid_tr.shape)\n",
    "print(mask_vid_ts.shape)\n",
    "print(mask_spect_tr.shape)\n",
    "print(mask_spect_ts.shape)"
   ]
  },
  {
   "cell_type": "code",
   "execution_count": 10,
   "metadata": {},
   "outputs": [
    {
     "data": {
      "text/plain": [
       "19"
      ]
     },
     "execution_count": 10,
     "metadata": {},
     "output_type": "execute_result"
    }
   ],
   "source": [
    "num_class = y_test3.shape[2]\n",
    "num_class"
   ]
  },
  {
   "cell_type": "code",
   "execution_count": 11,
   "metadata": {},
   "outputs": [
    {
     "name": "stdout",
     "output_type": "stream",
     "text": [
      "(1154,)\n",
      "(1154,)\n",
      "(272,)\n",
      "(272,)\n"
     ]
    }
   ],
   "source": [
    "# Mask reshaped RD\n",
    "x1train = []\n",
    "y1train = []\n",
    "flag = 0\n",
    "for i in range(len(mask_spect_tr)):\n",
    "    for j in range(mask_spect_tr.shape[1]):\n",
    "        if mask_spect_tr[i,j] == 0:\n",
    "            if flag == 0:\n",
    "                continue\n",
    "            else:\n",
    "                stoppt = j\n",
    "                if stoppt-startpt>2:\n",
    "                    x1train.append(x_train11[i,startpt:stoppt])\n",
    "                    y1train.append(np.squeeze(np.argmax(y_train3[i,startpt:stoppt],-1)))\n",
    "                    flag = 0\n",
    "        else:\n",
    "            if flag == 0:\n",
    "                startpt = j\n",
    "                flag = 1\n",
    "            else:\n",
    "                continue\n",
    "x1train = np.asarray(x1train)\n",
    "y1train = np.array([to_categorical(y,num_classes=num_class) for y in np.array(y1train)])\n",
    "x1test = []\n",
    "y1test = []\n",
    "flag = 0\n",
    "for i in range(len(mask_spect_ts)):\n",
    "    for j in range(mask_spect_ts.shape[1]):\n",
    "        if mask_spect_ts[i,j] == 0:\n",
    "            if flag == 0:\n",
    "                continue\n",
    "            else:\n",
    "                stoppt = j\n",
    "                if stoppt-startpt>2:\n",
    "                    x1test.append(x_test11[i,startpt:stoppt])\n",
    "                    y1test.append(np.squeeze(np.argmax(y_test3[i,startpt:stoppt],-1)))\n",
    "                    flag = 0\n",
    "        else:\n",
    "            if flag == 0:\n",
    "                startpt = j\n",
    "                flag = 1\n",
    "            else:\n",
    "                continue\n",
    "x1test = np.asarray(x1test)\n",
    "y1test = np.array([to_categorical(y,num_classes=num_class) for y in np.array(y1test)])\n",
    "print(x1train.shape)\n",
    "print(y1train.shape)\n",
    "print(x1test.shape)\n",
    "print(y1test.shape)"
   ]
  },
  {
   "cell_type": "code",
   "execution_count": 12,
   "metadata": {},
   "outputs": [
    {
     "name": "stdout",
     "output_type": "stream",
     "text": [
      "(1154,)\n",
      "(1154,)\n",
      "(272,)\n",
      "(272,)\n"
     ]
    }
   ],
   "source": [
    "# Mask reshaped RA\n",
    "x2train = []\n",
    "y2train = []\n",
    "flag = 0\n",
    "for i in range(len(mask_spect_tr)):\n",
    "    for j in range(mask_spect_tr.shape[1]):\n",
    "        if mask_spect_tr[i,j] == 0:\n",
    "            if flag == 0:\n",
    "                continue\n",
    "            else:\n",
    "                stoppt = j\n",
    "                if stoppt-startpt>2:\n",
    "                    x2train.append(x_train12[i,startpt:stoppt])\n",
    "                    y2train.append(np.squeeze(np.argmax(y_train3[i,startpt:stoppt],-1)))\n",
    "                    flag = 0\n",
    "        else:\n",
    "            if flag == 0:\n",
    "                startpt = j\n",
    "                flag = 1\n",
    "            else:\n",
    "                continue\n",
    "x2train = np.asarray(x2train)\n",
    "y2train = np.array([to_categorical(y,num_classes=num_class) for y in np.array(y2train)])\n",
    "x2test = []\n",
    "y2test = []\n",
    "flag = 0\n",
    "for i in range(len(mask_spect_ts)):\n",
    "    for j in range(mask_spect_ts.shape[1]):\n",
    "        if mask_spect_ts[i,j] == 0:\n",
    "            if flag == 0:\n",
    "                continue\n",
    "            else:\n",
    "                stoppt = j\n",
    "                if stoppt-startpt>2:\n",
    "                    x2test.append(x_test12[i,startpt:stoppt])\n",
    "                    y2test.append(np.squeeze(np.argmax(y_test3[i,startpt:stoppt],-1)))\n",
    "                    flag = 0\n",
    "        else:\n",
    "            if flag == 0:\n",
    "                startpt = j\n",
    "                flag = 1\n",
    "            else:\n",
    "                continue\n",
    "x2test = np.asarray(x2test)\n",
    "y2test = np.array([to_categorical(y,num_classes=num_class) for y in np.array(y2test)])\n",
    "print(x2train.shape)\n",
    "print(y2train.shape)\n",
    "print(x2test.shape)\n",
    "print(y2test.shape)"
   ]
  },
  {
   "cell_type": "code",
   "execution_count": 13,
   "metadata": {},
   "outputs": [
    {
     "name": "stdout",
     "output_type": "stream",
     "text": [
      "(1154,)\n",
      "(1154,)\n",
      "(272,)\n",
      "(272,)\n"
     ]
    }
   ],
   "source": [
    "# Mask reshaped mD\n",
    "x3train = []\n",
    "y3train = []\n",
    "flag = 0\n",
    "for i in range(len(mask_spect_tr)):\n",
    "    for j in range(mask_spect_tr.shape[1]):\n",
    "        if mask_spect_tr[i,j] == 0:\n",
    "            if flag == 0:\n",
    "                continue\n",
    "            else:\n",
    "                stoppt = j\n",
    "                if stoppt-startpt>2:\n",
    "                    x3train.append(x_train3[i,startpt:stoppt])\n",
    "                    y3train.append(np.squeeze(np.argmax(y_train3[i,startpt:stoppt],-1)))\n",
    "                    flag = 0\n",
    "        else:\n",
    "            if flag == 0:\n",
    "                startpt = j\n",
    "                flag = 1\n",
    "            else:\n",
    "                continue\n",
    "x3train = np.asarray(x3train)\n",
    "y3train = np.array([to_categorical(y,num_classes=num_class) for y in np.array(y3train)])\n",
    "x3test = []\n",
    "y3test = []\n",
    "flag = 0\n",
    "for i in range(len(mask_spect_ts)):\n",
    "    for j in range(mask_spect_ts.shape[1]):\n",
    "        if mask_spect_ts[i,j] == 0:\n",
    "            if flag == 0:\n",
    "                continue\n",
    "            else:\n",
    "                stoppt = j\n",
    "                if stoppt-startpt>2:\n",
    "                    x3test.append(x_test3[i,startpt:stoppt])\n",
    "                    y3test.append(np.squeeze(np.argmax(y_test3[i,startpt:stoppt],-1)))\n",
    "                    flag = 0\n",
    "        else:\n",
    "            if flag == 0:\n",
    "                startpt = j\n",
    "                flag = 1\n",
    "            else:\n",
    "                continue\n",
    "x3test = np.asarray(x3test)\n",
    "y3test = np.array([to_categorical(y,num_classes=num_class) for y in np.array(y3test)])\n",
    "print(x3train.shape)\n",
    "print(y3train.shape)\n",
    "print(x3test.shape)\n",
    "print(y3test.shape)"
   ]
  },
  {
   "cell_type": "markdown",
   "metadata": {},
   "source": [
    "# Import model & test"
   ]
  },
  {
   "cell_type": "code",
   "execution_count": 14,
   "metadata": {},
   "outputs": [],
   "source": [
    "model_addr = 'Models/td3d-bilstm 19 class GD fbf reshaped rd.json'\n",
    "weight_addr = 'Models/td3d-bilstm 19 class GD fbf reshaped rd.h5'\n",
    "json_file = open(model_addr, 'r')\n",
    "loaded_model_json = json_file.read()\n",
    "json_file.close()\n",
    "model_rd = model_from_json(loaded_model_json)\n",
    "model_rd.load_weights(weight_addr)\n",
    "\n",
    "model_addr = 'Models/td3d-bilstm 19 class GD fbf reshaped ra.json'\n",
    "weight_addr = 'Models/td3d-bilstm 19 class GD fbf reshaped ra.h5'\n",
    "json_file = open(model_addr, 'r')\n",
    "loaded_model_json = json_file.read()\n",
    "json_file.close()\n",
    "model_ra = model_from_json(loaded_model_json)\n",
    "model_ra.load_weights(weight_addr)\n",
    "\n",
    "model_addr = 'Models/td2d-bilstm 19 class GD fbf seq mD.json'\n",
    "weight_addr = 'Models/td2d-bilstm 19 class GD fbf seq mD.h5'\n",
    "json_file = open(model_addr, 'r')\n",
    "loaded_model_json = json_file.read()\n",
    "json_file.close()\n",
    "model_md = model_from_json(loaded_model_json)\n",
    "model_md.load_weights(weight_addr)"
   ]
  },
  {
   "cell_type": "code",
   "execution_count": 77,
   "metadata": {},
   "outputs": [
    {
     "data": {
      "text/plain": [
       "73.72881355932203"
      ]
     },
     "execution_count": 77,
     "metadata": {},
     "output_type": "execute_result"
    }
   ],
   "source": [
    "# RD test\n",
    "pred = [np.argmax(np.squeeze(model_rd.predict(np.expand_dims(x1test[i],0))),-1) for i in range(0,x1test.shape[0])]\n",
    "# pred = model_fus.predict(pred_gen, batch_size = 1, steps = len(x3test))\n",
    "Y_pred = np.concatenate(pred)\n",
    "Y_test_int = np.concatenate([np.argmax(y, -1) for y in y3test])\n",
    "cmp = Y_pred == Y_test_int\n",
    "trues = np.sum(cmp)\n",
    "acc = trues/len(cmp)*100\n",
    "acc"
   ]
  },
  {
   "cell_type": "code",
   "execution_count": 108,
   "metadata": {},
   "outputs": [
    {
     "data": {
      "text/plain": [
       "69.05412793876435"
      ]
     },
     "execution_count": 108,
     "metadata": {},
     "output_type": "execute_result"
    }
   ],
   "source": [
    "# RA test\n",
    "pred = [np.argmax(np.squeeze(model_ra.predict(np.expand_dims(x2test[i],0))),-1) for i in range(0,x2test.shape[0])]\n",
    "# pred = model_fus.predict(pred_gen, batch_size = 1, steps = len(x3test))\n",
    "Y_pred = np.concatenate(pred)\n",
    "Y_test_int = np.concatenate([np.argmax(y, -1) for y in y3test])\n",
    "cmp = Y_pred == Y_test_int\n",
    "trues = np.sum(cmp)\n",
    "acc = trues/len(cmp)*100\n",
    "acc"
   ]
  },
  {
   "cell_type": "code",
   "execution_count": 110,
   "metadata": {},
   "outputs": [
    {
     "data": {
      "text/plain": [
       "76.70858392564243"
      ]
     },
     "execution_count": 110,
     "metadata": {},
     "output_type": "execute_result"
    }
   ],
   "source": [
    "# mD test\n",
    "pred = [np.argmax(np.squeeze(model_md.predict(np.expand_dims(x3test[i],0))),-1) for i in range(0,x3test.shape[0])]\n",
    "# pred = model_fus.predict(pred_gen, batch_size = 1, steps = len(x3test))\n",
    "Y_pred = np.concatenate(pred)\n",
    "Y_test_int = np.concatenate([np.argmax(y, -1) for y in y3test])\n",
    "cmp = Y_pred == Y_test_int\n",
    "trues = np.sum(cmp)\n",
    "acc = trues/len(cmp)*100\n",
    "acc"
   ]
  },
  {
   "cell_type": "code",
   "execution_count": 126,
   "metadata": {},
   "outputs": [],
   "source": [
    "def data_generator_multi(data, labels, batch_size=1):              \n",
    "    \"\"\"\n",
    "    Yields the next training batch.\n",
    "    data is an array  [[[frame1_filename,frame2_filename,…frame16_filename],label1], [[frame1_filename,frame2_filename,…frame16_filename],label2],……….].\n",
    "    \"\"\"\n",
    "    num_samples = np.array(data[0]).shape[0]\n",
    "    \n",
    "    while True:   \n",
    "        for offset in range(0, num_samples, batch_size):\n",
    "    #             print ('starting index: ', offset) \n",
    "            # Get the samples you'll use in this batch\n",
    "            batch_samples1 = data[0][offset:offset+batch_size]\n",
    "            batch_samples2 = data[1][offset:offset+batch_size]\n",
    "            batch_samples3 = data[2][offset:offset+batch_size]\n",
    "            label = labels[offset:offset+batch_size]\n",
    "            # Initialise X_train and y_train arrays for this batch\n",
    "            X_train1 = []\n",
    "            X_train2 = []\n",
    "            X_train3 = []\n",
    "            y_train = []\n",
    "            # For each example\n",
    "            for i in range(0,batch_samples1.shape[0]):\n",
    "                X_train1.append(batch_samples1[i])\n",
    "                X_train2.append(batch_samples2[i])\n",
    "                X_train3.append(batch_samples3[i])\n",
    "                y_train.append(label[i])\n",
    "\n",
    "            # Make sure they're numpy arrays (as opposed to lists)\n",
    "            X_train1 = np.array(X_train1)\n",
    "            X_train2 = np.array(X_train2)\n",
    "            X_train3 = np.array(X_train3)\n",
    "            #X_train = np.rollaxis(X_train,1,4)\n",
    "            y_train = np.array(y_train)\n",
    "\n",
    "            # yield the next training batch            \n",
    "            yield [X_train1, X_train2, X_train3], y_train\n",
    "#             yield [X_train1, X_train2], y_train\n",
    "#             yield [np.expand_dims(X_train1[i],0),np.expand_dims(X_train2[i],0),np.expand_dims(X_train3[i],0)], y_train"
   ]
  },
  {
   "cell_type": "code",
   "execution_count": 127,
   "metadata": {},
   "outputs": [
    {
     "data": {
      "text/plain": [
       "1154"
      ]
     },
     "execution_count": 127,
     "metadata": {},
     "output_type": "execute_result"
    }
   ],
   "source": [
    "datax = [x1train, x2train, x3train]\n",
    "num_samples = np.array(datax[0]).shape[0]\n",
    "num_samples"
   ]
  },
  {
   "cell_type": "code",
   "execution_count": 128,
   "metadata": {},
   "outputs": [],
   "source": [
    "train_generator = data_generator_multi([x1train, x2train, x3train], y3train)\n",
    "test_generator = data_generator_multi([x1test, x2test, x3test], y3test)\n",
    "# train_generator = data_generator_multi([x1train, x2train], y3train)\n",
    "# test_generator = data_generator_multi([x1test, x2test], y3test)"
   ]
  },
  {
   "cell_type": "markdown",
   "metadata": {},
   "source": [
    "# Multi-input Classification"
   ]
  },
  {
   "cell_type": "code",
   "execution_count": 136,
   "metadata": {},
   "outputs": [],
   "source": [
    "merged_layers = concatenate([model_rd.layers[-2].output, model_ra.layers[-2].output, model_md.layers[-2].output],-1)\n",
    "out1 = TimeDistributed(Dense(num_class,activation='softmax'))(merged_layers)\n",
    "opt = Adam(lr=1e-3, decay=1e-3 / 200)\n",
    "mod_fus = keras.Model(inputs = [model_rd.input,model_ra.input,model_md.input],outputs = out1)\n",
    "mod_fus.compile(loss = 'categorical_crossentropy', optimizer=opt,metrics = ['accuracy'])\n",
    "# mod_fus.summary()\n",
    "\n",
    "# merged_layers = concatenate([model_rd.layers[-2].output, model_ra.layers[-2].output],-1)\n",
    "# out1 = TimeDistributed(Dense(num_class,activation='softmax'))(merged_layers)\n",
    "# opt = Adam(lr=1e-3, decay=1e-3 / 200)\n",
    "# mod_fus = keras.Model(inputs = [model_rd.input, model_ra.input],outputs = out1)\n",
    "# mod_fus.compile(loss = 'categorical_crossentropy', optimizer=opt,metrics = ['accuracy'])\n",
    "# mod_fus.summary()"
   ]
  },
  {
   "cell_type": "code",
   "execution_count": 130,
   "metadata": {},
   "outputs": [],
   "source": [
    "# Freeze the layers except the last 7 layers\n",
    "for layer in mod_fus.layers[:-2]:\n",
    "    layer.trainable = False\n",
    "\n",
    "# Check the trainable status of the individual layers\n",
    "# for layer in mod_fus.layers:\n",
    "#     print(layer, layer.trainable)"
   ]
  },
  {
   "cell_type": "code",
   "execution_count": 137,
   "metadata": {
    "scrolled": false
   },
   "outputs": [
    {
     "data": {
      "image/png": "[encoded data removed]",
      "text/plain": [
       "<Figure size 864x576 with 2 Axes>"
      ]
     },
     "metadata": {
      "needs_background": "light"
     },
     "output_type": "display_data"
    },
    {
     "name": "stdout",
     "output_type": "stream",
     "text": [
      "accuracy\n",
      "\ttraining         \t (min:    0.889, max:    1.000, cur:    1.000)\n",
      "\tvalidation       \t (min:    0.786, max:    0.952, cur:    0.800)\n",
      "Loss\n",
      "\ttraining         \t (min:    0.000, max:    0.503, cur:    0.001)\n",
      "\tvalidation       \t (min:    0.197, max:    0.897, cur:    0.897)\n",
      "\b\b\b\b\b\b\b\b\b\b\b\b\b\b\b\b\b\b\b\b\b\b\b\b\b\b\b\b\b\b\b\b\b\b\b\b\b\b\b\b\b\b\b\b\b\b\b\b\b\b\b\b\b\b\b\b\b\b\b\b\b\b\b\b\b\b\b\b\b\b\b\b\b\b\b\b\b\b\b\b\b\b\b\b\b\b\b\b\b\b\r",
      "1154/1154 [==============================] - 23s 20ms/step - loss: 5.7594e-04 - accuracy: 1.0000 - val_loss: 0.8968 - val_accuracy: 0.7999\n"
     ]
    }
   ],
   "source": [
    "history = mod_fus.fit(train_generator, validation_data=test_generator,\n",
    "                        epochs=10, batch_size=1, steps_per_epoch = len(x1train), validation_steps = len(x1test),\n",
    "                        shuffle=False, callbacks = [PlotLossesKerasTF()], \n",
    "                        verbose=1)\n",
    "# history = mod_fus.fit(train_generator, validation_data=([np.expand_dims(x1test[i],0),np.expand_dims(x2test[i],0),np.expand_dims(x3test[i],0)],np.expand_dims(y3test[i],0)),\n",
    "#                         epochs=10, batch_size=1, steps_per_epoch = len(x1train), validation_steps = len(x1test),\n",
    "#                         shuffle=False, callbacks = [PlotLossesKerasTF()], \n",
    "#                         verbose=1)"
   ]
  },
  {
   "cell_type": "code",
   "execution_count": 138,
   "metadata": {},
   "outputs": [
    {
     "data": {
      "text/plain": [
       "79.98906506287588"
      ]
     },
     "execution_count": 138,
     "metadata": {},
     "output_type": "execute_result"
    }
   ],
   "source": [
    "pred = [np.argmax(np.squeeze(mod_fus.predict([np.expand_dims(x1test[i],0), np.expand_dims(x2test[i],0), np.expand_dims(x3test[i],0)])),-1) for i in range(0,y3test.shape[0])]\n",
    "Y_pred = np.concatenate(pred)\n",
    "Y_test_int = np.concatenate([np.argmax(y, -1) for y in y3test])\n",
    "cmp = Y_pred == Y_test_int\n",
    "trues = np.sum(cmp)\n",
    "acc = trues/len(cmp)*100\n",
    "acc"
   ]
  },
  {
   "cell_type": "code",
   "execution_count": 139,
   "metadata": {},
   "outputs": [
    {
     "ename": "KeyboardInterrupt",
     "evalue": "",
     "output_type": "error",
     "traceback": [
      "\u001b[0;31m---------------------------------------------------------------------------\u001b[0m",
      "\u001b[0;31mKeyboardInterrupt\u001b[0m                         Traceback (most recent call last)",
      "\u001b[0;32m<ipython-input-139-1b7f9bbee163>\u001b[0m in \u001b[0;36m<module>\u001b[0;34m\u001b[0m\n\u001b[0;32m----> 1\u001b[0;31m \u001b[0mevalu\u001b[0m \u001b[0;34m=\u001b[0m \u001b[0mmod_fus\u001b[0m\u001b[0;34m.\u001b[0m\u001b[0mevaluate_generator\u001b[0m\u001b[0;34m(\u001b[0m\u001b[0mtest_generator\u001b[0m\u001b[0;34m)\u001b[0m\u001b[0;34m\u001b[0m\u001b[0;34m\u001b[0m\u001b[0m\n\u001b[0m\u001b[1;32m      2\u001b[0m \u001b[0mprint\u001b[0m\u001b[0;34m(\u001b[0m\u001b[0mmodel11\u001b[0m\u001b[0;34m.\u001b[0m\u001b[0mmetrics_names\u001b[0m\u001b[0;34m)\u001b[0m\u001b[0;34m\u001b[0m\u001b[0;34m\u001b[0m\u001b[0m\n\u001b[1;32m      3\u001b[0m \u001b[0mprint\u001b[0m\u001b[0;34m(\u001b[0m\u001b[0mevalu\u001b[0m\u001b[0;34m)\u001b[0m\u001b[0;34m\u001b[0m\u001b[0;34m\u001b[0m\u001b[0m\n",
      "\u001b[0;32m~/.local/lib/python3.7/site-packages/tensorflow/python/util/deprecation.py\u001b[0m in \u001b[0;36mnew_func\u001b[0;34m(*args, **kwargs)\u001b[0m\n\u001b[1;32m    322\u001b[0m               \u001b[0;34m'in a future version'\u001b[0m \u001b[0;32mif\u001b[0m \u001b[0mdate\u001b[0m \u001b[0;32mis\u001b[0m \u001b[0;32mNone\u001b[0m \u001b[0;32melse\u001b[0m \u001b[0;34m(\u001b[0m\u001b[0;34m'after %s'\u001b[0m \u001b[0;34m%\u001b[0m \u001b[0mdate\u001b[0m\u001b[0;34m)\u001b[0m\u001b[0;34m,\u001b[0m\u001b[0;34m\u001b[0m\u001b[0;34m\u001b[0m\u001b[0m\n\u001b[1;32m    323\u001b[0m               instructions)\n\u001b[0;32m--> 324\u001b[0;31m       \u001b[0;32mreturn\u001b[0m \u001b[0mfunc\u001b[0m\u001b[0;34m(\u001b[0m\u001b[0;34m*\u001b[0m\u001b[0margs\u001b[0m\u001b[0;34m,\u001b[0m \u001b[0;34m**\u001b[0m\u001b[0mkwargs\u001b[0m\u001b[0;34m)\u001b[0m\u001b[0;34m\u001b[0m\u001b[0;34m\u001b[0m\u001b[0m\n\u001b[0m\u001b[1;32m    325\u001b[0m     return tf_decorator.make_decorator(\n\u001b[1;32m    326\u001b[0m         \u001b[0mfunc\u001b[0m\u001b[0;34m,\u001b[0m \u001b[0mnew_func\u001b[0m\u001b[0;34m,\u001b[0m \u001b[0;34m'deprecated'\u001b[0m\u001b[0;34m,\u001b[0m\u001b[0;34m\u001b[0m\u001b[0;34m\u001b[0m\u001b[0m\n",
      "\u001b[0;32m~/.local/lib/python3.7/site-packages/tensorflow/python/keras/engine/training.py\u001b[0m in \u001b[0;36mevaluate_generator\u001b[0;34m(self, generator, steps, callbacks, max_queue_size, workers, use_multiprocessing, verbose)\u001b[0m\n\u001b[1;32m   1855\u001b[0m         \u001b[0muse_multiprocessing\u001b[0m\u001b[0;34m=\u001b[0m\u001b[0muse_multiprocessing\u001b[0m\u001b[0;34m,\u001b[0m\u001b[0;34m\u001b[0m\u001b[0;34m\u001b[0m\u001b[0m\n\u001b[1;32m   1856\u001b[0m         \u001b[0mverbose\u001b[0m\u001b[0;34m=\u001b[0m\u001b[0mverbose\u001b[0m\u001b[0;34m,\u001b[0m\u001b[0;34m\u001b[0m\u001b[0;34m\u001b[0m\u001b[0m\n\u001b[0;32m-> 1857\u001b[0;31m         callbacks=callbacks)\n\u001b[0m\u001b[1;32m   1858\u001b[0m \u001b[0;34m\u001b[0m\u001b[0m\n\u001b[1;32m   1859\u001b[0m   @deprecation.deprecated(\n",
      "\u001b[0;32m~/.local/lib/python3.7/site-packages/tensorflow/python/keras/engine/training.py\u001b[0m in \u001b[0;36m_method_wrapper\u001b[0;34m(self, *args, **kwargs)\u001b[0m\n\u001b[1;32m    106\u001b[0m   \u001b[0;32mdef\u001b[0m \u001b[0m_method_wrapper\u001b[0m\u001b[0;34m(\u001b[0m\u001b[0mself\u001b[0m\u001b[0;34m,\u001b[0m \u001b[0;34m*\u001b[0m\u001b[0margs\u001b[0m\u001b[0;34m,\u001b[0m \u001b[0;34m**\u001b[0m\u001b[0mkwargs\u001b[0m\u001b[0;34m)\u001b[0m\u001b[0;34m:\u001b[0m\u001b[0;34m\u001b[0m\u001b[0;34m\u001b[0m\u001b[0m\n\u001b[1;32m    107\u001b[0m     \u001b[0;32mif\u001b[0m \u001b[0;32mnot\u001b[0m \u001b[0mself\u001b[0m\u001b[0;34m.\u001b[0m\u001b[0m_in_multi_worker_mode\u001b[0m\u001b[0;34m(\u001b[0m\u001b[0;34m)\u001b[0m\u001b[0;34m:\u001b[0m  \u001b[0;31m# pylint: disable=protected-access\u001b[0m\u001b[0;34m\u001b[0m\u001b[0;34m\u001b[0m\u001b[0m\n\u001b[0;32m--> 108\u001b[0;31m       \u001b[0;32mreturn\u001b[0m \u001b[0mmethod\u001b[0m\u001b[0;34m(\u001b[0m\u001b[0mself\u001b[0m\u001b[0;34m,\u001b[0m \u001b[0;34m*\u001b[0m\u001b[0margs\u001b[0m\u001b[0;34m,\u001b[0m \u001b[0;34m**\u001b[0m\u001b[0mkwargs\u001b[0m\u001b[0;34m)\u001b[0m\u001b[0;34m\u001b[0m\u001b[0;34m\u001b[0m\u001b[0m\n\u001b[0m\u001b[1;32m    109\u001b[0m \u001b[0;34m\u001b[0m\u001b[0m\n\u001b[1;32m    110\u001b[0m     \u001b[0;31m# Running inside `run_distribute_coordinator` already.\u001b[0m\u001b[0;34m\u001b[0m\u001b[0;34m\u001b[0m\u001b[0;34m\u001b[0m\u001b[0m\n",
      "\u001b[0;32m~/.local/lib/python3.7/site-packages/tensorflow/python/keras/engine/training.py\u001b[0m in \u001b[0;36mevaluate\u001b[0;34m(self, x, y, batch_size, verbose, sample_weight, steps, callbacks, max_queue_size, workers, use_multiprocessing, return_dict)\u001b[0m\n\u001b[1;32m   1377\u001b[0m             \u001b[0;32mwith\u001b[0m \u001b[0mtrace\u001b[0m\u001b[0;34m.\u001b[0m\u001b[0mTrace\u001b[0m\u001b[0;34m(\u001b[0m\u001b[0;34m'TraceContext'\u001b[0m\u001b[0;34m,\u001b[0m \u001b[0mgraph_type\u001b[0m\u001b[0;34m=\u001b[0m\u001b[0;34m'test'\u001b[0m\u001b[0;34m,\u001b[0m \u001b[0mstep_num\u001b[0m\u001b[0;34m=\u001b[0m\u001b[0mstep\u001b[0m\u001b[0;34m)\u001b[0m\u001b[0;34m:\u001b[0m\u001b[0;34m\u001b[0m\u001b[0;34m\u001b[0m\u001b[0m\n\u001b[1;32m   1378\u001b[0m               \u001b[0mcallbacks\u001b[0m\u001b[0;34m.\u001b[0m\u001b[0mon_test_batch_begin\u001b[0m\u001b[0;34m(\u001b[0m\u001b[0mstep\u001b[0m\u001b[0;34m)\u001b[0m\u001b[0;34m\u001b[0m\u001b[0;34m\u001b[0m\u001b[0m\n\u001b[0;32m-> 1379\u001b[0;31m               \u001b[0mtmp_logs\u001b[0m \u001b[0;34m=\u001b[0m \u001b[0mtest_function\u001b[0m\u001b[0;34m(\u001b[0m\u001b[0miterator\u001b[0m\u001b[0;34m)\u001b[0m\u001b[0;34m\u001b[0m\u001b[0;34m\u001b[0m\u001b[0m\n\u001b[0m\u001b[1;32m   1380\u001b[0m               \u001b[0;32mif\u001b[0m \u001b[0mdata_handler\u001b[0m\u001b[0;34m.\u001b[0m\u001b[0mshould_sync\u001b[0m\u001b[0;34m:\u001b[0m\u001b[0;34m\u001b[0m\u001b[0;34m\u001b[0m\u001b[0m\n\u001b[1;32m   1381\u001b[0m                 \u001b[0mcontext\u001b[0m\u001b[0;34m.\u001b[0m\u001b[0masync_wait\u001b[0m\u001b[0;34m(\u001b[0m\u001b[0;34m)\u001b[0m\u001b[0;34m\u001b[0m\u001b[0;34m\u001b[0m\u001b[0m\n",
      "\u001b[0;32m~/.local/lib/python3.7/site-packages/tensorflow/python/eager/def_function.py\u001b[0m in \u001b[0;36m__call__\u001b[0;34m(self, *args, **kwds)\u001b[0m\n\u001b[1;32m    778\u001b[0m       \u001b[0;32melse\u001b[0m\u001b[0;34m:\u001b[0m\u001b[0;34m\u001b[0m\u001b[0;34m\u001b[0m\u001b[0m\n\u001b[1;32m    779\u001b[0m         \u001b[0mcompiler\u001b[0m \u001b[0;34m=\u001b[0m \u001b[0;34m\"nonXla\"\u001b[0m\u001b[0;34m\u001b[0m\u001b[0;34m\u001b[0m\u001b[0m\n\u001b[0;32m--> 780\u001b[0;31m         \u001b[0mresult\u001b[0m \u001b[0;34m=\u001b[0m \u001b[0mself\u001b[0m\u001b[0;34m.\u001b[0m\u001b[0m_call\u001b[0m\u001b[0;34m(\u001b[0m\u001b[0;34m*\u001b[0m\u001b[0margs\u001b[0m\u001b[0;34m,\u001b[0m \u001b[0;34m**\u001b[0m\u001b[0mkwds\u001b[0m\u001b[0;34m)\u001b[0m\u001b[0;34m\u001b[0m\u001b[0;34m\u001b[0m\u001b[0m\n\u001b[0m\u001b[1;32m    781\u001b[0m \u001b[0;34m\u001b[0m\u001b[0m\n\u001b[1;32m    782\u001b[0m       \u001b[0mnew_tracing_count\u001b[0m \u001b[0;34m=\u001b[0m \u001b[0mself\u001b[0m\u001b[0;34m.\u001b[0m\u001b[0m_get_tracing_count\u001b[0m\u001b[0;34m(\u001b[0m\u001b[0;34m)\u001b[0m\u001b[0;34m\u001b[0m\u001b[0;34m\u001b[0m\u001b[0m\n",
      "\u001b[0;32m~/.local/lib/python3.7/site-packages/tensorflow/python/eager/def_function.py\u001b[0m in \u001b[0;36m_call\u001b[0;34m(self, *args, **kwds)\u001b[0m\n\u001b[1;32m    812\u001b[0m       \u001b[0;31m# In this case we have not created variables on the first call. So we can\u001b[0m\u001b[0;34m\u001b[0m\u001b[0;34m\u001b[0m\u001b[0;34m\u001b[0m\u001b[0m\n\u001b[1;32m    813\u001b[0m       \u001b[0;31m# run the first trace but we should fail if variables are created.\u001b[0m\u001b[0;34m\u001b[0m\u001b[0;34m\u001b[0m\u001b[0;34m\u001b[0m\u001b[0m\n\u001b[0;32m--> 814\u001b[0;31m       \u001b[0mresults\u001b[0m \u001b[0;34m=\u001b[0m \u001b[0mself\u001b[0m\u001b[0;34m.\u001b[0m\u001b[0m_stateful_fn\u001b[0m\u001b[0;34m(\u001b[0m\u001b[0;34m*\u001b[0m\u001b[0margs\u001b[0m\u001b[0;34m,\u001b[0m \u001b[0;34m**\u001b[0m\u001b[0mkwds\u001b[0m\u001b[0;34m)\u001b[0m\u001b[0;34m\u001b[0m\u001b[0;34m\u001b[0m\u001b[0m\n\u001b[0m\u001b[1;32m    815\u001b[0m       \u001b[0;32mif\u001b[0m \u001b[0mself\u001b[0m\u001b[0;34m.\u001b[0m\u001b[0m_created_variables\u001b[0m\u001b[0;34m:\u001b[0m\u001b[0;34m\u001b[0m\u001b[0;34m\u001b[0m\u001b[0m\n\u001b[1;32m    816\u001b[0m         raise ValueError(\"Creating variables on a non-first call to a function\"\n",
      "\u001b[0;32m~/.local/lib/python3.7/site-packages/tensorflow/python/eager/function.py\u001b[0m in \u001b[0;36m__call__\u001b[0;34m(self, *args, **kwargs)\u001b[0m\n\u001b[1;32m   2827\u001b[0m     \u001b[0;32mwith\u001b[0m \u001b[0mself\u001b[0m\u001b[0;34m.\u001b[0m\u001b[0m_lock\u001b[0m\u001b[0;34m:\u001b[0m\u001b[0;34m\u001b[0m\u001b[0;34m\u001b[0m\u001b[0m\n\u001b[1;32m   2828\u001b[0m       \u001b[0mgraph_function\u001b[0m\u001b[0;34m,\u001b[0m \u001b[0margs\u001b[0m\u001b[0;34m,\u001b[0m \u001b[0mkwargs\u001b[0m \u001b[0;34m=\u001b[0m \u001b[0mself\u001b[0m\u001b[0;34m.\u001b[0m\u001b[0m_maybe_define_function\u001b[0m\u001b[0;34m(\u001b[0m\u001b[0margs\u001b[0m\u001b[0;34m,\u001b[0m \u001b[0mkwargs\u001b[0m\u001b[0;34m)\u001b[0m\u001b[0;34m\u001b[0m\u001b[0;34m\u001b[0m\u001b[0m\n\u001b[0;32m-> 2829\u001b[0;31m     \u001b[0;32mreturn\u001b[0m \u001b[0mgraph_function\u001b[0m\u001b[0;34m.\u001b[0m\u001b[0m_filtered_call\u001b[0m\u001b[0;34m(\u001b[0m\u001b[0margs\u001b[0m\u001b[0;34m,\u001b[0m \u001b[0mkwargs\u001b[0m\u001b[0;34m)\u001b[0m  \u001b[0;31m# pylint: disable=protected-access\u001b[0m\u001b[0;34m\u001b[0m\u001b[0;34m\u001b[0m\u001b[0m\n\u001b[0m\u001b[1;32m   2830\u001b[0m \u001b[0;34m\u001b[0m\u001b[0m\n\u001b[1;32m   2831\u001b[0m   \u001b[0;34m@\u001b[0m\u001b[0mproperty\u001b[0m\u001b[0;34m\u001b[0m\u001b[0;34m\u001b[0m\u001b[0m\n",
      "\u001b[0;32m~/.local/lib/python3.7/site-packages/tensorflow/python/eager/function.py\u001b[0m in \u001b[0;36m_filtered_call\u001b[0;34m(self, args, kwargs, cancellation_manager)\u001b[0m\n\u001b[1;32m   1846\u001b[0m                            resource_variable_ops.BaseResourceVariable))],\n\u001b[1;32m   1847\u001b[0m         \u001b[0mcaptured_inputs\u001b[0m\u001b[0;34m=\u001b[0m\u001b[0mself\u001b[0m\u001b[0;34m.\u001b[0m\u001b[0mcaptured_inputs\u001b[0m\u001b[0;34m,\u001b[0m\u001b[0;34m\u001b[0m\u001b[0;34m\u001b[0m\u001b[0m\n\u001b[0;32m-> 1848\u001b[0;31m         cancellation_manager=cancellation_manager)\n\u001b[0m\u001b[1;32m   1849\u001b[0m \u001b[0;34m\u001b[0m\u001b[0m\n\u001b[1;32m   1850\u001b[0m   \u001b[0;32mdef\u001b[0m \u001b[0m_call_flat\u001b[0m\u001b[0;34m(\u001b[0m\u001b[0mself\u001b[0m\u001b[0;34m,\u001b[0m \u001b[0margs\u001b[0m\u001b[0;34m,\u001b[0m \u001b[0mcaptured_inputs\u001b[0m\u001b[0;34m,\u001b[0m \u001b[0mcancellation_manager\u001b[0m\u001b[0;34m=\u001b[0m\u001b[0;32mNone\u001b[0m\u001b[0;34m)\u001b[0m\u001b[0;34m:\u001b[0m\u001b[0;34m\u001b[0m\u001b[0;34m\u001b[0m\u001b[0m\n",
      "\u001b[0;32m~/.local/lib/python3.7/site-packages/tensorflow/python/eager/function.py\u001b[0m in \u001b[0;36m_call_flat\u001b[0;34m(self, args, captured_inputs, cancellation_manager)\u001b[0m\n\u001b[1;32m   1922\u001b[0m       \u001b[0;31m# No tape is watching; skip to running the function.\u001b[0m\u001b[0;34m\u001b[0m\u001b[0;34m\u001b[0m\u001b[0;34m\u001b[0m\u001b[0m\n\u001b[1;32m   1923\u001b[0m       return self._build_call_outputs(self._inference_function.call(\n\u001b[0;32m-> 1924\u001b[0;31m           ctx, args, cancellation_manager=cancellation_manager))\n\u001b[0m\u001b[1;32m   1925\u001b[0m     forward_backward = self._select_forward_and_backward_functions(\n\u001b[1;32m   1926\u001b[0m         \u001b[0margs\u001b[0m\u001b[0;34m,\u001b[0m\u001b[0;34m\u001b[0m\u001b[0;34m\u001b[0m\u001b[0m\n",
      "\u001b[0;32m~/.local/lib/python3.7/site-packages/tensorflow/python/eager/function.py\u001b[0m in \u001b[0;36mcall\u001b[0;34m(self, ctx, args, cancellation_manager)\u001b[0m\n\u001b[1;32m    548\u001b[0m               \u001b[0minputs\u001b[0m\u001b[0;34m=\u001b[0m\u001b[0margs\u001b[0m\u001b[0;34m,\u001b[0m\u001b[0;34m\u001b[0m\u001b[0;34m\u001b[0m\u001b[0m\n\u001b[1;32m    549\u001b[0m               \u001b[0mattrs\u001b[0m\u001b[0;34m=\u001b[0m\u001b[0mattrs\u001b[0m\u001b[0;34m,\u001b[0m\u001b[0;34m\u001b[0m\u001b[0;34m\u001b[0m\u001b[0m\n\u001b[0;32m--> 550\u001b[0;31m               ctx=ctx)\n\u001b[0m\u001b[1;32m    551\u001b[0m         \u001b[0;32melse\u001b[0m\u001b[0;34m:\u001b[0m\u001b[0;34m\u001b[0m\u001b[0;34m\u001b[0m\u001b[0m\n\u001b[1;32m    552\u001b[0m           outputs = execute.execute_with_cancellation(\n",
      "\u001b[0;32m~/.local/lib/python3.7/site-packages/tensorflow/python/eager/execute.py\u001b[0m in \u001b[0;36mquick_execute\u001b[0;34m(op_name, num_outputs, inputs, attrs, ctx, name)\u001b[0m\n\u001b[1;32m     58\u001b[0m     \u001b[0mctx\u001b[0m\u001b[0;34m.\u001b[0m\u001b[0mensure_initialized\u001b[0m\u001b[0;34m(\u001b[0m\u001b[0;34m)\u001b[0m\u001b[0;34m\u001b[0m\u001b[0;34m\u001b[0m\u001b[0m\n\u001b[1;32m     59\u001b[0m     tensors = pywrap_tfe.TFE_Py_Execute(ctx._handle, device_name, op_name,\n\u001b[0;32m---> 60\u001b[0;31m                                         inputs, attrs, num_outputs)\n\u001b[0m\u001b[1;32m     61\u001b[0m   \u001b[0;32mexcept\u001b[0m \u001b[0mcore\u001b[0m\u001b[0;34m.\u001b[0m\u001b[0m_NotOkStatusException\u001b[0m \u001b[0;32mas\u001b[0m \u001b[0me\u001b[0m\u001b[0;34m:\u001b[0m\u001b[0;34m\u001b[0m\u001b[0;34m\u001b[0m\u001b[0m\n\u001b[1;32m     62\u001b[0m     \u001b[0;32mif\u001b[0m \u001b[0mname\u001b[0m \u001b[0;32mis\u001b[0m \u001b[0;32mnot\u001b[0m \u001b[0;32mNone\u001b[0m\u001b[0;34m:\u001b[0m\u001b[0;34m\u001b[0m\u001b[0;34m\u001b[0m\u001b[0m\n",
      "\u001b[0;31mKeyboardInterrupt\u001b[0m: "
     ]
    }
   ],
   "source": [
    "evalu = mod_fus.evaluate_generator(test_generator)\n",
    "print(model11.metrics_names)\n",
    "print(evalu)"
   ]
  },
  {
   "cell_type": "code",
   "execution_count": null,
   "metadata": {},
   "outputs": [],
   "source": [
    "# save model\n",
    "MODEL_FILE = \"Models/gd fusion.json\" # save path\n",
    "WEIGHT_FILE =\"Models/gd fusion.h5\" # save path\n",
    "\n",
    "model_json = mod_fus.to_json()\n",
    "with open(MODEL_FILE, \"w\") as json_file:\n",
    "    json_file.write(model_json)\n",
    "mod_fus.save_weights(WEIGHT_FILE)"
   ]
  },
  {
   "cell_type": "markdown",
   "metadata": {},
   "source": [
    "# Import model & test"
   ]
  },
  {
   "cell_type": "code",
   "execution_count": 15,
   "metadata": {},
   "outputs": [],
   "source": [
    "model_addr = 'Models/gd fusion.json'\n",
    "weight_addr = 'Models/gd fusion.h5'\n",
    "json_file = open(model_addr, 'r')\n",
    "loaded_model_json = json_file.read()\n",
    "json_file.close()\n",
    "model_fus = model_from_json(loaded_model_json)\n",
    "model_fus.load_weights(weight_addr)"
   ]
  },
  {
   "cell_type": "code",
   "execution_count": 140,
   "metadata": {
    "scrolled": true
   },
   "outputs": [],
   "source": [
    "# for layer in model_fus.layers:\n",
    "#     print(layer.output_shape)\n",
    "#     print(layer.name)"
   ]
  },
  {
   "cell_type": "code",
   "execution_count": 141,
   "metadata": {
    "scrolled": true
   },
   "outputs": [
    {
     "name": "stderr",
     "output_type": "stream",
     "text": [
      "/home/m/.local/lib/python3.7/site-packages/matplotlib/font_manager.py:1241: UserWarning: findfont: Font family ['normal'] not found. Falling back to DejaVu Sans.\n",
      "  (prop.get_family(), self.defaultFamily[fontext]))\n"
     ]
    },
    {
     "data": {
      "text/plain": [
       "<function matplotlib.pyplot.show(*args, **kw)>"
      ]
     },
     "execution_count": 141,
     "metadata": {},
     "output_type": "execute_result"
    },
    {
     "data": {
      "image/png": "[encoded data removed]",
      "text/plain": [
       "<Figure size 1080x720 with 2 Axes>"
      ]
     },
     "metadata": {
      "needs_background": "light"
     },
     "output_type": "display_data"
    }
   ],
   "source": [
    "import pandas as pd\n",
    "import seaborn as sn\n",
    "# %matplotlib qt \n",
    "# opens figure in a new window\n",
    "font = {'family' : 'normal', \n",
    "        'weight' : 'bold',\n",
    "        'size'   : 18}\n",
    "\n",
    "plt.rc('font', **font) \n",
    "plt.rc('xtick', labelsize=18)    # fontsize of the tick labels\n",
    "plt.rc('ytick', labelsize=18) \n",
    "\n",
    "# pred = np.zeros(y3train.shape)\n",
    "# for i in range(0,x3test.shape[0]):\n",
    "# pred = [np.argmax(np.squeeze(mod_fus.predict([np.expand_dims(x1train[i],0),np.expand_dims(x2train[i],0),np.expand_dims(x3train[i],0)])),-1) for i in range(0,x3train.shape[0])]\n",
    "pred = [np.argmax(np.squeeze(mod_fus.predict([np.expand_dims(x1test[i],0), np.expand_dims(x2test[i],0), np.expand_dims(x3test[i],0)])),-1) for i in range(0,x1test.shape[0])]\n",
    "# pred = model_fus.predict(pred_gen, batch_size = 1, steps = len(x3test))\n",
    "Y_pred = np.concatenate(pred)\n",
    "Y_test_int = np.concatenate([np.argmax(y, -1) for y in y3test])\n",
    "#print(predictions[0:5])\n",
    "#print(Y_pred[0:5])\n",
    "#print(Y_test_int[0:5])\n",
    "data = {'y_Predicted': Y_pred,\n",
    "        'y_Actual':    Y_test_int\n",
    "        }\n",
    "\n",
    "df = pd.DataFrame(data, columns=['y_Actual','y_Predicted'])\n",
    "confusion_matrix = pd.crosstab(df['y_Actual'], df['y_Predicted'], rownames=['Actual'], colnames=['Predicted'], margins = False)\n",
    "fig3 = plt.figure()\n",
    "sn.heatmap(confusion_matrix, annot=True)\n",
    "b, t = plt.ylim()\n",
    "b += 0.5\n",
    "t -= 0.5\n",
    "plt.ylim(b,t)\n",
    "fig3.set_size_inches(15,10)\n",
    "plt.show"
   ]
  },
  {
   "cell_type": "code",
   "execution_count": 142,
   "metadata": {
    "scrolled": true
   },
   "outputs": [
    {
     "data": {
      "text/plain": [
       "99.99357821731313"
      ]
     },
     "execution_count": 142,
     "metadata": {},
     "output_type": "execute_result"
    }
   ],
   "source": [
    "cmp = Y_pred == Y_test_int\n",
    "trues = np.sum(cmp)\n",
    "acc = trues/len(cmp)*100\n",
    "acc"
   ]
  },
  {
   "cell_type": "markdown",
   "metadata": {},
   "source": [
    "# Multi-input from scratch"
   ]
  },
  {
   "cell_type": "code",
   "execution_count": 143,
   "metadata": {},
   "outputs": [],
   "source": [
    "def multi_mod():\n",
    "    with tf.device('/gpu:2'):\n",
    "        \n",
    "        inputlayer1 = Input(shape = input_shape1)\n",
    "        y = TimeDistributed(Conv3D(8, kernel_size=(3, 3, 3), padding='same', activation='relu'))(inputlayer1)\n",
    "        y = TimeDistributed(MaxPooling3D(pool_size=(1,2,2)))(y)\n",
    "        y = TimeDistributed(Conv3D(16, kernel_size=(3, 3, 3), padding='same', activation='relu'))(y)\n",
    "        y = TimeDistributed(MaxPooling3D(pool_size=(1,2,2)))(y)\n",
    "        y = TimeDistributed(Conv3D(32, kernel_size=(3, 3, 3), padding='same', activation='relu'))(y)\n",
    "        y = TimeDistributed(MaxPooling3D(pool_size=(1,2,2)))(y)\n",
    "        y = TimeDistributed(Flatten())(y)\n",
    "        y = Bidirectional(LSTM(128, dropout=0.5, return_sequences=True))(y)\n",
    "        \n",
    "        inputlayer2 = Input(shape = input_shape2)\n",
    "        z = TimeDistributed(Conv3D(8, kernel_size=(3, 3, 3), padding='same', activation='relu'))(inputlayer2)\n",
    "        z = TimeDistributed(MaxPooling3D(pool_size=(1,2,2)))(z)\n",
    "        z = TimeDistributed(Conv3D(16, kernel_size=(3, 3, 3), padding='same', activation='relu'))(z)\n",
    "        z = TimeDistributed(MaxPooling3D(pool_size=(1,2,2)))(z)\n",
    "        z = TimeDistributed(Conv3D(32, kernel_size=(3, 3, 3), padding='same', activation='relu'))(z)\n",
    "        z = TimeDistributed(MaxPooling3D(pool_size=(1,2,2)))(z)\n",
    "        z = TimeDistributed(Flatten())(z)\n",
    "        z = Bidirectional(LSTM(128, dropout=0.5, return_sequences=True))(z)\n",
    "        \n",
    "        inputlayer3 = Input(shape = input_shape3)\n",
    "        x = TimeDistributed(Conv2D(8, kernel_size=(3, 3), padding='same', activation='relu'))(inputlayer3)\n",
    "        x = TimeDistributed(MaxPooling2D(pool_size=(2,2)))(x)\n",
    "        x = TimeDistributed(Conv2D(16, kernel_size=(3, 3), padding='same', activation='relu'))(x)\n",
    "        x = TimeDistributed(MaxPooling2D(pool_size=(2,2)))(x)\n",
    "        x = TimeDistributed(Conv2D(32, kernel_size=(3, 3), padding='same', activation='relu'))(x)\n",
    "        x = TimeDistributed(MaxPooling2D(pool_size=(2,2)))(x)\n",
    "        x = TimeDistributed(Flatten())(x)\n",
    "        x = Bidirectional(LSTM(128, dropout=0.5, return_sequences=True))(x)\n",
    "        \n",
    "        cat = concatenate([y,z,x])\n",
    "        out = TimeDistributed(Dense(num_class,activation='softmax'))(cat)\n",
    "        \n",
    "        model = keras.Model(inputs = [inputlayer1,inputlayer2,inputlayer3], outputs = [out])#, out2, out3])\n",
    "        opt = Adam(lr=1e-3, decay=1e-3 / 200)\n",
    "        model.compile(loss = 'categorical_crossentropy', optimizer=opt,metrics = ['accuracy'],sample_weight_mode=\"temporal\")\n",
    "        \n",
    "        return model "
   ]
  },
  {
   "cell_type": "code",
   "execution_count": 144,
   "metadata": {},
   "outputs": [],
   "source": [
    "input_shape1 = (None,x1train[0].shape[1],x1train[0].shape[2],x1train[0].shape[3],x1train[0].shape[4])\n",
    "input_shape2 = input_shape1\n",
    "input_shape3 = (None,x3train[0].shape[1],x3train[0].shape[2],x3train[0].shape[3])"
   ]
  },
  {
   "cell_type": "code",
   "execution_count": 145,
   "metadata": {},
   "outputs": [],
   "source": [
    "model11 = multi_mod()"
   ]
  },
  {
   "cell_type": "code",
   "execution_count": 146,
   "metadata": {},
   "outputs": [
    {
     "data": {
      "image/png": "[encoded data removed]",
      "text/plain": [
       "<Figure size 864x576 with 2 Axes>"
      ]
     },
     "metadata": {
      "needs_background": "light"
     },
     "output_type": "display_data"
    },
    {
     "name": "stdout",
     "output_type": "stream",
     "text": [
      "accuracy\n",
      "\ttraining         \t (min:    0.645, max:    1.000, cur:    0.996)\n",
      "\tvalidation       \t (min:    0.710, max:    0.952, cur:    0.801)\n",
      "Loss\n",
      "\ttraining         \t (min:    0.000, max:    1.235, cur:    0.014)\n",
      "\tvalidation       \t (min:    0.197, max:    0.938, cur:    0.815)\n",
      "\b\b\b\b\b\b\b\b\b\b\b\b\b\b\b\b\b\b\b\b\b\b\b\b\b\b\b\b\b\b\b\b\b\b\b\b\b\b\b\b\b\b\b\b\b\b\b\b\b\b\b\b\b\b\b\b\b\b\b\b\b\b\b\b\b\b\b\b\b\b\b\b\b\b\b\b\b\b\b\b\b\b\b\b\b\b\r",
      "1154/1154 [==============================] - 71s 61ms/step - loss: 0.0139 - accuracy: 0.9965 - val_loss: 0.8151 - val_accuracy: 0.8010\n"
     ]
    }
   ],
   "source": [
    "history = model11.fit_generator(train_generator,validation_data = test_generator,\n",
    "                        epochs=5, #batch_size=1, \n",
    "                        steps_per_epoch = len(x1train), validation_steps = len(x1test), \n",
    "                        shuffle=False, callbacks = [PlotLossesKerasTF()], \n",
    "                        verbose=1)"
   ]
  },
  {
   "cell_type": "code",
   "execution_count": 147,
   "metadata": {},
   "outputs": [
    {
     "data": {
      "text/plain": [
       "80.098414434117"
      ]
     },
     "execution_count": 147,
     "metadata": {},
     "output_type": "execute_result"
    }
   ],
   "source": [
    "pred = [np.argmax(np.squeeze(model11.predict([np.expand_dims(x1test[i],0), np.expand_dims(x2test[i],0), np.expand_dims(x3test[i],0)])),-1) for i in range(0,y3test.shape[0])]\n",
    "Y_pred = np.concatenate(pred)\n",
    "Y_test_int = np.concatenate([np.argmax(y, -1) for y in y3test])\n",
    "cmp = Y_pred == Y_test_int\n",
    "trues = np.sum(cmp)\n",
    "acc = trues/len(cmp)*100\n",
    "acc"
   ]
  },
  {
   "cell_type": "code",
   "execution_count": 148,
   "metadata": {},
   "outputs": [],
   "source": [
    "# save model\n",
    "MODEL_FILE = \"Models/gd fusion.json\" # save path\n",
    "WEIGHT_FILE =\"Models/gd fusion.h5\" # save path\n",
    "\n",
    "model_json = mod_fus.to_json()\n",
    "with open(MODEL_FILE, \"w\") as json_file:\n",
    "    json_file.write(model_json)\n",
    "mod_fus.save_weights(WEIGHT_FILE)"
   ]
  },
  {
   "cell_type": "code",
   "execution_count": null,
   "metadata": {},
   "outputs": [],
   "source": []
  }
 ],
 "metadata": {
  "kernelspec": {
   "display_name": "Python 3",
   "language": "python",
   "name": "python3"
  },
  "language_info": {
   "codemirror_mode": {
    "name": "ipython",
    "version": 3
   },
   "file_extension": ".py",
   "mimetype": "text/x-python",
   "name": "python",
   "nbconvert_exporter": "python",
   "pygments_lexer": "ipython3",
   "version": "3.7.2"
  }
 },
 "nbformat": 4,
 "nbformat_minor": 2
}
