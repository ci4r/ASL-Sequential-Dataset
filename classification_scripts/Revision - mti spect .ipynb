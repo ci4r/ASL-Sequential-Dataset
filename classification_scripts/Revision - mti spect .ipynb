{
 "cells": [
  {
   "cell_type": "code",
   "execution_count": 3,
   "metadata": {},
   "outputs": [
    {
     "name": "stdout",
     "output_type": "stream",
     "text": [
      "File to be created: Datasets/revision_mti_mask_imit.pkl\n"
     ]
    }
   ],
   "source": [
    "from random import shuffle\n",
    "import glob,h5py, cv2, scipy, pickle, itertools, re\n",
    "import numpy as np\n",
    "from IPython.display import clear_output\n",
    "from pandas import read_csv\n",
    "from tensorflow.keras.utils import to_categorical\n",
    "from sklearn.model_selection import train_test_split\n",
    "from collections import Counter\n",
    "from tqdm import tqdm\n",
    "subj = 'mti_mask'\n",
    "filename = 'Datasets/'+'revision_'+subj+'_imit.pkl' # no resize\n",
    "print('File to be created: ' + filename)"
   ]
  },
  {
   "cell_type": "code",
   "execution_count": 2,
   "metadata": {},
   "outputs": [
    {
     "name": "stdout",
     "output_type": "stream",
     "text": [
      "Num. of label files: 1322\n",
      "1. /mnt/HDD01/rspl-admin/DATASETS/Fall Sequential/Outputs/10 dec emre mahbub/labels/microDoppler/11010014_1607634322_2.txt\n",
      "2. /mnt/HDD01/rspl-admin/DATASETS/Fall Sequential/Outputs/10 dec emre mahbub/labels/microDoppler/11010014_1607632426_1.txt\n",
      "3. /mnt/HDD01/rspl-admin/DATASETS/Fall Sequential/Outputs/10 dec emre mahbub/labels/microDoppler/11050014_1607634027_5.txt\n",
      "4. /mnt/HDD01/rspl-admin/DATASETS/Fall Sequential/Outputs/10 dec emre mahbub/labels/microDoppler/11020000_1607632865_4.txt\n",
      "5. /mnt/HDD01/rspl-admin/DATASETS/Fall Sequential/Outputs/10 dec emre mahbub/labels/microDoppler/11050014_1607635095_4.txt\n"
     ]
    }
   ],
   "source": [
    "subjects = ['10 dec emre mahbub', '12 jan emre', '11 jan mahbub emre ladi', '12 jan ozgur mahbub ladi emre', \n",
    "            '13 jan ridvan ademola sean akthar emre', '14 jan ashwanth zeki', '15 apr ozgur',\n",
    "           '15 jan emin', '19 apr sean', '19 apr sevgi', '21 apr emin', '22 apr ladi', '22 apr sean',\n",
    "           '23 apr alperen', '23 apr mahbub', '5 apr sevgi']\n",
    "mainpath = '/mnt/HDD01/rspl-admin/DATASETS/Fall Sequential/Outputs/'\n",
    "label_files = []\n",
    "for i in range(len(subjects)):\n",
    "    addr = glob.glob(mainpath+subjects[i]+'/labels/microDoppler/'+'*.txt')\n",
    "    label_files.append(addr)\n",
    "label_files = sum(label_files, [])\n",
    "print('Num. of label files: '+str(len(label_files)))\n",
    "for i in range(0,5):    \n",
    "    print(str(i+1)+'. '+label_files[i])"
   ]
  },
  {
   "cell_type": "code",
   "execution_count": 6,
   "metadata": {},
   "outputs": [
    {
     "name": "stdout",
     "output_type": "stream",
     "text": [
      "Num. of label files: 1322\n",
      "1. /mnt/HDD01/rspl-admin/DATASETS/Fall Sequential/Outputs/10 dec emre mahbub/microDoppler-mti/11010014_1607634322_2gray.png\n",
      "2. /mnt/HDD01/rspl-admin/DATASETS/Fall Sequential/Outputs/10 dec emre mahbub/microDoppler-mti/11010014_1607632426_1gray.png\n",
      "3. /mnt/HDD01/rspl-admin/DATASETS/Fall Sequential/Outputs/10 dec emre mahbub/microDoppler-mti/11050014_1607634027_5gray.png\n",
      "4. /mnt/HDD01/rspl-admin/DATASETS/Fall Sequential/Outputs/10 dec emre mahbub/microDoppler-mti/11020000_1607632865_4gray.png\n",
      "5. /mnt/HDD01/rspl-admin/DATASETS/Fall Sequential/Outputs/10 dec emre mahbub/microDoppler-mti/11050014_1607635095_4gray.png\n"
     ]
    }
   ],
   "source": [
    "# load videos\n",
    "im_files = []\n",
    "for i in range(len(label_files)):\n",
    "    addr = label_files[i].replace('labels/','').replace('.txt','gray.png').replace('microDoppler','microDoppler-mti')\n",
    "    im_files.append(addr)\n",
    "# RD_files = sum(RD_files, [])\n",
    "print('Num. of label files: '+str(len(im_files)))\n",
    "for i in range(0,5):    \n",
    "    print(str(i+1)+'. '+im_files[i])"
   ]
  },
  {
   "cell_type": "code",
   "execution_count": 8,
   "metadata": {},
   "outputs": [],
   "source": [
    "train_spec, test_spec = train_test_split(im_files, test_size=0.2, random_state=1)"
   ]
  },
  {
   "cell_type": "code",
   "execution_count": 9,
   "metadata": {},
   "outputs": [
    {
     "data": {
      "text/plain": [
       "(811, 1482, 3)"
      ]
     },
     "execution_count": 9,
     "metadata": {},
     "output_type": "execute_result"
    }
   ],
   "source": [
    "img = cv2.imread(train_spec[0])\n",
    "img.shape"
   ]
  },
  {
   "cell_type": "code",
   "execution_count": 17,
   "metadata": {},
   "outputs": [
    {
     "data": {
      "text/plain": [
       "[<matplotlib.lines.Line2D at 0x7efef4bfb7b8>]"
      ]
     },
     "execution_count": 17,
     "metadata": {},
     "output_type": "execute_result"
    },
    {
     "data": {
      "image/png": "[encoded data removed]",
      "text/plain": [
       "<Figure size 432x288 with 1 Axes>"
      ]
     },
     "metadata": {
      "needs_background": "light"
     },
     "output_type": "display_data"
    }
   ],
   "source": [
    "import matplotlib.pyplot as plt\n",
    "%matplotlib inline\n",
    "maxes = np.amax(img[:,:,0],0)\n",
    "plt.plot(maxes)"
   ]
  },
  {
   "cell_type": "code",
   "execution_count": 18,
   "metadata": {},
   "outputs": [
    {
     "name": "stdout",
     "output_type": "stream",
     "text": [
      "Loading training image 265/265 /mnt/HDD01/rspl-admin/DATASETS/Fall Sequential/Outputs/19 apr sevgi/microDoppler-mti/11050001_1618852432_4gray.png\n",
      "(1057, 1482)\n",
      "(265, 1482)\n"
     ]
    }
   ],
   "source": [
    "cnt = 1\n",
    "train_mask = []\n",
    "\n",
    "for image in train_spec:\n",
    "    img = cv2.imread(image)\n",
    "    train_mask.append(np.amax(img[:,:,0],0))\n",
    "    clear_output(wait=True)\n",
    "    print('Loading training image '+str(cnt)+'/'+str(len(train_spec))+ ' '+image)\n",
    "    cnt += 1\n",
    "train_mask = np.array(train_mask)\n",
    "\n",
    "cnt = 1\n",
    "test_mask = []\n",
    "\n",
    "for image in test_spec:\n",
    "    img = cv2.imread(image)\n",
    "    test_mask.append(np.amax(img[:,:,0],0))\n",
    "    clear_output(wait=True)\n",
    "    print('Loading training image '+str(cnt)+'/'+str(len(test_spec))+ ' '+image)\n",
    "    cnt += 1\n",
    "test_mask = np.array(test_mask)\n",
    "\n",
    "print(train_mask.shape)\n",
    "print(test_mask.shape)"
   ]
  },
  {
   "cell_type": "code",
   "execution_count": 20,
   "metadata": {},
   "outputs": [
    {
     "name": "stdout",
     "output_type": "stream",
     "text": [
      "Datasets/revision_mti_mask_imit.pkl created.\n"
     ]
    }
   ],
   "source": [
    "data = [train_mask[0:800], test_mask[0:200]]\n",
    "with open(filename, 'wb') as output:  # Overwrites any existing file.\n",
    "        pickle.dump(data, output, pickle.HIGHEST_PROTOCOL)\n",
    "print(filename+' created.')"
   ]
  },
  {
   "cell_type": "code",
   "execution_count": null,
   "metadata": {},
   "outputs": [],
   "source": []
  }
 ],
 "metadata": {
  "kernelspec": {
   "display_name": "Python 3",
   "language": "python",
   "name": "python3"
  },
  "language_info": {
   "codemirror_mode": {
    "name": "ipython",
    "version": 3
   },
   "file_extension": ".py",
   "mimetype": "text/x-python",
   "name": "python",
   "nbconvert_exporter": "python",
   "pygments_lexer": "ipython3",
   "version": "3.7.2"
  }
 },
 "nbformat": 4,
 "nbformat_minor": 2
}
