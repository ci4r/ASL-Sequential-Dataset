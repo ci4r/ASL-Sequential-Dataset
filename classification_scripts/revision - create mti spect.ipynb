{
 "cells": [
  {
   "cell_type": "code",
   "execution_count": 1,
   "metadata": {},
   "outputs": [
    {
     "name": "stdout",
     "output_type": "stream",
     "text": [
      "File to be created: Datasets/revision_imit_mti_spec2_128_last.pkl\n"
     ]
    }
   ],
   "source": [
    "from random import shuffle\n",
    "import glob,h5py, cv2, scipy, pickle, itertools, re\n",
    "import numpy as np\n",
    "from IPython.display import clear_output\n",
    "from pandas import read_csv\n",
    "from tensorflow.keras.utils import to_categorical\n",
    "from sklearn.model_selection import train_test_split\n",
    "from collections import Counter\n",
    "from tqdm import tqdm\n",
    "subj = 'imit_mti'\n",
    "filename = 'Datasets/'+'revision_'+subj+'_spec2_128_last.pkl' # no resize\n",
    "print('File to be created: ' + filename)"
   ]
  },
  {
   "cell_type": "code",
   "execution_count": 2,
   "metadata": {},
   "outputs": [
    {
     "name": "stdout",
     "output_type": "stream",
     "text": [
      "Num. of label files: 1322\n",
      "1. /mnt/HDD01/rspl-admin/DATASETS/Fall Sequential/Outputs/10 dec emre mahbub/labels/microDoppler/11010014_1607634322_2.txt\n",
      "2. /mnt/HDD01/rspl-admin/DATASETS/Fall Sequential/Outputs/10 dec emre mahbub/labels/microDoppler/11010014_1607632426_1.txt\n",
      "3. /mnt/HDD01/rspl-admin/DATASETS/Fall Sequential/Outputs/10 dec emre mahbub/labels/microDoppler/11050014_1607634027_5.txt\n",
      "4. /mnt/HDD01/rspl-admin/DATASETS/Fall Sequential/Outputs/10 dec emre mahbub/labels/microDoppler/11020000_1607632865_4.txt\n",
      "5. /mnt/HDD01/rspl-admin/DATASETS/Fall Sequential/Outputs/10 dec emre mahbub/labels/microDoppler/11050014_1607635095_4.txt\n"
     ]
    }
   ],
   "source": [
    "# load labels\n",
    "subjects = ['10 dec emre mahbub', '12 jan emre', '11 jan mahbub emre ladi', '12 jan ozgur mahbub ladi emre', \n",
    "            '13 jan ridvan ademola sean akthar emre', '14 jan ashwanth zeki', '15 apr ozgur',\n",
    "           '15 jan emin', '19 apr sean', '19 apr sevgi', '21 apr emin', '22 apr ladi', '22 apr sean',\n",
    "           '23 apr alperen', '23 apr mahbub', '5 apr sevgi']\n",
    "# subjects = ['6 apr blake', '15 apr darrin', '16 apr devon asl2', '20 apr caroline', '21 apr blake']\n",
    "# subjects = ['20 apr caroline']\n",
    "\n",
    "mainpath = '/mnt/HDD01/rspl-admin/DATASETS/Fall Sequential/Outputs/'\n",
    "label_files = []\n",
    "for i in range(len(subjects)):\n",
    "    addr = glob.glob(mainpath+subjects[i]+'/labels/microDoppler/'+'*.txt')\n",
    "    label_files.append(addr)\n",
    "label_files = sum(label_files, [])\n",
    "print('Num. of label files: '+str(len(label_files)))\n",
    "for i in range(0,5):    \n",
    "    print(str(i+1)+'. '+label_files[i])"
   ]
  },
  {
   "cell_type": "code",
   "execution_count": 3,
   "metadata": {},
   "outputs": [
    {
     "name": "stdout",
     "output_type": "stream",
     "text": [
      "Num. of label files: 1322\n",
      "1. /mnt/HDD01/rspl-admin/DATASETS/Fall Sequential/Outputs/10 dec emre mahbub/microDoppler-mti/11010014_1607634322_2gray.png\n",
      "2. /mnt/HDD01/rspl-admin/DATASETS/Fall Sequential/Outputs/10 dec emre mahbub/microDoppler-mti/11010014_1607632426_1gray.png\n",
      "3. /mnt/HDD01/rspl-admin/DATASETS/Fall Sequential/Outputs/10 dec emre mahbub/microDoppler-mti/11050014_1607634027_5gray.png\n",
      "4. /mnt/HDD01/rspl-admin/DATASETS/Fall Sequential/Outputs/10 dec emre mahbub/microDoppler-mti/11020000_1607632865_4gray.png\n",
      "5. /mnt/HDD01/rspl-admin/DATASETS/Fall Sequential/Outputs/10 dec emre mahbub/microDoppler-mti/11050014_1607635095_4gray.png\n"
     ]
    }
   ],
   "source": [
    "# load videos\n",
    "im_files = []\n",
    "im_files2 = []\n",
    "im_files3 = []\n",
    "for i in range(len(label_files)):\n",
    "    addr = label_files[i].replace('labels/','').replace('.txt','gray.png').replace('microDoppler','microDoppler-mti')\n",
    "    addr2 = label_files[i].replace('labels/','').replace('txt','png')\n",
    "    addr3 = label_files[i].replace('labels/','').replace('txt','png').replace('microDoppler','microDoppler-mti')\n",
    "    im_files.append(addr)\n",
    "    im_files2.append(addr2)\n",
    "    if 'gray' not in addr3:\n",
    "        im_files3.append(addr3)\n",
    "    \n",
    "# RD_files = sum(RD_files, [])\n",
    "print('Num. of label files: '+str(len(im_files)))\n",
    "for i in range(0,5):    \n",
    "    print(str(i+1)+'. '+im_files[i])"
   ]
  },
  {
   "cell_type": "code",
   "execution_count": 6,
   "metadata": {},
   "outputs": [],
   "source": [
    "# load a single file as a numpy array\n",
    "def load_file(filepath):\n",
    "    dataframe = read_csv(filepath, header=None, delim_whitespace=True)\n",
    "    return np.array(dataframe.values)"
   ]
  },
  {
   "cell_type": "code",
   "execution_count": 7,
   "metadata": {},
   "outputs": [
    {
     "name": "stderr",
     "output_type": "stream",
     "text": [
      "  0%|          | 1/1322 [00:00<02:33,  8.62it/s]"
     ]
    },
    {
     "name": "stdout",
     "output_type": "stream",
     "text": [
      "1970\n"
     ]
    },
    {
     "name": "stderr",
     "output_type": "stream",
     "text": [
      "100%|██████████| 1322/1322 [02:07<00:00, 10.33it/s]\n"
     ]
    }
   ],
   "source": [
    "envelopes = []\n",
    "envs = glob.glob('/mnt/HDD01/rspl-admin/DATASETS/Fall Sequential/Outputs/*/envelopes/*.txt')\n",
    "print(len(envs))\n",
    "for i in tqdm(range(len(im_files2)), position = 0, leave = True):\n",
    "    fname = im_files2[i].replace('png','txt').replace('microDoppler','envelopes')\n",
    "#     idx = [x for x in range(len(envs)) if re.search(fname, envs[x])]\n",
    "#     assert len(idx) == 1\n",
    "    envelopes.append(np.squeeze(load_file(fname)))\n",
    "envelopes = np.array(envelopes) "
   ]
  },
  {
   "cell_type": "code",
   "execution_count": 8,
   "metadata": {},
   "outputs": [],
   "source": [
    "def pad_labels(yx):\n",
    "    numpad = duration*fps - yx.shape[1]\n",
    "    pads = np.repeat(yx[0,-1],numpad)\n",
    "    padded = np.expand_dims(np.append(yx,pads),0)\n",
    "    return padded"
   ]
  },
  {
   "cell_type": "code",
   "execution_count": 9,
   "metadata": {},
   "outputs": [
    {
     "name": "stdout",
     "output_type": "stream",
     "text": [
      "num steps: 120\n",
      "desired width: 15360\n"
     ]
    }
   ],
   "source": [
    "dur = 24 # sec\n",
    "win = 0.2 # win len\n",
    "n_step = int(dur/win)\n",
    "des_w = 128*n_step\n",
    "des_h = 128\n",
    "fps = 25\n",
    "print('num steps: '+str(n_step))\n",
    "print('desired width: '+str(des_w))"
   ]
  },
  {
   "cell_type": "code",
   "execution_count": 10,
   "metadata": {},
   "outputs": [
    {
     "name": "stdout",
     "output_type": "stream",
     "text": [
      "Loading training labels #1322\n",
      "(1322, 120, 19)\n"
     ]
    }
   ],
   "source": [
    "labels = []\n",
    "\n",
    "cnt = 1\n",
    "for file in label_files:\n",
    "    clear_output(wait=True)\n",
    "    print('Loading training labels #'+str(cnt))\n",
    "    yx = load_file(file)\n",
    "#     if yx.shape[1] < dur*fps:\n",
    "#         yx = pad_labels(yx)\n",
    "    idx = np.linspace(0,yx.shape[1]-1,n_step).astype(int)\n",
    "    labels.append(yx[0,idx])\n",
    "#     labels.append(yx)\n",
    "    cnt += 1\n",
    "    \n",
    "labels = np.array(labels)    \n",
    "# labels = to_categorical(np.swapaxes(labels,1,2))\n",
    "labels = to_categorical(labels)\n",
    "idx = np.linspace(0,labels.shape[1]-1,n_step).astype(int)\n",
    "labels = labels[:,idx,:]\n",
    "print(labels.shape)"
   ]
  },
  {
   "cell_type": "code",
   "execution_count": 11,
   "metadata": {},
   "outputs": [
    {
     "name": "stdout",
     "output_type": "stream",
     "text": [
      "(1322, 120, 19)\n"
     ]
    }
   ],
   "source": [
    "idx = np.linspace(0,labels.shape[1]-1,n_step).astype(int)\n",
    "labels = labels[:,idx,:]\n",
    "print(labels.shape)"
   ]
  },
  {
   "cell_type": "code",
   "execution_count": 12,
   "metadata": {},
   "outputs": [],
   "source": [
    "train_spec, test_spec, y_train, y_test, env_train, env_test = train_test_split(im_files3, labels, envelopes, test_size=0.2, random_state=1)"
   ]
  },
  {
   "cell_type": "code",
   "execution_count": 13,
   "metadata": {},
   "outputs": [],
   "source": [
    "def resizer(im, des_w, des_h, n_step):\n",
    "    resized = np.reshape(cv2.resize(im, (des_w, des_h), interpolation = cv2.INTER_AREA),(n_step, des_h, 128, 3))    \n",
    "    return resized"
   ]
  },
  {
   "cell_type": "code",
   "execution_count": 14,
   "metadata": {},
   "outputs": [
    {
     "name": "stdout",
     "output_type": "stream",
     "text": [
      "Loading test image 265/265 /mnt/HDD01/rspl-admin/DATASETS/Fall Sequential/Outputs/19 apr sevgi/microDoppler-mti/11050001_1618852432_4.png\n",
      "orig shape: (120, 128, 128, 3)\n",
      "(1057, 120, 128, 128, 3)\n",
      "(265, 120, 128, 128, 3)\n"
     ]
    }
   ],
   "source": [
    "cnt = 1\n",
    "train_images = []\n",
    "\n",
    "for image in train_spec:\n",
    "    img = cv2.imread(image)\n",
    "    img = cv2.cvtColor(img, cv2.COLOR_BGR2RGB) # cv2 load images as BGR, convert it to RGB\n",
    "    img = resizer(img, des_w, des_h, n_step)\n",
    "    clear_output(wait=True)\n",
    "    print('Loading training image '+str(cnt)+'/'+str(len(train_spec))+ ' '+image)\n",
    "    print('orig shape: '+str(img.shape))\n",
    "    train_images.append(img/255.)  \n",
    "    cnt += 1\n",
    "train_images = np.array(train_images)\n",
    "cnt = 1\n",
    "test_images = []\n",
    "\n",
    "for image in test_spec:\n",
    "    img = cv2.imread(image)\n",
    "    img = cv2.cvtColor(img, cv2.COLOR_BGR2RGB) # cv2 load images as BGR, convert it to RGB\n",
    "    img = resizer(img, des_w, des_h, n_step)\n",
    "    clear_output(wait=True)\n",
    "    print('Loading test image '+str(cnt)+'/'+str(len(test_spec))+ ' '+image)\n",
    "    print('orig shape: '+str(img.shape))\n",
    "    test_images.append(img/255.)  \n",
    "    cnt += 1\n",
    "test_images = np.array(test_images)\n",
    "\n",
    "print(train_images.shape)\n",
    "print(test_images.shape)"
   ]
  },
  {
   "cell_type": "code",
   "execution_count": 15,
   "metadata": {},
   "outputs": [
    {
     "name": "stdout",
     "output_type": "stream",
     "text": [
      "Datasets/revision_imit_mti_spec2_128_last.pkl created.\n"
     ]
    }
   ],
   "source": [
    "data = [train_images[0:800], test_images[0:200], y_train[0:800], y_test[0:200], env_train[0:800], env_test[0:200]]\n",
    "with open(filename, 'wb') as output:  # Overwrites any existing file.\n",
    "        pickle.dump(data, output, pickle.HIGHEST_PROTOCOL)\n",
    "print(filename+' created.')"
   ]
  },
  {
   "cell_type": "code",
   "execution_count": null,
   "metadata": {},
   "outputs": [],
   "source": []
  },
  {
   "cell_type": "code",
   "execution_count": null,
   "metadata": {},
   "outputs": [],
   "source": []
  }
 ],
 "metadata": {
  "kernelspec": {
   "display_name": "Python 3",
   "language": "python",
   "name": "python3"
  },
  "language_info": {
   "codemirror_mode": {
    "name": "ipython",
    "version": 3
   },
   "file_extension": ".py",
   "mimetype": "text/x-python",
   "name": "python",
   "nbconvert_exporter": "python",
   "pygments_lexer": "ipython3",
   "version": "3.7.2"
  }
 },
 "nbformat": 4,
 "nbformat_minor": 2
}
