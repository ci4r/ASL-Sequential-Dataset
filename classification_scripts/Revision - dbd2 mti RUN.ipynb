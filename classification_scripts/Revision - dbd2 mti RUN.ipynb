{
 "cells": [
  {
   "cell_type": "code",
   "execution_count": 1,
   "metadata": {},
   "outputs": [
    {
     "name": "stderr",
     "output_type": "stream",
     "text": [
      "Using TensorFlow backend.\n"
     ]
    },
    {
     "name": "stdout",
     "output_type": "stream",
     "text": [
      "Num GPUs Available:  1\n"
     ]
    }
   ],
   "source": [
    "# %matplotlib inline\n",
    "import matplotlib.pyplot as plt\n",
    "import matplotlib.image as mpimg\n",
    "import tensorflow as tf\n",
    "import os\n",
    "# Create a MirroredStrateg, If Multi-GPU available\n",
    "os.environ['TF_FORCE_GPU_ALLOW_GROWTH'] = 'true' \n",
    "tf.config.set_soft_device_placement(True)\n",
    "# strategy = tf.distribute.MirroredStrategy(devices=['/gpu:1','/gpu:2']) \n",
    "# print('Number of GPUs being used: {}'.format(strategy.num_replicas_in_sync))\n",
    "from tensorflow.keras.preprocessing.image import ImageDataGenerator\n",
    "from tensorflow.keras.models import Sequential, Model, model_from_json\n",
    "from tensorflow.keras.optimizers import *\n",
    "from tensorflow.keras.layers import *\n",
    "from tensorflow.keras import regularizers\n",
    "from tensorflow.keras.callbacks import CSVLogger\n",
    "from tensorflow.keras.wrappers.scikit_learn import KerasClassifier\n",
    "from tensorflow.keras.applications import VGG16, ResNet50\n",
    "from tensorflow.keras.utils import to_categorical\n",
    "from sklearn.model_selection import train_test_split\n",
    "from sklearn.preprocessing import StandardScaler\n",
    "from livelossplot.keras import PlotLossesCallback\n",
    "from livelossplot import PlotLossesKerasTF\n",
    "from tensorflow.keras.callbacks import ReduceLROnPlateau\n",
    "from tqdm import tqdm\n",
    "import efficientnet.keras as efn\n",
    "import h5py, glob, re, cv2, math, matplotlib, pickle, gc\n",
    "import tensorflow.keras as keras\n",
    "import pandas as pd\n",
    "from pandas import read_csv\n",
    "import numpy as np\n",
    "from scipy import stats\n",
    "import itertools, random\n",
    "from collections import Counter\n",
    "# from cnn_utils import *\n",
    "# from tensorflow.compat.v1 import ConfigProto\n",
    "# from tensorflow.compat.v1 import InteractiveSession\n",
    "from sklearn.metrics import classification_report, confusion_matrix\n",
    "from sklearn.utils import class_weight\n",
    "from PIL import Image  \n",
    "import pdb\n",
    "from statistics import mode \n",
    "from IPython.display import clear_output\n",
    "\n",
    "# config = ConfigProto()\n",
    "# config.gpu_options.allow_growth = True\n",
    "# session = InteractiveSession(config=config)\n",
    "\n",
    "np.random.seed(1)\n",
    "# Setting the seed for python random numbers\n",
    "random.seed(1254)\n",
    "# Setting the graph-level random seed.\n",
    "tf.random.set_seed(89)\n",
    "\n",
    "os.environ[\"CUDA_DEVICE_ORDER\"] = \"PCI_BUS_ID\"\n",
    "os.environ[\"CUDA_VISIBLE_DEVICES\"] = \"2\"\n",
    "!CUDA_VISIBLE_DEVICES=2\n",
    "\n",
    "# strategy = tf.distribute.MirroredStrategy(devices=['/gpu:1','/gpu:2'])\n",
    "# print('Number of GPUs being used: {}'.format(strategy.num_replicas_in_sync))\n",
    "# print('Number of GPUs being used: {}'.format(strategy.num_replicas_in_sync))\n",
    "# def setup_multi_node_training(): # IMPORTANT: SET UP TF_CONFIG FOR MULTINODE TRAINING HERE os.environ[“TF_FORCE_GPU_ALLOW_GROWTH”] = “true” tf.config.set_soft_device_placement(True) mirrored_strategy = tf.distribute.experimental.MultiWorkerMirroredStrategy(tf.distribute.experimental.CollectiveCommunication.NCCL) # Constructs the configuration run_config = tf.estimator.RunConfig( train_distribute=mirrored_strategy, ) return run_config\n",
    "print(\"Num GPUs Available: \", len(tf.config.experimental.list_physical_devices('GPU')))"
   ]
  },
  {
   "cell_type": "markdown",
   "metadata": {},
   "source": [
    "## Load data"
   ]
  },
  {
   "cell_type": "code",
   "execution_count": 2,
   "metadata": {},
   "outputs": [
    {
     "name": "stdout",
     "output_type": "stream",
     "text": [
      "(800, 120, 128, 128, 3)\n",
      "(200, 120, 128, 128, 3)\n",
      "(800, 120, 19)\n",
      "(200, 120, 19)\n",
      "(800,)\n",
      "(200,)\n"
     ]
    }
   ],
   "source": [
    "# filename = 'Datasets/final_imit_spec.pkl'\n",
    "# filename = 'Datasets/final_imit_spec2_128.pkl'\n",
    "filename = 'Datasets/revision_imit_mti_spec2_128_last.pkl'\n",
    "with open(filename, 'rb') as input:\n",
    "    x = pickle.load(input)\n",
    "imit_train_images, imit_test_images, imit_y_train, imit_y_test, imit_env_train, imit_env_test = [x[0], x[1]\n",
    "                                                                                                , x[2], x[3]\n",
    "                                                                                                , x[4], x[5]]\n",
    "print(imit_train_images.shape)\n",
    "print(imit_test_images.shape)\n",
    "print(imit_y_train.shape)\n",
    "print(imit_y_test.shape)\n",
    "print(imit_env_train.shape)\n",
    "print(imit_env_test.shape)"
   ]
  },
  {
   "cell_type": "code",
   "execution_count": 3,
   "metadata": {},
   "outputs": [
    {
     "name": "stdout",
     "output_type": "stream",
     "text": [
      "(800, 1482)\n",
      "(200, 1482)\n"
     ]
    }
   ],
   "source": [
    "filename = 'Datasets/revision_mti_mask_imit.pkl'\n",
    "with open(filename, 'rb') as input:\n",
    "    x = pickle.load(input)\n",
    "mask_train_raw, mask_test_raw = [x[0], x[1]]\n",
    "print(mask_train_raw.shape)\n",
    "print(mask_test_raw.shape)"
   ]
  },
  {
   "cell_type": "code",
   "execution_count": 4,
   "metadata": {},
   "outputs": [],
   "source": [
    "def dbd(mask_raw,threshold,fill_gap): # dynamic boundary detection\n",
    "    mask = mask_raw > threshold \n",
    "    \n",
    "    for i in range(mask.shape[0]):\n",
    "        cnt = 1\n",
    "        for j in range(1,mask.shape[1]):\n",
    "            if mask[i,j-1] == False and mask[i,j] == False:\n",
    "                cnt += 1\n",
    "                continue\n",
    "            if mask[i,j-1] == False and mask[i,j] == True:\n",
    "                if cnt < fill_gap:\n",
    "                    mask[i,j-cnt:j] = True\n",
    "                cnt = 1\n",
    "            if mask[i,j-1] == True:\n",
    "                cnt = 1\n",
    "    return mask"
   ]
  },
  {
   "cell_type": "code",
   "execution_count": 5,
   "metadata": {},
   "outputs": [],
   "source": [
    "threshold = 61 # 50\n",
    "fill_gap = 100 # 100\n",
    "mask_train = dbd(mask_train_raw,threshold,fill_gap)\n",
    "mask_test = dbd(mask_test_raw,threshold,fill_gap)"
   ]
  },
  {
   "cell_type": "code",
   "execution_count": 6,
   "metadata": {},
   "outputs": [],
   "source": [
    "# timevec = np.linspace(0,24.2,mask_train_raw.shape[1])\n",
    "# idx = 3\n",
    "# plt.plot(timevec,imit_env_test[idx]/max(imit_env_test[idx]),color='black')\n",
    "# plt.plot(timevec,mask_test[idx],linewidth=3,color='red')\n",
    "# plt.legend(['Euclidean Distance','DBD Detector'], loc = 'upper right', fontsize = 'xx-large')\n",
    "# fig = plt.gcf()\n",
    "# fig.set_size_inches(12,6)\n",
    "# plt.xticks(fontsize=19)\n",
    "# plt.yticks(fontsize=19)\n",
    "# plt.xlabel('Time (sec)',fontsize=19, fontname='Comic Sans MS')\n",
    "# plt.ylabel('Normalized Euclidean Distance',fontsize=19)\n",
    "# # plt.savefig(str(idx)+' dbd gesture detect.png',dpi=400)"
   ]
  },
  {
   "cell_type": "code",
   "execution_count": 7,
   "metadata": {},
   "outputs": [],
   "source": [
    "def gesture_counter(mask):\n",
    "    cnt = 0\n",
    "    flag = 0\n",
    "    for i in range(len(mask)):\n",
    "        if flag == 0 and mask[i] == 0:\n",
    "            continue\n",
    "        if flag == 1 and mask[i] == 1:\n",
    "            continue\n",
    "        if flag == 0 and mask[i] == 1:\n",
    "            flag = 1\n",
    "            cnt += 1\n",
    "        if flag == 1 and mask[i] == 0:\n",
    "            flag = 0\n",
    "    return cnt"
   ]
  },
  {
   "cell_type": "code",
   "execution_count": 8,
   "metadata": {
    "scrolled": true
   },
   "outputs": [
    {
     "data": {
      "text/plain": [
       "685"
      ]
     },
     "execution_count": 8,
     "metadata": {},
     "output_type": "execute_result"
    }
   ],
   "source": [
    "numgest = [gesture_counter(m) for m in mask_test]\n",
    "sum(numgest)"
   ]
  },
  {
   "cell_type": "code",
   "execution_count": 9,
   "metadata": {},
   "outputs": [],
   "source": [
    "num_class = 19"
   ]
  },
  {
   "cell_type": "code",
   "execution_count": 10,
   "metadata": {},
   "outputs": [],
   "source": [
    "def masker(x, y, mask):\n",
    "    x2 = []\n",
    "    y2 = []\n",
    "    flag = 0\n",
    "    for i in range(len(mask)):\n",
    "        for j in range(mask.shape[1]):\n",
    "            if flag == 0 and mask[i,j] == 0:\n",
    "                continue\n",
    "            if flag == 1 and mask[i,j] == 1:\n",
    "                if j == mask.shape[1]-1 and j+1 - startpt > 2:\n",
    "                    stoppt = j+1\n",
    "                    x2.append(x[i,startpt:stoppt])\n",
    "                    y2.append(y[i,startpt:stoppt])\n",
    "                else:\n",
    "                    continue\n",
    "            if flag == 0 and mask[i,j] == 1:\n",
    "                flag = 1\n",
    "                startpt = j\n",
    "            if flag == 1 and mask[i,j] == 0:\n",
    "                flag = 0\n",
    "                stoppt = j+1\n",
    "                if stoppt-startpt > 2:\n",
    "                    x2.append(x[i,startpt:stoppt])\n",
    "                    y2.append(y[i,startpt:stoppt])\n",
    "    \n",
    "    x2 = np.asarray(x2)\n",
    "    y2 = np.array([to_categorical(y,num_classes=num_class) for y in np.array(y2)])\n",
    "    return x2, y2"
   ]
  },
  {
   "cell_type": "code",
   "execution_count": 11,
   "metadata": {},
   "outputs": [],
   "source": [
    "def down_mask(mask, des_len):\n",
    "    return np.array([mask[int(len(mask)/des_len*i)] for i in range(des_len)])"
   ]
  },
  {
   "cell_type": "code",
   "execution_count": 12,
   "metadata": {},
   "outputs": [
    {
     "name": "stdout",
     "output_type": "stream",
     "text": [
      "(800, 120)\n",
      "(200, 120)\n",
      "(800, 120, 19)\n",
      "(200, 120, 19)\n",
      "(800, 120, 19, 19)\n",
      "(200, 120, 19, 19)\n"
     ]
    }
   ],
   "source": [
    "des_len = imit_train_images.shape[1]\n",
    "mask_down_train = np.array([down_mask(mask, des_len) for mask in mask_train])\n",
    "mask_down_test = np.array([down_mask(mask, des_len) for mask in mask_test])\n",
    "y_down_train = np.array([down_mask(y, des_len) for y in imit_y_train])\n",
    "y_down_test = np.array([down_mask(y, des_len) for y in imit_y_test])\n",
    "y_down_train_cat = to_categorical(y_down_train, num_classes=num_class)\n",
    "y_down_test_cat = to_categorical(y_down_test, num_classes=num_class)\n",
    "print(mask_down_train.shape)\n",
    "print(mask_down_test.shape)\n",
    "print(y_down_train.shape)\n",
    "print(y_down_test.shape)\n",
    "print(y_down_train_cat.shape)\n",
    "print(y_down_test_cat.shape)"
   ]
  },
  {
   "cell_type": "markdown",
   "metadata": {},
   "source": [
    "# Gesture detector accuracy"
   ]
  },
  {
   "cell_type": "code",
   "execution_count": 13,
   "metadata": {},
   "outputs": [
    {
     "name": "stdout",
     "output_type": "stream",
     "text": [
      "(800, 120)\n",
      "(800, 120)\n",
      "(800, 120)\n",
      "84.17916666666667\n"
     ]
    }
   ],
   "source": [
    "print(mask_down_train.shape)\n",
    "mask_y = np.argmax(y_down_train,-1) == 0\n",
    "print(mask_y.shape)\n",
    "cmp = mask_y != mask_down_train\n",
    "print(cmp.shape)\n",
    "acc = np.sum(cmp)/(cmp.shape[0]*cmp.shape[1])*100\n",
    "print(acc)"
   ]
  },
  {
   "cell_type": "code",
   "execution_count": 14,
   "metadata": {
    "scrolled": false
   },
   "outputs": [],
   "source": [
    "# thresholds = np.linspace(1,255,255)\n",
    "# acc_ls = []\n",
    "# for j,v in enumerate(thresholds):\n",
    "#     mask_train = dbd(mask_train_raw,v,fill_gap)\n",
    "#     mask_down_train = np.array([down_mask(mask, des_len) for mask in mask_train])\n",
    "#     cmp = mask_y != mask_down_train\n",
    "#     acc = np.sum(cmp)/(cmp.shape[0]*cmp.shape[1])*100\n",
    "#     acc_ls.append(acc)\n",
    "#     print(j+1,'. Threshold:',thresholds[j],', acc:',acc)"
   ]
  },
  {
   "cell_type": "code",
   "execution_count": 15,
   "metadata": {},
   "outputs": [],
   "source": [
    "# plt.figure(figsize=(6,3),dpi=300)\n",
    "# plt.plot(thresholds,acc_ls,color='b',label='DBD detector')\n",
    "# plt.xlabel('Threshold')\n",
    "# plt.ylabel('Detection Accuracy (%)')\n",
    "# plt.hlines(83.2,0,thresholds[-1],'r',label='Proposed varying length STA/LTA')\n",
    "# plt.legend(loc='lower right')\n",
    "# plt.savefig('results/dbd compare.png')"
   ]
  },
  {
   "cell_type": "code",
   "execution_count": 16,
   "metadata": {
    "scrolled": true
   },
   "outputs": [
    {
     "name": "stdout",
     "output_type": "stream",
     "text": [
      "(2105,)\n",
      "(2105,)\n",
      "(515,)\n",
      "(515,)\n"
     ]
    }
   ],
   "source": [
    "x3train, y3train = masker(imit_train_images, np.argmax(y_down_train,-1), mask_down_train)\n",
    "x3test, y3test = masker(imit_test_images, np.argmax(y_down_test,-1), mask_down_test) \n",
    "print(x3train.shape)\n",
    "print(y3train.shape)\n",
    "print(x3test.shape)\n",
    "print(y3test.shape)"
   ]
  },
  {
   "cell_type": "code",
   "execution_count": 17,
   "metadata": {},
   "outputs": [
    {
     "data": {
      "text/plain": [
       "(59, 19)"
      ]
     },
     "execution_count": 17,
     "metadata": {},
     "output_type": "execute_result"
    }
   ],
   "source": [
    "y3train[0].shape"
   ]
  },
  {
   "cell_type": "code",
   "execution_count": 18,
   "metadata": {},
   "outputs": [
    {
     "data": {
      "text/plain": [
       "Counter({1: 115,\n",
       "         11: 122,\n",
       "         12: 125,\n",
       "         3: 645,\n",
       "         5: 124,\n",
       "         6: 130,\n",
       "         17: 103,\n",
       "         18: 111,\n",
       "         8: 125,\n",
       "         9: 128,\n",
       "         0: 116,\n",
       "         4: 13,\n",
       "         14: 91,\n",
       "         15: 90,\n",
       "         16: 18,\n",
       "         10: 19,\n",
       "         13: 7,\n",
       "         7: 11,\n",
       "         2: 12})"
      ]
     },
     "execution_count": 18,
     "metadata": {},
     "output_type": "execute_result"
    }
   ],
   "source": [
    "classes = [stats.mode(np.argmax(y,-1))[0] for y in y3train]\n",
    "c = [int(x) for x in classes]\n",
    "Counter(c)"
   ]
  },
  {
   "cell_type": "code",
   "execution_count": 19,
   "metadata": {},
   "outputs": [
    {
     "name": "stdout",
     "output_type": "stream",
     "text": [
      "(1989,)\n",
      "(1989,)\n",
      "(489,)\n",
      "(489,)\n"
     ]
    }
   ],
   "source": [
    "# eliminate zeros md\n",
    "x6train = np.array([x3train[i] for i in range(len(y3train)) if stats.mode(np.argmax(y3train[i],-1))[0] != 0])\n",
    "y6train = np.array([y3train[i] for i in range(len(y3train)) if stats.mode(np.argmax(y3train[i],-1))[0] != 0])\n",
    "x6test = np.array([x3test[i] for i in range(len(y3test)) if stats.mode(np.argmax(y3test[i],-1))[0] != 0])\n",
    "y6test = np.array([y3test[i] for i in range(len(y3test)) if stats.mode(np.argmax(y3test[i],-1))[0] != 0])\n",
    "print(x6train.shape)\n",
    "print(y6train.shape)\n",
    "print(x6test.shape)\n",
    "print(y6test.shape)"
   ]
  },
  {
   "cell_type": "markdown",
   "metadata": {},
   "source": [
    "## RD - RA"
   ]
  },
  {
   "cell_type": "code",
   "execution_count": 20,
   "metadata": {
    "scrolled": true
   },
   "outputs": [],
   "source": [
    "# filename = 'Datasets/final_imit_RD-RA2.pkl'\n",
    "# with open(filename, 'rb') as input:\n",
    "#     x = pickle.load(input)\n",
    "# imit_y_train_RD, imit_y_test_RD, imit_RD_train, imit_RA_train, imit_RD_test, imit_RA_test = [x[0], x[1]\n",
    "#                                                                                                 , x[2], x[3]\n",
    "#                                                                                                 , x[4], x[5]]\n",
    "# print(imit_y_train_RD.shape)\n",
    "# print(imit_y_test_RD.shape)\n",
    "# print(imit_RD_train.shape)\n",
    "# print(imit_RA_train.shape)\n",
    "# print(imit_RD_test.shape)\n",
    "# print(imit_RA_test.shape)\n",
    "# del x"
   ]
  },
  {
   "cell_type": "code",
   "execution_count": 21,
   "metadata": {},
   "outputs": [
    {
     "name": "stdout",
     "output_type": "stream",
     "text": [
      "Selected File: Datasets/final_imit_RD-RA2_128_last.hdf5\n",
      "(800, 605, 128, 128, 3)\n",
      "(800, 605, 128, 128, 3)\n",
      "(200, 605, 128, 128, 3)\n",
      "(200, 605, 128, 128, 3)\n"
     ]
    }
   ],
   "source": [
    "filename = 'Datasets/final_imit_RD-RA2_128_last.hdf5'\n",
    "data = h5py.File(filename, \"r\")\n",
    "print('Selected File: '+str(filename))\n",
    "imit_RD_train = np.array(data[\"train_RD\"])\n",
    "imit_RA_train = np.array(data[\"train_RA\"])\n",
    "imit_RD_test = np.array(data[\"test_RD\"])\n",
    "imit_RA_test = np.array(data[\"test_RA\"])\n",
    "data.close()\n",
    "print(imit_RD_train.shape)\n",
    "print(imit_RA_train.shape)\n",
    "print(imit_RD_test.shape)\n",
    "print(imit_RA_test.shape)"
   ]
  },
  {
   "cell_type": "code",
   "execution_count": 22,
   "metadata": {},
   "outputs": [
    {
     "name": "stdout",
     "output_type": "stream",
     "text": [
      "(800, 120, 5, 128, 128, 3)\n",
      "(200, 120, 5, 128, 128, 3)\n",
      "(800, 120, 5, 128, 128, 3)\n",
      "(200, 120, 5, 128, 128, 3)\n"
     ]
    }
   ],
   "source": [
    "# windowed RD\n",
    "interval = range(0,600)\n",
    "x_train11 = np.reshape(imit_RD_train[:,interval,:,:,:], (imit_RD_train.shape[0],120,5,imit_RD_train.shape[2],imit_RD_train.shape[3],imit_RD_train.shape[4]))\n",
    "x_test11 = np.reshape(imit_RD_test[:,interval,:,:,:], (imit_RD_test.shape[0],120,5,imit_RD_test.shape[2],imit_RD_test.shape[3],imit_RD_test.shape[4]))\n",
    "# y_train11 = np.reshape(imit_y_train_RD[:,interval], (imit_y_train_RD.shape[0],120,5))\n",
    "# y_test11 = np.reshape(imit_y_test_RD[:,interval], (imit_y_test_RD.shape[0],120,5))\n",
    "# y_train11 = to_categorical(np.squeeze(stats.mode(y_train11,2)[0]))\n",
    "# y_test11 = to_categorical(np.squeeze(stats.mode(y_test11,2)[0]))\n",
    "print(x_train11.shape)\n",
    "# print(y_train11.shape)\n",
    "print(x_test11.shape)\n",
    "# print(y_test11.shape)  \n",
    "\n",
    "# windowed RA\n",
    "x_train12 = np.reshape(imit_RA_train[:,interval,:,:,:], (imit_RA_train.shape[0],120,5,imit_RA_train.shape[2],imit_RA_train.shape[3],imit_RA_train.shape[4]))\n",
    "x_test12 = np.reshape(imit_RA_test[:,interval,:,:,:], (imit_RA_test.shape[0],120,5,imit_RA_test.shape[2],imit_RA_test.shape[3],imit_RA_test.shape[4]))\n",
    "print(x_train12.shape)\n",
    "print(x_test12.shape)"
   ]
  },
  {
   "cell_type": "code",
   "execution_count": 23,
   "metadata": {},
   "outputs": [
    {
     "name": "stdout",
     "output_type": "stream",
     "text": [
      "(2105,)\n",
      "(2105,)\n",
      "(515,)\n",
      "(515,)\n",
      "(2105,)\n",
      "(515,)\n"
     ]
    }
   ],
   "source": [
    "# x1train, y1train = masker(x_train11, np.argmax(y_train11,-1), mask_down_train)\n",
    "# x1test, y1test = masker(x_test11, np.argmax(y_test11,-1), mask_down_test)\n",
    "# x2train, y1train = masker(x_train12, np.argmax(y_train11,-1), mask_down_train)\n",
    "# x2test, y1test = masker(x_test12, np.argmax(y_test11,-1), mask_down_test)\n",
    "x1train, y1train = masker(x_train11, y_down_train, mask_down_train)\n",
    "x1test, y1test = masker(x_test11, y_down_test, mask_down_test)\n",
    "x2train, y1train = masker(x_train12, y_down_train, mask_down_train)\n",
    "x2test, y1test = masker(x_test12, y_down_test, mask_down_test)\n",
    "print(x1train.shape)\n",
    "print(y1train.shape)\n",
    "print(x1test.shape)\n",
    "print(y1test.shape)\n",
    "print(x2train.shape)\n",
    "print(x2test.shape)"
   ]
  },
  {
   "cell_type": "code",
   "execution_count": 24,
   "metadata": {},
   "outputs": [
    {
     "name": "stdout",
     "output_type": "stream",
     "text": [
      "(1989,)\n",
      "(489,)\n",
      "(1989,)\n",
      "(489,)\n"
     ]
    }
   ],
   "source": [
    "x10train = np.array([x1train[i] for i in range(len(y3train)) if stats.mode(np.argmax(y3train[i],-1))[0] != 0])\n",
    "x11train = np.array([x2train[i] for i in range(len(y3train)) if stats.mode(np.argmax(y3train[i],-1))[0] != 0])\n",
    "# y10train = np.array([y1train[i] for i in range(len(y3train)) if stats.mode(np.argmax(y3train[i],-1))[0] != 0])\n",
    "x10test = np.array([x1test[i] for i in range(len(y3test)) if stats.mode(np.argmax(y3test[i],-1))[0] != 0])\n",
    "x11test = np.array([x2test[i] for i in range(len(y3test)) if stats.mode(np.argmax(y3test[i],-1))[0] != 0])\n",
    "# y10test = np.array([y1test[i] for i in range(len(y3test)) if stats.mode(np.argmax(y3test[i],-1))[0] != 0])\n",
    "print(x10train.shape)\n",
    "# print(y10train.shape)\n",
    "print(x10test.shape)\n",
    "# print(y10test.shape)\n",
    "print(x11train.shape)\n",
    "print(x11test.shape)"
   ]
  },
  {
   "cell_type": "code",
   "execution_count": 25,
   "metadata": {},
   "outputs": [
    {
     "name": "stdout",
     "output_type": "stream",
     "text": [
      "(295, 128, 128, 3)\n",
      "(235, 128, 128, 3)\n",
      "(1989,)\n",
      "(489,)\n"
     ]
    }
   ],
   "source": [
    "x12train = np.array([x.reshape(x.shape[0]*x.shape[1],x.shape[2],x.shape[3],x.shape[4]) for x in x10train])\n",
    "x13train = np.array([x.reshape(x.shape[0]*x.shape[1],x.shape[2],x.shape[3],x.shape[4]) for x in x11train])\n",
    "x12test = np.array([x.reshape(x.shape[0]*x.shape[1],x.shape[2],x.shape[3],x.shape[4]) for x in x10test])\n",
    "x13test = np.array([x.reshape(x.shape[0]*x.shape[1],x.shape[2],x.shape[3],x.shape[4]) for x in x11test])\n",
    "print(x12train[0].shape)\n",
    "print(x12test[0].shape)\n",
    "print(x13train.shape)\n",
    "print(x13test.shape)"
   ]
  },
  {
   "cell_type": "code",
   "execution_count": 26,
   "metadata": {},
   "outputs": [
    {
     "name": "stdout",
     "output_type": "stream",
     "text": [
      "Input shape of f-b-f RD:  (None, 5, 128, 128, 3)\n"
     ]
    }
   ],
   "source": [
    "input_shape_vid = (None, x_train11[0].shape[1],x_train11[0].shape[2],x_train11[0].shape[3],x_train11[0].shape[4])\n",
    "print('Input shape of f-b-f RD: ',input_shape_vid)"
   ]
  },
  {
   "cell_type": "code",
   "execution_count": 27,
   "metadata": {},
   "outputs": [
    {
     "name": "stdout",
     "output_type": "stream",
     "text": [
      "Input shape of f-b-f mD:  (None, 128, 128, 3)\n"
     ]
    }
   ],
   "source": [
    "input_shape11 = (None,x3train[0].shape[1],x3train[0].shape[2],x3train[0].shape[3])\n",
    "print('Input shape of f-b-f mD: ',input_shape11)"
   ]
  },
  {
   "cell_type": "code",
   "execution_count": 28,
   "metadata": {},
   "outputs": [],
   "source": [
    "early_stopping_patience = 10\n",
    "# Add early stopping\n",
    "early_stopping = keras.callbacks.EarlyStopping(\n",
    "    monitor=\"val_accuracy\", patience=early_stopping_patience, restore_best_weights=True\n",
    ")"
   ]
  },
  {
   "cell_type": "code",
   "execution_count": 29,
   "metadata": {},
   "outputs": [],
   "source": [
    "reduce_lr = ReduceLROnPlateau(monitor = 'val_loss', factor=0.5, patience=0, verbose=0)"
   ]
  },
  {
   "cell_type": "code",
   "execution_count": 30,
   "metadata": {},
   "outputs": [
    {
     "data": {
      "text/plain": [
       "249"
      ]
     },
     "execution_count": 30,
     "metadata": {},
     "output_type": "execute_result"
    }
   ],
   "source": [
    "gc.collect()"
   ]
  },
  {
   "cell_type": "code",
   "execution_count": 31,
   "metadata": {},
   "outputs": [
    {
     "name": "stderr",
     "output_type": "stream",
     "text": [
      "100%|██████████| 2105/2105 [00:00<00:00, 3004.14it/s]\n",
      "100%|██████████| 515/515 [00:00<00:00, 2913.64it/s]"
     ]
    },
    {
     "name": "stdout",
     "output_type": "stream",
     "text": [
      "(1989, 19)\n",
      "(489, 19)\n"
     ]
    },
    {
     "name": "stderr",
     "output_type": "stream",
     "text": [
      "\n"
     ]
    }
   ],
   "source": [
    "ytrain = np.array([np.squeeze(to_categorical(stats.mode(np.argmax(y3train[i],-1))[0],19)) for i in tqdm(range(len(y3train)), position = 0, leave = True) if stats.mode(np.argmax(y3train[i],-1))[0] != 0])\n",
    "ytest = np.array([np.squeeze(to_categorical(stats.mode(np.argmax(y3test[i],-1))[0],19)) for i in tqdm(range(len(y3test)), position = 0, leave = True) if stats.mode(np.argmax(y3test[i],-1))[0] != 0])\n",
    "print(ytrain.shape)\n",
    "print(ytest.shape)"
   ]
  },
  {
   "cell_type": "code",
   "execution_count": 32,
   "metadata": {},
   "outputs": [],
   "source": [
    "def mode_finder(y): # finds the mode that is not zero\n",
    "    y = np.argmax(y,-1)\n",
    "    mode = stats.mode(y)[0]\n",
    "    if mode == 0:\n",
    "        mask = y == mode\n",
    "        y = y[~np.ma.masked_array(y, mask = mask).mask]\n",
    "        new_mode = stats.mode(y)[0]\n",
    "    else:\n",
    "        new_mode = mode\n",
    "    return np.squeeze(new_mode)"
   ]
  },
  {
   "cell_type": "markdown",
   "metadata": {},
   "source": [
    "## Model"
   ]
  },
  {
   "cell_type": "code",
   "execution_count": 33,
   "metadata": {},
   "outputs": [],
   "source": [
    "def data_generator(data, labels, batch_size=1):              \n",
    "    \"\"\"\n",
    "    Yields the next training batch.\n",
    "    data is an array  [[[frame1_filename,frame2_filename,…frame16_filename],label1], [[frame1_filename,frame2_filename,…frame16_filename],label2],……….].\n",
    "    \"\"\"\n",
    "    num_samples = data.shape[0]\n",
    "    \n",
    "    while True:   \n",
    "        for offset in range(0, num_samples, batch_size):\n",
    "    #             print ('starting index: ', offset) \n",
    "            # Get the samples you'll use in this batch\n",
    "            batch_samples = data[offset:offset+batch_size]\n",
    "            label = labels[offset:offset+batch_size]\n",
    "            # Initialise X_train and y_train arrays for this batch\n",
    "            X_train = []\n",
    "            y_train = []\n",
    "            # For each example\n",
    "            for i in range(0,batch_samples.shape[0]):\n",
    "                X_train.append(batch_samples[i])\n",
    "                y_train.append(label[i])\n",
    "\n",
    "            # Make sure they're numpy arrays (as opposed to lists)\n",
    "            X_train = np.array(X_train)\n",
    "            #X_train = np.rollaxis(X_train,1,4)\n",
    "            y_train = np.array(y_train)\n",
    "\n",
    "            # yield the next training batch            \n",
    "            yield X_train, y_train"
   ]
  },
  {
   "cell_type": "code",
   "execution_count": 34,
   "metadata": {},
   "outputs": [],
   "source": [
    "def data_generator_pred(data, labels, batch_size=1):              \n",
    "    \"\"\"\n",
    "    Yields the next training batch.\n",
    "    data is an array  [[[frame1_filename,frame2_filename,…frame16_filename],label1], [[frame1_filename,frame2_filename,…frame16_filename],label2],……….].\n",
    "    \"\"\"\n",
    "    num_samples = data.shape[0]\n",
    "    \n",
    "    while True:   \n",
    "        for offset in range(0, num_samples, batch_size):\n",
    "    #             print ('starting index: ', offset) \n",
    "            # Get the samples you'll use in this batch\n",
    "            batch_samples = data[offset:offset+batch_size]\n",
    "            label = labels[offset:offset+batch_size]\n",
    "            # Initialise X_train and y_train arrays for this batch\n",
    "            X_train = []\n",
    "            y_train = []\n",
    "            # For each example\n",
    "            for i in range(0,batch_samples.shape[0]):\n",
    "                X_train.append(batch_samples[i])\n",
    "                y_train.append(label[i])\n",
    "\n",
    "            # Make sure they're numpy arrays (as opposed to lists)\n",
    "            X_train = np.array(X_train)\n",
    "            #X_train = np.rollaxis(X_train,1,4)\n",
    "            y_train = np.array(y_train)\n",
    "\n",
    "            # yield the next training batch            \n",
    "            yield X_train"
   ]
  },
  {
   "cell_type": "markdown",
   "metadata": {},
   "source": [
    "### micro-Doppler"
   ]
  },
  {
   "cell_type": "code",
   "execution_count": 35,
   "metadata": {},
   "outputs": [],
   "source": [
    "def tdcnn2d_bilstm_seq(input_shapex):\n",
    "    with tf.device('/gpu:2'):\n",
    "#     with strategy.scope():\n",
    "        inputlayer1 = Input(shape = input_shapex)\n",
    "        x = TimeDistributed(Conv2D(8, kernel_size=(3, 3), padding='same', activation='relu'))(inputlayer1)\n",
    "        x = TimeDistributed(MaxPooling2D(pool_size=(2,2)))(x)\n",
    "#         x = BatchNormalization()(x)\n",
    "        x = TimeDistributed(Conv2D(16, kernel_size=(3, 3), padding='same', activation='relu'))(x)\n",
    "        x = TimeDistributed(MaxPooling2D(pool_size=(2,2)))(x)\n",
    "#         x = BatchNormalization()(x)\n",
    "        x = TimeDistributed(Conv2D(32, kernel_size=(3, 3), padding='same', activation='relu'))(x)\n",
    "        x = TimeDistributed(MaxPooling2D(pool_size=(2,2)))(x)\n",
    "#         x = BatchNormalization()(x)\n",
    "        x = TimeDistributed(Conv2D(64, kernel_size=(3, 3), padding='same', activation='relu'))(x)\n",
    "        x = TimeDistributed(MaxPooling2D(pool_size=(2,2)))(x)\n",
    "#         x = BatchNormalization()(x)\n",
    "        x = TimeDistributed(Flatten())(x)\n",
    "\n",
    "#         x = TimeDistributed(Conv2D(32, kernel_size=(3, 3), padding='same', activation='relu'))(inputlayer1)\n",
    "#         x = TimeDistributed(MaxPooling2D(pool_size=(2,2)))(x)\n",
    "# #         x = BatchNormalization()(x)\n",
    "#         x = TimeDistributed(Conv2D(64, kernel_size=(3, 3), padding='same', activation='relu'))(x)\n",
    "#         x = TimeDistributed(MaxPooling2D(pool_size=(2,2)))(x)\n",
    "# #         x = BatchNormalization()(x)\n",
    "#         x = TimeDistributed(Conv2D(64, kernel_size=(3, 3), padding='same', activation='relu'))(x)\n",
    "#         x = TimeDistributed(MaxPooling2D(pool_size=(2,2)))(x)\n",
    "#         x = TimeDistributed(MaxPooling2D(pool_size=(4,1)))(x)\n",
    "#         x = TimeDistributed(Flatten())(x)\n",
    "\n",
    "#         x = Reshape(target_shape = (-1,64*8*8))(x)\n",
    "#         x = Dropout(0.5)(x)\n",
    "#         x = Bidirectional(LSTM(8, dropout=0.5, return_sequences=True))(x)\n",
    "        x = Bidirectional(LSTM(64, dropout=0.5, return_sequences=True))(x)\n",
    "#         x = Dropout(0.5)(x)\n",
    "        out1 = Dense(num_class,activation='softmax')(x)\n",
    "#         out1 = TimeDistributed(Dense(num_class,activation='softmax'))(x, mask=maskinput)\n",
    "#         model = keras.Model(inputs = [inputlayer1,maskinput], outputs = [out1])#, out2, out3])\n",
    "        model = keras.Model(inputs = [inputlayer1], outputs = [out1])#, out2, out3])\n",
    "        opt = Adam(lr=1e-3, decay=1e-3 / 200)\n",
    "        model.compile(loss = 'categorical_crossentropy', optimizer=opt,metrics = ['accuracy'])\n",
    "        return model "
   ]
  },
  {
   "cell_type": "code",
   "execution_count": 36,
   "metadata": {},
   "outputs": [],
   "source": [
    "model = tdcnn2d_bilstm_seq(input_shape11)\n",
    "# model.summary()"
   ]
  },
  {
   "cell_type": "code",
   "execution_count": 37,
   "metadata": {},
   "outputs": [],
   "source": [
    "train_dataset = data_generator(x6train, y6train)\n",
    "validation_dataset = data_generator(x6test, y6test)"
   ]
  },
  {
   "cell_type": "code",
   "execution_count": 38,
   "metadata": {},
   "outputs": [
    {
     "data": {
      "image/png": "[encoded data removed]",
      "text/plain": [
       "<Figure size 864x576 with 2 Axes>"
      ]
     },
     "metadata": {
      "needs_background": "light"
     },
     "output_type": "display_data"
    },
    {
     "name": "stdout",
     "output_type": "stream",
     "text": [
      "accuracy\n",
      "\ttraining         \t (min:    0.425, max:    0.974, cur:    0.974)\n",
      "\tvalidation       \t (min:    0.473, max:    0.724, cur:    0.699)\n",
      "Loss\n",
      "\ttraining         \t (min:    0.050, max:    1.589, cur:    0.050)\n",
      "\tvalidation       \t (min:    0.860, max:    1.294, cur:    1.211)\n",
      "\b\b\b\b\b\b\b\b\b\b\b\b\b\b\b\b\b\b\b\b\b\b\b\b\b\b\b\b\b\b\b\b\b\b\b\b\b\b\b\b\b\b\b\b\b\b\b\b\b\b\b\b\b\b\b\b\b\b\b\b\b\b\b\b\b\b\b\b\b\b\b\b\b\b\b\b\b\b\b\b\b\b\b\b\b\b\r",
      "1989/1989 [==============================] - 28s 14ms/step - loss: 0.0499 - accuracy: 0.9740 - val_loss: 1.2111 - val_accuracy: 0.6987\n"
     ]
    }
   ],
   "source": [
    "history = model.fit(\n",
    "    train_dataset,\n",
    "    validation_data=validation_dataset,\n",
    "    batch_size = 1,\n",
    "    epochs=100,\n",
    "    steps_per_epoch = len(y6train), validation_steps = len(y6test),\n",
    "    callbacks=[early_stopping, PlotLossesKerasTF()],\n",
    "    verbose = 1\n",
    ")"
   ]
  },
  {
   "cell_type": "code",
   "execution_count": 39,
   "metadata": {},
   "outputs": [],
   "source": [
    "# save model\n",
    "fname = 'revdbd md gd td2d'\n",
    "MODEL_FILE = 'Models/' + fname + '.json' # save path\n",
    "WEIGHT_FILE = 'Models/' + fname + '.h5' # save path\n",
    "\n",
    "model_json = model.to_json()\n",
    "with open(MODEL_FILE, \"w\") as json_file:\n",
    "    json_file.write(model_json)\n",
    "model.save_weights(WEIGHT_FILE)"
   ]
  },
  {
   "cell_type": "code",
   "execution_count": 40,
   "metadata": {},
   "outputs": [
    {
     "name": "stdout",
     "output_type": "stream",
     "text": [
      "489/489 [==============================] - 3s 7ms/step - loss: 0.9236 - accuracy: 0.7238\n"
     ]
    },
    {
     "data": {
      "text/plain": [
       "(0.9235566854476929, 0.7237561345100403)"
      ]
     },
     "execution_count": 40,
     "metadata": {},
     "output_type": "execute_result"
    }
   ],
   "source": [
    "loss, acc = model.evaluate(validation_dataset, steps = len(y6test))\n",
    "loss, acc"
   ]
  },
  {
   "cell_type": "code",
   "execution_count": 41,
   "metadata": {},
   "outputs": [],
   "source": [
    "# testing duration\n",
    "import time\n",
    "def loadmodel(fname):\n",
    "    model_file = 'Models/' + fname + '.json'\n",
    "    w_file = 'Models/' + fname + '.h5'\n",
    "    json_file = open(model_file, 'r')\n",
    "    loaded_model_json = json_file.read()\n",
    "    json_file.close()\n",
    "    model_md = model_from_json(loaded_model_json)\n",
    "    model_md.load_weights(w_file)\n",
    "    return model_md"
   ]
  },
  {
   "cell_type": "code",
   "execution_count": 42,
   "metadata": {},
   "outputs": [
    {
     "data": {
      "text/plain": [
       "27.043257236480713"
      ]
     },
     "execution_count": 42,
     "metadata": {},
     "output_type": "execute_result"
    }
   ],
   "source": [
    "mod_md = loadmodel('revdbd md gd td2d')\n",
    "validation_dataset = data_generator_pred(x6test, y6test)\n",
    "t = time.time()\n",
    "p = [np.squeeze(mod_md.predict(next(validation_dataset))) for i in range(len(y6test))]\n",
    "time.time() - t"
   ]
  },
  {
   "cell_type": "code",
   "execution_count": 43,
   "metadata": {},
   "outputs": [],
   "source": [
    "from tqdm import tqdm"
   ]
  },
  {
   "cell_type": "code",
   "execution_count": 44,
   "metadata": {},
   "outputs": [
    {
     "name": "stderr",
     "output_type": "stream",
     "text": [
      "100%|██████████| 50/50 [21:31<00:00, 25.82s/it]\n"
     ]
    },
    {
     "data": {
      "text/plain": [
       "25.8182826423645"
      ]
     },
     "execution_count": 44,
     "metadata": {},
     "output_type": "execute_result"
    }
   ],
   "source": [
    "mod_md = loadmodel('revdbd md gd td2d')\n",
    "validation_dataset = data_generator_pred(x6test, y6test)\n",
    "elapsed_md = []\n",
    "for i in tqdm(range(50),position=0):\n",
    "    t = time.time()\n",
    "    p = [np.squeeze(mod_md.predict(next(validation_dataset))) for i in range(len(y6test))]\n",
    "    elapsed_md.append(time.time() - t)\n",
    "np.mean(elapsed_md)"
   ]
  },
  {
   "cell_type": "markdown",
   "metadata": {},
   "source": [
    "### RD"
   ]
  },
  {
   "cell_type": "code",
   "execution_count": 45,
   "metadata": {},
   "outputs": [],
   "source": [
    "def tdcnn3d_bilstm_seq(input_shapex):\n",
    "    with tf.device('/gpu:2'):\n",
    "#     with strategy.scope():\n",
    "        inputlayer1 = Input(shape = input_shapex)\n",
    "        x = TimeDistributed(Conv3D(8, kernel_size=(3, 3, 3), padding='same', activation='relu'))(inputlayer1)\n",
    "        x = TimeDistributed(MaxPooling3D(pool_size=(1, 2, 2)))(x)\n",
    "        x = TimeDistributed(Conv3D(16, kernel_size=(3, 3, 3), padding='same', activation='relu'))(x)\n",
    "        x = TimeDistributed(MaxPooling3D(pool_size=(1, 2, 2)))(x)\n",
    "        x = TimeDistributed(Conv3D(32, kernel_size=(3, 3, 3), padding='same', activation='relu'))(x)\n",
    "        x = TimeDistributed(MaxPooling3D(pool_size=(1, 2, 2)))(x)\n",
    "        x = TimeDistributed(Conv3D(64, kernel_size=(3, 3, 3), padding='same', activation='relu'))(x)\n",
    "        x = TimeDistributed(MaxPooling3D(pool_size=(1, 2, 2)))(x)\n",
    "        x = TimeDistributed(MaxPooling3D(pool_size=(1, 4, 1)))(x)\n",
    "        x = TimeDistributed(Flatten())(x)\n",
    "#         x = Reshape(target_shape = (-1, 64*8*8*5))(x)\n",
    "        x = Bidirectional(LSTM(64, dropout=0.5, return_sequences=True))(x)\n",
    "        \n",
    "        out1 = Dense(num_class,activation='softmax')(x)\n",
    "#         out1 = TimeDistributed(Dense(num_class,activation='softmax'))(x, mask=maskinput)\n",
    "#         model = keras.Model(inputs = [inputlayer1,maskinput], outputs = [out1])#, out2, out3])\n",
    "        model = keras.Model(inputs = [inputlayer1], outputs = [out1])#, out2, out3])\n",
    "        opt = Adam(lr=1e-3, decay=1e-3 / 200)\n",
    "        model.compile(loss = 'categorical_crossentropy', optimizer=opt,metrics = ['accuracy'])\n",
    "        return model "
   ]
  },
  {
   "cell_type": "code",
   "execution_count": 46,
   "metadata": {},
   "outputs": [],
   "source": [
    "def tdcnn2d_bilstm_seq_vid(input_shapex):\n",
    "    with tf.device('/gpu:2'):\n",
    "#     with strategy.scope():\n",
    "        inputlayer1 = Input(shape = input_shapex)\n",
    "\n",
    "        x = TimeDistributed(Conv2D(8, kernel_size=(3, 3), padding='same', activation='relu'))(inputlayer1)\n",
    "        x = TimeDistributed(MaxPooling2D(pool_size=(2,2)))(x)\n",
    "#         x = BatchNormalization()(x)\n",
    "        x = TimeDistributed(Conv2D(16, kernel_size=(3, 3), padding='same', activation='relu'))(x)\n",
    "        x = TimeDistributed(MaxPooling2D(pool_size=(2,2)))(x)\n",
    "#         x = BatchNormalization()(x)\n",
    "        x = TimeDistributed(Conv2D(32, kernel_size=(3, 3), padding='same', activation='relu'))(x)\n",
    "        x = TimeDistributed(MaxPooling2D(pool_size=(2,2)))(x)\n",
    "#         x = BatchNormalization()(x)\n",
    "#         x = TimeDistributed(Conv2D(64, kernel_size=(3, 3), padding='same', activation='relu'))(x)\n",
    "#         x = TimeDistributed(MaxPooling2D(pool_size=(2,2)))(x)\n",
    "#         x = TimeDistributed(Flatten())(x)\n",
    "\n",
    "        x = Reshape(target_shape = (-1,32*16*16*5))(x)\n",
    "#         x = Dropout(0.5)(x)\n",
    "#         x = Bidirectional(LSTM(8, dropout=0.5, return_sequences=True))(x)\n",
    "        x = Bidirectional(LSTM(64, dropout=0.5, return_sequences=True))(x)\n",
    "#         x = Dropout(0.5)(x)\n",
    "        out1 = Dense(num_class,activation='softmax')(x)\n",
    "#         out1 = TimeDistributed(Dense(num_class,activation='softmax'))(x, mask=maskinput)\n",
    "#         model = keras.Model(inputs = [inputlayer1,maskinput], outputs = [out1])#, out2, out3])\n",
    "        model = keras.Model(inputs = [inputlayer1], outputs = [out1])#, out2, out3])\n",
    "        opt = Adam(lr=1e-3, decay=1e-3 / 200)\n",
    "        model.compile(loss = 'categorical_crossentropy', optimizer=opt,metrics = ['accuracy'])\n",
    "        return model "
   ]
  },
  {
   "cell_type": "code",
   "execution_count": 47,
   "metadata": {},
   "outputs": [],
   "source": [
    "# model = tdcnn3d_bilstm_seq(input_shape_vid)\n",
    "model = tdcnn2d_bilstm_seq_vid(input_shape11)"
   ]
  },
  {
   "cell_type": "code",
   "execution_count": 48,
   "metadata": {},
   "outputs": [],
   "source": [
    "train_dataset = data_generator(x12train, y6train) # x10train\n",
    "validation_dataset = data_generator(x12test, y6test) # x10test"
   ]
  },
  {
   "cell_type": "code",
   "execution_count": 49,
   "metadata": {},
   "outputs": [
    {
     "data": {
      "image/png": "[encoded data removed]",
      "text/plain": [
       "<Figure size 864x576 with 2 Axes>"
      ]
     },
     "metadata": {
      "needs_background": "light"
     },
     "output_type": "display_data"
    },
    {
     "name": "stdout",
     "output_type": "stream",
     "text": [
      "accuracy\n",
      "\ttraining         \t (min:    0.425, max:    0.991, cur:    0.990)\n",
      "\tvalidation       \t (min:    0.473, max:    0.724, cur:    0.693)\n",
      "Loss\n",
      "\ttraining         \t (min:    0.020, max:    1.589, cur:    0.020)\n",
      "\tvalidation       \t (min:    0.860, max:    1.657, cur:    1.657)\n",
      "\b\b\b\b\b\b\b\b\b\b\b\b\b\b\b\b\b\b\b\b\b\b\b\b\b\b\b\b\b\b\b\b\b\b\b\b\b\b\b\b\b\b\b\b\b\b\b\b\b\b\b\b\b\b\b\b\b\b\b\b\b\b\b\b\b\b\b\b\b\b\b\b\b\b\b\b\b\b\b\b\b\b\b\b\b\b\r",
      "1989/1989 [==============================] - 32s 16ms/step - loss: 0.0197 - accuracy: 0.9901 - val_loss: 1.6570 - val_accuracy: 0.6931\n"
     ]
    }
   ],
   "source": [
    "history = model.fit(\n",
    "    train_dataset,\n",
    "    validation_data=validation_dataset,\n",
    "    batch_size = 1,\n",
    "    epochs=100,\n",
    "    steps_per_epoch = len(y6train), validation_steps = len(y6test),\n",
    "    callbacks=[early_stopping, PlotLossesKerasTF()],\n",
    "    verbose = 1\n",
    ")"
   ]
  },
  {
   "cell_type": "code",
   "execution_count": 50,
   "metadata": {},
   "outputs": [],
   "source": [
    "# save model\n",
    "fname = 'revdbd rd gd td2d'\n",
    "MODEL_FILE = 'Models/' + fname + '.json' # save path\n",
    "WEIGHT_FILE = 'Models/' + fname + '.h5' # save path\n",
    "\n",
    "model_json = model.to_json()\n",
    "with open(MODEL_FILE, \"w\") as json_file:\n",
    "    json_file.write(model_json)\n",
    "model.save_weights(WEIGHT_FILE)"
   ]
  },
  {
   "cell_type": "code",
   "execution_count": 51,
   "metadata": {},
   "outputs": [
    {
     "name": "stdout",
     "output_type": "stream",
     "text": [
      "489/489 [==============================] - 3s 7ms/step - loss: 1.2545 - accuracy: 0.7090\n"
     ]
    },
    {
     "data": {
      "text/plain": [
       "(1.2544714212417603, 0.7090399265289307)"
      ]
     },
     "execution_count": 51,
     "metadata": {},
     "output_type": "execute_result"
    }
   ],
   "source": [
    "loss, acc = model.evaluate(validation_dataset, steps = len(y6test))\n",
    "loss, acc # 56.9"
   ]
  },
  {
   "cell_type": "code",
   "execution_count": 52,
   "metadata": {},
   "outputs": [
    {
     "data": {
      "text/plain": [
       "(59, 5, 128, 128, 3)"
      ]
     },
     "execution_count": 52,
     "metadata": {},
     "output_type": "execute_result"
    }
   ],
   "source": [
    "x10train[0].shape"
   ]
  },
  {
   "cell_type": "code",
   "execution_count": 53,
   "metadata": {},
   "outputs": [],
   "source": [
    "def loadmodel(fname):\n",
    "    model_file = 'Models/' + fname + '.json'\n",
    "    w_file = 'Models/' + fname + '.h5'\n",
    "    json_file = open(model_file, 'r')\n",
    "    loaded_model_json = json_file.read()\n",
    "    json_file.close()\n",
    "    model_md = model_from_json(loaded_model_json)\n",
    "    model_md.load_weights(w_file)\n",
    "    return model_md"
   ]
  },
  {
   "cell_type": "code",
   "execution_count": 54,
   "metadata": {},
   "outputs": [],
   "source": [
    "import time"
   ]
  },
  {
   "cell_type": "code",
   "execution_count": 56,
   "metadata": {},
   "outputs": [
    {
     "data": {
      "text/plain": [
       "27.88324213027954"
      ]
     },
     "execution_count": 56,
     "metadata": {},
     "output_type": "execute_result"
    }
   ],
   "source": [
    "mod_rd = loadmodel('revdbd rd gd td2d')\n",
    "validation_dataset = data_generator_pred(x12test, y6test)\n",
    "elapsed_rd = []\n",
    "for i in range(1):\n",
    "    t = time.time()\n",
    "    p = [np.squeeze(mod_rd.predict(next(validation_dataset))) for i in range(len(y6test))]\n",
    "    elapsed_rd.append(time.time() - t)\n",
    "np.mean(elapsed_rd)"
   ]
  },
  {
   "cell_type": "markdown",
   "metadata": {},
   "source": [
    "### RA"
   ]
  },
  {
   "cell_type": "code",
   "execution_count": 57,
   "metadata": {},
   "outputs": [],
   "source": [
    "model = tdcnn2d_bilstm_seq_vid(input_shape11)"
   ]
  },
  {
   "cell_type": "code",
   "execution_count": 58,
   "metadata": {},
   "outputs": [],
   "source": [
    "train_dataset = data_generator(x13train, y6train)\n",
    "validation_dataset = data_generator(x13test, y6test)"
   ]
  },
  {
   "cell_type": "code",
   "execution_count": 59,
   "metadata": {},
   "outputs": [
    {
     "data": {
      "image/png": "[encoded data removed]",
      "text/plain": [
       "<Figure size 864x576 with 2 Axes>"
      ]
     },
     "metadata": {
      "needs_background": "light"
     },
     "output_type": "display_data"
    },
    {
     "name": "stdout",
     "output_type": "stream",
     "text": [
      "accuracy\n",
      "\ttraining         \t (min:    0.425, max:    0.998, cur:    0.998)\n",
      "\tvalidation       \t (min:    0.473, max:    0.724, cur:    0.601)\n",
      "Loss\n",
      "\ttraining         \t (min:    0.005, max:    1.589, cur:    0.005)\n",
      "\tvalidation       \t (min:    0.860, max:    2.264, cur:    2.264)\n",
      "\b\b\b\b\b\b\b\b\b\b\b\b\b\b\b\b\b\b\b\b\b\b\b\b\b\b\b\b\b\b\b\b\b\b\b\b\b\b\b\b\b\b\b\b\b\b\b\b\b\b\b\b\b\b\b\b\b\b\b\b\b\b\b\b\b\b\b\b\b\b\b\b\b\b\b\b\b\b\b\b\b\b\b\b\b\b\r",
      "1989/1989 [==============================] - 34s 17ms/step - loss: 0.0049 - accuracy: 0.9977 - val_loss: 2.2642 - val_accuracy: 0.6011\n"
     ]
    }
   ],
   "source": [
    "history = model.fit(\n",
    "    train_dataset,\n",
    "    validation_data=validation_dataset,\n",
    "    batch_size = 1,\n",
    "    epochs=100,\n",
    "    steps_per_epoch = len(y6train), validation_steps = len(y6test),\n",
    "    callbacks=[early_stopping, PlotLossesKerasTF()],\n",
    "    verbose = 1\n",
    ")"
   ]
  },
  {
   "cell_type": "code",
   "execution_count": 60,
   "metadata": {},
   "outputs": [],
   "source": [
    "# save model\n",
    "fname = 'revdbd ra gd td2d'\n",
    "MODEL_FILE = 'Models/' + fname + '.json' # save path\n",
    "WEIGHT_FILE = 'Models/' + fname + '.h5' # save path\n",
    "\n",
    "model_json = model.to_json()\n",
    "with open(MODEL_FILE, \"w\") as json_file:\n",
    "    json_file.write(model_json)\n",
    "model.save_weights(WEIGHT_FILE)"
   ]
  },
  {
   "cell_type": "code",
   "execution_count": 61,
   "metadata": {},
   "outputs": [
    {
     "name": "stdout",
     "output_type": "stream",
     "text": [
      "489/489 [==============================] - 3s 7ms/step - loss: 1.1975 - accuracy: 0.6377\n"
     ]
    },
    {
     "data": {
      "text/plain": [
       "(1.1974557638168335, 0.6377014517784119)"
      ]
     },
     "execution_count": 61,
     "metadata": {},
     "output_type": "execute_result"
    }
   ],
   "source": [
    "loss, acc = model.evaluate(validation_dataset, steps = len(y6test))\n",
    "loss, acc"
   ]
  },
  {
   "cell_type": "code",
   "execution_count": 62,
   "metadata": {},
   "outputs": [
    {
     "data": {
      "text/plain": [
       "31.25806975364685"
      ]
     },
     "execution_count": 62,
     "metadata": {},
     "output_type": "execute_result"
    }
   ],
   "source": [
    "mod_ra = loadmodel('revdbd ra gd td2d')\n",
    "validation_dataset = data_generator_pred(x13test, y6test)\n",
    "elapsed_ra = []\n",
    "for i in range(1):\n",
    "    t = time.time()\n",
    "    p = [np.squeeze(mod_ra.predict(next(validation_dataset))) for i in range(len(y6test))]\n",
    "    elapsed_ra.append(time.time() - t)\n",
    "np.mean(elapsed_ra)"
   ]
  },
  {
   "cell_type": "code",
   "execution_count": null,
   "metadata": {},
   "outputs": [],
   "source": []
  },
  {
   "cell_type": "code",
   "execution_count": null,
   "metadata": {},
   "outputs": [],
   "source": []
  }
 ],
 "metadata": {
  "kernelspec": {
   "display_name": "Python 3",
   "language": "python",
   "name": "python3"
  },
  "language_info": {
   "codemirror_mode": {
    "name": "ipython",
    "version": 3
   },
   "file_extension": ".py",
   "mimetype": "text/x-python",
   "name": "python",
   "nbconvert_exporter": "python",
   "pygments_lexer": "ipython3",
   "version": "3.7.2"
  }
 },
 "nbformat": 4,
 "nbformat_minor": 2
}
