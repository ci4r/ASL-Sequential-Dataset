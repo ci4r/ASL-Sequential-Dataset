{
 "cells": [
  {
   "cell_type": "code",
   "execution_count": 1,
   "metadata": {},
   "outputs": [
    {
     "name": "stderr",
     "output_type": "stream",
     "text": [
      "Using TensorFlow backend.\n"
     ]
    },
    {
     "name": "stdout",
     "output_type": "stream",
     "text": [
      "Num GPUs Available:  1\n"
     ]
    }
   ],
   "source": [
    "# %matplotlib inline\n",
    "import matplotlib.pyplot as plt\n",
    "import matplotlib.image as mpimg\n",
    "import tensorflow as tf\n",
    "import os\n",
    "# Create a MirroredStrateg, If Multi-GPU available\n",
    "os.environ['TF_FORCE_GPU_ALLOW_GROWTH'] = 'true' \n",
    "tf.config.set_soft_device_placement(True)\n",
    "# strategy = tf.distribute.MirroredStrategy(devices=['/gpu:1','/gpu:2']) \n",
    "# print('Number of GPUs being used: {}'.format(strategy.num_replicas_in_sync))\n",
    "from tensorflow.keras.preprocessing.image import ImageDataGenerator\n",
    "from tensorflow.keras.models import Sequential, Model, model_from_json\n",
    "from tensorflow.keras.optimizers import *\n",
    "from tensorflow.keras.layers import *\n",
    "from tensorflow.keras.callbacks import CSVLogger\n",
    "from tensorflow.keras.wrappers.scikit_learn import KerasClassifier\n",
    "from tensorflow.keras.applications import VGG16, ResNet50\n",
    "from tensorflow.keras.utils import to_categorical\n",
    "from sklearn.model_selection import train_test_split\n",
    "from livelossplot.keras import PlotLossesCallback\n",
    "from livelossplot import PlotLossesKerasTF\n",
    "import efficientnet.keras as efn\n",
    "import h5py, glob, re, cv2, math, matplotlib\n",
    "import tensorflow.keras as keras\n",
    "import pandas as pd\n",
    "from pandas import read_csv\n",
    "import numpy as np\n",
    "from scipy import stats\n",
    "import itertools, random\n",
    "\n",
    "# from cnn_utils import *\n",
    "# from tensorflow.compat.v1 import ConfigProto\n",
    "# from tensorflow.compat.v1 import InteractiveSession\n",
    "from sklearn.metrics import classification_report, confusion_matrix\n",
    "from sklearn.utils import class_weight\n",
    "from PIL import Image  \n",
    "import pdb\n",
    "from statistics import mode \n",
    "from IPython.display import clear_output\n",
    "\n",
    "# config = ConfigProto()\n",
    "# config.gpu_options.allow_growth = True\n",
    "# session = InteractiveSession(config=config)\n",
    "\n",
    "np.random.seed(1)\n",
    "# Setting the seed for python random numbers\n",
    "random.seed(1254)\n",
    "# Setting the graph-level random seed.\n",
    "tf.random.set_seed(89)\n",
    "\n",
    "os.environ[\"CUDA_DEVICE_ORDER\"] = \"PCI_BUS_ID\"\n",
    "os.environ[\"CUDA_VISIBLE_DEVICES\"] = \"2\"\n",
    "!CUDA_VISIBLE_DEVICES=2\n",
    "\n",
    "# strategy = tf.distribute.MirroredStrategy(devices=['/gpu:1','/gpu:2'])\n",
    "# print('Number of GPUs being used: {}'.format(strategy.num_replicas_in_sync))\n",
    "# print('Number of GPUs being used: {}'.format(strategy.num_replicas_in_sync))\n",
    "# def setup_multi_node_training(): # IMPORTANT: SET UP TF_CONFIG FOR MULTINODE TRAINING HERE os.environ[“TF_FORCE_GPU_ALLOW_GROWTH”] = “true” tf.config.set_soft_device_placement(True) mirrored_strategy = tf.distribute.experimental.MultiWorkerMirroredStrategy(tf.distribute.experimental.CollectiveCommunication.NCCL) # Constructs the configuration run_config = tf.estimator.RunConfig( train_distribute=mirrored_strategy, ) return run_config\n",
    "print(\"Num GPUs Available: \", len(tf.config.experimental.list_physical_devices('GPU')))"
   ]
  },
  {
   "cell_type": "markdown",
   "metadata": {},
   "source": [
    "## Load Data"
   ]
  },
  {
   "cell_type": "code",
   "execution_count": 2,
   "metadata": {},
   "outputs": [
    {
     "name": "stdout",
     "output_type": "stream",
     "text": [
      "Selected File: Datasets/All_subjects_RDmap.hdf5\n",
      "(527, 605, 128, 128, 3)\n",
      "(527, 605, 19)\n",
      "(132, 605, 128, 128, 3)\n",
      "(132, 605, 19)\n"
     ]
    }
   ],
   "source": [
    "filename = 'Datasets/All_subjects_RDmap.hdf5'\n",
    "data = h5py.File(filename, \"r\")\n",
    "print('Selected File: '+str(filename))\n",
    "x_train1 = np.array(data[\"train_img\"])\n",
    "y_train1 = np.array(data[\"train_labels\"])\n",
    "x_test1 = np.array(data[\"test_img\"])\n",
    "y_test1 = np.array(data[\"test_labels\"])\n",
    "data.close()\n",
    "print(x_train1.shape)\n",
    "print(y_train1.shape)\n",
    "print(x_test1.shape)\n",
    "print(y_test1.shape)"
   ]
  },
  {
   "cell_type": "code",
   "execution_count": 3,
   "metadata": {},
   "outputs": [
    {
     "name": "stdout",
     "output_type": "stream",
     "text": [
      "Selected File: Datasets/All_subjects_RAmap.hdf5\n",
      "(527, 605, 128, 128, 3)\n",
      "(527, 605, 19)\n",
      "(132, 605, 128, 128, 3)\n",
      "(132, 605, 19)\n"
     ]
    }
   ],
   "source": [
    "filename = 'Datasets/All_subjects_RAmap.hdf5'\n",
    "data = h5py.File(filename, \"r\")\n",
    "print('Selected File: '+str(filename))\n",
    "x_train2 = np.array(data[\"train_img\"])\n",
    "y_train2 = np.array(data[\"train_labels\"])\n",
    "x_test2 = np.array(data[\"test_img\"])\n",
    "y_test2 = np.array(data[\"test_labels\"])\n",
    "data.close()\n",
    "print(x_train2.shape)\n",
    "print(y_train2.shape)\n",
    "print(x_test2.shape)\n",
    "print(y_test2.shape)"
   ]
  },
  {
   "cell_type": "code",
   "execution_count": 4,
   "metadata": {},
   "outputs": [
    {
     "name": "stdout",
     "output_type": "stream",
     "text": [
      "(527, 120, 5, 128, 128, 3)\n",
      "(527, 120, 19)\n",
      "(132, 120, 5, 128, 128, 3)\n",
      "(132, 120, 19)\n",
      "(527, 120, 5, 128, 128, 3)\n",
      "(527, 120, 19)\n",
      "(132, 120, 5, 128, 128, 3)\n",
      "(132, 120, 19)\n"
     ]
    }
   ],
   "source": [
    "# windowed RD\n",
    "interval = range(0,600)\n",
    "x_train11 = np.reshape(x_train1[:,interval,:,:,:], (x_train1.shape[0],120,5,x_train1.shape[2],x_train1.shape[3],x_train1.shape[4]))\n",
    "x_test11 = np.reshape(x_test1[:,interval,:,:,:], (x_test1.shape[0],120,5,x_test1.shape[2],x_test1.shape[3],x_test1.shape[4]))\n",
    "y_train11 = np.reshape(np.argmax(y_train1[:,interval,:],-1), (y_train1.shape[0],120,5))\n",
    "y_test11 = np.reshape(np.argmax(y_test1[:,interval,:],-1), (y_test1.shape[0],120,5))\n",
    "y_train11 = to_categorical(np.squeeze(stats.mode(y_train11,2)[0]))\n",
    "y_test11 = to_categorical(np.squeeze(stats.mode(y_test11,2)[0]))\n",
    "print(x_train11.shape)\n",
    "print(y_train11.shape)\n",
    "print(x_test11.shape)\n",
    "print(y_test11.shape)  \n",
    "\n",
    "# windowed RA\n",
    "x_train12 = np.reshape(x_train2[:,interval,:,:,:], (x_train2.shape[0],120,5,x_train2.shape[2],x_train2.shape[3],x_train2.shape[4]))\n",
    "x_test12 = np.reshape(x_test2[:,interval,:,:,:], (x_test2.shape[0],120,5,x_test2.shape[2],x_test2.shape[3],x_test2.shape[4]))\n",
    "y_train12 = np.reshape(np.argmax(y_train2[:,interval,:],-1), (y_train2.shape[0],120,5))\n",
    "y_test12 = np.reshape(np.argmax(y_test2[:,interval,:],-1), (y_test2.shape[0],120,5))\n",
    "y_train12 = to_categorical(np.squeeze(stats.mode(y_train12,2)[0]))\n",
    "y_test12 = to_categorical(np.squeeze(stats.mode(y_test12,2)[0]))\n",
    "print(x_train12.shape)\n",
    "print(y_train12.shape)\n",
    "print(x_test12.shape)\n",
    "print(y_test12.shape) "
   ]
  },
  {
   "cell_type": "code",
   "execution_count": 5,
   "metadata": {},
   "outputs": [
    {
     "name": "stdout",
     "output_type": "stream",
     "text": [
      "Selected File: Datasets/All_subjects_spectrogram.hdf5\n",
      "(527, 120, 128, 128, 3)\n",
      "(527, 120, 19)\n",
      "(132, 120, 128, 128, 3)\n",
      "(132, 120, 19)\n"
     ]
    }
   ],
   "source": [
    "filename = 'Datasets/All_subjects_spectrogram.hdf5'\n",
    "data = h5py.File(filename, \"r\")\n",
    "print('Selected File: '+str(filename))\n",
    "x_train3 = np.array(data[\"train_img\"])\n",
    "y_train3 = np.array(data[\"train_labels\"])\n",
    "x_test3 = np.array(data[\"test_img\"])\n",
    "y_test3 = np.array(data[\"test_labels\"])\n",
    "data.close()\n",
    "print(x_train3.shape)\n",
    "print(y_train3.shape)\n",
    "print(x_test3.shape)\n",
    "print(y_test3.shape)"
   ]
  },
  {
   "cell_type": "code",
   "execution_count": 6,
   "metadata": {},
   "outputs": [
    {
     "name": "stdout",
     "output_type": "stream",
     "text": [
      "Selected File: Datasets/All_subjects_margins_and_ctc_label_no_nucleus.hdf5\n",
      "(527, 1482)\n",
      "(527,)\n",
      "(132, 1482)\n",
      "(132,)\n"
     ]
    }
   ],
   "source": [
    "filename = 'Datasets/All_subjects_margins_and_ctc_label_no_nucleus.hdf5'\n",
    "data = h5py.File(filename, \"r\")\n",
    "print('Selected File: '+str(filename))\n",
    "margin_tr = np.array(data[\"train_img\"])\n",
    "ctc_tr = np.squeeze(np.array(data[\"train_labels\"])).astype('U12')\n",
    "margin_ts = np.array(data[\"test_img\"])\n",
    "ctc_ts = np.squeeze(np.array(data[\"test_labels\"])).astype('U12')\n",
    "data.close()\n",
    "print(margin_tr.shape)\n",
    "print(ctc_tr.shape)\n",
    "print(margin_ts.shape)\n",
    "print(ctc_ts.shape)"
   ]
  },
  {
   "cell_type": "code",
   "execution_count": 7,
   "metadata": {},
   "outputs": [
    {
     "name": "stdout",
     "output_type": "stream",
     "text": [
      "Selected File: Datasets/All_subjects_spect_single.hdf5\n",
      "(527, 128, 128, 3)\n",
      "(132, 128, 128, 3)\n"
     ]
    }
   ],
   "source": [
    "filename = 'Datasets/All_subjects_spect_single.hdf5'\n",
    "data = h5py.File(filename, \"r\")\n",
    "print('Selected File: '+str(filename))\n",
    "x_train4 = np.array(data[\"train_img\"])\n",
    "x_test4 = np.array(data[\"test_img\"])\n",
    "data.close()\n",
    "print(x_train4.shape)\n",
    "print(x_test4.shape)"
   ]
  },
  {
   "cell_type": "markdown",
   "metadata": {},
   "source": [
    "##### STA LTA"
   ]
  },
  {
   "cell_type": "code",
   "execution_count": 8,
   "metadata": {},
   "outputs": [],
   "source": [
    "def sta_lta2(vec,nlta,nsta,init_th,stop_th,stepsz):\n",
    "    vec2 = np.zeros(vec.shape)\n",
    "    mask = np.zeros(vec.shape)\n",
    "    state = 0 # '0' nothing, '1' signing\n",
    "    \n",
    "    for i in range(0,len(vec),stepsz):\n",
    "        \n",
    "        if i+nlta+nsta+1 > len(vec):\n",
    "            if state == 1:\n",
    "                stoppt = len(vec)-2\n",
    "                vec2[startpt:stoppt] = vec[startpt:stoppt]\n",
    "                mask[startpt:stoppt] = 1\n",
    "            break\n",
    "            \n",
    "            \n",
    "        longwin = vec[i:i+nlta]\n",
    "        shortwin = vec[i+nlta:i+nlta+nsta]\n",
    "        \n",
    "        if i < nlta and np.mean(longwin) > 150:\n",
    "            vec2[0:i+nsta] = vec[0:i+nsta]\n",
    "            mask[0:i+nsta] = 1\n",
    "        if init_th < sum(shortwin)/sum(longwin):\n",
    "            if state == 0:\n",
    "                startpt = i+nlta\n",
    "                state = 1\n",
    "            if state == 1:\n",
    "                continue\n",
    "        \n",
    "        else:\n",
    "            if state == 0:\n",
    "                continue\n",
    "            if state == 1:\n",
    "                if sum(shortwin)/sum(longwin) > stop_th:\n",
    "                    continue\n",
    "                else:\n",
    "                    stoppt = i+nlta+int(nsta/2)\n",
    "                    state = 0\n",
    "                    vec2[startpt:stoppt] = vec[startpt:stoppt]\n",
    "                    mask[startpt:stoppt] = 1\n",
    "                    \n",
    "    return vec2, mask"
   ]
  },
  {
   "cell_type": "code",
   "execution_count": 9,
   "metadata": {},
   "outputs": [],
   "source": [
    "duration = 24.2\n",
    "nsta_sec = 0.7\n",
    "ratio = margin_tr.shape[-1]/duration\n",
    "nsta = int(nsta_sec*ratio)\n",
    "nlta = int(2*nsta)\n",
    "stepsz = int(0.2*ratio) # 0.2\n",
    "timevec = np.linspace(0,24.2,margin_ts.shape[1])\n",
    "idx = 27\n",
    "init_th = 0.6\n",
    "stop_th = 0.3\n",
    "vecs_train = [] #np.zeros(np.argmax(margin_tr,-1).shape)\n",
    "mask_train = [] #np.zeros(np.argmax(margin_tr,-1).shape)\n",
    "vecs_test = [] #np.zeros(np.argmax(margin_ts,-1).shape)\n",
    "mask_test = [] #np.zeros(np.argmax(margin_ts,-1).shape)\n",
    "for i in range(len(margin_tr)):\n",
    "    vecs_train.append(sta_lta2(margin_tr[i],nlta,nsta,init_th,stop_th,stepsz)[0])\n",
    "    mask_train.append(sta_lta2(margin_tr[i],nlta,nsta,init_th,stop_th,stepsz)[1])\n",
    "# mask_train_win = mask_train[:,::5]\n",
    "for i in range(len(margin_ts)):\n",
    "    vecs_test.append(sta_lta2(margin_ts[i],nlta,nsta,init_th,stop_th,stepsz)[0])\n",
    "    mask_test.append(sta_lta2(margin_ts[i],nlta,nsta,init_th,stop_th,stepsz)[1])\n",
    "# mask_test_win = mask_test[:,::5]\n",
    "mask_train = np.array(mask_train)\n",
    "mask_test = np.array(mask_test)"
   ]
  },
  {
   "cell_type": "code",
   "execution_count": 10,
   "metadata": {},
   "outputs": [
    {
     "name": "stdout",
     "output_type": "stream",
     "text": [
      "Mask shapes:\n",
      "(527, 605)\n",
      "(132, 605)\n",
      "(527, 120)\n",
      "(132, 120)\n"
     ]
    }
   ],
   "source": [
    "# downsample the mask to vid\n",
    "mask_vid_tr = np.zeros(np.argmax(y_train1,-1).shape)\n",
    "ratio1 = mask_train.shape[-1]/mask_vid_tr.shape[-1]\n",
    "for i in range(len(mask_train)):\n",
    "    for j in range(mask_train.shape[-1]):\n",
    "        if mask_train[i,j] == 0:\n",
    "            continue\n",
    "        else:\n",
    "            mask_vid_tr[i,int(j/ratio1)] = 1\n",
    "mask_vid_ts = np.zeros(np.argmax(y_test1,-1).shape)\n",
    "for i in range(len(mask_test)):\n",
    "    for j in range(mask_test.shape[-1]):\n",
    "        if mask_test[i,j] == 0:\n",
    "            continue\n",
    "        else:\n",
    "            mask_vid_ts[i,int(j/ratio1)] = 1\n",
    "\n",
    "# downsample the mask to spect\n",
    "mask_spect_tr = np.zeros(np.argmax(y_train3,-1).shape)\n",
    "ratio2 = mask_train.shape[-1]/mask_spect_tr.shape[-1]\n",
    "for i in range(len(mask_train)):\n",
    "    for j in range(mask_train.shape[-1]):\n",
    "        if mask_train[i,j] == 0:\n",
    "            continue\n",
    "        else:\n",
    "            mask_spect_tr[i,int(j/ratio2)] = 1\n",
    "mask_spect_ts = np.zeros(np.argmax(y_test3,-1).shape)\n",
    "for i in range(len(mask_test)):\n",
    "    for j in range(mask_test.shape[-1]):\n",
    "        if mask_test[i,j] == 0:\n",
    "            continue\n",
    "        else:\n",
    "            mask_spect_ts[i,int(j/ratio2)] = 1\n",
    "print('Mask shapes:')\n",
    "print(mask_vid_tr.shape)\n",
    "print(mask_vid_ts.shape)\n",
    "print(mask_spect_tr.shape)\n",
    "print(mask_spect_ts.shape)"
   ]
  },
  {
   "cell_type": "code",
   "execution_count": 11,
   "metadata": {},
   "outputs": [
    {
     "data": {
      "text/plain": [
       "19"
      ]
     },
     "execution_count": 11,
     "metadata": {},
     "output_type": "execute_result"
    }
   ],
   "source": [
    "num_class = y_test3.shape[2]\n",
    "num_class"
   ]
  },
  {
   "cell_type": "code",
   "execution_count": 12,
   "metadata": {},
   "outputs": [],
   "source": [
    "def gesture_counter(mask):\n",
    "    cnt = 0\n",
    "    flag = 0\n",
    "    for i in range(len(mask)):\n",
    "        if flag == 0 and mask[i] == 0:\n",
    "            continue\n",
    "        if flag == 1 and mask[i] == 1:\n",
    "            continue\n",
    "        if flag == 0 and mask[i] == 1:\n",
    "            flag = 1\n",
    "            cnt += 1\n",
    "        if flag == 1 and mask[i] == 0:\n",
    "            flag = 0\n",
    "    return cnt"
   ]
  },
  {
   "cell_type": "code",
   "execution_count": 13,
   "metadata": {
    "scrolled": true
   },
   "outputs": [
    {
     "data": {
      "text/plain": [
       "813"
      ]
     },
     "execution_count": 13,
     "metadata": {},
     "output_type": "execute_result"
    }
   ],
   "source": [
    "numgest = [gesture_counter(m) for m in mask_spect_ts]\n",
    "sum(numgest)"
   ]
  },
  {
   "cell_type": "code",
   "execution_count": 14,
   "metadata": {},
   "outputs": [
    {
     "data": {
      "text/plain": [
       "19"
      ]
     },
     "execution_count": 14,
     "metadata": {},
     "output_type": "execute_result"
    }
   ],
   "source": [
    "num_class = y_test3.shape[2]\n",
    "num_class"
   ]
  },
  {
   "cell_type": "code",
   "execution_count": 15,
   "metadata": {},
   "outputs": [],
   "source": [
    "def masker(x, y, mask):\n",
    "    x2 = []\n",
    "    y2 = []\n",
    "    flag = 0\n",
    "    for i in range(len(mask)):\n",
    "        for j in range(mask.shape[1]):\n",
    "            if flag == 0 and mask[i,j] == 0:\n",
    "                continue\n",
    "            if flag == 1 and mask[i,j] == 1:\n",
    "                if j == mask.shape[1]-1 and j+1 - startpt > 2:\n",
    "                    stoppt = j+1\n",
    "                    x2.append(x[i,startpt:stoppt])\n",
    "                    y2.append(np.squeeze(np.argmax(y[i,startpt:stoppt],-1)))\n",
    "                else:\n",
    "                    continue\n",
    "            if flag == 0 and mask[i,j] == 1:\n",
    "                flag = 1\n",
    "                startpt = j\n",
    "            if flag == 1 and mask[i,j] == 0:\n",
    "                flag = 0\n",
    "                stoppt = j+1\n",
    "                if stoppt-startpt > 2:\n",
    "                    x2.append(x[i,startpt:stoppt])\n",
    "                    y2.append(np.squeeze(np.argmax(y[i,startpt:stoppt],-1)))\n",
    "    \n",
    "    x2 = np.asarray(x2)\n",
    "    y2 = np.array([to_categorical(y,num_classes=num_class) for y in np.array(y2)])\n",
    "    return x2, y2"
   ]
  },
  {
   "cell_type": "code",
   "execution_count": 16,
   "metadata": {},
   "outputs": [
    {
     "name": "stderr",
     "output_type": "stream",
     "text": [
      "/home/m/.local/lib/python3.7/site-packages/numpy/core/_asarray.py:83: VisibleDeprecationWarning: Creating an ndarray from ragged nested sequences (which is a list-or-tuple of lists-or-tuples-or ndarrays with different lengths or shapes) is deprecated. If you meant to do this, you must specify 'dtype=object' when creating the ndarray\n",
      "  return array(a, dtype, copy=False, order=order)\n",
      "/usr/local/lib/python3.7/site-packages/ipykernel_launcher.py:27: VisibleDeprecationWarning: Creating an ndarray from ragged nested sequences (which is a list-or-tuple of lists-or-tuples-or ndarrays with different lengths or shapes) is deprecated. If you meant to do this, you must specify 'dtype=object' when creating the ndarray\n"
     ]
    },
    {
     "name": "stdout",
     "output_type": "stream",
     "text": [
      "(3042,)\n",
      "(3042,)\n",
      "(740,)\n",
      "(740,)\n",
      "(3042,)\n",
      "(3042,)\n",
      "(740,)\n",
      "(740,)\n",
      "(3042,)\n",
      "(3042,)\n",
      "(740,)\n",
      "(740,)\n"
     ]
    }
   ],
   "source": [
    "x1train, y1train = masker(x_train11, y_train3, mask_spect_tr)\n",
    "x1test, y1test = masker(x_test11, y_test3, mask_spect_ts)\n",
    "x2train, y2train = masker(x_train12, y_train3, mask_spect_tr)\n",
    "x2test, y2test = masker(x_test12, y_test3, mask_spect_ts)\n",
    "x3train, y3train = masker(x_train3, y_train3, mask_spect_tr)\n",
    "x3test, y3test = masker(x_test3, y_test3, mask_spect_ts)\n",
    "print(x1train.shape)\n",
    "print(y1train.shape)\n",
    "print(x1test.shape)\n",
    "print(y1test.shape)\n",
    "print(x2train.shape)\n",
    "print(y2train.shape)\n",
    "print(x2test.shape)\n",
    "print(y2test.shape)\n",
    "print(x3train.shape)\n",
    "print(y3train.shape)\n",
    "print(x3test.shape)\n",
    "print(y3test.shape)"
   ]
  },
  {
   "cell_type": "markdown",
   "metadata": {},
   "source": [
    "# CTC Model"
   ]
  },
  {
   "cell_type": "code",
   "execution_count": 17,
   "metadata": {
    "scrolled": true
   },
   "outputs": [
    {
     "name": "stdout",
     "output_type": "stream",
     "text": [
      "Number of unique characters:  18\n",
      "Characters present:  ['A', 'B', 'C', 'D', 'E', 'F', 'G', 'H', 'I', 'J', 'K', 'L', 'M', 'N', 'O', 'P', 'Q', 'R']\n",
      "Labels: ['ABDEFC' 'ABGHIC' 'ABJKLC' 'ABMNOC' 'ABPQRC']\n"
     ]
    }
   ],
   "source": [
    "characters = set(char for label in ctc_tr for char in label)\n",
    "print(\"Number of unique characters: \", len(characters))\n",
    "print(\"Characters present: \", sorted(characters))\n",
    "print('Labels: ' + str(np.unique(ctc_tr)))\n",
    "batch_size = 1"
   ]
  },
  {
   "cell_type": "code",
   "execution_count": null,
   "metadata": {},
   "outputs": [],
   "source": [
    "# Maximum length of any sequence in the dataset\n",
    "max_length = max([len(label) for label in ctc_tr])"
   ]
  },
  {
   "cell_type": "code",
   "execution_count": 17,
   "metadata": {},
   "outputs": [],
   "source": [
    "# Mapping characters to integers\n",
    "char_to_num = experimental.preprocessing.StringLookup(\n",
    "    vocabulary=list(characters), num_oov_indices=0, mask_token=None\n",
    ")\n",
    "\n",
    "# Mapping integers back to original characters\n",
    "num_to_char = experimental.preprocessing.StringLookup(\n",
    "    vocabulary=char_to_num.get_vocabulary(), mask_token=None, invert=True\n",
    ")"
   ]
  },
  {
   "cell_type": "markdown",
   "metadata": {},
   "source": [
    "## Data generator"
   ]
  },
  {
   "cell_type": "code",
   "execution_count": 17,
   "metadata": {},
   "outputs": [],
   "source": [
    "def encode_single_sample(data, label):\n",
    "    label = char_to_num(tf.strings.unicode_split(label, input_encoding=\"UTF-8\"))\n",
    "    # 7. Return a dict as our model is expecting two inputs\n",
    "    return {\"img\": data, \"label\": label}"
   ]
  },
  {
   "cell_type": "code",
   "execution_count": 19,
   "metadata": {},
   "outputs": [],
   "source": [
    "train_dataset = tf.data.Dataset.from_tensor_slices((x_train3, ctc_tr))\n",
    "train_dataset = (\n",
    "    train_dataset.map(\n",
    "        encode_single_sample, num_parallel_calls=tf.data.experimental.AUTOTUNE\n",
    "    )\n",
    "    .batch(batch_size)\n",
    "    .prefetch(buffer_size=tf.data.experimental.AUTOTUNE)\n",
    ")\n",
    "\n",
    "validation_dataset = tf.data.Dataset.from_tensor_slices((x_test3, ctc_ts))\n",
    "validation_dataset = (\n",
    "    validation_dataset.map(\n",
    "        encode_single_sample, num_parallel_calls=tf.data.experimental.AUTOTUNE\n",
    "    )\n",
    "    .batch(batch_size)\n",
    "    .prefetch(buffer_size=tf.data.experimental.AUTOTUNE)\n",
    ")"
   ]
  },
  {
   "cell_type": "code",
   "execution_count": 17,
   "metadata": {},
   "outputs": [],
   "source": [
    "def data_generator_ctc(data, labels, batch_size=1):              \n",
    "    \"\"\"\n",
    "    Yields the next training batch.\n",
    "    data is an array  [[[frame1_filename,frame2_filename,…frame16_filename],label1], [[frame1_filename,frame2_filename,…frame16_filename],label2],……….].\n",
    "    \"\"\"\n",
    "    num_samples = data.shape[0]\n",
    "    \n",
    "    while True:   \n",
    "        for offset in range(0, num_samples, batch_size):\n",
    "    #             print ('starting index: ', offset) \n",
    "            # Get the samples you'll use in this batch\n",
    "            batch_samples = data[offset:offset+batch_size]\n",
    "            label = labels[offset:offset+batch_size]\n",
    "            # Initialise X_train and y_train arrays for this batch\n",
    "            X_train = []\n",
    "            y_train = []\n",
    "            # For each example\n",
    "            for i in range(0,batch_samples.shape[0]):\n",
    "                X_train.append(batch_samples[i])\n",
    "                y_train.append(np.array([ord(y)%32 for y in label[i]]))\n",
    "\n",
    "            # Make sure they're numpy arrays (as opposed to lists)\n",
    "            X_train = np.array(X_train)\n",
    "            #X_train = np.rollaxis(X_train,1,4)\n",
    "            y_train = np.array(y_train)\n",
    "\n",
    "            # yield the next training batch            \n",
    "            yield [X_train, y_train], y_train"
   ]
  },
  {
   "cell_type": "code",
   "execution_count": 18,
   "metadata": {},
   "outputs": [],
   "source": [
    "def data_generator_ctc_nolabel(data, labels, batch_size=1):              \n",
    "    \"\"\"\n",
    "    Yields the next training batch.\n",
    "    data is an array  [[[frame1_filename,frame2_filename,…frame16_filename],label1], [[frame1_filename,frame2_filename,…frame16_filename],label2],……….].\n",
    "    \"\"\"\n",
    "    num_samples = data.shape[0]\n",
    "    \n",
    "    while True:   \n",
    "        for offset in range(0, num_samples, batch_size):\n",
    "    #             print ('starting index: ', offset) \n",
    "            # Get the samples you'll use in this batch\n",
    "            batch_samples = data[offset:offset+batch_size]\n",
    "            label = labels[offset:offset+batch_size]\n",
    "            # Initialise X_train and y_train arrays for this batch\n",
    "            X_train = []\n",
    "            y_train = []\n",
    "            # For each example\n",
    "            for i in range(0,batch_samples.shape[0]):\n",
    "                X_train.append(batch_samples[i])\n",
    "                y_train.append(np.array([ord(y)%32 for y in label[i]]))\n",
    "\n",
    "            # Make sure they're numpy arrays (as opposed to lists)\n",
    "            X_train = np.array(X_train)\n",
    "            #X_train = np.rollaxis(X_train,1,4)\n",
    "            y_train = np.array(y_train)\n",
    "\n",
    "            # yield the next training batch            \n",
    "            yield X_train"
   ]
  },
  {
   "cell_type": "code",
   "execution_count": 22,
   "metadata": {},
   "outputs": [],
   "source": [
    "# train_dataset = data_generator_ctc(x_train3, ctc_tr)\n",
    "# validation_dataset = data_generator_ctc(x_test3, ctc_ts)\n",
    "predict_generator = data_generator_ctc_nolabel(x_test3, ctc_ts)"
   ]
  },
  {
   "cell_type": "code",
   "execution_count": 132,
   "metadata": {},
   "outputs": [
    {
     "name": "stdout",
     "output_type": "stream",
     "text": [
      "ABPQRC\n",
      "[ 1  2 16 17 18  3]\n"
     ]
    }
   ],
   "source": [
    "print(ctc_tr[0])\n",
    "print(np.array([ord(x)%32 for x in ctc_tr[0]]))"
   ]
  },
  {
   "cell_type": "markdown",
   "metadata": {},
   "source": [
    "# CTC"
   ]
  },
  {
   "cell_type": "code",
   "execution_count": 19,
   "metadata": {},
   "outputs": [],
   "source": [
    "class CTCLayer(Layer):\n",
    "    def __init__(self, name=None, **kwargs):\n",
    "        super().__init__(name=name)\n",
    "        self.loss_fn = keras.backend.ctc_batch_cost\n",
    "\n",
    "    def call(self, y_true, y_pred):\n",
    "        # Compute the training-time loss value and add it\n",
    "        # to the layer using `self.add_loss()`.\n",
    "        batch_len = tf.cast(tf.shape(y_true)[0], dtype=\"int64\")\n",
    "        input_length = tf.cast(tf.shape(y_pred)[1], dtype=\"int64\")\n",
    "        label_length = tf.cast(tf.shape(y_true)[1], dtype=\"int64\")\n",
    "\n",
    "        input_length = input_length * tf.ones(shape=(batch_len, 1), dtype=\"int64\")\n",
    "        label_length = label_length * tf.ones(shape=(batch_len, 1), dtype=\"int64\")\n",
    "\n",
    "        loss = self.loss_fn(y_true, y_pred, input_length, label_length)\n",
    "        self.add_loss(loss)\n",
    "\n",
    "        # At test time, just return the computed predictions\n",
    "        return y_pred"
   ]
  },
  {
   "cell_type": "code",
   "execution_count": 20,
   "metadata": {
    "scrolled": true
   },
   "outputs": [
    {
     "data": {
      "text/plain": [
       "(120, 128, 128, 3)"
      ]
     },
     "execution_count": 20,
     "metadata": {},
     "output_type": "execute_result"
    }
   ],
   "source": [
    "input_shape1 = (None,x1train[0].shape[1],x1train[0].shape[2],x1train[0].shape[3],x1train[0].shape[4])\n",
    "input_shape2 = input_shape1\n",
    "input_shape3 = (x_train3.shape[1],x_train3.shape[2],x_train3.shape[3],x_train3.shape[4])\n",
    "input_shape3"
   ]
  },
  {
   "cell_type": "code",
   "execution_count": 25,
   "metadata": {},
   "outputs": [],
   "source": [
    "def ctc_md():\n",
    "    with tf.device('/gpu:2'):\n",
    "        \n",
    "        inputlayer3 = Input(shape = input_shape3, name=\"image\")\n",
    "        labels = Input(name=\"label\", shape=(None,))#, dtype=\"float32\")\n",
    "        \n",
    "        x = TimeDistributed(Conv2D(8, kernel_size=(3, 3), padding='same', activation='relu'))(inputlayer3)\n",
    "        x = TimeDistributed(MaxPooling2D(pool_size=(2,2)))(x)\n",
    "        x = TimeDistributed(Conv2D(8, kernel_size=(3, 3), padding='same', activation='relu'))(x)\n",
    "        x = TimeDistributed(MaxPooling2D(pool_size=(2,2)))(x)\n",
    "        x = TimeDistributed(Conv2D(8, kernel_size=(3, 3), padding='same', activation='relu'))(x)\n",
    "        x = TimeDistributed(MaxPooling2D(pool_size=(2,2)))(x)\n",
    "        x = TimeDistributed(MaxPooling2D(pool_size=(8,1)))(x)\n",
    "#         x = TimeDistributed(Flatten())(x)\n",
    "        new_shape = (-1, (128//2**3) *8)\n",
    "        x = Reshape(target_shape=new_shape, name=\"reshape\")(x)\n",
    "#         x = Dense(64, activation=\"relu\", name=\"dense1\")(x)\n",
    "#         x = Dropout(0.2)(x)\n",
    "#         x = Bidirectional(LSTM(128, dropout=0.25, return_sequences=True))(x)\n",
    "        x = Bidirectional(LSTM(64, dropout=0.25, return_sequences=True))(x)\n",
    "        \n",
    "        x = Dense(len(characters) + 1, activation='softmax', name=\"dense2\")(x)\n",
    "        # Add CTC layer for calculating CTC loss at each step\n",
    "        output = CTCLayer(name=\"ctc_loss\")(labels, x)\n",
    "    \n",
    "        model = keras.Model(inputs = [inputlayer3, labels], outputs = [output], name=\"ctc_model_v1\")\n",
    "        opt = Adam(lr=1e-3, decay=1e-3 / 200)\n",
    "        \n",
    "        model.compile(optimizer=opt)\n",
    "        return model"
   ]
  },
  {
   "cell_type": "code",
   "execution_count": 136,
   "metadata": {
    "collapsed": true
   },
   "outputs": [
    {
     "name": "stdout",
     "output_type": "stream",
     "text": [
      "Model: \"ctc_model_v1\"\n",
      "_____________________________________________________________________________________________________________________________\n",
      "Layer (type)                             Output Shape               Param #        Connected to                              \n",
      "=============================================================================================================================\n",
      "image (InputLayer)                       [(None, 120, 128, 128, 3)] 0                                                        \n",
      "_____________________________________________________________________________________________________________________________\n",
      "time_distributed_76 (TimeDistributed)    (None, 120, 128, 128, 8)   224            image[0][0]                               \n",
      "_____________________________________________________________________________________________________________________________\n",
      "time_distributed_77 (TimeDistributed)    (None, 120, 64, 64, 8)     0              time_distributed_76[0][0]                 \n",
      "_____________________________________________________________________________________________________________________________\n",
      "time_distributed_78 (TimeDistributed)    (None, 120, 64, 64, 8)     584            time_distributed_77[0][0]                 \n",
      "_____________________________________________________________________________________________________________________________\n",
      "time_distributed_79 (TimeDistributed)    (None, 120, 32, 32, 8)     0              time_distributed_78[0][0]                 \n",
      "_____________________________________________________________________________________________________________________________\n",
      "time_distributed_80 (TimeDistributed)    (None, 120, 32, 32, 8)     584            time_distributed_79[0][0]                 \n",
      "_____________________________________________________________________________________________________________________________\n",
      "time_distributed_81 (TimeDistributed)    (None, 120, 16, 16, 8)     0              time_distributed_80[0][0]                 \n",
      "_____________________________________________________________________________________________________________________________\n",
      "time_distributed_82 (TimeDistributed)    (None, 120, 2, 16, 8)      0              time_distributed_81[0][0]                 \n",
      "_____________________________________________________________________________________________________________________________\n",
      "reshape (Reshape)                        (None, 240, 128)           0              time_distributed_82[0][0]                 \n",
      "_____________________________________________________________________________________________________________________________\n",
      "bidirectional_11 (Bidirectional)         (None, 240, 128)           98816          reshape[0][0]                             \n",
      "_____________________________________________________________________________________________________________________________\n",
      "label (InputLayer)                       [(None, None)]             0                                                        \n",
      "_____________________________________________________________________________________________________________________________\n",
      "dense2 (Dense)                           (None, 240, 19)            2451           bidirectional_11[0][0]                    \n",
      "_____________________________________________________________________________________________________________________________\n",
      "ctc_loss (CTCLayer)                      (None, 240, 19)            0              label[0][0]                               \n",
      "                                                                                   dense2[0][0]                              \n",
      "=============================================================================================================================\n",
      "Total params: 102,659\n",
      "Trainable params: 102,659\n",
      "Non-trainable params: 0\n",
      "_____________________________________________________________________________________________________________________________\n"
     ]
    }
   ],
   "source": [
    "model = ctc_md()\n",
    "model.summary(line_length=125)"
   ]
  },
  {
   "cell_type": "code",
   "execution_count": 21,
   "metadata": {},
   "outputs": [],
   "source": [
    "epochs = 100\n",
    "early_stopping_patience = 10\n",
    "# Add early stopping\n",
    "early_stopping = keras.callbacks.EarlyStopping(\n",
    "    monitor=\"val_loss\", patience=early_stopping_patience, restore_best_weights=True\n",
    ")"
   ]
  },
  {
   "cell_type": "code",
   "execution_count": 138,
   "metadata": {
    "collapsed": true
   },
   "outputs": [
    {
     "data": {
      "image/png": "[encoded data removed]",
      "text/plain": [
       "<Figure size 864x576 with 1 Axes>"
      ]
     },
     "metadata": {
      "needs_background": "light"
     },
     "output_type": "display_data"
    },
    {
     "name": "stdout",
     "output_type": "stream",
     "text": [
      "Loss\n",
      "\ttraining         \t (min:    0.028, max:   76.085, cur:    4.965)\n",
      "\tvalidation       \t (min:    1.036, max:   22.237, cur:    4.911)\n",
      "527/527 [==============================] - 20s 39ms/step - loss: 4.9646 - val_loss: 4.9113\n",
      "Epoch 11/100\n",
      " 73/527 [===>..........................] - ETA: 13s - loss: 4.9503"
     ]
    },
    {
     "ename": "KeyboardInterrupt",
     "evalue": "",
     "output_type": "error",
     "traceback": [
      "\u001b[0;31m---------------------------------------------------------------------------\u001b[0m",
      "\u001b[0;31mKeyboardInterrupt\u001b[0m                         Traceback (most recent call last)",
      "\u001b[0;32m<ipython-input-138-22c25e0c6a5b>\u001b[0m in \u001b[0;36m<module>\u001b[0;34m\u001b[0m\n\u001b[1;32m      5\u001b[0m     \u001b[0mepochs\u001b[0m\u001b[0;34m=\u001b[0m\u001b[0mepochs\u001b[0m\u001b[0;34m,\u001b[0m\u001b[0;34m\u001b[0m\u001b[0;34m\u001b[0m\u001b[0m\n\u001b[1;32m      6\u001b[0m     \u001b[0mcallbacks\u001b[0m\u001b[0;34m=\u001b[0m\u001b[0;34m[\u001b[0m\u001b[0mearly_stopping\u001b[0m\u001b[0;34m,\u001b[0m \u001b[0mPlotLossesKerasTF\u001b[0m\u001b[0;34m(\u001b[0m\u001b[0;34m)\u001b[0m\u001b[0;34m]\u001b[0m\u001b[0;34m,\u001b[0m\u001b[0;34m\u001b[0m\u001b[0;34m\u001b[0m\u001b[0m\n\u001b[0;32m----> 7\u001b[0;31m     \u001b[0mverbose\u001b[0m \u001b[0;34m=\u001b[0m \u001b[0;36m1\u001b[0m\u001b[0;34m\u001b[0m\u001b[0;34m\u001b[0m\u001b[0m\n\u001b[0m\u001b[1;32m      8\u001b[0m )\n",
      "\u001b[0;32m~/.local/lib/python3.7/site-packages/tensorflow/python/keras/engine/training.py\u001b[0m in \u001b[0;36m_method_wrapper\u001b[0;34m(self, *args, **kwargs)\u001b[0m\n\u001b[1;32m    106\u001b[0m   \u001b[0;32mdef\u001b[0m \u001b[0m_method_wrapper\u001b[0m\u001b[0;34m(\u001b[0m\u001b[0mself\u001b[0m\u001b[0;34m,\u001b[0m \u001b[0;34m*\u001b[0m\u001b[0margs\u001b[0m\u001b[0;34m,\u001b[0m \u001b[0;34m**\u001b[0m\u001b[0mkwargs\u001b[0m\u001b[0;34m)\u001b[0m\u001b[0;34m:\u001b[0m\u001b[0;34m\u001b[0m\u001b[0;34m\u001b[0m\u001b[0m\n\u001b[1;32m    107\u001b[0m     \u001b[0;32mif\u001b[0m \u001b[0;32mnot\u001b[0m \u001b[0mself\u001b[0m\u001b[0;34m.\u001b[0m\u001b[0m_in_multi_worker_mode\u001b[0m\u001b[0;34m(\u001b[0m\u001b[0;34m)\u001b[0m\u001b[0;34m:\u001b[0m  \u001b[0;31m# pylint: disable=protected-access\u001b[0m\u001b[0;34m\u001b[0m\u001b[0;34m\u001b[0m\u001b[0m\n\u001b[0;32m--> 108\u001b[0;31m       \u001b[0;32mreturn\u001b[0m \u001b[0mmethod\u001b[0m\u001b[0;34m(\u001b[0m\u001b[0mself\u001b[0m\u001b[0;34m,\u001b[0m \u001b[0;34m*\u001b[0m\u001b[0margs\u001b[0m\u001b[0;34m,\u001b[0m \u001b[0;34m**\u001b[0m\u001b[0mkwargs\u001b[0m\u001b[0;34m)\u001b[0m\u001b[0;34m\u001b[0m\u001b[0;34m\u001b[0m\u001b[0m\n\u001b[0m\u001b[1;32m    109\u001b[0m \u001b[0;34m\u001b[0m\u001b[0m\n\u001b[1;32m    110\u001b[0m     \u001b[0;31m# Running inside `run_distribute_coordinator` already.\u001b[0m\u001b[0;34m\u001b[0m\u001b[0;34m\u001b[0m\u001b[0;34m\u001b[0m\u001b[0m\n",
      "\u001b[0;32m~/.local/lib/python3.7/site-packages/tensorflow/python/keras/engine/training.py\u001b[0m in \u001b[0;36mfit\u001b[0;34m(self, x, y, batch_size, epochs, verbose, callbacks, validation_split, validation_data, shuffle, class_weight, sample_weight, initial_epoch, steps_per_epoch, validation_steps, validation_batch_size, validation_freq, max_queue_size, workers, use_multiprocessing)\u001b[0m\n\u001b[1;32m   1096\u001b[0m                 batch_size=batch_size):\n\u001b[1;32m   1097\u001b[0m               \u001b[0mcallbacks\u001b[0m\u001b[0;34m.\u001b[0m\u001b[0mon_train_batch_begin\u001b[0m\u001b[0;34m(\u001b[0m\u001b[0mstep\u001b[0m\u001b[0;34m)\u001b[0m\u001b[0;34m\u001b[0m\u001b[0;34m\u001b[0m\u001b[0m\n\u001b[0;32m-> 1098\u001b[0;31m               \u001b[0mtmp_logs\u001b[0m \u001b[0;34m=\u001b[0m \u001b[0mtrain_function\u001b[0m\u001b[0;34m(\u001b[0m\u001b[0miterator\u001b[0m\u001b[0;34m)\u001b[0m\u001b[0;34m\u001b[0m\u001b[0;34m\u001b[0m\u001b[0m\n\u001b[0m\u001b[1;32m   1099\u001b[0m               \u001b[0;32mif\u001b[0m \u001b[0mdata_handler\u001b[0m\u001b[0;34m.\u001b[0m\u001b[0mshould_sync\u001b[0m\u001b[0;34m:\u001b[0m\u001b[0;34m\u001b[0m\u001b[0;34m\u001b[0m\u001b[0m\n\u001b[1;32m   1100\u001b[0m                 \u001b[0mcontext\u001b[0m\u001b[0;34m.\u001b[0m\u001b[0masync_wait\u001b[0m\u001b[0;34m(\u001b[0m\u001b[0;34m)\u001b[0m\u001b[0;34m\u001b[0m\u001b[0;34m\u001b[0m\u001b[0m\n",
      "\u001b[0;32m~/.local/lib/python3.7/site-packages/tensorflow/python/eager/def_function.py\u001b[0m in \u001b[0;36m__call__\u001b[0;34m(self, *args, **kwds)\u001b[0m\n\u001b[1;32m    778\u001b[0m       \u001b[0;32melse\u001b[0m\u001b[0;34m:\u001b[0m\u001b[0;34m\u001b[0m\u001b[0;34m\u001b[0m\u001b[0m\n\u001b[1;32m    779\u001b[0m         \u001b[0mcompiler\u001b[0m \u001b[0;34m=\u001b[0m \u001b[0;34m\"nonXla\"\u001b[0m\u001b[0;34m\u001b[0m\u001b[0;34m\u001b[0m\u001b[0m\n\u001b[0;32m--> 780\u001b[0;31m         \u001b[0mresult\u001b[0m \u001b[0;34m=\u001b[0m \u001b[0mself\u001b[0m\u001b[0;34m.\u001b[0m\u001b[0m_call\u001b[0m\u001b[0;34m(\u001b[0m\u001b[0;34m*\u001b[0m\u001b[0margs\u001b[0m\u001b[0;34m,\u001b[0m \u001b[0;34m**\u001b[0m\u001b[0mkwds\u001b[0m\u001b[0;34m)\u001b[0m\u001b[0;34m\u001b[0m\u001b[0;34m\u001b[0m\u001b[0m\n\u001b[0m\u001b[1;32m    781\u001b[0m \u001b[0;34m\u001b[0m\u001b[0m\n\u001b[1;32m    782\u001b[0m       \u001b[0mnew_tracing_count\u001b[0m \u001b[0;34m=\u001b[0m \u001b[0mself\u001b[0m\u001b[0;34m.\u001b[0m\u001b[0m_get_tracing_count\u001b[0m\u001b[0;34m(\u001b[0m\u001b[0;34m)\u001b[0m\u001b[0;34m\u001b[0m\u001b[0;34m\u001b[0m\u001b[0m\n",
      "\u001b[0;32m~/.local/lib/python3.7/site-packages/tensorflow/python/eager/def_function.py\u001b[0m in \u001b[0;36m_call\u001b[0;34m(self, *args, **kwds)\u001b[0m\n\u001b[1;32m    805\u001b[0m       \u001b[0;31m# In this case we have created variables on the first call, so we run the\u001b[0m\u001b[0;34m\u001b[0m\u001b[0;34m\u001b[0m\u001b[0;34m\u001b[0m\u001b[0m\n\u001b[1;32m    806\u001b[0m       \u001b[0;31m# defunned version which is guaranteed to never create variables.\u001b[0m\u001b[0;34m\u001b[0m\u001b[0;34m\u001b[0m\u001b[0;34m\u001b[0m\u001b[0m\n\u001b[0;32m--> 807\u001b[0;31m       \u001b[0;32mreturn\u001b[0m \u001b[0mself\u001b[0m\u001b[0;34m.\u001b[0m\u001b[0m_stateless_fn\u001b[0m\u001b[0;34m(\u001b[0m\u001b[0;34m*\u001b[0m\u001b[0margs\u001b[0m\u001b[0;34m,\u001b[0m \u001b[0;34m**\u001b[0m\u001b[0mkwds\u001b[0m\u001b[0;34m)\u001b[0m  \u001b[0;31m# pylint: disable=not-callable\u001b[0m\u001b[0;34m\u001b[0m\u001b[0;34m\u001b[0m\u001b[0m\n\u001b[0m\u001b[1;32m    808\u001b[0m     \u001b[0;32melif\u001b[0m \u001b[0mself\u001b[0m\u001b[0;34m.\u001b[0m\u001b[0m_stateful_fn\u001b[0m \u001b[0;32mis\u001b[0m \u001b[0;32mnot\u001b[0m \u001b[0;32mNone\u001b[0m\u001b[0;34m:\u001b[0m\u001b[0;34m\u001b[0m\u001b[0;34m\u001b[0m\u001b[0m\n\u001b[1;32m    809\u001b[0m       \u001b[0;31m# Release the lock early so that multiple threads can perform the call\u001b[0m\u001b[0;34m\u001b[0m\u001b[0;34m\u001b[0m\u001b[0;34m\u001b[0m\u001b[0m\n",
      "\u001b[0;32m~/.local/lib/python3.7/site-packages/tensorflow/python/eager/function.py\u001b[0m in \u001b[0;36m__call__\u001b[0;34m(self, *args, **kwargs)\u001b[0m\n\u001b[1;32m   2827\u001b[0m     \u001b[0;32mwith\u001b[0m \u001b[0mself\u001b[0m\u001b[0;34m.\u001b[0m\u001b[0m_lock\u001b[0m\u001b[0;34m:\u001b[0m\u001b[0;34m\u001b[0m\u001b[0;34m\u001b[0m\u001b[0m\n\u001b[1;32m   2828\u001b[0m       \u001b[0mgraph_function\u001b[0m\u001b[0;34m,\u001b[0m \u001b[0margs\u001b[0m\u001b[0;34m,\u001b[0m \u001b[0mkwargs\u001b[0m \u001b[0;34m=\u001b[0m \u001b[0mself\u001b[0m\u001b[0;34m.\u001b[0m\u001b[0m_maybe_define_function\u001b[0m\u001b[0;34m(\u001b[0m\u001b[0margs\u001b[0m\u001b[0;34m,\u001b[0m \u001b[0mkwargs\u001b[0m\u001b[0;34m)\u001b[0m\u001b[0;34m\u001b[0m\u001b[0;34m\u001b[0m\u001b[0m\n\u001b[0;32m-> 2829\u001b[0;31m     \u001b[0;32mreturn\u001b[0m \u001b[0mgraph_function\u001b[0m\u001b[0;34m.\u001b[0m\u001b[0m_filtered_call\u001b[0m\u001b[0;34m(\u001b[0m\u001b[0margs\u001b[0m\u001b[0;34m,\u001b[0m \u001b[0mkwargs\u001b[0m\u001b[0;34m)\u001b[0m  \u001b[0;31m# pylint: disable=protected-access\u001b[0m\u001b[0;34m\u001b[0m\u001b[0;34m\u001b[0m\u001b[0m\n\u001b[0m\u001b[1;32m   2830\u001b[0m \u001b[0;34m\u001b[0m\u001b[0m\n\u001b[1;32m   2831\u001b[0m   \u001b[0;34m@\u001b[0m\u001b[0mproperty\u001b[0m\u001b[0;34m\u001b[0m\u001b[0;34m\u001b[0m\u001b[0m\n",
      "\u001b[0;32m~/.local/lib/python3.7/site-packages/tensorflow/python/eager/function.py\u001b[0m in \u001b[0;36m_filtered_call\u001b[0;34m(self, args, kwargs, cancellation_manager)\u001b[0m\n\u001b[1;32m   1846\u001b[0m                            resource_variable_ops.BaseResourceVariable))],\n\u001b[1;32m   1847\u001b[0m         \u001b[0mcaptured_inputs\u001b[0m\u001b[0;34m=\u001b[0m\u001b[0mself\u001b[0m\u001b[0;34m.\u001b[0m\u001b[0mcaptured_inputs\u001b[0m\u001b[0;34m,\u001b[0m\u001b[0;34m\u001b[0m\u001b[0;34m\u001b[0m\u001b[0m\n\u001b[0;32m-> 1848\u001b[0;31m         cancellation_manager=cancellation_manager)\n\u001b[0m\u001b[1;32m   1849\u001b[0m \u001b[0;34m\u001b[0m\u001b[0m\n\u001b[1;32m   1850\u001b[0m   \u001b[0;32mdef\u001b[0m \u001b[0m_call_flat\u001b[0m\u001b[0;34m(\u001b[0m\u001b[0mself\u001b[0m\u001b[0;34m,\u001b[0m \u001b[0margs\u001b[0m\u001b[0;34m,\u001b[0m \u001b[0mcaptured_inputs\u001b[0m\u001b[0;34m,\u001b[0m \u001b[0mcancellation_manager\u001b[0m\u001b[0;34m=\u001b[0m\u001b[0;32mNone\u001b[0m\u001b[0;34m)\u001b[0m\u001b[0;34m:\u001b[0m\u001b[0;34m\u001b[0m\u001b[0;34m\u001b[0m\u001b[0m\n",
      "\u001b[0;32m~/.local/lib/python3.7/site-packages/tensorflow/python/eager/function.py\u001b[0m in \u001b[0;36m_call_flat\u001b[0;34m(self, args, captured_inputs, cancellation_manager)\u001b[0m\n\u001b[1;32m   1922\u001b[0m       \u001b[0;31m# No tape is watching; skip to running the function.\u001b[0m\u001b[0;34m\u001b[0m\u001b[0;34m\u001b[0m\u001b[0;34m\u001b[0m\u001b[0m\n\u001b[1;32m   1923\u001b[0m       return self._build_call_outputs(self._inference_function.call(\n\u001b[0;32m-> 1924\u001b[0;31m           ctx, args, cancellation_manager=cancellation_manager))\n\u001b[0m\u001b[1;32m   1925\u001b[0m     forward_backward = self._select_forward_and_backward_functions(\n\u001b[1;32m   1926\u001b[0m         \u001b[0margs\u001b[0m\u001b[0;34m,\u001b[0m\u001b[0;34m\u001b[0m\u001b[0;34m\u001b[0m\u001b[0m\n",
      "\u001b[0;32m~/.local/lib/python3.7/site-packages/tensorflow/python/eager/function.py\u001b[0m in \u001b[0;36mcall\u001b[0;34m(self, ctx, args, cancellation_manager)\u001b[0m\n\u001b[1;32m    548\u001b[0m               \u001b[0minputs\u001b[0m\u001b[0;34m=\u001b[0m\u001b[0margs\u001b[0m\u001b[0;34m,\u001b[0m\u001b[0;34m\u001b[0m\u001b[0;34m\u001b[0m\u001b[0m\n\u001b[1;32m    549\u001b[0m               \u001b[0mattrs\u001b[0m\u001b[0;34m=\u001b[0m\u001b[0mattrs\u001b[0m\u001b[0;34m,\u001b[0m\u001b[0;34m\u001b[0m\u001b[0;34m\u001b[0m\u001b[0m\n\u001b[0;32m--> 550\u001b[0;31m               ctx=ctx)\n\u001b[0m\u001b[1;32m    551\u001b[0m         \u001b[0;32melse\u001b[0m\u001b[0;34m:\u001b[0m\u001b[0;34m\u001b[0m\u001b[0;34m\u001b[0m\u001b[0m\n\u001b[1;32m    552\u001b[0m           outputs = execute.execute_with_cancellation(\n",
      "\u001b[0;32m~/.local/lib/python3.7/site-packages/tensorflow/python/eager/execute.py\u001b[0m in \u001b[0;36mquick_execute\u001b[0;34m(op_name, num_outputs, inputs, attrs, ctx, name)\u001b[0m\n\u001b[1;32m     58\u001b[0m     \u001b[0mctx\u001b[0m\u001b[0;34m.\u001b[0m\u001b[0mensure_initialized\u001b[0m\u001b[0;34m(\u001b[0m\u001b[0;34m)\u001b[0m\u001b[0;34m\u001b[0m\u001b[0;34m\u001b[0m\u001b[0m\n\u001b[1;32m     59\u001b[0m     tensors = pywrap_tfe.TFE_Py_Execute(ctx._handle, device_name, op_name,\n\u001b[0;32m---> 60\u001b[0;31m                                         inputs, attrs, num_outputs)\n\u001b[0m\u001b[1;32m     61\u001b[0m   \u001b[0;32mexcept\u001b[0m \u001b[0mcore\u001b[0m\u001b[0;34m.\u001b[0m\u001b[0m_NotOkStatusException\u001b[0m \u001b[0;32mas\u001b[0m \u001b[0me\u001b[0m\u001b[0;34m:\u001b[0m\u001b[0;34m\u001b[0m\u001b[0;34m\u001b[0m\u001b[0m\n\u001b[1;32m     62\u001b[0m     \u001b[0;32mif\u001b[0m \u001b[0mname\u001b[0m \u001b[0;32mis\u001b[0m \u001b[0;32mnot\u001b[0m \u001b[0;32mNone\u001b[0m\u001b[0;34m:\u001b[0m\u001b[0;34m\u001b[0m\u001b[0;34m\u001b[0m\u001b[0m\n",
      "\u001b[0;31mKeyboardInterrupt\u001b[0m: "
     ]
    }
   ],
   "source": [
    "history = model.fit(\n",
    "    train_dataset,\n",
    "    validation_data=validation_dataset,\n",
    "    batch_size = 1,\n",
    "    epochs=epochs,\n",
    "    callbacks=[early_stopping, PlotLossesKerasTF()],\n",
    "    verbose = 1\n",
    ")"
   ]
  },
  {
   "cell_type": "code",
   "execution_count": 139,
   "metadata": {},
   "outputs": [],
   "source": [
    "# save model\n",
    "MODEL_FILE = \"Models/ctc model md no nuc.json\" # save path\n",
    "WEIGHT_FILE =\"Models/ctc model md no nuc.h5\" # save path\n",
    "\n",
    "model_json = model.to_json()\n",
    "with open(MODEL_FILE, \"w\") as json_file:\n",
    "    json_file.write(model_json)\n",
    "model.save_weights(WEIGHT_FILE)"
   ]
  },
  {
   "cell_type": "markdown",
   "metadata": {},
   "source": [
    "### Predictions"
   ]
  },
  {
   "cell_type": "code",
   "execution_count": 140,
   "metadata": {
    "collapsed": true
   },
   "outputs": [
    {
     "name": "stdout",
     "output_type": "stream",
     "text": [
      "Model: \"functional_3\"\n",
      "_________________________________________________________________\n",
      "Layer (type)                 Output Shape              Param #   \n",
      "=================================================================\n",
      "image (InputLayer)           [(None, 120, 128, 128, 3) 0         \n",
      "_________________________________________________________________\n",
      "time_distributed_76 (TimeDis (None, 120, 128, 128, 8)  224       \n",
      "_________________________________________________________________\n",
      "time_distributed_77 (TimeDis (None, 120, 64, 64, 8)    0         \n",
      "_________________________________________________________________\n",
      "time_distributed_78 (TimeDis (None, 120, 64, 64, 8)    584       \n",
      "_________________________________________________________________\n",
      "time_distributed_79 (TimeDis (None, 120, 32, 32, 8)    0         \n",
      "_________________________________________________________________\n",
      "time_distributed_80 (TimeDis (None, 120, 32, 32, 8)    584       \n",
      "_________________________________________________________________\n",
      "time_distributed_81 (TimeDis (None, 120, 16, 16, 8)    0         \n",
      "_________________________________________________________________\n",
      "time_distributed_82 (TimeDis (None, 120, 2, 16, 8)     0         \n",
      "_________________________________________________________________\n",
      "reshape (Reshape)            (None, 240, 128)          0         \n",
      "_________________________________________________________________\n",
      "bidirectional_11 (Bidirectio (None, 240, 128)          98816     \n",
      "_________________________________________________________________\n",
      "dense2 (Dense)               (None, 240, 19)           2451      \n",
      "=================================================================\n",
      "Total params: 102,659\n",
      "Trainable params: 102,659\n",
      "Non-trainable params: 0\n",
      "_________________________________________________________________\n"
     ]
    }
   ],
   "source": [
    "# Get the prediction model by extracting layers till the output layer\n",
    "prediction_model = keras.models.Model(\n",
    "    model.get_layer(name=\"image\").input, model.get_layer(name=\"dense2\").output\n",
    ")\n",
    "# prediction_model.summary()"
   ]
  },
  {
   "cell_type": "code",
   "execution_count": 79,
   "metadata": {},
   "outputs": [],
   "source": [
    "# pred = np.array(prediction_model.predict_generator(predict_generator, steps = len(x_test3)))\n",
    "# pred.shape"
   ]
  },
  {
   "cell_type": "code",
   "execution_count": 225,
   "metadata": {},
   "outputs": [],
   "source": [
    "# A utility function to decode the output of the network\n",
    "def decode_batch_predictions(pred):\n",
    "    input_len = np.ones(pred.shape[0]) * pred.shape[1]\n",
    "    # Use greedy search. For complex tasks, you can use beam search\n",
    "    results = keras.backend.ctc_decode(pred, input_length=input_len, greedy=True)[0][0][\n",
    "        :, :max_length]\n",
    "    # Iterate over the results and get back the text\n",
    "    output_text = []\n",
    "    for res in results:\n",
    "        res = tf.strings.reduce_join(num_to_char(res)).numpy().decode(\"utf-8\")\n",
    "        output_text.append(res)\n",
    "    return output_text"
   ]
  },
  {
   "cell_type": "code",
   "execution_count": 142,
   "metadata": {
    "scrolled": true
   },
   "outputs": [],
   "source": [
    "orig_texts = []\n",
    "pred_texts = []\n",
    "for batch in validation_dataset.take(len(x_test3)):\n",
    "    batch_images = batch[\"img\"]\n",
    "    batch_labels = batch[\"label\"]\n",
    "\n",
    "    preds = prediction_model.predict(batch_images)\n",
    "    pred_texts.append(decode_batch_predictions(preds))\n",
    "\n",
    "    for label in batch_labels:\n",
    "        label = tf.strings.reduce_join(num_to_char(label)).numpy().decode(\"utf-8\")\n",
    "        orig_texts.append(label)"
   ]
  },
  {
   "cell_type": "code",
   "execution_count": 143,
   "metadata": {
    "scrolled": true
   },
   "outputs": [
    {
     "data": {
      "text/plain": [
       "15.909090909090908"
      ]
     },
     "execution_count": 143,
     "metadata": {},
     "output_type": "execute_result"
    }
   ],
   "source": [
    "cmp = [pred_texts[i][0] == orig_texts[i] for i in range(len(x_test3))]\n",
    "trues = np.sum(cmp)\n",
    "acc = trues/len(cmp)*100\n",
    "acc"
   ]
  },
  {
   "cell_type": "code",
   "execution_count": 144,
   "metadata": {
    "collapsed": true
   },
   "outputs": [
    {
     "name": "stdout",
     "output_type": "stream",
     "text": [
      "Predicted: ABPQRC | Original:  ABMNOC\n",
      "Predicted: ABPQRC | Original:  ABMNOC\n",
      "Predicted: ABPQRC | Original:  ABJKLC\n",
      "Predicted: ABPQRC | Original:  ABGHIC\n",
      "Predicted: ABPEFC | Original:  ABMNOC\n",
      "Predicted: ABPQRC | Original:  ABJKLC\n",
      "Predicted: ABPQRC | Original:  ABDEFC\n",
      "Predicted: ABPQRC | Original:  ABJKLC\n",
      "Predicted: ABPQRC | Original:  ABDEFC\n",
      "Predicted: ABPQRC | Original:  ABDEFC\n",
      "Predicted: ABPQRC | Original:  ABGHIC\n",
      "Predicted: ABPQRC | Original:  ABMNOC\n",
      "Predicted: ABPQRC | Original:  ABGHIC\n",
      "Predicted: ABPQRC | Original:  ABMNOC\n",
      "Predicted: ABPQRC | Original:  ABDEFC\n",
      "Predicted: ABPQRC | Original:  ABJKLC\n",
      "Predicted: ABPQRC | Original:  ABJKLC\n",
      "Predicted: ABPQRC | Original:  ABJKLC\n",
      "Predicted: ABDQRC | Original:  ABPQRC\n",
      "Predicted: ABPQRC | Original:  ABJKLC\n",
      "Predicted: ABDQRC | Original:  ABJKLC\n",
      "Predicted: ABPQRC | Original:  ABMNOC\n",
      "Predicted: ABDQRC | Original:  ABMNOC\n",
      "Predicted: ABPQRC | Original:  ABMNOC\n",
      "Predicted: ABPQRC | Original:  ABPQRC\n",
      "Predicted: ABDEFC | Original:  ABJKLC\n",
      "Predicted: ABPQRC | Original:  ABDEFC\n",
      "Predicted: ABPQRC | Original:  ABDEFC\n",
      "Predicted: ABPQRC | Original:  ABPQRC\n",
      "Predicted: ABPQRC | Original:  ABGHIC\n",
      "Predicted: ABDQRC | Original:  ABPQRC\n",
      "Predicted: ABPQRC | Original:  ABMNOC\n",
      "Predicted: ABPQRC | Original:  ABMNOC\n",
      "Predicted: ABPQRC | Original:  ABJKLC\n",
      "Predicted: ABPQRC | Original:  ABDEFC\n",
      "Predicted: ABPQRC | Original:  ABMNOC\n",
      "Predicted: ABPQRC | Original:  ABMNOC\n",
      "Predicted: ABPQRC | Original:  ABMNOC\n",
      "Predicted: ABPQRC | Original:  ABJKLC\n",
      "Predicted: ABPQRC | Original:  ABDEFC\n",
      "Predicted: ABPQRC | Original:  ABGHIC\n",
      "Predicted: ABPQRC | Original:  ABJKLC\n",
      "Predicted: ABPQRC | Original:  ABGHIC\n",
      "Predicted: ABPQRC | Original:  ABPQRC\n",
      "Predicted: ABDQRC | Original:  ABMNOC\n",
      "Predicted: ABDEFC | Original:  ABDEFC\n",
      "Predicted: ABPQRC | Original:  ABGHIC\n",
      "Predicted: ABPQRC | Original:  ABMNOC\n",
      "Predicted: ABPQRC | Original:  ABDEFC\n",
      "Predicted: ABDQRC | Original:  ABPQRC\n",
      "Predicted: ABPQRC | Original:  ABGHIC\n",
      "Predicted: ABPQRC | Original:  ABPQRC\n",
      "Predicted: ABPQRC | Original:  ABPQRC\n",
      "Predicted: ABPQRC | Original:  ABPQRC\n",
      "Predicted: ABDEFC | Original:  ABPQRC\n",
      "Predicted: ABDEFC | Original:  ABJKLC\n",
      "Predicted: ABPQRC | Original:  ABJKLC\n",
      "Predicted: ABPQRC | Original:  ABPQRC\n",
      "Predicted: ABPQRC | Original:  ABMNOC\n",
      "Predicted: ABPQRC | Original:  ABPQRC\n",
      "Predicted: ABDEFC | Original:  ABDEFC\n",
      "Predicted: ABPQRC | Original:  ABDEFC\n",
      "Predicted: ABPQRC | Original:  ABDEFC\n",
      "Predicted: ABPQRC | Original:  ABJKLC\n",
      "Predicted: ABPQRC | Original:  ABMNOC\n",
      "Predicted: ABPQRC | Original:  ABGHIC\n",
      "Predicted: ABPQRC | Original:  ABMNOC\n",
      "Predicted: ABPQRC | Original:  ABGHIC\n",
      "Predicted: ABPQRC | Original:  ABGHIC\n",
      "Predicted: ABDQFC | Original:  ABGHIC\n",
      "Predicted: ABPQRC | Original:  ABMNOC\n",
      "Predicted: ABPQRC | Original:  ABPQRC\n",
      "Predicted: ABPQRC | Original:  ABGHIC\n",
      "Predicted: ABPQRC | Original:  ABMNOC\n",
      "Predicted: ABPQRC | Original:  ABJKLC\n",
      "Predicted: ABPQRC | Original:  ABMNOC\n",
      "Predicted: ABPQRC | Original:  ABMNOC\n",
      "Predicted: ABPQRC | Original:  ABPQRC\n",
      "Predicted: ABPQRC | Original:  ABMNOC\n",
      "Predicted: ABPQRC | Original:  ABMNOC\n",
      "Predicted: ABPQRC | Original:  ABGHIC\n",
      "Predicted: ABPQRC | Original:  ABGHIC\n",
      "Predicted: ABPQRC | Original:  ABDEFC\n",
      "Predicted: ABPQRC | Original:  ABPQRC\n",
      "Predicted: ABPQRC | Original:  ABMNOC\n",
      "Predicted: ABPQRC | Original:  ABDEFC\n",
      "Predicted: ABPQRC | Original:  ABGHIC\n",
      "Predicted: ABPQRC | Original:  ABGHIC\n",
      "Predicted: ABPQRC | Original:  ABMNOC\n",
      "Predicted: ABPQRC | Original:  ABGHIC\n",
      "Predicted: ABDQRC | Original:  ABJKLC\n",
      "Predicted: ABDQRC | Original:  ABDEFC\n",
      "Predicted: ABDEFC | Original:  ABGHIC\n",
      "Predicted: ABDEFC | Original:  ABPQRC\n",
      "Predicted: ABPQRC | Original:  ABMNOC\n",
      "Predicted: ABDEFC | Original:  ABMNOC\n",
      "Predicted: ABPQRC | Original:  ABPQRC\n",
      "Predicted: ABPQRC | Original:  ABGHIC\n",
      "Predicted: ABPQRC | Original:  ABPQRC\n",
      "Predicted: ABPQRC | Original:  ABGHIC\n",
      "Predicted: ABPQRC | Original:  ABGHIC\n",
      "Predicted: ABPQRC | Original:  ABPQRC\n",
      "Predicted: ABDERC | Original:  ABJKLC\n",
      "Predicted: ABPQRC | Original:  ABJKLC\n",
      "Predicted: ABPQRC | Original:  ABDEFC\n",
      "Predicted: ABPQRC | Original:  ABJKLC\n",
      "Predicted: ABDEFC | Original:  ABMNOC\n",
      "Predicted: ABPQRC | Original:  ABJKLC\n",
      "Predicted: ABPQRC | Original:  ABMNOC\n",
      "Predicted: ABPQRC | Original:  ABPQRC\n",
      "Predicted: ABDEFC | Original:  ABPQRC\n",
      "Predicted: ABPQRC | Original:  ABMNOC\n",
      "Predicted: ABPQRC | Original:  ABMNOC\n",
      "Predicted: ABPQRC | Original:  ABDEFC\n",
      "Predicted: ABPQRC | Original:  ABDEFC\n",
      "Predicted: ABPQRC | Original:  ABPQRC\n",
      "Predicted: ABPQRC | Original:  ABJKLC\n",
      "Predicted: ABPQRC | Original:  ABGHIC\n",
      "Predicted: ABDEFC | Original:  ABJKLC\n",
      "Predicted: ABPQRC | Original:  ABMNOC\n",
      "Predicted: ABPQRC | Original:  ABDEFC\n",
      "Predicted: ABPQRC | Original:  ABJKLC\n",
      "Predicted: ABPQRC | Original:  ABDEFC\n",
      "Predicted: ABPQRC | Original:  ABPQRC\n",
      "Predicted: ABPQRC | Original:  ABGHIC\n",
      "Predicted: ABPQRC | Original:  ABPQRC\n",
      "Predicted: ABPQRC | Original:  ABJKLC\n",
      "Predicted: ABPQRC | Original:  ABJKLC\n",
      "Predicted: ABPQRC | Original:  ABPQRC\n",
      "Predicted: ABPQRC | Original:  ABGHIC\n",
      "Predicted: ABDEIC | Original:  ABPQRC\n",
      "Predicted: ABDEFC | Original:  ABGHIC\n"
     ]
    }
   ],
   "source": [
    "idx = 2\n",
    "for idx in range(len(x_test3)):\n",
    "    print('Predicted: ' + pred_texts[idx][0] + ' | Original:  ' + orig_texts[idx])"
   ]
  },
  {
   "cell_type": "markdown",
   "metadata": {},
   "source": [
    "## Single image CTC"
   ]
  },
  {
   "cell_type": "code",
   "execution_count": 146,
   "metadata": {},
   "outputs": [
    {
     "data": {
      "text/plain": [
       "(128, 128, 3)"
      ]
     },
     "execution_count": 146,
     "metadata": {},
     "output_type": "execute_result"
    }
   ],
   "source": [
    "input_shape4 = (x_test4.shape[1],x_test4.shape[2],x_test4.shape[3])\n",
    "input_shape4"
   ]
  },
  {
   "cell_type": "code",
   "execution_count": 189,
   "metadata": {},
   "outputs": [],
   "source": [
    "def ctc_md_v2():\n",
    "    with tf.device('/gpu:2'):\n",
    "        \n",
    "        inputlayer4 = Input(shape = input_shape4, name=\"image\")\n",
    "        labels = Input(name=\"label\", shape=(None,))#, dtype=\"float32\")\n",
    "        \n",
    "        x = Conv2D(32, kernel_size=(3, 3), padding='same', activation='relu')(inputlayer4)\n",
    "        x = MaxPooling2D(pool_size=(2,2))(x)\n",
    "        x = Conv2D(64, kernel_size=(3, 3), padding='same', activation='relu')(x)\n",
    "        x = MaxPooling2D(pool_size=(2,2))(x)\n",
    "        x = Conv2D(64, kernel_size=(3, 3), padding='same', activation='relu')(x)\n",
    "        x = MaxPooling2D(pool_size=(2,2))(x)\n",
    "#         x = MaxPooling2D(pool_size=(8,1)))(x)\n",
    "#         x = TimeDistributed(Flatten())(x)\n",
    "        new_shape = (-1, (x_test4.shape[2]//2**3) * 64)\n",
    "        x = Reshape(target_shape=new_shape, name=\"reshape\")(x)\n",
    "        x = Dense(64, activation=\"relu\", name=\"dense1\")(x)\n",
    "        x = Dropout(0.2)(x)\n",
    "        x = Bidirectional(LSTM(128, dropout=0.25, return_sequences=True))(x)\n",
    "        x = Bidirectional(LSTM(64, dropout=0.25, return_sequences=True))(x)\n",
    "        \n",
    "        x = Dense(len(characters) + 1, activation='softmax', name=\"dense2\")(x)\n",
    "        # Add CTC layer for calculating CTC loss at each step\n",
    "        output = CTCLayer(name=\"ctc_loss\")(labels, x)\n",
    "    \n",
    "        model = keras.Model(inputs = [inputlayer4, labels], outputs = [output], name=\"ctc_model_v2\")\n",
    "        opt = Adam(lr=1e-3, decay=1e-3 / 200)\n",
    "        \n",
    "        model.compile(optimizer=opt)\n",
    "        return model"
   ]
  },
  {
   "cell_type": "code",
   "execution_count": 1,
   "metadata": {},
   "outputs": [
    {
     "ename": "NameError",
     "evalue": "name 'ctc_md_v2' is not defined",
     "output_type": "error",
     "traceback": [
      "\u001b[0;31m---------------------------------------------------------------------------\u001b[0m",
      "\u001b[0;31mNameError\u001b[0m                                 Traceback (most recent call last)",
      "\u001b[0;32m<ipython-input-1-28c2384fe13b>\u001b[0m in \u001b[0;36m<module>\u001b[0;34m\u001b[0m\n\u001b[0;32m----> 1\u001b[0;31m \u001b[0mmodel\u001b[0m \u001b[0;34m=\u001b[0m \u001b[0mctc_md_v2\u001b[0m\u001b[0;34m(\u001b[0m\u001b[0;34m)\u001b[0m\u001b[0;34m\u001b[0m\u001b[0;34m\u001b[0m\u001b[0m\n\u001b[0m\u001b[1;32m      2\u001b[0m \u001b[0mmodel\u001b[0m\u001b[0;34m.\u001b[0m\u001b[0msummary\u001b[0m\u001b[0;34m(\u001b[0m\u001b[0mline_length\u001b[0m\u001b[0;34m=\u001b[0m\u001b[0;36m125\u001b[0m\u001b[0;34m)\u001b[0m\u001b[0;34m\u001b[0m\u001b[0;34m\u001b[0m\u001b[0m\n",
      "\u001b[0;31mNameError\u001b[0m: name 'ctc_md_v2' is not defined"
     ]
    }
   ],
   "source": [
    "model = ctc_md_v2()\n",
    "model.summary(line_length=125)"
   ]
  },
  {
   "cell_type": "code",
   "execution_count": 191,
   "metadata": {},
   "outputs": [],
   "source": [
    "train_dataset = tf.data.Dataset.from_tensor_slices((x_train4, ctc_tr))\n",
    "train_dataset = (\n",
    "    train_dataset.map(\n",
    "        encode_single_sample, num_parallel_calls=tf.data.experimental.AUTOTUNE\n",
    "    )\n",
    "    .batch(batch_size)\n",
    "    .prefetch(buffer_size=tf.data.experimental.AUTOTUNE)\n",
    ")\n",
    "\n",
    "validation_dataset = tf.data.Dataset.from_tensor_slices((x_test4, ctc_ts))\n",
    "validation_dataset = (\n",
    "    validation_dataset.map(\n",
    "        encode_single_sample, num_parallel_calls=tf.data.experimental.AUTOTUNE\n",
    "    )\n",
    "    .batch(batch_size)\n",
    "    .prefetch(buffer_size=tf.data.experimental.AUTOTUNE)\n",
    ")"
   ]
  },
  {
   "cell_type": "code",
   "execution_count": 192,
   "metadata": {},
   "outputs": [
    {
     "data": {
      "image/png": "[encoded data removed]",
      "text/plain": [
       "<Figure size 864x576 with 1 Axes>"
      ]
     },
     "metadata": {
      "needs_background": "light"
     },
     "output_type": "display_data"
    },
    {
     "name": "stdout",
     "output_type": "stream",
     "text": [
      "Loss\n",
      "\ttraining         \t (min:    0.028, max:   76.085, cur:    0.385)\n",
      "\tvalidation       \t (min:    1.036, max:   22.237, cur:    2.943)\n",
      "\b\b\b\b\b\b\b\b\b\b\b\b\b\b\b\b\b\b\b\b\b\b\b\b\b\b\b\b\b\b\b\b\b\b\b\b\b\b\b\b\b\b\b\b\b\b\b\b\b\b\b\b\b\b\b\b\b\b\b\b\b\b\b\b\b\r",
      "527/527 [==============================] - 10s 19ms/step - loss: 0.3854 - val_loss: 2.9427\n"
     ]
    }
   ],
   "source": [
    "history = model.fit(\n",
    "    train_dataset,\n",
    "    validation_data=validation_dataset,\n",
    "    batch_size = 1,\n",
    "    epochs=epochs,\n",
    "    callbacks=[early_stopping, PlotLossesKerasTF()],\n",
    "    verbose = 1\n",
    ")"
   ]
  },
  {
   "cell_type": "code",
   "execution_count": 193,
   "metadata": {},
   "outputs": [],
   "source": [
    "# Get the prediction model by extracting layers till the output layer\n",
    "prediction_model = keras.models.Model(\n",
    "    model.get_layer(name=\"image\").input, model.get_layer(name=\"dense2\").output\n",
    ")\n",
    "# prediction_model.summary()"
   ]
  },
  {
   "cell_type": "code",
   "execution_count": 226,
   "metadata": {},
   "outputs": [],
   "source": [
    "orig_texts = []\n",
    "pred_texts = []\n",
    "pred = []\n",
    "for batch in validation_dataset.take(len(x_test3)):\n",
    "    batch_images = batch[\"img\"]\n",
    "    batch_labels = batch[\"label\"]\n",
    "\n",
    "    preds = prediction_model.predict(batch_images)\n",
    "    pred.append(np.squeeze(np.argmax(preds,-1)))\n",
    "    pred_texts.append(decode_batch_predictions(preds))\n",
    "\n",
    "    for label in batch_labels:\n",
    "        label = tf.strings.reduce_join(num_to_char(label)).numpy().decode(\"utf-8\")\n",
    "        orig_texts.append(label)"
   ]
  },
  {
   "cell_type": "code",
   "execution_count": 227,
   "metadata": {
    "collapsed": true
   },
   "outputs": [
    {
     "name": "stdout",
     "output_type": "stream",
     "text": [
      "Sequence Accuracy (%): 73.48484848484848\n",
      "Predicted: ABMNOC | ABMNOC :Original\n",
      "Predicted: ABMNOC | ABMNOC :Original\n",
      "Predicted: ABJKLC | ABJKLC :Original\n",
      "Predicted: ABGHIC | ABGHIC :Original\n",
      "Predicted: ABGHIC | ABMNOC :Original\n",
      "Predicted: ABJKLC | ABJKLC :Original\n",
      "Predicted: ABDEFC | ABDEFC :Original\n",
      "Predicted: ABJKLC | ABJKLC :Original\n",
      "Predicted: ABDEFC | ABDEFC :Original\n",
      "Predicted: ABDEFC | ABDEFC :Original\n",
      "Predicted: ABJKLC | ABGHIC :Original\n",
      "Predicted: ABMNOC | ABMNOC :Original\n",
      "Predicted: ABGHIC | ABGHIC :Original\n",
      "Predicted: ABMNOC | ABMNOC :Original\n",
      "Predicted: ABDEFC | ABDEFC :Original\n",
      "Predicted: ABJKLC | ABJKLC :Original\n",
      "Predicted: ABJKLC | ABJKLC :Original\n",
      "Predicted: ABJKLC | ABJKLC :Original\n",
      "Predicted: ABPQOC | ABPQRC :Original\n",
      "Predicted: ABJKLC | ABJKLC :Original\n",
      "Predicted: ABJKLC | ABJKLC :Original\n",
      "Predicted: ABMNOC | ABMNOC :Original\n",
      "Predicted: ABPQRC | ABMNOC :Original\n",
      "Predicted: ABMNOC | ABMNOC :Original\n",
      "Predicted: ABDEFC | ABPQRC :Original\n",
      "Predicted: ABJKLC | ABJKLC :Original\n",
      "Predicted: ABDEFC | ABDEFC :Original\n",
      "Predicted: ABDEFC | ABDEFC :Original\n",
      "Predicted: ABPQRC | ABPQRC :Original\n",
      "Predicted: ABGHIC | ABGHIC :Original\n",
      "Predicted: ABPQRC | ABPQRC :Original\n",
      "Predicted: ABMNOC | ABMNOC :Original\n",
      "Predicted: ABPNOC | ABMNOC :Original\n",
      "Predicted: ABJKLC | ABJKLC :Original\n",
      "Predicted: ABDEFC | ABDEFC :Original\n",
      "Predicted: ABMNOC | ABMNOC :Original\n",
      "Predicted: ABMNOC | ABMNOC :Original\n",
      "Predicted: ABMNOC | ABMNOC :Original\n",
      "Predicted: ABJKLC | ABJKLC :Original\n",
      "Predicted: ABDEFC | ABDEFC :Original\n",
      "Predicted: ABGHRC | ABGHIC :Original\n",
      "Predicted: ABJKLC | ABJKLC :Original\n",
      "Predicted: ABMNOC | ABGHIC :Original\n",
      "Predicted: ABMNOC | ABPQRC :Original\n",
      "Predicted: ABMNOC | ABMNOC :Original\n",
      "Predicted: ABDEFC | ABDEFC :Original\n",
      "Predicted: ABGHIC | ABGHIC :Original\n",
      "Predicted: ABMNOC | ABMNOC :Original\n",
      "Predicted: ABJKLC | ABDEFC :Original\n",
      "Predicted: ABPQRC | ABPQRC :Original\n",
      "Predicted: ABGHIC | ABGHIC :Original\n",
      "Predicted: ABPQRC | ABPQRC :Original\n",
      "Predicted: ABPQRC | ABPQRC :Original\n",
      "Predicted: ABMNOC | ABPQRC :Original\n",
      "Predicted: ABPNOC | ABPQRC :Original\n",
      "Predicted: ABJKLC | ABJKLC :Original\n",
      "Predicted: ABJKLC | ABJKLC :Original\n",
      "Predicted: ABPNOC | ABPQRC :Original\n",
      "Predicted: ABMNOC | ABMNOC :Original\n",
      "Predicted: ABDEFC | ABPQRC :Original\n",
      "Predicted: ABDEFC | ABDEFC :Original\n",
      "Predicted: ABDEFC | ABDEFC :Original\n",
      "Predicted: ABJKLC | ABDEFC :Original\n",
      "Predicted: ABJKLC | ABJKLC :Original\n",
      "Predicted: ABMNOC | ABMNOC :Original\n",
      "Predicted: ABJKLC | ABGHIC :Original\n",
      "Predicted: ABMNOC | ABMNOC :Original\n",
      "Predicted: ABGHIC | ABGHIC :Original\n",
      "Predicted: ABJKLC | ABGHIC :Original\n",
      "Predicted: ABGHIC | ABGHIC :Original\n",
      "Predicted: ABMNOC | ABMNOC :Original\n",
      "Predicted: ABMNOC | ABPQRC :Original\n",
      "Predicted: ABGHIC | ABGHIC :Original\n",
      "Predicted: ABMNOC | ABMNOC :Original\n",
      "Predicted: ABJKLC | ABJKLC :Original\n",
      "Predicted: ABMNOC | ABMNOC :Original\n",
      "Predicted: ABMNOC | ABMNOC :Original\n",
      "Predicted: ABPQRC | ABPQRC :Original\n",
      "Predicted: ABMNOC | ABMNOC :Original\n",
      "Predicted: ABMNOC | ABMNOC :Original\n",
      "Predicted: ABGHRC | ABGHIC :Original\n",
      "Predicted: ABGHIC | ABGHIC :Original\n",
      "Predicted: ABJKLC | ABDEFC :Original\n",
      "Predicted: ABMNOC | ABPQRC :Original\n",
      "Predicted: ABMNOC | ABMNOC :Original\n",
      "Predicted: ABMNOC | ABDEFC :Original\n",
      "Predicted: ABDEFC | ABGHIC :Original\n",
      "Predicted: ABGHIC | ABGHIC :Original\n",
      "Predicted: ABMNOC | ABMNOC :Original\n",
      "Predicted: ABGHIC | ABGHIC :Original\n",
      "Predicted: ABJKLC | ABJKLC :Original\n",
      "Predicted: ABMNOC | ABDEFC :Original\n",
      "Predicted: ABGHIC | ABGHIC :Original\n",
      "Predicted: ABPQRC | ABPQRC :Original\n",
      "Predicted: ABMNOC | ABMNOC :Original\n",
      "Predicted: ABMNOC | ABMNOC :Original\n",
      "Predicted: ABPHRC | ABPQRC :Original\n",
      "Predicted: ABGHIC | ABGHIC :Original\n",
      "Predicted: ABMNOC | ABPQRC :Original\n",
      "Predicted: ABGHIC | ABGHIC :Original\n",
      "Predicted: ABGHIC | ABGHIC :Original\n",
      "Predicted: ABPQRC | ABPQRC :Original\n",
      "Predicted: ABJKLC | ABJKLC :Original\n",
      "Predicted: ABJKLC | ABJKLC :Original\n",
      "Predicted: ABGHOC | ABDEFC :Original\n",
      "Predicted: ABJKLC | ABJKLC :Original\n",
      "Predicted: ABMNOC | ABMNOC :Original\n",
      "Predicted: ABJHIC | ABJKLC :Original\n",
      "Predicted: ABMNOC | ABMNOC :Original\n",
      "Predicted: ABPQRC | ABPQRC :Original\n",
      "Predicted: ABGHIC | ABPQRC :Original\n",
      "Predicted: ABMNOC | ABMNOC :Original\n",
      "Predicted: ABMNOC | ABMNOC :Original\n",
      "Predicted: ABDEFC | ABDEFC :Original\n",
      "Predicted: ABJKLC | ABDEFC :Original\n",
      "Predicted: ABPQRC | ABPQRC :Original\n",
      "Predicted: ABJKLC | ABJKLC :Original\n",
      "Predicted: ABGHIC | ABGHIC :Original\n",
      "Predicted: ABJKLC | ABJKLC :Original\n",
      "Predicted: ABMNOC | ABMNOC :Original\n",
      "Predicted: ABDEFC | ABDEFC :Original\n",
      "Predicted: ABJKIC | ABJKLC :Original\n",
      "Predicted: ABDEFC | ABDEFC :Original\n",
      "Predicted: ABDEFC | ABPQRC :Original\n",
      "Predicted: ABGHIC | ABGHIC :Original\n",
      "Predicted: ABPQRC | ABPQRC :Original\n",
      "Predicted: ABJHRC | ABJKLC :Original\n",
      "Predicted: ABJKLC | ABJKLC :Original\n",
      "Predicted: ABPQRC | ABPQRC :Original\n",
      "Predicted: ABGHIC | ABGHIC :Original\n",
      "Predicted: ABPKRC | ABPQRC :Original\n",
      "Predicted: ABJKLC | ABGHIC :Original\n"
     ]
    }
   ],
   "source": [
    "cmp = [pred_texts[i][0] == orig_texts[i] for i in range(len(x_test3))]\n",
    "trues = np.sum(cmp)\n",
    "acc = trues/len(cmp)*100\n",
    "print('Sequence Accuracy (%): ' + str(acc))\n",
    "# sequence prediction\n",
    "for idx in range(len(x_test3)):\n",
    "    print('Predicted: ' + pred_texts[idx][0] + ' | ' + orig_texts[idx] + ' :Original')"
   ]
  },
  {
   "cell_type": "code",
   "execution_count": 228,
   "metadata": {},
   "outputs": [
    {
     "name": "stdout",
     "output_type": "stream",
     "text": [
      "Elementwise Accuracy (%): 89.01515151515152\n"
     ]
    }
   ],
   "source": [
    "cmp = [pred_texts[i][0][j] == orig_texts[i][j] for i in range(len(x_test3)) for j in range(len(orig_texts[i]))]\n",
    "trues = np.sum(cmp)\n",
    "acc = trues/len(cmp)*100\n",
    "print('Elementwise Accuracy (%): ' + str(acc))\n",
    "# sequence prediction\n",
    "# for idx in range(len(x_test3)):\n",
    "#     print('Predicted: ' + pred_texts[idx][0] + ' | Original:  ' + orig_texts[idx])"
   ]
  },
  {
   "cell_type": "code",
   "execution_count": 213,
   "metadata": {
    "scrolled": true
   },
   "outputs": [
    {
     "data": {
      "text/plain": [
       "(132, 16)"
      ]
     },
     "execution_count": 213,
     "metadata": {},
     "output_type": "execute_result"
    }
   ],
   "source": [
    "np.array(pred).shape"
   ]
  },
  {
   "cell_type": "code",
   "execution_count": 221,
   "metadata": {},
   "outputs": [
    {
     "name": "stdout",
     "output_type": "stream",
     "text": [
      "AAAABBMNOCCCCCCC\n"
     ]
    }
   ],
   "source": [
    "pred_labels = []\n",
    "\n",
    "cnt = 1\n",
    "for p in pred:\n",
    "    label = ''\n",
    "    for num in p:\n",
    "        label = label + chr(ord('@')+num)\n",
    "    label = tf.strings.reduce_join(num_to_char(p)).numpy().decode(\"utf-8\")\n",
    "    pred_labels.append(label)\n",
    "pred_labels = np.array(pred_labels)  \n",
    "print(pred_labels[1])"
   ]
  },
  {
   "cell_type": "code",
   "execution_count": 223,
   "metadata": {
    "collapsed": true
   },
   "outputs": [
    {
     "name": "stdout",
     "output_type": "stream",
     "text": [
      "Sequence Accuracy (%): 0.0\n",
      "Predicted: AAAABBMNOCCCCCCC | ABMNOC :Original\n",
      "Predicted: AAAABBMNOCCCCCCC | ABMNOC :Original\n",
      "Predicted: AAAABBJKLCCCCCCC | ABJKLC :Original\n",
      "Predicted: AAAABBGHICCCCCCC | ABGHIC :Original\n",
      "Predicted: AAAAABGHICCCCCCC | ABMNOC :Original\n",
      "Predicted: AAAABBJKLCCCCCCC | ABJKLC :Original\n",
      "Predicted: AAAABBDEFCCCCCCC | ABDEFC :Original\n",
      "Predicted: AAAABBJKLCCCCCCC | ABJKLC :Original\n",
      "Predicted: AAAABBDEFCCCCCCC | ABDEFC :Original\n",
      "Predicted: AAABBBDEFCCCCCCC | ABDEFC :Original\n",
      "Predicted: AAAABBJKLCCCCCCC | ABGHIC :Original\n",
      "Predicted: AAAABBMNOCCCCCCC | ABMNOC :Original\n",
      "Predicted: AAABBBGHICCCCCCC | ABGHIC :Original\n",
      "Predicted: AAAABBMNOCCCCCCC | ABMNOC :Original\n",
      "Predicted: AAAABBDEFCCCCCCC | ABDEFC :Original\n",
      "Predicted: AAAABBJKLCCCCCCC | ABJKLC :Original\n",
      "Predicted: AAAABBJKLCCCCCCC | ABJKLC :Original\n",
      "Predicted: AAAABBJKLCCCCCCC | ABJKLC :Original\n",
      "Predicted: AAAABBPQOCCCCCCC | ABPQRC :Original\n",
      "Predicted: AAAABBJKLCCCCCCC | ABJKLC :Original\n",
      "Predicted: AAAABBJKLCCCCCCC | ABJKLC :Original\n",
      "Predicted: AAAABBMNOCCCCCCC | ABMNOC :Original\n",
      "Predicted: AAAABBPQRCCCCCCC | ABMNOC :Original\n",
      "Predicted: AAAABBMNOCCCCCCC | ABMNOC :Original\n",
      "Predicted: AAABBBDEFCCCCCCC | ABPQRC :Original\n",
      "Predicted: AAAABBJKLCCCCCCC | ABJKLC :Original\n",
      "Predicted: AAABBBDEFCCCCCCC | ABDEFC :Original\n",
      "Predicted: AAAABBDEFCCCCCCC | ABDEFC :Original\n",
      "Predicted: AAAABBPQRCCCCCCC | ABPQRC :Original\n",
      "Predicted: AAAABBGHICCCCCCC | ABGHIC :Original\n",
      "Predicted: AAAABBPQRCCCCCCC | ABPQRC :Original\n",
      "Predicted: AAAABBMNOCCCCCCC | ABMNOC :Original\n",
      "Predicted: AAAABBPNOCCCCCCC | ABMNOC :Original\n",
      "Predicted: AAAABBJKLCCCCCCC | ABJKLC :Original\n",
      "Predicted: AAAABBDEFCCCCCCC | ABDEFC :Original\n",
      "Predicted: AAAABBMNOCCCCCCC | ABMNOC :Original\n",
      "Predicted: AAAABBMNOCCCCCCC | ABMNOC :Original\n",
      "Predicted: AAAABBMNOCCCCCCC | ABMNOC :Original\n",
      "Predicted: AAAABBJKLCCCCCCC | ABJKLC :Original\n",
      "Predicted: AAAABBDEFCCCCCCC | ABDEFC :Original\n",
      "Predicted: AAAABBGHRCCCCCCC | ABGHIC :Original\n",
      "Predicted: AAAABBJKLCCCCCCC | ABJKLC :Original\n",
      "Predicted: AAAABBMNOCCCCCCC | ABGHIC :Original\n",
      "Predicted: AAAABBMNOCCCCCCC | ABPQRC :Original\n",
      "Predicted: AAABBBMNOCCCCCCC | ABMNOC :Original\n",
      "Predicted: AAAABBDEFCCCCCCC | ABDEFC :Original\n",
      "Predicted: AAAABBGHICCCCCCC | ABGHIC :Original\n",
      "Predicted: AAAABBMNOCCCCCCC | ABMNOC :Original\n",
      "Predicted: AAAABBJKLCCCCCCC | ABDEFC :Original\n",
      "Predicted: AAAABBPQRCCCCCCC | ABPQRC :Original\n",
      "Predicted: AAABBBGHICCCCCCC | ABGHIC :Original\n",
      "Predicted: AAAABBPQRCCCCCCC | ABPQRC :Original\n",
      "Predicted: AAAABBPQRCCCCCCC | ABPQRC :Original\n",
      "Predicted: AAAABBMNOCCCCCCC | ABPQRC :Original\n",
      "Predicted: AAAABBPNOCCCCCCC | ABPQRC :Original\n",
      "Predicted: AAAABBJKLCCCCCCC | ABJKLC :Original\n",
      "Predicted: AAAABBJKLCCCCCCC | ABJKLC :Original\n",
      "Predicted: AAAABBPNOCCCCCCC | ABPQRC :Original\n",
      "Predicted: AAAABBMNOCCCCCCC | ABMNOC :Original\n",
      "Predicted: AAAABBDEFCCCCCCC | ABPQRC :Original\n",
      "Predicted: AAAABBDEFCCCCCCC | ABDEFC :Original\n",
      "Predicted: AAAABBDEFCCCCCCC | ABDEFC :Original\n",
      "Predicted: AAAABBJKLCCCCCCC | ABDEFC :Original\n",
      "Predicted: AAAABBJKLCCCCCCC | ABJKLC :Original\n",
      "Predicted: AAAABBMNOCCCCCCC | ABMNOC :Original\n",
      "Predicted: AAAABBJKLCCCCCCC | ABGHIC :Original\n",
      "Predicted: AAAABBMNOCCCCCCC | ABMNOC :Original\n",
      "Predicted: AAAABBGHICCCCCCC | ABGHIC :Original\n",
      "Predicted: AAAABBJKLCCCCCCC | ABGHIC :Original\n",
      "Predicted: AAAABBGHICCCCCCC | ABGHIC :Original\n",
      "Predicted: AAAABBMNOCCCCCCC | ABMNOC :Original\n",
      "Predicted: AAAABBMNOCCCCCCC | ABPQRC :Original\n",
      "Predicted: AAAABBGHICCCCCCC | ABGHIC :Original\n",
      "Predicted: AAAABBMNOCCCCCCC | ABMNOC :Original\n",
      "Predicted: AAAABBJKLCCCCCCC | ABJKLC :Original\n",
      "Predicted: AAAABBMNOCCCCCCC | ABMNOC :Original\n",
      "Predicted: AAABBBMNOCCCCCCC | ABMNOC :Original\n",
      "Predicted: AAAABBPQRCCCCCCC | ABPQRC :Original\n",
      "Predicted: AABBBBMNOCCCCCCC | ABMNOC :Original\n",
      "Predicted: AAAABBMNOCCCCCCC | ABMNOC :Original\n",
      "Predicted: AAAABBGHRCCCCCCC | ABGHIC :Original\n",
      "Predicted: AAAABBGHICCCCCCC | ABGHIC :Original\n",
      "Predicted: AAAABBJKLCCCCCCC | ABDEFC :Original\n",
      "Predicted: AAAABBMNOCCCCCCC | ABPQRC :Original\n",
      "Predicted: AAAABBMNOCCCCCCC | ABMNOC :Original\n",
      "Predicted: AAAABBMNOCCCCCCC | ABDEFC :Original\n",
      "Predicted: AAAABBDEFCCCCCCC | ABGHIC :Original\n",
      "Predicted: AAAABBGHICCCCCCC | ABGHIC :Original\n",
      "Predicted: AAAABBMNOCCCCCCC | ABMNOC :Original\n",
      "Predicted: AAAABBGHICCCCCCC | ABGHIC :Original\n",
      "Predicted: AAAABBJKLCCCCCCC | ABJKLC :Original\n",
      "Predicted: AAAABBMNOCCCCCCC | ABDEFC :Original\n",
      "Predicted: AAABBBGHICCCCCCC | ABGHIC :Original\n",
      "Predicted: AAAABBPQRCCCCCCC | ABPQRC :Original\n",
      "Predicted: AAAABBMNOCCCCCCC | ABMNOC :Original\n",
      "Predicted: AAAABBMNOCCCCCCC | ABMNOC :Original\n",
      "Predicted: AAAABBPHRCCCCCCC | ABPQRC :Original\n",
      "Predicted: AAAABBGHICCCCCCC | ABGHIC :Original\n",
      "Predicted: AAABBBMNOCCCCCCC | ABPQRC :Original\n",
      "Predicted: AAAABBGHICCCCCCC | ABGHIC :Original\n",
      "Predicted: AAABBBGHICCCCCCC | ABGHIC :Original\n",
      "Predicted: AAAABBPQRCCCCCCC | ABPQRC :Original\n",
      "Predicted: AAABBBJKLCCCCCCC | ABJKLC :Original\n",
      "Predicted: AAAABBJKLCCCCCCC | ABJKLC :Original\n",
      "Predicted: AAAABBGHOCCCCCCC | ABDEFC :Original\n",
      "Predicted: AAAABBJKLCCCCCCC | ABJKLC :Original\n",
      "Predicted: AAAABBMNOCCCCCCC | ABMNOC :Original\n",
      "Predicted: AAAABBJHICCCCCCC | ABJKLC :Original\n",
      "Predicted: AAAABBMNOCCCCCCC | ABMNOC :Original\n",
      "Predicted: AAAABBPQRCCCCCCC | ABPQRC :Original\n",
      "Predicted: AAAABBGHICCCCCCC | ABPQRC :Original\n",
      "Predicted: AABBBBMNOCCCCCCC | ABMNOC :Original\n",
      "Predicted: AAAABBMNOCCCCCCC | ABMNOC :Original\n",
      "Predicted: AAABBBDEFCCCCCCC | ABDEFC :Original\n",
      "Predicted: AAAABBJKLCCCCCCC | ABDEFC :Original\n",
      "Predicted: AAAABBPQRCCCCCCC | ABPQRC :Original\n",
      "Predicted: AAAABBJKLCCCCCCC | ABJKLC :Original\n",
      "Predicted: AAABBBGHICCCCCCC | ABGHIC :Original\n",
      "Predicted: AAAABBJKLCCCCCCC | ABJKLC :Original\n",
      "Predicted: AAAABBMNOCCCCCCC | ABMNOC :Original\n",
      "Predicted: AAAABBDEFCCCCCCC | ABDEFC :Original\n",
      "Predicted: AAAABBJKICCCCCCC | ABJKLC :Original\n",
      "Predicted: AAAABBDEFCCCCCCC | ABDEFC :Original\n",
      "Predicted: AAAABBDEFCCCCCCC | ABPQRC :Original\n",
      "Predicted: AAAABBGHICCCCCCC | ABGHIC :Original\n",
      "Predicted: AAAABBPQRCCCCCCC | ABPQRC :Original\n",
      "Predicted: AAAAABJHRCCCCCCC | ABJKLC :Original\n",
      "Predicted: AAAABBJKLCCCCCCC | ABJKLC :Original\n",
      "Predicted: AAAABBPQRCCCCCCC | ABPQRC :Original\n",
      "Predicted: AAAABBGHICCCCCCC | ABGHIC :Original\n",
      "Predicted: AAAABBPKRCCCCCCC | ABPQRC :Original\n",
      "Predicted: AAAAABJKLCCCCCCC | ABGHIC :Original\n"
     ]
    }
   ],
   "source": [
    "cmp = [pred_labels[i][0] == orig_texts[i] for i in range(len(x_test3))]\n",
    "trues = np.sum(cmp)\n",
    "acc = trues/len(cmp)*100\n",
    "print('Sequence Accuracy (%): ' + str(acc))\n",
    "# sequence prediction\n",
    "for idx in range(len(x_test3)):\n",
    "    print('Predicted: ' + pred_labels[idx] + ' | ' + orig_texts[idx] + ' :Original')"
   ]
  },
  {
   "cell_type": "code",
   "execution_count": 197,
   "metadata": {},
   "outputs": [],
   "source": [
    "# save model\n",
    "MODEL_FILE = \"Models/ctc model md no nuc single spec.json\" # save path\n",
    "WEIGHT_FILE =\"Models/ctc model md no nuc single spec.h5\" # save path\n",
    "\n",
    "model_json = model.to_json()\n",
    "with open(MODEL_FILE, \"w\") as json_file:\n",
    "    json_file.write(model_json)\n",
    "model.save_weights(WEIGHT_FILE)"
   ]
  },
  {
   "cell_type": "markdown",
   "metadata": {},
   "source": [
    "# Train/Test with detected samples"
   ]
  },
  {
   "cell_type": "code",
   "execution_count": 22,
   "metadata": {},
   "outputs": [],
   "source": [
    "def num_to_ch(num):\n",
    "    label = ''\n",
    "    for ch in num:\n",
    "        label += chr(ord('@') + np.argmax(ch,-1)+1)\n",
    "    return label"
   ]
  },
  {
   "cell_type": "code",
   "execution_count": 23,
   "metadata": {},
   "outputs": [],
   "source": [
    "# convert detected labels\n",
    "ctc_tr3 = [num_to_ch(y) for y in y3train]\n",
    "ctc_ts3 = [num_to_ch(y) for y in y3test]"
   ]
  },
  {
   "cell_type": "code",
   "execution_count": 36,
   "metadata": {
    "scrolled": true
   },
   "outputs": [
    {
     "name": "stdout",
     "output_type": "stream",
     "text": [
      "Number of unique characters:  19\n",
      "Characters present:  ['A', 'B', 'C', 'D', 'E', 'F', 'G', 'H', 'I', 'J', 'K', 'L', 'M', 'N', 'O', 'P', 'Q', 'R', 'S']\n"
     ]
    }
   ],
   "source": [
    "characters3 = set(char for label in ctc_tr3 for char in label)\n",
    "print(\"Number of unique characters: \", len(characters3))\n",
    "print(\"Characters present: \", sorted(characters3))\n",
    "# print('Labels: ' + str(np.unique(ctc_tr3)))\n",
    "batch_size = 1"
   ]
  },
  {
   "cell_type": "code",
   "execution_count": 37,
   "metadata": {},
   "outputs": [],
   "source": [
    "train_dataset = data_generator_ctc(x1train, ctc_tr3)\n",
    "validation_dataset = data_generator_ctc(x1test, ctc_ts3)\n",
    "predict_generator = data_generator_ctc_nolabel(x1test, ctc_ts3)"
   ]
  },
  {
   "cell_type": "code",
   "execution_count": 38,
   "metadata": {
    "scrolled": true
   },
   "outputs": [
    {
     "data": {
      "text/plain": [
       "(None, 5, 128, 128, 3)"
      ]
     },
     "execution_count": 38,
     "metadata": {},
     "output_type": "execute_result"
    }
   ],
   "source": [
    "input_shape33 = (None,x3train[0].shape[1],x3train[0].shape[2],x3train[0].shape[3])\n",
    "input_shape_vid = (None,x1train[0].shape[1],x1train[0].shape[2],x1train[0].shape[3],x1train[0].shape[4])\n",
    "input_shape_vid"
   ]
  },
  {
   "cell_type": "code",
   "execution_count": 39,
   "metadata": {},
   "outputs": [],
   "source": [
    "def ctc_md3():\n",
    "    with tf.device('/gpu:2'):\n",
    "        \n",
    "        inputlayer3 = Input(shape = input_shape33, name=\"image\")\n",
    "        labels = Input(name=\"label\", shape=(None,))#, dtype=\"float32\")\n",
    "        \n",
    "        x = TimeDistributed(Conv2D(32, kernel_size=(3, 3), padding='same', activation='relu'))(inputlayer3)\n",
    "        x = TimeDistributed(MaxPooling2D(pool_size=(2,2)))(x)\n",
    "        x = TimeDistributed(Conv2D(64, kernel_size=(3, 3), padding='same', activation='relu'))(x)\n",
    "        x = TimeDistributed(MaxPooling2D(pool_size=(2,2)))(x)\n",
    "        x = TimeDistributed(Conv2D(64, kernel_size=(3, 3), padding='same', activation='relu'))(x)\n",
    "        x = TimeDistributed(MaxPooling2D(pool_size=(2,2)))(x)\n",
    "        x = TimeDistributed(MaxPooling2D(pool_size=(4,1)))(x)\n",
    "#         x = TimeDistributed(Flatten())(x)\n",
    "        new_shape = (-1, (128//2**3) *64)\n",
    "        x = Reshape(target_shape=new_shape, name=\"reshape\")(x)\n",
    "        x = Dense(64, activation=\"relu\", name=\"dense1\")(x)\n",
    "        x = Dropout(0.5)(x)\n",
    "#         x = Bidirectional(LSTM(128, dropout=0.5, return_sequences=True))(x)\n",
    "        x = Bidirectional(LSTM(64, dropout=0.5, return_sequences=True))(x)\n",
    "        \n",
    "        x = Dense(len(characters3) + 2, activation='softmax', name=\"dense2\")(x)\n",
    "        # Add CTC layer for calculating CTC loss at each step\n",
    "        output = CTCLayer(name=\"ctc_loss\")(labels, x)\n",
    "    \n",
    "        model = keras.Model(inputs = [inputlayer3, labels], outputs = [output], name=\"ctc_model_v1\")\n",
    "        opt = Adam(lr=1e-3, decay=1e-3 / 200)\n",
    "        \n",
    "        model.compile(optimizer=opt)\n",
    "        return model"
   ]
  },
  {
   "cell_type": "code",
   "execution_count": 40,
   "metadata": {},
   "outputs": [],
   "source": [
    "def ctc_rd():\n",
    "    with tf.device('/gpu:2'):\n",
    "        \n",
    "        inputlayer = Input(shape = input_shape_vid, name=\"rd\")\n",
    "#         inputlayer2 = Input(shape = input_shape_vid, name=\"ra\")\n",
    "#         inputlayer3 = Input(shape = input_shape, name=\"image\")\n",
    "        labels = Input(name=\"label\", shape=(None,))#, dtype=\"float32\")\n",
    "        \n",
    "        x = TimeDistributed(Conv3D(32, kernel_size=(3,3,3), padding='same', activation='relu'))(inputlayer)\n",
    "        x = TimeDistributed(MaxPooling3D(pool_size=(1,2,2)))(x)\n",
    "        x = TimeDistributed(Conv3D(64, kernel_size=(3,3,3), padding='same', activation='relu'))(x)\n",
    "        x = TimeDistributed(MaxPooling3D(pool_size=(1,2,2)))(x)\n",
    "        x = TimeDistributed(Conv3D(64, kernel_size=(3,3,3), padding='same', activation='relu'))(x)\n",
    "        x = TimeDistributed(MaxPooling3D(pool_size=(1,2,2)))(x)\n",
    "        x = TimeDistributed(MaxPooling3D(pool_size=(1,4,1)))(x)\n",
    "        new_shape = (-1, (128//2**3) *64 *5)\n",
    "        cnv1 = Reshape(target_shape=new_shape, name=\"reshape\")(x)\n",
    "        cnv1 = Dense(64, activation=\"relu\", name=\"dense1\")(cnv1)\n",
    "        cnv1 = Dropout(0.5)(cnv1)\n",
    "        cnv1 = Bidirectional(LSTM(128, dropout=0.5, return_sequences=True))(cnv1)\n",
    "        \n",
    "        x2 = Dense(len(characters3) + 2, activation='softmax', name=\"dense2\")(cnv1)\n",
    "        out_ctc = CTCLayer(name=\"ctc_loss\")(labels, x2)\n",
    "        \n",
    "        model = keras.Model(inputs = [inputlayer, labels], outputs = [out_ctc], name=\"ctc_model_v1\")\n",
    "        opt = Adam(lr=1e-3, decay=1e-3 / 200)\n",
    "        \n",
    "        model.compile(optimizer=opt)\n",
    "        \n",
    "        return model"
   ]
  },
  {
   "cell_type": "code",
   "execution_count": 41,
   "metadata": {
    "scrolled": true
   },
   "outputs": [],
   "source": [
    "model33 = ctc_rd()\n",
    "# model33.summary(line_length=120)"
   ]
  },
  {
   "cell_type": "code",
   "execution_count": 42,
   "metadata": {},
   "outputs": [
    {
     "data": {
      "image/png": "[encoded data removed]",
      "text/plain": [
       "<Figure size 864x576 with 1 Axes>"
      ]
     },
     "metadata": {
      "needs_background": "light"
     },
     "output_type": "display_data"
    },
    {
     "name": "stdout",
     "output_type": "stream",
     "text": [
      "Loss\n",
      "\ttraining         \t (min:    7.905, max:   27.867, cur:    7.905)\n",
      "\tvalidation       \t (min:   11.714, max:   21.390, cur:   12.767)\n",
      "\b\b\b\b\b\b\b\b\b\b\b\b\b\b\b\b\b\b\b\b\b\b\b\b\b\b\b\b\b\b\b\b\b\b\b\b\b\b\b\b\b\b\b\b\b\b\b\b\b\b\b\b\b\b\b\b\b\b\b\b\b\b\b\b\b\b\b\r",
      "3042/3042 [==============================] - 166s 55ms/step - loss: 7.9048 - val_loss: 12.7671\n"
     ]
    }
   ],
   "source": [
    "history = model33.fit(\n",
    "    train_dataset,\n",
    "    validation_data=validation_dataset,\n",
    "    batch_size = 1,\n",
    "    epochs=100,\n",
    "    steps_per_epoch = len(x3train), validation_steps = len(x3test),\n",
    "    callbacks=[early_stopping, PlotLossesKerasTF()],\n",
    "    verbose = 1\n",
    ")"
   ]
  },
  {
   "cell_type": "code",
   "execution_count": 44,
   "metadata": {},
   "outputs": [],
   "source": [
    "# Get the prediction model by extracting layers till the output layer\n",
    "prediction_model33 = keras.models.Model(\n",
    "    model33.get_layer(name=\"rd\").input, model33.get_layer(name=\"dense2\").output\n",
    ")\n",
    "# prediction_model.summary()"
   ]
  },
  {
   "cell_type": "code",
   "execution_count": 45,
   "metadata": {},
   "outputs": [],
   "source": [
    "pred = [np.argmax(np.squeeze(prediction_model33.predict(next(predict_generator))),-1) for i in range(len(x3test))]"
   ]
  },
  {
   "cell_type": "code",
   "execution_count": 46,
   "metadata": {},
   "outputs": [
    {
     "name": "stdout",
     "output_type": "stream",
     "text": [
      "CCCCCCCCC\n"
     ]
    }
   ],
   "source": [
    "# best path decoding\n",
    "pred_labels = []\n",
    "\n",
    "cnt = 1\n",
    "for p in pred:\n",
    "    label = ''\n",
    "    for num in p:\n",
    "        if chr(ord('@')+num) == 'T':# or chr(ord('@')+num) == 'A':\n",
    "            continue\n",
    "        label = label + chr(ord('@')+num)\n",
    "    pred_labels.append(label)\n",
    "pred_labels = np.array(pred_labels)  \n",
    "print(pred_labels[2])"
   ]
  },
  {
   "cell_type": "code",
   "execution_count": 47,
   "metadata": {},
   "outputs": [],
   "source": [
    "# for idx in range(len(ctc_ts3)):\n",
    "#     print(str(idx+1) + '. Predicted: ' + pred_labels[idx] + ' | ' + ctc_ts3[idx] + ' :Original')"
   ]
  },
  {
   "cell_type": "code",
   "execution_count": 48,
   "metadata": {
    "scrolled": true
   },
   "outputs": [],
   "source": [
    "from collections import Counter\n",
    "mode_orig = [max(Counter(y)) for y in ctc_ts3]\n",
    "mode_pred = [max(Counter(y)) if len(y) != 0 else 'A' for y in pred_labels]"
   ]
  },
  {
   "cell_type": "code",
   "execution_count": 49,
   "metadata": {},
   "outputs": [
    {
     "data": {
      "text/plain": [
       "77.16216216216216"
      ]
     },
     "execution_count": 49,
     "metadata": {},
     "output_type": "execute_result"
    }
   ],
   "source": [
    "cmp = [mode_pred[i] == mode_orig[i] for i in range(len(ctc_ts3)) if len(mode_pred[i]) != 0]\n",
    "trues = np.sum(cmp)\n",
    "acc = trues/len(cmp)*100\n",
    "acc"
   ]
  },
  {
   "cell_type": "markdown",
   "metadata": {},
   "source": []
  },
  {
   "cell_type": "code",
   "execution_count": 50,
   "metadata": {},
   "outputs": [],
   "source": [
    "# save model\n",
    "MODEL_FILE = \"Models/ctc model rd GD.json\" # save path\n",
    "WEIGHT_FILE =\"Models/ctc model rd GD.h5\" # save path\n",
    "\n",
    "model_json = model33.to_json()\n",
    "with open(MODEL_FILE, \"w\") as json_file:\n",
    "    json_file.write(model_json)\n",
    "model33.save_weights(WEIGHT_FILE)"
   ]
  },
  {
   "cell_type": "code",
   "execution_count": 105,
   "metadata": {},
   "outputs": [],
   "source": [
    "model_addr = 'Models/ctc model md no nuc GD td spec.json'\n",
    "weight_addr = 'Models/ctc model md no nuc GD td spec.h5'\n",
    "json_file = open(model_addr, 'r')\n",
    "loaded_model_json = json_file.read()\n",
    "json_file.close()\n",
    "model33 = model_from_json(loaded_model_json, custom_objects={'CTCLayer': CTCLayer})\n",
    "model33.load_weights(weight_addr)"
   ]
  },
  {
   "cell_type": "markdown",
   "metadata": {},
   "source": [
    "# Fusion"
   ]
  },
  {
   "cell_type": "code",
   "execution_count": 24,
   "metadata": {},
   "outputs": [],
   "source": [
    "def data_generator_multi_rd(data, labels, batch_size=1):              \n",
    "    \"\"\"\n",
    "    Yields the next training batch.\n",
    "    data is an array  [[[frame1_filename,frame2_filename,…frame16_filename],label1], [[frame1_filename,frame2_filename,…frame16_filename],label2],……….].\n",
    "    \"\"\"\n",
    "    num_samples = data[0].shape[0]\n",
    "    \n",
    "    while True:   \n",
    "        for offset in range(0, num_samples, batch_size):\n",
    "    #             print ('starting index: ', offset) \n",
    "            # Get the samples you'll use in this batch\n",
    "            batch_samples1 = data[0][offset:offset+batch_size]\n",
    "            batch_samples2 = data[1][offset:offset+batch_size]\n",
    "            batch_samples3 = data[2][offset:offset+batch_size]\n",
    "            \n",
    "            label = labels[offset:offset+batch_size]\n",
    "            # Initialise X_train and y_train arrays for this batch\n",
    "            X_train1 = []\n",
    "            X_train2 = []\n",
    "            X_train3 = []\n",
    "            y_train = []\n",
    "            # For each example\n",
    "            for i in range(0,batch_samples1.shape[0]):\n",
    "                X_train1.append(batch_samples1[i])\n",
    "                X_train2.append(batch_samples2[i])\n",
    "                X_train3.append(batch_samples3[i])\n",
    "                y_train.append(np.array([ord(y)%32 for y in label[i]]))\n",
    "                \n",
    "            # Make sure they're numpy arrays (as opposed to lists)\n",
    "            X_train1 = np.array(X_train1)\n",
    "            X_train2 = np.array(X_train2)\n",
    "            X_train3 = np.array(X_train3)\n",
    "            #X_train = np.rollaxis(X_train,1,4)\n",
    "            y_train = np.array(y_train)\n",
    "            \n",
    "            # yield the next training batch            \n",
    "            yield [X_train1, X_train2, X_train3, y_train], y_train"
   ]
  },
  {
   "cell_type": "code",
   "execution_count": 27,
   "metadata": {},
   "outputs": [],
   "source": [
    "def data_generator_multi_rd_nolabel(data, batch_size=1):              \n",
    "    \"\"\"\n",
    "    Yields the next training batch.\n",
    "    data is an array  [[[frame1_filename,frame2_filename,…frame16_filename],label1], [[frame1_filename,frame2_filename,…frame16_filename],label2],……….].\n",
    "    \"\"\"\n",
    "    num_samples = data[0].shape[0]\n",
    "    \n",
    "    while True:   \n",
    "        for offset in range(0, num_samples, batch_size):\n",
    "    #             print ('starting index: ', offset) \n",
    "            # Get the samples you'll use in this batch\n",
    "            batch_samples1 = data[0][offset:offset+batch_size]\n",
    "            batch_samples2 = data[1][offset:offset+batch_size]\n",
    "            batch_samples3 = data[2][offset:offset+batch_size]\n",
    "            \n",
    "            label = labels[offset:offset+batch_size]\n",
    "            # Initialise X_train and y_train arrays for this batch\n",
    "            X_train1 = []\n",
    "            X_train2 = []\n",
    "            X_train3 = []\n",
    "            # For each example\n",
    "            for i in range(0,batch_samples1.shape[0]):\n",
    "                X_train1.append(batch_samples1[i])\n",
    "                X_train2.append(batch_samples2[i])\n",
    "                X_train3.append(batch_samples3[i])\n",
    "                \n",
    "            # Make sure they're numpy arrays (as opposed to lists)\n",
    "            X_train1 = np.array(X_train1)\n",
    "            X_train2 = np.array(X_train2)\n",
    "            X_train3 = np.array(X_train3)\n",
    "            \n",
    "            # yield the next training batch            \n",
    "            yield [X_train1, X_train2, X_train3]"
   ]
  },
  {
   "cell_type": "code",
   "execution_count": 28,
   "metadata": {},
   "outputs": [],
   "source": [
    "train_dataset = data_generator_multi_rd([x1train, x2train, x3train], \n",
    "                                     ctc_tr3)\n",
    "validation_dataset = data_generator_multi_rd([x1test, x2test, x3test], \n",
    "                                     ctc_ts3)\n",
    "predict_generator = data_generator_multi_rd_nolabel([x1test, x2test, x3test])"
   ]
  },
  {
   "cell_type": "code",
   "execution_count": 73,
   "metadata": {},
   "outputs": [],
   "source": [
    "model_file = 'Models/ctc model rd GD.json'\n",
    "w_file = 'Models/ctc model rd GD.h5'\n",
    "json_file = open(model_file, 'r')\n",
    "loaded_model_json = json_file.read()\n",
    "json_file.close()\n",
    "model_rd = model_from_json(loaded_model_json, {'CTCLayer': CTCLayer})\n",
    "model_rd.load_weights(w_file)"
   ]
  },
  {
   "cell_type": "code",
   "execution_count": 74,
   "metadata": {},
   "outputs": [],
   "source": [
    "model_file = 'Models/ctc model ra GD.json'\n",
    "w_file = 'Models/ctc model ra GD.h5'\n",
    "json_file = open(model_file, 'r')\n",
    "loaded_model_json = json_file.read()\n",
    "json_file.close()\n",
    "model_ra = model_from_json(loaded_model_json, {'CTCLayer': CTCLayer})\n",
    "model_ra.load_weights(w_file)"
   ]
  },
  {
   "cell_type": "code",
   "execution_count": 75,
   "metadata": {},
   "outputs": [],
   "source": [
    "model_file = 'Models/ctc model md no nuc GD td spec.json'\n",
    "w_file = 'Models/ctc model md no nuc GD td spec.h5'\n",
    "json_file = open(model_file, 'r')\n",
    "loaded_model_json = json_file.read()\n",
    "json_file.close()\n",
    "model_md = model_from_json(loaded_model_json, {'CTCLayer': CTCLayer})\n",
    "model_md.load_weights(w_file)"
   ]
  },
  {
   "cell_type": "code",
   "execution_count": 76,
   "metadata": {},
   "outputs": [],
   "source": [
    "# rename layers\n",
    "# model_ra.get_layer('reshape')._name = model_ra.get_layer('reshape').name + '_2'\n",
    "# model_md.get_layer('reshape')._name = model_md.get_layer('reshape').name + '_3'\n",
    "# model_ra.get_layer('dense1')._name = model_ra.get_layer('dense1').name + '_2'\n",
    "# model_md.get_layer('dense1')._name = model_md.get_layer('dense1').name + '_3'\n",
    "# model_rd.get_layer('time_distributed')._name = model_rd.get_layer('time_distributed').name + '_rd'\n",
    "for layers in model_rd.layers:\n",
    "    layers._name = layers.name + '_rd'\n",
    "for layers in model_ra.layers:\n",
    "    layers._name = layers.name + '_ra'\n",
    "for layers in model_md.layers:\n",
    "    layers._name = layers.name + '_md'\n",
    "# model_md.get_layer('time_distributed')._name = model_md.get_layer('time_distributed').name + '_3'"
   ]
  },
  {
   "cell_type": "code",
   "execution_count": 77,
   "metadata": {},
   "outputs": [
    {
     "name": "stdout",
     "output_type": "stream",
     "text": [
      "rd_rd\n",
      "time_distributed_rd\n",
      "time_distributed_1_rd\n",
      "time_distributed_2_rd\n",
      "time_distributed_3_rd\n",
      "time_distributed_4_rd\n",
      "time_distributed_5_rd\n",
      "time_distributed_6_rd\n",
      "reshape_rd\n",
      "dense1_rd\n",
      "dropout_rd\n",
      "bidirectional_rd\n",
      "label_rd\n",
      "dense2_rd\n",
      "ctc_loss_rd\n"
     ]
    }
   ],
   "source": [
    "for layer in model_rd.layers:\n",
    "    print(layer.name)"
   ]
  },
  {
   "cell_type": "code",
   "execution_count": 78,
   "metadata": {},
   "outputs": [],
   "source": [
    "merged_layers = concatenate([model_rd.layers[-4].output,model_ra.layers[-4].output,model_md.layers[-4].output])\n",
    "x2 = Dense(len(characters3) + 2, activation='softmax', name=\"dense2\")(merged_layers)\n",
    "labels = Input(name=\"label\", shape=(None,))#, dtype=\"float32\")\n",
    "out_ctc = CTCLayer(name=\"ctc_loss\")(labels, x2)\n",
    "opt = Adam(lr=1e-3, decay=1e-3 / 200)  \n",
    "model_multi = keras.Model(inputs = [model_rd.get_layer('rd_rd').input, model_ra.get_layer('ra_ra').input, model_md.get_layer('image_md').input, labels], \n",
    "                            outputs = out_ctc, \n",
    "                           name=\"ctc_model\")\n",
    "model_multi.compile(optimizer=opt)"
   ]
  },
  {
   "cell_type": "code",
   "execution_count": 79,
   "metadata": {},
   "outputs": [],
   "source": [
    "# Freeze the layers except the last 7 layers\n",
    "# for layer in model_multi.layers[:-2]:\n",
    "#     layer.trainable = False\n",
    "\n",
    "# Check the trainable status of the individual layers\n",
    "# for layer in model_multi.layers:\n",
    "#     print(layer, layer.trainable)"
   ]
  },
  {
   "cell_type": "code",
   "execution_count": 80,
   "metadata": {},
   "outputs": [
    {
     "data": {
      "image/png": "[encoded data removed]",
      "text/plain": [
       "<Figure size 864x576 with 1 Axes>"
      ]
     },
     "metadata": {
      "needs_background": "light"
     },
     "output_type": "display_data"
    },
    {
     "name": "stdout",
     "output_type": "stream",
     "text": [
      "Loss\n",
      "\ttraining         \t (min:    4.579, max:   10.072, cur:    4.949)\n",
      "\tvalidation       \t (min:    7.850, max:    9.931, cur:    8.090)\n",
      "\b\b\b\b\b\b\b\b\b\b\b\b\b\b\b\b\b\b\b\b\b\b\b\b\b\b\b\b\b\b\b\b\b\b\b\b\b\b\b\b\b\b\b\b\b\b\b\b\b\b\b\b\b\b\b\b\b\b\b\b\b\b\b\b\b\b\b\r",
      "3042/3042 [==============================] - 344s 113ms/step - loss: 4.9486 - val_loss: 8.0896\n"
     ]
    }
   ],
   "source": [
    "history = model_multi.fit(\n",
    "    train_dataset,\n",
    "    validation_data=validation_dataset,\n",
    "    batch_size = 1,\n",
    "    epochs=100,\n",
    "    steps_per_epoch = len(x3train), validation_steps = len(x3test),\n",
    "    callbacks=[early_stopping, PlotLossesKerasTF()],\n",
    "    verbose = 1\n",
    ")"
   ]
  },
  {
   "cell_type": "code",
   "execution_count": 81,
   "metadata": {},
   "outputs": [],
   "source": [
    "# Get the prediction model by extracting layers till the output layer\n",
    "prediction_model = keras.models.Model(\n",
    "    [model_multi.get_layer(name=\"rd_rd\").input, model_multi.get_layer(name=\"ra_ra\").input, model_multi.get_layer(name=\"image_md\").input], model_multi.get_layer(name=\"dense2\").output\n",
    ")\n",
    "# prediction_model.summary()"
   ]
  },
  {
   "cell_type": "code",
   "execution_count": 82,
   "metadata": {},
   "outputs": [],
   "source": [
    "pred = [np.argmax(np.squeeze(prediction_model.predict(next(predict_generator))),-1) for i in range(len(x3test))]"
   ]
  },
  {
   "cell_type": "code",
   "execution_count": 83,
   "metadata": {},
   "outputs": [
    {
     "name": "stdout",
     "output_type": "stream",
     "text": [
      "CCCCCCCCCCCCCCAA\n"
     ]
    }
   ],
   "source": [
    "# best path decoding\n",
    "pred_labels = []\n",
    "\n",
    "cnt = 1\n",
    "for p in pred:\n",
    "    label = ''\n",
    "    for num in p:\n",
    "        if chr(ord('@')+num) == 'T':# or chr(ord('@')+num) == 'A':\n",
    "            continue\n",
    "        label = label + chr(ord('@')+num)\n",
    "    pred_labels.append(label)\n",
    "pred_labels = np.array(pred_labels)  \n",
    "print(pred_labels[2])"
   ]
  },
  {
   "cell_type": "code",
   "execution_count": 84,
   "metadata": {},
   "outputs": [],
   "source": [
    "# for idx in range(len(ctc_ts3)):\n",
    "#     print(str(idx+1) + '. Predicted: ' + pred_labels[idx] + ' | ' + ctc_ts3[idx] + ' :Original')"
   ]
  },
  {
   "cell_type": "code",
   "execution_count": 85,
   "metadata": {
    "scrolled": true
   },
   "outputs": [],
   "source": [
    "from collections import Counter\n",
    "mode_orig = [max(Counter(y)) for y in ctc_ts3]\n",
    "mode_pred = [max(Counter(y)) if len(y) != 0 else 'A' for y in pred_labels]"
   ]
  },
  {
   "cell_type": "code",
   "execution_count": 86,
   "metadata": {},
   "outputs": [
    {
     "data": {
      "text/plain": [
       "89.45945945945945"
      ]
     },
     "execution_count": 86,
     "metadata": {},
     "output_type": "execute_result"
    }
   ],
   "source": [
    "cmp = [mode_pred[i] == mode_orig[i] for i in range(len(ctc_ts3)) if len(mode_pred[i]) != 0]\n",
    "trues = np.sum(cmp)\n",
    "acc = trues/len(cmp)*100\n",
    "acc"
   ]
  },
  {
   "cell_type": "code",
   "execution_count": null,
   "metadata": {},
   "outputs": [],
   "source": []
  },
  {
   "cell_type": "code",
   "execution_count": null,
   "metadata": {},
   "outputs": [],
   "source": []
  },
  {
   "cell_type": "code",
   "execution_count": null,
   "metadata": {},
   "outputs": [],
   "source": []
  },
  {
   "cell_type": "code",
   "execution_count": null,
   "metadata": {},
   "outputs": [],
   "source": []
  },
  {
   "cell_type": "code",
   "execution_count": null,
   "metadata": {},
   "outputs": [],
   "source": []
  },
  {
   "cell_type": "code",
   "execution_count": null,
   "metadata": {},
   "outputs": [],
   "source": []
  },
  {
   "cell_type": "code",
   "execution_count": null,
   "metadata": {},
   "outputs": [],
   "source": []
  },
  {
   "cell_type": "code",
   "execution_count": null,
   "metadata": {},
   "outputs": [],
   "source": []
  },
  {
   "cell_type": "code",
   "execution_count": null,
   "metadata": {},
   "outputs": [],
   "source": []
  },
  {
   "cell_type": "code",
   "execution_count": null,
   "metadata": {},
   "outputs": [],
   "source": []
  },
  {
   "cell_type": "markdown",
   "metadata": {},
   "source": [
    "# Stateful LSTM + CTC"
   ]
  },
  {
   "cell_type": "code",
   "execution_count": 42,
   "metadata": {},
   "outputs": [
    {
     "name": "stdout",
     "output_type": "stream",
     "text": [
      "(15572, 128, 128, 3)\n",
      "(3658, 128, 128, 3)\n",
      "(15572,)\n",
      "(3658,)\n",
      "(15572, 19)\n",
      "(3658, 19)\n"
     ]
    }
   ],
   "source": [
    "x4train = np.array([t for x3 in x3train for t in x3])\n",
    "print(x4train.shape)\n",
    "x4test = np.array([t for x3 in x3test for t in x3])\n",
    "print(x4test.shape)\n",
    "ctc_tr4 = np.array([t for x3 in ctc_tr3 for t in x3])\n",
    "print(ctc_tr4.shape)\n",
    "ctc_ts4 = np.array([t for x3 in ctc_ts3 for t in x3])\n",
    "print(ctc_ts4.shape)\n",
    "y4train = np.array([t for x3 in y3train for t in x3])\n",
    "print(y4train.shape)\n",
    "y4test = np.array([t for x3 in y3test for t in x3])\n",
    "print(y4test.shape)"
   ]
  },
  {
   "cell_type": "code",
   "execution_count": 20,
   "metadata": {
    "scrolled": true
   },
   "outputs": [
    {
     "name": "stdout",
     "output_type": "stream",
     "text": [
      "Number of unique characters:  19\n",
      "Characters present:  ['A', 'B', 'C', 'D', 'E', 'F', 'G', 'H', 'I', 'J', 'K', 'L', 'M', 'N', 'O', 'P', 'Q', 'R', 'S']\n",
      "Counter({'B': 4441, 'A': 2467, 'C': 1718, 'D': 1570, 'I': 413, 'M': 403, 'J': 382, 'L': 376, 'S': 375, 'P': 366, 'O': 360, 'F': 356, 'K': 355, 'G': 355, 'R': 353, 'H': 349, 'E': 328, 'Q': 327, 'N': 278})\n"
     ]
    }
   ],
   "source": [
    "characters4 = set(char for label in ctc_tr4 for char in label)\n",
    "print(\"Number of unique characters: \", len(characters4))\n",
    "print(\"Characters present: \", sorted(characters4))\n",
    "# print('Labels: ' + str(np.unique(ctc_tr3)))\n",
    "batch_size = 1\n",
    "from collections import Counter\n",
    "print(Counter(ctc_tr4))"
   ]
  },
  {
   "cell_type": "code",
   "execution_count": 40,
   "metadata": {},
   "outputs": [],
   "source": [
    "def data_generator(data, labels, batch_size=1):              \n",
    "    \"\"\"\n",
    "    Yields the next training batch.\n",
    "    data is an array  [[[frame1_filename,frame2_filename,…frame16_filename],label1], [[frame1_filename,frame2_filename,…frame16_filename],label2],……….].\n",
    "    \"\"\"\n",
    "    num_samples = data.shape[0]\n",
    "    \n",
    "    while True:   \n",
    "        for offset in range(0, num_samples, batch_size):\n",
    "    #             print ('starting index: ', offset) \n",
    "            # Get the samples you'll use in this batch\n",
    "            batch_samples = data[offset:offset+batch_size]\n",
    "            label = labels[offset:offset+batch_size]\n",
    "            # Initialise X_train and y_train arrays for this batch\n",
    "            X_train = []\n",
    "            y_train = []\n",
    "            # For each example\n",
    "            for i in range(0,batch_samples.shape[0]):\n",
    "                X_train.append(batch_samples[i])\n",
    "                y_train.append(label[i])\n",
    "\n",
    "            # Make sure they're numpy arrays (as opposed to lists)\n",
    "            X_train = np.array(X_train)\n",
    "            #X_train = np.rollaxis(X_train,1,4)\n",
    "            y_train = np.array(y_train)\n",
    "\n",
    "            # yield the next training batch            \n",
    "            yield X_train, y_train"
   ]
  },
  {
   "cell_type": "code",
   "execution_count": 27,
   "metadata": {},
   "outputs": [],
   "source": [
    "def data_generator_state(data, labels, batch_size=1):              \n",
    "    \"\"\"\n",
    "    Yields the next training batch.\n",
    "    data is an array  [[[frame1_filename,frame2_filename,…frame16_filename],label1], [[frame1_filename,frame2_filename,…frame16_filename],label2],……….].\n",
    "    \"\"\"\n",
    "    num_samples = data.shape[0]\n",
    "    \n",
    "    while True:   \n",
    "        for offset in range(0, num_samples, batch_size):\n",
    "    #             print ('starting index: ', offset) \n",
    "            # Get the samples you'll use in this batch\n",
    "            batch_samples = data[offset:offset+batch_size]\n",
    "            label = labels[offset:offset+batch_size]\n",
    "            # Initialise X_train and y_train arrays for this batch\n",
    "            X_train = []\n",
    "            y_train = []\n",
    "            # For each example\n",
    "            for i in range(0,batch_samples.shape[0]):\n",
    "                X_train.append(batch_samples[i])\n",
    "                y_train.append(np.array([ord(y)%32 for y in label[i]]))\n",
    "\n",
    "            # Make sure they're numpy arrays (as opposed to lists)\n",
    "            X_train = np.array(X_train)\n",
    "            #X_train = np.rollaxis(X_train,1,4)\n",
    "            y_train = np.array(y_train)\n",
    "\n",
    "            # yield the next training batch            \n",
    "            yield X_train, y_train"
   ]
  },
  {
   "cell_type": "code",
   "execution_count": 29,
   "metadata": {},
   "outputs": [],
   "source": [
    "def data_generator_state_nolabel(data, labels, batch_size=1):              \n",
    "    \"\"\"\n",
    "    Yields the next training batch.\n",
    "    data is an array  [[[frame1_filename,frame2_filename,…frame16_filename],label1], [[frame1_filename,frame2_filename,…frame16_filename],label2],……….].\n",
    "    \"\"\"\n",
    "    num_samples = data.shape[0]\n",
    "    \n",
    "    while True:   \n",
    "        for offset in range(0, num_samples, batch_size):\n",
    "    #             print ('starting index: ', offset) \n",
    "            # Get the samples you'll use in this batch\n",
    "            batch_samples = data[offset:offset+batch_size]\n",
    "            label = labels[offset:offset+batch_size]\n",
    "            # Initialise X_train and y_train arrays for this batch\n",
    "            X_train = []\n",
    "            y_train = []\n",
    "            # For each example\n",
    "            for i in range(0,batch_samples.shape[0]):\n",
    "                X_train.append(batch_samples[i])\n",
    "                y_train.append(np.array([ord(y)%32 for y in label[i]]))\n",
    "\n",
    "            # Make sure they're numpy arrays (as opposed to lists)\n",
    "            X_train = np.array(X_train)\n",
    "            #X_train = np.rollaxis(X_train,1,4)\n",
    "            y_train = np.array(y_train)\n",
    "\n",
    "            # yield the next training batch            \n",
    "            yield X_train"
   ]
  },
  {
   "cell_type": "code",
   "execution_count": 92,
   "metadata": {},
   "outputs": [],
   "source": [
    "train_dataset = data_generator_state(x4train, ctc_tr4)\n",
    "validation_dataset = data_generator_state(x4test, ctc_ts4)\n",
    "predict_generator = data_generator_state_nolabel(x4test, ctc_ts4)"
   ]
  },
  {
   "cell_type": "code",
   "execution_count": 93,
   "metadata": {
    "scrolled": true
   },
   "outputs": [
    {
     "data": {
      "text/plain": [
       "(128, 128, 3)"
      ]
     },
     "execution_count": 93,
     "metadata": {},
     "output_type": "execute_result"
    }
   ],
   "source": [
    "input_shape4 = (1,x4train.shape[1],x4train.shape[2],x4train.shape[3])\n",
    "input_shape5 = (x4train.shape[1],x4train.shape[2],x4train.shape[3])\n",
    "input_shape5"
   ]
  },
  {
   "cell_type": "code",
   "execution_count": 98,
   "metadata": {},
   "outputs": [],
   "source": [
    "def ctc_md_stateful():\n",
    "    with tf.device('/gpu:2'):\n",
    "        \n",
    "#         inputlayer3 = Input(batch_shape = input_shape4, name=\"image\")\n",
    "        inputlayer3 = Input(shape = input_shape5, name=\"image\")\n",
    "        labels = Input(name=\"label\", shape=(None,))#, dtype=\"float32\")\n",
    "        \n",
    "        x = Conv2D(32, kernel_size=(3, 3), padding='same', activation='relu')(inputlayer3)\n",
    "        x = MaxPooling2D(pool_size=(2,2))(x)\n",
    "        x = Conv2D(64, kernel_size=(3, 3), padding='same', activation='relu')(x)\n",
    "        x = MaxPooling2D(pool_size=(2,2))(x)\n",
    "        x = Conv2D(64, kernel_size=(3, 3), padding='same', activation='relu')(x)\n",
    "        x = MaxPooling2D(pool_size=(2,2))(x)\n",
    "        x = MaxPooling2D(pool_size=(4,1))(x)\n",
    "#         x = TimeDistributed(Flatten())(x)\n",
    "        new_shape = (-1, 64)\n",
    "        x = Reshape(target_shape=new_shape, name=\"reshape\")(x)\n",
    "        x = Dense(64, activation=\"relu\", name=\"dense1\")(x)\n",
    "        x = Dropout(0.5)(x)\n",
    "#         x = Bidirectional(LSTM(128, dropout=0.5, return_sequences=True))(x)\n",
    "        x = Bidirectional(LSTM(64, dropout=0.5, return_sequences=True, stateful = False))(x)\n",
    "    \n",
    "        x = Dense(len(characters4) + 1, activation='softmax', name=\"dense2\")(x)\n",
    "        output = CTCLayer(name=\"ctc_loss\")(labels, x)\n",
    "#         soft = Dense(19, activation='softmax', name=\"dense2\")(x)\n",
    "        model = keras.Model(inputs = [inputlayer3, labels], outputs = [output], name=\"ctc_model_v1\")\n",
    "        opt = Adam(lr=1e-3, decay=1e-3 / 200)\n",
    "        \n",
    "        model.compile(optimizer=opt) #, loss = 'categorical_crossentropy', metrics = ['accuracy'])\n",
    "        return model"
   ]
  },
  {
   "cell_type": "code",
   "execution_count": 105,
   "metadata": {
    "scrolled": true
   },
   "outputs": [
    {
     "name": "stdout",
     "output_type": "stream",
     "text": [
      "Model: \"ctc_model_v1\"\n",
      "________________________________________________________________________________________________________________________\n",
      "Layer (type)                           Output Shape               Param #       Connected to                            \n",
      "========================================================================================================================\n",
      "image (InputLayer)                     [(None, 128, 128, 3)]      0                                                     \n",
      "________________________________________________________________________________________________________________________\n",
      "conv2d_63 (Conv2D)                     (None, 128, 128, 32)       896           image[0][0]                             \n",
      "________________________________________________________________________________________________________________________\n",
      "max_pooling2d_77 (MaxPooling2D)        (None, 64, 64, 32)         0             conv2d_63[0][0]                         \n",
      "________________________________________________________________________________________________________________________\n",
      "conv2d_64 (Conv2D)                     (None, 64, 64, 64)         18496         max_pooling2d_77[0][0]                  \n",
      "________________________________________________________________________________________________________________________\n",
      "max_pooling2d_78 (MaxPooling2D)        (None, 32, 32, 64)         0             conv2d_64[0][0]                         \n",
      "________________________________________________________________________________________________________________________\n",
      "conv2d_65 (Conv2D)                     (None, 32, 32, 64)         36928         max_pooling2d_78[0][0]                  \n",
      "________________________________________________________________________________________________________________________\n",
      "max_pooling2d_79 (MaxPooling2D)        (None, 16, 16, 64)         0             conv2d_65[0][0]                         \n",
      "________________________________________________________________________________________________________________________\n",
      "max_pooling2d_80 (MaxPooling2D)        (None, 4, 16, 64)          0             max_pooling2d_79[0][0]                  \n",
      "________________________________________________________________________________________________________________________\n",
      "reshape (Reshape)                      (None, 64, 64)             0             max_pooling2d_80[0][0]                  \n",
      "________________________________________________________________________________________________________________________\n",
      "dense1 (Dense)                         (None, 64, 64)             4160          reshape[0][0]                           \n",
      "________________________________________________________________________________________________________________________\n",
      "dropout_19 (Dropout)                   (None, 64, 64)             0             dense1[0][0]                            \n",
      "________________________________________________________________________________________________________________________\n",
      "bidirectional_19 (Bidirectional)       (None, 64, 128)            66048         dropout_19[0][0]                        \n",
      "________________________________________________________________________________________________________________________\n",
      "label (InputLayer)                     [(None, None)]             0                                                     \n",
      "________________________________________________________________________________________________________________________\n",
      "dense2 (Dense)                         (None, 64, 20)             2580          bidirectional_19[0][0]                  \n",
      "________________________________________________________________________________________________________________________\n",
      "ctc_loss (CTCLayer)                    (None, 64, 20)             0             label[0][0]                             \n",
      "                                                                                dense2[0][0]                            \n",
      "========================================================================================================================\n",
      "Total params: 129,108\n",
      "Trainable params: 129,108\n",
      "Non-trainable params: 0\n",
      "________________________________________________________________________________________________________________________\n"
     ]
    }
   ],
   "source": [
    "model_state = ctc_md_stateful()\n",
    "model_state.summary(line_length=120)"
   ]
  },
  {
   "cell_type": "code",
   "execution_count": 100,
   "metadata": {},
   "outputs": [],
   "source": [
    "epochs = 100\n",
    "early_stopping_patience = 5\n",
    "# Add early stopping\n",
    "early_stopping = keras.callbacks.EarlyStopping(\n",
    "    monitor=\"val_loss\", patience=early_stopping_patience, restore_best_weights=True\n",
    ")"
   ]
  },
  {
   "cell_type": "code",
   "execution_count": 101,
   "metadata": {
    "scrolled": false
   },
   "outputs": [
    {
     "name": "stdout",
     "output_type": "stream",
     "text": [
      "Epoch 1/100\n"
     ]
    },
    {
     "ename": "AssertionError",
     "evalue": "in user code:\n\n    /home/m/.local/lib/python3.7/site-packages/tensorflow/python/keras/engine/training.py:806 train_function  *\n        return step_function(self, iterator)\n    /home/m/.local/lib/python3.7/site-packages/tensorflow/python/keras/engine/training.py:796 step_function  **\n        outputs = model.distribute_strategy.run(run_step, args=(data,))\n    /home/m/.local/lib/python3.7/site-packages/tensorflow/python/distribute/distribute_lib.py:1211 run\n        return self._extended.call_for_each_replica(fn, args=args, kwargs=kwargs)\n    /home/m/.local/lib/python3.7/site-packages/tensorflow/python/distribute/distribute_lib.py:2585 call_for_each_replica\n        return self._call_for_each_replica(fn, args, kwargs)\n    /home/m/.local/lib/python3.7/site-packages/tensorflow/python/distribute/distribute_lib.py:2945 _call_for_each_replica\n        return fn(*args, **kwargs)\n    /home/m/.local/lib/python3.7/site-packages/tensorflow/python/keras/engine/training.py:789 run_step  **\n        outputs = model.train_step(data)\n    /home/m/.local/lib/python3.7/site-packages/tensorflow/python/keras/engine/training.py:747 train_step\n        y_pred = self(x, training=True)\n    /home/m/.local/lib/python3.7/site-packages/tensorflow/python/keras/engine/base_layer.py:985 __call__\n        outputs = call_fn(inputs, *args, **kwargs)\n    /home/m/.local/lib/python3.7/site-packages/tensorflow/python/keras/engine/functional.py:386 call\n        inputs, training=training, mask=mask)\n    /home/m/.local/lib/python3.7/site-packages/tensorflow/python/keras/engine/functional.py:517 _run_internal_graph\n        assert x_id in tensor_dict, 'Could not compute output ' + str(x)\n\n    AssertionError: Could not compute output Tensor(\"ctc_loss/ctc_loss_6/Identity:0\", shape=(None, 64, 20), dtype=float32)\n",
     "output_type": "error",
     "traceback": [
      "\u001b[0;31m---------------------------------------------------------------------------\u001b[0m",
      "\u001b[0;31mAssertionError\u001b[0m                            Traceback (most recent call last)",
      "\u001b[0;32m<ipython-input-101-a8d48eb7691c>\u001b[0m in \u001b[0;36m<module>\u001b[0;34m\u001b[0m\n\u001b[1;32m      6\u001b[0m     \u001b[0msteps_per_epoch\u001b[0m \u001b[0;34m=\u001b[0m \u001b[0mlen\u001b[0m\u001b[0;34m(\u001b[0m\u001b[0mx4train\u001b[0m\u001b[0;34m)\u001b[0m\u001b[0;34m,\u001b[0m \u001b[0mvalidation_steps\u001b[0m \u001b[0;34m=\u001b[0m \u001b[0mlen\u001b[0m\u001b[0;34m(\u001b[0m\u001b[0mx4test\u001b[0m\u001b[0;34m)\u001b[0m\u001b[0;34m,\u001b[0m\u001b[0;34m\u001b[0m\u001b[0;34m\u001b[0m\u001b[0m\n\u001b[1;32m      7\u001b[0m     \u001b[0mcallbacks\u001b[0m\u001b[0;34m=\u001b[0m\u001b[0;34m[\u001b[0m\u001b[0mearly_stopping\u001b[0m\u001b[0;34m,\u001b[0m \u001b[0mPlotLossesKerasTF\u001b[0m\u001b[0;34m(\u001b[0m\u001b[0;34m)\u001b[0m\u001b[0;34m]\u001b[0m\u001b[0;34m,\u001b[0m\u001b[0;34m\u001b[0m\u001b[0;34m\u001b[0m\u001b[0m\n\u001b[0;32m----> 8\u001b[0;31m     \u001b[0mverbose\u001b[0m \u001b[0;34m=\u001b[0m \u001b[0;36m1\u001b[0m\u001b[0;34m\u001b[0m\u001b[0;34m\u001b[0m\u001b[0m\n\u001b[0m\u001b[1;32m      9\u001b[0m )\n",
      "\u001b[0;32m~/.local/lib/python3.7/site-packages/tensorflow/python/keras/engine/training.py\u001b[0m in \u001b[0;36m_method_wrapper\u001b[0;34m(self, *args, **kwargs)\u001b[0m\n\u001b[1;32m    106\u001b[0m   \u001b[0;32mdef\u001b[0m \u001b[0m_method_wrapper\u001b[0m\u001b[0;34m(\u001b[0m\u001b[0mself\u001b[0m\u001b[0;34m,\u001b[0m \u001b[0;34m*\u001b[0m\u001b[0margs\u001b[0m\u001b[0;34m,\u001b[0m \u001b[0;34m**\u001b[0m\u001b[0mkwargs\u001b[0m\u001b[0;34m)\u001b[0m\u001b[0;34m:\u001b[0m\u001b[0;34m\u001b[0m\u001b[0;34m\u001b[0m\u001b[0m\n\u001b[1;32m    107\u001b[0m     \u001b[0;32mif\u001b[0m \u001b[0;32mnot\u001b[0m \u001b[0mself\u001b[0m\u001b[0;34m.\u001b[0m\u001b[0m_in_multi_worker_mode\u001b[0m\u001b[0;34m(\u001b[0m\u001b[0;34m)\u001b[0m\u001b[0;34m:\u001b[0m  \u001b[0;31m# pylint: disable=protected-access\u001b[0m\u001b[0;34m\u001b[0m\u001b[0;34m\u001b[0m\u001b[0m\n\u001b[0;32m--> 108\u001b[0;31m       \u001b[0;32mreturn\u001b[0m \u001b[0mmethod\u001b[0m\u001b[0;34m(\u001b[0m\u001b[0mself\u001b[0m\u001b[0;34m,\u001b[0m \u001b[0;34m*\u001b[0m\u001b[0margs\u001b[0m\u001b[0;34m,\u001b[0m \u001b[0;34m**\u001b[0m\u001b[0mkwargs\u001b[0m\u001b[0;34m)\u001b[0m\u001b[0;34m\u001b[0m\u001b[0;34m\u001b[0m\u001b[0m\n\u001b[0m\u001b[1;32m    109\u001b[0m \u001b[0;34m\u001b[0m\u001b[0m\n\u001b[1;32m    110\u001b[0m     \u001b[0;31m# Running inside `run_distribute_coordinator` already.\u001b[0m\u001b[0;34m\u001b[0m\u001b[0;34m\u001b[0m\u001b[0;34m\u001b[0m\u001b[0m\n",
      "\u001b[0;32m~/.local/lib/python3.7/site-packages/tensorflow/python/keras/engine/training.py\u001b[0m in \u001b[0;36mfit\u001b[0;34m(self, x, y, batch_size, epochs, verbose, callbacks, validation_split, validation_data, shuffle, class_weight, sample_weight, initial_epoch, steps_per_epoch, validation_steps, validation_batch_size, validation_freq, max_queue_size, workers, use_multiprocessing)\u001b[0m\n\u001b[1;32m   1096\u001b[0m                 batch_size=batch_size):\n\u001b[1;32m   1097\u001b[0m               \u001b[0mcallbacks\u001b[0m\u001b[0;34m.\u001b[0m\u001b[0mon_train_batch_begin\u001b[0m\u001b[0;34m(\u001b[0m\u001b[0mstep\u001b[0m\u001b[0;34m)\u001b[0m\u001b[0;34m\u001b[0m\u001b[0;34m\u001b[0m\u001b[0m\n\u001b[0;32m-> 1098\u001b[0;31m               \u001b[0mtmp_logs\u001b[0m \u001b[0;34m=\u001b[0m \u001b[0mtrain_function\u001b[0m\u001b[0;34m(\u001b[0m\u001b[0miterator\u001b[0m\u001b[0;34m)\u001b[0m\u001b[0;34m\u001b[0m\u001b[0;34m\u001b[0m\u001b[0m\n\u001b[0m\u001b[1;32m   1099\u001b[0m               \u001b[0;32mif\u001b[0m \u001b[0mdata_handler\u001b[0m\u001b[0;34m.\u001b[0m\u001b[0mshould_sync\u001b[0m\u001b[0;34m:\u001b[0m\u001b[0;34m\u001b[0m\u001b[0;34m\u001b[0m\u001b[0m\n\u001b[1;32m   1100\u001b[0m                 \u001b[0mcontext\u001b[0m\u001b[0;34m.\u001b[0m\u001b[0masync_wait\u001b[0m\u001b[0;34m(\u001b[0m\u001b[0;34m)\u001b[0m\u001b[0;34m\u001b[0m\u001b[0;34m\u001b[0m\u001b[0m\n",
      "\u001b[0;32m~/.local/lib/python3.7/site-packages/tensorflow/python/eager/def_function.py\u001b[0m in \u001b[0;36m__call__\u001b[0;34m(self, *args, **kwds)\u001b[0m\n\u001b[1;32m    778\u001b[0m       \u001b[0;32melse\u001b[0m\u001b[0;34m:\u001b[0m\u001b[0;34m\u001b[0m\u001b[0;34m\u001b[0m\u001b[0m\n\u001b[1;32m    779\u001b[0m         \u001b[0mcompiler\u001b[0m \u001b[0;34m=\u001b[0m \u001b[0;34m\"nonXla\"\u001b[0m\u001b[0;34m\u001b[0m\u001b[0;34m\u001b[0m\u001b[0m\n\u001b[0;32m--> 780\u001b[0;31m         \u001b[0mresult\u001b[0m \u001b[0;34m=\u001b[0m \u001b[0mself\u001b[0m\u001b[0;34m.\u001b[0m\u001b[0m_call\u001b[0m\u001b[0;34m(\u001b[0m\u001b[0;34m*\u001b[0m\u001b[0margs\u001b[0m\u001b[0;34m,\u001b[0m \u001b[0;34m**\u001b[0m\u001b[0mkwds\u001b[0m\u001b[0;34m)\u001b[0m\u001b[0;34m\u001b[0m\u001b[0;34m\u001b[0m\u001b[0m\n\u001b[0m\u001b[1;32m    781\u001b[0m \u001b[0;34m\u001b[0m\u001b[0m\n\u001b[1;32m    782\u001b[0m       \u001b[0mnew_tracing_count\u001b[0m \u001b[0;34m=\u001b[0m \u001b[0mself\u001b[0m\u001b[0;34m.\u001b[0m\u001b[0m_get_tracing_count\u001b[0m\u001b[0;34m(\u001b[0m\u001b[0;34m)\u001b[0m\u001b[0;34m\u001b[0m\u001b[0;34m\u001b[0m\u001b[0m\n",
      "\u001b[0;32m~/.local/lib/python3.7/site-packages/tensorflow/python/eager/def_function.py\u001b[0m in \u001b[0;36m_call\u001b[0;34m(self, *args, **kwds)\u001b[0m\n\u001b[1;32m    821\u001b[0m       \u001b[0;31m# This is the first call of __call__, so we have to initialize.\u001b[0m\u001b[0;34m\u001b[0m\u001b[0;34m\u001b[0m\u001b[0;34m\u001b[0m\u001b[0m\n\u001b[1;32m    822\u001b[0m       \u001b[0minitializers\u001b[0m \u001b[0;34m=\u001b[0m \u001b[0;34m[\u001b[0m\u001b[0;34m]\u001b[0m\u001b[0;34m\u001b[0m\u001b[0;34m\u001b[0m\u001b[0m\n\u001b[0;32m--> 823\u001b[0;31m       \u001b[0mself\u001b[0m\u001b[0;34m.\u001b[0m\u001b[0m_initialize\u001b[0m\u001b[0;34m(\u001b[0m\u001b[0margs\u001b[0m\u001b[0;34m,\u001b[0m \u001b[0mkwds\u001b[0m\u001b[0;34m,\u001b[0m \u001b[0madd_initializers_to\u001b[0m\u001b[0;34m=\u001b[0m\u001b[0minitializers\u001b[0m\u001b[0;34m)\u001b[0m\u001b[0;34m\u001b[0m\u001b[0;34m\u001b[0m\u001b[0m\n\u001b[0m\u001b[1;32m    824\u001b[0m     \u001b[0;32mfinally\u001b[0m\u001b[0;34m:\u001b[0m\u001b[0;34m\u001b[0m\u001b[0;34m\u001b[0m\u001b[0m\n\u001b[1;32m    825\u001b[0m       \u001b[0;31m# At this point we know that the initialization is complete (or less\u001b[0m\u001b[0;34m\u001b[0m\u001b[0;34m\u001b[0m\u001b[0;34m\u001b[0m\u001b[0m\n",
      "\u001b[0;32m~/.local/lib/python3.7/site-packages/tensorflow/python/eager/def_function.py\u001b[0m in \u001b[0;36m_initialize\u001b[0;34m(self, args, kwds, add_initializers_to)\u001b[0m\n\u001b[1;32m    695\u001b[0m     self._concrete_stateful_fn = (\n\u001b[1;32m    696\u001b[0m         self._stateful_fn._get_concrete_function_internal_garbage_collected(  # pylint: disable=protected-access\n\u001b[0;32m--> 697\u001b[0;31m             *args, **kwds))\n\u001b[0m\u001b[1;32m    698\u001b[0m \u001b[0;34m\u001b[0m\u001b[0m\n\u001b[1;32m    699\u001b[0m     \u001b[0;32mdef\u001b[0m \u001b[0minvalid_creator_scope\u001b[0m\u001b[0;34m(\u001b[0m\u001b[0;34m*\u001b[0m\u001b[0munused_args\u001b[0m\u001b[0;34m,\u001b[0m \u001b[0;34m**\u001b[0m\u001b[0munused_kwds\u001b[0m\u001b[0;34m)\u001b[0m\u001b[0;34m:\u001b[0m\u001b[0;34m\u001b[0m\u001b[0;34m\u001b[0m\u001b[0m\n",
      "\u001b[0;32m~/.local/lib/python3.7/site-packages/tensorflow/python/eager/function.py\u001b[0m in \u001b[0;36m_get_concrete_function_internal_garbage_collected\u001b[0;34m(self, *args, **kwargs)\u001b[0m\n\u001b[1;32m   2853\u001b[0m       \u001b[0margs\u001b[0m\u001b[0;34m,\u001b[0m \u001b[0mkwargs\u001b[0m \u001b[0;34m=\u001b[0m \u001b[0;32mNone\u001b[0m\u001b[0;34m,\u001b[0m \u001b[0;32mNone\u001b[0m\u001b[0;34m\u001b[0m\u001b[0;34m\u001b[0m\u001b[0m\n\u001b[1;32m   2854\u001b[0m     \u001b[0;32mwith\u001b[0m \u001b[0mself\u001b[0m\u001b[0;34m.\u001b[0m\u001b[0m_lock\u001b[0m\u001b[0;34m:\u001b[0m\u001b[0;34m\u001b[0m\u001b[0;34m\u001b[0m\u001b[0m\n\u001b[0;32m-> 2855\u001b[0;31m       \u001b[0mgraph_function\u001b[0m\u001b[0;34m,\u001b[0m \u001b[0m_\u001b[0m\u001b[0;34m,\u001b[0m \u001b[0m_\u001b[0m \u001b[0;34m=\u001b[0m \u001b[0mself\u001b[0m\u001b[0;34m.\u001b[0m\u001b[0m_maybe_define_function\u001b[0m\u001b[0;34m(\u001b[0m\u001b[0margs\u001b[0m\u001b[0;34m,\u001b[0m \u001b[0mkwargs\u001b[0m\u001b[0;34m)\u001b[0m\u001b[0;34m\u001b[0m\u001b[0;34m\u001b[0m\u001b[0m\n\u001b[0m\u001b[1;32m   2856\u001b[0m     \u001b[0;32mreturn\u001b[0m \u001b[0mgraph_function\u001b[0m\u001b[0;34m\u001b[0m\u001b[0;34m\u001b[0m\u001b[0m\n\u001b[1;32m   2857\u001b[0m \u001b[0;34m\u001b[0m\u001b[0m\n",
      "\u001b[0;32m~/.local/lib/python3.7/site-packages/tensorflow/python/eager/function.py\u001b[0m in \u001b[0;36m_maybe_define_function\u001b[0;34m(self, args, kwargs)\u001b[0m\n\u001b[1;32m   3211\u001b[0m \u001b[0;34m\u001b[0m\u001b[0m\n\u001b[1;32m   3212\u001b[0m       \u001b[0mself\u001b[0m\u001b[0;34m.\u001b[0m\u001b[0m_function_cache\u001b[0m\u001b[0;34m.\u001b[0m\u001b[0mmissed\u001b[0m\u001b[0;34m.\u001b[0m\u001b[0madd\u001b[0m\u001b[0;34m(\u001b[0m\u001b[0mcall_context_key\u001b[0m\u001b[0;34m)\u001b[0m\u001b[0;34m\u001b[0m\u001b[0;34m\u001b[0m\u001b[0m\n\u001b[0;32m-> 3213\u001b[0;31m       \u001b[0mgraph_function\u001b[0m \u001b[0;34m=\u001b[0m \u001b[0mself\u001b[0m\u001b[0;34m.\u001b[0m\u001b[0m_create_graph_function\u001b[0m\u001b[0;34m(\u001b[0m\u001b[0margs\u001b[0m\u001b[0;34m,\u001b[0m \u001b[0mkwargs\u001b[0m\u001b[0;34m)\u001b[0m\u001b[0;34m\u001b[0m\u001b[0;34m\u001b[0m\u001b[0m\n\u001b[0m\u001b[1;32m   3214\u001b[0m       \u001b[0mself\u001b[0m\u001b[0;34m.\u001b[0m\u001b[0m_function_cache\u001b[0m\u001b[0;34m.\u001b[0m\u001b[0mprimary\u001b[0m\u001b[0;34m[\u001b[0m\u001b[0mcache_key\u001b[0m\u001b[0;34m]\u001b[0m \u001b[0;34m=\u001b[0m \u001b[0mgraph_function\u001b[0m\u001b[0;34m\u001b[0m\u001b[0;34m\u001b[0m\u001b[0m\n\u001b[1;32m   3215\u001b[0m       \u001b[0;32mreturn\u001b[0m \u001b[0mgraph_function\u001b[0m\u001b[0;34m,\u001b[0m \u001b[0margs\u001b[0m\u001b[0;34m,\u001b[0m \u001b[0mkwargs\u001b[0m\u001b[0;34m\u001b[0m\u001b[0;34m\u001b[0m\u001b[0m\n",
      "\u001b[0;32m~/.local/lib/python3.7/site-packages/tensorflow/python/eager/function.py\u001b[0m in \u001b[0;36m_create_graph_function\u001b[0;34m(self, args, kwargs, override_flat_arg_shapes)\u001b[0m\n\u001b[1;32m   3073\u001b[0m             \u001b[0marg_names\u001b[0m\u001b[0;34m=\u001b[0m\u001b[0marg_names\u001b[0m\u001b[0;34m,\u001b[0m\u001b[0;34m\u001b[0m\u001b[0;34m\u001b[0m\u001b[0m\n\u001b[1;32m   3074\u001b[0m             \u001b[0moverride_flat_arg_shapes\u001b[0m\u001b[0;34m=\u001b[0m\u001b[0moverride_flat_arg_shapes\u001b[0m\u001b[0;34m,\u001b[0m\u001b[0;34m\u001b[0m\u001b[0;34m\u001b[0m\u001b[0m\n\u001b[0;32m-> 3075\u001b[0;31m             capture_by_value=self._capture_by_value),\n\u001b[0m\u001b[1;32m   3076\u001b[0m         \u001b[0mself\u001b[0m\u001b[0;34m.\u001b[0m\u001b[0m_function_attributes\u001b[0m\u001b[0;34m,\u001b[0m\u001b[0;34m\u001b[0m\u001b[0;34m\u001b[0m\u001b[0m\n\u001b[1;32m   3077\u001b[0m         \u001b[0mfunction_spec\u001b[0m\u001b[0;34m=\u001b[0m\u001b[0mself\u001b[0m\u001b[0;34m.\u001b[0m\u001b[0mfunction_spec\u001b[0m\u001b[0;34m,\u001b[0m\u001b[0;34m\u001b[0m\u001b[0;34m\u001b[0m\u001b[0m\n",
      "\u001b[0;32m~/.local/lib/python3.7/site-packages/tensorflow/python/framework/func_graph.py\u001b[0m in \u001b[0;36mfunc_graph_from_py_func\u001b[0;34m(name, python_func, args, kwargs, signature, func_graph, autograph, autograph_options, add_control_dependencies, arg_names, op_return_value, collections, capture_by_value, override_flat_arg_shapes)\u001b[0m\n\u001b[1;32m    984\u001b[0m         \u001b[0m_\u001b[0m\u001b[0;34m,\u001b[0m \u001b[0moriginal_func\u001b[0m \u001b[0;34m=\u001b[0m \u001b[0mtf_decorator\u001b[0m\u001b[0;34m.\u001b[0m\u001b[0munwrap\u001b[0m\u001b[0;34m(\u001b[0m\u001b[0mpython_func\u001b[0m\u001b[0;34m)\u001b[0m\u001b[0;34m\u001b[0m\u001b[0;34m\u001b[0m\u001b[0m\n\u001b[1;32m    985\u001b[0m \u001b[0;34m\u001b[0m\u001b[0m\n\u001b[0;32m--> 986\u001b[0;31m       \u001b[0mfunc_outputs\u001b[0m \u001b[0;34m=\u001b[0m \u001b[0mpython_func\u001b[0m\u001b[0;34m(\u001b[0m\u001b[0;34m*\u001b[0m\u001b[0mfunc_args\u001b[0m\u001b[0;34m,\u001b[0m \u001b[0;34m**\u001b[0m\u001b[0mfunc_kwargs\u001b[0m\u001b[0;34m)\u001b[0m\u001b[0;34m\u001b[0m\u001b[0;34m\u001b[0m\u001b[0m\n\u001b[0m\u001b[1;32m    987\u001b[0m \u001b[0;34m\u001b[0m\u001b[0m\n\u001b[1;32m    988\u001b[0m       \u001b[0;31m# invariant: `func_outputs` contains only Tensors, CompositeTensors,\u001b[0m\u001b[0;34m\u001b[0m\u001b[0;34m\u001b[0m\u001b[0;34m\u001b[0m\u001b[0m\n",
      "\u001b[0;32m~/.local/lib/python3.7/site-packages/tensorflow/python/eager/def_function.py\u001b[0m in \u001b[0;36mwrapped_fn\u001b[0;34m(*args, **kwds)\u001b[0m\n\u001b[1;32m    598\u001b[0m         \u001b[0;31m# __wrapped__ allows AutoGraph to swap in a converted function. We give\u001b[0m\u001b[0;34m\u001b[0m\u001b[0;34m\u001b[0m\u001b[0;34m\u001b[0m\u001b[0m\n\u001b[1;32m    599\u001b[0m         \u001b[0;31m# the function a weak reference to itself to avoid a reference cycle.\u001b[0m\u001b[0;34m\u001b[0m\u001b[0;34m\u001b[0m\u001b[0;34m\u001b[0m\u001b[0m\n\u001b[0;32m--> 600\u001b[0;31m         \u001b[0;32mreturn\u001b[0m \u001b[0mweak_wrapped_fn\u001b[0m\u001b[0;34m(\u001b[0m\u001b[0;34m)\u001b[0m\u001b[0;34m.\u001b[0m\u001b[0m__wrapped__\u001b[0m\u001b[0;34m(\u001b[0m\u001b[0;34m*\u001b[0m\u001b[0margs\u001b[0m\u001b[0;34m,\u001b[0m \u001b[0;34m**\u001b[0m\u001b[0mkwds\u001b[0m\u001b[0;34m)\u001b[0m\u001b[0;34m\u001b[0m\u001b[0;34m\u001b[0m\u001b[0m\n\u001b[0m\u001b[1;32m    601\u001b[0m     \u001b[0mweak_wrapped_fn\u001b[0m \u001b[0;34m=\u001b[0m \u001b[0mweakref\u001b[0m\u001b[0;34m.\u001b[0m\u001b[0mref\u001b[0m\u001b[0;34m(\u001b[0m\u001b[0mwrapped_fn\u001b[0m\u001b[0;34m)\u001b[0m\u001b[0;34m\u001b[0m\u001b[0;34m\u001b[0m\u001b[0m\n\u001b[1;32m    602\u001b[0m \u001b[0;34m\u001b[0m\u001b[0m\n",
      "\u001b[0;32m~/.local/lib/python3.7/site-packages/tensorflow/python/framework/func_graph.py\u001b[0m in \u001b[0;36mwrapper\u001b[0;34m(*args, **kwargs)\u001b[0m\n\u001b[1;32m    971\u001b[0m           \u001b[0;32mexcept\u001b[0m \u001b[0mException\u001b[0m \u001b[0;32mas\u001b[0m \u001b[0me\u001b[0m\u001b[0;34m:\u001b[0m  \u001b[0;31m# pylint:disable=broad-except\u001b[0m\u001b[0;34m\u001b[0m\u001b[0;34m\u001b[0m\u001b[0m\n\u001b[1;32m    972\u001b[0m             \u001b[0;32mif\u001b[0m \u001b[0mhasattr\u001b[0m\u001b[0;34m(\u001b[0m\u001b[0me\u001b[0m\u001b[0;34m,\u001b[0m \u001b[0;34m\"ag_error_metadata\"\u001b[0m\u001b[0;34m)\u001b[0m\u001b[0;34m:\u001b[0m\u001b[0;34m\u001b[0m\u001b[0;34m\u001b[0m\u001b[0m\n\u001b[0;32m--> 973\u001b[0;31m               \u001b[0;32mraise\u001b[0m \u001b[0me\u001b[0m\u001b[0;34m.\u001b[0m\u001b[0mag_error_metadata\u001b[0m\u001b[0;34m.\u001b[0m\u001b[0mto_exception\u001b[0m\u001b[0;34m(\u001b[0m\u001b[0me\u001b[0m\u001b[0;34m)\u001b[0m\u001b[0;34m\u001b[0m\u001b[0;34m\u001b[0m\u001b[0m\n\u001b[0m\u001b[1;32m    974\u001b[0m             \u001b[0;32melse\u001b[0m\u001b[0;34m:\u001b[0m\u001b[0;34m\u001b[0m\u001b[0;34m\u001b[0m\u001b[0m\n\u001b[1;32m    975\u001b[0m               \u001b[0;32mraise\u001b[0m\u001b[0;34m\u001b[0m\u001b[0;34m\u001b[0m\u001b[0m\n",
      "\u001b[0;31mAssertionError\u001b[0m: in user code:\n\n    /home/m/.local/lib/python3.7/site-packages/tensorflow/python/keras/engine/training.py:806 train_function  *\n        return step_function(self, iterator)\n    /home/m/.local/lib/python3.7/site-packages/tensorflow/python/keras/engine/training.py:796 step_function  **\n        outputs = model.distribute_strategy.run(run_step, args=(data,))\n    /home/m/.local/lib/python3.7/site-packages/tensorflow/python/distribute/distribute_lib.py:1211 run\n        return self._extended.call_for_each_replica(fn, args=args, kwargs=kwargs)\n    /home/m/.local/lib/python3.7/site-packages/tensorflow/python/distribute/distribute_lib.py:2585 call_for_each_replica\n        return self._call_for_each_replica(fn, args, kwargs)\n    /home/m/.local/lib/python3.7/site-packages/tensorflow/python/distribute/distribute_lib.py:2945 _call_for_each_replica\n        return fn(*args, **kwargs)\n    /home/m/.local/lib/python3.7/site-packages/tensorflow/python/keras/engine/training.py:789 run_step  **\n        outputs = model.train_step(data)\n    /home/m/.local/lib/python3.7/site-packages/tensorflow/python/keras/engine/training.py:747 train_step\n        y_pred = self(x, training=True)\n    /home/m/.local/lib/python3.7/site-packages/tensorflow/python/keras/engine/base_layer.py:985 __call__\n        outputs = call_fn(inputs, *args, **kwargs)\n    /home/m/.local/lib/python3.7/site-packages/tensorflow/python/keras/engine/functional.py:386 call\n        inputs, training=training, mask=mask)\n    /home/m/.local/lib/python3.7/site-packages/tensorflow/python/keras/engine/functional.py:517 _run_internal_graph\n        assert x_id in tensor_dict, 'Could not compute output ' + str(x)\n\n    AssertionError: Could not compute output Tensor(\"ctc_loss/ctc_loss_6/Identity:0\", shape=(None, 64, 20), dtype=float32)\n"
     ]
    }
   ],
   "source": [
    "history = model_state.fit(\n",
    "    train_dataset,\n",
    "    validation_data=validation_dataset,\n",
    "    batch_size = 1,\n",
    "    epochs=100,\n",
    "    steps_per_epoch = len(x4train), validation_steps = len(x4test),\n",
    "    callbacks=[early_stopping, PlotLossesKerasTF()],\n",
    "    verbose = 1\n",
    ")"
   ]
  },
  {
   "cell_type": "code",
   "execution_count": 36,
   "metadata": {},
   "outputs": [],
   "source": [
    "# Get the prediction model by extracting layers till the output layer\n",
    "prediction_model4 = keras.models.Model(\n",
    "    model_state.get_layer(name=\"image\").input, model_state.get_layer(name=\"dense2\").output\n",
    ")\n",
    "# prediction_model.summary()"
   ]
  },
  {
   "cell_type": "code",
   "execution_count": 37,
   "metadata": {},
   "outputs": [],
   "source": [
    "pred = [np.argmax(np.squeeze(prediction_model4.predict(next(predict_generator))),-1) for i in range(len(x4test))]"
   ]
  },
  {
   "cell_type": "code",
   "execution_count": 38,
   "metadata": {},
   "outputs": [
    {
     "name": "stdout",
     "output_type": "stream",
     "text": [
      "\n"
     ]
    }
   ],
   "source": [
    "# best path decoding\n",
    "pred_labels = []\n",
    "\n",
    "cnt = 1\n",
    "for p in pred:\n",
    "    label = ''\n",
    "    for num in p:\n",
    "        if chr(ord('@')+num) == 'T':# or chr(ord('@')+num) == 'A':\n",
    "            continue\n",
    "        label = label + chr(ord('@')+num)\n",
    "    pred_labels.append(label)\n",
    "pred_labels = np.array(pred_labels)  \n",
    "print(pred_labels[2])"
   ]
  },
  {
   "cell_type": "code",
   "execution_count": 42,
   "metadata": {},
   "outputs": [
    {
     "name": "stdout",
     "output_type": "stream",
     "text": [
      "1. Predicted:  | A :Original\n",
      "2. Predicted:  | A :Original\n",
      "3. Predicted:  | A :Original\n",
      "4. Predicted:  | B :Original\n",
      "5. Predicted:  | B :Original\n",
      "6. Predicted:  | B :Original\n",
      "7. Predicted:  | B :Original\n",
      "8. Predicted:  | B :Original\n",
      "9. Predicted:  | B :Original\n",
      "10. Predicted:  | B :Original\n",
      "11. Predicted:  | B :Original\n",
      "12. Predicted:  | B :Original\n",
      "13. Predicted:  | B :Original\n",
      "14. Predicted:  | B :Original\n",
      "15. Predicted:  | B :Original\n",
      "16. Predicted:  | B :Original\n",
      "17. Predicted:  | B :Original\n",
      "18. Predicted:  | B :Original\n",
      "19. Predicted:  | B :Original\n",
      "20. Predicted:  | B :Original\n",
      "21. Predicted:  | B :Original\n",
      "22. Predicted:  | B :Original\n",
      "23. Predicted:  | B :Original\n",
      "24. Predicted:  | B :Original\n",
      "25. Predicted:  | B :Original\n",
      "26. Predicted:  | B :Original\n",
      "27. Predicted:  | B :Original\n",
      "28. Predicted:  | B :Original\n",
      "29. Predicted:  | B :Original\n",
      "30. Predicted:  | B :Original\n",
      "31. Predicted:  | B :Original\n",
      "32. Predicted:  | A :Original\n",
      "33. Predicted:  | C :Original\n",
      "34. Predicted:  | C :Original\n",
      "35. Predicted:  | C :Original\n",
      "36. Predicted:  | C :Original\n",
      "37. Predicted:  | C :Original\n",
      "38. Predicted:  | C :Original\n",
      "39. Predicted:  | C :Original\n",
      "40. Predicted:  | C :Original\n",
      "41. Predicted:  | A :Original\n",
      "42. Predicted:  | N :Original\n",
      "43. Predicted:  | N :Original\n",
      "44. Predicted:  | N :Original\n",
      "45. Predicted:  | N :Original\n",
      "46. Predicted:  | N :Original\n",
      "47. Predicted:  | N :Original\n",
      "48. Predicted:  | N :Original\n",
      "49. Predicted:  | N :Original\n",
      "50. Predicted:  | N :Original\n",
      "51. Predicted:  | A :Original\n",
      "52. Predicted:  | A :Original\n",
      "53. Predicted:  | A :Original\n",
      "54. Predicted:  | A :Original\n",
      "55. Predicted:  | A :Original\n",
      "56. Predicted:  | O :Original\n",
      "57. Predicted:  | O :Original\n",
      "58. Predicted:  | O :Original\n",
      "59. Predicted:  | O :Original\n",
      "60. Predicted:  | O :Original\n",
      "61. Predicted:  | O :Original\n",
      "62. Predicted:  | O :Original\n",
      "63. Predicted:  | O :Original\n",
      "64. Predicted:  | O :Original\n",
      "65. Predicted:  | O :Original\n",
      "66. Predicted:  | O :Original\n",
      "67. Predicted:  | O :Original\n",
      "68. Predicted:  | O :Original\n",
      "69. Predicted:  | A :Original\n",
      "70. Predicted:  | A :Original\n",
      "71. Predicted:  | A :Original\n",
      "72. Predicted:  | P :Original\n",
      "73. Predicted:  | P :Original\n",
      "74. Predicted:  | P :Original\n",
      "75. Predicted:  | P :Original\n",
      "76. Predicted:  | P :Original\n",
      "77. Predicted:  | P :Original\n",
      "78. Predicted:  | P :Original\n",
      "79. Predicted:  | P :Original\n",
      "80. Predicted:  | P :Original\n",
      "81. Predicted:  | P :Original\n",
      "82. Predicted:  | P :Original\n",
      "83. Predicted:  | P :Original\n",
      "84. Predicted:  | P :Original\n",
      "85. Predicted:  | A :Original\n",
      "86. Predicted:  | A :Original\n",
      "87. Predicted:  | D :Original\n",
      "88. Predicted:  | D :Original\n",
      "89. Predicted:  | D :Original\n",
      "90. Predicted:  | D :Original\n",
      "91. Predicted:  | D :Original\n",
      "92. Predicted:  | D :Original\n",
      "93. Predicted:  | D :Original\n",
      "94. Predicted:  | D :Original\n",
      "95. Predicted:  | A :Original\n",
      "96. Predicted:  | A :Original\n",
      "97. Predicted:  | A :Original\n",
      "98. Predicted:  | B :Original\n",
      "99. Predicted:  | B :Original\n",
      "100. Predicted:  | B :Original\n",
      "101. Predicted: C | B :Original\n",
      "102. Predicted:  | B :Original\n",
      "103. Predicted:  | B :Original\n",
      "104. Predicted:  | B :Original\n",
      "105. Predicted:  | B :Original\n",
      "106. Predicted:  | B :Original\n",
      "107. Predicted:  | B :Original\n",
      "108. Predicted:  | B :Original\n",
      "109. Predicted:  | B :Original\n",
      "110. Predicted:  | B :Original\n",
      "111. Predicted:  | B :Original\n",
      "112. Predicted:  | B :Original\n",
      "113. Predicted:  | B :Original\n",
      "114. Predicted:  | B :Original\n",
      "115. Predicted:  | B :Original\n",
      "116. Predicted:  | B :Original\n",
      "117. Predicted:  | B :Original\n",
      "118. Predicted:  | B :Original\n",
      "119. Predicted:  | B :Original\n",
      "120. Predicted:  | B :Original\n",
      "121. Predicted:  | B :Original\n",
      "122. Predicted:  | B :Original\n",
      "123. Predicted:  | B :Original\n",
      "124. Predicted:  | B :Original\n",
      "125. Predicted:  | B :Original\n",
      "126. Predicted:  | B :Original\n",
      "127. Predicted:  | A :Original\n",
      "128. Predicted:  | C :Original\n",
      "129. Predicted:  | C :Original\n",
      "130. Predicted:  | C :Original\n",
      "131. Predicted:  | C :Original\n",
      "132. Predicted:  | C :Original\n",
      "133. Predicted:  | C :Original\n",
      "134. Predicted:  | C :Original\n",
      "135. Predicted:  | C :Original\n",
      "136. Predicted:  | A :Original\n",
      "137. Predicted:  | A :Original\n",
      "138. Predicted:  | K :Original\n",
      "139. Predicted:  | K :Original\n",
      "140. Predicted:  | K :Original\n",
      "141. Predicted:  | K :Original\n",
      "142. Predicted:  | K :Original\n",
      "143. Predicted:  | K :Original\n",
      "144. Predicted:  | K :Original\n",
      "145. Predicted:  | K :Original\n",
      "146. Predicted:  | K :Original\n",
      "147. Predicted:  | A :Original\n",
      "148. Predicted:  | A :Original\n",
      "149. Predicted:  | A :Original\n",
      "150. Predicted:  | A :Original\n",
      "151. Predicted:  | L :Original\n",
      "152. Predicted:  | L :Original\n",
      "153. Predicted:  | L :Original\n",
      "154. Predicted:  | L :Original\n",
      "155. Predicted:  | L :Original\n",
      "156. Predicted:  | L :Original\n",
      "157. Predicted:  | L :Original\n",
      "158. Predicted:  | L :Original\n",
      "159. Predicted:  | L :Original\n",
      "160. Predicted:  | A :Original\n",
      "161. Predicted:  | A :Original\n",
      "162. Predicted:  | M :Original\n",
      "163. Predicted:  | M :Original\n",
      "164. Predicted:  | M :Original\n",
      "165. Predicted:  | M :Original\n",
      "166. Predicted:  | M :Original\n",
      "167. Predicted:  | M :Original\n",
      "168. Predicted:  | M :Original\n",
      "169. Predicted:  | M :Original\n",
      "170. Predicted:  | M :Original\n",
      "171. Predicted:  | M :Original\n",
      "172. Predicted:  | M :Original\n",
      "173. Predicted:  | A :Original\n",
      "174. Predicted:  | P :Original\n",
      "175. Predicted:  | P :Original\n",
      "176. Predicted:  | P :Original\n",
      "177. Predicted:  | D :Original\n",
      "178. Predicted:  | D :Original\n",
      "179. Predicted:  | D :Original\n",
      "180. Predicted:  | D :Original\n",
      "181. Predicted:  | D :Original\n",
      "182. Predicted:  | D :Original\n",
      "183. Predicted:  | D :Original\n",
      "184. Predicted:  | D :Original\n",
      "185. Predicted:  | D :Original\n",
      "186. Predicted:  | A :Original\n",
      "187. Predicted:  | B :Original\n",
      "188. Predicted:  | B :Original\n",
      "189. Predicted:  | B :Original\n",
      "190. Predicted:  | B :Original\n",
      "191. Predicted:  | B :Original\n",
      "192. Predicted:  | B :Original\n",
      "193. Predicted:  | B :Original\n",
      "194. Predicted:  | B :Original\n",
      "195. Predicted:  | B :Original\n",
      "196. Predicted:  | B :Original\n",
      "197. Predicted:  | B :Original\n",
      "198. Predicted:  | B :Original\n",
      "199. Predicted:  | B :Original\n",
      "200. Predicted:  | B :Original\n"
     ]
    }
   ],
   "source": [
    "for idx in range(200): #range(len(ctc_ts4)):\n",
    "    print(str(idx+1) + '. Predicted: ' + pred_labels[idx] + ' | ' + ctc_ts4[idx] + ' :Original')"
   ]
  },
  {
   "cell_type": "code",
   "execution_count": 40,
   "metadata": {
    "scrolled": true
   },
   "outputs": [],
   "source": [
    "from collections import Counter\n",
    "mode_orig = [max(Counter(y)) for y in ctc_ts4]\n",
    "mode_pred = [max(Counter(y)) if len(y) != 0 else 'A' for y in pred_labels]"
   ]
  },
  {
   "cell_type": "code",
   "execution_count": 41,
   "metadata": {},
   "outputs": [
    {
     "data": {
      "text/plain": [
       "15.527610716238382"
      ]
     },
     "execution_count": 41,
     "metadata": {},
     "output_type": "execute_result"
    }
   ],
   "source": [
    "cmp = [mode_pred[i] == mode_orig[i] for i in range(len(ctc_ts4)) if len(mode_pred[i]) != 0]\n",
    "trues = np.sum(cmp)\n",
    "acc = trues/len(cmp)*100\n",
    "acc"
   ]
  },
  {
   "cell_type": "code",
   "execution_count": null,
   "metadata": {},
   "outputs": [],
   "source": []
  },
  {
   "cell_type": "code",
   "execution_count": 104,
   "metadata": {},
   "outputs": [],
   "source": [
    "# save model\n",
    "MODEL_FILE = \"Models/ctc stateful md.json\" # save path\n",
    "WEIGHT_FILE =\"Models/ctc stateful md.h5\" # save path\n",
    "\n",
    "model_json = model33.to_json()\n",
    "with open(MODEL_FILE, \"w\") as json_file:\n",
    "    json_file.write(model_json)\n",
    "model33.save_weights(WEIGHT_FILE)"
   ]
  },
  {
   "cell_type": "code",
   "execution_count": 191,
   "metadata": {
    "scrolled": true
   },
   "outputs": [
    {
     "data": {
      "text/plain": [
       "'B'"
      ]
     },
     "execution_count": 191,
     "metadata": {},
     "output_type": "execute_result"
    }
   ],
   "source": []
  },
  {
   "cell_type": "code",
   "execution_count": null,
   "metadata": {},
   "outputs": [],
   "source": []
  },
  {
   "cell_type": "code",
   "execution_count": null,
   "metadata": {},
   "outputs": [],
   "source": []
  },
  {
   "cell_type": "code",
   "execution_count": null,
   "metadata": {},
   "outputs": [],
   "source": []
  },
  {
   "cell_type": "code",
   "execution_count": null,
   "metadata": {},
   "outputs": [],
   "source": []
  }
 ],
 "metadata": {
  "kernelspec": {
   "display_name": "Python 3",
   "language": "python",
   "name": "python3"
  },
  "language_info": {
   "codemirror_mode": {
    "name": "ipython",
    "version": 3
   },
   "file_extension": ".py",
   "mimetype": "text/x-python",
   "name": "python",
   "nbconvert_exporter": "python",
   "pygments_lexer": "ipython3",
   "version": "3.7.2"
  }
 },
 "nbformat": 4,
 "nbformat_minor": 2
}
