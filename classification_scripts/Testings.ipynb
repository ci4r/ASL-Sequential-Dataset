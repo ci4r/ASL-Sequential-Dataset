{
 "cells": [
  {
   "cell_type": "code",
   "execution_count": 2,
   "metadata": {},
   "outputs": [
    {
     "name": "stderr",
     "output_type": "stream",
     "text": [
      "Using TensorFlow backend.\n"
     ]
    },
    {
     "name": "stdout",
     "output_type": "stream",
     "text": [
      "Num GPUs Available:  1\n"
     ]
    }
   ],
   "source": [
    "# %matplotlib inline\n",
    "import matplotlib.pyplot as plt\n",
    "import matplotlib.image as mpimg\n",
    "import tensorflow as tf\n",
    "import os\n",
    "# Create a MirroredStrateg, If Multi-GPU available\n",
    "os.environ['TF_FORCE_GPU_ALLOW_GROWTH'] = 'true' \n",
    "tf.config.set_soft_device_placement(True)\n",
    "# strategy = tf.distribute.MirroredStrategy(devices=['/gpu:1','/gpu:2']) \n",
    "# print('Number of GPUs being used: {}'.format(strategy.num_replicas_in_sync))\n",
    "from tensorflow.keras.preprocessing.image import ImageDataGenerator\n",
    "from tensorflow.keras.models import Sequential, Model, model_from_json\n",
    "from tensorflow.keras.optimizers import *\n",
    "from tensorflow.keras.layers import *\n",
    "from tensorflow.keras.callbacks import CSVLogger\n",
    "from tensorflow.keras.wrappers.scikit_learn import KerasClassifier\n",
    "from tensorflow.keras.applications import VGG16, ResNet50\n",
    "from tensorflow.keras.utils import to_categorical\n",
    "from sklearn.model_selection import train_test_split\n",
    "from livelossplot.keras import PlotLossesCallback\n",
    "from livelossplot import PlotLossesKerasTF\n",
    "import efficientnet.keras as efn\n",
    "import h5py, glob, re, cv2, math, matplotlib\n",
    "import tensorflow.keras as keras\n",
    "import pandas as pd\n",
    "from pandas import read_csv\n",
    "import numpy as np\n",
    "from scipy import stats\n",
    "import itertools, random\n",
    "\n",
    "# from cnn_utils import *\n",
    "# from tensorflow.compat.v1 import ConfigProto\n",
    "# from tensorflow.compat.v1 import InteractiveSession\n",
    "from sklearn.metrics import classification_report, confusion_matrix\n",
    "from sklearn.utils import class_weight\n",
    "from PIL import Image  \n",
    "import pdb\n",
    "from statistics import mode \n",
    "from IPython.display import clear_output\n",
    "\n",
    "# config = ConfigProto()\n",
    "# config.gpu_options.allow_growth = True\n",
    "# session = InteractiveSession(config=config)\n",
    "\n",
    "np.random.seed(1)\n",
    "# Setting the seed for python random numbers\n",
    "random.seed(1254)\n",
    "# Setting the graph-level random seed.\n",
    "tf.random.set_seed(89)\n",
    "\n",
    "os.environ[\"CUDA_DEVICE_ORDER\"] = \"PCI_BUS_ID\"\n",
    "os.environ[\"CUDA_VISIBLE_DEVICES\"] = \"2\"\n",
    "!CUDA_VISIBLE_DEVICES=2\n",
    "\n",
    "# strategy = tf.distribute.MirroredStrategy(devices=['/gpu:1','/gpu:2'])\n",
    "# print('Number of GPUs being used: {}'.format(strategy.num_replicas_in_sync))\n",
    "# print('Number of GPUs being used: {}'.format(strategy.num_replicas_in_sync))\n",
    "# def setup_multi_node_training(): # IMPORTANT: SET UP TF_CONFIG FOR MULTINODE TRAINING HERE os.environ[“TF_FORCE_GPU_ALLOW_GROWTH”] = “true” tf.config.set_soft_device_placement(True) mirrored_strategy = tf.distribute.experimental.MultiWorkerMirroredStrategy(tf.distribute.experimental.CollectiveCommunication.NCCL) # Constructs the configuration run_config = tf.estimator.RunConfig( train_distribute=mirrored_strategy, ) return run_config\n",
    "print(\"Num GPUs Available: \", len(tf.config.experimental.list_physical_devices('GPU')))"
   ]
  },
  {
   "cell_type": "markdown",
   "metadata": {},
   "source": [
    "## Load Data"
   ]
  },
  {
   "cell_type": "code",
   "execution_count": 2,
   "metadata": {},
   "outputs": [
    {
     "name": "stdout",
     "output_type": "stream",
     "text": [
      "Selected File: Datasets/All_subjects_RDmap.hdf5\n",
      "(527, 605, 128, 128, 3)\n",
      "(527, 605, 19)\n",
      "(132, 605, 128, 128, 3)\n",
      "(132, 605, 19)\n"
     ]
    }
   ],
   "source": [
    "filename = 'Datasets/All_subjects_RDmap.hdf5'\n",
    "data = h5py.File(filename, \"r\")\n",
    "print('Selected File: '+str(filename))\n",
    "x_train1 = np.array(data[\"train_img\"])\n",
    "y_train1 = np.array(data[\"train_labels\"])\n",
    "x_test1 = np.array(data[\"test_img\"])\n",
    "y_test1 = np.array(data[\"test_labels\"])\n",
    "data.close()\n",
    "print(x_train1.shape)\n",
    "print(y_train1.shape)\n",
    "print(x_test1.shape)\n",
    "print(y_test1.shape)"
   ]
  },
  {
   "cell_type": "code",
   "execution_count": 3,
   "metadata": {},
   "outputs": [
    {
     "name": "stdout",
     "output_type": "stream",
     "text": [
      "Selected File: Datasets/All_subjects_RAmap.hdf5\n",
      "(527, 605, 128, 128, 3)\n",
      "(527, 605, 19)\n",
      "(132, 605, 128, 128, 3)\n",
      "(132, 605, 19)\n"
     ]
    }
   ],
   "source": [
    "filename = 'Datasets/All_subjects_RAmap.hdf5'\n",
    "data = h5py.File(filename, \"r\")\n",
    "print('Selected File: '+str(filename))\n",
    "x_train2 = np.array(data[\"train_img\"])\n",
    "y_train2 = np.array(data[\"train_labels\"])\n",
    "x_test2 = np.array(data[\"test_img\"])\n",
    "y_test2 = np.array(data[\"test_labels\"])\n",
    "data.close()\n",
    "print(x_train2.shape)\n",
    "print(y_train2.shape)\n",
    "print(x_test2.shape)\n",
    "print(y_test2.shape)"
   ]
  },
  {
   "cell_type": "code",
   "execution_count": 4,
   "metadata": {},
   "outputs": [
    {
     "name": "stdout",
     "output_type": "stream",
     "text": [
      "(527, 120, 5, 128, 128, 3)\n",
      "(527, 120, 19)\n",
      "(132, 120, 5, 128, 128, 3)\n",
      "(132, 120, 19)\n",
      "(527, 120, 5, 128, 128, 3)\n",
      "(527, 120, 19)\n",
      "(132, 120, 5, 128, 128, 3)\n",
      "(132, 120, 19)\n"
     ]
    }
   ],
   "source": [
    "# windowed RD\n",
    "interval = range(0,600)\n",
    "x_train11 = np.reshape(x_train1[:,interval,:,:,:], (x_train1.shape[0],120,5,x_train1.shape[2],x_train1.shape[3],x_train1.shape[4]))\n",
    "x_test11 = np.reshape(x_test1[:,interval,:,:,:], (x_test1.shape[0],120,5,x_test1.shape[2],x_test1.shape[3],x_test1.shape[4]))\n",
    "y_train11 = np.reshape(np.argmax(y_train1[:,interval,:],-1), (y_train1.shape[0],120,5))\n",
    "y_test11 = np.reshape(np.argmax(y_test1[:,interval,:],-1), (y_test1.shape[0],120,5))\n",
    "y_train11 = to_categorical(np.squeeze(stats.mode(y_train11,2)[0]))\n",
    "y_test11 = to_categorical(np.squeeze(stats.mode(y_test11,2)[0]))\n",
    "print(x_train11.shape)\n",
    "print(y_train11.shape)\n",
    "print(x_test11.shape)\n",
    "print(y_test11.shape)  \n",
    "\n",
    "# windowed RA\n",
    "x_train12 = np.reshape(x_train2[:,interval,:,:,:], (x_train2.shape[0],120,5,x_train2.shape[2],x_train2.shape[3],x_train2.shape[4]))\n",
    "x_test12 = np.reshape(x_test2[:,interval,:,:,:], (x_test2.shape[0],120,5,x_test2.shape[2],x_test2.shape[3],x_test2.shape[4]))\n",
    "y_train12 = np.reshape(np.argmax(y_train2[:,interval,:],-1), (y_train2.shape[0],120,5))\n",
    "y_test12 = np.reshape(np.argmax(y_test2[:,interval,:],-1), (y_test2.shape[0],120,5))\n",
    "y_train12 = to_categorical(np.squeeze(stats.mode(y_train12,2)[0]))\n",
    "y_test12 = to_categorical(np.squeeze(stats.mode(y_test12,2)[0]))\n",
    "print(x_train12.shape)\n",
    "print(y_train12.shape)\n",
    "print(x_test12.shape)\n",
    "print(y_test12.shape) "
   ]
  },
  {
   "cell_type": "code",
   "execution_count": 5,
   "metadata": {},
   "outputs": [
    {
     "name": "stdout",
     "output_type": "stream",
     "text": [
      "Selected File: Datasets/All_subjects_spectrogram.hdf5\n",
      "(527, 120, 128, 128, 3)\n",
      "(527, 120, 19)\n",
      "(132, 120, 128, 128, 3)\n",
      "(132, 120, 19)\n"
     ]
    }
   ],
   "source": [
    "filename = 'Datasets/All_subjects_spectrogram.hdf5'\n",
    "data = h5py.File(filename, \"r\")\n",
    "print('Selected File: '+str(filename))\n",
    "x_train3 = np.array(data[\"train_img\"])\n",
    "y_train3 = np.array(data[\"train_labels\"])\n",
    "x_test3 = np.array(data[\"test_img\"])\n",
    "y_test3 = np.array(data[\"test_labels\"])\n",
    "data.close()\n",
    "print(x_train3.shape)\n",
    "print(y_train3.shape)\n",
    "print(x_test3.shape)\n",
    "print(y_test3.shape)"
   ]
  },
  {
   "cell_type": "code",
   "execution_count": 6,
   "metadata": {},
   "outputs": [
    {
     "name": "stdout",
     "output_type": "stream",
     "text": [
      "Selected File: Datasets/All_subjects_margins_and_ctc_label_no_nucleus.hdf5\n",
      "(527, 1482)\n",
      "(527,)\n",
      "(132, 1482)\n",
      "(132,)\n"
     ]
    }
   ],
   "source": [
    "filename = 'Datasets/All_subjects_margins_and_ctc_label_no_nucleus.hdf5'\n",
    "data = h5py.File(filename, \"r\")\n",
    "print('Selected File: '+str(filename))\n",
    "margin_tr = np.array(data[\"train_img\"])\n",
    "ctc_tr = np.squeeze(np.array(data[\"train_labels\"])).astype('U12')\n",
    "margin_ts = np.array(data[\"test_img\"])\n",
    "ctc_ts = np.squeeze(np.array(data[\"test_labels\"])).astype('U12')\n",
    "data.close()\n",
    "print(margin_tr.shape)\n",
    "print(ctc_tr.shape)\n",
    "print(margin_ts.shape)\n",
    "print(ctc_ts.shape)"
   ]
  },
  {
   "cell_type": "code",
   "execution_count": 7,
   "metadata": {},
   "outputs": [
    {
     "name": "stdout",
     "output_type": "stream",
     "text": [
      "Selected File: Datasets/All_subjects_spect_single.hdf5\n",
      "(527, 128, 128, 3)\n",
      "(132, 128, 128, 3)\n"
     ]
    }
   ],
   "source": [
    "filename = 'Datasets/All_subjects_spect_single.hdf5'\n",
    "data = h5py.File(filename, \"r\")\n",
    "print('Selected File: '+str(filename))\n",
    "x_train4 = np.array(data[\"train_img\"])\n",
    "x_test4 = np.array(data[\"test_img\"])\n",
    "data.close()\n",
    "print(x_train4.shape)\n",
    "print(x_test4.shape)"
   ]
  },
  {
   "cell_type": "code",
   "execution_count": null,
   "metadata": {},
   "outputs": [],
   "source": []
  },
  {
   "cell_type": "code",
   "execution_count": null,
   "metadata": {},
   "outputs": [],
   "source": []
  },
  {
   "cell_type": "code",
   "execution_count": null,
   "metadata": {},
   "outputs": [],
   "source": []
  },
  {
   "cell_type": "code",
   "execution_count": null,
   "metadata": {},
   "outputs": [],
   "source": []
  },
  {
   "cell_type": "markdown",
   "metadata": {},
   "source": [
    "##### STA LTA"
   ]
  },
  {
   "cell_type": "code",
   "execution_count": 11,
   "metadata": {},
   "outputs": [],
   "source": [
    "def sta_lta2(vec,nlta,nsta,init_th,stop_th,stepsz):\n",
    "    vec2 = np.zeros(vec.shape)\n",
    "    mask = np.zeros(vec.shape)\n",
    "    state = 0 # '0' nothing, '1' signing\n",
    "    \n",
    "    for i in range(0,len(vec),stepsz):\n",
    "        \n",
    "        if i+nlta+nsta+1 > len(vec):\n",
    "            if state == 1:\n",
    "                stoppt = len(vec)-2\n",
    "                vec2[startpt:stoppt] = vec[startpt:stoppt]\n",
    "                mask[startpt:stoppt] = 1\n",
    "            break\n",
    "            \n",
    "            \n",
    "        longwin = vec[i:i+nlta]\n",
    "        shortwin = vec[i+nlta:i+nlta+nsta]\n",
    "        \n",
    "        if i < nlta and np.mean(longwin) > 150:\n",
    "            vec2[0:i+nsta] = vec[0:i+nsta]\n",
    "            mask[0:i+nsta] = 1\n",
    "        if init_th < sum(shortwin)/sum(longwin):\n",
    "            if state == 0:\n",
    "                startpt = i+nlta\n",
    "                state = 1\n",
    "            if state == 1:\n",
    "                continue\n",
    "        \n",
    "        else:\n",
    "            if state == 0:\n",
    "                continue\n",
    "            if state == 1:\n",
    "                if sum(shortwin)/sum(longwin) > stop_th:\n",
    "                    continue\n",
    "                else:\n",
    "                    stoppt = i+nlta+int(nsta/2)\n",
    "                    state = 0\n",
    "                    vec2[startpt:stoppt] = vec[startpt:stoppt]\n",
    "                    mask[startpt:stoppt] = 1\n",
    "                    \n",
    "    return vec2, mask"
   ]
  },
  {
   "cell_type": "code",
   "execution_count": 9,
   "metadata": {},
   "outputs": [],
   "source": [
    "duration = 24.2\n",
    "nsta_sec = 0.7\n",
    "ratio = margin_tr.shape[-1]/duration\n",
    "nsta = int(nsta_sec*ratio)\n",
    "nlta = int(2*nsta)\n",
    "stepsz = int(0.2*ratio) # 0.2\n",
    "timevec = np.linspace(0,24.2,margin_ts.shape[1])\n",
    "idx = 27\n",
    "init_th = 0.6\n",
    "stop_th = 0.3\n",
    "vecs_train = [] #np.zeros(np.argmax(margin_tr,-1).shape)\n",
    "mask_train = [] #np.zeros(np.argmax(margin_tr,-1).shape)\n",
    "vecs_test = [] #np.zeros(np.argmax(margin_ts,-1).shape)\n",
    "mask_test = [] #np.zeros(np.argmax(margin_ts,-1).shape)\n",
    "for i in range(len(margin_tr)):\n",
    "    vecs_train.append(sta_lta2(margin_tr[i],nlta,nsta,init_th,stop_th,stepsz)[0])\n",
    "    mask_train.append(sta_lta2(margin_tr[i],nlta,nsta,init_th,stop_th,stepsz)[1])\n",
    "# mask_train_win = mask_train[:,::5]\n",
    "for i in range(len(margin_ts)):\n",
    "    vecs_test.append(sta_lta2(margin_ts[i],nlta,nsta,init_th,stop_th,stepsz)[0])\n",
    "    mask_test.append(sta_lta2(margin_ts[i],nlta,nsta,init_th,stop_th,stepsz)[1])\n",
    "# mask_test_win = mask_test[:,::5]\n",
    "mask_train = np.array(mask_train)\n",
    "mask_test = np.array(mask_test)"
   ]
  },
  {
   "cell_type": "markdown",
   "metadata": {},
   "source": [
    "### Visualize"
   ]
  },
  {
   "cell_type": "code",
   "execution_count": 10,
   "metadata": {},
   "outputs": [
    {
     "data": {
      "text/plain": [
       "array([0, 1, 2, 3, 4, 5, 6])"
      ]
     },
     "execution_count": 10,
     "metadata": {},
     "output_type": "execute_result"
    }
   ],
   "source": [
    "np.unique(np.argmax(y_test3[idx],-1))"
   ]
  },
  {
   "cell_type": "code",
   "execution_count": 11,
   "metadata": {},
   "outputs": [
    {
     "name": "stdout",
     "output_type": "stream",
     "text": [
      "Mask shapes:\n",
      "(527, 605)\n",
      "(132, 605)\n",
      "(527, 120)\n",
      "(132, 120)\n"
     ]
    }
   ],
   "source": [
    "# downsample the mask to vid\n",
    "mask_vid_tr = np.zeros(np.argmax(y_train1,-1).shape)\n",
    "ratio1 = mask_train.shape[-1]/mask_vid_tr.shape[-1]\n",
    "for i in range(len(mask_train)):\n",
    "    for j in range(mask_train.shape[-1]):\n",
    "        if mask_train[i,j] == 0:\n",
    "            continue\n",
    "        else:\n",
    "            mask_vid_tr[i,int(j/ratio1)] = 1\n",
    "mask_vid_ts = np.zeros(np.argmax(y_test1,-1).shape)\n",
    "for i in range(len(mask_test)):\n",
    "    for j in range(mask_test.shape[-1]):\n",
    "        if mask_test[i,j] == 0:\n",
    "            continue\n",
    "        else:\n",
    "            mask_vid_ts[i,int(j/ratio1)] = 1\n",
    "\n",
    "# downsample the mask to spect\n",
    "mask_spect_tr = np.zeros(np.argmax(y_train3,-1).shape)\n",
    "ratio2 = mask_train.shape[-1]/mask_spect_tr.shape[-1]\n",
    "for i in range(len(mask_train)):\n",
    "    for j in range(mask_train.shape[-1]):\n",
    "        if mask_train[i,j] == 0:\n",
    "            continue\n",
    "        else:\n",
    "            mask_spect_tr[i,int(j/ratio2)] = 1\n",
    "mask_spect_ts = np.zeros(np.argmax(y_test3,-1).shape)\n",
    "for i in range(len(mask_test)):\n",
    "    for j in range(mask_test.shape[-1]):\n",
    "        if mask_test[i,j] == 0:\n",
    "            continue\n",
    "        else:\n",
    "            mask_spect_ts[i,int(j/ratio2)] = 1\n",
    "print('Mask shapes:')\n",
    "print(mask_vid_tr.shape)\n",
    "print(mask_vid_ts.shape)\n",
    "print(mask_spect_tr.shape)\n",
    "print(mask_spect_ts.shape)"
   ]
  },
  {
   "cell_type": "code",
   "execution_count": 12,
   "metadata": {},
   "outputs": [],
   "source": [
    "def gesture_counter(mask):\n",
    "    cnt = 0\n",
    "    flag = 0\n",
    "    for i in range(len(mask)):\n",
    "        if flag == 0 and mask[i] == 0:\n",
    "            continue\n",
    "        if flag == 1 and mask[i] == 1:\n",
    "            continue\n",
    "        if flag == 0 and mask[i] == 1:\n",
    "            flag = 1\n",
    "            cnt += 1\n",
    "        if flag == 1 and mask[i] == 0:\n",
    "            flag = 0\n",
    "    return cnt"
   ]
  },
  {
   "cell_type": "code",
   "execution_count": 54,
   "metadata": {
    "scrolled": true
   },
   "outputs": [
    {
     "data": {
      "text/plain": [
       "813"
      ]
     },
     "execution_count": 54,
     "metadata": {},
     "output_type": "execute_result"
    }
   ],
   "source": [
    "numgest = [gesture_counter(m) for m in mask_spect_ts]\n",
    "sum(numgest)"
   ]
  },
  {
   "cell_type": "code",
   "execution_count": 22,
   "metadata": {},
   "outputs": [
    {
     "data": {
      "text/plain": [
       "19"
      ]
     },
     "execution_count": 22,
     "metadata": {},
     "output_type": "execute_result"
    }
   ],
   "source": [
    "num_class = y_test3.shape[2]\n",
    "num_class"
   ]
  },
  {
   "cell_type": "code",
   "execution_count": 3,
   "metadata": {},
   "outputs": [],
   "source": [
    "def masker(x, y, mask):\n",
    "    x2 = []\n",
    "    y2 = []\n",
    "    flag = 0\n",
    "    for i in range(len(mask)):\n",
    "        for j in range(mask.shape[1]):\n",
    "            if flag == 0 and mask[i,j] == 0:\n",
    "                continue\n",
    "            if flag == 1 and mask[i,j] == 1:\n",
    "                if j == mask.shape[1]-1 and j+1 - startpt > 2:\n",
    "                    stoppt = j+1\n",
    "                    x2.append(x[i,startpt:stoppt])\n",
    "                    y2.append(np.squeeze(np.argmax(y[i,startpt:stoppt],-1)))\n",
    "                else:\n",
    "                    continue\n",
    "            if flag == 0 and mask[i,j] == 1:\n",
    "                flag = 1\n",
    "                startpt = j\n",
    "            if flag == 1 and mask[i,j] == 0:\n",
    "                flag = 0\n",
    "                stoppt = j+1\n",
    "                if stoppt-startpt > 2:\n",
    "                    x2.append(x[i,startpt:stoppt])\n",
    "                    y2.append(np.squeeze(np.argmax(y[i,startpt:stoppt],-1)))\n",
    "    \n",
    "    x2 = np.asarray(x2)\n",
    "    y2 = np.array([to_categorical(y,num_classes=num_class) for y in np.array(y2)])\n",
    "    return x2, y2"
   ]
  },
  {
   "cell_type": "code",
   "execution_count": 16,
   "metadata": {},
   "outputs": [
    {
     "name": "stderr",
     "output_type": "stream",
     "text": [
      "/home/m/.local/lib/python3.7/site-packages/numpy/core/_asarray.py:83: VisibleDeprecationWarning: Creating an ndarray from ragged nested sequences (which is a list-or-tuple of lists-or-tuples-or ndarrays with different lengths or shapes) is deprecated. If you meant to do this, you must specify 'dtype=object' when creating the ndarray\n",
      "  return array(a, dtype, copy=False, order=order)\n",
      "/usr/local/lib/python3.7/site-packages/ipykernel_launcher.py:27: VisibleDeprecationWarning: Creating an ndarray from ragged nested sequences (which is a list-or-tuple of lists-or-tuples-or ndarrays with different lengths or shapes) is deprecated. If you meant to do this, you must specify 'dtype=object' when creating the ndarray\n"
     ]
    },
    {
     "name": "stdout",
     "output_type": "stream",
     "text": [
      "(3042,)\n",
      "(3042,)\n",
      "(740,)\n",
      "(740,)\n",
      "(3042,)\n",
      "(3042,)\n",
      "(740,)\n",
      "(740,)\n",
      "(3042,)\n",
      "(3042,)\n",
      "(740,)\n",
      "(740,)\n"
     ]
    }
   ],
   "source": [
    "x1train, y1train = masker(x_train11, y_train3, mask_spect_tr)\n",
    "x1test, y1test = masker(x_test11, y_test3, mask_spect_ts)\n",
    "x2train, y2train = masker(x_train12, y_train3, mask_spect_tr)\n",
    "x2test, y2test = masker(x_test12, y_test3, mask_spect_ts)\n",
    "x3train, y3train = masker(x_train3, y_train3, mask_spect_tr)\n",
    "x3test, y3test = masker(x_test3, y_test3, mask_spect_ts)\n",
    "print(x1train.shape)\n",
    "print(y1train.shape)\n",
    "print(x1test.shape)\n",
    "print(y1test.shape)\n",
    "print(x2train.shape)\n",
    "print(y2train.shape)\n",
    "print(x2test.shape)\n",
    "print(y2test.shape)\n",
    "print(x3train.shape)\n",
    "print(y3train.shape)\n",
    "print(x3test.shape)\n",
    "print(y3test.shape)"
   ]
  },
  {
   "cell_type": "code",
   "execution_count": 56,
   "metadata": {},
   "outputs": [
    {
     "name": "stdout",
     "output_type": "stream",
     "text": [
      "(831,)\n",
      "(831,)\n",
      "(831,)\n",
      "(831,)\n"
     ]
    },
    {
     "name": "stderr",
     "output_type": "stream",
     "text": [
      "/usr/local/lib/python3.7/site-packages/ipykernel_launcher.py:27: VisibleDeprecationWarning: Creating an ndarray from ragged nested sequences (which is a list-or-tuple of lists-or-tuples-or ndarrays with different lengths or shapes) is deprecated. If you meant to do this, you must specify 'dtype=object' when creating the ndarray\n"
     ]
    }
   ],
   "source": [
    "x1test_nowin, y1test_nowin = masker(x_test1, y_test1, mask_vid_ts)\n",
    "x2test_nowin, y2test_nowin = masker(x_test2, y_test2, mask_vid_ts)\n",
    "print(x1test_nowin.shape)\n",
    "print(y1test_nowin.shape)\n",
    "print(x2test_nowin.shape)\n",
    "print(y2test_nowin.shape)"
   ]
  },
  {
   "cell_type": "markdown",
   "metadata": {},
   "source": [
    "### No GD"
   ]
  },
  {
   "cell_type": "code",
   "execution_count": 21,
   "metadata": {},
   "outputs": [],
   "source": [
    "def data_generator_nolabel(data, batch_size=1):              \n",
    "    \"\"\"\n",
    "    Yields the next training batch.\n",
    "    data is an array  [[[frame1_filename,frame2_filename,…frame16_filename],label1], [[frame1_filename,frame2_filename,…frame16_filename],label2],……….].\n",
    "    \"\"\"\n",
    "    num_samples = data.shape[0]\n",
    "    \n",
    "    while True:   \n",
    "        for offset in range(0, num_samples, batch_size):\n",
    "    #             print ('starting index: ', offset) \n",
    "            # Get the samples you'll use in this batch\n",
    "            batch_samples = data[offset:offset+batch_size]\n",
    "#             label = labels[offset:offset+batch_size]\n",
    "            # Initialise X_train and y_train arrays for this batch\n",
    "            X_train = []\n",
    "            y_train = []\n",
    "            # For each example\n",
    "            for i in range(0,batch_samples.shape[0]):\n",
    "                X_train.append(batch_samples[i])\n",
    "#                 y_train.append(np.array([ord(y)%32 for y in label[i]]))\n",
    "\n",
    "            # Make sure they're numpy arrays (as opposed to lists)\n",
    "            X_train = np.array(X_train)\n",
    "            #X_train = np.rollaxis(X_train,1,4)\n",
    "#             y_train = np.array(y_train)\n",
    "\n",
    "            # yield the next training batch            \n",
    "            yield X_train"
   ]
  },
  {
   "cell_type": "code",
   "execution_count": 17,
   "metadata": {},
   "outputs": [],
   "source": [
    "model_file = 'Models/td2d-bilstm 19 class NO GD fbf seq mD.json'\n",
    "w_file = 'Models/td2d-bilstm 19 class NO GD fbf seq mD.h5'\n",
    "json_file = open(model_file, 'r')\n",
    "loaded_model_json = json_file.read()\n",
    "json_file.close()\n",
    "model_nogd_md = model_from_json(loaded_model_json)\n",
    "model_nogd_md.load_weights(w_file)"
   ]
  },
  {
   "cell_type": "code",
   "execution_count": 19,
   "metadata": {},
   "outputs": [],
   "source": [
    "model_file = 'Models/td2d-bilstm 19 class NO GD fbf seq RD.json'\n",
    "w_file = 'Models/td2d-bilstm 19 class NO GD fbf seq RD.h5'\n",
    "json_file = open(model_file, 'r')\n",
    "loaded_model_json = json_file.read()\n",
    "json_file.close()\n",
    "model_nogd_rd = model_from_json(loaded_model_json)\n",
    "model_nogd_rd.load_weights(w_file)"
   ]
  },
  {
   "cell_type": "code",
   "execution_count": 20,
   "metadata": {},
   "outputs": [],
   "source": [
    "model_file = 'Models/td2d-bilstm 19 class NO GD fbf seq RA.json'\n",
    "w_file = 'Models/td2d-bilstm 19 class NO GD fbf seq RA.h5'\n",
    "json_file = open(model_file, 'r')\n",
    "loaded_model_json = json_file.read()\n",
    "json_file.close()\n",
    "model_nogd_ra = model_from_json(loaded_model_json)\n",
    "model_nogd_ra.load_weights(w_file)"
   ]
  },
  {
   "cell_type": "code",
   "execution_count": 68,
   "metadata": {},
   "outputs": [],
   "source": [
    "predict_generator = data_generator_nolabel(x2test_nowin)"
   ]
  },
  {
   "cell_type": "code",
   "execution_count": 63,
   "metadata": {},
   "outputs": [],
   "source": [
    "pred = [np.argmax(np.squeeze(model_nogd_ra.predict(next(predict_generator))),-1) for i in range(len(x2test_nowin))]"
   ]
  },
  {
   "cell_type": "code",
   "execution_count": 64,
   "metadata": {
    "scrolled": true
   },
   "outputs": [],
   "source": [
    "# best path decoding\n",
    "pred_labels = np.squeeze(np.array([stats.mode(p)[0] for p in pred]))"
   ]
  },
  {
   "cell_type": "code",
   "execution_count": 65,
   "metadata": {},
   "outputs": [],
   "source": [
    "actuals = np.squeeze(np.array([stats.mode(np.argmax(y,-1))[0] for y in y2test_nowin]))"
   ]
  },
  {
   "cell_type": "code",
   "execution_count": 66,
   "metadata": {},
   "outputs": [
    {
     "data": {
      "text/plain": [
       "60.64981949458483"
      ]
     },
     "execution_count": 66,
     "metadata": {},
     "output_type": "execute_result"
    }
   ],
   "source": [
    "cmp = pred_labels == actuals\n",
    "trues = np.sum(cmp)\n",
    "acc = trues/len(cmp)*100\n",
    "acc"
   ]
  },
  {
   "cell_type": "markdown",
   "metadata": {},
   "source": [
    "## Blake's Data"
   ]
  },
  {
   "cell_type": "code",
   "execution_count": 12,
   "metadata": {},
   "outputs": [],
   "source": [
    "class CTCLayer(Layer):\n",
    "    def __init__(self, name=None, **kwargs):\n",
    "        super().__init__(name=name)\n",
    "        self.loss_fn = keras.backend.ctc_batch_cost\n",
    "\n",
    "    def call(self, y_true, y_pred):\n",
    "        # Compute the training-time loss value and add it\n",
    "        # to the layer using `self.add_loss()`.\n",
    "        batch_len = tf.cast(tf.shape(y_true)[0], dtype=\"int64\")\n",
    "        input_length = tf.cast(tf.shape(y_pred)[1], dtype=\"int64\")\n",
    "        label_length = tf.cast(tf.shape(y_true)[1], dtype=\"int64\")\n",
    "\n",
    "        input_length = input_length * tf.ones(shape=(batch_len, 1), dtype=\"int64\")\n",
    "        label_length = label_length * tf.ones(shape=(batch_len, 1), dtype=\"int64\")\n",
    "\n",
    "        loss = self.loss_fn(y_true, y_pred, input_length, label_length)\n",
    "        self.add_loss(loss)\n",
    "\n",
    "        # At test time, just return the computed predictions\n",
    "        return y_pred"
   ]
  },
  {
   "cell_type": "code",
   "execution_count": 13,
   "metadata": {},
   "outputs": [
    {
     "name": "stdout",
     "output_type": "stream",
     "text": [
      "Selected File: Datasets/Blake_RDmap.hdf5\n",
      "(14, 750, 128, 128, 3)\n",
      "(14, 750, 19)\n",
      "(4, 750, 128, 128, 3)\n",
      "(4, 750, 19)\n"
     ]
    }
   ],
   "source": [
    "filename = 'Datasets/Blake_RDmap.hdf5'\n",
    "data = h5py.File(filename, \"r\")\n",
    "print('Selected File: '+str(filename))\n",
    "x_train1 = np.array(data[\"train_img\"])\n",
    "y_train1 = np.array(data[\"train_labels\"])\n",
    "x_test1 = np.array(data[\"test_img\"])\n",
    "y_test1 = np.array(data[\"test_labels\"])\n",
    "data.close()\n",
    "print(x_train1.shape)\n",
    "print(y_train1.shape)\n",
    "print(x_test1.shape)\n",
    "print(y_test1.shape)"
   ]
  },
  {
   "cell_type": "code",
   "execution_count": 14,
   "metadata": {},
   "outputs": [
    {
     "name": "stdout",
     "output_type": "stream",
     "text": [
      "Selected File: Datasets/Blake_RAmap.hdf5\n",
      "(14, 750, 128, 128, 3)\n",
      "(14, 750, 19)\n",
      "(4, 750, 128, 128, 3)\n",
      "(4, 750, 19)\n"
     ]
    }
   ],
   "source": [
    "filename = 'Datasets/Blake_RAmap.hdf5'\n",
    "data = h5py.File(filename, \"r\")\n",
    "print('Selected File: '+str(filename))\n",
    "x_train2 = np.array(data[\"train_img\"])\n",
    "y_train2 = np.array(data[\"train_labels\"])\n",
    "x_test2 = np.array(data[\"test_img\"])\n",
    "y_test2 = np.array(data[\"test_labels\"])\n",
    "data.close()\n",
    "print(x_train2.shape)\n",
    "print(y_train2.shape)\n",
    "print(x_test2.shape)\n",
    "print(y_test2.shape)"
   ]
  },
  {
   "cell_type": "code",
   "execution_count": 15,
   "metadata": {},
   "outputs": [
    {
     "name": "stdout",
     "output_type": "stream",
     "text": [
      "(14, 150, 5, 128, 128, 3)\n",
      "(14, 150, 19)\n",
      "(4, 150, 5, 128, 128, 3)\n",
      "(4, 150, 19)\n",
      "(14, 150, 5, 128, 128, 3)\n",
      "(14, 150, 19)\n",
      "(4, 150, 5, 128, 128, 3)\n",
      "(4, 150, 19)\n"
     ]
    }
   ],
   "source": [
    "# windowed RD\n",
    "interval = range(0,750)\n",
    "winlenx = 5\n",
    "totallen = 150\n",
    "x_train11 = np.reshape(x_train1[:,interval,:,:,:], (x_train1.shape[0],totallen,winlenx,x_train1.shape[2],x_train1.shape[3],x_train1.shape[4]))\n",
    "x_test11 = np.reshape(x_test1[:,interval,:,:,:], (x_test1.shape[0],totallen,winlenx,x_test1.shape[2],x_test1.shape[3],x_test1.shape[4]))\n",
    "y_train11 = np.reshape(np.argmax(y_train1[:,interval,:],-1), (y_train1.shape[0],totallen,winlenx))\n",
    "y_test11 = np.reshape(np.argmax(y_test1[:,interval,:],-1), (y_test1.shape[0],totallen,winlenx))\n",
    "y_train11 = to_categorical(np.squeeze(stats.mode(y_train11,2)[0]))\n",
    "y_test11 = to_categorical(np.squeeze(stats.mode(y_test11,2)[0]))\n",
    "print(x_train11.shape)\n",
    "print(y_train11.shape)\n",
    "print(x_test11.shape)\n",
    "print(y_test11.shape)  \n",
    "\n",
    "# windowed RA\n",
    "x_train12 = np.reshape(x_train2[:,interval,:,:,:], (x_train2.shape[0],totallen,winlenx,x_train2.shape[2],x_train2.shape[3],x_train2.shape[4]))\n",
    "x_test12 = np.reshape(x_test2[:,interval,:,:,:], (x_test2.shape[0],totallen,winlenx,x_test2.shape[2],x_test2.shape[3],x_test2.shape[4]))\n",
    "y_train12 = np.reshape(np.argmax(y_train2[:,interval,:],-1), (y_train2.shape[0],totallen,winlenx))\n",
    "y_test12 = np.reshape(np.argmax(y_test2[:,interval,:],-1), (y_test2.shape[0],totallen,winlenx))\n",
    "y_train12 = to_categorical(np.squeeze(stats.mode(y_train12,2)[0]))\n",
    "y_test12 = to_categorical(np.squeeze(stats.mode(y_test12,2)[0]))\n",
    "print(x_train12.shape)\n",
    "print(y_train12.shape)\n",
    "print(x_test12.shape)\n",
    "print(y_test12.shape) "
   ]
  },
  {
   "cell_type": "code",
   "execution_count": 16,
   "metadata": {},
   "outputs": [
    {
     "name": "stdout",
     "output_type": "stream",
     "text": [
      "Selected File: Datasets/Blake_spectrogram.hdf5\n",
      "(14, 150, 128, 128, 3)\n",
      "(14, 150, 19)\n",
      "(4, 150, 128, 128, 3)\n",
      "(4, 150, 19)\n"
     ]
    }
   ],
   "source": [
    "filename = 'Datasets/Blake_spectrogram.hdf5'\n",
    "data = h5py.File(filename, \"r\")\n",
    "print('Selected File: '+str(filename))\n",
    "x_train3 = np.array(data[\"train_img\"])\n",
    "y_train3 = np.array(data[\"train_labels\"])\n",
    "x_test3 = np.array(data[\"test_img\"])\n",
    "y_test3 = np.array(data[\"test_labels\"])\n",
    "data.close()\n",
    "print(x_train3.shape)\n",
    "print(y_train3.shape)\n",
    "print(x_test3.shape)\n",
    "print(y_test3.shape)"
   ]
  },
  {
   "cell_type": "code",
   "execution_count": 17,
   "metadata": {},
   "outputs": [
    {
     "name": "stdout",
     "output_type": "stream",
     "text": [
      "Selected File: Datasets/Blake_margins_and_ctc_label_no_nucleus.hdf5\n",
      "(14,)\n",
      "(14,)\n",
      "(4,)\n",
      "(4,)\n"
     ]
    }
   ],
   "source": [
    "filename = 'Datasets/Blake_margins_and_ctc_label_no_nucleus.hdf5'\n",
    "data = h5py.File(filename, \"r\")\n",
    "print('Selected File: '+str(filename))\n",
    "margin_tr = np.array(data[\"train_img\"])\n",
    "ctc_tr = np.squeeze(np.array(data[\"train_labels\"])).astype('U12')\n",
    "margin_ts = np.array(data[\"test_img\"])\n",
    "ctc_ts = np.squeeze(np.array(data[\"test_labels\"])).astype('U12')\n",
    "data.close()\n",
    "print(margin_tr.shape)\n",
    "print(ctc_tr.shape)\n",
    "print(margin_ts.shape)\n",
    "print(ctc_ts.shape)"
   ]
  },
  {
   "cell_type": "code",
   "execution_count": 18,
   "metadata": {},
   "outputs": [],
   "source": [
    "duration = 30\n",
    "nsta_sec = 0.7 # 0.7\n",
    "ratio = margin_tr[0].shape[-1]/duration\n",
    "nsta = int(nsta_sec*ratio)\n",
    "nlta = int(2*nsta)\n",
    "stepsz = int(0.2*ratio) # 0.2\n",
    "timevec = np.linspace(0,duration,margin_ts[0].shape[0])\n",
    "idx = 27\n",
    "init_th = 0.6\n",
    "stop_th = 0.3\n",
    "vecs_train = [] #np.zeros(np.argmax(margin_tr,-1).shape)\n",
    "mask_train = [] #np.zeros(np.argmax(margin_tr,-1).shape)\n",
    "vecs_test = [] #np.zeros(np.argmax(margin_ts,-1).shape)\n",
    "mask_test = [] #np.zeros(np.argmax(margin_ts,-1).shape)\n",
    "for i in range(len(margin_tr)):\n",
    "    vecs_train.append(sta_lta2(margin_tr[i],nlta,nsta,init_th,stop_th,stepsz)[0])\n",
    "    mask_train.append(sta_lta2(margin_tr[i],nlta,nsta,init_th,stop_th,stepsz)[1])\n",
    "# mask_train_win = mask_train[:,::5]\n",
    "for i in range(len(margin_ts)):\n",
    "    vecs_test.append(sta_lta2(margin_ts[i],nlta,nsta,init_th,stop_th,stepsz)[0])\n",
    "    mask_test.append(sta_lta2(margin_ts[i],nlta,nsta,init_th,stop_th,stepsz)[1])\n",
    "# mask_test_win = mask_test[:,::5]\n",
    "mask_train = np.array(mask_train)\n",
    "mask_test = np.array(mask_test)"
   ]
  },
  {
   "cell_type": "code",
   "execution_count": 19,
   "metadata": {},
   "outputs": [
    {
     "name": "stdout",
     "output_type": "stream",
     "text": [
      "Mask shapes:\n",
      "(14, 750)\n",
      "(4, 750)\n",
      "(14, 150)\n",
      "(4, 150)\n"
     ]
    }
   ],
   "source": [
    "# downsample the mask to vid\n",
    "max_len = 1488\n",
    "mask_vid_tr = np.zeros(np.argmax(y_train1,-1).shape)\n",
    "ratio1 = mask_train[0].shape[-1]/mask_vid_tr.shape[-1]\n",
    "for i in range(len(mask_train)):\n",
    "    for j in range(mask_train[i].shape[-1]):\n",
    "        if mask_train[i][j] == 0:\n",
    "            continue\n",
    "        else:\n",
    "            mask_vid_tr[i,int(j/ratio1)] = 1\n",
    "mask_vid_ts = np.zeros(np.argmax(y_test1,-1).shape)\n",
    "for i in range(len(mask_test)):\n",
    "    for j in range(mask_test[i].shape[-1]):\n",
    "        if mask_test[i][j] == 0:\n",
    "            continue\n",
    "        else:\n",
    "            mask_vid_ts[i,int(j/ratio1)] = 1\n",
    "\n",
    "# downsample the mask to spect\n",
    "mask_spect_tr = np.zeros(np.argmax(y_train3,-1).shape)\n",
    "ratio2 = mask_train[0].shape[-1]/mask_spect_tr.shape[-1]\n",
    "for i in range(len(mask_train)):\n",
    "    for j in range(mask_train[i].shape[-1]):\n",
    "        if mask_train[i][j] == 0:\n",
    "            continue\n",
    "        else:\n",
    "            mask_spect_tr[i,int(j/ratio2)] = 1\n",
    "mask_spect_ts = np.zeros(np.argmax(y_test3,-1).shape)\n",
    "for i in range(len(mask_test)):\n",
    "    for j in range(mask_test[i].shape[-1]):\n",
    "        if mask_test[i][j] == 0:\n",
    "            continue\n",
    "        else:\n",
    "            mask_spect_ts[i,int(j/ratio2)] = 1\n",
    "print('Mask shapes:')\n",
    "print(mask_vid_tr.shape)\n",
    "print(mask_vid_ts.shape)\n",
    "print(mask_spect_tr.shape)\n",
    "print(mask_spect_ts.shape)"
   ]
  },
  {
   "cell_type": "code",
   "execution_count": 20,
   "metadata": {},
   "outputs": [],
   "source": [
    "def masker(x, y, mask):\n",
    "    x2 = []\n",
    "    y2 = []\n",
    "    flag = 0\n",
    "    for i in range(len(mask)):\n",
    "        for j in range(mask.shape[1]):\n",
    "            if flag == 0 and mask[i,j] == 0:\n",
    "                continue\n",
    "            if flag == 1 and mask[i,j] == 1:\n",
    "                if j == mask.shape[1]-1 and j+1 - startpt > 2:\n",
    "                    stoppt = j+1\n",
    "                    x2.append(x[i,startpt:stoppt])\n",
    "                    y2.append(np.squeeze(np.argmax(y[i,startpt:stoppt],-1)))\n",
    "                else:\n",
    "                    continue\n",
    "            if flag == 0 and mask[i,j] == 1:\n",
    "                flag = 1\n",
    "                startpt = j\n",
    "            if flag == 1 and mask[i,j] == 0:\n",
    "                flag = 0\n",
    "                stoppt = j+1\n",
    "                if stoppt-startpt > 2:\n",
    "                    x2.append(x[i,startpt:stoppt])\n",
    "                    y2.append(np.squeeze(np.argmax(y[i,startpt:stoppt],-1)))\n",
    "    \n",
    "    x2 = np.asarray(x2)\n",
    "    y2 = np.array([to_categorical(y,num_classes=num_class) for y in np.array(y2)])\n",
    "    return x2, y2"
   ]
  },
  {
   "cell_type": "code",
   "execution_count": 23,
   "metadata": {},
   "outputs": [
    {
     "name": "stdout",
     "output_type": "stream",
     "text": [
      "(123,)\n",
      "(123,)\n",
      "(32,)\n",
      "(32,)\n",
      "(123,)\n",
      "(123,)\n",
      "(32,)\n",
      "(32,)\n",
      "(123,)\n",
      "(123,)\n",
      "(32,)\n",
      "(32,)\n"
     ]
    }
   ],
   "source": [
    "x1train, y1train = masker(x_train11, y_train3, mask_spect_tr)\n",
    "x1test, y1test = masker(x_test11, y_test3, mask_spect_ts)\n",
    "x2train, y2train = masker(x_train12, y_train3, mask_spect_tr)\n",
    "x2test, y2test = masker(x_test12, y_test3, mask_spect_ts)\n",
    "x3train, y3train = masker(x_train3, y_train3, mask_spect_tr)\n",
    "x3test, y3test = masker(x_test3, y_test3, mask_spect_ts)\n",
    "print(x1train.shape)\n",
    "print(y1train.shape)\n",
    "print(x1test.shape)\n",
    "print(y1test.shape)\n",
    "print(x2train.shape)\n",
    "print(y2train.shape)\n",
    "print(x2test.shape)\n",
    "print(y2test.shape)\n",
    "print(x3train.shape)\n",
    "print(y3train.shape)\n",
    "print(x3test.shape)\n",
    "print(y3test.shape)"
   ]
  },
  {
   "cell_type": "code",
   "execution_count": 24,
   "metadata": {},
   "outputs": [
    {
     "name": "stdout",
     "output_type": "stream",
     "text": [
      "(155,)\n",
      "(155,)\n",
      "(155,)\n",
      "(155,)\n",
      "(155,)\n",
      "(155,)\n"
     ]
    }
   ],
   "source": [
    "# merge all to test\n",
    "x1test = np.concatenate([x1train,x1test],0)\n",
    "print(x1test.shape)\n",
    "x2test = np.concatenate([x2train,x2test],0)\n",
    "print(x2test.shape)\n",
    "x3test = np.concatenate([x3train,x3test],0)\n",
    "print(x3test.shape)\n",
    "y1test = np.concatenate([y1train,y1test],0)\n",
    "print(y1test.shape)\n",
    "y2test = np.concatenate([y2train,y2test],0)\n",
    "print(y2test.shape)\n",
    "y3test = np.concatenate([y3train,y3test],0)\n",
    "print(y3test.shape)"
   ]
  },
  {
   "cell_type": "code",
   "execution_count": 25,
   "metadata": {},
   "outputs": [
    {
     "data": {
      "text/plain": [
       "Text(0, 0.5, 'Normalized Euclidean Distance')"
      ]
     },
     "execution_count": 25,
     "metadata": {},
     "output_type": "execute_result"
    },
    {
     "name": "stderr",
     "output_type": "stream",
     "text": [
      "/home/m/.local/lib/python3.7/site-packages/matplotlib/font_manager.py:1241: UserWarning: findfont: Font family ['Comic Sans MS'] not found. Falling back to DejaVu Sans.\n",
      "  (prop.get_family(), self.defaultFamily[fontext]))\n"
     ]
    },
    {
     "data": {
      "image/png": "[encoded data removed]",
      "text/plain": [
       "<Figure size 864x432 with 1 Axes>"
      ]
     },
     "metadata": {
      "needs_background": "light"
     },
     "output_type": "display_data"
    }
   ],
   "source": [
    "idx = 1\n",
    "plt.plot(timevec,margin_tr[idx]/max(margin_tr[idx]),color='black')\n",
    "plt.plot(timevec,mask_train[idx],linewidth=3,color='red')\n",
    "plt.legend(['Euclidean Distance','STA/LTA Detector'], loc = 'upper right', fontsize = 'xx-large')\n",
    "fig = plt.gcf()\n",
    "fig.set_size_inches(12,6)\n",
    "plt.xticks(fontsize=19)\n",
    "plt.yticks(fontsize=19)\n",
    "plt.xlabel('Time (sec)',fontsize=19, fontname='Comic Sans MS')\n",
    "plt.ylabel('Normalized Euclidean Distance',fontsize=19)\n",
    "# plt.savefig(str(idx)+' gesture detect.png',dpi=400)"
   ]
  },
  {
   "cell_type": "code",
   "execution_count": 26,
   "metadata": {},
   "outputs": [],
   "source": [
    "def num_to_ch(num):\n",
    "    label = ''\n",
    "    for ch in num:\n",
    "        label += chr(ord('@') + np.argmax(ch,-1)+1)\n",
    "    return label"
   ]
  },
  {
   "cell_type": "code",
   "execution_count": 27,
   "metadata": {},
   "outputs": [],
   "source": [
    "# convert detected labels\n",
    "ctc_tr3 = [num_to_ch(y) for y in y3train]\n",
    "ctc_ts3 = [num_to_ch(y) for y in y3test]"
   ]
  },
  {
   "cell_type": "code",
   "execution_count": 28,
   "metadata": {},
   "outputs": [
    {
     "data": {
      "text/plain": [
       "['OOOOOOOOOOOA',\n",
       " 'AASSSSSSSS',\n",
       " 'SSSSSSAA',\n",
       " 'AAAFFFFFF',\n",
       " 'FFFFFAAARRRRRRRRRR',\n",
       " 'ARRRRRRRRRRR',\n",
       " 'AALLLLLLLLLLLLLLAAA',\n",
       " 'ASSSSSSS',\n",
       " 'SSSSSAA',\n",
       " 'RRRRRRRRRRR',\n",
       " 'AADDDDDDDDDA',\n",
       " 'BBBBBBBBBBBB',\n",
       " 'BBBBBBBBBBBBBBBBB',\n",
       " 'AACCCCCCCCCC',\n",
       " 'AJJJJJJJJJJA',\n",
       " 'AAAOOOOOOOOOOAA',\n",
       " 'AARRRRRRRRRRRA',\n",
       " 'AASSSSSSS',\n",
       " 'SSSSSSSA',\n",
       " 'AAAAAACCCCCCCCCC',\n",
       " 'AHHHHHH',\n",
       " 'HHHHHHARRRRRRRRR',\n",
       " 'AAIIIIIIIIIIA',\n",
       " 'AAKKKKKKKKKKKAA',\n",
       " 'AARRRRRRRRR',\n",
       " 'AAEEEEEEEE',\n",
       " 'EEEEAA',\n",
       " 'AJJJJJJJJJAA',\n",
       " 'AARRRRRRRRRRRRAA',\n",
       " 'GGGGGG',\n",
       " 'GGGGGGA',\n",
       " 'AJJJJJJJJJJJ',\n",
       " 'AARRRRRRRRR',\n",
       " 'AJJJJJJJJJJA',\n",
       " 'AASSSSSSSSSSSSS',\n",
       " 'AIIIIIIIIIIIIA',\n",
       " 'AAQQQQQQQQQQQQQAA',\n",
       " 'AAARRRRRRRRR',\n",
       " 'BBBBBBBBBBBBBBBBBBBACCCCCCCCCCCC',\n",
       " 'AJJJJJJJJJA',\n",
       " 'AARRRRRRRRRRAA',\n",
       " 'AAAKKKKKKKKKKA',\n",
       " 'AAAQQQQQQQQQQQQAA',\n",
       " 'AARRRRRRRRRR',\n",
       " 'AASSSSSSSSSSSS',\n",
       " 'KKKKKKKKKKKKK',\n",
       " 'AOOOOOOOOOOOOOOA',\n",
       " 'AARRRRRRRRR',\n",
       " 'AAMMMMMMMMMMMA',\n",
       " 'AAKKKKKKKKKKKA',\n",
       " 'AOOOOOOOOOO',\n",
       " 'ARRRRRRRRRR',\n",
       " 'AEEEEEEEEEEEEAA',\n",
       " 'RRRRRRRRRRR',\n",
       " 'AGGGGGGG',\n",
       " 'GGGGGGGAA',\n",
       " 'AFFFFFFFFFFFFAAARRRRRRRRRRRA',\n",
       " 'AAMMMMMMMMMMAA',\n",
       " 'AAAGGGGGG',\n",
       " 'AAARRRRRRRRR',\n",
       " 'AAASSSSSS',\n",
       " 'SSSSSSS',\n",
       " 'PPPPPPPP',\n",
       " 'PPPPPPPAA',\n",
       " 'OOOOOOOOOOOOAA',\n",
       " 'AARRRRRRRRR',\n",
       " 'AASSSSSSSS',\n",
       " 'SSSSSAAIIIIIII',\n",
       " 'IIIIIAAAAOOOOOOOOOOOOOAA',\n",
       " 'AAKKKKKKKKKKKAA',\n",
       " 'ARRRRRRRRRRR',\n",
       " 'NNNNNAAAAARRRRRRRRRRRAA',\n",
       " 'AAAFFFFFF',\n",
       " 'FFFFFFAAA',\n",
       " 'JJJJJJJJJJJ',\n",
       " 'AARRRRRRRRRRRA',\n",
       " 'ADDDDDDDDDDD',\n",
       " 'AACCCCCCCCCCCC',\n",
       " 'AAKKKKKKKKKKA',\n",
       " 'ASSSSSSSS',\n",
       " 'SSSSSS',\n",
       " 'AIIIIIIIIIIIIIA',\n",
       " 'AAAPPPPPPP',\n",
       " 'PPPPPPAAA',\n",
       " 'AAHHHHHHH',\n",
       " 'HHHHHHAA',\n",
       " 'ARRRRRRRRRR',\n",
       " 'AAAGGGGGGGGGGG',\n",
       " 'AARRRRRRRRRRRRA',\n",
       " 'AAJJJJJJJJJJJA',\n",
       " 'MMMMMMMMMMM',\n",
       " 'AAFFFFFFFFFFFFA',\n",
       " 'AHHHHHHHHHHHHA',\n",
       " 'AARRRRRRRRRRRR',\n",
       " 'AAAGGGGGGG',\n",
       " 'GGGGGGA',\n",
       " 'AALLLLLLLLLLLA',\n",
       " 'AAIIIIIIIIIIIAA',\n",
       " 'AARRRRRRRR',\n",
       " 'AAEEEEEEEEE',\n",
       " 'FFFFFFAAEEEEEEE',\n",
       " 'EEEEEARRRRRRRRR',\n",
       " 'AQQQQQQQQQQQQQQAA',\n",
       " 'AARRRRRRRRR',\n",
       " 'ANNNNNNNNNNNAAA',\n",
       " 'AAIIIIIIIIIIIA',\n",
       " 'AALLLLLLLLLLLAA',\n",
       " 'JJJJJJA',\n",
       " 'AAARRRRRRRRRR',\n",
       " 'AGGGGGGGGGGG',\n",
       " 'AIIIIIIIIIIIIA',\n",
       " 'RRRRRRRRRRRA',\n",
       " 'AAOOOOOOOOOOOOOOAADDDDDDDDDDDA',\n",
       " 'BBBBBBBBBBBBBBBBB',\n",
       " 'BBBBBBBBB',\n",
       " 'RRRRRRRRR',\n",
       " 'ALLLLLLLLLLLLLAA',\n",
       " 'AQQQQQQQQQQQQQA',\n",
       " 'AAAOOOOOOOOOOOOOO',\n",
       " 'AARRRRRRRRR',\n",
       " 'AAEEEEEEEEEEEEEAA',\n",
       " 'AADDDDDDDDDDD',\n",
       " 'ABBBBBBBBBBBBB',\n",
       " 'AAAAABBBBBBBBBBBBBBBBBCCCCCCCCCCC',\n",
       " 'AAARRRRRRRRRRRRA',\n",
       " 'ANNNNNNNNNNNN',\n",
       " 'AAPPPPPPPP',\n",
       " 'PPPPPPPA',\n",
       " 'AAARRRRRRRRR',\n",
       " 'ALLLLLLLLLLLFFFFFFFFF',\n",
       " 'NNNNNNNNNNNA',\n",
       " 'AASSSSSSSSSSSS',\n",
       " 'AALLLLLLLLLLLLAAARRRRRRRRR',\n",
       " 'AAAFFFFFFFF',\n",
       " 'FFFFFFA',\n",
       " 'AARRRRRRRRRRRRR',\n",
       " 'AAAIIIIIIIIIII',\n",
       " 'RRRRRRRRR',\n",
       " 'RRRRRA',\n",
       " 'AHHHHH',\n",
       " 'HHHHHHARRRRRRRR',\n",
       " 'AMMMMMMM',\n",
       " 'AAPPPPPPPP',\n",
       " 'PPPPPPP',\n",
       " 'ARRRRRRRRRR',\n",
       " 'AAIIIIIIIIIII',\n",
       " 'AAALLLLLLLLLLLLAAA',\n",
       " 'AJJJJJJJJJ',\n",
       " 'AOOOOOOOOOOOOA',\n",
       " 'AARRRRRRRRR',\n",
       " 'AADDDDDDDDDDDDD',\n",
       " 'AAACCCCCCCCCC',\n",
       " 'AAFFFFFFFFFF',\n",
       " 'AARRRRRRRRR',\n",
       " 'AAAKKKKKKKKKKK']"
      ]
     },
     "execution_count": 28,
     "metadata": {},
     "output_type": "execute_result"
    }
   ],
   "source": [
    "ctc_ts3"
   ]
  },
  {
   "cell_type": "code",
   "execution_count": 29,
   "metadata": {},
   "outputs": [],
   "source": [
    "def data_generator_multi_nolabel_rd(data, batch_size=1):              \n",
    "    \"\"\"\n",
    "    Yields the next training batch.\n",
    "    data is an array  [[[frame1_filename,frame2_filename,…frame16_filename],label1], [[frame1_filename,frame2_filename,…frame16_filename],label2],……….].\n",
    "    \"\"\"\n",
    "    num_samples = data[0].shape[0]\n",
    "    \n",
    "    while True:   \n",
    "        for offset in range(0, num_samples, batch_size):\n",
    "    #             print ('starting index: ', offset) \n",
    "            # Get the samples you'll use in this batch\n",
    "            batch_samples1 = data[0][offset:offset+batch_size]\n",
    "            batch_samples2 = data[1][offset:offset+batch_size]\n",
    "            batch_samples3 = data[2][offset:offset+batch_size]\n",
    "            \n",
    "            # Initialise X_train and y_train arrays for this batch\n",
    "            X_train1 = []\n",
    "            X_train2 = []\n",
    "            X_train3 = []\n",
    "            # For each example\n",
    "            for i in range(0,batch_samples1.shape[0]):\n",
    "                X_train1.append(batch_samples1[i])\n",
    "                X_train2.append(batch_samples2[i])\n",
    "                X_train3.append(batch_samples3[i])\n",
    "                \n",
    "            # Make sure they're numpy arrays (as opposed to lists)\n",
    "            X_train1 = np.array(X_train1)\n",
    "            X_train2 = np.array(X_train2)\n",
    "            X_train3 = np.array(X_train3)\n",
    "            \n",
    "            # yield the next training batch            \n",
    "            yield [X_train1, X_train2, X_train3]"
   ]
  },
  {
   "cell_type": "code",
   "execution_count": 40,
   "metadata": {},
   "outputs": [],
   "source": [
    "predict_generator = data_generator_multi_nolabel_rd([x1train, x2train, x3train])"
   ]
  },
  {
   "cell_type": "code",
   "execution_count": 41,
   "metadata": {
    "scrolled": true
   },
   "outputs": [],
   "source": [
    "fname = 'final2 multi ctc mtl gd'\n",
    "MODEL_FILE = 'Models/' + fname + '.json' # save path\n",
    "WEIGHT_FILE = 'Models/' + fname + '.h5' # save path\n",
    "json_file = open(MODEL_FILE, 'r')\n",
    "loaded_model_json = json_file.read()\n",
    "json_file.close()\n",
    "model_load = model_from_json(loaded_model_json, {'CTCLayer': CTCLayer})\n",
    "model_load.load_weights(WEIGHT_FILE)"
   ]
  },
  {
   "cell_type": "code",
   "execution_count": 42,
   "metadata": {},
   "outputs": [],
   "source": [
    "prediction_model = keras.models.Model(\n",
    "    [model_load.get_layer(name=\"rd\").input, model_load.get_layer(name=\"ra\").input, model_load.get_layer(name=\"image\").input], model_load.get_layer(name=\"dense2\").output\n",
    ")"
   ]
  },
  {
   "cell_type": "code",
   "execution_count": null,
   "metadata": {},
   "outputs": [],
   "source": [
    "probs = np.array([np.squeeze(prediction_model.predict(next(predict_generator))) for i in range(len(x3test))],dtype=object)\n",
    "pred = np.array([np.argmax(probs[i],-1) for i in range(len(x3test))], dtype = object)"
   ]
  },
  {
   "cell_type": "code",
   "execution_count": null,
   "metadata": {},
   "outputs": [],
   "source": [
    "pred_labels = []\n",
    "pred_ch_ls = []\n",
    "for p in pred:\n",
    "    label = []\n",
    "    for num in p:\n",
    "        if num == 20:# or chr(ord('@')+num) == 'A':\n",
    "            continue\n",
    "        label.append(num)\n",
    "    pred_labels.append(label)\n",
    "pred_labels = np.array(pred_labels,dtype=object)  \n",
    "print(pred_labels[3])"
   ]
  },
  {
   "cell_type": "code",
   "execution_count": null,
   "metadata": {},
   "outputs": [],
   "source": [
    "for idx in range(len(y3test)):\n",
    "    print(str(idx+1) + '. Predicted: ' + str(pred_labels[idx]) + ' | ' + str(np.argmax(y3test[idx],-1)) + ' :Original')"
   ]
  },
  {
   "cell_type": "code",
   "execution_count": null,
   "metadata": {},
   "outputs": [],
   "source": [
    "from collections import Counter\n",
    "mode_orig = [max(Counter(np.argmax(y,-1)+1)) for y in y3test]\n",
    "mode_pred = [max(Counter(y)) if len(y) != 0 else 1 for y in pred_labels]"
   ]
  },
  {
   "cell_type": "code",
   "execution_count": null,
   "metadata": {},
   "outputs": [],
   "source": [
    "Counter(mode_orig)"
   ]
  },
  {
   "cell_type": "code",
   "execution_count": null,
   "metadata": {},
   "outputs": [],
   "source": [
    "cmp = [mode_pred[i] == mode_orig[i] for i in range(len(y3test))]\n",
    "trues = np.sum(cmp)\n",
    "acc = trues/len(cmp)*100\n",
    "acc"
   ]
  },
  {
   "cell_type": "code",
   "execution_count": 39,
   "metadata": {},
   "outputs": [
    {
     "name": "stderr",
     "output_type": "stream",
     "text": [
      "/home/m/.local/lib/python3.7/site-packages/matplotlib/font_manager.py:1241: UserWarning: findfont: Font family ['normal'] not found. Falling back to DejaVu Sans.\n",
      "  (prop.get_family(), self.defaultFamily[fontext]))\n"
     ]
    },
    {
     "data": {
      "text/plain": [
       "<function matplotlib.pyplot.show(*args, **kw)>"
      ]
     },
     "execution_count": 39,
     "metadata": {},
     "output_type": "execute_result"
    },
    {
     "data": {
      "image/png": "[encoded data removed]",
      "text/plain": [
       "<Figure size 1080x720 with 2 Axes>"
      ]
     },
     "metadata": {
      "needs_background": "light"
     },
     "output_type": "display_data"
    }
   ],
   "source": [
    "##### import pandas as pd\n",
    "import seaborn as sn\n",
    "font = {'family' : 'normal', \n",
    "        'weight' : 'bold',\n",
    "        'size'   : 6}\n",
    "\n",
    "plt.rc('font', **font) \n",
    "plt.rc('xtick', labelsize=12)    # fontsize of the tick labels\n",
    "plt.rc('ytick', labelsize=12) \n",
    "Y_pred = np.array([y for y in mode_pred]) \n",
    "Y_test_int = np.array([y for y in mode_orig]) \n",
    "data = {'y_Predicted': Y_pred,\n",
    "        'y_Actual':    Y_test_int\n",
    "        }\n",
    "\n",
    "df = pd.DataFrame(data, columns=['y_Actual','y_Predicted'])\n",
    "confusion_matrix = pd.crosstab(df['y_Actual'], df['y_Predicted'], normalize='index', rownames=['Actual'], \n",
    "                               colnames=['Predicted'], margins = False)\\\n",
    ".round(3)*100\n",
    "fig = plt.figure(dpi=180)\n",
    "sn.heatmap(confusion_matrix,annot=True, cmap=\"Greens\", fmt='g') # cbar_kws={'format': '%.0f%%'},\n",
    "b, t = plt.ylim()\n",
    "b += 0.5\n",
    "t -= 0.5\n",
    "plt.ylim(b,t)\n",
    "cap = plt.gcf()\n",
    "plt.savefig('results/blake free multitask multi input ctc.png', dpi = 400)\n",
    "plt.show"
   ]
  },
  {
   "cell_type": "markdown",
   "metadata": {},
   "source": [
    "## mD model blake"
   ]
  },
  {
   "cell_type": "code",
   "execution_count": 43,
   "metadata": {},
   "outputs": [],
   "source": [
    "model_file = 'Models/ctc aux multitask md 90-27.json'\n",
    "w_file = 'Models/ctc aux multitask md 90-27.h5'\n",
    "json_file = open(model_file, 'r')\n",
    "loaded_model_json = json_file.read()\n",
    "json_file.close()\n",
    "model_md = model_from_json(loaded_model_json, {'CTCLayer': CTCLayer})\n",
    "model_md.load_weights(w_file)"
   ]
  },
  {
   "cell_type": "code",
   "execution_count": 55,
   "metadata": {},
   "outputs": [],
   "source": [
    "def data_generator_multi_nolabel_rd(data, batch_size=1):              \n",
    "    \"\"\"\n",
    "    Yields the next training batch.\n",
    "    data is an array  [[[frame1_filename,frame2_filename,…frame16_filename],label1], [[frame1_filename,frame2_filename,…frame16_filename],label2],……….].\n",
    "    \"\"\"\n",
    "    num_samples = data[0].shape[0]\n",
    "    \n",
    "    while True:   \n",
    "        for offset in range(0, num_samples, batch_size):\n",
    "    #             print ('starting index: ', offset) \n",
    "            # Get the samples you'll use in this batch\n",
    "            batch_samples1 = data[0][offset:offset+batch_size]\n",
    "            batch_samples2 = data[1][offset:offset+batch_size]\n",
    "            batch_samples3 = data[2][offset:offset+batch_size]\n",
    "            \n",
    "            # Initialise X_train and y_train arrays for this batch\n",
    "            X_train1 = []\n",
    "            X_train2 = []\n",
    "            X_train3 = []\n",
    "            # For each example\n",
    "            for i in range(0,batch_samples1.shape[0]):\n",
    "                X_train1.append(batch_samples1[i])\n",
    "                X_train2.append(batch_samples2[i])\n",
    "                X_train3.append(batch_samples3[i])\n",
    "                \n",
    "            # Make sure they're numpy arrays (as opposed to lists)\n",
    "            X_train1 = np.array(X_train1)\n",
    "            X_train2 = np.array(X_train2)\n",
    "            X_train3 = np.array(X_train3)\n",
    "            \n",
    "            # yield the next training batch            \n",
    "            yield X_train3"
   ]
  },
  {
   "cell_type": "code",
   "execution_count": 56,
   "metadata": {},
   "outputs": [],
   "source": [
    "predict_generator_md = data_generator_multi_nolabel_rd([x1test, x2test, x3test])"
   ]
  },
  {
   "cell_type": "code",
   "execution_count": 57,
   "metadata": {},
   "outputs": [
    {
     "data": {
      "text/plain": [
       "(12, 128, 128, 3)"
      ]
     },
     "execution_count": 57,
     "metadata": {},
     "output_type": "execute_result"
    }
   ],
   "source": [
    "x3test[0].shape"
   ]
  },
  {
   "cell_type": "code",
   "execution_count": 61,
   "metadata": {},
   "outputs": [],
   "source": [
    "prediction_model2 = keras.models.Model(\n",
    "    [model_md.get_layer(name=\"image\").input], model_md.get_layer(name=\"dense2\").output\n",
    ")"
   ]
  },
  {
   "cell_type": "code",
   "execution_count": 62,
   "metadata": {},
   "outputs": [],
   "source": [
    "probs = np.array([np.squeeze(prediction_model2.predict(next(predict_generator_md))) for i in range(len(x3test))],dtype=object)\n",
    "pred = np.array([np.argmax(probs[i],-1) for i in range(len(x3test))], dtype = object)"
   ]
  },
  {
   "cell_type": "code",
   "execution_count": 63,
   "metadata": {},
   "outputs": [
    {
     "name": "stdout",
     "output_type": "stream",
     "text": [
      "[1, 11, 11, 11, 19, 11]\n"
     ]
    }
   ],
   "source": [
    "pred_labels = []\n",
    "\n",
    "for p in pred:\n",
    "    label = []\n",
    "    for num in p:\n",
    "        if num == 20:# or chr(ord('@')+num) == 'A':\n",
    "            continue\n",
    "        label.append(num)\n",
    "    pred_labels.append(label)\n",
    "pred_labels = np.array(pred_labels,dtype=object)  \n",
    "print(pred_labels[3])"
   ]
  },
  {
   "cell_type": "code",
   "execution_count": 64,
   "metadata": {},
   "outputs": [],
   "source": [
    "from collections import Counter\n",
    "mode_orig = [max(Counter(np.argmax(y,-1)+1)) for y in y3test]\n",
    "mode_pred = [max(Counter(y)) if len(y) != 0 else 1 for y in pred_labels]"
   ]
  },
  {
   "cell_type": "code",
   "execution_count": 65,
   "metadata": {},
   "outputs": [
    {
     "data": {
      "text/plain": [
       "Counter({15: 9,\n",
       "         19: 15,\n",
       "         6: 8,\n",
       "         18: 40,\n",
       "         12: 6,\n",
       "         4: 4,\n",
       "         2: 5,\n",
       "         3: 6,\n",
       "         10: 9,\n",
       "         8: 5,\n",
       "         9: 8,\n",
       "         11: 7,\n",
       "         5: 5,\n",
       "         7: 9,\n",
       "         17: 4,\n",
       "         13: 4,\n",
       "         16: 8,\n",
       "         14: 3})"
      ]
     },
     "execution_count": 65,
     "metadata": {},
     "output_type": "execute_result"
    }
   ],
   "source": [
    "Counter(mode_orig)"
   ]
  },
  {
   "cell_type": "code",
   "execution_count": 66,
   "metadata": {},
   "outputs": [
    {
     "data": {
      "text/plain": [
       "29.677419354838708"
      ]
     },
     "execution_count": 66,
     "metadata": {},
     "output_type": "execute_result"
    }
   ],
   "source": [
    "cmp = [mode_pred[i] == mode_orig[i] for i in range(len(y3test))]\n",
    "trues = np.sum(cmp)\n",
    "acc = trues/len(cmp)*100\n",
    "acc"
   ]
  },
  {
   "cell_type": "code",
   "execution_count": 67,
   "metadata": {},
   "outputs": [
    {
     "data": {
      "text/plain": [
       "<function matplotlib.pyplot.show(*args, **kw)>"
      ]
     },
     "execution_count": 67,
     "metadata": {},
     "output_type": "execute_result"
    },
    {
     "data": {
      "image/png": "[encoded data removed]",
      "text/plain": [
       "<Figure size 1080x720 with 2 Axes>"
      ]
     },
     "metadata": {
      "needs_background": "light"
     },
     "output_type": "display_data"
    }
   ],
   "source": [
    "##### import pandas as pd\n",
    "import seaborn as sn\n",
    "font = {'family' : 'normal', \n",
    "        'weight' : 'bold',\n",
    "        'size'   : 6}\n",
    "\n",
    "plt.rc('font', **font) \n",
    "plt.rc('xtick', labelsize=12)    # fontsize of the tick labels\n",
    "plt.rc('ytick', labelsize=12) \n",
    "Y_pred = np.array([y for y in mode_pred]) \n",
    "Y_test_int = np.array([y for y in mode_orig]) \n",
    "data = {'y_Predicted': Y_pred,\n",
    "        'y_Actual':    Y_test_int\n",
    "        }\n",
    "\n",
    "df = pd.DataFrame(data, columns=['y_Actual','y_Predicted'])\n",
    "confusion_matrix = pd.crosstab(df['y_Actual'], df['y_Predicted'], normalize='index', rownames=['Actual'], \n",
    "                               colnames=['Predicted'], margins = False)\\\n",
    ".round(3)*100\n",
    "fig = plt.figure(dpi=180)\n",
    "sn.heatmap(confusion_matrix,annot=True, cmap=\"Greens\", fmt='g') # cbar_kws={'format': '%.0f%%'},\n",
    "b, t = plt.ylim()\n",
    "b += 0.5\n",
    "t -= 0.5\n",
    "plt.ylim(b,t)\n",
    "cap = plt.gcf()\n",
    "plt.savefig('results/multitask multi input ctc.png', dpi = 400)\n",
    "plt.show"
   ]
  },
  {
   "cell_type": "code",
   "execution_count": null,
   "metadata": {},
   "outputs": [],
   "source": []
  },
  {
   "cell_type": "markdown",
   "metadata": {},
   "source": [
    "## Sevgi"
   ]
  },
  {
   "cell_type": "code",
   "execution_count": 3,
   "metadata": {},
   "outputs": [
    {
     "name": "stdout",
     "output_type": "stream",
     "text": [
      "Selected File: Datasets/Blake_RDmap.hdf5\n",
      "(14, 750, 128, 128, 3)\n",
      "(14, 750, 19)\n",
      "(4, 750, 128, 128, 3)\n",
      "(4, 750, 19)\n"
     ]
    }
   ],
   "source": [
    "filename = 'Datasets/Blake_RDmap.hdf5'\n",
    "data = h5py.File(filename, \"r\")\n",
    "print('Selected File: '+str(filename))\n",
    "x_train1 = np.array(data[\"train_img\"])\n",
    "y_train1 = np.array(data[\"train_labels\"])\n",
    "x_test1 = np.array(data[\"test_img\"])\n",
    "y_test1 = np.array(data[\"test_labels\"])\n",
    "data.close()\n",
    "print(x_train1.shape)\n",
    "print(y_train1.shape)\n",
    "print(x_test1.shape)\n",
    "print(y_test1.shape)"
   ]
  },
  {
   "cell_type": "code",
   "execution_count": 4,
   "metadata": {},
   "outputs": [
    {
     "name": "stdout",
     "output_type": "stream",
     "text": [
      "Selected File: Datasets/Blake_RAmap.hdf5\n",
      "(14, 750, 128, 128, 3)\n",
      "(14, 750, 19)\n",
      "(4, 750, 128, 128, 3)\n",
      "(4, 750, 19)\n"
     ]
    }
   ],
   "source": [
    "filename = 'Datasets/Blake_RAmap.hdf5'\n",
    "data = h5py.File(filename, \"r\")\n",
    "print('Selected File: '+str(filename))\n",
    "x_train2 = np.array(data[\"train_img\"])\n",
    "y_train2 = np.array(data[\"train_labels\"])\n",
    "x_test2 = np.array(data[\"test_img\"])\n",
    "y_test2 = np.array(data[\"test_labels\"])\n",
    "data.close()\n",
    "print(x_train2.shape)\n",
    "print(y_train2.shape)\n",
    "print(x_test2.shape)\n",
    "print(y_test2.shape)"
   ]
  },
  {
   "cell_type": "code",
   "execution_count": 5,
   "metadata": {},
   "outputs": [
    {
     "name": "stdout",
     "output_type": "stream",
     "text": [
      "(14, 120, 5, 128, 128, 3)\n",
      "(14, 120, 19)\n",
      "(4, 120, 5, 128, 128, 3)\n",
      "(4, 120, 19)\n",
      "(14, 120, 5, 128, 128, 3)\n",
      "(14, 120, 19)\n",
      "(4, 120, 5, 128, 128, 3)\n",
      "(4, 120, 19)\n"
     ]
    }
   ],
   "source": [
    "# windowed RD\n",
    "interval = range(0,600)\n",
    "x_train11 = np.reshape(x_train1[:,interval,:,:,:], (x_train1.shape[0],120,5,x_train1.shape[2],x_train1.shape[3],x_train1.shape[4]))\n",
    "x_test11 = np.reshape(x_test1[:,interval,:,:,:], (x_test1.shape[0],120,5,x_test1.shape[2],x_test1.shape[3],x_test1.shape[4]))\n",
    "y_train11 = np.reshape(np.argmax(y_train1[:,interval,:],-1), (y_train1.shape[0],120,5))\n",
    "y_test11 = np.reshape(np.argmax(y_test1[:,interval,:],-1), (y_test1.shape[0],120,5))\n",
    "y_train11 = to_categorical(np.squeeze(stats.mode(y_train11,2)[0]))\n",
    "y_test11 = to_categorical(np.squeeze(stats.mode(y_test11,2)[0]))\n",
    "print(x_train11.shape)\n",
    "print(y_train11.shape)\n",
    "print(x_test11.shape)\n",
    "print(y_test11.shape)  \n",
    "\n",
    "# windowed RA\n",
    "x_train12 = np.reshape(x_train2[:,interval,:,:,:], (x_train2.shape[0],120,5,x_train2.shape[2],x_train2.shape[3],x_train2.shape[4]))\n",
    "x_test12 = np.reshape(x_test2[:,interval,:,:,:], (x_test2.shape[0],120,5,x_test2.shape[2],x_test2.shape[3],x_test2.shape[4]))\n",
    "y_train12 = np.reshape(np.argmax(y_train2[:,interval,:],-1), (y_train2.shape[0],120,5))\n",
    "y_test12 = np.reshape(np.argmax(y_test2[:,interval,:],-1), (y_test2.shape[0],120,5))\n",
    "y_train12 = to_categorical(np.squeeze(stats.mode(y_train12,2)[0]))\n",
    "y_test12 = to_categorical(np.squeeze(stats.mode(y_test12,2)[0]))\n",
    "print(x_train12.shape)\n",
    "print(y_train12.shape)\n",
    "print(x_test12.shape)\n",
    "print(y_test12.shape) "
   ]
  },
  {
   "cell_type": "code",
   "execution_count": 6,
   "metadata": {},
   "outputs": [
    {
     "name": "stdout",
     "output_type": "stream",
     "text": [
      "Selected File: Datasets/Blake_spectrogram.hdf5\n",
      "(14, 150, 128, 128, 3)\n",
      "(14, 150, 19)\n",
      "(4, 150, 128, 128, 3)\n",
      "(4, 150, 19)\n"
     ]
    }
   ],
   "source": [
    "filename = 'Datasets/Blake_spectrogram.hdf5'\n",
    "data = h5py.File(filename, \"r\")\n",
    "print('Selected File: '+str(filename))\n",
    "x_train3 = np.array(data[\"train_img\"])\n",
    "y_train3 = np.array(data[\"train_labels\"])\n",
    "x_test3 = np.array(data[\"test_img\"])\n",
    "y_test3 = np.array(data[\"test_labels\"])\n",
    "data.close()\n",
    "print(x_train3.shape)\n",
    "print(y_train3.shape)\n",
    "print(x_test3.shape)\n",
    "print(y_test3.shape)"
   ]
  },
  {
   "cell_type": "code",
   "execution_count": 7,
   "metadata": {},
   "outputs": [
    {
     "name": "stdout",
     "output_type": "stream",
     "text": [
      "Selected File: Datasets/Blake_margins_and_ctc_label_no_nucleus.hdf5\n",
      "(14,)\n",
      "(14,)\n",
      "(4,)\n",
      "(4,)\n"
     ]
    }
   ],
   "source": [
    "filename = 'Datasets/Blake_margins_and_ctc_label_no_nucleus.hdf5'\n",
    "data = h5py.File(filename, \"r\")\n",
    "print('Selected File: '+str(filename))\n",
    "margin_tr = np.array(data[\"train_img\"])\n",
    "ctc_tr = np.squeeze(np.array(data[\"train_labels\"])).astype('U12')\n",
    "margin_ts = np.array(data[\"test_img\"])\n",
    "ctc_ts = np.squeeze(np.array(data[\"test_labels\"])).astype('U12')\n",
    "data.close()\n",
    "print(margin_tr.shape)\n",
    "print(ctc_tr.shape)\n",
    "print(margin_ts.shape)\n",
    "print(ctc_ts.shape)"
   ]
  },
  {
   "cell_type": "code",
   "execution_count": 8,
   "metadata": {},
   "outputs": [
    {
     "ename": "NameError",
     "evalue": "name 'sta_lta2' is not defined",
     "output_type": "error",
     "traceback": [
      "\u001b[0;31m---------------------------------------------------------------------------\u001b[0m",
      "\u001b[0;31mNameError\u001b[0m                                 Traceback (most recent call last)",
      "\u001b[0;32m<ipython-input-8-10a121f78e32>\u001b[0m in \u001b[0;36m<module>\u001b[0;34m\u001b[0m\n\u001b[1;32m     14\u001b[0m \u001b[0mmask_test\u001b[0m \u001b[0;34m=\u001b[0m \u001b[0;34m[\u001b[0m\u001b[0;34m]\u001b[0m \u001b[0;31m#np.zeros(np.argmax(margin_ts,-1).shape)\u001b[0m\u001b[0;34m\u001b[0m\u001b[0;34m\u001b[0m\u001b[0m\n\u001b[1;32m     15\u001b[0m \u001b[0;32mfor\u001b[0m \u001b[0mi\u001b[0m \u001b[0;32min\u001b[0m \u001b[0mrange\u001b[0m\u001b[0;34m(\u001b[0m\u001b[0mlen\u001b[0m\u001b[0;34m(\u001b[0m\u001b[0mmargin_tr\u001b[0m\u001b[0;34m)\u001b[0m\u001b[0;34m)\u001b[0m\u001b[0;34m:\u001b[0m\u001b[0;34m\u001b[0m\u001b[0;34m\u001b[0m\u001b[0m\n\u001b[0;32m---> 16\u001b[0;31m     \u001b[0mvecs_train\u001b[0m\u001b[0;34m.\u001b[0m\u001b[0mappend\u001b[0m\u001b[0;34m(\u001b[0m\u001b[0msta_lta2\u001b[0m\u001b[0;34m(\u001b[0m\u001b[0mmargin_tr\u001b[0m\u001b[0;34m[\u001b[0m\u001b[0mi\u001b[0m\u001b[0;34m]\u001b[0m\u001b[0;34m,\u001b[0m\u001b[0mnlta\u001b[0m\u001b[0;34m,\u001b[0m\u001b[0mnsta\u001b[0m\u001b[0;34m,\u001b[0m\u001b[0minit_th\u001b[0m\u001b[0;34m,\u001b[0m\u001b[0mstop_th\u001b[0m\u001b[0;34m,\u001b[0m\u001b[0mstepsz\u001b[0m\u001b[0;34m)\u001b[0m\u001b[0;34m[\u001b[0m\u001b[0;36m0\u001b[0m\u001b[0;34m]\u001b[0m\u001b[0;34m)\u001b[0m\u001b[0;34m\u001b[0m\u001b[0;34m\u001b[0m\u001b[0m\n\u001b[0m\u001b[1;32m     17\u001b[0m     \u001b[0mmask_train\u001b[0m\u001b[0;34m.\u001b[0m\u001b[0mappend\u001b[0m\u001b[0;34m(\u001b[0m\u001b[0msta_lta2\u001b[0m\u001b[0;34m(\u001b[0m\u001b[0mmargin_tr\u001b[0m\u001b[0;34m[\u001b[0m\u001b[0mi\u001b[0m\u001b[0;34m]\u001b[0m\u001b[0;34m,\u001b[0m\u001b[0mnlta\u001b[0m\u001b[0;34m,\u001b[0m\u001b[0mnsta\u001b[0m\u001b[0;34m,\u001b[0m\u001b[0minit_th\u001b[0m\u001b[0;34m,\u001b[0m\u001b[0mstop_th\u001b[0m\u001b[0;34m,\u001b[0m\u001b[0mstepsz\u001b[0m\u001b[0;34m)\u001b[0m\u001b[0;34m[\u001b[0m\u001b[0;36m1\u001b[0m\u001b[0;34m]\u001b[0m\u001b[0;34m)\u001b[0m\u001b[0;34m\u001b[0m\u001b[0;34m\u001b[0m\u001b[0m\n\u001b[1;32m     18\u001b[0m \u001b[0;31m# mask_train_win = mask_train[:,::5]\u001b[0m\u001b[0;34m\u001b[0m\u001b[0;34m\u001b[0m\u001b[0;34m\u001b[0m\u001b[0m\n",
      "\u001b[0;31mNameError\u001b[0m: name 'sta_lta2' is not defined"
     ]
    }
   ],
   "source": [
    "duration = 24.2\n",
    "nsta_sec = 0.7 # 0.7\n",
    "ratio = margin_tr[0].shape[-1]/duration\n",
    "nsta = int(nsta_sec*ratio)\n",
    "nlta = int(2*nsta)\n",
    "stepsz = int(0.2*ratio) # 0.2\n",
    "timevec = np.linspace(0,duration,margin_ts[0].shape[0])\n",
    "idx = 27\n",
    "init_th = 0.6\n",
    "stop_th = 0.3\n",
    "vecs_train = [] #np.zeros(np.argmax(margin_tr,-1).shape)\n",
    "mask_train = [] #np.zeros(np.argmax(margin_tr,-1).shape)\n",
    "vecs_test = [] #np.zeros(np.argmax(margin_ts,-1).shape)\n",
    "mask_test = [] #np.zeros(np.argmax(margin_ts,-1).shape)\n",
    "for i in range(len(margin_tr)):\n",
    "    vecs_train.append(sta_lta2(margin_tr[i],nlta,nsta,init_th,stop_th,stepsz)[0])\n",
    "    mask_train.append(sta_lta2(margin_tr[i],nlta,nsta,init_th,stop_th,stepsz)[1])\n",
    "# mask_train_win = mask_train[:,::5]\n",
    "for i in range(len(margin_ts)):\n",
    "    vecs_test.append(sta_lta2(margin_ts[i],nlta,nsta,init_th,stop_th,stepsz)[0])\n",
    "    mask_test.append(sta_lta2(margin_ts[i],nlta,nsta,init_th,stop_th,stepsz)[1])\n",
    "# mask_test_win = mask_test[:,::5]\n",
    "mask_train = np.array(mask_train)\n",
    "mask_test = np.array(mask_test)"
   ]
  },
  {
   "cell_type": "code",
   "execution_count": 9,
   "metadata": {},
   "outputs": [
    {
     "ename": "IndexError",
     "evalue": "list index out of range",
     "output_type": "error",
     "traceback": [
      "\u001b[0;31m---------------------------------------------------------------------------\u001b[0m",
      "\u001b[0;31mIndexError\u001b[0m                                Traceback (most recent call last)",
      "\u001b[0;32m<ipython-input-9-89a14f670316>\u001b[0m in \u001b[0;36m<module>\u001b[0;34m\u001b[0m\n\u001b[1;32m      2\u001b[0m \u001b[0;31m# max_len = 1488\u001b[0m\u001b[0;34m\u001b[0m\u001b[0;34m\u001b[0m\u001b[0;34m\u001b[0m\u001b[0m\n\u001b[1;32m      3\u001b[0m \u001b[0mmask_vid_tr\u001b[0m \u001b[0;34m=\u001b[0m \u001b[0mnp\u001b[0m\u001b[0;34m.\u001b[0m\u001b[0mzeros\u001b[0m\u001b[0;34m(\u001b[0m\u001b[0mnp\u001b[0m\u001b[0;34m.\u001b[0m\u001b[0margmax\u001b[0m\u001b[0;34m(\u001b[0m\u001b[0my_train1\u001b[0m\u001b[0;34m,\u001b[0m\u001b[0;34m-\u001b[0m\u001b[0;36m1\u001b[0m\u001b[0;34m)\u001b[0m\u001b[0;34m.\u001b[0m\u001b[0mshape\u001b[0m\u001b[0;34m)\u001b[0m\u001b[0;34m\u001b[0m\u001b[0;34m\u001b[0m\u001b[0m\n\u001b[0;32m----> 4\u001b[0;31m \u001b[0mratio1\u001b[0m \u001b[0;34m=\u001b[0m \u001b[0mmask_train\u001b[0m\u001b[0;34m[\u001b[0m\u001b[0;36m0\u001b[0m\u001b[0;34m]\u001b[0m\u001b[0;34m.\u001b[0m\u001b[0mshape\u001b[0m\u001b[0;34m[\u001b[0m\u001b[0;34m-\u001b[0m\u001b[0;36m1\u001b[0m\u001b[0;34m]\u001b[0m\u001b[0;34m/\u001b[0m\u001b[0mmask_vid_tr\u001b[0m\u001b[0;34m.\u001b[0m\u001b[0mshape\u001b[0m\u001b[0;34m[\u001b[0m\u001b[0;34m-\u001b[0m\u001b[0;36m1\u001b[0m\u001b[0;34m]\u001b[0m\u001b[0;34m\u001b[0m\u001b[0;34m\u001b[0m\u001b[0m\n\u001b[0m\u001b[1;32m      5\u001b[0m \u001b[0;32mfor\u001b[0m \u001b[0mi\u001b[0m \u001b[0;32min\u001b[0m \u001b[0mrange\u001b[0m\u001b[0;34m(\u001b[0m\u001b[0mlen\u001b[0m\u001b[0;34m(\u001b[0m\u001b[0mmask_train\u001b[0m\u001b[0;34m)\u001b[0m\u001b[0;34m)\u001b[0m\u001b[0;34m:\u001b[0m\u001b[0;34m\u001b[0m\u001b[0;34m\u001b[0m\u001b[0m\n\u001b[1;32m      6\u001b[0m     \u001b[0;32mfor\u001b[0m \u001b[0mj\u001b[0m \u001b[0;32min\u001b[0m \u001b[0mrange\u001b[0m\u001b[0;34m(\u001b[0m\u001b[0mmask_train\u001b[0m\u001b[0;34m[\u001b[0m\u001b[0mi\u001b[0m\u001b[0;34m]\u001b[0m\u001b[0;34m.\u001b[0m\u001b[0mshape\u001b[0m\u001b[0;34m[\u001b[0m\u001b[0;34m-\u001b[0m\u001b[0;36m1\u001b[0m\u001b[0;34m]\u001b[0m\u001b[0;34m)\u001b[0m\u001b[0;34m:\u001b[0m\u001b[0;34m\u001b[0m\u001b[0;34m\u001b[0m\u001b[0m\n",
      "\u001b[0;31mIndexError\u001b[0m: list index out of range"
     ]
    }
   ],
   "source": [
    "# downsample the mask to vid\n",
    "# max_len = 1488\n",
    "mask_vid_tr = np.zeros(np.argmax(y_train1,-1).shape)\n",
    "ratio1 = mask_train[0].shape[-1]/mask_vid_tr.shape[-1]\n",
    "for i in range(len(mask_train)):\n",
    "    for j in range(mask_train[i].shape[-1]):\n",
    "        if mask_train[i][j] == 0:\n",
    "            continue\n",
    "        else:\n",
    "            mask_vid_tr[i,int(j/ratio1)] = 1\n",
    "mask_vid_ts = np.zeros(np.argmax(y_test1,-1).shape)\n",
    "for i in range(len(mask_test)):\n",
    "    for j in range(mask_test[i].shape[-1]):\n",
    "        if mask_test[i][j] == 0:\n",
    "            continue\n",
    "        else:\n",
    "            mask_vid_ts[i,int(j/ratio1)] = 1\n",
    "\n",
    "# downsample the mask to spect\n",
    "mask_spect_tr = np.zeros(np.argmax(y_train3,-1).shape)\n",
    "ratio2 = mask_train[0].shape[-1]/mask_spect_tr.shape[-1]\n",
    "for i in range(len(mask_train)):\n",
    "    for j in range(mask_train[i].shape[-1]):\n",
    "        if mask_train[i][j] == 0:\n",
    "            continue\n",
    "        else:\n",
    "            mask_spect_tr[i,int(j/ratio2)] = 1\n",
    "mask_spect_ts = np.zeros(np.argmax(y_test3,-1).shape)\n",
    "for i in range(len(mask_test)):\n",
    "    for j in range(mask_test[i].shape[-1]):\n",
    "        if mask_test[i][j] == 0:\n",
    "            continue\n",
    "        else:\n",
    "            mask_spect_ts[i,int(j/ratio2)] = 1\n",
    "print('Mask shapes:')\n",
    "print(mask_vid_tr.shape)\n",
    "print(mask_vid_ts.shape)\n",
    "print(mask_spect_tr.shape)\n",
    "print(mask_spect_ts.shape)"
   ]
  },
  {
   "cell_type": "code",
   "execution_count": 137,
   "metadata": {},
   "outputs": [],
   "source": [
    "def masker(x, y, mask):\n",
    "    x2 = []\n",
    "    y2 = []\n",
    "    flag = 0\n",
    "    for i in range(len(mask)):\n",
    "        for j in range(mask.shape[1]):\n",
    "            if flag == 0 and mask[i,j] == 0:\n",
    "                continue\n",
    "            if flag == 1 and mask[i,j] == 1:\n",
    "                if j == mask.shape[1]-1 and j+1 - startpt > 2:\n",
    "                    stoppt = j+1\n",
    "                    x2.append(x[i,startpt:stoppt])\n",
    "                    y2.append(np.squeeze(np.argmax(y[i,startpt:stoppt],-1)))\n",
    "                else:\n",
    "                    continue\n",
    "            if flag == 0 and mask[i,j] == 1:\n",
    "                flag = 1\n",
    "                startpt = j\n",
    "            if flag == 1 and mask[i,j] == 0:\n",
    "                flag = 0\n",
    "                stoppt = j+1\n",
    "                if stoppt-startpt > 2:\n",
    "                    x2.append(x[i,startpt:stoppt])\n",
    "                    y2.append(np.squeeze(np.argmax(y[i,startpt:stoppt],-1)))\n",
    "    \n",
    "    x2 = np.asarray(x2)\n",
    "    y2 = np.array([to_categorical(y,num_classes=num_class) for y in np.array(y2)])\n",
    "    return x2, y2"
   ]
  },
  {
   "cell_type": "code",
   "execution_count": 138,
   "metadata": {},
   "outputs": [
    {
     "name": "stdout",
     "output_type": "stream",
     "text": [
      "(105,)\n",
      "(105,)\n",
      "(26,)\n",
      "(26,)\n",
      "(105,)\n",
      "(105,)\n",
      "(26,)\n",
      "(26,)\n",
      "(105,)\n",
      "(105,)\n",
      "(26,)\n",
      "(26,)\n"
     ]
    },
    {
     "name": "stderr",
     "output_type": "stream",
     "text": [
      "/usr/local/lib/python3.7/site-packages/ipykernel_launcher.py:27: VisibleDeprecationWarning: Creating an ndarray from ragged nested sequences (which is a list-or-tuple of lists-or-tuples-or ndarrays with different lengths or shapes) is deprecated. If you meant to do this, you must specify 'dtype=object' when creating the ndarray\n"
     ]
    }
   ],
   "source": [
    "x1train, y1train = masker(x_train11, y_train3, mask_spect_tr)\n",
    "x1test, y1test = masker(x_test11, y_test3, mask_spect_ts)\n",
    "x2train, y2train = masker(x_train12, y_train3, mask_spect_tr)\n",
    "x2test, y2test = masker(x_test12, y_test3, mask_spect_ts)\n",
    "x3train, y3train = masker(x_train3, y_train3, mask_spect_tr)\n",
    "x3test, y3test = masker(x_test3, y_test3, mask_spect_ts)\n",
    "print(x1train.shape)\n",
    "print(y1train.shape)\n",
    "print(x1test.shape)\n",
    "print(y1test.shape)\n",
    "print(x2train.shape)\n",
    "print(y2train.shape)\n",
    "print(x2test.shape)\n",
    "print(y2test.shape)\n",
    "print(x3train.shape)\n",
    "print(y3train.shape)\n",
    "print(x3test.shape)\n",
    "print(y3test.shape)"
   ]
  },
  {
   "cell_type": "code",
   "execution_count": 139,
   "metadata": {},
   "outputs": [
    {
     "name": "stdout",
     "output_type": "stream",
     "text": [
      "(131,)\n",
      "(131,)\n",
      "(131,)\n",
      "(131,)\n",
      "(131,)\n",
      "(131,)\n"
     ]
    }
   ],
   "source": [
    "# merge all to test\n",
    "x1test = np.concatenate([x1train,x1test],0)\n",
    "print(x1test.shape)\n",
    "x2test = np.concatenate([x2train,x2test],0)\n",
    "print(x2test.shape)\n",
    "x3test = np.concatenate([x3train,x3test],0)\n",
    "print(x3test.shape)\n",
    "y1test = np.concatenate([y1train,y1test],0)\n",
    "print(y1test.shape)\n",
    "y2test = np.concatenate([y2train,y2test],0)\n",
    "print(y2test.shape)\n",
    "y3test = np.concatenate([y3train,y3test],0)\n",
    "print(y3test.shape)"
   ]
  },
  {
   "cell_type": "code",
   "execution_count": 140,
   "metadata": {},
   "outputs": [
    {
     "data": {
      "text/plain": [
       "Text(0, 0.5, 'Normalized Euclidean Distance')"
      ]
     },
     "execution_count": 140,
     "metadata": {},
     "output_type": "execute_result"
    },
    {
     "data": {
      "image/png": "[encoded data removed]",
      "text/plain": [
       "<Figure size 864x432 with 1 Axes>"
      ]
     },
     "metadata": {
      "needs_background": "light"
     },
     "output_type": "display_data"
    }
   ],
   "source": [
    "idx = 1\n",
    "plt.plot(timevec,margin_tr[idx]/max(margin_tr[idx]),color='black')\n",
    "plt.plot(timevec,mask_train[idx],linewidth=3,color='red')\n",
    "plt.legend(['Euclidean Distance','STA/LTA Detector'], loc = 'upper right', fontsize = 'xx-large')\n",
    "fig = plt.gcf()\n",
    "fig.set_size_inches(12,6)\n",
    "plt.xticks(fontsize=19)\n",
    "plt.yticks(fontsize=19)\n",
    "plt.xlabel('Time (sec)',fontsize=19, fontname='Comic Sans MS')\n",
    "plt.ylabel('Normalized Euclidean Distance',fontsize=19)\n",
    "# plt.savefig(str(idx)+' gesture detect.png',dpi=400)"
   ]
  },
  {
   "cell_type": "code",
   "execution_count": 141,
   "metadata": {},
   "outputs": [],
   "source": [
    "def num_to_ch(num):\n",
    "    label = ''\n",
    "    for ch in num:\n",
    "        label += chr(ord('@') + np.argmax(ch,-1)+1)\n",
    "    return label"
   ]
  },
  {
   "cell_type": "code",
   "execution_count": 142,
   "metadata": {},
   "outputs": [],
   "source": [
    "# convert detected labels\n",
    "ctc_tr3 = [num_to_ch(y) for y in y3train]\n",
    "ctc_ts3 = [num_to_ch(y) for y in y3test]"
   ]
  },
  {
   "cell_type": "code",
   "execution_count": 143,
   "metadata": {},
   "outputs": [
    {
     "data": {
      "text/plain": [
       "['AAAABBBBBBBBBBBBBBBB',\n",
       " 'BBBBBBBCCCCCCCCCCCC',\n",
       " 'NNNNNNN',\n",
       " 'NNNNNAA',\n",
       " 'AAOOOOOOOOOOOAAA',\n",
       " 'APPPPPPPP',\n",
       " 'AADDDDDDDDDDA',\n",
       " 'AABBBBBBBBBBBBBBBBBBCCCCCCCCCCCCC',\n",
       " 'KKKKKKKKK',\n",
       " 'KKKKKAAA',\n",
       " 'AAALLLLLLLLLLLLLAA',\n",
       " 'AAMMMMMMM',\n",
       " 'MMMMMAAA',\n",
       " 'AADDDDDDDDAA',\n",
       " 'AAAABBBBBBBBBBBBBBBBBB',\n",
       " 'BBBBBBBBBBBCCCCCCCCCA',\n",
       " 'AAAFFFFFFFFFFFFAAA',\n",
       " 'AAGGGGGGGGGGGAAAAAA',\n",
       " 'AADDDDDDDDD',\n",
       " 'BBBBBBBBBBACCCCCCCCA',\n",
       " 'AEEEEEEE',\n",
       " 'AAAFFFFFFFFFFFFAA',\n",
       " 'AAGGGGGGGGGGAAA',\n",
       " 'AADDDDDDDDDDA',\n",
       " 'AAAAABBBBBBBBBBBBBBBBBB',\n",
       " 'BBBBBBBBBCCCCCCCCCCA',\n",
       " 'NNNNNNNNNNNAA',\n",
       " 'AAAOOOOOOOOOOOAA',\n",
       " 'AAPPPPPPP',\n",
       " 'PPPPAAA',\n",
       " 'AADDDDDDDDD',\n",
       " 'BBBBBBBBBBBBBBCCCCCCCCCCCCC',\n",
       " 'HHHHAAA',\n",
       " 'AAAIIIIIIIIIIIAAA',\n",
       " 'AAJJJJJJJJJAA',\n",
       " 'AADDDDDDDDDDA',\n",
       " 'AABBBBBBBBBBBBBBBBBBBB',\n",
       " 'BBBBBBBBBBBCCCCCCCCC',\n",
       " 'AHHHHHHH',\n",
       " 'AAAIIIIIIIIIIIAA',\n",
       " 'AAJJJJJJJJJJAA',\n",
       " 'AADDDDDDDDDA',\n",
       " 'ABBBBBBBBBBB',\n",
       " 'BBBBBBBBBBBBCCCCCCCCCCCCA',\n",
       " 'AAEEEEEEEEEEA',\n",
       " 'AAAFFFFFFFFFFAAA',\n",
       " 'AAGGGGGGGGGGAA',\n",
       " 'AADDDDDDDDDDA',\n",
       " 'AAABBBBBBBBBBBBBBBBBBBBBBCCCCCCCCCC',\n",
       " 'NNNNNNNAAA',\n",
       " 'AAAOOOOOOOOOOOOOOAA',\n",
       " 'APPPPPPPPP',\n",
       " 'ADDDDDDDDDA',\n",
       " 'AAAAABBBBBBBBBBBBBBBBBCCCCCCCCA',\n",
       " 'AAEEEEEEEE',\n",
       " 'AAAFFFFFFFFFFAAA',\n",
       " 'AAGGGGGGGGGGAA',\n",
       " 'AADDDDDDDDDDD',\n",
       " 'ABBBBBBBBBBB',\n",
       " 'BBBBBBBBBBBBBBBBAACCCCCCCC',\n",
       " 'NNNNNAA',\n",
       " 'AAOOOOOOOOOOOOOOOAA',\n",
       " 'APPPPPPPP',\n",
       " 'PPPPPAAA',\n",
       " 'AADDDDDDDDDA',\n",
       " 'AAAAABBBBBBBBBBBBBBBBBB',\n",
       " 'BBBBBBBBBBCCCCCCCCCCCCA',\n",
       " 'QQQQAA',\n",
       " 'ARRRRRRRRRR',\n",
       " 'AASSSSSSSSSSAA',\n",
       " 'AADDDDDDDDD',\n",
       " 'BBBBBBBBBBBBCCCCCCCCCCC',\n",
       " 'AQQQQQQQ',\n",
       " 'QQQQQA',\n",
       " 'AAARRRRRRRRRRRR',\n",
       " 'AASSSSSSSSSSA',\n",
       " 'AAADDDDDDDDAA',\n",
       " 'AHHHHHH',\n",
       " 'HHHHAAA',\n",
       " 'AAAIIIIIIIIIIAA',\n",
       " 'AAJJJJJJJJ',\n",
       " 'AADDDDDDDDDA',\n",
       " 'AAABBBBBBBBBBBBBBBB',\n",
       " 'BBBBBBBBBBBCCCCCCCCCAA',\n",
       " 'HHHHHHHH',\n",
       " 'AAAAAAAIIIIIIIIIIIAA',\n",
       " 'AJJJJJJJJJJJAAA',\n",
       " 'AADDDDDDDDDA',\n",
       " 'AAABBBBBBBBBBBBBBBBBBBB',\n",
       " 'BBBBBBBBBBCCCCCCCCC',\n",
       " 'AAKKKKKKKKKKAA',\n",
       " 'AAALLLLLLLLLLLLAA',\n",
       " 'AAMMMMMMMMMMAAA',\n",
       " 'AAADDDDDDDDAA',\n",
       " 'AAABBBBBBBBBBBBBBBBB',\n",
       " 'BBBBBBBBBBACCCCCCCAAA',\n",
       " 'KKKKKAA',\n",
       " 'ALLLLLLLLLLLLLLAAA',\n",
       " 'AMMMMMMMMMMMMAA',\n",
       " 'AADDDDDDDDAA',\n",
       " 'AAABBBBBBBBBBBBBBBBBBBBBBBACCCCCCCCA',\n",
       " 'HHHHHHH',\n",
       " 'AAAIIIIIIIIIIIIIAAA',\n",
       " 'AAJJJJJJJJJ',\n",
       " 'AADDDDDDDDDA',\n",
       " 'ABBBBBBBBBBB',\n",
       " 'BBBBBBBBBBBCCCCCCCCCC',\n",
       " 'AQQQQQQQQQQQAA',\n",
       " 'AAARRRRRRRRRRRAA',\n",
       " 'AAASSSSSSSSSSSSA',\n",
       " 'AADDDDDDDDDA',\n",
       " 'ABBBBBBBBBBBBBBB',\n",
       " 'BBBBBBBBBBBBBCCCCCCCCCCA',\n",
       " 'NNNNNAA',\n",
       " 'AAAOOOOOOOOOOOOAA',\n",
       " 'AAAPPPPPPPPPPPA',\n",
       " 'AADDDDDDDDDA',\n",
       " 'BBBBBBBBBBBBCCCCCCCCA',\n",
       " 'AEEEEEEEE',\n",
       " 'AAAFFFFFFFFFFFFAAA',\n",
       " 'AGGGGGGGGGGGAAAAAAAAADDDDDDDDDD',\n",
       " 'AAABBBBBBBBBBBBBBBBB',\n",
       " 'BBBBBBBBBBBBBBCCCCCCCCCAA',\n",
       " 'KKKKKAA',\n",
       " 'AALLLLLLLLLLLLLAAAAAAAMMMMMMM',\n",
       " 'MMMMMAAAAAAADDDDDDDDAA',\n",
       " 'AABBBBBBBBBBBBBBBBBBBBCCCCCCCCCCC',\n",
       " 'AQQQQQQQQQQA',\n",
       " 'AAARRRRRRRRRRRRA',\n",
       " 'AASSSSSSSSSSSA',\n",
       " 'AAADDDDDDDDDD']"
      ]
     },
     "execution_count": 143,
     "metadata": {},
     "output_type": "execute_result"
    }
   ],
   "source": [
    "ctc_ts3"
   ]
  },
  {
   "cell_type": "code",
   "execution_count": 144,
   "metadata": {},
   "outputs": [],
   "source": [
    "def data_generator_multi_nolabel_rd(data, batch_size=1):              \n",
    "    \"\"\"\n",
    "    Yields the next training batch.\n",
    "    data is an array  [[[frame1_filename,frame2_filename,…frame16_filename],label1], [[frame1_filename,frame2_filename,…frame16_filename],label2],……….].\n",
    "    \"\"\"\n",
    "    num_samples = data[0].shape[0]\n",
    "    \n",
    "    while True:   \n",
    "        for offset in range(0, num_samples, batch_size):\n",
    "    #             print ('starting index: ', offset) \n",
    "            # Get the samples you'll use in this batch\n",
    "            batch_samples1 = data[0][offset:offset+batch_size]\n",
    "            batch_samples2 = data[1][offset:offset+batch_size]\n",
    "            batch_samples3 = data[2][offset:offset+batch_size]\n",
    "            \n",
    "            # Initialise X_train and y_train arrays for this batch\n",
    "            X_train1 = []\n",
    "            X_train2 = []\n",
    "            X_train3 = []\n",
    "            # For each example\n",
    "            for i in range(0,batch_samples1.shape[0]):\n",
    "                X_train1.append(batch_samples1[i])\n",
    "                X_train2.append(batch_samples2[i])\n",
    "                X_train3.append(batch_samples3[i])\n",
    "                \n",
    "            # Make sure they're numpy arrays (as opposed to lists)\n",
    "            X_train1 = np.array(X_train1)\n",
    "            X_train2 = np.array(X_train2)\n",
    "            X_train3 = np.array(X_train3)\n",
    "            \n",
    "            # yield the next training batch            \n",
    "            yield [X_train1, X_train2, X_train3]"
   ]
  },
  {
   "cell_type": "code",
   "execution_count": 145,
   "metadata": {},
   "outputs": [],
   "source": [
    "predict_generator = data_generator_multi_nolabel_rd([x1test, x2test, x3test])"
   ]
  },
  {
   "cell_type": "code",
   "execution_count": 146,
   "metadata": {
    "scrolled": true
   },
   "outputs": [],
   "source": [
    "fname = 'ctc aux multiinput multitask 92-03'\n",
    "MODEL_FILE = 'Models/' + fname + '.json' # save path\n",
    "WEIGHT_FILE = 'Models/' + fname + '.h5' # save path\n",
    "json_file = open(MODEL_FILE, 'r')\n",
    "loaded_model_json = json_file.read()\n",
    "json_file.close()\n",
    "model_load = model_from_json(loaded_model_json, {'CTCLayer': CTCLayer})\n",
    "model_load.load_weights(WEIGHT_FILE)"
   ]
  },
  {
   "cell_type": "code",
   "execution_count": 147,
   "metadata": {},
   "outputs": [],
   "source": [
    "prediction_model = keras.models.Model(\n",
    "    [model_load.get_layer(name=\"rd\").input, model_load.get_layer(name=\"ra\").input, model_load.get_layer(name=\"image\").input], model_load.get_layer(name=\"dense2\").output\n",
    ")"
   ]
  },
  {
   "cell_type": "code",
   "execution_count": 148,
   "metadata": {},
   "outputs": [],
   "source": [
    "probs = np.array([np.squeeze(prediction_model.predict(next(predict_generator))) for i in range(len(x3test))],dtype=object)\n",
    "pred = np.array([np.argmax(probs[i],-1) for i in range(len(x3test))], dtype = object)"
   ]
  },
  {
   "cell_type": "code",
   "execution_count": 149,
   "metadata": {},
   "outputs": [
    {
     "name": "stdout",
     "output_type": "stream",
     "text": [
      "[8, 8, 1, 1, 1, 1, 1, 1]\n"
     ]
    }
   ],
   "source": [
    "pred_labels = []\n",
    "pred_ch_ls = []\n",
    "for p in pred:\n",
    "    label = []\n",
    "    for num in p:\n",
    "        if num == 20:# or chr(ord('@')+num) == 'A':\n",
    "            continue\n",
    "        label.append(num)\n",
    "    pred_labels.append(label)\n",
    "pred_labels = np.array(pred_labels,dtype=object)  \n",
    "print(pred_labels[3])"
   ]
  },
  {
   "cell_type": "code",
   "execution_count": 150,
   "metadata": {},
   "outputs": [
    {
     "name": "stdout",
     "output_type": "stream",
     "text": [
      "1. Predicted: [1, 1, 1, 1, 1, 1, 1, 1, 1, 1, 1, 2, 2, 2, 2, 2, 2, 2, 2, 2, 2, 2, 2, 2, 2, 2, 2, 2, 2, 2, 2, 2, 2, 2, 2, 2, 2, 2, 2, 2, 2, 2, 2, 2, 2, 2, 2, 2, 2, 2, 2, 2, 2, 2, 2, 2] | [0 0 0 0 1 1 1 1 1 1 1 1 1 1 1 1 1 1 1 1] :Original\n",
      "2. Predicted: [2, 2, 2, 2, 2, 2, 2, 2, 2, 2, 2, 2, 2, 2, 3, 3, 3, 3, 3, 3, 2, 2] | [1 1 1 1 1 1 1 2 2 2 2 2 2 2 2 2 2 2 2] :Original\n",
      "3. Predicted: [7, 11, 7, 7, 1, 1, 1, 1, 1] | [13 13 13 13 13 13 13] :Original\n",
      "4. Predicted: [8, 8, 1, 1, 1, 1, 1, 1] | [13 13 13 13 13  0  0] :Original\n",
      "5. Predicted: [1, 1, 1, 1, 12, 12, 12, 12, 12, 12, 12, 12, 12, 12, 12, 12, 1, 1, 1, 1, 1, 1, 1] | [ 0  0 14 14 14 14 14 14 14 14 14 14 14  0  0  0] :Original\n",
      "6. Predicted: [11, 11, 14, 14, 14, 1, 1, 1, 1, 1, 1] | [ 0 15 15 15 15 15 15 15 15] :Original\n",
      "7. Predicted: [1, 1, 1, 1, 1, 1, 4, 4, 4, 4, 4, 4, 4, 4, 4, 4, 4, 4, 4, 4, 4, 4, 4] | [0 0 3 3 3 3 3 3 3 3 3 3 0] :Original\n",
      "8. Predicted: [2, 2, 2, 2, 2, 2, 2, 2, 2, 2, 2, 2, 2, 2, 2, 2, 2, 2, 2, 2, 2, 2, 2, 2, 2, 2, 2, 2, 2, 2, 2, 2, 2, 2, 2, 2, 2, 2, 2, 3, 3, 3, 3, 3, 3, 3, 3, 3, 3, 3, 3, 1, 1] | [0 0 1 1 1 1 1 1 1 1 1 1 1 1 1 1 1 1 1 1 2 2 2 2 2 2 2 2 2 2 2 2 2] :Original\n",
      "9. Predicted: [11, 11, 11, 11, 11, 11, 11, 11, 1, 1, 1, 1, 1, 1, 1] | [10 10 10 10 10 10 10 10 10] :Original\n",
      "10. Predicted: [11, 18, 1, 1, 1, 1, 1, 1] | [10 10 10 10 10  0  0  0] :Original\n",
      "11. Predicted: [1, 1, 1, 1, 1, 1, 1, 6, 6, 6, 6, 6, 6, 6, 6, 6, 6, 6, 6, 6, 6, 6, 1, 1, 1, 1, 1, 1, 1, 1, 1] | [ 0  0  0 11 11 11 11 11 11 11 11 11 11 11 11 11  0  0] :Original\n",
      "12. Predicted: [17, 17, 17, 19, 19, 19, 19, 1] | [ 0  0 12 12 12 12 12 12 12] :Original\n",
      "13. Predicted: [10, 10, 10, 5] | [12 12 12 12 12  0  0  0] :Original\n",
      "14. Predicted: [1, 1, 1, 1, 4, 4, 4, 4, 4, 4, 4, 4, 4, 4, 4, 4, 4, 4, 4, 4] | [0 0 3 3 3 3 3 3 3 3 0 0] :Original\n",
      "15. Predicted: [1, 1, 1, 1, 1, 1, 1, 1, 2, 2, 2, 2, 2, 2, 2, 2, 2, 2, 2, 2, 2, 2, 2, 2, 2, 2, 2, 2, 2, 2, 2, 2, 2, 2, 2, 2, 2, 2, 2, 2, 2, 2, 2, 2, 2, 2, 2, 2, 2, 2] | [0 0 0 0 1 1 1 1 1 1 1 1 1 1 1 1 1 1 1 1 1 1] :Original\n",
      "16. Predicted: [2, 2, 2, 2, 2, 2, 2, 2, 2, 2, 2, 2, 2, 2, 2, 2, 2, 2, 2, 2, 2, 2, 2, 2, 2, 2, 3, 2, 2, 2, 2, 3, 1] | [1 1 1 1 1 1 1 1 1 1 1 2 2 2 2 2 2 2 2 2 0] :Original\n",
      "17. Predicted: [1, 1, 1, 1, 1, 1, 6, 6, 6, 6, 6, 6, 6, 6, 6, 6, 6, 6, 6, 6, 1, 1, 1, 1, 1, 1, 1, 1] | [0 0 0 5 5 5 5 5 5 5 5 5 5 5 5 0 0 0] :Original\n",
      "18. Predicted: [1, 1, 1, 1, 7, 10, 10, 10, 10, 10, 7, 7, 7, 10, 7, 7, 1, 1, 1, 1, 1, 1, 1, 1, 1, 1, 1, 1, 1, 1, 1, 1, 1, 1, 1] | [0 0 6 6 6 6 6 6 6 6 6 6 6 0 0 0 0 0 0] :Original\n",
      "19. Predicted: [1, 1, 1, 1, 4, 4, 4, 4, 4, 4, 4, 4, 4, 4, 4, 4, 4, 4, 4, 4, 4, 4, 4, 4] | [0 0 3 3 3 3 3 3 3 3 3] :Original\n",
      "20. Predicted: [2, 2, 2, 2, 2, 2, 2, 2, 2, 2, 2, 3, 3, 3, 3, 3, 3, 3, 3, 1, 1] | [1 1 1 1 1 1 1 1 1 1 0 2 2 2 2 2 2 2 2 0] :Original\n",
      "21. Predicted: [1, 14, 10, 10, 10, 10, 10, 10] | [0 4 4 4 4 4 4 4] :Original\n",
      "22. Predicted: [1, 1, 1, 1, 1, 1, 6, 6, 6, 6, 6, 6, 6, 6, 6, 6, 6, 6, 1, 1, 1, 1, 1, 1] | [0 0 0 5 5 5 5 5 5 5 5 5 5 5 5 0 0] :Original\n",
      "23. Predicted: [1, 1, 1, 1, 1, 10, 10, 10, 10, 10, 10, 10, 10, 10, 10, 10, 10, 1, 1, 1, 1, 1] | [0 0 6 6 6 6 6 6 6 6 6 6 0 0 0] :Original\n",
      "24. Predicted: [1, 1, 1, 1, 1, 1, 4, 4, 4, 4, 4, 4, 4, 4, 4, 4, 4, 4, 4, 4, 4, 4, 4, 4, 4] | [0 0 3 3 3 3 3 3 3 3 3 3 0] :Original\n",
      "25. Predicted: [1, 1, 1, 1, 1, 1, 1, 1, 1, 1, 1, 1, 1, 1, 1, 2, 2, 2, 2, 2, 2, 2, 2, 2, 2, 2, 2, 2, 2, 2, 2, 2, 2, 2, 2, 2, 2, 2, 2, 2, 2, 2, 2, 2, 2, 2, 2, 2, 2, 2, 2, 2, 2, 2, 2, 2, 2, 2] | [0 0 0 0 0 1 1 1 1 1 1 1 1 1 1 1 1 1 1 1 1 1 1] :Original\n",
      "26. Predicted: [2, 2, 2, 2, 2, 2, 2, 2, 2, 2, 2, 2, 3, 3, 3, 3, 3, 3, 3, 2, 2] | [1 1 1 1 1 1 1 1 1 2 2 2 2 2 2 2 2 2 2 0] :Original\n",
      "27. Predicted: [14, 14, 14, 14, 14, 14, 14, 14, 14, 14, 14, 14, 14, 14, 1, 1, 1] | [13 13 13 13 13 13 13 13 13 13 13  0  0] :Original\n",
      "28. Predicted: [1, 1, 1, 1, 1, 1, 15, 12, 12, 12, 12, 12, 12, 12, 12, 12, 12, 1, 1, 1, 1] | [ 0  0  0 14 14 14 14 14 14 14 14 14 14 14  0  0] :Original\n",
      "29. Predicted: [1, 6, 7] | [ 0  0 15 15 15 15 15 15 15] :Original\n",
      "30. Predicted: [11, 11, 11, 11, 11, 1, 1, 1, 1, 1, 1] | [15 15 15 15  0  0  0] :Original\n",
      "31. Predicted: [1, 1, 1, 1, 4, 4, 4, 4, 4, 4, 4, 4, 4, 4, 4, 4, 4, 4, 4, 4, 4, 4, 4, 4] | [0 0 3 3 3 3 3 3 3 3 3] :Original\n",
      "32. Predicted: [2, 2, 2, 2, 2, 2, 2, 2, 2, 2, 2, 2, 2, 2, 2, 2, 2, 2, 2, 2, 2, 2, 2, 2, 2, 2, 2, 2, 2, 2, 2, 2, 2, 2, 3, 3, 3, 3, 3, 3, 3, 3, 3, 3, 2] | [1 1 1 1 1 1 1 1 1 1 1 1 1 1 2 2 2 2 2 2 2 2 2 2 2 2 2] :Original\n",
      "33. Predicted: [10, 1, 1, 1, 1, 1, 1, 1] | [7 7 7 7 0 0 0] :Original\n",
      "34. Predicted: [1, 1, 1, 1, 1, 1, 1, 9, 6, 6, 6, 6, 6, 12, 12, 12, 12, 12, 12, 1, 1, 1, 1, 1, 1, 1, 1, 1] | [0 0 0 8 8 8 8 8 8 8 8 8 8 8 0 0 0] :Original\n",
      "35. Predicted: [1, 1, 1, 1, 10, 10, 10, 10, 10, 10, 10, 10, 10, 1, 1, 1, 1, 1] | [0 0 9 9 9 9 9 9 9 9 9 0 0] :Original\n",
      "36. Predicted: [1, 1, 1, 1, 4, 4, 4, 4, 4, 4, 4, 4, 4, 4, 4, 4, 4, 4, 4, 4, 4, 4] | [0 0 3 3 3 3 3 3 3 3 3 3 0] :Original\n",
      "37. Predicted: [1, 1, 1, 1, 1, 1, 2, 2, 2, 2, 2, 2, 2, 2, 2, 2, 2, 2, 2, 2, 2, 2, 2, 2, 2, 2, 2, 2, 2, 2, 2, 2, 2, 2, 2, 2, 2, 2, 2, 2, 2, 2, 2, 2, 2, 2, 2, 2, 2, 2, 2, 2, 2] | [0 0 1 1 1 1 1 1 1 1 1 1 1 1 1 1 1 1 1 1 1 1] :Original\n",
      "38. Predicted: [2, 2, 2, 2, 2, 2, 2, 2, 2, 2, 2, 2, 2, 2, 2, 2, 2, 2, 2, 2, 2, 2, 2, 2, 2, 2, 2, 2, 3, 2, 2, 2] | [1 1 1 1 1 1 1 1 1 1 1 2 2 2 2 2 2 2 2 2] :Original\n",
      "39. Predicted: [11, 11, 11, 1, 1, 1, 1, 1] | [0 7 7 7 7 7 7 7] :Original\n",
      "40. Predicted: [1, 1, 1, 1, 1, 1, 1, 12, 12, 12, 12, 12, 12, 12, 12, 12, 7, 7, 12, 1, 1, 1, 1] | [0 0 0 8 8 8 8 8 8 8 8 8 8 8 0 0] :Original\n",
      "41. Predicted: [1, 1, 1, 1, 1, 10, 10, 10, 10, 10, 10, 10, 10, 10, 10, 10, 10, 1, 1, 1, 1, 1, 1] | [0 0 9 9 9 9 9 9 9 9 9 9 0 0] :Original\n",
      "42. Predicted: [1, 1, 1, 1, 4, 4, 4, 4, 4, 4, 4, 4, 4, 4, 4, 4, 4, 4, 4, 4, 4] | [0 0 3 3 3 3 3 3 3 3 3 0] :Original\n",
      "43. Predicted: [2, 2, 2, 2, 2, 2, 2, 2, 2, 2, 2, 2, 2, 2, 2, 2, 2, 2, 2, 2, 2, 2, 2, 2, 2, 2, 2, 2, 2, 2, 2] | [0 1 1 1 1 1 1 1 1 1 1 1] :Original\n",
      "44. Predicted: [2, 2, 2, 2, 2, 2, 2, 2, 2, 2, 2, 2, 2, 2, 2, 2, 2, 2, 2, 2, 2, 2, 2, 3, 3, 3, 3, 3, 3, 3, 3, 3, 3, 3, 3, 3, 3, 3, 3, 3, 3, 3, 3, 3, 1, 1] | [1 1 1 1 1 1 1 1 1 1 1 1 2 2 2 2 2 2 2 2 2 2 2 2 0] :Original\n",
      "45. Predicted: [1, 1, 5, 5, 5, 5, 5, 5, 5, 5, 5, 5, 1] | [0 0 4 4 4 4 4 4 4 4 4 4 0] :Original\n",
      "46. Predicted: [1, 1, 1, 1, 1, 1, 6, 12, 12, 12, 12, 12, 12, 12, 6, 12, 1, 1, 1, 1, 1] | [0 0 0 5 5 5 5 5 5 5 5 5 5 0 0 0] :Original\n",
      "47. Predicted: [1, 1, 1, 1, 1, 1, 10, 10, 10, 10, 10, 10, 10, 10, 1, 1, 1, 1, 1, 1, 1] | [0 0 6 6 6 6 6 6 6 6 6 6 0 0] :Original\n",
      "48. Predicted: [1, 1, 1, 1, 4, 4, 4, 4, 4, 4, 4, 4, 4, 4, 4, 4, 4, 4, 4, 4, 4, 4, 4, 4] | [0 0 3 3 3 3 3 3 3 3 3 3 0] :Original\n",
      "49. Predicted: [1, 1, 1, 2, 2, 2, 2, 2, 2, 2, 2, 2, 2, 2, 2, 2, 2, 2, 2, 2, 2, 2, 2, 2, 2, 2, 2, 2, 2, 2, 2, 2, 2, 2, 2, 2, 2, 3, 3, 3, 3, 3, 3, 3, 3, 3, 3, 3, 3, 3, 3, 3, 3, 3, 3, 3, 3, 3, 3] | [0 0 0 1 1 1 1 1 1 1 1 1 1 1 1 1 1 1 1 1 1 1 1 1 1 2 2 2 2 2 2 2 2 2 2] :Original\n",
      "50. Predicted: [1, 1, 1, 1, 10, 10, 12, 12, 8, 8, 1, 1, 1, 1, 1] | [13 13 13 13 13 13 13  0  0  0] :Original\n",
      "51. Predicted: [1, 1, 1, 1, 1, 1, 1, 6, 6, 15, 13, 13, 13, 6, 13, 13, 13, 12, 12, 12, 1, 1, 1] | [ 0  0  0 14 14 14 14 14 14 14 14 14 14 14 14 14 14  0  0] :Original\n",
      "52. Predicted: [1, 14, 14, 14, 14, 14, 9, 1, 1, 1, 1] | [ 0 15 15 15 15 15 15 15 15 15] :Original\n",
      "53. Predicted: [1, 1, 4, 4, 4, 4, 4, 4, 4, 4, 4, 4, 4, 4, 4, 4, 4, 4] | [0 3 3 3 3 3 3 3 3 3 0] :Original\n",
      "54. Predicted: [1, 2, 2, 2, 2, 2, 2, 2, 2, 2, 2, 2, 2, 2, 2, 2, 2, 2, 2, 2, 2, 2, 2, 2, 2, 2, 2, 2, 2, 2, 2, 2, 2, 2, 2, 2, 2, 2, 2, 2, 2, 2, 2, 3, 2, 3, 3, 3, 3, 3, 3, 3, 3, 3, 3, 3, 3, 3] | [0 0 0 0 0 1 1 1 1 1 1 1 1 1 1 1 1 1 1 1 1 1 2 2 2 2 2 2 2 2 0] :Original\n",
      "55. Predicted: [1, 1, 1, 1, 10, 10, 10, 10, 10, 10] | [0 0 4 4 4 4 4 4 4 4] :Original\n",
      "56. Predicted: [1, 1, 1, 1, 12, 12, 6, 6, 6, 6, 6, 6, 6, 6, 6, 1, 1, 1, 1, 1] | [0 0 0 5 5 5 5 5 5 5 5 5 5 0 0 0] :Original\n",
      "57. Predicted: [1, 1, 1, 1, 17, 17, 7, 18, 18, 18, 16, 16, 1, 1, 1, 1, 1, 1] | [0 0 6 6 6 6 6 6 6 6 6 6 0 0] :Original\n",
      "58. Predicted: [1, 1, 1, 1, 1, 1, 4, 4, 4, 4, 4, 4, 4, 4, 4, 4, 4, 4, 4, 4, 4, 4, 4, 4, 4, 4] | [0 0 3 3 3 3 3 3 3 3 3 3 3] :Original\n",
      "59. Predicted: [1, 1, 2, 2, 2, 2, 2, 2, 2, 2, 2, 2, 2, 2, 2, 2, 2, 2, 2, 2, 2, 2, 2, 2, 2, 2, 2, 2, 2, 2, 2] | [0 1 1 1 1 1 1 1 1 1 1 1] :Original\n",
      "60. Predicted: [2, 2, 2, 2, 2, 2, 2, 2, 2, 2, 2, 2, 2, 2, 2, 2, 2, 2, 2, 2, 2, 2, 3, 3, 3, 3, 3, 3, 3, 3, 3, 3, 3, 3, 1] | [1 1 1 1 1 1 1 1 1 1 1 1 1 1 1 1 0 0 2 2 2 2 2 2 2 2] :Original\n",
      "61. Predicted: [8, 8, 8, 1, 1, 1, 1, 1] | [13 13 13 13 13  0  0] :Original\n",
      "62. Predicted: [1, 1, 1, 1, 15, 13, 15, 15, 15, 12, 15, 15, 15, 15, 1, 1, 1, 1, 1, 1, 1, 1] | [ 0  0 14 14 14 14 14 14 14 14 14 14 14 14 14 14 14  0  0] :Original\n",
      "63. Predicted: [11, 11, 19] | [ 0 15 15 15 15 15 15 15 15] :Original\n",
      "64. Predicted: [7, 6, 6, 13, 6, 1, 1, 1] | [15 15 15 15 15  0  0  0] :Original\n",
      "65. Predicted: [1, 1, 1, 1, 1, 4, 4, 4, 4, 4, 4, 4, 4, 4, 4, 4, 4, 4, 4, 4, 4] | [0 0 3 3 3 3 3 3 3 3 3 0] :Original\n",
      "66. Predicted: [1, 1, 1, 1, 1, 1, 1, 1, 1, 1, 1, 1, 1, 1, 2, 2, 2, 2, 2, 2, 2, 2, 2, 2, 2, 2, 4, 2, 4, 4, 4, 4, 4, 4, 2, 4, 4, 4, 4, 4, 4, 4, 4, 4, 2, 2, 2] | [0 0 0 0 0 1 1 1 1 1 1 1 1 1 1 1 1 1 1 1 1 1 1] :Original\n",
      "67. Predicted: [2, 2, 2, 2, 2, 2, 2, 2, 2, 2, 2, 2, 2, 2, 2, 2, 2, 2, 2, 2, 2, 2, 2, 3, 3, 3, 3, 3, 3, 3, 3, 3, 3, 3, 3, 1] | [1 1 1 1 1 1 1 1 1 1 2 2 2 2 2 2 2 2 2 2 2 2 0] :Original\n",
      "68. Predicted: [7, 17, 1, 1, 1, 1, 1, 1, 1, 1, 1] | [16 16 16 16  0  0] :Original\n",
      "69. Predicted: [1, 1, 1, 1, 19, 19, 19, 19, 19, 19, 9, 19, 19, 19, 19, 19, 19, 19, 19, 19, 19] | [ 0 17 17 17 17 17 17 17 17 17 17] :Original\n",
      "70. Predicted: [1, 1, 1, 1, 19, 19, 19, 19, 19, 19, 19, 19, 19, 19, 19, 1, 1, 1, 1, 1, 1] | [ 0  0 18 18 18 18 18 18 18 18 18 18  0  0] :Original\n",
      "71. Predicted: [1, 1, 1, 1, 1, 1, 1, 4, 4, 4, 4, 4, 4, 4, 4, 4, 4, 4, 4, 4, 4, 4] | [0 0 3 3 3 3 3 3 3 3 3] :Original\n",
      "72. Predicted: [2, 2, 2, 2, 2, 2, 2, 2, 2, 2, 2, 2, 2, 2, 2, 2, 2, 2, 2, 2, 2, 2, 2, 3, 3, 3, 3, 3, 3, 3, 2, 2] | [1 1 1 1 1 1 1 1 1 1 1 1 2 2 2 2 2 2 2 2 2 2 2] :Original\n",
      "73. Predicted: [7, 18, 17, 17, 17, 17, 17, 17, 17] | [ 0 16 16 16 16 16 16 16] :Original\n",
      "74. Predicted: [7, 7, 7, 1, 1, 1, 1, 1, 1] | [16 16 16 16 16  0] :Original\n",
      "75. Predicted: [1, 1, 1, 1, 1, 1, 19, 19, 19, 19, 19, 19, 19, 19, 19, 9, 1, 1] | [ 0  0  0 17 17 17 17 17 17 17 17 17 17 17 17] :Original\n",
      "76. Predicted: [1, 1, 1, 1, 19, 19, 10, 18, 19, 19, 9, 19, 9, 9, 9, 1, 1] | [ 0  0 18 18 18 18 18 18 18 18 18 18  0] :Original\n",
      "77. Predicted: [1, 1, 1, 1, 1, 1, 4, 4, 4, 4, 4, 4, 4, 4, 4, 4, 4, 4, 4, 4, 4, 4, 4] | [0 0 0 3 3 3 3 3 3 3 3 0 0] :Original\n",
      "78. Predicted: [11, 11, 11, 11, 1, 1, 1] | [0 7 7 7 7 7 7] :Original\n",
      "79. Predicted: [10, 1, 1, 1, 1, 1, 1, 1, 1] | [7 7 7 7 0 0 0] :Original\n",
      "80. Predicted: [1, 1, 1, 1, 1, 1, 1, 10, 10, 12, 10, 12, 12, 12, 12, 1, 1, 1, 1] | [0 0 0 8 8 8 8 8 8 8 8 8 8 0 0] :Original\n",
      "81. Predicted: [1, 1, 1, 1, 10, 9, 10, 10, 10, 10, 10, 10, 10, 10] | [0 0 9 9 9 9 9 9 9 9] :Original\n",
      "82. Predicted: [1, 1, 1, 1, 4, 4, 4, 4, 4, 4, 4, 4, 4, 4, 4, 4, 4, 4, 4, 1] | [0 0 3 3 3 3 3 3 3 3 3 0] :Original\n",
      "83. Predicted: [1, 1, 1, 1, 1, 1, 2, 2, 2, 2, 2, 2, 2, 2, 2, 2, 2, 2, 2, 2, 2, 2, 2, 2, 2, 2, 2, 2, 2, 2, 2, 2, 2, 2, 2, 2, 2, 2, 2, 2, 2, 2, 2, 2, 2, 2, 2, 2, 2, 2, 2] | [0 0 0 1 1 1 1 1 1 1 1 1 1 1 1 1 1 1 1] :Original\n",
      "84. Predicted: [2, 2, 2, 2, 2, 2, 2, 2, 2, 2, 2, 2, 2, 3, 3, 3, 3, 3, 3, 3, 3, 3, 3, 3, 3, 3, 3, 3, 1, 1] | [1 1 1 1 1 1 1 1 1 1 1 2 2 2 2 2 2 2 2 2 0 0] :Original\n",
      "85. Predicted: [5, 5, 1, 1, 1, 1, 1, 1] | [7 7 7 7 7 7 7 7] :Original\n",
      "86. Predicted: [1, 1, 1, 1, 1, 1, 1, 1, 1, 1, 1, 1, 1, 1, 1, 1, 1, 1, 1, 1, 1, 12, 12, 12, 12, 10, 10, 6, 6, 6, 12, 1, 1, 1, 1, 1, 1, 1, 1] | [0 0 0 0 0 0 0 8 8 8 8 8 8 8 8 8 8 8 0 0] :Original\n",
      "87. Predicted: [1, 1, 1, 1, 10, 10, 10, 10, 18, 10, 10, 10, 10, 10, 10, 10, 1, 1, 1, 1, 1] | [0 9 9 9 9 9 9 9 9 9 9 9 0 0 0] :Original\n",
      "88. Predicted: [1, 1, 1, 1, 4, 4, 4, 4, 4, 4, 4, 4, 4, 4, 4, 4, 4, 4, 4, 4, 4, 1] | [0 0 3 3 3 3 3 3 3 3 3 0] :Original\n",
      "89. Predicted: [1, 1, 1, 1, 1, 1, 2, 2, 2, 2, 2, 2, 2, 2, 2, 2, 2, 2, 2, 2, 2, 2, 2, 2, 2, 2, 2, 2, 2, 2, 2, 2, 2, 2, 2, 2, 2, 2, 2, 2, 2, 2, 2, 2, 2, 2, 2, 2, 2, 2, 2, 2, 2, 2, 2, 2, 2, 2, 2, 2, 2, 2, 2] | [0 0 0 1 1 1 1 1 1 1 1 1 1 1 1 1 1 1 1 1 1 1 1] :Original\n",
      "90. Predicted: [2, 2, 2, 2, 2, 2, 2, 2, 2, 2, 2, 2, 2, 2, 2, 2, 2, 2, 2, 2, 2, 3, 2, 3, 3, 3, 3, 3, 3, 3, 3] | [1 1 1 1 1 1 1 1 1 1 2 2 2 2 2 2 2 2 2] :Original\n",
      "91. Predicted: [1, 1, 11, 11, 11, 11, 11, 11, 11, 11, 11, 11, 11, 11, 1, 1, 1, 1, 1, 1, 1] | [ 0  0 10 10 10 10 10 10 10 10 10 10  0  0] :Original\n",
      "92. Predicted: [1, 1, 1, 1, 1, 1, 6, 6, 6, 6, 6, 12, 6, 6, 6, 6, 6, 6, 6, 1, 1, 1, 1, 1] | [ 0  0  0 11 11 11 11 11 11 11 11 11 11 11 11  0  0] :Original\n",
      "93. Predicted: [1, 1, 1, 1, 6, 6, 6, 6, 6, 6, 6, 6, 6, 6, 1, 1, 1, 1, 1, 1, 1, 1, 1] | [ 0  0 12 12 12 12 12 12 12 12 12 12  0  0  0] :Original\n",
      "94. Predicted: [1, 1, 1, 1, 1, 1, 1, 4, 4, 4, 4, 4, 4, 4, 4, 4, 4, 4, 4, 4, 4, 4, 4, 4, 4, 4, 1] | [0 0 0 3 3 3 3 3 3 3 3 0 0] :Original\n",
      "95. Predicted: [1, 1, 1, 1, 1, 1, 1, 2, 2, 2, 2, 2, 2, 2, 2, 2, 2, 2, 2, 2, 2, 2, 2, 2, 2, 2, 2, 2, 2, 2] | [0 0 0 1 1 1 1 1 1 1 1 1 1 1 1 1 1 1 1 1] :Original\n",
      "96. Predicted: [2, 2, 2, 2, 2, 3, 3, 3, 3, 3, 3, 3, 3, 3, 3, 3, 3, 3, 1] | [1 1 1 1 1 1 1 1 1 1 0 2 2 2 2 2 2 2 0 0 0] :Original\n",
      "97. Predicted: [6, 6, 6, 6, 1, 1, 1, 1, 1, 1] | [10 10 10 10 10  0  0] :Original\n",
      "98. Predicted: [1, 1, 1, 1, 6, 6, 6, 6, 12, 12, 6, 6, 6, 6, 6, 6, 6, 6, 6, 6, 6, 6, 1, 1, 1, 1, 1, 1, 1, 1, 1] | [ 0 11 11 11 11 11 11 11 11 11 11 11 11 11 11  0  0  0] :Original\n",
      "99. Predicted: [1, 1, 6, 6, 6, 6, 6, 6, 6, 6, 6, 6, 6, 6, 1, 1, 1, 1, 1, 1] | [ 0 12 12 12 12 12 12 12 12 12 12 12 12  0  0] :Original\n",
      "100. Predicted: [1, 1, 1, 1, 4, 4, 4, 4, 4, 4, 4, 4, 4, 4, 4, 4, 4, 4, 4, 4, 1] | [0 0 3 3 3 3 3 3 3 3 0 0] :Original\n",
      "101. Predicted: [1, 1, 1, 1, 1, 1, 2, 2, 2, 2, 2, 2, 2, 2, 2, 2, 2, 2, 2, 2, 2, 2, 2, 2, 2, 2, 2, 2, 2, 2, 2, 2, 2, 2, 2, 3, 3, 3, 3, 3, 3, 3, 3, 3, 3, 3, 3, 3, 3, 3, 3, 3, 3, 3, 3, 3, 3, 1] | [0 0 0 1 1 1 1 1 1 1 1 1 1 1 1 1 1 1 1 1 1 1 1 1 1 1 0 2 2 2 2 2 2 2 2 0] :Original\n",
      "102. Predicted: [11, 11, 11, 8, 8, 1, 8, 8, 1] | [7 7 7 7 7 7 7] :Original\n",
      "103. Predicted: [1, 1, 1, 1, 1, 1, 1, 1, 1, 6, 6, 6, 6, 6, 6, 6, 6, 6, 6, 6, 1, 1, 1, 1, 1, 1, 1, 1, 1, 1] | [0 0 0 8 8 8 8 8 8 8 8 8 8 8 8 8 0 0 0] :Original\n",
      "104. Predicted: [1, 1, 1, 1, 10, 10, 10, 10, 10, 10, 10, 10, 10, 10, 10] | [0 0 9 9 9 9 9 9 9 9 9] :Original\n",
      "105. Predicted: [1, 1, 1, 1, 4, 4, 4, 4, 4, 4, 4, 4, 4, 4, 4, 4, 4, 4, 4, 4, 4, 4, 4] | [0 0 3 3 3 3 3 3 3 3 3 0] :Original\n",
      "106. Predicted: [1, 1, 2, 2, 2, 2, 2, 2, 2, 2, 2, 2, 2, 2, 2, 2, 2, 2, 2, 2, 2, 2, 2, 2, 2, 2, 2, 2, 2, 2, 2, 2, 2, 2] | [0 1 1 1 1 1 1 1 1 1 1 1] :Original\n",
      "107. Predicted: [2, 2, 2, 2, 2, 2, 2, 2, 2, 2, 2, 2, 2, 2, 2, 2, 2, 2, 2, 3, 3, 3, 3, 3, 3, 3, 3] | [1 1 1 1 1 1 1 1 1 1 1 2 2 2 2 2 2 2 2 2 2] :Original\n",
      "108. Predicted: [1, 1, 17, 17, 17, 17, 17, 17, 17, 17, 17, 17, 17, 1, 1, 1, 1, 1, 1] | [ 0 16 16 16 16 16 16 16 16 16 16 16  0  0] :Original\n",
      "109. Predicted: [1, 1, 1, 1, 1, 1, 1, 18, 18, 18, 18, 18, 18, 18, 18, 18, 18, 1, 1, 1, 1, 1, 1, 1] | [ 0  0  0 17 17 17 17 17 17 17 17 17 17 17  0  0] :Original\n",
      "110. Predicted: [1, 1, 1, 1, 1, 1, 19, 19, 19, 19, 19, 19, 19, 19, 19, 19, 19, 19, 9, 9, 1, 1, 1, 1, 1] | [ 0  0  0 18 18 18 18 18 18 18 18 18 18 18 18  0] :Original\n",
      "111. Predicted: [1, 1, 1, 1, 4, 4, 4, 4, 4, 4, 4, 4, 4, 4, 4, 4, 4, 4, 4, 4, 4] | [0 0 3 3 3 3 3 3 3 3 3 0] :Original\n",
      "112. Predicted: [1, 1, 2, 2, 2, 2, 2, 2, 2, 2, 2, 2, 2, 2, 2, 2, 2, 2, 2, 2, 2, 2, 2, 2, 2, 2, 2, 2, 2, 2, 2, 2, 2, 2, 2, 2, 2, 2, 2, 2, 2, 2, 2, 2, 2] | [0 1 1 1 1 1 1 1 1 1 1 1 1 1 1 1] :Original\n",
      "113. Predicted: [2, 2, 2, 2, 2, 2, 2, 2, 2, 2, 2, 2, 2, 2, 2, 2, 2, 2, 2, 2, 2, 2, 2, 2, 3, 3, 3, 3, 3, 3, 3, 3, 1, 1] | [1 1 1 1 1 1 1 1 1 1 1 1 1 2 2 2 2 2 2 2 2 2 2 0] :Original\n",
      "114. Predicted: [8, 8, 1, 1, 1, 1, 1, 1, 1] | [13 13 13 13 13  0  0] :Original\n",
      "115. Predicted: [1, 1, 1, 1, 1, 1, 1, 1, 12, 9, 12, 12, 12, 12, 12, 12, 12, 12, 12, 1, 1, 1, 1, 1] | [ 0  0  0 14 14 14 14 14 14 14 14 14 14 14 14  0  0] :Original\n",
      "116. Predicted: [1, 1, 1, 1, 1, 1, 1, 7, 7, 9, 7, 7, 7, 7, 7, 7, 7, 7, 7, 7, 7, 1] | [ 0  0  0 15 15 15 15 15 15 15 15 15 15 15  0] :Original\n",
      "117. Predicted: [1, 1, 1, 1, 4, 4, 4, 4, 4, 4, 4, 4, 4, 4, 4, 4, 4, 4, 4, 4] | [0 0 3 3 3 3 3 3 3 3 3 0] :Original\n",
      "118. Predicted: [2, 2, 2, 2, 2, 2, 2, 2, 2, 2, 2, 2, 2, 2, 2, 3, 3, 3, 3, 3, 3, 3, 1] | [1 1 1 1 1 1 1 1 1 1 1 1 2 2 2 2 2 2 2 2 0] :Original\n",
      "119. Predicted: [1, 1, 10, 10, 5, 10, 10, 10, 10, 10] | [0 4 4 4 4 4 4 4 4] :Original\n",
      "120. Predicted: [1, 1, 1, 1, 1, 6, 6, 6, 6, 6, 6, 6, 6, 6, 6, 6, 6, 6, 6, 1, 1, 1, 1, 1, 1, 1, 1, 1, 1, 1] | [0 0 0 5 5 5 5 5 5 5 5 5 5 5 5 0 0 0] :Original\n",
      "121. Predicted: [1, 1, 1, 1, 7, 7, 7, 7, 10, 16, 10, 10, 10, 16, 1, 1, 1, 1, 1, 1, 1, 1, 1, 1, 1, 1, 1, 1, 1, 1, 1, 1, 1, 1, 1, 1, 1, 1, 1, 1, 1, 4, 4, 4, 4, 4, 4, 4, 4, 4, 4, 4, 4, 4, 4, 4, 4, 4, 4] | [0 6 6 6 6 6 6 6 6 6 6 6 0 0 0 0 0 0 0 0 0 3 3 3 3 3 3 3 3 3 3] :Original\n",
      "122. Predicted: [1, 1, 1, 1, 1, 1, 1, 2, 2, 2, 2, 2, 2, 2, 2, 2, 2, 2, 2, 2, 2, 2, 2, 2, 2, 2, 2, 2, 2, 2, 2, 2, 2, 2, 2, 2, 2, 2, 2, 2, 2, 2, 2, 2, 2] | [0 0 0 1 1 1 1 1 1 1 1 1 1 1 1 1 1 1 1 1] :Original\n",
      "123. Predicted: [2, 2, 2, 2, 2, 2, 2, 2, 2, 2, 2, 2, 2, 2, 2, 2, 2, 2, 2, 2, 2, 2, 2, 2, 2, 2, 2, 2, 2, 3, 3, 3, 3, 3, 3, 3, 3, 3, 3, 3, 3, 3, 1] | [1 1 1 1 1 1 1 1 1 1 1 1 1 1 2 2 2 2 2 2 2 2 2 0 0] :Original\n",
      "124. Predicted: [11, 11, 11, 6, 6, 1, 1, 1, 1, 1, 1] | [10 10 10 10 10  0  0] :Original\n",
      "125. Predicted: [1, 1, 1, 6, 6, 6, 6, 6, 6, 6, 6, 1, 1, 1, 1, 10, 1, 6, 1, 1, 1] | [ 0  0 11 11 11 11 11 11 11 11 11 11 11 11 11  0  0  0  0  0  0  0 12 12\n",
      " 12 12 12 12 12] :Original\n",
      "126. Predicted: [1, 1, 1, 1, 1, 1, 1, 1, 1, 1, 1, 1, 1, 1, 1, 1, 1, 1, 4, 4, 4, 4, 4, 4, 4, 4, 4, 4, 4, 4, 4, 4, 4, 4, 4, 1] | [12 12 12 12 12  0  0  0  0  0  0  0  3  3  3  3  3  3  3  3  0  0] :Original\n",
      "127. Predicted: [1, 2, 2, 2, 2, 2, 2, 2, 2, 2, 2, 2, 2, 2, 2, 2, 2, 2, 2, 2, 2, 2, 2, 2, 2, 2, 2, 2, 2, 2, 2, 2, 2, 2, 2, 2, 2, 2, 2, 2, 2, 2, 3, 3, 3, 3, 3, 3, 3, 3, 3, 2] | [0 0 1 1 1 1 1 1 1 1 1 1 1 1 1 1 1 1 1 1 1 1 2 2 2 2 2 2 2 2 2 2 2] :Original\n",
      "128. Predicted: [1, 1, 11, 11, 11, 11, 11, 11, 14, 1, 1] | [ 0 16 16 16 16 16 16 16 16 16 16  0] :Original\n",
      "129. Predicted: [1, 1, 1, 1, 1, 1, 19, 19, 19, 19, 18, 18, 18, 9, 18, 18, 18, 18, 18, 1, 1, 1, 1, 1] | [ 0  0  0 17 17 17 17 17 17 17 17 17 17 17 17  0] :Original\n",
      "130. Predicted: [1, 1, 1, 1, 19, 19, 19, 19, 18, 18, 18, 18, 18, 18, 1, 1, 1, 1, 1, 1] | [ 0  0 18 18 18 18 18 18 18 18 18 18 18  0] :Original\n",
      "131. Predicted: [1, 1, 1, 1, 1, 1, 1, 4, 4, 4, 4, 4, 4, 4, 4, 4, 4, 4, 4, 4, 4, 4, 4, 4, 4, 1] | [0 0 0 3 3 3 3 3 3 3 3 3 3] :Original\n"
     ]
    }
   ],
   "source": [
    "for idx in range(len(y3test)):\n",
    "    print(str(idx+1) + '. Predicted: ' + str(pred_labels[idx]) + ' | ' + str(np.argmax(y3test[idx],-1)) + ' :Original')"
   ]
  },
  {
   "cell_type": "code",
   "execution_count": 151,
   "metadata": {},
   "outputs": [],
   "source": [
    "from collections import Counter\n",
    "mode_orig = [max(Counter(np.argmax(y,-1)+1)) for y in y3test]\n",
    "mode_pred = [max(Counter(y)) if len(y) != 0 else 1 for y in pred_labels]"
   ]
  },
  {
   "cell_type": "code",
   "execution_count": 152,
   "metadata": {},
   "outputs": [
    {
     "data": {
      "text/plain": [
       "60.30534351145038"
      ]
     },
     "execution_count": 152,
     "metadata": {},
     "output_type": "execute_result"
    }
   ],
   "source": [
    "cmp = [mode_pred[i] == mode_orig[i] for i in range(len(y3test))]\n",
    "trues = np.sum(cmp)\n",
    "acc = trues/len(cmp)*100\n",
    "acc"
   ]
  },
  {
   "cell_type": "code",
   "execution_count": null,
   "metadata": {},
   "outputs": [],
   "source": []
  }
 ],
 "metadata": {
  "kernelspec": {
   "display_name": "Python 3",
   "language": "python",
   "name": "python3"
  },
  "language_info": {
   "codemirror_mode": {
    "name": "ipython",
    "version": 3
   },
   "file_extension": ".py",
   "mimetype": "text/x-python",
   "name": "python",
   "nbconvert_exporter": "python",
   "pygments_lexer": "ipython3",
   "version": "3.7.2"
  }
 },
 "nbformat": 4,
 "nbformat_minor": 2
}
