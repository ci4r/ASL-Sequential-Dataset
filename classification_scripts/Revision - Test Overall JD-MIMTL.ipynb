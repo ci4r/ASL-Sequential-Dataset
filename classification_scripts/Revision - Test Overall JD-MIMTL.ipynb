{
 "cells": [
  {
   "cell_type": "code",
   "execution_count": 1,
   "metadata": {},
   "outputs": [
    {
     "name": "stderr",
     "output_type": "stream",
     "text": [
      "Using TensorFlow backend.\n"
     ]
    },
    {
     "name": "stdout",
     "output_type": "stream",
     "text": [
      "Num GPUs Available:  1\n"
     ]
    }
   ],
   "source": [
    "# %matplotlib inline\n",
    "import matplotlib.pyplot as plt\n",
    "import matplotlib.image as mpimg\n",
    "import tensorflow as tf\n",
    "import os\n",
    "# Create a MirroredStrateg, If Multi-GPU available\n",
    "os.environ['TF_FORCE_GPU_ALLOW_GROWTH'] = 'true' \n",
    "tf.config.set_soft_device_placement(True)\n",
    "# strategy = tf.distribute.MirroredStrategy(devices=['/gpu:1','/gpu:2']) \n",
    "# print('Number of GPUs being used: {}'.format(strategy.num_replicas_in_sync))\n",
    "from tensorflow.keras.preprocessing.image import ImageDataGenerator\n",
    "from tensorflow.keras.models import Sequential, Model, model_from_json\n",
    "from tensorflow.keras.optimizers import *\n",
    "from tensorflow.keras.layers import *\n",
    "from tensorflow.keras import regularizers\n",
    "from tensorflow.keras.callbacks import CSVLogger\n",
    "from tensorflow.keras.wrappers.scikit_learn import KerasClassifier\n",
    "from tensorflow.keras.applications import VGG16, ResNet50\n",
    "from tensorflow.keras.utils import to_categorical\n",
    "from sklearn.model_selection import train_test_split\n",
    "from sklearn.preprocessing import StandardScaler\n",
    "from livelossplot.keras import PlotLossesCallback\n",
    "from livelossplot import PlotLossesKerasTF\n",
    "from tensorflow.keras.callbacks import ReduceLROnPlateau\n",
    "from tqdm import tqdm\n",
    "import efficientnet.keras as efn\n",
    "import h5py, glob, re, cv2, math, matplotlib, pickle, gc\n",
    "import tensorflow.keras as keras\n",
    "import pandas as pd\n",
    "from pandas import read_csv\n",
    "import numpy as np\n",
    "from scipy import stats\n",
    "import itertools, random\n",
    "from collections import Counter\n",
    "# from cnn_utils import *\n",
    "# from tensorflow.compat.v1 import ConfigProto\n",
    "# from tensorflow.compat.v1 import InteractiveSession\n",
    "from sklearn.metrics import classification_report, confusion_matrix\n",
    "from sklearn.utils import class_weight\n",
    "from PIL import Image  \n",
    "import pdb\n",
    "from statistics import mode \n",
    "from IPython.display import clear_output\n",
    "\n",
    "# config = ConfigProto()\n",
    "# config.gpu_options.allow_growth = True\n",
    "# session = InteractiveSession(config=config)\n",
    "\n",
    "np.random.seed(1)\n",
    "# Setting the seed for python random numbers\n",
    "random.seed(1254)\n",
    "# Setting the graph-level random seed.\n",
    "tf.random.set_seed(89)\n",
    "\n",
    "os.environ[\"CUDA_DEVICE_ORDER\"] = \"PCI_BUS_ID\"\n",
    "os.environ[\"CUDA_VISIBLE_DEVICES\"] = \"2\"\n",
    "!CUDA_VISIBLE_DEVICES=2\n",
    "\n",
    "# strategy = tf.distribute.MirroredStrategy(devices=['/gpu:1','/gpu:2'])\n",
    "# print('Number of GPUs being used: {}'.format(strategy.num_replicas_in_sync))\n",
    "# print('Number of GPUs being used: {}'.format(strategy.num_replicas_in_sync))\n",
    "# def setup_multi_node_training(): # IMPORTANT: SET UP TF_CONFIG FOR MULTINODE TRAINING HERE os.environ[“TF_FORCE_GPU_ALLOW_GROWTH”] = “true” tf.config.set_soft_device_placement(True) mirrored_strategy = tf.distribute.experimental.MultiWorkerMirroredStrategy(tf.distribute.experimental.CollectiveCommunication.NCCL) # Constructs the configuration run_config = tf.estimator.RunConfig( train_distribute=mirrored_strategy, ) return run_config\n",
    "print(\"Num GPUs Available: \", len(tf.config.experimental.list_physical_devices('GPU')))"
   ]
  },
  {
   "cell_type": "markdown",
   "metadata": {},
   "source": [
    "## Load data"
   ]
  },
  {
   "cell_type": "code",
   "execution_count": 2,
   "metadata": {},
   "outputs": [
    {
     "name": "stdout",
     "output_type": "stream",
     "text": [
      "(800, 120, 128, 128, 3)\n",
      "(200, 120, 128, 128, 3)\n",
      "(800, 120, 19)\n",
      "(200, 120, 19)\n",
      "(800,)\n",
      "(200,)\n"
     ]
    }
   ],
   "source": [
    "# filename = 'Datasets/final_imit_spec.pkl'\n",
    "# filename = 'Datasets/final_imit_spec2_128.pkl'\n",
    "filename = 'Datasets/final_imit_spec2_128_last.pkl'\n",
    "with open(filename, 'rb') as input:\n",
    "    x = pickle.load(input)\n",
    "imit_train_images, imit_test_images, imit_y_train, imit_y_test, imit_env_train, imit_env_test = [x[0], x[1]\n",
    "                                                                                                , x[2], x[3]\n",
    "                                                                                                , x[4], x[5]]\n",
    "print(imit_train_images.shape)\n",
    "print(imit_test_images.shape)\n",
    "print(imit_y_train.shape)\n",
    "print(imit_y_test.shape)\n",
    "print(imit_env_train.shape)\n",
    "print(imit_env_test.shape)"
   ]
  },
  {
   "cell_type": "code",
   "execution_count": 3,
   "metadata": {},
   "outputs": [],
   "source": [
    "# filename = 'Datasets/final_native_spec.pkl'\n",
    "# with open(filename, 'rb') as input:\n",
    "#     x = pickle.load(input)\n",
    "# native_train_images, native_test_images, native_y_train, native_y_test, native_env_train, native_env_test = [x[0], x[1]\n",
    "#                                                                                                 , x[2], x[3]\n",
    "#                                                                                                 , x[4], x[5]]\n",
    "# print(len(native_train_images))\n",
    "# print(len(native_test_images))\n",
    "# print(native_y_train.shape)\n",
    "# print(native_y_test.shape)\n",
    "# print(native_env_train.shape)\n",
    "# print(native_env_test.shape)"
   ]
  },
  {
   "cell_type": "markdown",
   "metadata": {},
   "source": [
    "##### STA LTA"
   ]
  },
  {
   "cell_type": "code",
   "execution_count": 4,
   "metadata": {},
   "outputs": [],
   "source": [
    "def sta_lta2(vec,nlta,nsta,init_th,stop_th,stepsz):\n",
    "    vec2 = np.zeros(vec.shape)\n",
    "    mask = np.zeros(vec.shape)\n",
    "    state = 0 # '0' nothing, '1' signing\n",
    "    \n",
    "    for i in range(0,len(vec),stepsz):\n",
    "        \n",
    "        if i+nlta+nsta+1 > len(vec):\n",
    "            if state == 1:\n",
    "                stoppt = len(vec)-2\n",
    "                vec2[startpt:stoppt] = vec[startpt:stoppt]\n",
    "                mask[startpt:stoppt] = 1\n",
    "            break\n",
    "            \n",
    "            \n",
    "        longwin = vec[i:i+nlta]\n",
    "        shortwin = vec[i+nlta:i+nlta+nsta]\n",
    "        \n",
    "        if i < nlta and np.mean(longwin) > 150:\n",
    "            vec2[0:i+nsta] = vec[0:i+nsta]\n",
    "            mask[0:i+nsta] = 1\n",
    "        if init_th < sum(shortwin)/sum(longwin):\n",
    "            if state == 0:\n",
    "                startpt = i+nlta\n",
    "                state = 1\n",
    "            if state == 1:\n",
    "                continue\n",
    "        \n",
    "        else:\n",
    "            if state == 0:\n",
    "                continue\n",
    "            if state == 1:\n",
    "                if sum(shortwin)/sum(longwin) > stop_th:\n",
    "                    continue\n",
    "                else:\n",
    "                    stoppt = i+nlta+int(nsta/2)\n",
    "                    state = 0\n",
    "                    vec2[startpt:stoppt] = vec[startpt:stoppt]\n",
    "                    mask[startpt:stoppt] = 1\n",
    "                    \n",
    "    return vec2, mask"
   ]
  },
  {
   "cell_type": "code",
   "execution_count": 190,
   "metadata": {
    "scrolled": true
   },
   "outputs": [],
   "source": [
    "duration = 24.2\n",
    "nsta_sec = 0.7\n",
    "ratio = imit_env_train[0].shape[-1]/duration\n",
    "nsta = int(nsta_sec*ratio)\n",
    "nlta = int(2*nsta)\n",
    "stepsz = int(0.2*ratio) # 0.2\n",
    "timevec = np.linspace(0,24.2,imit_env_train[0].shape[-1])\n",
    "idx = 27\n",
    "init_th = 0.6\n",
    "stop_th = 0.3\n",
    "vecs_train = [] #np.zeros(np.argmax(margin_tr,-1).shape)\n",
    "mask_train = [] #np.zeros(np.argmax(margin_tr,-1).shape)\n",
    "vecs_test = [] #np.zeros(np.argmax(margin_ts,-1).shape)\n",
    "mask_test = [] #np.zeros(np.argmax(margin_ts,-1).shape)\n",
    "for i in range(len(imit_env_train)):\n",
    "    vecs_train.append(sta_lta2(imit_env_train[i],nlta,nsta,init_th,stop_th,stepsz)[0])\n",
    "    mask_train.append(sta_lta2(imit_env_train[i],nlta,nsta,init_th,stop_th,stepsz)[1])\n",
    "# mask_train_win = mask_train[:,::5]\n",
    "for i in range(len(imit_env_test)):\n",
    "    vecs_test.append(sta_lta2(imit_env_test[i],nlta,nsta,init_th,stop_th,stepsz)[0])\n",
    "    mask_test.append(sta_lta2(imit_env_test[i],nlta,nsta,init_th,stop_th,stepsz)[1])\n",
    "# mask_test_win = mask_test[:,::5]\n",
    "mask_train = np.array(mask_train)\n",
    "mask_test = np.array(mask_test)"
   ]
  },
  {
   "cell_type": "markdown",
   "metadata": {},
   "source": [
    "# ideal masks"
   ]
  },
  {
   "cell_type": "code",
   "execution_count": 48,
   "metadata": {},
   "outputs": [
    {
     "name": "stdout",
     "output_type": "stream",
     "text": [
      "(800, 120)\n",
      "(200, 120)\n"
     ]
    }
   ],
   "source": [
    "mask_tr_ideal = np.array([y!=0 for y in np.argmax(imit_y_train,-1)])\n",
    "print(mask_tr_ideal.shape)\n",
    "mask_ts_ideal = np.array([y!=0 for y in np.argmax(imit_y_test,-1)])\n",
    "print(mask_ts_ideal.shape)"
   ]
  },
  {
   "cell_type": "markdown",
   "metadata": {},
   "source": [
    "### Visualize"
   ]
  },
  {
   "cell_type": "code",
   "execution_count": 51,
   "metadata": {},
   "outputs": [
    {
     "data": {
      "text/plain": [
       "Text(0, 0.5, 'Normalized Euclidean Distance')"
      ]
     },
     "execution_count": 51,
     "metadata": {},
     "output_type": "execute_result"
    },
    {
     "name": "stderr",
     "output_type": "stream",
     "text": [
      "/home/m/.local/lib/python3.7/site-packages/matplotlib/font_manager.py:1241: UserWarning: findfont: Font family ['Comic Sans MS'] not found. Falling back to DejaVu Sans.\n",
      "  (prop.get_family(), self.defaultFamily[fontext]))\n"
     ]
    },
    {
     "data": {
      "image/png": "[encoded data removed]",
      "text/plain": [
       "<Figure size 864x432 with 1 Axes>"
      ]
     },
     "metadata": {
      "needs_background": "light"
     },
     "output_type": "display_data"
    }
   ],
   "source": [
    "idx = 3\n",
    "plt.plot(timevec,imit_env_test[idx]/max(imit_env_test[idx]),color='black')\n",
    "timevec2 = np.linspace(0,np.max(timevec),len(mask_ts_ideal[0]))\n",
    "plt.plot(timevec2,mask_ts_ideal[idx],linewidth=3,color='red')\n",
    "plt.legend(['Euclidean Distance','STA/LTA Detector'], loc = 'upper right', fontsize = 'xx-large')\n",
    "fig = plt.gcf()\n",
    "fig.set_size_inches(12,6)\n",
    "plt.xticks(fontsize=19)\n",
    "plt.yticks(fontsize=19)\n",
    "plt.xlabel('Time (sec)',fontsize=19, fontname='Comic Sans MS')\n",
    "plt.ylabel('Normalized Euclidean Distance',fontsize=19)\n",
    "# plt.savefig(str(idx)+' gesture detect.png',dpi=400)"
   ]
  },
  {
   "cell_type": "code",
   "execution_count": 191,
   "metadata": {},
   "outputs": [],
   "source": [
    "def gesture_counter(mask):\n",
    "    cnt = 0\n",
    "    flag = 0\n",
    "    for i in range(len(mask)):\n",
    "        if flag == 0 and mask[i] == 0:\n",
    "            continue\n",
    "        if flag == 1 and mask[i] == 1:\n",
    "            continue\n",
    "        if flag == 0 and mask[i] == 1:\n",
    "            flag = 1\n",
    "            cnt += 1\n",
    "        if flag == 1 and mask[i] == 0:\n",
    "            flag = 0\n",
    "    return cnt"
   ]
  },
  {
   "cell_type": "code",
   "execution_count": 192,
   "metadata": {
    "scrolled": true
   },
   "outputs": [
    {
     "data": {
      "text/plain": [
       "1291"
      ]
     },
     "execution_count": 192,
     "metadata": {},
     "output_type": "execute_result"
    }
   ],
   "source": [
    "numgest = [gesture_counter(m) for m in mask_test]\n",
    "sum(numgest)"
   ]
  },
  {
   "cell_type": "code",
   "execution_count": 49,
   "metadata": {},
   "outputs": [
    {
     "data": {
      "text/plain": [
       "1114"
      ]
     },
     "execution_count": 49,
     "metadata": {},
     "output_type": "execute_result"
    }
   ],
   "source": [
    "numgest = [gesture_counter(m) for m in mask_ts_ideal]\n",
    "sum(numgest)"
   ]
  },
  {
   "cell_type": "code",
   "execution_count": 9,
   "metadata": {},
   "outputs": [],
   "source": [
    "num_class = 19"
   ]
  },
  {
   "cell_type": "code",
   "execution_count": 10,
   "metadata": {},
   "outputs": [],
   "source": [
    "def masker(x, y, mask):\n",
    "    x2 = []\n",
    "    y2 = []\n",
    "    flag = 0\n",
    "    for i in range(len(mask)):\n",
    "        for j in range(mask.shape[1]):\n",
    "            if flag == 0 and mask[i,j] == 0:\n",
    "                continue\n",
    "            if flag == 1 and mask[i,j] == 1:\n",
    "                if j == mask.shape[1]-1 and j+1 - startpt > 2:\n",
    "                    stoppt = j+1\n",
    "                    x2.append(x[i,startpt:stoppt])\n",
    "                    y2.append(y[i,startpt:stoppt])\n",
    "                else:\n",
    "                    continue\n",
    "            if flag == 0 and mask[i,j] == 1:\n",
    "                flag = 1\n",
    "                startpt = j\n",
    "            if flag == 1 and mask[i,j] == 0:\n",
    "                flag = 0\n",
    "                stoppt = j+1\n",
    "                if stoppt-startpt > 2:\n",
    "                    x2.append(x[i,startpt:stoppt])\n",
    "                    y2.append(y[i,startpt:stoppt])\n",
    "    \n",
    "    x2 = np.asarray(x2)\n",
    "    y2 = np.array([to_categorical(y,num_classes=num_class) for y in np.array(y2)])\n",
    "    return x2, y2"
   ]
  },
  {
   "cell_type": "code",
   "execution_count": 11,
   "metadata": {},
   "outputs": [],
   "source": [
    "def down_mask(mask, des_len):\n",
    "    return np.array([mask[int(len(mask)/des_len*i)] for i in range(des_len)])"
   ]
  },
  {
   "cell_type": "code",
   "execution_count": 193,
   "metadata": {},
   "outputs": [
    {
     "name": "stdout",
     "output_type": "stream",
     "text": [
      "(800, 120)\n",
      "(200, 120)\n",
      "(800, 120, 19)\n",
      "(200, 120, 19)\n",
      "(800, 120, 19, 19)\n",
      "(200, 120, 19, 19)\n"
     ]
    }
   ],
   "source": [
    "des_len = imit_train_images.shape[1]\n",
    "mask_down_train = np.array([down_mask(mask, des_len) for mask in mask_train])\n",
    "mask_down_test = np.array([down_mask(mask, des_len) for mask in mask_test])\n",
    "# mask_down_train = mask_tr_ideal\n",
    "# mask_down_test = mask_ts_ideal\n",
    "y_down_train = np.array([down_mask(y, des_len) for y in imit_y_train])\n",
    "y_down_test = np.array([down_mask(y, des_len) for y in imit_y_test])\n",
    "y_down_train_cat = to_categorical(y_down_train, num_classes=num_class)\n",
    "y_down_test_cat = to_categorical(y_down_test, num_classes=num_class)\n",
    "print(mask_down_train.shape)\n",
    "print(mask_down_test.shape)\n",
    "print(y_down_train.shape)\n",
    "print(y_down_test.shape)\n",
    "print(y_down_train_cat.shape)\n",
    "print(y_down_test_cat.shape)"
   ]
  },
  {
   "cell_type": "code",
   "execution_count": 194,
   "metadata": {},
   "outputs": [
    {
     "name": "stdout",
     "output_type": "stream",
     "text": [
      "(4735,)\n",
      "(4735,)\n",
      "(1190,)\n",
      "(1190,)\n"
     ]
    }
   ],
   "source": [
    "x3train, y3train = masker(imit_train_images, np.argmax(y_down_train,-1), mask_down_train)\n",
    "x3test, y3test = masker(imit_test_images, np.argmax(y_down_test,-1), mask_down_test) \n",
    "print(x3train.shape)\n",
    "print(y3train.shape)\n",
    "print(x3test.shape)\n",
    "print(y3test.shape)"
   ]
  },
  {
   "cell_type": "code",
   "execution_count": 66,
   "metadata": {},
   "outputs": [
    {
     "data": {
      "text/plain": [
       "(43, 19)"
      ]
     },
     "execution_count": 66,
     "metadata": {},
     "output_type": "execute_result"
    }
   ],
   "source": [
    "y3train[0].shape"
   ]
  },
  {
   "cell_type": "code",
   "execution_count": 67,
   "metadata": {},
   "outputs": [
    {
     "data": {
      "text/plain": [
       "Counter({1: 797,\n",
       "         10: 161,\n",
       "         11: 162,\n",
       "         12: 162,\n",
       "         3: 800,\n",
       "         2: 464,\n",
       "         4: 163,\n",
       "         5: 168,\n",
       "         6: 168,\n",
       "         16: 162,\n",
       "         17: 166,\n",
       "         18: 166,\n",
       "         7: 153,\n",
       "         8: 156,\n",
       "         9: 156,\n",
       "         13: 146,\n",
       "         14: 148,\n",
       "         15: 147})"
      ]
     },
     "execution_count": 67,
     "metadata": {},
     "output_type": "execute_result"
    }
   ],
   "source": [
    "classes = [stats.mode(np.argmax(y,-1))[0] for y in y3train]\n",
    "c = [int(x) for x in classes]\n",
    "Counter(c)"
   ]
  },
  {
   "cell_type": "code",
   "execution_count": 68,
   "metadata": {},
   "outputs": [
    {
     "name": "stdout",
     "output_type": "stream",
     "text": [
      "(4445,)\n",
      "(4445,)\n",
      "(1114,)\n",
      "(1114,)\n"
     ]
    }
   ],
   "source": [
    "# eliminate zeros md\n",
    "x6train = np.array([x3train[i] for i in range(len(y3train)) if stats.mode(np.argmax(y3train[i],-1))[0] != 0])\n",
    "y6train = np.array([y3train[i] for i in range(len(y3train)) if stats.mode(np.argmax(y3train[i],-1))[0] != 0])\n",
    "x6test = np.array([x3test[i] for i in range(len(y3test)) if stats.mode(np.argmax(y3test[i],-1))[0] != 0])\n",
    "y6test = np.array([y3test[i] for i in range(len(y3test)) if stats.mode(np.argmax(y3test[i],-1))[0] != 0])\n",
    "print(x6train.shape)\n",
    "print(y6train.shape)\n",
    "print(x6test.shape)\n",
    "print(y6test.shape)"
   ]
  },
  {
   "cell_type": "markdown",
   "metadata": {},
   "source": [
    "## RD - RA"
   ]
  },
  {
   "cell_type": "code",
   "execution_count": 17,
   "metadata": {
    "scrolled": true
   },
   "outputs": [],
   "source": [
    "# filename = 'Datasets/final_imit_RD-RA2.pkl'\n",
    "# with open(filename, 'rb') as input:\n",
    "#     x = pickle.load(input)\n",
    "# imit_y_train_RD, imit_y_test_RD, imit_RD_train, imit_RA_train, imit_RD_test, imit_RA_test = [x[0], x[1]\n",
    "#                                                                                                 , x[2], x[3]\n",
    "#                                                                                                 , x[4], x[5]]\n",
    "# print(imit_y_train_RD.shape)\n",
    "# print(imit_y_test_RD.shape)\n",
    "# print(imit_RD_train.shape)\n",
    "# print(imit_RA_train.shape)\n",
    "# print(imit_RD_test.shape)\n",
    "# print(imit_RA_test.shape)\n",
    "# del x"
   ]
  },
  {
   "cell_type": "code",
   "execution_count": 18,
   "metadata": {},
   "outputs": [
    {
     "name": "stdout",
     "output_type": "stream",
     "text": [
      "Selected File: Datasets/final_imit_RD-RA2_128_last.hdf5\n",
      "(800, 605, 128, 128, 3)\n",
      "(800, 605, 128, 128, 3)\n",
      "(200, 605, 128, 128, 3)\n",
      "(200, 605, 128, 128, 3)\n"
     ]
    }
   ],
   "source": [
    "filename = 'Datasets/final_imit_RD-RA2_128_last.hdf5'\n",
    "data = h5py.File(filename, \"r\")\n",
    "print('Selected File: '+str(filename))\n",
    "imit_RD_train = np.array(data[\"train_RD\"])\n",
    "imit_RA_train = np.array(data[\"train_RA\"])\n",
    "imit_RD_test = np.array(data[\"test_RD\"])\n",
    "imit_RA_test = np.array(data[\"test_RA\"])\n",
    "data.close()\n",
    "print(imit_RD_train.shape)\n",
    "print(imit_RA_train.shape)\n",
    "print(imit_RD_test.shape)\n",
    "print(imit_RA_test.shape)"
   ]
  },
  {
   "cell_type": "code",
   "execution_count": 19,
   "metadata": {},
   "outputs": [
    {
     "name": "stdout",
     "output_type": "stream",
     "text": [
      "(800, 120, 5, 128, 128, 3)\n",
      "(200, 120, 5, 128, 128, 3)\n",
      "(800, 120, 5, 128, 128, 3)\n",
      "(200, 120, 5, 128, 128, 3)\n"
     ]
    }
   ],
   "source": [
    "# windowed RD\n",
    "interval = range(0,600)\n",
    "x_train11 = np.reshape(imit_RD_train[:,interval,:,:,:], (imit_RD_train.shape[0],120,5,imit_RD_train.shape[2],imit_RD_train.shape[3],imit_RD_train.shape[4]))\n",
    "x_test11 = np.reshape(imit_RD_test[:,interval,:,:,:], (imit_RD_test.shape[0],120,5,imit_RD_test.shape[2],imit_RD_test.shape[3],imit_RD_test.shape[4]))\n",
    "# y_train11 = np.reshape(imit_y_train_RD[:,interval], (imit_y_train_RD.shape[0],120,5))\n",
    "# y_test11 = np.reshape(imit_y_test_RD[:,interval], (imit_y_test_RD.shape[0],120,5))\n",
    "# y_train11 = to_categorical(np.squeeze(stats.mode(y_train11,2)[0]))\n",
    "# y_test11 = to_categorical(np.squeeze(stats.mode(y_test11,2)[0]))\n",
    "print(x_train11.shape)\n",
    "# print(y_train11.shape)\n",
    "print(x_test11.shape)\n",
    "# print(y_test11.shape)  \n",
    "\n",
    "# windowed RA\n",
    "x_train12 = np.reshape(imit_RA_train[:,interval,:,:,:], (imit_RA_train.shape[0],120,5,imit_RA_train.shape[2],imit_RA_train.shape[3],imit_RA_train.shape[4]))\n",
    "x_test12 = np.reshape(imit_RA_test[:,interval,:,:,:], (imit_RA_test.shape[0],120,5,imit_RA_test.shape[2],imit_RA_test.shape[3],imit_RA_test.shape[4]))\n",
    "print(x_train12.shape)\n",
    "print(x_test12.shape)"
   ]
  },
  {
   "cell_type": "code",
   "execution_count": 76,
   "metadata": {},
   "outputs": [
    {
     "name": "stdout",
     "output_type": "stream",
     "text": [
      "(4445,)\n",
      "(4445,)\n",
      "(1114,)\n",
      "(1114,)\n",
      "(4445,)\n",
      "(1114,)\n"
     ]
    }
   ],
   "source": [
    "# x1train, y1train = masker(x_train11, np.argmax(y_train11,-1), mask_down_train)\n",
    "# x1test, y1test = masker(x_test11, np.argmax(y_test11,-1), mask_down_test)\n",
    "# x2train, y1train = masker(x_train12, np.argmax(y_train11,-1), mask_down_train)\n",
    "# x2test, y1test = masker(x_test12, np.argmax(y_test11,-1), mask_down_test)\n",
    "x1train, y1train = masker(x_train11, y_down_train, mask_down_train)\n",
    "x1test, y1test = masker(x_test11, y_down_test, mask_down_test)\n",
    "x2train, y1train = masker(x_train12, y_down_train, mask_down_train)\n",
    "x2test, y1test = masker(x_test12, y_down_test, mask_down_test)\n",
    "print(x1train.shape)\n",
    "print(y1train.shape)\n",
    "print(x1test.shape)\n",
    "print(y1test.shape)\n",
    "print(x2train.shape)\n",
    "print(x2test.shape)"
   ]
  },
  {
   "cell_type": "code",
   "execution_count": 77,
   "metadata": {},
   "outputs": [
    {
     "name": "stdout",
     "output_type": "stream",
     "text": [
      "(4445,)\n",
      "(1114,)\n",
      "(4445,)\n",
      "(1114,)\n"
     ]
    }
   ],
   "source": [
    "x10train = np.array([x1train[i] for i in range(len(y3train)) if stats.mode(np.argmax(y3train[i],-1))[0] != 0])\n",
    "x11train = np.array([x2train[i] for i in range(len(y3train)) if stats.mode(np.argmax(y3train[i],-1))[0] != 0])\n",
    "# y10train = np.array([y1train[i] for i in range(len(y3train)) if stats.mode(np.argmax(y3train[i],-1))[0] != 0])\n",
    "x10test = np.array([x1test[i] for i in range(len(y3test)) if stats.mode(np.argmax(y3test[i],-1))[0] != 0])\n",
    "x11test = np.array([x2test[i] for i in range(len(y3test)) if stats.mode(np.argmax(y3test[i],-1))[0] != 0])\n",
    "# y10test = np.array([y1test[i] for i in range(len(y3test)) if stats.mode(np.argmax(y3test[i],-1))[0] != 0])\n",
    "print(x10train.shape)\n",
    "# print(y10train.shape)\n",
    "print(x10test.shape)\n",
    "# print(y10test.shape)\n",
    "print(x11train.shape)\n",
    "print(x11test.shape)"
   ]
  },
  {
   "cell_type": "code",
   "execution_count": 78,
   "metadata": {},
   "outputs": [
    {
     "name": "stdout",
     "output_type": "stream",
     "text": [
      "(215, 128, 128, 3)\n",
      "(155, 128, 128, 3)\n",
      "(4445,)\n",
      "(1114,)\n"
     ]
    }
   ],
   "source": [
    "x12train = np.array([x.reshape(x.shape[0]*x.shape[1],x.shape[2],x.shape[3],x.shape[4]) for x in x10train])\n",
    "x13train = np.array([x.reshape(x.shape[0]*x.shape[1],x.shape[2],x.shape[3],x.shape[4]) for x in x11train])\n",
    "x12test = np.array([x.reshape(x.shape[0]*x.shape[1],x.shape[2],x.shape[3],x.shape[4]) for x in x10test])\n",
    "x13test = np.array([x.reshape(x.shape[0]*x.shape[1],x.shape[2],x.shape[3],x.shape[4]) for x in x11test])\n",
    "print(x12train[0].shape)\n",
    "print(x12test[0].shape)\n",
    "print(x13train.shape)\n",
    "print(x13test.shape)"
   ]
  },
  {
   "cell_type": "code",
   "execution_count": 23,
   "metadata": {},
   "outputs": [
    {
     "name": "stdout",
     "output_type": "stream",
     "text": [
      "Input shape of f-b-f RD:  (None, 5, 128, 128, 3)\n"
     ]
    }
   ],
   "source": [
    "input_shape_vid = (None, x_train11[0].shape[1],x_train11[0].shape[2],x_train11[0].shape[3],x_train11[0].shape[4])\n",
    "print('Input shape of f-b-f RD: ',input_shape_vid)"
   ]
  },
  {
   "cell_type": "code",
   "execution_count": 24,
   "metadata": {},
   "outputs": [
    {
     "name": "stdout",
     "output_type": "stream",
     "text": [
      "Input shape of f-b-f mD:  (None, 128, 128, 3)\n"
     ]
    }
   ],
   "source": [
    "input_shape11 = (None,x3train[0].shape[1],x3train[0].shape[2],x3train[0].shape[3])\n",
    "print('Input shape of f-b-f mD: ',input_shape11)"
   ]
  },
  {
   "cell_type": "code",
   "execution_count": 25,
   "metadata": {},
   "outputs": [],
   "source": [
    "early_stopping_patience = 10\n",
    "# Add early stopping\n",
    "early_stopping = keras.callbacks.EarlyStopping(\n",
    "    monitor=\"val_accuracy\", patience=early_stopping_patience, restore_best_weights=True\n",
    ")"
   ]
  },
  {
   "cell_type": "code",
   "execution_count": 26,
   "metadata": {},
   "outputs": [],
   "source": [
    "reduce_lr = ReduceLROnPlateau(monitor = 'val_loss', factor=0.5, patience=0, verbose=0)"
   ]
  },
  {
   "cell_type": "code",
   "execution_count": 27,
   "metadata": {},
   "outputs": [
    {
     "data": {
      "text/plain": [
       "149"
      ]
     },
     "execution_count": 27,
     "metadata": {},
     "output_type": "execute_result"
    }
   ],
   "source": [
    "gc.collect()"
   ]
  },
  {
   "cell_type": "code",
   "execution_count": 28,
   "metadata": {},
   "outputs": [
    {
     "name": "stderr",
     "output_type": "stream",
     "text": [
      "100%|██████████| 4735/4735 [00:01<00:00, 2668.89it/s]\n",
      "100%|██████████| 1190/1190 [00:00<00:00, 2745.61it/s]"
     ]
    },
    {
     "name": "stdout",
     "output_type": "stream",
     "text": [
      "(4643, 19)\n",
      "(1164, 19)\n"
     ]
    },
    {
     "name": "stderr",
     "output_type": "stream",
     "text": [
      "\n"
     ]
    }
   ],
   "source": [
    "ytrain = np.array([np.squeeze(to_categorical(stats.mode(np.argmax(y3train[i],-1))[0],19)) for i in tqdm(range(len(y3train)), position = 0, leave = True) if stats.mode(np.argmax(y3train[i],-1))[0] != 0])\n",
    "ytest = np.array([np.squeeze(to_categorical(stats.mode(np.argmax(y3test[i],-1))[0],19)) for i in tqdm(range(len(y3test)), position = 0, leave = True) if stats.mode(np.argmax(y3test[i],-1))[0] != 0])\n",
    "print(ytrain.shape)\n",
    "print(ytest.shape)"
   ]
  },
  {
   "cell_type": "code",
   "execution_count": 29,
   "metadata": {},
   "outputs": [],
   "source": [
    "def mode_finder(y): # finds the mode that is not zero\n",
    "    y = np.argmax(y,-1)\n",
    "    mode = stats.mode(y)[0]\n",
    "    if mode == 0:\n",
    "        mask = y == mode\n",
    "        y = y[~np.ma.masked_array(y, mask = mask).mask]\n",
    "        new_mode = stats.mode(y)[0]\n",
    "    else:\n",
    "        new_mode = mode\n",
    "    return np.squeeze(new_mode)"
   ]
  },
  {
   "cell_type": "markdown",
   "metadata": {},
   "source": [
    "# Gesture detector accuracy"
   ]
  },
  {
   "cell_type": "code",
   "execution_count": 30,
   "metadata": {},
   "outputs": [
    {
     "name": "stdout",
     "output_type": "stream",
     "text": [
      "(800, 120)\n",
      "(800, 120)\n",
      "(800, 120)\n",
      "83.53125\n"
     ]
    }
   ],
   "source": [
    "print(mask_down_train.shape)\n",
    "mask_y = np.argmax(y_down_train,-1) == 0\n",
    "print(mask_y.shape)\n",
    "cmp = mask_y != mask_down_train\n",
    "print(cmp.shape)\n",
    "acc = np.sum(cmp)/(cmp.shape[0]*cmp.shape[1])*100\n",
    "print(acc)"
   ]
  },
  {
   "cell_type": "markdown",
   "metadata": {},
   "source": [
    "### Fusion"
   ]
  },
  {
   "cell_type": "code",
   "execution_count": 69,
   "metadata": {},
   "outputs": [],
   "source": [
    "y_int_train = np.array([np.argmax(y,-1) for y in y6train])\n",
    "y_int_test = np.array([np.argmax(y,-1) for y in y6test])"
   ]
  },
  {
   "cell_type": "code",
   "execution_count": 70,
   "metadata": {},
   "outputs": [],
   "source": [
    "y_asldaily_tr = [] # 0: daily, 1: asl\n",
    "y_twohanded_tr = [] # 0: daily, 1: 1 hand, 2: 2 hand\n",
    "y_loc_tr = [] # major location: 0: daily, 1: body, 2: neutral, 3: head, 4: hand\n",
    "y_mov_tr = [] # movement: 0: daily, 1: curved, 2: straight, 3: backandforth, 4: circular, 5: other\n",
    "y_str_tr = [] # # of strokes: 0: daily, 1: 3, 2: 4, 3: +5\n",
    "\n",
    "y_asldaily_ts = [] # 0: daily, 1: asl\n",
    "y_twohanded_ts = [] # 0: daily, 1: 1 hand, 2: 2 hand\n",
    "y_loc_ts = [] # major location: 0: daily, 1: body, 2: neutral, 3: head, 4: hand\n",
    "y_mov_ts = [] # movement: 0: daily, 1: curved, 2: straight, 3: backandforth, 4: circular, 5: other\n",
    "y_str_ts = [] # # of strokes: 0: daily, 1: 3, 2: 4, 3: +5\n",
    "\n",
    "## asl daily\n",
    "for i in range(len(y_int_train)):\n",
    "    yx = np.zeros(shape=y_int_train[i].shape)\n",
    "    for j in range(len(y_int_train[i])):\n",
    "        if y_int_train[i][j] in (0,1,2,3):\n",
    "            continue\n",
    "        else:\n",
    "            yx[j] = 1\n",
    "    y_asldaily_tr.append(to_categorical(yx,2))\n",
    "for i in range(len(y_int_test)):\n",
    "    yx = np.zeros(shape=y_int_test[i].shape)\n",
    "    for j in range(len(y_int_test[i])):\n",
    "        if y_int_test[i][j] in (0,1,2,3):\n",
    "            continue\n",
    "        else:\n",
    "            yx[j] = 1\n",
    "    y_asldaily_ts.append(to_categorical(yx,2))\n",
    "    \n",
    "## two hand\n",
    "for i in range(len(y_int_train)):\n",
    "    yx = np.zeros(shape=y_int_train[i].shape)\n",
    "    for j in range(len(y_int_train[i])):\n",
    "        if y_int_train[i][j] in (0,1,2,3):\n",
    "            continue\n",
    "        elif y_int_train[i][j] in (9,16):\n",
    "            yx[j] = 1\n",
    "        else:\n",
    "            yx[j] = 2\n",
    "    y_twohanded_tr.append(to_categorical(yx,3))\n",
    "for i in range(len(y_int_test)):\n",
    "    yx = np.zeros(shape=y_int_test[i].shape)\n",
    "    for j in range(len(y_int_test[i])):\n",
    "        if y_int_test[i][j] in (0,1,2,3):\n",
    "            continue\n",
    "        elif y_int_test[i][j] in (9,16):\n",
    "            yx[j] = 1\n",
    "        else:\n",
    "            yx[j] = 2\n",
    "    y_twohanded_ts.append(to_categorical(yx,3))\n",
    "\n",
    "## hand loc\n",
    "for i in range(len(y_int_train)):\n",
    "    yx = np.zeros(shape=y_int_train[i].shape)\n",
    "    for j in range(len(y_int_train[i])):\n",
    "        if y_int_train[i][j] in (0,1,2,3):\n",
    "            continue\n",
    "        elif y_int_train[i][j] == 4:\n",
    "            yx[j] = 1\n",
    "        elif y_int_train[i][j] in (5,8,14,16):\n",
    "            yx[j] = 2\n",
    "        elif y_int_train[i][j] in (6,9,17,18):\n",
    "            yx[j] = 3\n",
    "        else:\n",
    "            yx[j] = 4\n",
    "    y_loc_tr.append(to_categorical(yx,5))\n",
    "for i in range(len(y_int_test)):\n",
    "    yx = np.zeros(shape=y_int_test[i].shape)\n",
    "    for j in range(len(y_int_test[i])):\n",
    "        if y_int_test[i][j] in (0,1,2,3):\n",
    "            continue\n",
    "        elif y_int_test[i][j] == 4:\n",
    "            yx[j] = 1\n",
    "        elif y_int_test[i][j] in (5,8,14,16):\n",
    "            yx[j] = 2\n",
    "        elif y_int_test[i][j] in (6,9,17,18):\n",
    "            yx[j] = 3\n",
    "        else:\n",
    "            yx[j] = 4\n",
    "    y_loc_ts.append(to_categorical(yx,5))\n",
    "\n",
    "## movement type\n",
    "for i in range(len(y_int_train)):\n",
    "    yx = np.zeros(shape=y_int_train[i].shape)\n",
    "    for j in range(len(y_int_train[i])):\n",
    "        if y_int_train[i][j] in (0,1,2,3):\n",
    "            continue\n",
    "        elif y_int_train[i][j] in (4,5,9,12):\n",
    "            yx[j] = 1\n",
    "        elif y_int_train[i][j] in (6,7,8,10,14,15,17,18):\n",
    "            yx[j] = 2\n",
    "        elif y_int_train[i][j] == 13:\n",
    "            yx[j] = 3\n",
    "        elif y_int_train[i][j] == 16:\n",
    "            yx[j] = 4\n",
    "        else:\n",
    "            yx[j] = 5\n",
    "    y_mov_tr.append(to_categorical(yx,6))\n",
    "for i in range(len(y_int_test)):\n",
    "    yx = np.zeros(shape=y_int_test[i].shape)\n",
    "    for j in range(len(y_int_test[i])):\n",
    "        if y_int_test[i][j] in (0,1,2,3):\n",
    "            continue\n",
    "        elif y_int_test[i][j] in (4,5,9,12):\n",
    "            yx[j] = 1\n",
    "        elif y_int_test[i][j] in (6,7,8,10,14,15,17,18):\n",
    "            yx[j] = 2\n",
    "        elif y_int_test[i][j] == 13:\n",
    "            yx[j] = 3\n",
    "        elif y_int_test[i][j] == 16:\n",
    "            yx[j] = 4\n",
    "        else:\n",
    "            yx[j] = 5\n",
    "    y_mov_ts.append(to_categorical(yx,6))\n",
    "    \n",
    "## # of strokes\n",
    "for i in range(len(y_int_train)):\n",
    "    yx = np.zeros(shape=y_int_train[i].shape)\n",
    "    for j in range(len(y_int_train[i])):\n",
    "        if y_int_train[i][j] in (0,1,2,3):\n",
    "            continue\n",
    "        elif y_int_train[i][j] in (4,5,9,10,13,15,18):\n",
    "            yx[j] = 1\n",
    "        elif y_int_train[i][j] in (6,8,12,16,17):\n",
    "            yx[j] = 2\n",
    "        else:\n",
    "            yx[j] = 3\n",
    "    y_str_tr.append(to_categorical(yx,4))\n",
    "for i in range(len(y_int_test)):\n",
    "    yx = np.zeros(shape=y_int_test[i].shape)\n",
    "    for j in range(len(y_int_test[i])):\n",
    "        if y_int_test[i][j] in (0,1,2,3):\n",
    "            continue\n",
    "        elif y_int_test[i][j] in (4,5,9,10,13,15,18):\n",
    "            yx[j] = 1\n",
    "        elif y_int_test[i][j] in (6,8,12,16,17):\n",
    "            yx[j] = 2\n",
    "        else:\n",
    "            yx[j] = 3\n",
    "    y_str_ts.append(to_categorical(yx,4))"
   ]
  },
  {
   "cell_type": "code",
   "execution_count": 36,
   "metadata": {},
   "outputs": [],
   "source": [
    "def data_generator_mtl_multi(data, labels, batch_size=1):              \n",
    "    \"\"\"\n",
    "    Yields the next training batch.\n",
    "    data is an array  [[[frame1_filename,frame2_filename,…frame16_filename],label1], [[frame1_filename,frame2_filename,…frame16_filename],label2],……….].\n",
    "    \"\"\"\n",
    "    num_samples = data[0].shape[0]\n",
    "    \n",
    "    while True:   \n",
    "        for offset in range(0, num_samples, batch_size):\n",
    "            # Get the samples you'll use in this batch\n",
    "            batch_samples1 = data[0][offset:offset+batch_size]\n",
    "            batch_samples2 = data[1][offset:offset+batch_size]\n",
    "            batch_samples3 = data[2][offset:offset+batch_size]\n",
    "            \n",
    "            label = labels[0][offset:offset+batch_size]\n",
    "            asldaily = labels[1][offset:offset+batch_size]\n",
    "            twohand = labels[2][offset:offset+batch_size]\n",
    "            major = labels[3][offset:offset+batch_size]\n",
    "            move = labels[4][offset:offset+batch_size]\n",
    "            stroke = labels[5][offset:offset+batch_size]\n",
    "            # Initialise X_train and y_train arrays for this batch\n",
    "            X_train1 = []\n",
    "            X_train2 = []\n",
    "            X_train3 = []\n",
    "            y_train = []\n",
    "            y_train2 = []\n",
    "            y_train3 = []\n",
    "            y_train4 = []\n",
    "            y_train5 = []\n",
    "            y_train6 = []\n",
    "            # For each example\n",
    "            for i in range(0,batch_samples1.shape[0]):\n",
    "                X_train1.append(batch_samples1[i])\n",
    "                X_train2.append(batch_samples2[i])\n",
    "                X_train3.append(batch_samples3[i])\n",
    "                y_train.append(np.array([ord(y)%32 for y in label[i]]))\n",
    "#                 y_train.append(label[i])\n",
    "                y_train2.append(asldaily[i])\n",
    "                y_train3.append(twohand[i])\n",
    "                y_train4.append(major[i])\n",
    "                y_train5.append(move[i])\n",
    "                y_train6.append(stroke[i])\n",
    "                \n",
    "            # Make sure they're numpy arrays (as opposed to lists)\n",
    "            X_train1 = np.array(X_train1)\n",
    "            X_train2 = np.array(X_train2)\n",
    "            X_train3 = np.array(X_train3)\n",
    "            #X_train = np.rollaxis(X_train,1,4)\n",
    "            y_train = np.array(y_train)\n",
    "            y_train2 = np.array(y_train2)\n",
    "            y_train3 = np.array(y_train3)\n",
    "            y_train4 = np.array(y_train4)\n",
    "            y_train5 = np.array(y_train5)\n",
    "            y_train6 = np.array(y_train6)\n",
    "            \n",
    "            # yield the next training batch            \n",
    "            yield [X_train1, X_train2, X_train3, y_train], [y_train, y_train2, y_train3, y_train4, y_train5, y_train6]\n",
    "#             yield [X_train3, y_train], y_train"
   ]
  },
  {
   "cell_type": "code",
   "execution_count": 37,
   "metadata": {},
   "outputs": [],
   "source": [
    "def data_generator_mtl_nolabel_multi(data, batch_size=1):              \n",
    "    \"\"\"\n",
    "    Yields the next training batch.\n",
    "    data is an array  [[[frame1_filename,frame2_filename,…frame16_filename],label1], [[frame1_filename,frame2_filename,…frame16_filename],label2],……….].\n",
    "    \"\"\"\n",
    "    num_samples = data[0].shape[0]\n",
    "    \n",
    "    while True:   \n",
    "        for offset in range(0, num_samples, batch_size):\n",
    "    #             print ('starting index: ', offset) \n",
    "            # Get the samples you'll use in this batch\n",
    "            batch_samples1 = data[0][offset:offset+batch_size]\n",
    "            batch_samples2 = data[1][offset:offset+batch_size]\n",
    "            batch_samples3 = data[2][offset:offset+batch_size]\n",
    "            \n",
    "            # Initialise X_train and y_train arrays for this batch\n",
    "            X_train1 = []\n",
    "            X_train2 = []\n",
    "            X_train3 = []\n",
    "            # For each example\n",
    "            for i in range(0,batch_samples1.shape[0]):\n",
    "                X_train1.append(batch_samples1[i])\n",
    "                X_train2.append(batch_samples2[i])\n",
    "                X_train3.append(batch_samples3[i])\n",
    "                \n",
    "            # Make sure they're numpy arrays (as opposed to lists)\n",
    "            X_train1 = np.array(X_train1)\n",
    "            X_train2 = np.array(X_train2)\n",
    "            X_train3 = np.array(X_train3)\n",
    "            \n",
    "            # yield the next training batch            \n",
    "            yield [X_train1, X_train2, X_train3]"
   ]
  },
  {
   "cell_type": "code",
   "execution_count": 38,
   "metadata": {},
   "outputs": [],
   "source": [
    "def num_to_ch(num):\n",
    "    label = ''\n",
    "    for ch in num:\n",
    "        label += chr(ord('@') + np.argmax(ch,-1)+1)\n",
    "    return label"
   ]
  },
  {
   "cell_type": "code",
   "execution_count": 71,
   "metadata": {},
   "outputs": [
    {
     "name": "stdout",
     "output_type": "stream",
     "text": [
      "BBBBBBBBBBBBBBBBBBBBBBBBBBBBBBBBCCCCCCCCCCA\n"
     ]
    }
   ],
   "source": [
    "# convert detected labels\n",
    "ctc_tr3 = [num_to_ch(y) for y in y6train]\n",
    "ctc_ts3 = [num_to_ch(y) for y in y6test]\n",
    "print(ctc_tr3[0])\n",
    "# ctc_tr1 = [num_to_ch(y) for y in y10train]\n",
    "# ctc_ts1 = [num_to_ch(y) for y in y10test]\n",
    "# print(ctc_tr1[0])"
   ]
  },
  {
   "cell_type": "code",
   "execution_count": 72,
   "metadata": {},
   "outputs": [
    {
     "name": "stdout",
     "output_type": "stream",
     "text": [
      "BBBBBBBBBBBBBBBBBBBBBBBBBBBBBBBBBBBBBBBBBBB\n"
     ]
    }
   ],
   "source": [
    "# convert detected labels\n",
    "ctc_tr4 = [num_to_ch(to_categorical(stats.mode(np.argmax(y,-1))[0],num_classes=num_class))*len(y) for y in y6train]\n",
    "ctc_ts4 = [num_to_ch(to_categorical(stats.mode(np.argmax(y,-1))[0],num_classes=num_class))*len(y) for y in y6test]\n",
    "# ctc_tr4 = [num_to_ch(to_categorical(stats.mode(np.argmax(y,-1))[0],num_classes=num_class)) for y in y6train]\n",
    "# ctc_ts4 = [num_to_ch(to_categorical(stats.mode(np.argmax(y,-1))[0],num_classes=num_class)) for y in y6test]\n",
    "print(ctc_tr4[0])\n",
    "# ctc_tr2 = [num_to_ch(to_categorical(stats.mode(np.argmax(y,-1))[0],num_classes=num_class))*len(y) for y in y10train]\n",
    "# ctc_ts2 = [num_to_ch(to_categorical(stats.mode(np.argmax(y,-1))[0],num_classes=num_class))*len(y) for y in y10test]\n",
    "# # ctc_tr2 = [num_to_ch(to_categorical(stats.mode(np.argmax(y,-1))[0],num_classes=num_class)) for y in y10train]\n",
    "# # ctc_ts2 = [num_to_ch(to_categorical(stats.mode(np.argmax(y,-1))[0],num_classes=num_class)) for y in y10test]\n",
    "# print(ctc_tr2[0])"
   ]
  },
  {
   "cell_type": "code",
   "execution_count": 41,
   "metadata": {},
   "outputs": [
    {
     "name": "stdout",
     "output_type": "stream",
     "text": [
      "Number of unique characters:  19\n",
      "Characters present:  ['A', 'B', 'C', 'D', 'E', 'F', 'G', 'H', 'I', 'J', 'K', 'L', 'M', 'N', 'O', 'P', 'Q', 'R', 'S']\n"
     ]
    }
   ],
   "source": [
    "characters3 = set(char for label in ctc_tr3 for char in label)\n",
    "print(\"Number of unique characters: \", len(characters3))\n",
    "print(\"Characters present: \", sorted(characters3))\n",
    "# print('Labels: ' + str(np.unique(ctc_tr3)))\n",
    "batch_size = 1"
   ]
  },
  {
   "cell_type": "code",
   "execution_count": 79,
   "metadata": {},
   "outputs": [],
   "source": [
    "train_dataset = data_generator_mtl_multi([x10train, x11train, x6train], \n",
    "                                     [ctc_tr3, y_asldaily_tr, y_twohanded_tr, y_loc_tr, y_mov_tr, y_str_tr])\n",
    "validation_dataset = data_generator_mtl_multi([x10test, x11test, x6test], \n",
    "                                     [ctc_ts3, y_asldaily_ts, y_twohanded_ts, y_loc_ts, y_mov_ts, y_str_ts])\n",
    "predict_generator = data_generator_mtl_nolabel_multi([x10test, x11test, x6test])"
   ]
  },
  {
   "cell_type": "code",
   "execution_count": 53,
   "metadata": {},
   "outputs": [],
   "source": [
    "class CTCLayer(Layer):\n",
    "    def __init__(self, name=None, **kwargs):\n",
    "        super().__init__(name=name)\n",
    "        self.loss_fn = keras.backend.ctc_batch_cost\n",
    "\n",
    "    def call(self, y_true, y_pred):\n",
    "        # Compute the training-time loss value and add it\n",
    "        # to the layer using `self.add_loss()`.\n",
    "        batch_len = tf.cast(tf.shape(y_true)[0], dtype=\"int64\")\n",
    "        input_length = tf.cast(tf.shape(y_pred)[1], dtype=\"int64\")\n",
    "        label_length = tf.cast(tf.shape(y_true)[1], dtype=\"int64\")\n",
    "\n",
    "        input_length = input_length * tf.ones(shape=(batch_len, 1), dtype=\"int64\")\n",
    "        label_length = label_length * tf.ones(shape=(batch_len, 1), dtype=\"int64\")\n",
    "\n",
    "        loss = self.loss_fn(y_true, y_pred, input_length, label_length)\n",
    "        self.add_loss(loss)\n",
    "\n",
    "        # At test time, just return the computed predictions\n",
    "        return y_pred          "
   ]
  },
  {
   "cell_type": "code",
   "execution_count": 54,
   "metadata": {},
   "outputs": [],
   "source": [
    "fname = 'final2 multi ctc mtl gd'\n",
    "model_file = 'Models/' + fname + '.json'\n",
    "w_file = 'Models/' + fname + '.h5'\n",
    "json_file = open(model_file, 'r')\n",
    "loaded_model_json = json_file.read()\n",
    "json_file.close()\n",
    "model = model_from_json(loaded_model_json, {'CTCLayer': CTCLayer})\n",
    "model.load_weights(w_file)"
   ]
  },
  {
   "cell_type": "code",
   "execution_count": 74,
   "metadata": {},
   "outputs": [],
   "source": [
    "# Get the prediction model by extracting layers till the output layer\n",
    "prediction_model = keras.models.Model(\n",
    "    [model.get_layer(name=\"rd\").input, model.get_layer(name=\"ra\").input, model.get_layer(name=\"image\").input], model.get_layer(name=\"dense2\").output\n",
    ")\n",
    "# prediction_model.summary()"
   ]
  },
  {
   "cell_type": "code",
   "execution_count": 80,
   "metadata": {},
   "outputs": [],
   "source": [
    "pred = [np.argmax(np.squeeze(prediction_model.predict(next(predict_generator))),-1) for i in range(len(x11test))]"
   ]
  },
  {
   "cell_type": "code",
   "execution_count": 81,
   "metadata": {},
   "outputs": [
    {
     "name": "stdout",
     "output_type": "stream",
     "text": [
      "LLLLLLLLLLL\n"
     ]
    }
   ],
   "source": [
    "# best path decoding\n",
    "pred_labels = []\n",
    "\n",
    "cnt = 1\n",
    "for p in pred:\n",
    "    label = ''\n",
    "    for num in p:\n",
    "        if chr(ord('@')+num) == 'T':# or chr(ord('@')+num) == 'A':\n",
    "            continue\n",
    "        label = label + chr(ord('@')+num)\n",
    "    pred_labels.append(label)\n",
    "pred_labels = np.array(pred_labels)  \n",
    "print(pred_labels[2])"
   ]
  },
  {
   "cell_type": "code",
   "execution_count": 82,
   "metadata": {},
   "outputs": [
    {
     "name": "stdout",
     "output_type": "stream",
     "text": [
      "1. Predicted: ABBBBBBBBBBBBBBBBBBBBBBBBBBBBBBCCCCCCCCCCCCCCCCCAA | BBBBBBBBBBBBBBBBBBBBCCCCCCCCCCA :Original\n",
      "2. Predicted: KKKKKKKKKKKKAA | KKKKKKKKKKKKKA :Original\n",
      "3. Predicted: LLLLLLLLLLL | LLLLLLLLLLA :Original\n",
      "4. Predicted: MMMMMMMMMM | MMMMMMMMMMA :Original\n",
      "5. Predicted: DDDDDDDDDDDD | DDDDDDDDD :Original\n",
      "6. Predicted: ABBBBBBBBBBBBBBBBBBBBBBBBBBBBBBBBBBBBBBBBBBBBBBBBBBBBBBBBBBBBBBBBBACCCCCCCCCCC | BBBBBBBBBBBBBBBBBBBBBBBBBBBBBBBBBBCCCCCCCCCA :Original\n",
      "7. Predicted: EEEEEEEEEEEE | EEEEEEEEEEA :Original\n",
      "8. Predicted: FFFFFFFFFFAAAA | FFFFFFFFFFFA :Original\n",
      "9. Predicted: GGGGGGGGGGGAAA | GGGGGGGGGGGGA :Original\n",
      "10. Predicted: DDDDDDDD | DDDDDDDD :Original\n",
      "11. Predicted: BBBBBBBBBBBBBBBBBBBBBBBBBBBBBBBBBBBBBBBBBBBBBBBBBBBBBBBBBCCCCCCCC | BBBBBBBBBBBBBBBBBBBBBBBBBBBBBBBBBCCCCCCCCCA :Original\n",
      "12. Predicted: KKKKKKKKKK | KKKKKKKKKKA :Original\n",
      "13. Predicted: LLLLLLLLLFA | LLLLLLLLLLLA :Original\n",
      "14. Predicted: AMMMMMMMMM | MMMMMMMMMMA :Original\n",
      "15. Predicted: DDDDDDDDDDDDDDD | DDDDDDDDDDDA :Original\n",
      "16. Predicted: BBBBBBBBBBBBBBBBBBBBBBBBBBBBBBBBBBBBBBBBBBBBBBBBBBBBB | BBBBBBBBBBBBBBBBBBBBBBBBBA :Original\n",
      "17. Predicted: CCCCCCCCCC | CCCCCCCCA :Original\n",
      "18. Predicted: EEEEEEEEEEAA | EEEEEEEEEEEEA :Original\n",
      "19. Predicted: FFFFFFFFFFFAA | FFFFFFFFFFA :Original\n",
      "20. Predicted: GGGGGGGGGGGG | GGGGGGGGGGGA :Original\n",
      "21. Predicted: DDDDDDDDDDDDDDD | DDDDDDDDDDDA :Original\n",
      "22. Predicted: BBBBBBBBBBBBBBBBBBBBBBBBBBBBBBBBBBBBBBBBBBBBBBBBBBBBBBBBBBBBBBBBB | BBBBBBBBBBBBBBBBBBBBBBBBBBBBBBA :Original\n",
      "23. Predicted: CCCCCCCCCCCCCCAA | CCCCCCCCCCCA :Original\n",
      "24. Predicted: EEEEEEEEEEEAA | EEEEEEEEEEEA :Original\n",
      "25. Predicted: FFFFFFFFFAAA | FFFFFFFFFFFA :Original\n",
      "26. Predicted: GGGGGGGGGGAAA | GGGGGGGGGGGA :Original\n",
      "27. Predicted: DDDDDDDDDD | DDDDDDDDD :Original\n",
      "28. Predicted: ABBBBBBBBBBBBBBBBBBBBBBBBBBBBBBBBBBBBBBBBBBBBBBBBBBBBBBBBBBBBBBBB | BBBBBBBBBBBBBBBBBBBBBBBBBBBBBBBBBBBA :Original\n",
      "29. Predicted: CCCCCCCCCCCCCCCCAA | CCCCCCCCCCCCA :Original\n",
      "30. Predicted: NNNNNNNN | NNNNNNNNA :Original\n",
      "31. Predicted: OOOOOOOOOOOOOA | OOOOOOOOOOOOOA :Original\n",
      "32. Predicted: PPPPPPPPPPPP | PPPPPPPPPPPPPA :Original\n",
      "33. Predicted: DDDDDD | DDDDD :Original\n",
      "34. Predicted: BBBBBBBBBBBBBBBBBBBBBBCCCCCCCCCCCCCCCCCA | BBBBBBBBBBBBBBCCCCCCCCCCCA :Original\n",
      "35. Predicted: QQQQQQQQQQ | HHHHHHHHHA :Original\n",
      "36. Predicted: IIIIIIIIRRRR | IIIIIIIIIIA :Original\n",
      "37. Predicted: AJJJJJJJJJS | JJJJJJJJJJA :Original\n",
      "38. Predicted: DDDDDDDDDDDDDDDDDDDD | DDDDDDDDDDDDDD :Original\n",
      "39. Predicted: BBBBBBBBBBBBBBBBBBBBBBBBBBCCCCCCCCCCCCCCC | BBBBBBBBBBBBBBCCCCCCCCCCCA :Original\n",
      "40. Predicted: KKKKNN | NNNNNNNNA :Original\n",
      "41. Predicted: OOOOOOOOOOOA | OOOOOOOOOOOOOA :Original\n",
      "42. Predicted: ASSSSSSSSSS | PPPPPPPPPPPA :Original\n",
      "43. Predicted: DDDDDDDDDDDDDD | DDDDDDDDDDA :Original\n",
      "44. Predicted: BBBBBBBBBBBBBBBBBBBBBBBBBBBBBBBBBBBBBBBBBBBBBBBBBBBBBBBBBBBBBBBBBBBBBBBBBBBBBBCCCCCCCCCCC | BBBBBBBBBBBBBBBBBBBBBBBBBBBBBBBBBBBBBCCCCCCCCCCCA :Original\n",
      "45. Predicted: NNNNNNNN | NNNNNNNNA :Original\n",
      "46. Predicted: AOOOOOOOOOOOOOO | OOOOOOOOOOOOOOOA :Original\n",
      "47. Predicted: AJJJJJJJGGGGGAAAAAAA | PPPPPPPPPPPPPPPPA :Original\n",
      "48. Predicted: DDDDDDDDDDDDD | DDDDDDDDDDD :Original\n",
      "49. Predicted: ABBBBBBBBBBBBBBBBBBBBBBBBBBBBBBBBBBBBBBBBBBBBBBBBBBBBBBBBBBBB | BBBBBBBBBBBBBBBBBBBBBBBBBBBBBBA :Original\n",
      "50. Predicted: CCCCCCCCCCCCCCCCCCCCCCAA | CCCCCCCCCCCCCCCA :Original\n",
      "51. Predicted: QQQQQQQQQ | QQQQQQQQA :Original\n",
      "52. Predicted: RRRRRRRRRRRR | RRRRRRRRRRA :Original\n",
      "53. Predicted: SSSSSSSSSSSS | SSSSSSSSSSA :Original\n",
      "54. Predicted: ADDDDDDDDDDDDD | DDDDDDDDDDA :Original\n",
      "55. Predicted: BBBBBBBBBBBBBBBBBBBBBBBBBBBBBBBBBBBBBBBBBBBBBBBBBBBBBBBBBBBBBBBBBBCCCCCCCCCCCC | BBBBBBBBBBBBBBBBBBBBBBBBBBBBBBCCCCCCCCCCCA :Original\n",
      "56. Predicted: QQQQQQQQQQ | QQQQQQQQQQA :Original\n",
      "57. Predicted: RRRRRRRRRRRRRR | RRRRRRRRRRRRA :Original\n",
      "58. Predicted: SSSSSSSSSSSS | SSSSSSSSSSSA :Original\n",
      "59. Predicted: DDDDDDDDDDDDDDD | DDDDDDDDDDD :Original\n",
      "60. Predicted: BBBBBBBBBBBBBBBBBBBBBBBBBBBBBBBBBBBBBBBBBBBBBBBBBBBBBBBBBBBBBBBBBBCCCCCCCCCCCCC | BBBBBBBBBBBBBBBBBBBBBBBBBBBBBCCCCCCCCCCCA :Original\n",
      "61. Predicted: EEEEEEEEEEEAA | EEEEEEEEEEEA :Original\n",
      "62. Predicted: FFFFFFFFFF | FFFFFFFFFFFA :Original\n",
      "63. Predicted: GGGGGGGGSGGAAAA | GGGGGGGGGGGGGA :Original\n",
      "64. Predicted: DDDDDDDDDDDDDDA | DDDDDDDDDDDA :Original\n",
      "65. Predicted: BBBBBBBBBBBBBBBBBBBBBBBBBBBBBBBBBBBBBBBBBBBBBBBBBBBBBBBBBBBBB | BBBBBBBBBBBBBBBBBBBBBBBBBBBA :Original\n",
      "66. Predicted: CCCCCCCCCCCCCCCCCC | CCCCCCCCCCCA :Original\n",
      "67. Predicted: QQQQQQQQQQQ | QQQQQQQQQQA :Original\n",
      "68. Predicted: RRRRRRRRRRRR | RRRRRRRRRRA :Original\n",
      "69. Predicted: SSSSSSSSSSS | SSSSSSSSSSA :Original\n",
      "70. Predicted: DDDDDDDDDDDDD | DDDDDDDDDA :Original\n",
      "71. Predicted: BBBBBBBBBBBBBBBBBBBBBBBBBBBBBBB | BBBBBBBBBBBBBBBA :Original\n",
      "72. Predicted: CCCCCCCCCCCCCCCCCCA | CCCCCCCCCCCCA :Original\n",
      "73. Predicted: QQQQQQQQQ | QQQQQQQQQQA :Original\n",
      "74. Predicted: RRRRRRRRRRRRRR | RRRRRRRRRRRA :Original\n",
      "75. Predicted: SSSSSSSSSSSSS | SSSSSSSSSSSA :Original\n",
      "76. Predicted: DDDDDDDDDDDDDDD | DDDDDDDDDDA :Original\n",
      "77. Predicted: BBBBBBBBBBBBBBBBBBBBBBBBBBBBBBBBBBBBBBBBBBBBBBBBBBBBBBA | BBBBBBBBBBBBBBBBBBBBBBBBBBBBBA :Original\n",
      "78. Predicted: CCCCCCCCCCCCCCCA | CCCCCCCCCCCCA :Original\n",
      "79. Predicted: QQQQQQQQQQQA | QQQQQQQQQQQQA :Original\n",
      "80. Predicted: RRRRRRRRRRRR | RRRRRRRRRRRRA :Original\n",
      "81. Predicted: SSSSSSSSSSSS | SSSSSSSSSSA :Original\n",
      "82. Predicted: ADDDDDDDDD | DDDDDDDDD :Original\n",
      "83. Predicted: ABBBBBBBBBBBBBBBBBBBBBBBBBBBBBBBBBBBBBBBBBBBBBBBBBBBBBBBBBBBBBBBBBBBBBBBBBBBBB | BBBBBBBBBBBBBBBBBBBBBBBBBBBBBBBBBBBBBA :Original\n",
      "84. Predicted: CCCCCCCCCCCCCCCC | CCCCCCCCCCA :Original\n",
      "85. Predicted: EEEEEEEEA | EEEEEEEEEA :Original\n",
      "86. Predicted: FFFFFFFF | FFFFFFFFFFA :Original\n",
      "87. Predicted: GGGGGGGGGAA | GGGGGGGGGGGA :Original\n",
      "88. Predicted: DDDDDDDDDDDDD | DDDDDDDDDD :Original\n",
      "89. Predicted: ABBBBBBBBBBBBBBBBBBBBBBBBBBBBBBBBBBBBBBBBBBBBBBBBBBBBBBBBBBCBBBB | BBBBBBBBBBBBBBBBBBBBBBBBBBBBBBBA :Original\n",
      "90. Predicted: CCCCCCCCCCCCAAA | CCCCCCCCCCA :Original\n",
      "91. Predicted: KKKKKKKKKK | KKKKKKKKKKA :Original\n",
      "92. Predicted: LLLLLLLLL | LLLLLLLLLA :Original\n",
      "93. Predicted: MMMMMMMMMMAAA | MMMMMMMMMMMA :Original\n",
      "94. Predicted: DDDDDDDD | DDDDDDDD :Original\n",
      "95. Predicted: AABBBBBBBBBBBBBBBBBBBBBBBBBBBBBBBBBBBBBBBBBBBBBBBBBBBBBBBBBBBBBBBBB | BBBBBBBBBBBBBBBBBBBBBBBBBBBBBBBBA :Original\n",
      "96. Predicted: CCCCCCCCCCCCCCCCAA | CCCCCCCCCCCA :Original\n",
      "97. Predicted: HHHHHHHHA | HHHHHHHHHA :Original\n",
      "98. Predicted: IIIIIIIIIIIAAA | IIIIIIIIIIA :Original\n",
      "99. Predicted: JJJJJJJJJJAAA | JJJJJJJJJJA :Original\n",
      "100. Predicted: DDDDDD | DDDDDDD :Original\n",
      "101. Predicted: ABBBBBBBBBBBBBBBBBBBBBBBBBBBBBBBBBBBBBBBBBBBBBBBBBBBBBBBBBBA | BBBBBBBBBBBBBBBBBBBBBBBBBBBBA :Original\n",
      "102. Predicted: CCCCCCCCCCCCA | CCCCCCCCCCA :Original\n",
      "103. Predicted: KNNNNKKKKKAA | KKKKKKKKKKKA :Original\n",
      "104. Predicted: LLLLLLLLLLLLA | LLLLLLLLLLLA :Original\n",
      "105. Predicted: MMMJMGMJ | MMMMMMMMMMA :Original\n",
      "106. Predicted: DDDDDDDDDDDDDA | DDDDDDDDDDDA :Original\n",
      "107. Predicted: BBBBBBBBBBBBBBBBBBBBBBBBBBBBBBBBBBBBBBBBBBBBBBBBBBBBBBBBBBBBBBBBBBBBBBBBBBBB | BBBBBBBBBBBBBBBBBBBBBBBBBBBBBBBBBBA :Original\n",
      "108. Predicted: CCCCCCCCCCCCCCC | CCCCCCCCCCA :Original\n",
      "109. Predicted: QQQQQQQQQQQQA | QQQQQQQQQQQQA :Original\n",
      "110. Predicted: RRRRRRRRRRRA | RRRRRRRRRRRRRRA :Original\n",
      "111. Predicted: SSSSSSSSSSSSSAA | SSSSSSSSSSSSSA :Original\n",
      "112. Predicted: DDDDDDDDDDD | DDDDDDDDD :Original\n",
      "113. Predicted: BBBBBBBBBBBBBBBBBBBBBBBBBBBBBBBBBBBBBBBBBBBBBBBBBBBBBBBBB | BBBBBBBBBBBBBBBBBBBBBBBBBBBBBA :Original\n",
      "114. Predicted: CCCCCCCCCCCCCCA | CCCCCCCCCCCA :Original\n",
      "115. Predicted: HHHHNNNNNN | KKKKKKKKKKKA :Original\n",
      "116. Predicted: LLLLLLLLLLLA | LLLLLLLLLLLA :Original\n",
      "117. Predicted: MMMMMMMMMMM | MMMMMMMMMMMMA :Original\n",
      "118. Predicted: DDDDDDDD | DDDDDDDD :Original\n",
      "119. Predicted: AABBBBBBBBBBBBBBBBBBBBBBBBBBBBBBBBBBBBBBBBBBBBBBBBBBBBBBBBBBBBBBBBBBBBBBBBBBBCCCCCCCCCCCCCC | BBBBBBBBBBBBBBBBBBBBBBBBBBBBBBBBBBBBCCCCCCCCCA :Original\n",
      "120. Predicted: QQQQQQQQQQ | QQQQQQQQQQA :Original\n",
      "121. Predicted: RRRRRRRRRRRRRRRRRR | RRRRRRRRRRRRRRA :Original\n",
      "122. Predicted: SSSSSSSSSSSSSSAA | SSSSSSSSSSSSSSA :Original\n",
      "123. Predicted: DDDDDDD | DDDDDD :Original\n",
      "124. Predicted: BBBBBBBBBBBBBBBBBBBBBBBBBBBBBBBBBBBBBBBBBBBBBBBBBBBBBBBBBBBBBBBBB | BBBBBBBBBBBBBBBBBBBBBBBBBBBBBBA :Original\n",
      "125. Predicted: CCCCCCCCCCCC | CCCCCCCCA :Original\n",
      "126. Predicted: HHHHHHHHHH | HHHHHHHHHHA :Original\n",
      "127. Predicted: IIIIIIIIIA | IIIIIIIIIA :Original\n",
      "128. Predicted: JJJJJJJA | JJJJJJJJJA :Original\n",
      "129. Predicted: DDDDDDDDDDDD | DDDDDDDDDA :Original\n",
      "130. Predicted: BBBBBBBBBBBBBBBBBBBBBBBBBBBBBBBBBBBBBBBBBBBBBBBBBBBBBBBBBBBBBBBBBBCB | BBBBBBBBBBBBBBBBBBBBBBBBBBBBBBBA :Original\n",
      "131. Predicted: CCCCCCCCCCCCCC | CCCCCCCCCCA :Original\n",
      "132. Predicted: KKKKKKKKKK | KKKKKKKKKA :Original\n",
      "133. Predicted: IIIIIIIII | LLLLLLLLLA :Original\n",
      "134. Predicted: ASSSSSSSSSS | MMMMMMMMMMMA :Original\n",
      "135. Predicted: DDDDDDDDDDD | DDDDDDDDDA :Original\n",
      "136. Predicted: BBBBBBBBBBBBBBBBBBBBBBBBBBBBBBBBBBBBBBBBBBBBBBBBBBBBBBBBBBBBBBBBBBBCCCCCCCCCCCCCCC | BBBBBBBBBBBBBBBBBBBBBBBBBBBCCCCCCCCCCCCA :Original\n",
      "137. Predicted: EEEEEEEEEEEEEAA | EEEEEEEEEEEEEEA :Original\n",
      "138. Predicted: AFFFFFFFFFFFFFFFFFFFAAA | FFFFFFFFFFFFFFFFFFA :Original\n",
      "139. Predicted: GGGGGGGGGGGGGGGGGDA | GGGGGGGGGGGGGGA :Original\n",
      "140. Predicted: DDDDDDDDDDDDD | DDDDDDDDDD :Original\n",
      "141. Predicted: AABBBBBBBBBBBBBBBBBBBBBBBBBBBBBBBBBBBBBBBBBBBBBBBBBBBBBBBB | BBBBBBBBBBBBBBBBBBBBBBBBBBA :Original\n",
      "142. Predicted: CCCCCCCCC | CCCCCCCCA :Original\n",
      "143. Predicted: NNNNNNNNNN | NNNNNNNNNA :Original\n",
      "144. Predicted: OOOOOOOOOOOOOOAA | OOOOOOOOOOOOOOA :Original\n",
      "145. Predicted: PPPPPPPPPPA | PPPPPPPPPPPPA :Original\n",
      "146. Predicted: DDDDDDDDDDDDDD | DDDDDDDDDDDA :Original\n",
      "147. Predicted: BBBBBBBBBBBBBBBBBBBBBBBBBBBBBBBBBBBBBBBBBBBBBBBBBBBBBBB | BBBBBBBBBBBBBBBBBBBBBBBBBBBBBA :Original\n",
      "148. Predicted: CCCCCCCCCCCCCCCCCA | CCCCCCCCCCCA :Original\n",
      "149. Predicted: QQQQQQQQQQQQAAAA | QQQQQQQQQQQQA :Original\n",
      "150. Predicted: AARRRRRRRRRRRRRRR | RRRRRRRRRRRRRRA :Original\n",
      "151. Predicted: SSSSSSSSSSSS | SSSSSSSSSSSSA :Original\n",
      "152. Predicted: DDDDDDDDDD | DDDDDDDDD :Original\n",
      "153. Predicted: ABBBBBBBBBBBBBBBBBBBBBBBBBBBBBBBBBBBBBBBBBBBBBBBBBBBBB | BBBBBBBBBBBBBBBBBBBBBBBBBBBBBA :Original\n",
      "154. Predicted: CCCCCCCCCC | CCCCCCCCA :Original\n",
      "155. Predicted: NNNNNNNNNA | NNNNNNNNA :Original\n",
      "156. Predicted: OOOOOOOOOOO | OOOOOOOOOOOA :Original\n",
      "157. Predicted: PPPPPPPPPPPPPA | PPPPPPPPPPPPA :Original\n",
      "158. Predicted: DDDDDDDDDDDDDDDDDA | DDDDDDDDDDDDA :Original\n",
      "159. Predicted: AABBBBBBBBBBBBBBBBBBBBBBBBBBBBBBBBBBBBBBBBBBBBBBBBBBBBBBBBBBBB | BBBBBBBBBBBBBBBBBBBBBBBBBBBBA :Original\n",
      "160. Predicted: CCCCCCCCCCCCCCCCC | CCCCCCCCCCCCCA :Original\n",
      "161. Predicted: NNNNNNNNAAA | NNNNNNNNNNNA :Original\n",
      "162. Predicted: OOIIIIIIII | OOOOOOOOOOOA :Original\n",
      "163. Predicted: PPPPPPPPPPPPPAAA | PPPPPPPPPPPPPA :Original\n",
      "164. Predicted: ADDDDDDDDDDDDD | DDDDDDDDDDD :Original\n",
      "165. Predicted: AABBBBBBBBBBBBBBBBBBBBBBBBBBBBBBBBBBBBBBBBBBBBBBBBBBBBBBBBBBA | BBBBBBBBBBBBBBBBBBBBBBBBBBBBBA :Original\n",
      "166. Predicted: CCCCCCCC | CCCCCCCA :Original\n",
      "167. Predicted: AQQQQNNNQQQAA | QQQQQQQQQQQA :Original\n",
      "168. Predicted: AARRRRRRRRRRRA | RRRRRRRRRRRRA :Original\n",
      "169. Predicted: SSSSSSSSS | SSSSSSSSSSA :Original\n",
      "170. Predicted: DDDDDDDDDDDDDD | DDDDDDDDDA :Original\n",
      "171. Predicted: BBBBBBBBBBBBBBBBBBBBBBBBBBBBBBBBBBBBBBBBBBBBBBBBBBBBBBBBBBBBBBBBCCCCCCCCCCCCCCCCCC | BBBBBBBBBBBBBBBBBBBBBBBBBBBBCCCCCCCCCCCA :Original\n",
      "172. Predicted: KNNNNNNNA | KKKKKKKKKKA :Original\n",
      "173. Predicted: LLLLLLLLLLLAAA | LLLLLLLLLLLLA :Original\n",
      "174. Predicted: AMMMMMMMMMAAAA | MMMMMMMMMMMMA :Original\n",
      "175. Predicted: DDDDDDDDDDDDDDDDD | DDDDDDDDDDDD :Original\n",
      "176. Predicted: BBBBBBBBBBBBBBBBBBBBBBBBBBBBBBBBBBBBBBBBBBBBBBBBBBBBBBBBBBBBBBBBBBBCCCCCCCCCCCCCCCCCCCC | BBBBBBBBBBBBBBBBBBBBBBBBBBBBBBCCCCCCCCCCCA :Original\n",
      "177. Predicted: KKKKKKKKKK | HHHHHHHHHHHA :Original\n",
      "178. Predicted: IIIIIIIIOIA | IIIIIIIIIIIIA :Original\n",
      "179. Predicted: JJJJJJJGGGAA | JJJJJJJJJJJA :Original\n",
      "180. Predicted: DDDDDDDDDDDDD | DDDDDDDDDDDA :Original\n",
      "181. Predicted: AABBBBBBBBBBBBBBBBBBBBBBBBBBBBBBBBBBBBBBBBBBBBBBBBBBBBBBBBBBA | BBBBBBBBBBBBBBBBBBBBBBBBBBBBA :Original\n",
      "182. Predicted: CCCCCCCCCCCCCCA | CCCCCCCCCCCA :Original\n",
      "183. Predicted: ANNNNNNNN | NNNNNNNNNA :Original\n",
      "184. Predicted: AOOOOOOOOOOOOO | OOOOOOOOOOOOOA :Original\n",
      "185. Predicted: PPPPPPPPNNAA | PPPPPPPPPPPA :Original\n",
      "186. Predicted: ADDDDDDDDDDDD | DDDDDDDDDD :Original\n",
      "187. Predicted: BBBBBBBBBBBBBBBBBBBBBBBBBBBBBBBBBBBBBBBBBBBBBBBBBBBBBBBBBBBBBBBBBCCCCCCCCCCC | BBBBBBBBBBBBBBBBBBBBBBBBBBBBBBCCCCCCCCCCA :Original\n",
      "188. Predicted: QQQQQQQQQQQA | QQQQQQQQQQA :Original\n",
      "189. Predicted: RRRRRRRRRRRRR | RRRRRRRRRRRA :Original\n",
      "190. Predicted: SSSSSSSSSSSSA | SSSSSSSSSSSA :Original\n",
      "191. Predicted: DDDDDDDDDDDDDDDDA | DDDDDDDDDDDA :Original\n",
      "192. Predicted: BBBBBBBBBBBBBBBBBBBBBBBBBBBBBBBBBBBBBBBBBBBBBBBBBBBBBBBBBBBBBBBBBB | BBBBBBBBBBBBBBBBBBBBBBBBBBBBBA :Original\n",
      "193. Predicted: CCCCCCCCCCCCCCA | CCCCCCCCCCA :Original\n",
      "194. Predicted: KKKKKKKKKK | KKKKKKKKKKKA :Original\n",
      "195. Predicted: LLLLLLLLLLL | LLLLLLLLLLA :Original\n",
      "196. Predicted: AMMMMMMMMMMMMMA | MMMMMMMMMMMMMMA :Original\n",
      "197. Predicted: DDDDDDDDDDDDD | DDDDDDDDDD :Original\n",
      "198. Predicted: BBBBBBBBBBBBBBBBBBBBBBBBBBBBBBBBBBBBBBBBBBBBBBBBBBBBBBBBBBBBBBBBBBBBBBBBBBBBBBBBBBBBBBBBBBB | BBBBBBBBBBBBBBBBBBBBBBBBBBBBBBBBBBBBBBA :Original\n",
      "199. Predicted: CCCCCCCC | CCCCCCCCCA :Original\n",
      "200. Predicted: HHKKK | QQQQQQQA :Original\n",
      "201. Predicted: RRRRRRRRRRRRR | RRRRRRRRRRRA :Original\n",
      "202. Predicted: SSSSSSSS | SSSSSSSSSSA :Original\n",
      "203. Predicted: ADDDDDDDDDDDD | DDDDDDDDDDA :Original\n",
      "204. Predicted: BBBBBBBBBBBBBBBBBBBBBBBBBBBBBBBBBBBBBBBBBBBBBBBBBBBBBBBBBBBBBBBBBBBBBBBBBBBCCCCCCCCCCCCAA | BBBBBBBBBBBBBBBBBBBBBBBBBBBBBBBBCCCCCCCCCCA :Original\n",
      "205. Predicted: QQQQQQQQQQQAA | QQQQQQQQQQA :Original\n",
      "206. Predicted: RRRRRRRRRRRRR | RRRRRRRRRRRA :Original\n",
      "207. Predicted: SSSSSSSSSSSSAAAA | SSSSSSSSSSSSA :Original\n",
      "208. Predicted: DDDDDDDDDDDDDDDA | DDDDDDDDDDDD :Original\n",
      "209. Predicted: ABBBBBBBBBBBBBBBBBBBBBBBBBBBBBBBBBBBBBBBBBBBBBBBBBBBBBBA | BBBBBBBBBBBBBBBBBBBBBBBBBBBBA :Original\n",
      "210. Predicted: CCCCCCCCC | CCCCCCCCA :Original\n",
      "211. Predicted: AAHHHHHHHHHH | HHHHHHHHHHHA :Original\n",
      "212. Predicted: IIIIIIIIII | IIIIIIIIIIIA :Original\n",
      "213. Predicted: JJGGJJJJJJ | JJJJJJJJJA :Original\n",
      "214. Predicted: DDDDDDDDDDDDD | DDDDDDDDDDDA :Original\n",
      "215. Predicted: BBBBBBBBBBBBBBBBBBBBBBBBBBBBBBBBBBBBBBBBBBBBBBBBBBBBBBBBBBBBBBBBBBBBBBBBBBBBBBBBBBBBBCCCCCCCCCCCCC | BBBBBBBBBBBBBBBBBBBBBBBBBBBBBBCCCCCCCCCCCCCCCCCCCCCCA :Original\n",
      "216. Predicted: NNKKKKKA | KKKKKKKKKA :Original\n",
      "217. Predicted: LLLLLLLLLLLLAA | LLLLLLLLLLLA :Original\n",
      "218. Predicted: MMMMMMMMMAAA | MMMMMMMMMMMA :Original\n",
      "219. Predicted: DDDDDDDDDD | DDDDDDDDA :Original\n",
      "220. Predicted: BBBBBBBBBBBBBBBBBBBBBBBBBBBBBBBBBBBBBBBBBBBBBBBBBBBBBBBBBBBBBBBBA | BBBBBBBBBBBBBBBBBBBBBBBBBBBBBBA :Original\n",
      "221. Predicted: CCCCCCCCCCCCCA | CCCCCCCCCCCA :Original\n",
      "222. Predicted: QQQQQQQQQQAA | QQQQQQQQQQQA :Original\n",
      "223. Predicted: RRRRRRRRRRRR | RRRRRRRRRRRA :Original\n",
      "224. Predicted: SSSSSSSSSSSSA | SSSSSSSSSSSSA :Original\n",
      "225. Predicted: DDDDDDDDDDDDDDD | DDDDDDDDDDD :Original\n",
      "226. Predicted: AAAABBBBBBBBBBBBBBBBBBBBBBBBBBBBBBBBBBBBBBBBBBBBBBBBBBBBBBBBBBBBBBBBBB | BBBBBBBBBBBBBBBBBBBBBBBBBBBBBBBBA :Original\n",
      "227. Predicted: CCCCCCCCCCCCCCCA | CCCCCCCCCCA :Original\n",
      "228. Predicted: EEEEEEEEEEEAA | EEEEEEEEEEA :Original\n",
      "229. Predicted: FFFFFFFFFF | FFFFFFFFFFA :Original\n",
      "230. Predicted: GGGGGGGGGG | GGGGGGGGGGA :Original\n",
      "231. Predicted: DDDDDDDDDDDDDD | DDDDDDDDDDA :Original\n",
      "232. Predicted: BBBBBBBBBBBBBBBBBBBBBBBBBBBBBBBBBBBBBBBBBBBBBBBBBBBBBBBBBBBBBBBBBBBBBBBBBBCCCCCCCCCCCCCCC | BBBBBBBBBBBBBBBBBBBBBBBBBBBBBBBBBCCCCCCCCCA :Original\n",
      "233. Predicted: CHHHHHHHH | HHHHHHHHHHA :Original\n",
      "234. Predicted: IIIIIIIIII | IIIIIIIIIIA :Original\n",
      "235. Predicted: JJJJJJJJJJAA | JJJJJJJJJJA :Original\n",
      "236. Predicted: DDDDDDDDD | DDDDDDDDA :Original\n",
      "237. Predicted: BBBBBBBBBBBBBBBBBBBBBBBBBBBBBBBBBBBBBBBBBBBBBBBBBBBBBBBBBB | BBBBBBBBBBBBBBBBBBBBBBBBBBBA :Original\n",
      "238. Predicted: CCCCCCCCCCC | CCCCCCCCCA :Original\n",
      "239. Predicted: QQQQQQQQQ | QQQQQQQQQA :Original\n",
      "240. Predicted: RRRRRRRRRRRRRAAA | RRRRRRRRRRRRA :Original\n",
      "241. Predicted: SSSSSSSSSSSSSSAA | SSSSSSSSSSSSSA :Original\n",
      "242. Predicted: DDDDDDDDDDDDDD | DDDDDDDDDDDA :Original\n",
      "243. Predicted: BBBBBBBBBBBBBBBBBBBBBBBBBBBBBBBBBBBBBBBBBBBBBBBBBBBBBBBBBB | BBBBBBBBBBBBBBBBBBBBBBBBBBA :Original\n",
      "244. Predicted: CCCCCCCCCCCCCCCCCCCA | CCCCCCCCCCCA :Original\n",
      "245. Predicted: AEEEEEEEEEEEEAA | EEEEEEEEEEEEA :Original\n",
      "246. Predicted: FFFFFFFFF | FFFFFFFFFFA :Original\n",
      "247. Predicted: GGGSGGGGGGGG | GGGGGGGGGGA :Original\n",
      "248. Predicted: DDDDDDDDDDDDD | DDDDDDDDDDA :Original\n",
      "249. Predicted: BBBBBBBBBBBBBBBBBBBBBBBBBBBBBBBBB | BBBBBBBBBBBBBBBA :Original\n",
      "250. Predicted: CCCCCCCCCCCCCC | CCCCCCCCCCCA :Original\n",
      "251. Predicted: HHHHHHHHHAA | HHHHHHHHHHA :Original\n",
      "252. Predicted: IIIIIIIH | IIIIIIIIIIA :Original\n",
      "253. Predicted: AJJJJJJJJJJA | JJJJJJJJJJJA :Original\n",
      "254. Predicted: DDDDDDDDDDDDDDD | DDDDDDDDDDDA :Original\n",
      "255. Predicted: AABBBBBBBBBBBBBBBBBBBBBBBBBBBBBBBBBBBBBBBBBBBBBBBBBBBBBBBBBBBBBBBBBBBBBBBBBBBBBBBBBB | BBBBBBBBBBBBBBBBBBBBBBBBBBBBBBBBBBBBBBA :Original\n",
      "256. Predicted: ACCCCCCEEEEEEEEEEEEEEAA | CCCCCCCCCEEEEEEEEEEEA :Original\n",
      "257. Predicted: FFFFFFFFFFFFFFFF | FFFFFFFFFFFFFFA :Original\n",
      "258. Predicted: AGGGGGGGGGGGGGAA | GGGGGGGGGGGGGA :Original\n",
      "259. Predicted: ADDDDDDDDDDDDD | DDDDDDDDDDD :Original\n",
      "260. Predicted: BBBBBBBBBBBBBBBBBBBBBBBBBBBBBBBBBBBBBBBBBBBBBBBBBBBBBBBBBBBBBBBBBCCCCCCCCCCC | BBBBBBBBBBBBBBBBBBBBBBBBBBBBBBBBBCCCCCCCCCCCA :Original\n",
      "261. Predicted: NNNNNNNNNNAAAA | NNNNNNNNNNNA :Original\n",
      "262. Predicted: OOOOOOOOOOO | OOOOOOOOOOOOA :Original\n",
      "263. Predicted: APPPPPPPPPPP | PPPPPPPPPPPA :Original\n",
      "264. Predicted: DDDDDDDDDDDD | DDDDDDDDDD :Original\n",
      "265. Predicted: ABBBBBBBBBBBBBBBBBBBBBBBBBBBBBBBBBBBBBBBBBBBBBBBBBBBBBBBBBBBBBA | BBBBBBBBBBBBBBBBBBBBBBBBBBBBBBBA :Original\n",
      "266. Predicted: CCCCCCCCCCCCCCA | CCCCCCCCCA :Original\n",
      "267. Predicted: HHHHHHHHH | KKKKKKKKKA :Original\n",
      "268. Predicted: LLLLLLLL | LLLLLLLLLA :Original\n",
      "269. Predicted: MMMMMMMMMMA | MMMMMMMMMMA :Original\n",
      "270. Predicted: DDDDDDDDDDDDDDD | DDDDDDDDDDD :Original\n",
      "271. Predicted: BBBBBBBBBBBBBBBBBBBBBBBBBBBBBBBBBBBBBBBBBBBBBBBBBBBBBBBBA | BBBBBBBBBBBBBBBBBBBBBBBBBBBA :Original\n",
      "272. Predicted: CCCCCCCCCCCCCCCCCCC | CCCCCCCCCCCCA :Original\n",
      "273. Predicted: NNNNNNNNNAAAA | NNNNNNNNNNNA :Original\n",
      "274. Predicted: AARRRRROOOOO | OOOOOOOOOOOA :Original\n",
      "275. Predicted: PPPPPPPPPPPP | PPPPPPPPPPPA :Original\n",
      "276. Predicted: AADDDDDDDDDDDDDDDD | DDDDDDDDDDDA :Original\n",
      "277. Predicted: BBBBBBBBBBBBBBBBBBBBBBBBBBBBBBBBBBBBBBBBBBBBBBBBBBBBBBBBBBB | BBBBBBBBBBBBBBBBBBBBBBBBBBBA :Original\n",
      "278. Predicted: CCCCCCCCCCCCCC | CCCCCCCCCCA :Original\n",
      "279. Predicted: KKKKKKKKKKKKAA | KKKKKKKKKKKKA :Original\n",
      "280. Predicted: LLLLLLLLLLLL | LLLLLLLLLLA :Original\n",
      "281. Predicted: MMMMMMMMMMMMM | MMMMMMMMMMMMA :Original\n",
      "282. Predicted: DDDDDDDDDDDDD | DDDDDDDDA :Original\n",
      "283. Predicted: BBBBBBBBBBBBBBBBBBBBBBBBBBBBBBBBBBBBBBBBBBBBBBBBBBBBBBBBBBBB | BBBBBBBBBBBBBBBBBBBBBBBBBBBBA :Original\n",
      "284. Predicted: CCCCCCCCCCCCCCCCCCCCCCC | CCCCCCCCCCCCCA :Original\n",
      "285. Predicted: QQQQQQHHAA | KKKKKKKKKKA :Original\n",
      "286. Predicted: IIIIIIIIIA | LLLLLLLLLLA :Original\n",
      "287. Predicted: PPPPPPPPPP | MMMMMMMMMMA :Original\n",
      "288. Predicted: ADDDDDDDDDDDDDD | DDDDDDDDDDDA :Original\n",
      "289. Predicted: ABBBBBBBBBBBBBBBBBBBBBBBBBBBBBBBBBBBBBBBBBBBBBBBBBBCCCCCCCCCCCCCCCCCCCC | BBBBBBBBBBBBBBBBBBBBBBBBBBBBBBBBBBCCCCCCCCCCCCA :Original\n",
      "290. Predicted: KKKKKKKKKEEEAAA | QQQQQQQQQQQQQA :Original\n",
      "291. Predicted: ARRRRRRRRRRRRR | RRRRRRRRRRRRRA :Original\n",
      "292. Predicted: SSSSSSSSSSS | SSSSSSSSSSA :Original\n",
      "293. Predicted: DDDDDDDDDD | DDDDDDDDD :Original\n",
      "294. Predicted: BBBBBBBBBBBBBBBBBBBBBBBBBBBBBBBBBBBBBBBBBBBBBBBBBBBBBBBBBBBBBBBBBBBBBBBBCCCCCCCCC | BBBBBBBBBBBBBBBBBBBBBBBBBBBCCCCCCCCCCCCCA :Original\n",
      "295. Predicted: HHHHHHHHHH | HHHHHHHHHHHA :Original\n",
      "296. Predicted: IIIIIIIIIII | IIIIIIIIIIIA :Original\n",
      "297. Predicted: GGGGJJJJ | JJJJJJJJJA :Original\n",
      "298. Predicted: DDDDDDDDDD | DDDDDDDA :Original\n",
      "299. Predicted: AABBBBBBBBBBBBBBBBBBBBBBBBBBBBBBBBBBBBBBBBBBBBBBBBBBBBBBBBBBBBB | BBBBBBBBBBBBBBBBBBBBBBBBBBBBBBA :Original\n",
      "300. Predicted: CCCCCCCCCCCCCAAA | CCCCCCCCCCCA :Original\n",
      "301. Predicted: KKKKKKKKAA | KKKKKKKKKKA :Original\n",
      "302. Predicted: LLLLLLLLLLL | LLLLLLLLLLA :Original\n",
      "303. Predicted: MMMMMMMMMM | MMMMMMMMMA :Original\n",
      "304. Predicted: DDDDDDDDDDDDDDD | DDDDDDDDDDA :Original\n",
      "305. Predicted: BBBBBBBBBBBBBBBBBBBBBBBBBBBBBBBBBBBBBBBBB | BBBBBBBBBBBBBBBBBBBA :Original\n",
      "306. Predicted: CCCCCCCCCCCCCCCCCCCCCCA | CCCCCCCCCCCCCA :Original\n",
      "307. Predicted: EEEEEEEEEEEEEE | EEEEEEEEEEEEA :Original\n",
      "308. Predicted: FFFFFFFFFFAA | FFFFFFFFFFFA :Original\n",
      "309. Predicted: AGGGGGGGGGGGGAAAA | GGGGGGGGGGGGGA :Original\n",
      "310. Predicted: DDDDDDDDDDDDD | DDDDDDDDDDDA :Original\n",
      "311. Predicted: ABBBBBBBBBBBBBBBBBBBBBBBBBBBBBBBBBBBBBBBBBBBBBBBBBBBBBBBB | BBBBBBBBBBBBBBBBBBBBBBBBBBA :Original\n",
      "312. Predicted: CCCCCCCCC | CCCCCCCA :Original\n",
      "313. Predicted: EEEEEEEEEEE | EEEEEEEEEEEEA :Original\n",
      "314. Predicted: FFFFFFFFFFA | FFFFFFFFFFA :Original\n",
      "315. Predicted: GGGGGGGGGGA | GGGGGGGGGGA :Original\n",
      "316. Predicted: ADDDDDDDDDDDDDD | DDDDDDDDDDDA :Original\n",
      "317. Predicted: BBBBBBBBBBBBBBBBBBBBBBBBBBBBBBBBBBBBBBBBBBBBBBBBBBBBBBBBBBBBBBBBBBBBBBBBBBBBB | BBBBBBBBBBBBBBBBBBBBBBBBBBBBBBBBBBA :Original\n",
      "318. Predicted: ACCCCCCCCCEKKEEEEEEAAAAAA | CCCCCCCCCCKKKKKKKKKKKA :Original\n",
      "319. Predicted: LLLLLLLLFFFFA | LLLLLLLLLLLLA :Original\n",
      "320. Predicted: MMMMMMMMMMM | MMMMMMMMMMMA :Original\n",
      "321. Predicted: DDDDDDDDDDDDDDDA | DDDDDDDDDDDA :Original\n",
      "322. Predicted: BBBBBBBBBBBBBBBBBBBBBBBBBBBBBBBBBBBBBBBBBBBBBBBBBBBBBBBBBBBBBBBBBBBBCCCCCCCCCC | BBBBBBBBBBBBBBBBBBBBBBBBBBBBBBBBBBBBCCCCCCCCCCCCA :Original\n",
      "323. Predicted: QQQQQQQQQQA | QQQQQQQQQA :Original\n",
      "324. Predicted: RRRRRRRRRRRRRR | RRRRRRRRRRRA :Original\n",
      "325. Predicted: SSSSSSSSSS | SSSSSSSSSSA :Original\n",
      "326. Predicted: DDDDDDDDDDDDDD | DDDDDDDDDA :Original\n",
      "327. Predicted: BBBBBBBBBBBBBBBBBBBBBBBBBBBBBBB | BBBBBBBBBBBBBBBBA :Original\n",
      "328. Predicted: CCCCCCCCCCCCCCCCCAA | CCCCCCCCCCCCA :Original\n",
      "329. Predicted: KKKKKKKQQQA | KKKKKKKKKKKKA :Original\n",
      "330. Predicted: LLLLLLLLLLLLAA | LLLLLLLLLLLLA :Original\n",
      "331. Predicted: MMMMMMMMMMMM | MMMMMMMMMMMMA :Original\n",
      "332. Predicted: DDDDDDDDDDDDDDDDD | DDDDDDDDDDDA :Original\n",
      "333. Predicted: ABBBBBBBBBBBBBBBBBBBBBBBBBBBBBBBBBBBBBBBBBBBBBBBBBBBBBBBBBBBBBBBBBBBBBBBBA | BBBBBBBBBBBBBBBBBBBBBBBBBBBBBBBA :Original\n",
      "334. Predicted: CCCCCCCCCCCCCA | CCCCCCCCCA :Original\n",
      "335. Predicted: QQSSSQQQ | QQQQQQQQQA :Original\n",
      "336. Predicted: RRRRRRRRRRRRR | RRRRRRRRRRA :Original\n",
      "337. Predicted: SSSSSSSSSSSSSSSA | SSSSSSSSSSSSSA :Original\n",
      "338. Predicted: DDDDDDDDDDDDDDD | DDDDDDDDDDDA :Original\n",
      "339. Predicted: BBBBBBBBBBBBBBBBBBBBBBBBBBBBBBBBBBBBBBBBBBBBBBBBBBBBBB | BBBBBBBBBBBBBBBBBBBBBBBBBA :Original\n",
      "340. Predicted: CCCCCCCCCCCCCCCCCCAA | CCCCCCCCCCCCA :Original\n",
      "341. Predicted: QQQQQQQQQQQQAA | QQQQQQQQQQQA :Original\n",
      "342. Predicted: RRRRRRRRRRRRR | RRRRRRRRRRRA :Original\n",
      "343. Predicted: SSSSSSSSSSSA | SSSSSSSSSSSSA :Original\n",
      "344. Predicted: ADDDDDDDDDDDDD | DDDDDDDDDDDA :Original\n",
      "345. Predicted: BBBBBBBBBBBBBBBBBBBBBBBBBBBBBBBBBBBBBBBBBBBBBBBBBBBBBBBBBBBBA | BBBBBBBBBBBBBBBBBBBBBBBBBBBBA :Original\n",
      "346. Predicted: CCCCCCCCCCCCCC | CCCCCCCCCCA :Original\n",
      "347. Predicted: AHHHHHHHHAAA | NNNNNNNNNNNA :Original\n",
      "348. Predicted: OOOOOOOOO | OOOOOOOOOOA :Original\n",
      "349. Predicted: PPPPPPPPPPPPAAA | PPPPPPPPPPPPPA :Original\n",
      "350. Predicted: DDDDDDDDDDDDDDD | DDDDDDDDDDDA :Original\n",
      "351. Predicted: BBBBBBBBBBBBBBBBBBBBBBBBBBBBBBBBBBBBBBBBBBBBBBBBBBBBBBBBBBBBBBBBBBBBBBCCCCCCCCCCC | BBBBBBBBBBBBBBBBBBBBBBBBBBBBBBBCCCCCCCCCA :Original\n",
      "352. Predicted: QQQQQQQQQQAA | QQQQQQQQQQA :Original\n",
      "353. Predicted: RRRRRRRRRRRRRRA | RRRRRRRRRRRRRA :Original\n",
      "354. Predicted: SSSSSSSSSSSSSSAA | SSSSSSSSSSSSSA :Original\n",
      "355. Predicted: DDDDDDDDDDDDDDDD | DDDDDDDDDDD :Original\n",
      "356. Predicted: BBBBBBBBBBBBBBBBBBBBBBBBBBBBBBBBBBBBBBBBBBBBBBBBBBBBBBBB | BBBBBBBBBBBBBBBBBBBBBBBBBBBA :Original\n",
      "357. Predicted: CCCCCCCCCCCCCCCCCCCCCAA | CCCCCCCCCCCCCA :Original\n",
      "358. Predicted: EEEEEEEEEEEEEE | EEEEEEEEEA :Original\n",
      "359. Predicted: FFFFFFFFFFF | FFFFFFFFFA :Original\n",
      "360. Predicted: GGGGGGGGGG | GGGGGGGGGA :Original\n",
      "361. Predicted: DDDDDDDDDDDDDD | DDDDDDDDDDA :Original\n",
      "362. Predicted: AABBBBBBBBBBBBBBBBBBBBBBBBBBBBBBBBBBBBBBBBBBBBBBBBBBBBBBBA | BBBBBBBBBBBBBBBBBBBBBBBBBBBBBA :Original\n",
      "363. Predicted: CCCCCCCCCCCCCCCCCCA | CCCCCCCCCCCA :Original\n",
      "364. Predicted: QQEQQQQQQQ | KKKKKKKKKKA :Original\n",
      "365. Predicted: LLLLLLLLLLLLLL | LLLLLLLLLLLLLA :Original\n",
      "366. Predicted: GGGMMMMMMMM | MMMMMMMMMMA :Original\n",
      "367. Predicted: DDDDDDDDDDDDDDDDDD | DDDDDDDDDDDA :Original\n",
      "368. Predicted: BBBBBBBBBBBBBBBBBBBBBBBBBBBBBBBBBBBBBBBBBBBB | BBBBBBBBBBBBBBBBBBBBBBBA :Original\n",
      "369. Predicted: BCCCCCCCCCCCCCCCCC | CCCCCCCCCCCCCCCCA :Original\n",
      "370. Predicted: EEEEEEEEEE | EEEEEEEEEEA :Original\n",
      "371. Predicted: IIIIIIIIIA | FFFFFFFFFFA :Original\n",
      "372. Predicted: JJJJJJJJJ | GGGGGGGGGGA :Original\n",
      "373. Predicted: DDDDDDDDDDD | DDDDDDDDA :Original\n",
      "374. Predicted: ABBBBBBBBBBBBBBBBBBBBBBBBBBBBBBBBBBBCCCCCCCCCCCCCCCCCCCCA | BBBBBBBBBBBBBBBBBBBCCCCCCCCCCCCA :Original\n",
      "375. Predicted: HHHHEEEE | KKKKKKKKKKA :Original\n",
      "376. Predicted: LLLLLLLLLAAA | LLLLLLLLLLA :Original\n",
      "377. Predicted: MMMMMMMMMM | MMMMMMMMMMMA :Original\n",
      "378. Predicted: DDDDDDDDDDDD | DDDDDDDDDDA :Original\n",
      "379. Predicted: BBBBBBBBBBBBBBBBBBBBBBBBBBBBBBBBBBBBBBBBBBBBBBBBBBBBBBBBBBBBBBCCCCCCCCCCCCC | BBBBBBBBBBBBBBBBBBBBBBBBBBBBBCCCCCCCCCCA :Original\n",
      "380. Predicted: NNNNNNNN | NNNNNNNNNA :Original\n",
      "381. Predicted: OOOOOOOOOO | OOOOOOOOOOA :Original\n",
      "382. Predicted: PPPPPA | PPPPPPPPPPPPPPPPA :Original\n",
      "383. Predicted: DDDDDDDDDDDDDDD | DDDDDDDDDDA :Original\n",
      "384. Predicted: BBBBBBBBBBBBBBBBBBBBBBBBBBBBBBBBBBBBBBBBBBBBBBBBBBBBBBBBBBBBBBBBBBBBBBCCCCCCCCCCC | BBBBBBBBBBBBBBBBBBBBBBBBBBBBBBBCCCCCCCCCCCA :Original\n",
      "385. Predicted: EEEEEEEEEEEEEEAA | EEEEEEEEEEEEA :Original\n",
      "386. Predicted: FFFFFFFFFFFFFFA | FFFFFFFFFFFFA :Original\n",
      "387. Predicted: GGGGGGGGG | GGGGGGGGGGA :Original\n",
      "388. Predicted: DDDDDDDDDDDDDDDDD | DDDDDDDDDDDA :Original\n",
      "389. Predicted: ABBBBBBBBBBBBBBBBBBBBBBBBBBBBBBBBBBBBBBBBBBBBBBBBBBBBBBBBBBBBBBBBBCCCCCCCCCCCCCCCC | BBBBBBBBBBBBBBBBBBBBBBBBBBBBBBCCCCCCCCCCA :Original\n",
      "390. Predicted: NNNNNNNNNNA | NNNNNNNNNA :Original\n",
      "391. Predicted: OOOOOOOOOOOOOOOAAA | OOOOOOOOOOOOOA :Original\n",
      "392. Predicted: PPPPPPPPPPPPPP | PPPPPPPPPPPPA :Original\n",
      "393. Predicted: DDDDDDDDDDDDDDDDA | DDDDDDDDDDDDA :Original\n",
      "394. Predicted: AAAABBBBBBBBBBBBBBBBBBBBBBBBBBBBBBBBBBBBBBBBBBBBBBBBBBBBBBB | BBBBBBBBBBBBBBBBBBBBBBBBBBBBA :Original\n",
      "395. Predicted: CCCCCCCCCCCC | CCCCCCCCCCA :Original\n",
      "396. Predicted: NNNNNQQQA | NNNNNNNNNNNA :Original\n",
      "397. Predicted: AOOOOOOOOOOOR | OOOOOOOOOOOOOA :Original\n",
      "398. Predicted: PPPPPPPPPPPP | PPPPPPPPPPPA :Original\n",
      "399. Predicted: DDDDDDDDDDDDDDDA | DDDDDDDDDDDA :Original\n",
      "400. Predicted: BBBBBBBBBBBBBBBBBBBBBBBBBBBBBBBBBBBBBBBBBBBBBBBBBBBBBBBBBBBBBBBBBBBCCCCCCCCCCCC | BBBBBBBBBBBBBBBBBBBBBBBBBBBBBCCCCCCCCCCA :Original\n",
      "401. Predicted: QEQEEEEE | HHHHHHHHHHA :Original\n",
      "402. Predicted: RIIIIII | IIIIIIIIA :Original\n",
      "403. Predicted: SSSSSSSSSS | JJJJJJJJJA :Original\n",
      "404. Predicted: DDDDDDDDDDDDD | DDDDDDDDDDA :Original\n",
      "405. Predicted: BBBBBBBBBBBBBBBBBBBBBBBBBBBBBBBBBBBBBBBBBBBBBBBBBBBBBBBBBBBBBBBB | BBBBBBBBBBBBBBBBBBBBBBBBBBBBBA :Original\n",
      "406. Predicted: CCCCCCCCCCCCCCCCCC | CCCCCCCCCCA :Original\n",
      "407. Predicted: EEEEEEEEEEEEE | EEEEEEEEEA :Original\n",
      "408. Predicted: IIIIIFFAA | FFFFFFFFFA :Original\n",
      "409. Predicted: GGGGGGGGG | GGGGGGGGGGA :Original\n",
      "410. Predicted: ADDDDDDDDDDDDDDDD | DDDDDDDDDDDA :Original\n",
      "411. Predicted: BABBBBBBBBBBBBBBBBBBBBBBBBBBBBBBBBBBBBBBBBBBBBBBCCCCCCCCCCCCCCCCCCA | BBBBBBBBBBBBBBBBBBBBBBBCCCCCCCCCCA :Original\n",
      "412. Predicted: HHHHHHHHHA | HHHHHHHHHHHA :Original\n",
      "413. Predicted: LLLLLIIIIIAA | IIIIIIIIIIIA :Original\n",
      "414. Predicted: JJJJJJJJJ | JJJJJJJJJJA :Original\n",
      "415. Predicted: DDDDDDDDDDDD | DDDDDDDDDDA :Original\n",
      "416. Predicted: BBBBBBBBBBBBBBBBBBBBBBBBBBBBBBBBBBBBBBBB | BBBBBBBBBBBBBBBBBBBBBA :Original\n",
      "417. Predicted: CCCCCCCC | CCCCCCCA :Original\n",
      "418. Predicted: QQQQQQQQEEEQ | QQQQQQQQQQQQA :Original\n",
      "419. Predicted: ARRRRRRRRRRRRRR | RRRRRRRRRRRRA :Original\n",
      "420. Predicted: SSSSSSSSSSSS | SSSSSSSSSSSA :Original\n",
      "421. Predicted: DDDDDDDDDDD | DDDDDDDDDD :Original\n",
      "422. Predicted: ABBBBBBBBBBBBBBBBBBBBBBBBBBBBBBBBBBBBBBBBBBBBBBBBBBBBBBBBBBBBBCA | BBBBBBBBBBBBBBBBBBBBBBBBBBBBBBBBA :Original\n",
      "423. Predicted: CCCCCCCCCCC | CCCCCCCCCCA :Original\n",
      "424. Predicted: QQQKKKKKK | KKKKKKKKKA :Original\n",
      "425. Predicted: LLLLLLLL | LLLLLLLLLA :Original\n",
      "426. Predicted: MMMMMMMMM | MMMMMMMMMMA :Original\n",
      "427. Predicted: DDDDDDDDDDDDD | DDDDDDDDDA :Original\n",
      "428. Predicted: BBBBBBBBBBBBBBBBBBBBBBBBBBBBBBBBBBBBB | BBBBBBBBBBBBBBBBA :Original\n",
      "429. Predicted: CCCCCCCCCCCCCCCCC | CCCCCCCCCCA :Original\n",
      "430. Predicted: NNNNNNNNNAA | NNNNNNNNNNA :Original\n",
      "431. Predicted: OOOOOOOOO | OOOOOOOOOOA :Original\n",
      "432. Predicted: PPPMPPPPPPA | PPPPPPPPPPPPA :Original\n",
      "433. Predicted: DDDDDDDDDDDDDD | DDDDDDDDDDDA :Original\n",
      "434. Predicted: BBBBBBBBBBBBBBBBBBBBBBBBBBBBBBBBBBBBBBBBBBBBBBBBBBBBBBBBBBBBBBBBBBBBBBBBBBCCCCCCCCCCCC | BBBBBBBBBBBBBBBBBBBBBBBBBBBBBCCCCCCCCCCCCCCA :Original\n",
      "435. Predicted: EEEEEEEEEEEEEAA | EEEEEEEEEEEEA :Original\n",
      "436. Predicted: FFFFFFFFFFFFF | FFFFFFFFFFFFA :Original\n",
      "437. Predicted: SSSSSSSSSP | GGGGGGGGGGGGA :Original\n",
      "438. Predicted: DDDDDDDDDDDDDDDD | DDDDDDDDDDD :Original\n",
      "439. Predicted: AAABBBBBBBBBBBBBBBBBBBBBBBBBBBBBBBBBBBBBBBBBBBBBBBBBBBBBBBBBBB | BBBBBBBBBBBBBBBBBBBBBBBBBBBBA :Original\n",
      "440. Predicted: CCCCCCCCCCCC | CCCCCCCCCA :Original\n",
      "441. Predicted: HHHHHHHHHAA | HHHHHHHHHHHA :Original\n",
      "442. Predicted: IIIIIIIIIII | IIIIIIIIIIIA :Original\n",
      "443. Predicted: AJJJJJJJJJJJJ | JJJJJJJJJJJA :Original\n",
      "444. Predicted: AADDDDDDDDDDDDDDD | DDDDDDDDDDDA :Original\n",
      "445. Predicted: BBBBBBBBBBBBBBBBBBBBBBBBBBBBBBBBBBBBBBBBBBBBBBBBBBBBBBBBBBBBBBBCCCCCCCCCCCCCCCCCCA | BBBBBBBBBBBBBBBBBBBBBBBBBBBBBBBCCCCCCCCCCCCCCA :Original\n",
      "446. Predicted: NNNNNNNNNN | NNNNNNNNA :Original\n",
      "447. Predicted: OOOOOOOOOOOO | OOOOOOOOOOOOA :Original\n",
      "448. Predicted: PPPPPPPPPPPP | PPPPPPPPPPPA :Original\n",
      "449. Predicted: DDDDDDDDDDD | DDDDDDDDD :Original\n",
      "450. Predicted: BBBBBBBBBBBBBBBBBBBBBBBBBBBBBBBBBBBBBBBB | BBBBBBBBBBBBBBBBBBA :Original\n",
      "451. Predicted: CCCCCCCCCCCCC | CCCCCCCCCCCCCA :Original\n",
      "452. Predicted: KKHKHKKHKKAA | HHHHHHHHHHHA :Original\n",
      "453. Predicted: IIIIIIIIIIRR | IIIIIIIIIIA :Original\n",
      "454. Predicted: JJJJJJJJJJ | JJJJJJJJJJA :Original\n",
      "455. Predicted: DDDDDDDDDDD | DDDDDDDDA :Original\n",
      "456. Predicted: BBBBBBBBBBBBBBBBBBBBBBBBBBBBBBBBBBBBBBBBBBBBBBBBBBBBBBBBBBBBBBBBBBBBBBCCCCCCCCCCCC | BBBBBBBBBBBBBBBBBBBBBBBBBBBBBCCCCCCCCCCA :Original\n",
      "457. Predicted: AAKKKKKKKKKK | HHHHHHHHHHHA :Original\n",
      "458. Predicted: RIIIIIIIIIIIAA | IIIIIIIIIIIIA :Original\n",
      "459. Predicted: JJJJJJJJJJJ | JJJJJJJJJJJA :Original\n",
      "460. Predicted: DDDDDDDDDDDDDDDD | DDDDDDDDDDDD :Original\n",
      "461. Predicted: BBBBBBBBBBBBBBBBBBBBBBBBBBBBBBBBBBBBBBBBBBBBBBBBBBBBBB | BBBBBBBBBBBBBBBBBBBBBBBBBBA :Original\n",
      "462. Predicted: CCCCCCCCCCCCC | CCCCCCCCCCCCCA :Original\n",
      "463. Predicted: HHHHHNNN | NNNNNNNNNNA :Original\n",
      "464. Predicted: OOOOOOOOOOO | OOOOOOOOOOOA :Original\n",
      "465. Predicted: GGGGGGGGGG | PPPPPPPPPPPPA :Original\n",
      "466. Predicted: DDDDDDDDDDDDDDDD | DDDDDDDDDDDA :Original\n",
      "467. Predicted: BBBBBBBBBBBBBBBBBBBBBBBBBBBBBBBBBBBBBBBBBBBBBBBBBBBBBBBA | BBBBBBBBBBBBBBBBBBBBBBBBBBA :Original\n",
      "468. Predicted: CCCCCCCCCCCCCCCCC | CCCCCCCCCCCCA :Original\n",
      "469. Predicted: NNNNNNNNN | NNNNNNNNA :Original\n",
      "470. Predicted: OOOOOOOOOOOAA | OOOOOOOOOOOOA :Original\n",
      "471. Predicted: PPPPPPPPPP | PPPPPPPPPPPA :Original\n",
      "472. Predicted: DDDDDDDDDA | DDDDDDDDDA :Original\n",
      "473. Predicted: BBBBBBBBBBBBBBBBBBBBBBBBBBBBBBBBBBBBB | BBBBBBBBBBBBBBBBBA :Original\n",
      "474. Predicted: CCCCCCCCCCCCCCAAAA | CCCCCCCCCCCCA :Original\n",
      "475. Predicted: QQQQQQQQQQAA | QQQQQQQQQQQQA :Original\n",
      "476. Predicted: RRRRRRRRRRRRAA | RRRRRRRRRRRRA :Original\n",
      "477. Predicted: SSSSSSSSSSSSSSS | SSSSSSSSSSSSSSA :Original\n",
      "478. Predicted: DDDDDDDDDDDDDDDDDDDA | DDDDDDDDDDDDDA :Original\n",
      "479. Predicted: AABBBBBBBBBBBBBBBBBBBBBBBBBBBBBBBBBBBBBBBBBBBBBBBBBBBBBBBBBBBBBBBBBCCCCCCC | BBBBBBBBBBBBBBBBBBBBBBBBBBBBBBBCCCCCCCCCCCCCA :Original\n",
      "480. Predicted: NNNNNNNNNNAA | NNNNNNNNNNNNNA :Original\n",
      "481. Predicted: OOOOOOOLLL | OOOOOOOOOOOA :Original\n",
      "482. Predicted: MMMMMMMMMPA | PPPPPPPPPPPPA :Original\n",
      "483. Predicted: DDDDDDDDDDDDD | DDDDDDDDDDA :Original\n",
      "484. Predicted: BBBBBBBBBBBBBBBBBBBBBBBBBBBBBBBBBBBBBBBBBBBBBBBBBBBBBBBBBBBBBBBB | BBBBBBBBBBBBBBBBBBBBBBBBBBBBA :Original\n",
      "485. Predicted: CCCCCCCCCCCCCCCCCCCC | CCCCCCCCCCCCA :Original\n",
      "486. Predicted: EEEEEEEERRA | KKKKKKKKKKKA :Original\n",
      "487. Predicted: LLLLLLLLLLLLLAA | LLLLLLLLLLLLA :Original\n",
      "488. Predicted: MMMMMMMMMMMA | MMMMMMMMMMMMA :Original\n",
      "489. Predicted: DDDDDDDDDDDDDDDA | DDDDDDDDDDDA :Original\n",
      "490. Predicted: ABBBBBBBBBBBBBBBBBBBBBBBBBBBBBBBBBBBBBBBBBBBBBBBBBBBBBBBBBBBBBBBBBB | BBBBBBBBBBBBBBBBBBBBBBBBBBBBBBA :Original\n",
      "491. Predicted: CCCCCCCCCCCC | CCCCCCCCA :Original\n",
      "492. Predicted: NNNNNNNNNNA | NNNNNNNNNA :Original\n",
      "493. Predicted: OOOOOOOOOOOOO | OOOOOOOOOOOOA :Original\n",
      "494. Predicted: PPPPPPPPPPPPPPA | PPPPPPPPPPPPPA :Original\n",
      "495. Predicted: ADDDDDDDDDDDDDDD | DDDDDDDDDDDA :Original\n",
      "496. Predicted: BBBBBBBBBBBBBBBBBBBBBBBBBBBBBBBBBBBBBBBBBBBBBBBBBBB | BBBBBBBBBBBBBBBBBBBBBBBBBA :Original\n",
      "497. Predicted: CCCCCCCCCCCCCCCCCCC | CCCCCCCCCCCA :Original\n",
      "498. Predicted: KKKKKKKKKKK | KKKKKKKKKKA :Original\n",
      "499. Predicted: IILIILLLLLA | LLLLLLLLLLLA :Original\n",
      "500. Predicted: MMMMMMMMMMA | MMMMMMMMMMMA :Original\n",
      "501. Predicted: DDDDDDDDDDDD | DDDDDDDDDDA :Original\n",
      "502. Predicted: BBBBBBBBBBBBBBBBBBBBBBBBBBBBBBBBCCCCCCCCCCCCCCCCCCCA | BBBBBBBBBBBBBBBBBBCCCCCCCCCCCA :Original\n",
      "503. Predicted: EEEEEEEEEEEAA | EEEEEEEEEEA :Original\n",
      "504. Predicted: FFFFFFFFFFFA | FFFFFFFFFFFA :Original\n",
      "505. Predicted: GGGGGGGGGGG | GGGGGGGGGGGA :Original\n",
      "506. Predicted: DDDDDDDDDDDDDDDDDDDDDD | DDDDDDDDDDDDDA :Original\n",
      "507. Predicted: BBBBBBBBBBBBBBBBBBBBBBBBBBBBBBBBBBBBBBBBBBBBBBBBBBBBBBBB | BBBBBBBBBBBBBBBBBBBBBBBBBA :Original\n",
      "508. Predicted: CCCCCCCCCCCCCCCCCAA | CCCCCCCCCCCA :Original\n",
      "509. Predicted: QQQQQQQQQQQQQQQ | QQQQQQQQQQQQQA :Original\n",
      "510. Predicted: RRRRRRRRRR | RRRRRRRRRA :Original\n",
      "511. Predicted: SSSSSSSSSS | SSSSSSSSSSA :Original\n",
      "512. Predicted: DDDDDDDDDDDDDDAA | DDDDDDDDDDA :Original\n",
      "513. Predicted: BBBBBBBBBBBBBBBBBBBBBBBBBBBBBBBBBBBBBBBBBBBBBBBBBBBBBBBBA | BBBBBBBBBBBBBBBBBBBBBBBBBBBBA :Original\n",
      "514. Predicted: CCCCCCCCCCCCA | CCCCCCCCCCCCCCA :Original\n",
      "515. Predicted: KKKKKKKKKKKKKAA | KKKKKKKKKKKKA :Original\n",
      "516. Predicted: ALLLLLLLLLL | LLLLLLLLLLA :Original\n",
      "517. Predicted: MMMMMMMMMMMMAAA | MMMMMMMMMMMMA :Original\n",
      "518. Predicted: DDDDDDDDDDDDDDD | DDDDDDDDDA :Original\n",
      "519. Predicted: BBBBBBBBBBBBBBBBBBBBBBBBBBBBBBBBBBBBBBBBBBBBBBBBBBBBBBBBBBBBBBBBBBBBBBBBBBCCCCCCCCCC | BBBBBBBBBBBBBBBBBBBBBBBBBBBBBBBBBBCCCCCCCCCCCA :Original\n",
      "520. Predicted: AKKKKKKKKKKAA | KKKKKKKKKKKA :Original\n",
      "521. Predicted: AIFIIIFFA | LLLLLLLLLLA :Original\n",
      "522. Predicted: AGMGGMMMM | MMMMMMMMMMA :Original\n",
      "523. Predicted: ADDDDDDDDDDDDDDDDDD | DDDDDDDDDDDDA :Original\n",
      "524. Predicted: ABBBBBBBBBBBBBBBBBBBBBBBBBBBBBBBBBBBBBBBBBBBBBBBBBBBBBBBBBBBBBB | BBBBBBBBBBBBBBBBBBBBBBBBBBBBA :Original\n",
      "525. Predicted: CCCCCCCCCCCCCCC | CCCCCCCCCCA :Original\n",
      "526. Predicted: HHHHHHHHHHHHHA | HHHHHHHHHHHHA :Original\n",
      "527. Predicted: AIIIIIIIII | IIIIIIIIIA :Original\n",
      "528. Predicted: JJJSSSSJJJJJ | JJJJJJJJJJJJA :Original\n",
      "529. Predicted: DDDDDDDDDDDDDDDD | DDDDDDDDDDDA :Original\n",
      "530. Predicted: BBBBBBBBBBBBBBBBBBBBBBBBBBBBBBBB | BBBBBBBBBBBBBBBBA :Original\n",
      "531. Predicted: CCCCCCCCCCCC | CCCCCCCCCA :Original\n",
      "532. Predicted: QQQQQQQQQ | QQQQQQQQQQA :Original\n",
      "533. Predicted: RRRRRRRRRRRRRR | RRRRRRRRRRRRA :Original\n",
      "534. Predicted: ASSSSSSSSSSSS | SSSSSSSSSSA :Original\n",
      "535. Predicted: ADDDDDDDDDDDDDD | DDDDDDDDDDA :Original\n",
      "536. Predicted: BBBBBBBBBBBBBBBBBBBBBBBBBBBBBBBBBBBBBBBBBBBBBBBBBBBBBBBBBBBBBBBBB | BBBBBBBBBBBBBBBBBBBBBBBBBBBBA :Original\n",
      "537. Predicted: CCCCCCCCCCCC | CCCCCCCCCCCCA :Original\n",
      "538. Predicted: EEEEEEE | EEEEEEEEA :Original\n",
      "539. Predicted: IIFFFF | FFFFFFFFA :Original\n",
      "540. Predicted: AGGGGGGGGGGGGG | GGGGGGGGGGGGA :Original\n",
      "541. Predicted: DDDDDDDDDDDDDDDDDD | DDDDDDDDDDDA :Original\n",
      "542. Predicted: BBBBBBBBBBBBBBBBBBBBBBBBBBBBBBBBBBBBBBBBBBBBBBBBBBBBBBBBBBBBB | BBBBBBBBBBBBBBBBBBBBBBBBBBBBA :Original\n",
      "543. Predicted: CCCCCCCCCCCCCCCCCCCCCCCA | CCCCCCCCCCCCA :Original\n",
      "544. Predicted: EEEEEEEEEEEEEAA | EEEEEEEEEEEEA :Original\n",
      "545. Predicted: AFFFFFFFFFFFA | FFFFFFFFFFFFA :Original\n",
      "546. Predicted: AAGGGGGGGGGGG | GGGGGGGGGGGGA :Original\n",
      "547. Predicted: DDDDDDDDDDDDDDD | DDDDDDDDDDDD :Original\n",
      "548. Predicted: BBBBBBBBBBBBBBBBBBBBBBBBBBBBBBBBBBBBBBBBBBBBBBBBBBBBBBBBBBBBBBBBBBBBCCCCCCCCCCCA | BBBBBBBBBBBBBBBBBBBBBBBBBBBBBBBBCCCCCCCCCCA :Original\n",
      "549. Predicted: QQQQQQQQQQAAAAAAA | QQQQQQQQQQQA :Original\n",
      "550. Predicted: RRRRRRRRRRRRRRR | RRRRRRRRRRRRA :Original\n",
      "551. Predicted: SSSSSSSSSSSS | SSSSSSSSSSSSSA :Original\n",
      "552. Predicted: DDDDDDDDDDDDDDA | DDDDDDDDDDDA :Original\n",
      "553. Predicted: ABBBBBBBBBBBBBBBBBBBBBBBBBBBBBBBBBBBBBBBBBBBBBBBBBBBBBB | BBBBBBBBBBBBBBBBBBBBBBBBBBBBBA :Original\n",
      "554. Predicted: CCCCCCCCCCCCCCC | CCCCCCCCCA :Original\n",
      "555. Predicted: KKKKKKKKK | HHHHHHHHHHA :Original\n",
      "556. Predicted: IIIIIIIIII | IIIIIIIIIA :Original\n",
      "557. Predicted: SJJJJJJJJ | JJJJJJJJJA :Original\n",
      "558. Predicted: DDDDDDDDDDDDD | DDDDDDDDDA :Original\n",
      "559. Predicted: BBBBBBBBBBBBBBBBBBBBBBBBBBBBBBBBBBBBB | BBBBBBBBBBBBBBBBBA :Original\n",
      "560. Predicted: CCCCCCCCCC | CCCCCCCCCA :Original\n",
      "561. Predicted: EEEEEEEEEEAA | EEEEEEEEEEEA :Original\n",
      "562. Predicted: FFFFFFFFFFF | FFFFFFFFFFA :Original\n",
      "563. Predicted: GGGGGGGGGGGGA | GGGGGGGGGGGGA :Original\n",
      "564. Predicted: DDDDDDDDDDDDDDDA | DDDDDDDDDDDA :Original\n",
      "565. Predicted: BBBBBBBBBBBBBBBBBBBBBBBBBBBBBBBBBBBBBBBBBBBBBBBBBBBBBBBBBBBBBB | BBBBBBBBBBBBBBBBBBBBBBBBBBBA :Original\n",
      "566. Predicted: CCCCCCCCCCCC | CCCCCCCCA :Original\n",
      "567. Predicted: QQQQQQQQQ | QQQQQQQQA :Original\n",
      "568. Predicted: RRRRRRRRAAA | RRRRRRRRRRA :Original\n",
      "569. Predicted: SSSSSSSSSS | SSSSSSSSSSA :Original\n",
      "570. Predicted: DDDDDDDDDDDDDDD | DDDDDDDDDDA :Original\n",
      "571. Predicted: BBBBBBBBBBBBBBBBBBBBBBBBBBBBBBBBBBBBBBBBBBBBBBBBBBBBBA | BBBBBBBBBBBBBBBBBBBBBBBBBBBA :Original\n",
      "572. Predicted: CCCCCCCCCCCCCC | CCCCCCCCCCCA :Original\n",
      "573. Predicted: NNNNNNNN | NNNNNNNNA :Original\n",
      "574. Predicted: OOOOOOOOOOOO | OOOOOOOOOOOA :Original\n",
      "575. Predicted: PPPPPPPPPPPPPP | PPPPPPPPPPPPPPA :Original\n",
      "576. Predicted: DDDDDDDDDDD | DDDDDDDDDA :Original\n",
      "577. Predicted: BBBBBBBBBBBBBBBBBBBBBBBBBBBBBBBBBBBB | BBBBBBBBBBBBBBBBBA :Original\n",
      "578. Predicted: CCCCCCCCCCCCCCCCA | CCCCCCCCCCA :Original\n",
      "579. Predicted: HHHHHHHHHHHAA | HHHHHHHHHHHHA :Original\n",
      "580. Predicted: IIIIIIIIIII | IIIIIIIIIIIA :Original\n",
      "581. Predicted: AJJJJJJJJJJAA | JJJJJJJJJJJA :Original\n",
      "582. Predicted: DDDDDDDDDDDDDD | DDDDDDDDDDDA :Original\n",
      "583. Predicted: AABBBBBBBBBBBBBBBBBBBBBBBBBBBBBBBBBBBBBBBBBBBBBBBBBBBBBBBBBBACCCCCCCCCCCCCCCCC | BBBBBBBBBBBBBBBBBBBBBBBBBBBBBCCCCCCCCCCCA :Original\n",
      "584. Predicted: HHHHHHHHHH | HHHHHHHHHHHA :Original\n",
      "585. Predicted: IIIIIIIIL | IIIIIIIIIIA :Original\n",
      "586. Predicted: JJJJJJJJJJ | JJJJJJJJJJA :Original\n",
      "587. Predicted: ADDDDDDDDDDDDD | DDDDDDDDDDDA :Original\n",
      "588. Predicted: BBBBBBBBBBBBBBBBBBBBBBBBBBBBBBBBBBBBBBBBBBBBBBBBBBBBBBBBBBBBBBBBBBBBBCCCCCCCCCCCC | BBBBBBBBBBBBBBBBBBBBBBBBBBBBBBBBBCCCCCCCCCA :Original\n",
      "589. Predicted: HHHHHHHHH | HHHHHHHHHA :Original\n",
      "590. Predicted: IIIIIIIIII | IIIIIIIIIIA :Original\n",
      "591. Predicted: JJJJJJJJJAA | JJJJJJJJJA :Original\n",
      "592. Predicted: DDDDDDDDD | DDDDDDDD :Original\n",
      "593. Predicted: BBBBBBBBBBBBBBBBBBBBBBBBBBBBBBBBBBBBBBBBBBBBBBBBBBBBBBBBBBBBBBBBBBBBBBBCCCCCCCCCCCCCCCCC | BBBBBBBBBBBBBBBBBBBBBBBBBBBBBBCCCCCCCCCCCA :Original\n",
      "594. Predicted: QQQQQQQQQQQAA | QQQQQQQQQQQQA :Original\n",
      "595. Predicted: RRRRRRRRRRRRRRRAA | RRRRRRRRRRRRRA :Original\n",
      "596. Predicted: SSSSSSSSSSSSSSSA | SSSSSSSSSSSSSSA :Original\n",
      "597. Predicted: DDDDDDDDDDDDDD | DDDDDDDDDDD :Original\n",
      "598. Predicted: BBBBBBBBBBBBBBBBBBBBBBBBBBBBBBBBBBBBBBBBBBBBBBBBBBBBBBBBBBBBBA | BBBBBBBBBBBBBBBBBBBBBBBBBBBBA :Original\n",
      "599. Predicted: CCCCCCCCCCCCC | CCCCCCCCCCA :Original\n",
      "600. Predicted: EEEEEEEEEAAA | KKKKKKKKKKKA :Original\n",
      "601. Predicted: ALLLLLLLLLLLLA | LLLLLLLLLLLA :Original\n",
      "602. Predicted: MMMMMMMMMMMA | MMMMMMMMMMA :Original\n",
      "603. Predicted: ADDDDDDDDDDDDDDDD | DDDDDDDDDDDA :Original\n",
      "604. Predicted: BBBBBBBBBBBBBBBBBBBBBBBBBBBBBBBBBBBBBBBBBBBBBBBBBBBBBBBBBBBBBBBBBBBBBBBBBBBBBBBBCCCCCCAAAAEECEEEEEE | BBBBBBBBBBBBBBBBBBBBBBBBBBBBBBBBBBBBCCCCCCCCCCCQQQQQQQQQQQA :Original\n",
      "605. Predicted: RRRRRRRRRRRR | RRRRRRRRRRA :Original\n",
      "606. Predicted: SSSSSSSSSSS | SSSSSSSSSSA :Original\n",
      "607. Predicted: DDDDDDDDDDDDDDDD | DDDDDDDDDDDD :Original\n",
      "608. Predicted: BBBBBBBBBBBBBBBBBBBBBBBBBBBBBBB | BBBBBBBBBBBBBBBA :Original\n",
      "609. Predicted: CCCCCCCCCCCCCCCCC | CCCCCCCCCCA :Original\n",
      "610. Predicted: KKKEKKKKA | QQQQQQQQQQA :Original\n",
      "611. Predicted: RRRRRRRRRRRR | RRRRRRRRRRRA :Original\n",
      "612. Predicted: ASSSSSSSSSSSS | SSSSSSSSSSSA :Original\n",
      "613. Predicted: DDDDDDDDDDDDDDA | DDDDDDDDDDDA :Original\n",
      "614. Predicted: BBBBBBBBBBBBBBBBBBBBBBBBBBBBBBBBBBBBBBBBBBBBBBBBBBBBBBBBBBBBBBBBBBBBBBACCCCCCCCCCCCCCCC | BBBBBBBBBBBBBBBBBBBBBBBBBBBBBBBBCCCCCCCCCCA :Original\n",
      "615. Predicted: QQQQQQQQQQAA | QQQQQQQQQQA :Original\n",
      "616. Predicted: ARRRRRRRRRRRRAAAA | RRRRRRRRRRRRRRA :Original\n",
      "617. Predicted: SSSSSSSSSSSSS | SSSSSSSSSSSSA :Original\n",
      "618. Predicted: ADDDDDDDDDDDDDDD | DDDDDDDDDDD :Original\n",
      "619. Predicted: BBBBBBBBBBBBBBBBBBBBBBBBBBBBBBBBBBBBBBBBBBBBBBBBBBBBBBBBBBBBBBBBBBBBBBCCCCCCCCCCCCCCCCCA | BBBBBBBBBBBBBBBBBBBBBBBBBBBBBBBCCCCCCCCCCCCA :Original\n",
      "620. Predicted: AQQQQQQRQRRAA | QQQQQQQQQQQA :Original\n",
      "621. Predicted: ARRRRRRRSSS | RRRRRRRRRRRA :Original\n",
      "622. Predicted: SSSSSSSSSSSS | SSSSSSSSSSSSA :Original\n",
      "623. Predicted: DDDDDDDD | DDDDDDDD :Original\n",
      "624. Predicted: BBBBBBBBBBBBBBBBBBBBBBBBBBBBBBBBBBBBBBBBBBBBBBBB | BBBBBBBBBBBBBBBBBBBBBBBA :Original\n",
      "625. Predicted: CCCCCCCCCCCCCCCCCC | CCCCCCCCCCA :Original\n",
      "626. Predicted: QKKKKKKKK | KKKKKKKKKA :Original\n",
      "627. Predicted: LLLLLLLLLLAAA | LLLLLLLLLLLA :Original\n",
      "628. Predicted: MMMMMMMMMMMMMMAAAA | MMMMMMMMMMMMMMA :Original\n",
      "629. Predicted: DDDDDDDDDDDD | DDDDDDDDDA :Original\n",
      "630. Predicted: BBBBBBBBBBBBBBBBBBBBBBBBBBBBBBBBBBBBBBBBBBBBBBBBBBBBBBBBBBBA | BBBBBBBBBBBBBBBBBBBBBBBBBBBBBA :Original\n",
      "631. Predicted: CCCCCCCCCCCCCCCCCCCCCA | CCCCCCCCCCCCA :Original\n",
      "632. Predicted: QQQQQQQQQ | EEEEEEEEA :Original\n",
      "633. Predicted: FFFFFFFF | FFFFFFFFFFA :Original\n",
      "634. Predicted: FFAAAA | GGGGGGGGGGGGGGA :Original\n",
      "635. Predicted: DDDDDDDDDDDDDD | DDDDDDDDDDDDDDA :Original\n",
      "636. Predicted: BBBBBBBBBBBBBBBBBBBBBBBBBBBBBBBBBBBBBBBBBBBBBBBBBBBBBBBBBBBBBBBBBBBBBB | BBBBBBBBBBBBBBBBBBBBBBBBBBBBBA :Original\n",
      "637. Predicted: CCCCCCCCCA | CCCCCCCCA :Original\n",
      "638. Predicted: NNNNNNNNN | NNNNNNNNA :Original\n",
      "639. Predicted: OOOOOOOOOOOO | OOOOOOOOOOOOA :Original\n",
      "640. Predicted: PPPPPPPPPPPA | PPPPPPPPPPPPA :Original\n",
      "641. Predicted: ADDDDDDDDDDDDDDA | DDDDDDDDDDDD :Original\n",
      "642. Predicted: BBBBBBBBBBBBBBBBBBBBBBBBBBBBBBBBBBBBBBBBBBBBBBBBBBBBBBBBBBBBBBBBBBCCCCCCCCCCCCCCA | BBBBBBBBBBBBBBBBBBBBBBBBBBBCCCCCCCCCCCA :Original\n",
      "643. Predicted: QQQQQQQQQQ | HHHHHHHHHHHA :Original\n",
      "644. Predicted: IRRRRRRR | IIIIIIIIIA :Original\n",
      "645. Predicted: JJSJJSSSSS | JJJJJJJJJJJA :Original\n",
      "646. Predicted: DDDDDDDDDDDDA | DDDDDDDDDDDDA :Original\n",
      "647. Predicted: BBBBBBBBBBBBBBBBBBBBBBBBBBBBBBBBBBBBBBBBBBBBBBBBBBBBBBBB | BBBBBBBBBBBBBBBBBBBBBBBBBBA :Original\n",
      "648. Predicted: CCCCCCCCCCCCCCCCCCCCCA | CCCCCCCCCCCCCA :Original\n",
      "649. Predicted: HHHKHHHAA | HHHHHHHHA :Original\n",
      "650. Predicted: IIIIIIIIIII | IIIIIIIIIIA :Original\n",
      "651. Predicted: JSJJJJJJJJJ | JJJJJJJJJA :Original\n",
      "652. Predicted: DDDDDDDDDDDD | DDDDDDDDA :Original\n",
      "653. Predicted: ABBBBBBBBBBBBBBBBBBBBBBBBBBBBBBBBBBBBBBBBBBBBBBBBBBBBBBBBBBBBBBBBBB | BBBBBBBBBBBBBBBBBBBBBBBBBBBBBBA :Original\n",
      "654. Predicted: CCCCCCCCCCCCCC | CCCCCCCCCCA :Original\n",
      "655. Predicted: AQQQQQQQQQQQQAAA | QQQQQQQQQQQQA :Original\n",
      "656. Predicted: RRRRRRRRRRRRA | RRRRRRRRRRRRA :Original\n",
      "657. Predicted: SSSSSSSSSSSSA | SSSSSSSSSSSSA :Original\n",
      "658. Predicted: DDDDDDDDD | DDDDDDDDD :Original\n",
      "659. Predicted: BBBBBBBBBBBBBBBBBBBBBBBBBBBBBBBBBBBBBBBBBBBBBBBBBBBBBBBBBBBACCCCCCCCCCCCCCCCCCAA | BBBBBBBBBBBBBBBBBBBBBBBBBBCCCCCCCCCCCCCCA :Original\n",
      "660. Predicted: KKKKKKKKKAA | HHHHHHHHHHA :Original\n",
      "661. Predicted: IIIIIIIIIIIA | IIIIIIIIIIIA :Original\n",
      "662. Predicted: JJJJJJJJJAAA | JJJJJJJJJA :Original\n",
      "663. Predicted: DDDDDDDDDD | DDDDDDDDA :Original\n",
      "664. Predicted: BBBBBBBBBBBBBBBBBBBBBBBBBBBBBBBBBBB | BBBBBBBBBBBBBBBBA :Original\n",
      "665. Predicted: CCCCCCCCCCCCCCC | CCCCCCCCCCCA :Original\n",
      "666. Predicted: KKKKKKKKKAAA | KKKKKKKKKA :Original\n",
      "667. Predicted: LLLLLLLLLLAA | LLLLLLLLLLA :Original\n",
      "668. Predicted: MMMMMMMMMMM | MMMMMMMMMMA :Original\n",
      "669. Predicted: DDDDDDDDDDDDDDDD | DDDDDDDDDDA :Original\n",
      "670. Predicted: ABBBBBBBBBBBBBBBBBBBBBBBBBBBBBBBBBBBBBBBBBBBBBBBBBBBBB | BBBBBBBBBBBBBBBBBBBBBBBBBBBBA :Original\n",
      "671. Predicted: CCCCCCCCCC | CCCCCCCCCA :Original\n",
      "672. Predicted: QQQQQQQQQQ | QQQQQQQA :Original\n",
      "673. Predicted: RRRRRRRRR | RRRRRRRRRA :Original\n",
      "674. Predicted: SSSSSSS | SSSSSSSSSA :Original\n",
      "675. Predicted: ADDDDDDDDDD | DDDDDDDDD :Original\n",
      "676. Predicted: BBBBBBBBBBBBBBBBBBBBBBBBBBBBBBBBBBBBBBBBBBBBBBBBBBBBBBBBBBBBBBBBBBBBBBBCCCCCCCCCCCA | BBBBBBBBBBBBBBBBBBBBBBBBBBBBBBBBBBCCCCCCCCCA :Original\n",
      "677. Predicted: AEEEEEEEEEEEAA | QQQQQQQQQQQQA :Original\n",
      "678. Predicted: AARRRRRRRRRRRRR | RRRRRRRRRRRRA :Original\n",
      "679. Predicted: SSSSSSSSSSSS | SSSSSSSSSSSSA :Original\n",
      "680. Predicted: DDDDDDDDDD | DDDDDDDDD :Original\n",
      "681. Predicted: BBBBBBBBBBBBBBBBBBBBBBBBBBBBBBBBBBBBBBBBBBBBBBBBBBBBBBA | BBBBBBBBBBBBBBBBBBBBBBBBBBBA :Original\n",
      "682. Predicted: CCCCCCCCCCCCCCCA | CCCCCCCCCCCA :Original\n",
      "683. Predicted: EEEEEEEEEEEAA | EEEEEEEEEEEA :Original\n",
      "684. Predicted: FFFFFFFFFFA | FFFFFFFFFFA :Original\n",
      "685. Predicted: GGGGGGGGGGGGA | GGGGGGGGGGGGA :Original\n",
      "686. Predicted: DDDDDDDDDDDDDDD | DDDDDDDDDDDA :Original\n",
      "687. Predicted: BBBBBBBBBBBBBBBBBBBBBBBBBBBBBBBBBBBBBBBBBBBBBBBBBBBBBBBBBBBBBBBBB | BBBBBBBBBBBBBBBBBBBBBBBBBBBBA :Original\n",
      "688. Predicted: CCCCCCCCCCCCCCCC | CCCCCCCCCCCA :Original\n",
      "689. Predicted: EEEEEEEEEEEE | EEEEEEEEEEA :Original\n",
      "690. Predicted: FFFFFFFFFFF | FFFFFFFFFFA :Original\n",
      "691. Predicted: GGGGGGGGGGG | GGGGGGGGGGGA :Original\n",
      "692. Predicted: DDDDDDDDDDD | DDDDDDDDA :Original\n",
      "693. Predicted: ABBBBBBBBBBBBBBBBBBBBBBBBBBBBBBBBBBBBBBBBBBBBBBBBBBBBBBBBBBBBBBBBBBBCCCCCCCCCCCC | BBBBBBBBBBBBBBBBBBBBBBBBBBBBBBBCCCCCCCCCCA :Original\n",
      "694. Predicted: AKKKKKKKKKAA | KKKKKKKKKKKA :Original\n",
      "695. Predicted: ALLLLLLLLLL | LLLLLLLLLLA :Original\n",
      "696. Predicted: MMMMMMMMMA | MMMMMMMMMMA :Original\n",
      "697. Predicted: ADDDDDDDDDD | DDDDDDDDDD :Original\n",
      "698. Predicted: BBBBBBBBBBBBBBBBBBBBBBBBBBBBBBBBBBBBBBBBBBBBBBBBBBBBBBBBBBBBCCCCCCCCCCCCCCCCCCC | BBBBBBBBBBBBBBBBBBBBBBBBBBBCCCCCCCCCCCCCCCA :Original\n",
      "699. Predicted: KKKKKKKKKKKAA | KKKKKKKKKKKKA :Original\n",
      "700. Predicted: LLLLLLLLLLLLLLLLAAAAA | LLLLLLLLLLLLLLA :Original\n",
      "701. Predicted: PMMMMMMMPPPAAAAA | MMMMMMMMMMMMMMMA :Original\n",
      "702. Predicted: DDDDDDDDDDA | DDDDDDDDDDD :Original\n",
      "703. Predicted: ABBBBBBBBBBBBBBBBBBBBBBBBBBBBBBBBBBBBBBBBBBBBBBBBBBBBBBBBBBBBBBBBBBBBB | BBBBBBBBBBBBBBBBBBBBBBBBBBBBBBBBA :Original\n",
      "704. Predicted: CCCCCCCCCCCAA | CCCCCCCCA :Original\n",
      "705. Predicted: KKKKKKKKKAA | KKKKKKKKKKA :Original\n",
      "706. Predicted: LLLLLLLL | LLLLLLLLLA :Original\n",
      "707. Predicted: MMMMMMMMMMMA | MMMMMMMMMMMA :Original\n",
      "708. Predicted: DDDDDDDDDDDA | DDDDDDDDDDD :Original\n",
      "709. Predicted: BBBBBBBBBBBBBBBBBBBBBBBBBBBBBBBBBBBBBBBBBBBBBBBBBBBBBBBBBBBBBBBBBBBCCCCCCCCCCCCCCCCCC | BBBBBBBBBBBBBBBBBBBBBBBBBBBBBCCCCCCCCCCCCA :Original\n",
      "710. Predicted: QQQQQQQQQQQQQAAA | QQQQQQQQQQQQQA :Original\n",
      "711. Predicted: RRRRRRRRRRRRRR | RRRRRRRRRRRRA :Original\n",
      "712. Predicted: ASSSSSSSSSSSSSSS | SSSSSSSSSSSSSSSA :Original\n",
      "713. Predicted: DDDDDDDDDDDDDDDD | DDDDDDDDDDDDA :Original\n",
      "714. Predicted: BBBBBBBBBBBBBBBBBBBBBBBBBBBBBBBBBBBBBBBBBBBBBBBBBBBBBBBBBBBBBBBBBBBBACCCCCCCCCCCCCCCCCCCCA | BBBBBBBBBBBBBBBBBBBBBBBBBBBBBBCCCCCCCCCCCCA :Original\n",
      "715. Predicted: QQEQQQQQQQAA | KKKKKKKKKKKKA :Original\n",
      "716. Predicted: IIIIOIIIIO | LLLLLLLLLLLA :Original\n",
      "717. Predicted: MMMMMMMMMMA | MMMMMMMMMMMA :Original\n",
      "718. Predicted: DDDDDDDDDDDDDDDDD | DDDDDDDDDDDA :Original\n",
      "719. Predicted: ABBBBBBBBBBBBBBBBBBBBBBBBBBBBBBBBBBBBBBBBBBBBBBBBBBBBBBBBBBBBBBBBBBBBBBB | BBBBBBBBBBBBBBBBBBBBBBBBBBBBBBBA :Original\n",
      "720. Predicted: CCCCCCCCCCCCCCAA | CCCCCCCCCA :Original\n",
      "721. Predicted: HHHHHHHHAA | HHHHHHHHHHA :Original\n",
      "722. Predicted: IIIIIIIII | IIIIIIIIIA :Original\n",
      "723. Predicted: AJJJJJJJJJJAA | JJJJJJJJJJA :Original\n",
      "724. Predicted: DDDDDDDD | DDDDDDDD :Original\n",
      "725. Predicted: BBBBBBBBBBBBBBBBBBBBBBBBBBBBBBBBBBBBBBBBBBBBBBBBBBBBBBBBA | BBBBBBBBBBBBBBBBBBBBBBBBBBBA :Original\n",
      "726. Predicted: CCCCCCCCCCCCCAA | CCCCCCCCCCA :Original\n",
      "727. Predicted: NNNNNNNNNN | NNNNNNNNNNA :Original\n",
      "728. Predicted: RRRRRRRRRRRRR | OOOOOOOOOOOOOA :Original\n",
      "729. Predicted: AGGGPGPPPPPPA | PPPPPPPPPPPPPA :Original\n",
      "730. Predicted: DDDDDDDDDDDDDDA | DDDDDDDDDDDA :Original\n",
      "731. Predicted: BBBBBBBBBBBBBBBBBBBBBBBBBBBBBBBBBBBBBBBBBBBBBBBBBBBBBBBBBBBBBBBBBBCCCCCCCCCCCCCCCC | BBBBBBBBBBBBBBBBBBBBBBBBBBBBBCCCCCCCCCCA :Original\n",
      "732. Predicted: NNNNNNNNNNNNA | NNNNNNNNNNA :Original\n",
      "733. Predicted: OOOOOOOOOOOOOA | OOOOOOOOOOOOA :Original\n",
      "734. Predicted: APPPPPPPPPPPPP | PPPPPPPPPPPPA :Original\n",
      "735. Predicted: DDDDDDDDDDDDDDDDDD | DDDDDDDDDDDDD :Original\n",
      "736. Predicted: ABBBBBBBBBBBBBBBBBBBBBBBBBBBBBBBBBBBBBBBBBBBBBBBBBBBBBBBBBBBBBBBBBBBCCCCCCCCCCCCCCCCC | BBBBBBBBBBBBBBBBBBBBBBBBBBBBCCCCCCCCCCCA :Original\n",
      "737. Predicted: AQQQQQQQQQQQQQ | NNNNNNNNNNNNNNA :Original\n",
      "738. Predicted: IIFOOOFFLAA | OOOOOOOOOOOA :Original\n",
      "739. Predicted: PPPPPPPPPPPPPPPPPPA | PPPPPPPPPPPPPPPPPA :Original\n",
      "740. Predicted: DDDDDDDDDDDD | DDDDDDDDDD :Original\n",
      "741. Predicted: BBBBBBBBBBBBBBBBBBBBBBBBBBBBBBB | BBBBBBBBBBBBBBA :Original\n",
      "742. Predicted: CCCCCCCCCCCCCCC | CCCCCCCCCCA :Original\n",
      "743. Predicted: NNNNNNNNNNN | NNNNNNNNNNA :Original\n",
      "744. Predicted: OOOOOOOOOOO | OOOOOOOOOOOA :Original\n",
      "745. Predicted: PPPPPPPPPPPPP | PPPPPPPPPPPA :Original\n",
      "746. Predicted: DDDDDDDDDDDDDDDD | DDDDDDDDDDDA :Original\n",
      "747. Predicted: BBBBBBBBBBBBBBBBBBBBBBBBBBBBBBBBBBBBBBBBBBBBBBBBBBBBBBBBBB | BBBBBBBBBBBBBBBBBBBBBBBBBA :Original\n",
      "748. Predicted: CCCCCCCCCCCCCCCC | CCCCCCCCCCCA :Original\n",
      "749. Predicted: KKKKKKKKKKKAAAAAA | KKKKKKKKKKKA :Original\n",
      "750. Predicted: OOOOOOOLHA | LLLLLLLLLLA :Original\n",
      "751. Predicted: MMMMMMMMMMM | MMMMMMMMMMA :Original\n",
      "752. Predicted: DDDDDDDDDDDDD | DDDDDDDDDDA :Original\n",
      "753. Predicted: BBBBBBBBBBBBBBBBBBBBBBBBBBBBBBBBBBBBBBBBBBBBBBBBBBBBBBBBBBBBBBBBBBBBBBCCCCCCCCCCCCCC | BBBBBBBBBBBBBBBBBBBBBBBBBBBBBBBCCCCCCCCCCCCA :Original\n",
      "754. Predicted: HHHNNNNA | KKKKKKKKKKKA :Original\n",
      "755. Predicted: LLLLLLLLLLLAAA | LLLLLLLLLLLA :Original\n",
      "756. Predicted: MMMMMMMMMMA | MMMMMMMMMMMA :Original\n",
      "757. Predicted: DDDDDDDDDDDD | DDDDDDDDA :Original\n",
      "758. Predicted: BBBBBBBBBBBBBBBBBBBBBBBBBBBBBBBBBBBBBBBBBBBBBBBBBBBBBBBBBBBBB | BBBBBBBBBBBBBBBBBBBBBBBBBBBBA :Original\n",
      "759. Predicted: CCCCCCCCCCCCC | CCCCCCCCCCA :Original\n",
      "760. Predicted: NNNNNNNNNA | NNNNNNNNNA :Original\n",
      "761. Predicted: OOOOOOOO | OOOOOOOOOOOA :Original\n",
      "762. Predicted: PPPPPGGPGMGAAA | PPPPPPPPPPPPPPA :Original\n",
      "763. Predicted: DDDDDDDDDDDDDDD | DDDDDDDDDDD :Original\n",
      "764. Predicted: BBBBBBBBBBBBBBBBBBBBBBBBBBBBBBBBBBBBBBBBBBBBBBBBBBBBBBBBBBBBBBBBBBACCCCCCCCCCCCCCC | BBBBBBBBBBBBBBBBBBBBBBBBBBBBBBBCCCCCCCCCA :Original\n",
      "765. Predicted: EEEEEEEEEEEEAA | EEEEEEEEEEA :Original\n",
      "766. Predicted: FFFFFFFFFFAA | FFFFFFFFFFA :Original\n",
      "767. Predicted: GGGGGGGGGGAAA | GGGGGGGGGGGA :Original\n",
      "768. Predicted: AADDDDDDDDDDDDDDD | DDDDDDDDDDDA :Original\n",
      "769. Predicted: BBBBBBBBBBBBBBBBBBBBBBBBBBBBBBBBBBBBBBBBBBBBBBBBBBBBBBBBBBBBBBBBBBBBBBACCCCCCCCCCCCC | BBBBBBBBBBBBBBBBBBBBBBBBBBBBBBBCCCCCCCCCA :Original\n",
      "770. Predicted: EEEEEEEEEEE | EEEEEEEEEA :Original\n",
      "771. Predicted: FFFFFFFFF | FFFFFFFFFFA :Original\n",
      "772. Predicted: GGGGGGGGGA | GGGGGGGGGGA :Original\n",
      "773. Predicted: DDDDDDDDDDDDDDD | DDDDDDDDDDDA :Original\n",
      "774. Predicted: BBBBBBBBBBBBBBBBBBBBBBBBBBBBBBBBBBBBBBBBBBBBBBBBBBBBBBBBBB | BBBBBBBBBBBBBBBBBBBBBBBBA :Original\n",
      "775. Predicted: CCCCCCCCCCCCCCCCCCC | CCCCCCCCCCCA :Original\n",
      "776. Predicted: ANNNNNNNN | NNNNNNNNNNNA :Original\n",
      "777. Predicted: AOOOOOOOOOLAA | OOOOOOOOOOOA :Original\n",
      "778. Predicted: AMMMMMMMMMMMMMMAAAA | PPPPPPPPPPPPPPPA :Original\n",
      "779. Predicted: ADDDDDDDDDDDDDDDDD | DDDDDDDDDDDA :Original\n",
      "780. Predicted: ABBBBBBBBBBBBBBBBBBBBBBBBBBBBBBBBBBBBBBBBBBBBBBBBBBBBBBBBBBBBBB | BBBBBBBBBBBBBBBBBBBBBBBBBBBBBBBA :Original\n",
      "781. Predicted: CCCCCCCCCCC | CCCCCCCCA :Original\n",
      "782. Predicted: NNNNNNNNAA | NNNNNNNNNA :Original\n",
      "783. Predicted: IIOOOOOOOOOA | OOOOOOOOOOOOOA :Original\n",
      "784. Predicted: PPPPPPPPPPPPAA | PPPPPPPPPPPPA :Original\n",
      "785. Predicted: DDDDDDDDD | DDDDDDDD :Original\n",
      "786. Predicted: BBBBBBBBBBBBBBBBBBBBBBBBBBBBBBBBBBBBBBBBBBBBBBBBBBBBBBBBBBBBBBCCCCCCCCCCCCCC | BBBBBBBBBBBBBBBBBBBBBBBBBBBBBBBCCCCCCCCCCA :Original\n",
      "787. Predicted: HHHHHHHHHH | HHHHHHHHHA :Original\n",
      "788. Predicted: IIIIIIIIIIAA | IIIIIIIIIIA :Original\n",
      "789. Predicted: JJJJJJJJJ | JJJJJJJJJA :Original\n",
      "790. Predicted: DDDDDDDDDDDDDA | DDDDDDDDDDA :Original\n",
      "791. Predicted: ABBBBBBBBBBBBBBBBBBBBBBBBBBBBBBBBBBBBBBBBBBBBBBBBBBBBBBBBBBBBBBBBBCCCCCCCCCCCCCA | BBBBBBBBBBBBBBBBBBBBBBBBBBBBBBBBCCCCCCCCCA :Original\n",
      "792. Predicted: NNNNNNNNNAA | NNNNNNNNNA :Original\n",
      "793. Predicted: OOOOOOOOOOOO | OOOOOOOOOOOOA :Original\n",
      "794. Predicted: APPPPPPPPPPPAAA | PPPPPPPPPPPPPA :Original\n",
      "795. Predicted: DDDDDDDD | DDDDDDDD :Original\n",
      "796. Predicted: AAABBBBBBBBBBBBBBBBBBBBBBBBBBBBCCCCCCCCCCCCCCCCCCCCC | BBBBBBBBBBBBBBBBBBBBBCCCCCCCCCCCCA :Original\n",
      "797. Predicted: EEEEEEEEEEEAA | EEEEEEEEEEA :Original\n",
      "798. Predicted: FFFFFFFFFFFFFAA | FFFFFFFFFFFFFFA :Original\n",
      "799. Predicted: GGGGGGGGGGGG | GGGGGGGGGGGGGA :Original\n",
      "800. Predicted: ADDDDDDDDDD | DDDDDDDDD :Original\n",
      "801. Predicted: BBBBBBBBBBBBBBBBBBBBBBBBBBBBBBBBBBBBBBBBBBBBBBBBBBBBBBBBBBBBBBBBBBBCCCCCCCCCCCCCCCAAA | BBBBBBBBBBBBBBBBBBBBBBBBBBBCCCCCCCCCCCCA :Original\n",
      "802. Predicted: KKKKKKKKKKKAA | KKKKKKKKKKKKA :Original\n",
      "803. Predicted: ALLLLLLLLLLLLAAA | LLLLLLLLLLLLA :Original\n",
      "804. Predicted: MMMMMMMM | MMMMMMMMMA :Original\n",
      "805. Predicted: DDDDDDDDDDDDDDD | DDDDDDDDDDD :Original\n",
      "806. Predicted: BBBBBBBBBBBBBBBBBBBBBBBBBBBBBBBBBBBBBBBBBBBBBBBBBBBBBBBBBBBA | BBBBBBBBBBBBBBBBBBBBBBBBBBBBA :Original\n",
      "807. Predicted: CCCCCCCCCCC | CCCCCCCCCCA :Original\n",
      "808. Predicted: EEEEEEEEEE | EEEEEEEEEEA :Original\n",
      "809. Predicted: FFFFFFFL | FFFFFFFFFFFA :Original\n",
      "810. Predicted: JJJJJJJJJJ | GGGGGGGGA :Original\n",
      "811. Predicted: DDDDDDDDDDDDDA | DDDDDDDDDDD :Original\n",
      "812. Predicted: BBBBBBBBBBBBBBBBBBBBBBBBBBBBBBBBBBBBBBBBBBBBBBBBBBBBBBBBBBBBBBBBBBBBBBBACCCCCCCCCCCCCCAAA | BBBBBBBBBBBBBBBBBBBBBBBBBBBBBBBCCCCCCCCCCCA :Original\n",
      "813. Predicted: QNNNNNN | NNNNNNNA :Original\n",
      "814. Predicted: OOOOOOOOOOAA | OOOOOOOOOOOA :Original\n",
      "815. Predicted: PPPPPPPPPPPP | PPPPPPPPPPPPA :Original\n",
      "816. Predicted: DDDDDDDDDDDDDD | DDDDDDDDDDD :Original\n",
      "817. Predicted: BBBBBBBBBBBBBBBBBBBBBBBBBBBBBBBBBBBBBBBBBBBBBBBBBBBBBBBBBBBBBBBBBBBBBB | BBBBBBBBBBBBBBBBBBBBBBBBBBBBBBBBA :Original\n",
      "818. Predicted: CCCCCCCCCCCCCC | CCCCCCCCCA :Original\n",
      "819. Predicted: HHHHHHHHA | KKKKKKKKKA :Original\n",
      "820. Predicted: LLLLLLLLLL | LLLLLLLLLLA :Original\n",
      "821. Predicted: MMMMMMMMMMMMAA | MMMMMMMMMMMA :Original\n",
      "822. Predicted: DDDDDDDDDDDDDDD | DDDDDDDDDDA :Original\n",
      "823. Predicted: BBBBBBBBBBBBBBBBBBBBBBBBBBBBBBBBBCCCCCCCCCCCCCC | BBBBBBBBBBBBBBBBBCCCCCCCCCA :Original\n",
      "824. Predicted: IIIIIII | NNNNNNNNNA :Original\n",
      "825. Predicted: OOOOOOOOOOOOA | OOOOOOOOOOOOA :Original\n",
      "826. Predicted: PPAA | PPPPPPPPPPPPPPPA :Original\n",
      "827. Predicted: DDDDDDDD | DDDDDDDA :Original\n",
      "828. Predicted: AABBBBBBBBBBBBBBBBBBBBBBBBBBBBBBBBBBBBBBBBBBBBBBBBBBBBBBBB | BBBBBBBBBBBBBBBBBBBBBBBBBBA :Original\n",
      "829. Predicted: CCCCCCCCCCCA | CCCCCCCCCCCA :Original\n",
      "830. Predicted: QQQQQQQQQQQQAA | QQQQQQQQQQA :Original\n",
      "831. Predicted: RRRRRRRRRRRRRAA | RRRRRRRRRRRRRA :Original\n",
      "832. Predicted: ASSSSSSSSSJSSAA | SSSSSSSSSSSSSSA :Original\n",
      "833. Predicted: DDDDDDDDDDDDDD | DDDDDDDDDA :Original\n",
      "834. Predicted: BBBBBBBBBBBBBBBBBBBBBBBBBBBBBBBBBBBBBBBBBBBBBBBBBBBBBBBBBBBBBBBBBBBBBBBCCCCCCCCCCCC | BBBBBBBBBBBBBBBBBBBBBBBBBBBBBBBBCCCCCCCCCCCA :Original\n",
      "835. Predicted: QQQQQQQQQQQQQQAAA | QQQQQQQQQQQQQA :Original\n",
      "836. Predicted: RRRRRRRRRRRR | RRRRRRRRRRA :Original\n",
      "837. Predicted: SGGGSSSSSSS | SSSSSSSSSSSA :Original\n",
      "838. Predicted: DDDDDDDDDDD | DDDDDDDDA :Original\n",
      "839. Predicted: ABBBBBBBBBBBBBBBBBBBBBBBBBBBBBBBBBBBBBBBBBBBBBBBBBBBBBBBBBBBBBBBBBCCCCCCCCCCCCCCCCCA | BBBBBBBBBBBBBBBBBBBBBBBBBBBBBBBCCCCCCCCCCCA :Original\n",
      "840. Predicted: ANNNNNNNN | NNNNNNNNNA :Original\n",
      "841. Predicted: AOOOOOOOOOOOOOOA | OOOOOOOOOOOOOOA :Original\n",
      "842. Predicted: PPPPPPPPPPAA | PPPPPPPPPPPPPPPPA :Original\n",
      "843. Predicted: DDDDDDDDDD | DDDDDDDDA :Original\n",
      "844. Predicted: BBBBBBBBBBBBBBBBBBBBBBBBBBBBBBBBBBBBBBBBBBBBBBBBBBBBBBBBBBBBBBBBBBBBCCCCCCCCCCCCCCCCC | BBBBBBBBBBBBBBBBBBBBBBBBBBBBBBBBCCCCCCCCCCCA :Original\n",
      "845. Predicted: HHHHHHHHHAA | HHHHHHHHHHHA :Original\n",
      "846. Predicted: IIIIIIIII | IIIIIIIIIA :Original\n",
      "847. Predicted: JJJJJJJJJA | JJJJJJJJJA :Original\n",
      "848. Predicted: DDDDDDDDDDDD | DDDDDDDDDA :Original\n",
      "849. Predicted: BBBBBBBBBBBBBBBBBBBBBBBBBBBBBBBBBBBBBBBBBBBBBBBBBBBBBBBBBBBBBBBBBBBBBBBACCCCCCCCCCCCCCCAA | BBBBBBBBBBBBBBBBBBBBBBBBBBBBBBBBCCCCCCCCCCCCA :Original\n",
      "850. Predicted: QQQQQQQQQQQAA | QQQQQQQQQQQA :Original\n",
      "851. Predicted: ARRRRRRRRRRRRRRR | RRRRRRRRRRRA :Original\n",
      "852. Predicted: SSSSSSSSSSSSSA | SSSSSSSSSSSSSA :Original\n",
      "853. Predicted: DDDDDDDDDDDDDDD | DDDDDDDDDDD :Original\n",
      "854. Predicted: BBBBBBBBBBBBBBBBBBBBBBBBBBBBBBBBBBBBBBBBBBBBBBBBBBBBBBBBBBBBBBB | BBBBBBBBBBBBBBBBBBBBBBBBBBBBBA :Original\n",
      "855. Predicted: CCCCCCCCCCCCCCCCCCCC | CCCCCCCCCCCCA :Original\n",
      "856. Predicted: HHHHHHHHH | HHHHHHHHHA :Original\n",
      "857. Predicted: IIIIII | IIIIIIIIA :Original\n",
      "858. Predicted: ABBJJJ | JJJJJJJJJJJJJA :Original\n",
      "859. Predicted: DDDDDDDDDDDDDDDDDA | DDDDDDDDDDDDD :Original\n",
      "860. Predicted: AAAAABBBBBBBBBBBBBBBBBBBBBBBBBBBBBBBBBBBBBBBBBBBBBBBBBBBBBBBBBBB | BBBBBBBBBBBBBBBBBBBBBBBBBBBBBA :Original\n",
      "861. Predicted: CCCCCCCCCCCCCCCCC | CCCCCCCCCCCA :Original\n",
      "862. Predicted: QQQQQQQQQQQQAAA | QQQQQQQQQQQA :Original\n",
      "863. Predicted: RRRRRRRRRRRR | RRRRRRRRRRA :Original\n",
      "864. Predicted: SSSSSSSSSSSS | SSSSSSSSSSSSA :Original\n",
      "865. Predicted: DDDDDDDDDDDDDDD | DDDDDDDDDDA :Original\n",
      "866. Predicted: BBBBBBBBBBBBBBBBBBBBBBBBBBBBBBBBBBBBBB | BBBBBBBBBBBBBBBBBA :Original\n",
      "867. Predicted: CCCCCCCCCCCC | CCCCCCCCCA :Original\n",
      "868. Predicted: EEEEEEEE | EEEEEEEEEEA :Original\n",
      "869. Predicted: FFFFFFFFFF | FFFFFFFFFA :Original\n",
      "870. Predicted: AGGGGGGGGGGG | GGGGGGGGGGGGA :Original\n",
      "871. Predicted: DDDDDDDDDDDDDD | DDDDDDDDDDDA :Original\n",
      "872. Predicted: BBBBBBBBBBBBBBBBBBBBBBBBBBBBBBBBBBBBBBBBBBBBBBBBBBBBBBBBBBBBBBBBBBCCCCCCCCCCCCCCA | BBBBBBBBBBBBBBBBBBBBBBBBBBBBBBBCCCCCCCCCA :Original\n",
      "873. Predicted: EEEEEQEEE | EEEEEEEEEEA :Original\n",
      "874. Predicted: FFFFFFFFFAA | FFFFFFFFFFA :Original\n",
      "875. Predicted: GGGGGGGGGGGA | GGGGGGGGGGGA :Original\n",
      "876. Predicted: DDDDDDDDDDDDDDDD | DDDDDDDDDDDA :Original\n",
      "877. Predicted: ABBBBBBBBBBBBBBBBBBBBBBBBBBBBBBBBBBBBBBBBBBBBBBBBBBBBBBBBBBBBBBBBBBA | BBBBBBBBBBBBBBBBBBBBBBBBBBBBBBBA :Original\n",
      "878. Predicted: CCCCCCCCCCCCCCCCAA | CCCCCCCCCCA :Original\n",
      "879. Predicted: QQQQQQQQQQQQAAA | QQQQQQQQQQQA :Original\n",
      "880. Predicted: RRRRRRRRRRRRRRAA | RRRRRRRRRRRRA :Original\n",
      "881. Predicted: SSSSSSSSSSSSA | SSSSSSSSSSSA :Original\n",
      "882. Predicted: DDDDDDDDDDDDDDDDDD | DDDDDDDDDDDDA :Original\n",
      "883. Predicted: BBBBBBBBBBBBBBBBBBBBBBBBBBBBBBBBBBBBBBBBBBBBBBBBBBBBBBBBBBBBBBBBBBBBBACCCCCCCCCCCCCCCCCCA | BBBBBBBBBBBBBBBBBBBBBBBBBBBBBBBBBCCCCCCCCCCCA :Original\n",
      "884. Predicted: HHHHHHHHHHHA | HHHHHHHHHHHA :Original\n",
      "885. Predicted: OIIIIIIIIIII | IIIIIIIIIIIIIA :Original\n",
      "886. Predicted: MMMMMMMMJJA | JJJJJJJJJJJJJA :Original\n",
      "887. Predicted: DDDDDDDDDDDDDDD | DDDDDDDDDDA :Original\n",
      "888. Predicted: ABBBBBBBBBBBBBBBBBBBBBBBBBBBBBBBBBBBBBBBBBBBBBBBBBBBBBBBBBBBBBBBBBB | BBBBBBBBBBBBBBBBBBBBBBBBBBBBBBBBA :Original\n",
      "889. Predicted: CCCCCCCCCA | CCCCCCCCCA :Original\n",
      "890. Predicted: KKKKKKKKKKAA | KKKKKKKKKKA :Original\n",
      "891. Predicted: LLLLLLLLLL | LLLLLLLLLA :Original\n",
      "892. Predicted: APPPMMMMMMM | MMMMMMMMMMMA :Original\n",
      "893. Predicted: DDDDDDDDDDDDDDD | DDDDDDDDDDA :Original\n",
      "894. Predicted: BBBBBBBBBBBBBBBBBBBBBBBBBBBBBBBBBCCCCCCCCCCCCCC | BBBBBBBBBBBBBBBBBCCCCCCCCCCA :Original\n",
      "895. Predicted: NNNNNNNNA | NNNNNNNNNA :Original\n",
      "896. Predicted: OOOOOOOOOOO | OOOOOOOOOOOOOA :Original\n",
      "897. Predicted: PPPPPPPPPPPPPA | PPPPPPPPPPPPA :Original\n",
      "898. Predicted: DDDDDDDDDDDD | DDDDDDDDDDA :Original\n",
      "899. Predicted: ABBBBBBBBBBBBBBBBBBBBBBBBBBBBBBBBBBBBBBBBBBBBBBBBBBBBBBBCBBBBA | BBBBBBBBBBBBBBBBBBBBBBBBBBBBBBA :Original\n",
      "900. Predicted: CCCCCCCCCCC | CCCCCCCCA :Original\n",
      "901. Predicted: HHHHHHHHHHH | HHHHHHHHHA :Original\n",
      "902. Predicted: IIIIIIII | IIIIIIIIIA :Original\n",
      "903. Predicted: GGGJJJJJA | JJJJJJJJJA :Original\n",
      "904. Predicted: DDDDDDDDDDDD | DDDDDDDDDA :Original\n",
      "905. Predicted: AABBBBBBBBBBBBBBBBBBBBBBBBBBBBBBBBBBBBBBBBBBBBBBBBBBBBBBBBBBBBBBBBBBBBBBBBBBBBCCCCCCCC | BBBBBBBBBBBBBBBBBBBBBBBBBBBBBBBBBBBCCCCCCCCCCA :Original\n",
      "906. Predicted: EEEEEEEEEE | EEEEEEEEEEA :Original\n",
      "907. Predicted: FFFFFFFFFFFA | FFFFFFFFFFFA :Original\n",
      "908. Predicted: GMMMJSSSGA | GGGGGGGGGGGGA :Original\n",
      "909. Predicted: DDDDDDDD | DDDDDDDD :Original\n",
      "910. Predicted: BBBBBBBBBBBBBBBBBBBBBBBBBBBBBBBBBBBBBBBBBBBBBBBBBBBBBBBBBBBBBBBBBBBBBBBBBCCCCCCCCCCCCCC | BBBBBBBBBBBBBBBBBBBBBBBBBBBBBBBBCCCCCCCCCCA :Original\n",
      "911. Predicted: EEEEEEEEEEEAA | EEEEEEEEEEEA :Original\n",
      "912. Predicted: HHHHFFFFA | FFFFFFFFFFA :Original\n",
      "913. Predicted: GGGGGGGGGGGA | GGGGGGGGGGGA :Original\n",
      "914. Predicted: DDDDDDDDDDD | DDDDDDDDDD :Original\n",
      "915. Predicted: BBBBBBBBBBBBBBBBBBBBBBBBBBBBBBBCCCCCCCCCCCCCCCC | BBBBBBBBBBBBBBBCCCCCCCCCCCA :Original\n",
      "916. Predicted: KKKKKKKKKKKAAA | KKKKKKKKKKKA :Original\n",
      "917. Predicted: LLLLLLLLL | LLLLLLLLLLA :Original\n",
      "918. Predicted: AMMMMMMMMA | MMMMMMMMMMA :Original\n",
      "919. Predicted: ADDDDDDDDDDDDDDDDDD | DDDDDDDDDDDDD :Original\n",
      "920. Predicted: ABBBBBBBBBBBBBBBBBBBBBBBBBBBBBBBBBBBBBBBBBBBBBBBBBBBBBBBBBBBB | BBBBBBBBBBBBBBBBBBBBBBBBBBBBA :Original\n",
      "921. Predicted: CCCCCCCCCCCCCCCCCC | CCCCCCCCCCCA :Original\n",
      "922. Predicted: KKKKKKKKKKK | KKKKKKKKKKKKKA :Original\n",
      "923. Predicted: AFFFFFFFFFF | LLLLLLLLLLA :Original\n",
      "924. Predicted: MMMMMMMMMMMMMMMAAA | MMMMMMMMMMMMMMA :Original\n",
      "925. Predicted: DDDDDDDDDDDDDD | DDDDDDDDDDD :Original\n",
      "926. Predicted: BBBBBBBBBBBBBBBBBBBBBBBBBBBBBBBBBBBBBBBBBBBBBBBBBBBBBBBBBBBBBBBBBBBBBCCCCCCCCCCCCCCCAA | BBBBBBBBBBBBBBBBBBBBBBBBBBBBBBCCCCCCCCCCA :Original\n",
      "927. Predicted: QQQQQQQQQQQ | QQQQQQQQQQQA :Original\n",
      "928. Predicted: RRRRRRRRRRRRR | RRRRRRRRRRRRA :Original\n",
      "929. Predicted: SSSSSS | SSSSSSSSSSSSSA :Original\n",
      "930. Predicted: DDDDDDDDDDDDD | DDDDDDDDDDD :Original\n",
      "931. Predicted: BBBBBBBBBBBBBBBBBBBBBBBBBBBBBBBBBBBBBBBBBBBBCCCCCCCCCCCCCCCCC | BBBBBBBBBBBBBBBBBBBBBCCCCCCCCCCCCCA :Original\n",
      "932. Predicted: QQQQQQQQQQQQAA | QQQQQQQQQQQQQA :Original\n",
      "933. Predicted: RRRRRRRRRRRRR | RRRRRRRRRRRA :Original\n",
      "934. Predicted: ASSSSSSSSSSSSSSS | SSSSSSSSSSSSSSA :Original\n",
      "935. Predicted: DDDDDDDDDDDDD | DDDDDDDDDD :Original\n",
      "936. Predicted: BBBBBBBBBBBBBBBBBBBBBBBBBBBBBBBBBBBBBBBBBBBBBBBBBBBBBB | BBBBBBBBBBBBBBBBBBBBBBBBBBA :Original\n",
      "937. Predicted: CCCCCCCCCCCC | CCCCCCCCCCA :Original\n",
      "938. Predicted: QQQQQQQQQQQQ | QQQQQQQQQQQA :Original\n",
      "939. Predicted: RRRRRRRRRRRR | RRRRRRRRRRRRA :Original\n",
      "940. Predicted: SSSSSSSSSSSS | SSSSSSSSSSSSA :Original\n",
      "941. Predicted: DDDDDDDDDDDDDDD | DDDDDDDDDDDA :Original\n",
      "942. Predicted: AABBBBBBBBBBBBBBBBBBBBBBBBBBBBBBBBBBBBBBBBBBBBBBBBBBBBBBBBBBB | BBBBBBBBBBBBBBBBBBBBBBBBBBBA :Original\n",
      "943. Predicted: CCCCCCCCCCCA | CCCCCCCCA :Original\n",
      "944. Predicted: AHHHHHHHHHHAAAAA | HHHHHHHHHHHA :Original\n",
      "945. Predicted: IIIIIIIIIIII | IIIIIIIIIIIA :Original\n",
      "946. Predicted: JJJJJJJJJJJAAA | JJJJJJJJJJJA :Original\n",
      "947. Predicted: DDDDDDDDDDDDDDDD | DDDDDDDDDDD :Original\n",
      "948. Predicted: ABBBBBBBBBBBBBBBBBBBBBBBBBBBBBBBBBBBBBBBBBBBBBBBBBBBBBBBBBBBBBBBBBBB | BBBBBBBBBBBBBBBBBBBBBBBBBBBBBBBA :Original\n",
      "949. Predicted: CCCCCCCCCCCAA | CCCCCCCCCA :Original\n",
      "950. Predicted: NNNNNNNN | NNNNNNNNA :Original\n",
      "951. Predicted: OOOOOOOOOOOOO | OOOOOOOOOOOOA :Original\n",
      "952. Predicted: PPPPPPPPPPPPPAA | PPPPPPPPPPPPPA :Original\n",
      "953. Predicted: DDDDDDDDDDDDDDDDA | DDDDDDDDDDDA :Original\n",
      "954. Predicted: BBBBBBBBBBBBBBBBBBBBBBBBBBBBBBBBBBBBBBBCCCCCCCCCCCCCCCCCCCCCC | BBBBBBBBBBBBBBBBBBBBCCCCCCCCCCCCCA :Original\n",
      "955. Predicted: HHHHHHHHH | HHHHHHHHHHA :Original\n",
      "956. Predicted: IIIIIIIIIIIA | IIIIIIIIIIA :Original\n",
      "957. Predicted: JJJJJJJJJJJJJJJAAAA | JJJJJJJJJJJJJA :Original\n",
      "958. Predicted: DDDDDDDDDDDDDDD | DDDDDDDDDDD :Original\n",
      "959. Predicted: BBBBBBBBBBBBBBBBBBBBBBBBBBBBBBBBBBBBBBBBBBBBBBBBBBBBBBBBBBBBBBBBBBCCCCCCCCCCCCCCCCCCC | BBBBBBBBBBBBBBBBBBBBBBBBBBBBBBBBCCCCCCCCCCCCCA :Original\n",
      "960. Predicted: HHHHHHHH | HHHHHHHHA :Original\n",
      "961. Predicted: IIIIIIII | IIIIIIIIIA :Original\n",
      "962. Predicted: JJJJJJJJJJ | JJJJJJJJA :Original\n",
      "963. Predicted: DDDDDDDDD | DDDDDDD :Original\n",
      "964. Predicted: BBBBBBBBBBBBBBBBBBBBBBBBBBBBBBBBBBBBBBBBBBBBBBBBBBBBBBBBBBBBBBBBBBACCCCCCCCCCCCCCCCAAA | BBBBBBBBBBBBBBBBBBBBBBBBBBBBBBCCCCCCCCCCCA :Original\n",
      "965. Predicted: AKKKKKKKKKKKKAA | KKKKKKKKKKKKA :Original\n",
      "966. Predicted: ALLLLLLLLLLLLLAA | LLLLLLLLLLLLLA :Original\n",
      "967. Predicted: MMMMMMMMMMMAAA | MMMMMMMMMMMMA :Original\n",
      "968. Predicted: DDDDDDDDDD | DDDDDDDDD :Original\n",
      "969. Predicted: BBBBBBBBBBBBBBBBBBBBBBBBBBBBBBBBBBBBBBBBBBBBBBBBBBBBBBBBBBBBBBBBBBBBBBBB | BBBBBBBBBBBBBBBBBBBBBBBBBBBBBBBA :Original\n",
      "970. Predicted: CCCCCCCCCCCCC | CCCCCCCCA :Original\n",
      "971. Predicted: KKKKKKKKKKA | KKKKKKKKKKA :Original\n",
      "972. Predicted: LLLLLLLLLL | LLLLLLLLLLA :Original\n",
      "973. Predicted: MMMMMMMMMM | MMMMMMMMMMA :Original\n",
      "974. Predicted: ADDDDDDDDDDDDDDD | DDDDDDDDDDD :Original\n",
      "975. Predicted: BBBBBBBBBBBBBBBBBBBBBBBBBBBBBBBBBBBBBBBBBBBBBBBBBBBBBBBBCCCCCCCCCCCCCCCCCCA | BBBBBBBBBBBBBBBBBBBBBBBBBBBCCCCCCCCCCA :Original\n",
      "976. Predicted: KKKKKKKN | NNNNNNNNNA :Original\n",
      "977. Predicted: OOOOOOOOOOOO | OOOOOOOOOOOOA :Original\n",
      "978. Predicted: SPPSSSSSS | PPPPPPPPPPPPPA :Original\n",
      "979. Predicted: DDDDDDDDDDDDAA | DDDDDDDDDDDA :Original\n",
      "980. Predicted: BBBBBBBBBBBBBBBBBBBBBBBBBBBBBBBBBBBBBBBBBBBBBBBBBBBBBBBBBBBBBBBBBBBBBB | BBBBBBBBBBBBBBBBBBBBBBBBBBBBBBBA :Original\n",
      "981. Predicted: CCCCCCCCCCC | CCCCCCCCCA :Original\n",
      "982. Predicted: HHHHHHHHHAA | HHHHHHHHHHHHHHA :Original\n",
      "983. Predicted: IIIIIIIIIIIIIA | IIIIIIIIIIIIA :Original\n",
      "984. Predicted: AJJJJJJJJJJJJJJAAAAA | JJJJJJJJJJJJJJJJA :Original\n",
      "985. Predicted: DDDDDDDDDDDDDDDD | DDDDDDDDDDDD :Original\n",
      "986. Predicted: ABBBBBBBBBBBBBBBBBBBBBBBBBBBBBBBBBBBBBBBBBBBBB | BBBBBBBBBBBBBBBBBBBBBBA :Original\n",
      "987. Predicted: CCCCCCCCCCCCCCA | CCCCCCCCCCA :Original\n",
      "988. Predicted: QQQQQQQQQQQAAA | QQQQQQQQQQQQA :Original\n",
      "989. Predicted: RRRRRRRRRRRR | RRRRRRRRRRA :Original\n",
      "990. Predicted: ASSSSSSSSSSSSSAAA | SSSSSSSSSSSSSA :Original\n",
      "991. Predicted: DDDDDDDDDDDDDDD | DDDDDDDDDDDA :Original\n",
      "992. Predicted: BBBBBBBBBBBBBBBBBBBBBBBBBBBBBBBBBBBBBBBBBBBBBBBBBBBBBBBBBBBBBBBBBBBBBBBBBBBCCCCCCCCCCCCCC | BBBBBBBBBBBBBBBBBBBBBBBBBBBBBBBBCCCCCCCCCA :Original\n",
      "993. Predicted: QQQQQQQQQQQQQQA | QQQQQQQQQQQQQA :Original\n",
      "994. Predicted: RRRRRRRRRRR | RRRRRRRRRRRA :Original\n",
      "995. Predicted: SSSSSSSSSSSS | SSSSSSSSSSSSA :Original\n",
      "996. Predicted: DDDDDDDDDDDDDDDDDDDDDD | DDDDDDDDDDDDDD :Original\n",
      "997. Predicted: ABBBBBBBBBBBBBBBBBBBBBBBBBBBBBBBBBBBBBBBBBBBBBBBBBBBBBBBBBBBBBBBBBB | BBBBBBBBBBBBBBBBBBBBBBBBBBBBBBBBA :Original\n",
      "998. Predicted: CCCCCCCCCCCCCCC | CCCCCCCCCA :Original\n",
      "999. Predicted: HHHHHHHHH | HHHHHHHHHA :Original\n",
      "1000. Predicted: IIIIIIIII | IIIIIIIIIA :Original\n",
      "1001. Predicted: JJJJJJJJJA | JJJJJJJJJA :Original\n",
      "1002. Predicted: DDDDDDDDDD | DDDDDDDDD :Original\n",
      "1003. Predicted: BBBBBBBBBBBBBBBBBBBBBBBBBBBBBBBBBBBBBBBBBBBBBBBBBBBBBBBBBBBCCCCCCCCCCCC | BBBBBBBBBBBBBBBBBBBBBBBBBBBBCCCCCCCCA :Original\n",
      "1004. Predicted: NNNNNNNNNN | NNNNNNNNNA :Original\n",
      "1005. Predicted: AOOOOOOOOOOOO | OOOOOOOOOOOOOA :Original\n",
      "1006. Predicted: SSSSSSSSSS | PPPPPPPPPPPPA :Original\n",
      "1007. Predicted: DDDDDDDDDD | DDDDDDDDDA :Original\n",
      "1008. Predicted: ABBBBBBBBBBBBBBBBBBBBBBBBBBBBBBBBBBBBBBBBBBBBBBBBBBBBB | BBBBBBBBBBBBBBBBBBBBBBBBBBBBA :Original\n",
      "1009. Predicted: CCCCCCCCCCCCCCCA | CCCCCCCCCCA :Original\n",
      "1010. Predicted: HHHHHHHHHH | HHHHHHHHHHA :Original\n",
      "1011. Predicted: AIIIIIIII | IIIIIIIIIIIA :Original\n",
      "1012. Predicted: JGGGMGM | JJJJJJJJJJA :Original\n",
      "1013. Predicted: DDDDDDDDDDDD | DDDDDDDDDDA :Original\n",
      "1014. Predicted: BBBBBBBBBBBBBBBBBBBBBBBBBBBBBBBBBBBBBBBBBBBBBBBBBBBBBBBBCCCCCCCCCCCCCCCCCCCA | BBBBBBBBBBBBBBBBBBBBBBBBBBBCCCCCCCCCCCA :Original\n",
      "1015. Predicted: HHHHHHHHHHHHAAA | HHHHHHHHHHHHA :Original\n",
      "1016. Predicted: IIIIIIAA | IIIIIIIIIIIIIIIA :Original\n",
      "1017. Predicted: JJJJJJJJJJJJJJJJAAAA | JJJJJJJJJJJJJJJA :Original\n",
      "1018. Predicted: DDDDDDDDDDDDDDDDD | DDDDDDDDDDDDA :Original\n",
      "1019. Predicted: BBBBBBBBBBBBBBBBBBBBBBBBBBBBBBBBBBBBBBBBBBBBBBBBBBBBBBBBBBBBBBBBBBB | BBBBBBBBBBBBBBBBBBBBBBBBBBBBBA :Original\n",
      "1020. Predicted: CCCCCCCCCCCCCCCC | CCCCCCCCCCA :Original\n",
      "1021. Predicted: EEEEEEEEEE | EEEEEEEEEEEEEA :Original\n",
      "1022. Predicted: QOOOIFII | FFFFFFFFFFA :Original\n",
      "1023. Predicted: GGGGGGGGS | GGGGGGGGGGA :Original\n",
      "1024. Predicted: DDDDDDDDDDDDDDDDDDDDDD | DDDDDDDDDDDDDD :Original\n",
      "1025. Predicted: BBBBBBBBBBBBBBBBBBBBBBBBBBBBBBBBBBBBBBBBBBBBBBBBBBBBBBBBBBBBBBCCCCCCCCCCCCCCCCCC | BBBBBBBBBBBBBBBBBBBBBBBBBBBBBBCCCCCCCCCCA :Original\n",
      "1026. Predicted: KKKKKKKKKK | KKKKKKKKKKA :Original\n",
      "1027. Predicted: ARRRRRRRLLL | LLLLLLLLLLLA :Original\n",
      "1028. Predicted: MMMMMMMMMMM | MMMMMMMMMMMA :Original\n",
      "1029. Predicted: ADDDDDDDDDDDDDD | DDDDDDDDDDDA :Original\n",
      "1030. Predicted: BBBBBBBBBBBBBBBBBBBBBBBBBBBBBBBBBBBBBBBBBBBBBBBBBBBBBBBBBBBBBBBBBBBBBCCCCCCCCCCCCCCCCAAAA | BBBBBBBBBBBBBBBBBBBBBBBBBBBBBBCCCCCCCCCCCCA :Original\n",
      "1031. Predicted: HHHHHHHHHHHHA | HHHHHHHHHHHHA :Original\n",
      "1032. Predicted: IIIIIIIIIIIIAAA | IIIIIIIIIIIIA :Original\n",
      "1033. Predicted: JJJJJJJJJJJJJAA | JJJJJJJJJJJJA :Original\n",
      "1034. Predicted: DDDDDDDDDDDDDD | DDDDDDDDDDD :Original\n",
      "1035. Predicted: ABBBBBBBBBBBBBBBBBBBBBBBBBBBBBBBBBBBBBBBBBBBBBBBBBBBBBBBBBCCCCCCC | BBBBBBBBBBBBBBBBBBBBBBBBBBBBBBBBCCCCCCCCCCA :Original\n",
      "1036. Predicted: EEEEEEEEEE | EEEEEEEEEEA :Original\n",
      "1037. Predicted: FFFFFFFFFFFFFF | FFFFFFFFFFFFFFA :Original\n",
      "1038. Predicted: GGGGGGGGGGGG | GGGGGGGGGGGA :Original\n",
      "1039. Predicted: ADDDDDDDDDDDDDD | DDDDDDDDDDDA :Original\n",
      "1040. Predicted: BBBBBBBBBBBBBBBBBBBBBBBBBBBBBBBBBBBBBBBBBBBBBBBBBBBBBBBBBBBB | BBBBBBBBBBBBBBBBBBBBBBBBBBBBA :Original\n",
      "1041. Predicted: CCCCCCCCC | CCCCCCCCA :Original\n",
      "1042. Predicted: KKKKKKK | KKKKKKKKKA :Original\n",
      "1043. Predicted: LLLLLLLLLLL | LLLLLLLLLLLA :Original\n",
      "1044. Predicted: MMMMMMMMM | MMMMMMMMMA :Original\n",
      "1045. Predicted: DDDDDDDDDDDDDDA | DDDDDDDDDDA :Original\n",
      "1046. Predicted: BBBBBBBBBBBBBBBBBBBBBBBBBBBBBBBBBBBBB | BBBBBBBBBBBBBBBBA :Original\n",
      "1047. Predicted: CCCCCCCCCCCCCCCCC | CCCCCCCCCCA :Original\n",
      "1048. Predicted: HKKKKKKK | KKKKKKKKKKA :Original\n",
      "1049. Predicted: LILLLLL | LLLLLLLLLA :Original\n",
      "1050. Predicted: JJJJJJJJ | MMMMMMMMMMA :Original\n",
      "1051. Predicted: DDDDDDDDDDDDDDD | DDDDDDDDDDDA :Original\n",
      "1052. Predicted: AABBBBBBBBBBBBBBBBBBBBBBBBBBBBBBBBBBBBBBBBBBBBBBBBBBBBBBBBBBBBBBBBCCCCCCCCC | BBBBBBBBBBBBBBBBBBBBBBBBBBBBBBBBBCCCCCCCCCCCA :Original\n",
      "1053. Predicted: HEEEEEEEE | EEEEEEEEEEA :Original\n",
      "1054. Predicted: FFFFFFFFFFF | FFFFFFFFFFA :Original\n",
      "1055. Predicted: GGGGGGGGGG | GGGGGGGGGGGA :Original\n",
      "1056. Predicted: DDDDDDD | DDDDDD :Original\n",
      "1057. Predicted: BBBBBBBBBBBBBBBBBBBBBBBBBBBBBBBBBBBBBBBBBBBBBBBBBBBBBBBBBA | BBBBBBBBBBBBBBBBBBBBBBBBBBBBBBBBBA :Original\n",
      "1058. Predicted: CCCCCCCCCCA | CCCCCCCCCA :Original\n",
      "1059. Predicted: HHHHHHHHHHH | HHHHHHHHHA :Original\n",
      "1060. Predicted: AIIIIIIIIII | IIIIIIIIIIA :Original\n",
      "1061. Predicted: JJJJJJJJJA | JJJJJJJJJA :Original\n",
      "1062. Predicted: DDDDDDDDDDDDD | DDDDDDDDDA :Original\n",
      "1063. Predicted: BBBBBBBBBBBBBBBBBBBBBBBBBBBBBBBBBBBBBBBBBBBBBBBBBBBB | BBBBBBBBBBBBBBBBBBBBBBBBBA :Original\n",
      "1064. Predicted: CCCCCCCCCC | CCCCCCCCCA :Original\n",
      "1065. Predicted: KKKKKKKKKHKAA | KKKKKKKKKKA :Original\n",
      "1066. Predicted: LLLLLLLLLLLL | LLLLLLLLLLA :Original\n",
      "1067. Predicted: MMMMMMMMMMM | MMMMMMMMMMA :Original\n",
      "1068. Predicted: DDDDDDDDDDDDDDD | DDDDDDDDDDDA :Original\n",
      "1069. Predicted: BBBBBBBBBBBBBBBBBBBBBBBBBBBBBBBBBBBBBBBBBBBBBBBBBBBBBBBBBBBBBBBBBBBBBBBA | BBBBBBBBBBBBBBBBBBBBBBBBBBBBBBA :Original\n",
      "1070. Predicted: CCCCCCCCCCCCAAA | CCCCCCCCCCCA :Original\n",
      "1071. Predicted: AHHHHHHHHHHAA | HHHHHHHHHHHHA :Original\n",
      "1072. Predicted: IIIIIFFFIFF | IIIIIIIIIIIIA :Original\n",
      "1073. Predicted: JJJJJJJJJJJJJAAAA | JJJJJJJJJJJJJA :Original\n",
      "1074. Predicted: ADDDDDDDDDDDDDDD | DDDDDDDDDDDA :Original\n",
      "1075. Predicted: BBBBBBBBBBBBBBBBBBBBBBCCCCCCCCCCCC | BBBBBBBBBBBBBBCCCCCCCCCCCCA :Original\n",
      "1076. Predicted: NNOOOOOOOOOAAA | NNNNNNNNNNNNA :Original\n",
      "1077. Predicted: OOOOOOOOOO | OOOOOOOOOOA :Original\n",
      "1078. Predicted: PPPPPPPPPPPPPP | PPPPPPPPPPPPPPPA :Original\n",
      "1079. Predicted: DDDDDDDDDDDDDDD | DDDDDDDDDDDD :Original\n",
      "1080. Predicted: AAAABBBBBBBBBBBBBBBBBBBBBBBBBBBBBBBBBBBBBBBBBBBBBBBBBBBBBBBBBBBB | BBBBBBBBBBBBBBBBBBBBBBBBBBBA :Original\n",
      "1081. Predicted: CCCCCCCCCCCCCCA | CCCCCCCCCCCCCCCA :Original\n",
      "1082. Predicted: HHHHHHHHHA | NNNNNNNNNNA :Original\n",
      "1083. Predicted: AOOOOOOOOOAA | OOOOOOOOOOOA :Original\n",
      "1084. Predicted: MMMMMMMMMMMMAAAA | PPPPPPPPPPPPPA :Original\n",
      "1085. Predicted: ADDDDDDDDDDDD | DDDDDDDDDD :Original\n",
      "1086. Predicted: ABBBBBBBBBBBBBBBBBBBBBBBBBBBBBBBBBBBBBBBBBBBBBBBBBBBBBBBBBBBBBBBBBBBBBBBB | BBBBBBBBBBBBBBBBBBBBBBBBBBBBBBBBBA :Original\n",
      "1087. Predicted: CCCCCCCC | CCCCCCCA :Original\n",
      "1088. Predicted: QQQQQQQQQQQAA | QQQQQQQQQQQA :Original\n",
      "1089. Predicted: RRRRRRRRRRRRR | RRRRRRRRRRRA :Original\n",
      "1090. Predicted: SSSSSSSSSSSSSSA | SSSSSSSSSSSSSA :Original\n",
      "1091. Predicted: ADDDDDDDDDDDDD | DDDDDDDDDDD :Original\n",
      "1092. Predicted: ABBBBBBBBBBBBBBBBBBBBBBBBBBBBBBBBBBBBBBBBBBBBBBBBBBBBBBBBBBBBBBBBBCCCCCCCCCCCCCCCCCCAA | BBBBBBBBBBBBBBBBBBBBBBBBBBBBBBBCCCCCCCCCCCA :Original\n",
      "1093. Predicted: KKKKKKKKKKAA | KKKKKKKKKKA :Original\n",
      "1094. Predicted: LLLLLLLL | LLLLLLLLLA :Original\n",
      "1095. Predicted: MMMMMMMMMMAA | MMMMMMMMMMA :Original\n",
      "1096. Predicted: ADDDDDDDDDDDD | DDDDDDDDDD :Original\n",
      "1097. Predicted: ABBBBBBBBBBBBBBBBBBBBBBBBBBBBBBBBBBBBBBBBBBBBBBBBBBBBBBBBBBBBBBBBBBBBBBBBB | BBBBBBBBBBBBBBBBBBBBBBBBBBBBBBBBBA :Original\n",
      "1098. Predicted: CCCCCCCCCCA | CCCCCCCCCA :Original\n",
      "1099. Predicted: EEEEEEEEEEEAA | EEEEEEEEEEA :Original\n",
      "1100. Predicted: FFFFFFFFF | FFFFFFFFFFA :Original\n",
      "1101. Predicted: GGGGGGGGGGA | GGGGGGGGGGGA :Original\n",
      "1102. Predicted: DDDDDDDD | DDDDDDD :Original\n",
      "1103. Predicted: ABBBBBBBBBBBBBBBBBBBBBBBBBBBBBBBBBBBBBBBBBBBBBBBBBBBBBBBBBBBBBBBBBBBBBB | BBBBBBBBBBBBBBBBBBBBBBBBBBBBBBBBA :Original\n",
      "1104. Predicted: CCCCCCCCCCCCCCC | CCCCCCCCCCA :Original\n",
      "1105. Predicted: HHHHHHHHHHA | HHHHHHHHHHA :Original\n",
      "1106. Predicted: IIIIIIIIIIA | IIIIIIIIIA :Original\n",
      "1107. Predicted: JJJJJJJJJJA | JJJJJJJJJA :Original\n",
      "1108. Predicted: DDDDDDDDD | DDDDDDDDD :Original\n",
      "1109. Predicted: AABBBBBBBBBBBBBBBBBBBBBBBBBBBBBBBBBBBBBBBBBBBBBBBBBBBBBBBBBBBBA | BBBBBBBBBBBBBBBBBBBBBBBBBBBBBA :Original\n",
      "1110. Predicted: CCCCCCCCCCCCCCCC | CCCCCCCCCCCA :Original\n",
      "1111. Predicted: ANNNNNNNNN | NNNNNNNNNNA :Original\n",
      "1112. Predicted: AIIOIIIIOO | OOOOOOOOOOOA :Original\n",
      "1113. Predicted: PPPPPPPPPPPPA | PPPPPPPPPPPPA :Original\n",
      "1114. Predicted: DDDDDDDDDDDDDDDDD | DDDDDDDDDDDA :Original\n"
     ]
    }
   ],
   "source": [
    "for idx in range(len(ctc_ts3)):\n",
    "#     print(idx)\n",
    "#     if max(Counter(pred_labels[idx]), key=Counter(pred_labels[idx]).get) != max(Counter(ctc_ts3[idx]), key=Counter(ctc_ts3[idx]).get):\n",
    "    print(str(idx+1) + '. Predicted: ' + pred_labels[idx] + ' | ' + ctc_ts3[idx] + ' :Original')"
   ]
  },
  {
   "cell_type": "code",
   "execution_count": 83,
   "metadata": {},
   "outputs": [],
   "source": [
    "from collections import Counter\n",
    "mode_orig = [max(Counter(y), key=Counter(y).get) for y in ctc_ts3]\n",
    "mode_pred = [max(Counter(y), key=Counter(y).get) if len(y) != 0 else 'A' for y in pred_labels]"
   ]
  },
  {
   "cell_type": "code",
   "execution_count": 262,
   "metadata": {},
   "outputs": [
    {
     "data": {
      "text/plain": [
       "93.53680430879713"
      ]
     },
     "execution_count": 262,
     "metadata": {},
     "output_type": "execute_result"
    }
   ],
   "source": [
    "cmp = [mode_pred[i] == mode_orig[i] for i in range(len(ctc_ts3)) if len(mode_pred[i]) != 0]\n",
    "# cmp = ctc_ts4 == pred_labels\n",
    "trues = np.sum(cmp)\n",
    "acc = trues/len(cmp)*100\n",
    "acc # was 71 with 8 16 32 64, 77 with 8 16 32 64 64, 74 with 8 16 32 64 64 64"
   ]
  },
  {
   "cell_type": "markdown",
   "metadata": {},
   "source": [
    "# save"
   ]
  },
  {
   "cell_type": "code",
   "execution_count": 62,
   "metadata": {},
   "outputs": [
    {
     "name": "stdout",
     "output_type": "stream",
     "text": [
      "results/grnd_stalta.pkl created.\n"
     ]
    }
   ],
   "source": [
    "# save orig stalta\n",
    "filename = 'results/grnd_stalta.pkl'\n",
    "with open(filename, 'wb') as output:  # Overwrites any existing file.\n",
    "        pickle.dump(mode_orig, output, pickle.HIGHEST_PROTOCOL)\n",
    "print(filename+' created.')"
   ]
  },
  {
   "cell_type": "code",
   "execution_count": 63,
   "metadata": {},
   "outputs": [
    {
     "name": "stdout",
     "output_type": "stream",
     "text": [
      "results/pred_stalta.pkl created.\n"
     ]
    }
   ],
   "source": [
    "# save pred stalta\n",
    "filename = 'results/pred_stalta.pkl'\n",
    "with open(filename, 'wb') as output:  # Overwrites any existing file.\n",
    "        pickle.dump(mode_pred, output, pickle.HIGHEST_PROTOCOL)\n",
    "print(filename+' created.')"
   ]
  },
  {
   "cell_type": "code",
   "execution_count": 85,
   "metadata": {},
   "outputs": [
    {
     "name": "stdout",
     "output_type": "stream",
     "text": [
      "results/grnd_ideal.pkl created.\n"
     ]
    }
   ],
   "source": [
    "# save orig ideal\n",
    "filename = 'results/grnd_ideal.pkl'\n",
    "with open(filename, 'wb') as output:  # Overwrites any existing file.\n",
    "        pickle.dump(mode_orig, output, pickle.HIGHEST_PROTOCOL)\n",
    "print(filename+' created.')"
   ]
  },
  {
   "cell_type": "code",
   "execution_count": 86,
   "metadata": {},
   "outputs": [
    {
     "name": "stdout",
     "output_type": "stream",
     "text": [
      "results/pred_ideal.pkl created.\n"
     ]
    }
   ],
   "source": [
    "# save pred ideal\n",
    "filename = 'results/pred_ideal.pkl'\n",
    "with open(filename, 'wb') as output:  # Overwrites any existing file.\n",
    "        pickle.dump(mode_pred, output, pickle.HIGHEST_PROTOCOL)\n",
    "print(filename+' created.')"
   ]
  },
  {
   "cell_type": "markdown",
   "metadata": {},
   "source": [
    "# comparison"
   ]
  },
  {
   "cell_type": "code",
   "execution_count": 186,
   "metadata": {},
   "outputs": [
    {
     "name": "stdout",
     "output_type": "stream",
     "text": [
      "1164\n",
      "1114\n"
     ]
    }
   ],
   "source": [
    "filename = 'results/grnd_stalta.pkl'\n",
    "with open(filename, 'rb') as input:\n",
    "    grnd_sta = pickle.load(input)\n",
    "filename = 'results/pred_stalta.pkl'\n",
    "with open(filename, 'rb') as input:\n",
    "    pred_sta = pickle.load(input)\n",
    "print(len(grnd_sta))\n",
    "filename = 'results/grnd_ideal.pkl'\n",
    "with open(filename, 'rb') as input:\n",
    "    grnd_ideal = pickle.load(input)\n",
    "filename = 'results/pred_ideal.pkl'\n",
    "with open(filename, 'rb') as input:\n",
    "    pred_ideal = pickle.load(input)\n",
    "print(len(pred_ideal))"
   ]
  },
  {
   "cell_type": "code",
   "execution_count": 264,
   "metadata": {},
   "outputs": [
    {
     "data": {
      "text/plain": [
       "87.52166965888689"
      ]
     },
     "execution_count": 264,
     "metadata": {},
     "output_type": "execute_result"
    }
   ],
   "source": [
    "acc2 = 92.01 - (len(grnd_sta) - len(grnd_ideal))/len(grnd_ideal)*100\n",
    "acc2"
   ]
  },
  {
   "cell_type": "code",
   "execution_count": 94,
   "metadata": {},
   "outputs": [
    {
     "name": "stdout",
     "output_type": "stream",
     "text": [
      "GRND:\n",
      "['B', 'C', 'K', 'K', 'L', 'M', 'D', 'B', 'C', 'E', 'F', 'G', 'D', 'B', 'K', 'L', 'B', 'B', 'C', 'E']\n",
      "['B', 'K', 'L', 'M', 'D', 'B', 'E', 'F', 'G', 'D', 'B', 'K', 'L', 'M', 'D', 'B', 'C', 'E', 'F', 'G']\n",
      "PRED:\n",
      "['B', 'C', 'K', 'K', 'L', 'M', 'D', 'B', 'C', 'E', 'F', 'G', 'D', 'B', 'K', 'L', 'B', 'B', 'C', 'E']\n",
      "['B', 'K', 'L', 'M', 'D', 'B', 'E', 'F', 'G', 'D', 'B', 'K', 'L', 'M', 'D', 'B', 'C', 'E', 'F', 'G']\n"
     ]
    }
   ],
   "source": [
    "print('GRND:')\n",
    "print(grnd_sta[:20])\n",
    "print(grnd_ideal[:20])\n",
    "print('PRED:')\n",
    "print(pred_sta[:20])\n",
    "print(pred_ideal[:20])"
   ]
  },
  {
   "cell_type": "code",
   "execution_count": 103,
   "metadata": {},
   "outputs": [
    {
     "data": {
      "text/plain": [
       "(200, 120, 19)"
      ]
     },
     "execution_count": 103,
     "metadata": {},
     "output_type": "execute_result"
    }
   ],
   "source": [
    "imit_y_test.shape"
   ]
  },
  {
   "cell_type": "code",
   "execution_count": 228,
   "metadata": {},
   "outputs": [],
   "source": [
    "def masker2(x, y, mask):\n",
    "    x2 = []\n",
    "    y2 = []\n",
    "    flag = 0\n",
    "    nums = np.zeros((len(mask),))\n",
    "    for i in range(len(mask)):\n",
    "        for j in range(mask.shape[1]):\n",
    "            if flag == 0 and mask[i,j] == 0:\n",
    "                continue\n",
    "            if flag == 1 and mask[i,j] == 1:\n",
    "                if j == mask.shape[1]-1 and j+1 - startpt > 2:\n",
    "                    stoppt = j+1\n",
    "                    x2.append(x[i,startpt:stoppt])\n",
    "                    y2.append(y[i,startpt:stoppt])\n",
    "                    nums[i] += 1\n",
    "                else:\n",
    "                    continue\n",
    "            if flag == 0 and mask[i,j] == 1:\n",
    "                flag = 1\n",
    "                startpt = j\n",
    "            if flag == 1 and mask[i,j] == 0:\n",
    "                flag = 0\n",
    "                stoppt = j+1\n",
    "                if stoppt-startpt > 2:\n",
    "                    x2.append(x[i,startpt:stoppt])\n",
    "                    y2.append(y[i,startpt:stoppt])\n",
    "                    nums[i] += 1\n",
    "    \n",
    "    x2 = np.asarray(x2)\n",
    "    y2 = np.array([to_categorical(y,num_classes=num_class) for y in np.array(y2)])\n",
    "    return x2, y2, nums"
   ]
  },
  {
   "cell_type": "code",
   "execution_count": 231,
   "metadata": {
    "collapsed": true
   },
   "outputs": [
    {
     "name": "stdout",
     "output_type": "stream",
     "text": [
      "200\n",
      "1190.0\n",
      "[7. 6. 4. 6. 7. 7. 5. 5. 7. 5. 6. 5. 7. 6. 7. 4. 6. 6. 5. 6. 6. 5. 5. 6.\n",
      " 7. 6. 8. 5. 7. 6. 5. 6. 7. 6. 6. 5. 6. 7. 5. 6. 5. 5. 6. 7. 6. 9. 3. 6.\n",
      " 6. 7. 7. 5. 5. 6. 7. 7. 7. 5. 8. 5. 7. 6. 7. 5. 7. 7. 5. 5. 6. 5. 7. 6.\n",
      " 7. 6. 6. 5. 5. 6. 6. 6. 4. 6. 6. 6. 5. 8. 7. 5. 6. 4. 8. 7. 4. 6. 6. 7.\n",
      " 5. 5. 6. 6. 7. 8. 6. 7. 6. 5. 5. 6. 5. 7. 5. 6. 7. 7. 5. 7. 6. 5. 6. 7.\n",
      " 6. 6. 6. 7. 6. 6. 6. 7. 5. 6. 6. 5. 6. 7. 5. 6. 5. 6. 6. 7. 5. 7. 6. 5.\n",
      " 5. 5. 6. 5. 7. 7. 6. 6. 6. 6. 7. 6. 6. 7. 7. 6. 5. 7. 4. 5. 5. 5. 7. 6.\n",
      " 6. 7. 5. 4. 5. 6. 6. 5. 7. 6. 7. 6. 5. 6. 6. 4. 5. 6. 6. 7. 5. 7. 5. 6.\n",
      " 8. 5. 6. 6. 5. 6. 6. 6.]\n"
     ]
    }
   ],
   "source": [
    "x3test, y3test, nums = masker2(imit_test_images, np.argmax(y_down_test,-1), mask_down_test) \n",
    "print(len(nums))\n",
    "print(sum(nums))\n",
    "print(nums)"
   ]
  },
  {
   "cell_type": "code",
   "execution_count": 207,
   "metadata": {},
   "outputs": [
    {
     "data": {
      "text/plain": [
       "(200, 120, 19)"
      ]
     },
     "execution_count": 207,
     "metadata": {},
     "output_type": "execute_result"
    }
   ],
   "source": [
    "y_down_test.shape"
   ]
  },
  {
   "cell_type": "code",
   "execution_count": 232,
   "metadata": {},
   "outputs": [],
   "source": [
    "def mask_counter(mask):\n",
    "    \n",
    "    nums = np.zeros((len(mask)))\n",
    "    flag = 0\n",
    "    for i in range(len(mask)):\n",
    "        for j in range(mask.shape[1]):\n",
    "            if flag == 0 and mask[i,j] == 0:\n",
    "                continue\n",
    "            if flag == 1 and mask[i,j] == 1:\n",
    "                if j == mask.shape[1]-1 and j+1 - startpt > 2:\n",
    "                    stoppt = j+1\n",
    "                    if stats.mode(np.argmax(y_down_test,-1)[i,startpt:stoppt])[0] != 0:\n",
    "                        nums[i] += 1\n",
    "                else:\n",
    "                    continue\n",
    "            if flag == 0 and mask[i,j] == 1:\n",
    "                startpt = j\n",
    "                flag = 1\n",
    "            if flag == 1 and mask[i,j] == 0:\n",
    "                flag = 0\n",
    "                stoppt = j+1\n",
    "                if stoppt-startpt > 2 and stats.mode(np.argmax(y_down_test,-1)[i,startpt:stoppt])[0] != 0:\n",
    "                    nums[i] += 1\n",
    "    return nums    "
   ]
  },
  {
   "cell_type": "code",
   "execution_count": 235,
   "metadata": {},
   "outputs": [
    {
     "name": "stdout",
     "output_type": "stream",
     "text": [
      "(200, 120)\n",
      "(200, 120)\n",
      "1114\n",
      "1164\n"
     ]
    }
   ],
   "source": [
    "print(mask_ts_ideal.shape)\n",
    "# mask_down_test2 = np.array([mask_down_test[i] for i in range(len(y3test)) if stats.mode(np.argmax(y3test[i],-1))[0] != 0])\n",
    "print(mask_down_test.shape)\n",
    "nums_ideal = mask_counter(mask_ts_ideal).astype('int64')\n",
    "nums_sta = mask_counter(mask_down_test).astype('int64')\n",
    "print(sum(nums_ideal))\n",
    "print(sum(nums_sta))"
   ]
  },
  {
   "cell_type": "code",
   "execution_count": 244,
   "metadata": {},
   "outputs": [
    {
     "data": {
      "text/plain": [
       "(200,)"
      ]
     },
     "execution_count": 244,
     "metadata": {},
     "output_type": "execute_result"
    }
   ],
   "source": [
    "orig_grounds = []\n",
    "cnt = 0\n",
    "for i in range(len(nums_ideal)):\n",
    "    orig_grounds.append(grnd_ideal[cnt:cnt+nums_ideal[i]])\n",
    "    cnt += nums_ideal[i]\n",
    "orig_grounds = np.array(orig_grounds)\n",
    "orig_grounds.shape\n",
    "\n",
    "sta_pred = []\n",
    "cnt = 0\n",
    "for i in range(len(nums_sta)):\n",
    "    sta_pred.append(pred_sta[cnt:cnt+nums_sta[i]])\n",
    "    cnt += nums_sta[i]\n",
    "sta_pred = np.array(sta_pred)\n",
    "sta_pred.shape"
   ]
  },
  {
   "cell_type": "code",
   "execution_count": 248,
   "metadata": {},
   "outputs": [],
   "source": [
    "import editdistance"
   ]
  },
  {
   "cell_type": "code",
   "execution_count": 261,
   "metadata": {},
   "outputs": [
    {
     "name": "stdout",
     "output_type": "stream",
     "text": [
      "['B', 'B', 'C', 'N', 'A', 'A', 'J', 'D']\n",
      "['B', 'C', 'H', 'I', 'J', 'D']\n"
     ]
    },
    {
     "data": {
      "text/plain": [
       "4"
      ]
     },
     "execution_count": 261,
     "metadata": {},
     "output_type": "execute_result"
    }
   ],
   "source": [
    "idx = -8\n",
    "print(sta_pred[idx])\n",
    "print(orig_grounds[idx])\n",
    "editdistance.eval(sta_pred[idx],orig_grounds[idx])"
   ]
  },
  {
   "cell_type": "code",
   "execution_count": 258,
   "metadata": {},
   "outputs": [
    {
     "data": {
      "text/plain": [
       "-72.0"
      ]
     },
     "execution_count": 258,
     "metadata": {},
     "output_type": "execute_result"
    }
   ],
   "source": [
    "edit_dists = np.array([editdistance.eval(sta_pred[i],orig_grounds[i]) for i in range(len(nums_ideal))])\n",
    "acc = sum(edit_dists)/len(mask_ts_ideal)*100\n",
    "acc"
   ]
  },
  {
   "cell_type": "code",
   "execution_count": 259,
   "metadata": {},
   "outputs": [
    {
     "data": {
      "text/plain": [
       "array([2, 1, 2, 3, 1, 1, 2, 2, 4, 1, 1, 0, 1, 0, 2, 2, 0, 0, 2, 1, 1, 0,\n",
       "       1, 2, 3, 0, 2, 1, 2, 0, 1, 1, 1, 1, 0, 1, 1, 1, 1, 0, 1, 1, 0, 1,\n",
       "       0, 3, 3, 0, 1, 0, 4, 2, 2, 1, 1, 1, 3, 1, 1, 1, 1, 1, 2, 2, 2, 2,\n",
       "       2, 1, 3, 0, 1, 3, 1, 1, 2, 1, 1, 3, 0, 1, 2, 2, 1, 0, 1, 4, 2, 1,\n",
       "       0, 2, 1, 1, 2, 1, 0, 1, 2, 0, 2, 0, 1, 2, 0, 3, 1, 2, 3, 2, 1, 2,\n",
       "       0, 0, 2, 1, 2, 2, 1, 1, 0, 1, 1, 0, 1, 2, 2, 0, 2, 4, 1, 1, 1, 1,\n",
       "       0, 2, 1, 0, 0, 1, 4, 1, 0, 2, 1, 1, 2, 0, 0, 1, 1, 2, 1, 2, 1, 1,\n",
       "       1, 0, 1, 1, 4, 0, 0, 1, 2, 0, 0, 2, 2, 1, 0, 1, 1, 1, 1, 1, 0, 1,\n",
       "       3, 0, 2, 0, 1, 1, 0, 3, 1, 1, 1, 1, 2, 2, 1, 0, 4, 1, 2, 0, 0, 0,\n",
       "       0, 0])"
      ]
     },
     "execution_count": 259,
     "metadata": {},
     "output_type": "execute_result"
    }
   ],
   "source": [
    "edit_dists"
   ]
  },
  {
   "cell_type": "code",
   "execution_count": 260,
   "metadata": {},
   "outputs": [
    {
     "data": {
      "text/plain": [
       "244"
      ]
     },
     "execution_count": 260,
     "metadata": {},
     "output_type": "execute_result"
    }
   ],
   "source": [
    "sum(edit_dists)"
   ]
  },
  {
   "cell_type": "code",
   "execution_count": 267,
   "metadata": {},
   "outputs": [
    {
     "data": {
      "text/plain": [
       "243"
      ]
     },
     "execution_count": 267,
     "metadata": {},
     "output_type": "execute_result"
    }
   ],
   "source": [
    "editdistance.eval(grnd_ideal,pred_sta)"
   ]
  },
  {
   "cell_type": "code",
   "execution_count": null,
   "metadata": {},
   "outputs": [],
   "source": []
  },
  {
   "cell_type": "code",
   "execution_count": null,
   "metadata": {},
   "outputs": [],
   "source": []
  }
 ],
 "metadata": {
  "kernelspec": {
   "display_name": "Python 3",
   "language": "python",
   "name": "python3"
  },
  "language_info": {
   "codemirror_mode": {
    "name": "ipython",
    "version": 3
   },
   "file_extension": ".py",
   "mimetype": "text/x-python",
   "name": "python",
   "nbconvert_exporter": "python",
   "pygments_lexer": "ipython3",
   "version": "3.7.2"
  }
 },
 "nbformat": 4,
 "nbformat_minor": 2
}
